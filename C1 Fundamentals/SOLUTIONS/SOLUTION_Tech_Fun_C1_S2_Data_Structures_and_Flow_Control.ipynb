{
  "nbformat": 4,
  "nbformat_minor": 0,
  "metadata": {
    "colab": {
      "name": "SOLUTION Tech Fun C1 S2 Data Structures and Flow Control.ipynb",
      "provenance": [],
      "collapsed_sections": [
        "RD91i4Vifv_e",
        "69hpUJVXXc-z",
        "nzkuzUEZYJvz",
        "s18dpgwXXc-5",
        "KSkW8MdzXc-6",
        "P35MtlkWXc-8",
        "KOfJ5yzRhGHi",
        "kJs4rYWpjJOc",
        "HR2cnkE8iyKM",
        "gVhxNg2-1EWb",
        "hdPl2XGJnicH",
        "156cmnxSXc_E",
        "0BgcoLYoXc_J",
        "Tu6PGx16pOgP",
        "D2SpXAEWXc_J",
        "SiBb7ZKNkCzI"
      ],
      "toc_visible": true,
      "authorship_tag": "ABX9TyN/9qQvn45YbSahniVezZVk",
      "include_colab_link": true
    },
    "kernelspec": {
      "name": "python3",
      "display_name": "Python 3"
    },
    "language_info": {
      "name": "python"
    }
  },
  "cells": [
    {
      "cell_type": "markdown",
      "metadata": {
        "id": "view-in-github",
        "colab_type": "text"
      },
      "source": [
        "<a href=\"https://colab.research.google.com/github/wesleybeckner/technology_fundamentals/blob/main/C1%20Fundamentals/SOLUTIONS/SOLUTION_Tech_Fun_C1_S2_Data_Structures_and_Flow_Control.ipynb\" target=\"_parent\"><img src=\"https://colab.research.google.com/assets/colab-badge.svg\" alt=\"Open In Colab\"/></a>"
      ]
    },
    {
      "cell_type": "markdown",
      "metadata": {
        "id": "sJCptL9sXc-P"
      },
      "source": [
        "# Technology Fundamentals Course 1, Session 2: Lists, Dictionaries, and Flow Control\n",
        "\n",
        "**Instructor**: Wesley Beckner\n",
        "\n",
        "**Contact**: wesleybeckner@gmail.com\n",
        "\n",
        "**Teaching Assitants** Varsha Bang, Harsha Vardhan\n",
        "\n",
        "**Contact** vbang@uw.edu, harshav@uw.edu\n",
        "\n",
        "<br>\n",
        "\n",
        "---\n",
        "\n",
        "<br>\n",
        "\n",
        "\n",
        "In this session, we will review basic variables and introduce lists and dictionaries as new variable types, or data structures.  We will close with seeing conditional execution and functions.  Hang on for the ride!\n",
        "\n",
        "Normally, a notebook begins with `import` statements that _import_ packages or libraries that do a lot of heavy lifting for us.  We'll get to that later.\n",
        "\n",
        "<br>\n",
        "\n",
        "---"
      ]
    },
    {
      "cell_type": "markdown",
      "metadata": {
        "id": "Xzga45pFXc-b"
      },
      "source": [
        "## 2.0 A quick review from last session\n",
        "\n",
        "Recall, we discussed **_variables_** and **_comments_**."
      ]
    },
    {
      "cell_type": "markdown",
      "metadata": {
        "id": "dVEKBrlFXc-c"
      },
      "source": [
        "### 2.0.1 A quick review of variables\n",
        "\n",
        "Variables are human names we give data objects in our code.  Variables in Python should be named using appropriately descriptions of their purpose.  By convention, most variable names are `lower case` and may optionally contain the underscore character ('`_`'). So far, you've only seen examples of functions and variables in Python, but eventually you will encounter all the types of python objects in this table!\n",
        "\n",
        "| Type  | Naming Convention | Examples |\n",
        "|:---:|:---|:---|\n",
        "| **Function** | Use a lowercase word or words. Separate words by underscores to improve readability. | `function, my_function`|\n",
        "| **Variable** |  Use a lowercase single letter, word, or words. Separate words with underscores to improve readability. | `x, var, my_variable` |\n",
        "| Class | Start each word with a capital letter. Do not separate words with underscores. This style is called camel case. | `Model, MyClass` |\n",
        "| Method | Use a lowercase word or words. Separate words with underscores to improve readability. | `class_method, method` |\n",
        "| Constant | Use an uppercase single letter, word or words. Separate words with underscores to improve readability. | `CONSTANT, MY_CONSTANT, MY_LONG_CONSTANT` |\n",
        "| Module | Use a short, lowercase word or words. Separate words with underscores to improve readability. | `module.py, my_module.py` |\n",
        "| Package | Use a short, lowercase word or words. Do not separate words with underscores. | `package, mypackage` |\n",
        "\n",
        "Some names you might want to use are off-limits because they are **_reserved words_**, meaning they are words in Python that have special meaning. \n",
        "\n",
        "Examples of _reserved words_ that you should not use as variable names are in the table below.  The ones in __bold__ are ones we will use in the session today.  Remember, these can't be used as variable names!\n",
        "\n",
        "|  |  |  |  |  |  |  |\n",
        "|:---:|:---:|:---:|:---:|:---:|:---:|:---:|\n",
        "| __import__ | __True__ | __False__ | __if__ | __else__ | __def__ | __in__ |\n",
        "| __not__ | __and__ | __or__ | __None__ | from | continue | pass |\n",
        "| class | await | raise | del | lambda | return | elif |\n",
        "| with | as | finally | nonlocal | while | assert | except | \n",
        "| global | yield | break | try | global | \n"
      ]
    },
    {
      "cell_type": "markdown",
      "metadata": {
        "id": "gpkC6GqhXc-c"
      },
      "source": [
        "Let's see an example of a decimal point containing number, known to computers as a **_floating point_** number. Let's use $\\pi$ as the number.  (Pro tip: you can write equations in Markdown.  See this [reference](https://medium.com/analytics-vidhya/writing-math-equations-in-jupyter-notebook-a-naive-introduction-a5ce87b9a214).)\n",
        "\n",
        "```\n",
        "pickles = 3.14\n",
        "print(pickles)\n",
        "```"
      ]
    },
    {
      "cell_type": "code",
      "metadata": {
        "id": "uLYdHhj1Xc-c",
        "colab": {
          "base_uri": "https://localhost:8080/"
        },
        "outputId": "3e9ca7c1-475a-4aee-8125-6cb9df692af4"
      },
      "source": [
        "pickles = 3.14\n",
        "print(pickles)\n",
        "type(pickles)"
      ],
      "execution_count": null,
      "outputs": [
        {
          "output_type": "stream",
          "text": [
            "3.14\n"
          ],
          "name": "stdout"
        },
        {
          "output_type": "execute_result",
          "data": {
            "text/plain": [
              "float"
            ]
          },
          "metadata": {
            "tags": []
          },
          "execution_count": 1
        }
      ]
    },
    {
      "cell_type": "markdown",
      "metadata": {
        "id": "hL4YTLJTXc-d"
      },
      "source": [
        "Cool.  We defined a variable named pickles containing a poor estimate of $\\pi$.  Now every place the word `pickles` appears, it will have the value `3.14`, at least until we change it.  "
      ]
    },
    {
      "cell_type": "markdown",
      "metadata": {
        "id": "vUv_rTyki02e"
      },
      "source": [
        "#### Exercise 1: Picking variable names\n",
        "\n",
        "Is `pickles` a good variable name for the value $\\pi$?  If not, what would be a better name?  Is it in the **_reserved word_** list above?  Use the `code` cell below to create a new variable with your preferred name in it."
      ]
    },
    {
      "cell_type": "code",
      "metadata": {
        "id": "SVOLb5uUXc-e"
      },
      "source": [
        "# Cell for Exercise 1\n",
        "a_new_variable = \"Hi\""
      ],
      "execution_count": null,
      "outputs": []
    },
    {
      "cell_type": "markdown",
      "metadata": {
        "id": "XGOmnoxjXc-e"
      },
      "source": [
        "Variables in Python have different data types.  The simple ones, we've already discussed such as an integer or `int`, a string or `str`, a decimal point containing number called a **_floating point_** number.  **_Floating point_** numbers are special and are stored in a computer's memory using [internal representations](http://steve.hollasch.net/cgindex/coding/ieeefloat.html).  One important thing to know about **_floating point_** numbers is that to a computer, the statement below may not always be true.  For now, just think about **_floating point_** numbers as approximately representing the decimal number you see.\n",
        "\n",
        "```\n",
        "10.0 * 0.1 = 1.0\n",
        "```\n",
        "\n",
        "Variables can change their value in Python so we can change the value of `pickles` to something else.  For example, a definition of what pickles are.\n",
        "\n",
        "```\n",
        "pickles = \"A cucumber preserved in vinegar or brine.\"\n",
        "print(pickles)\n",
        "```"
      ]
    },
    {
      "cell_type": "code",
      "metadata": {
        "id": "r1AS_ZUPXc-e",
        "colab": {
          "base_uri": "https://localhost:8080/"
        },
        "outputId": "dae5b323-00e3-4628-c176-8519a5bbb31a"
      },
      "source": [
        "pickles = \"A cucumber preserved in vinegar or brine.\"\n",
        "print(pickles)"
      ],
      "execution_count": null,
      "outputs": [
        {
          "output_type": "stream",
          "text": [
            "A cucumber preserved in vinegar or brine.\n"
          ],
          "name": "stdout"
        }
      ]
    },
    {
      "cell_type": "markdown",
      "metadata": {
        "id": "wRsekXtWXc-f"
      },
      "source": [
        "### 2.0.2 A quick review of comments\n",
        "\n",
        "Just like we should use good naming conventions for variables so they make sense, we should have good comments to help readers follow our code.  Good comments can turn a speck of coding gold into a valuable nugget of knowledge.  Bad or wrong comments are bugs.  If you want to learn more about why we call computer coding problems bugs, read about [Grace Hopper](https://en.wikipedia.org/wiki/Grace_Hopper) and see [her photo of a `bug` in her notebook](https://en.wikipedia.org/wiki/Grace_Hopper#/media/File:First_Computer_Bug,_1945.jpg).\n",
        "\n",
        "To comment out some text, use the `#` or hashtag or sometimes called the pound character. \n",
        "\n",
        "```\n",
        "print(pickles)\n",
        "```"
      ]
    },
    {
      "cell_type": "code",
      "metadata": {
        "id": "BU41NSMdXc-f",
        "colab": {
          "base_uri": "https://localhost:8080/"
        },
        "outputId": "1aceefe1-4d1d-4c50-ec12-9f4c69ebe9ba"
      },
      "source": [
        "print(pickles)"
      ],
      "execution_count": null,
      "outputs": [
        {
          "output_type": "stream",
          "text": [
            "A cucumber preserved in vinegar or brine.\n"
          ],
          "name": "stdout"
        }
      ]
    },
    {
      "cell_type": "markdown",
      "metadata": {
        "id": "H2Rit9gKXc-g"
      },
      "source": [
        "```\n",
        "# This is an example comment.  Notice it is in english and full sentences.  That is good style.\n",
        "```"
      ]
    },
    {
      "cell_type": "code",
      "metadata": {
        "id": "UT22cA27Xc-g"
      },
      "source": [
        "# This is an example comment.  Notice it is in english and full sentences.  That is good style."
      ],
      "execution_count": null,
      "outputs": []
    },
    {
      "cell_type": "markdown",
      "metadata": {
        "id": "ac0bu1_3Xc-i"
      },
      "source": [
        "---"
      ]
    },
    {
      "cell_type": "markdown",
      "metadata": {
        "id": "1_hGBvV6Xc-i"
      },
      "source": [
        "## 2.1 Data Structures: Variables that organize data\n",
        "\n",
        "Many variables you will encounter are more than the above simple **_data types_** (integers, strings, floating point numbers).  In fact, they may contain a few to many pieces of data rolled into one thing or **_data structure_**.  Next, we'll discuss two important _data structures_: **lists** and **dictionaries**.  There are many advanced **_data structures_** in Python that behave like **lists** and **dictionaries**, in different settings but their concepts are often similar.  Thus, understanding them here will help us understand more advanced concepts.  Let's start with the venerable **list**.\n",
        "\n"
      ]
    },
    {
      "cell_type": "markdown",
      "metadata": {
        "id": "uyddGdBqXc-j"
      },
      "source": [
        "---"
      ]
    },
    {
      "cell_type": "markdown",
      "metadata": {
        "id": "RhFEDkT8Xc-j"
      },
      "source": [
        "### 2.1.1 Lists\n",
        "\n",
        "_For more than just shopping._\n",
        "A list is an **_ordered_ _collection_** of data.  By **_collection_**, we mean that it contains multiple data. By **_ordered_**, we mean that the data are arranged so that they appear first to last like words in a sentence.  The order is important for the meaning of the sentence.\n",
        "\n",
        "Let's begin by creating a list variable named `my_list` that contains three pieces of information.\n",
        "\n",
        "```\n",
        "my_list = ['I', 'like', 'pie']\n",
        "my_list\n",
        "```"
      ]
    },
    {
      "cell_type": "code",
      "metadata": {
        "id": "5PmKqdOwXc-j",
        "colab": {
          "base_uri": "https://localhost:8080/"
        },
        "outputId": "8eaa3df8-25d5-4faa-b19f-7da59b0dfb6f"
      },
      "source": [
        "my_list = ['I', 'like', 'pie']\n",
        "my_list"
      ],
      "execution_count": null,
      "outputs": [
        {
          "output_type": "execute_result",
          "data": {
            "text/plain": [
              "['I', 'like', 'pie']"
            ]
          },
          "metadata": {
            "tags": []
          },
          "execution_count": 11
        }
      ]
    },
    {
      "cell_type": "markdown",
      "metadata": {
        "id": "F2-0hv9hXc-k"
      },
      "source": [
        "Now the value of the variable `my_list` points to a list of three strings.  The use of `[`, `]`, and `,` are used to denote the begining, end and separator of the list.  Like a sentence, this list of words is ordered.  I like cake.\n",
        "\n",
        "**Notice, we didn't use a `print()` on the variable.  The last variable _expression_ in a cell is shown in the notebook by default.**"
      ]
    },
    {
      "cell_type": "markdown",
      "metadata": {
        "id": "t4u3TYmOXc-k"
      },
      "source": [
        "The elements in a list have indices.  That is, to access an element in the list, you can refer to it by its index.  Think of a list like a very simple table.\n",
        "\n",
        "| index | value |\n",
        "|:---:|:---|\n",
        "| 0 | `'I'` |\n",
        "| 1 | `'like'` |\n",
        "| 2 | `'pie'` |"
      ]
    },
    {
      "cell_type": "markdown",
      "metadata": {
        "id": "DYNcFx18Xc-k"
      },
      "source": [
        "**People might start counting at `1`, but computers start counting at `0`.  The first element in a list has the index `0`, the last element in a list has the index of the length of the list minus 1.  For our list which is three elements long, the first index will be 0 and the last index will be `2`.**\n",
        "\n",
        "**Some programming languages also start counting at 1.  These include [Fortran](https://en.wikipedia.org/wiki/Fortran), [Matlab](https://en.wikipedia.org/wiki/MATLAB), and the abominable [R](https://en.wikipedia.org/wiki/R).  This is unfortunate.  Be extra careful if you try to [port code](https://en.wikipedia.org/wiki/Porting) from those languages to Python.**\n",
        "\n",
        "If you want to access a list element you can use its index.  The index value is designated by appending  `[` and `]` to the variable name with the index between.  Examples are always easier than words:\n",
        "\n",
        "```\n",
        "my_list[0]\n",
        "```\n",
        "\n",
        "Given what you know... What will this output?"
      ]
    },
    {
      "cell_type": "code",
      "metadata": {
        "id": "IyJH2n_bXc-l",
        "colab": {
          "base_uri": "https://localhost:8080/",
          "height": 35
        },
        "outputId": "1a43aa83-698e-4581-e5fc-3ee00aa667b5"
      },
      "source": [
        "my_list[2]"
      ],
      "execution_count": null,
      "outputs": [
        {
          "output_type": "execute_result",
          "data": {
            "application/vnd.google.colaboratory.intrinsic+json": {
              "type": "string"
            },
            "text/plain": [
              "'pie'"
            ]
          },
          "metadata": {
            "tags": []
          },
          "execution_count": 14
        }
      ]
    },
    {
      "cell_type": "markdown",
      "metadata": {
        "id": "zSJIsVnAXc-l"
      },
      "source": [
        "If you try to use an index that is larger than the length of the list minus 1, you will get an error.  Try it!\n",
        "\n",
        "The different colors means you made a boo boo!\n",
        "\n",
        "```\n",
        "my_list[3]\n",
        "```"
      ]
    },
    {
      "cell_type": "code",
      "metadata": {
        "id": "WLp8WXRDXc-l",
        "colab": {
          "base_uri": "https://localhost:8080/",
          "height": 167
        },
        "outputId": "b863d23c-7e0e-409c-ef40-f97867474520"
      },
      "source": [
        "# my_list[3]"
      ],
      "execution_count": null,
      "outputs": [
        {
          "output_type": "error",
          "ename": "IndexError",
          "evalue": "ignored",
          "traceback": [
            "\u001b[0;31m---------------------------------------------------------------------------\u001b[0m",
            "\u001b[0;31mIndexError\u001b[0m                                Traceback (most recent call last)",
            "\u001b[0;32m<ipython-input-17-64c78a5a3098>\u001b[0m in \u001b[0;36m<module>\u001b[0;34m()\u001b[0m\n\u001b[0;32m----> 1\u001b[0;31m \u001b[0mmy_list\u001b[0m\u001b[0;34m[\u001b[0m\u001b[0;36m3\u001b[0m\u001b[0;34m]\u001b[0m\u001b[0;34m\u001b[0m\u001b[0;34m\u001b[0m\u001b[0m\n\u001b[0m",
            "\u001b[0;31mIndexError\u001b[0m: list index out of range"
          ]
        }
      ]
    },
    {
      "cell_type": "markdown",
      "metadata": {
        "id": "6lWutF9MXc-l"
      },
      "source": [
        "The last line of the error report is the most informative for us now.  It should read:\n",
        "\n",
        "```\n",
        "IndexError: list index out of range\n",
        "```\n",
        "\n",
        "It is trying to tell you that an `IndexError` occured because the the index you tried to access is out of the range of `0` to `2`, inclusive.  Translation: stay in your lane, programmer!"
      ]
    },
    {
      "cell_type": "markdown",
      "metadata": {
        "id": "pv_NujECXc-m"
      },
      "source": [
        "In addition to being able to recall or access a value of a list by the element's index in the list, we can change the value of the element.  We will also use the `[` `<index>` `]` notation but like when we set the value of a variable, we will use the `=` character.  Let's do it!\n",
        "\n",
        "```\n",
        "my_list[2] = 'cake'\n",
        "my_list\n",
        "```"
      ]
    },
    {
      "cell_type": "code",
      "metadata": {
        "id": "7XLlkS8HXc-m",
        "colab": {
          "base_uri": "https://localhost:8080/"
        },
        "outputId": "10a04193-0bc3-40fe-b24e-438b6e13916e"
      },
      "source": [
        "# my_list[2] = 'cake'\n",
        "my_list[2] = 'cake'\n",
        "my_list"
      ],
      "execution_count": null,
      "outputs": [
        {
          "output_type": "execute_result",
          "data": {
            "text/plain": [
              "['I', 'like', 'cake']"
            ]
          },
          "metadata": {
            "tags": []
          },
          "execution_count": 20
        }
      ]
    },
    {
      "cell_type": "markdown",
      "metadata": {
        "id": "RD91i4Vifv_e"
      },
      "source": [
        "#### 2.1.1.1 Append, and other list functions"
      ]
    },
    {
      "cell_type": "markdown",
      "metadata": {
        "id": "gNXBysgzXc-n"
      },
      "source": [
        "Finally, let's talk about empty lists and appending items to a list.  An empty list is created by setting a variable to `[]`.  This means the variable's **_data type_** is a list, but it contains no elements.\n",
        "\n",
        "```\n",
        "a_new_list = []\n",
        "```"
      ]
    },
    {
      "cell_type": "code",
      "metadata": {
        "id": "4T4KoaEOXc-r"
      },
      "source": [
        "# my_list = ['I', \"asdlfkjdfk\"]\n",
        "a_new_list = []"
      ],
      "execution_count": null,
      "outputs": []
    },
    {
      "cell_type": "code",
      "metadata": {
        "colab": {
          "base_uri": "https://localhost:8080/"
        },
        "id": "1r-x64GPRTzo",
        "outputId": "6d674344-6690-49ae-b64a-8d8c7bf6ead0"
      },
      "source": [
        "print(a_new_list)"
      ],
      "execution_count": null,
      "outputs": [
        {
          "output_type": "stream",
          "text": [
            "[]\n"
          ],
          "name": "stdout"
        }
      ]
    },
    {
      "cell_type": "markdown",
      "metadata": {
        "id": "oeybIDG-Xc-w"
      },
      "source": [
        "We can append items to a list by using the `.append()` **_function_**.  We'll talk more about functions later, but when this **_function_** or **_method_** is used on a variable whose **_data type_** is list, it will append the value in between the `()` to the end of the list.\n",
        "\n",
        "```\n",
        "a_new_list.append(\"1st element\")\n",
        "print(a_new_list)\n",
        "a_new_list.append(\"2nd element\")\n",
        "print(a_new_list)\n",
        "```"
      ]
    },
    {
      "cell_type": "code",
      "metadata": {
        "colab": {
          "base_uri": "https://localhost:8080/"
        },
        "id": "G_5wa2qDRdi2",
        "outputId": "bf274411-ffd7-4757-a740-64072b9e15e7"
      },
      "source": [
        "a_new_list = []\n",
        "a_new_list.append(\"1st element\")\n",
        "print(a_new_list)\n",
        "a_new_list.append(\"2nd element\")\n",
        "print(a_new_list)"
      ],
      "execution_count": null,
      "outputs": [
        {
          "output_type": "stream",
          "text": [
            "['1st element']\n",
            "['1st element', '2nd element']\n"
          ],
          "name": "stdout"
        }
      ]
    },
    {
      "cell_type": "markdown",
      "metadata": {
        "id": "PKgSxW2ZXc-z"
      },
      "source": [
        "Finally, in addition to the `.append()` **_function_**, there are a lot of **_functions_** (or **_methods_**) available for **_lists_**.  See a complete list of them [here](https://docs.python.org/3/tutorial/datastructures.html#more-on-lists).\n",
        "\n",
        "One more we'll touch on quickly is the `len()` **_function_**.  It returns the length of a **_list_**.  Here is an example:\n",
        "\n",
        "```\n",
        "len(a_new_list)\n",
        "```\n",
        "\n",
        "Before you run this cell.  What do you think it will output?"
      ]
    },
    {
      "cell_type": "code",
      "metadata": {
        "id": "Wlm4EU45Xc-z",
        "colab": {
          "base_uri": "https://localhost:8080/"
        },
        "outputId": "95e444d2-bf08-4ab5-f4e7-5c0f2a69c070"
      },
      "source": [
        "len(a_new_list)\n",
        "a_new_list"
      ],
      "execution_count": null,
      "outputs": [
        {
          "output_type": "execute_result",
          "data": {
            "text/plain": [
              "['1st element', '2nd element']"
            ]
          },
          "metadata": {
            "tags": []
          },
          "execution_count": 34
        }
      ]
    },
    {
      "cell_type": "markdown",
      "metadata": {
        "id": "FpuehbeFXc-z"
      },
      "source": [
        "---"
      ]
    },
    {
      "cell_type": "markdown",
      "metadata": {
        "id": "69hpUJVXXc-z"
      },
      "source": [
        "#### 2.1.1.2 Slicing\n",
        "\n",
        "Sometimes you want to make a list from consecutive elements of a list.  This is called **_slicing_** where you cut up a list and get just the consecutive values you want.  **_Slicing_** is done with the `:` character in the index area between the `[` and the `]`.  Here is an example to pull just the last two items out of `my_list`.  We use the first index, then a `:`, then the last index plus 1.  Like this:\n",
        "\n",
        "```\n",
        "my_list[1:3]\n",
        "```\n",
        "\n",
        "You might be asking... **WHY +1??**  This is because with _slices_ or _ranges_ in Python are known as **[_half-open intervals_](https://en.wikipedia.org/wiki/Interval_(mathematics))** where the lower bound is inclusive and the upper bound is the non-inclusive limit.  **TL;DR**: add one to the upper end of a _slice_ or a _range_ in Python.\n",
        "\n",
        "```\n",
        "my_list[1:3]\n",
        "```"
      ]
    },
    {
      "cell_type": "code",
      "metadata": {
        "id": "4eKeqATwXc-0",
        "colab": {
          "base_uri": "https://localhost:8080/"
        },
        "outputId": "0139b31b-b89b-459b-d896-bb99d37e086c"
      },
      "source": [
        "my_list[1:3]"
      ],
      "execution_count": null,
      "outputs": [
        {
          "output_type": "execute_result",
          "data": {
            "text/plain": [
              "['like', 'cake']"
            ]
          },
          "metadata": {
            "tags": []
          },
          "execution_count": 44
        }
      ]
    },
    {
      "cell_type": "markdown",
      "metadata": {
        "id": "ifSjinFpXc-2"
      },
      "source": [
        "Just for giggles, try it with `my_list[1:2]`.  You will see the _range_ of the _slice_ is only `1`.  That's because `2 - 1 = 1`.\n",
        "\n",
        "```\n",
        "my_list[1:2]\n",
        "```"
      ]
    },
    {
      "cell_type": "code",
      "metadata": {
        "id": "cotYNd0QXc-3",
        "colab": {
          "base_uri": "https://localhost:8080/"
        },
        "outputId": "7385010b-501b-42da-b4e1-950590c55609"
      },
      "source": [
        "my_list[1:2]"
      ],
      "execution_count": null,
      "outputs": [
        {
          "output_type": "execute_result",
          "data": {
            "text/plain": [
              "['like']"
            ]
          },
          "metadata": {
            "tags": []
          },
          "execution_count": 45
        }
      ]
    },
    {
      "cell_type": "markdown",
      "metadata": {
        "id": "f24cRovsXc-4"
      },
      "source": [
        "You don't even need to use the upper bound if all you really mean is _the end of the list_.  For that, you can leave the index empty.  Hot dog!  Let's see an example...\n",
        "\n",
        "```\n",
        "my_list[1:]\n",
        "```"
      ]
    },
    {
      "cell_type": "code",
      "metadata": {
        "id": "JJ00WXqXXc-4",
        "colab": {
          "base_uri": "https://localhost:8080/"
        },
        "outputId": "b8a003b9-0746-46b5-dff5-13dae16e7f53"
      },
      "source": [
        "my_list[1:]"
      ],
      "execution_count": null,
      "outputs": [
        {
          "output_type": "execute_result",
          "data": {
            "text/plain": [
              "['like', 'cake']"
            ]
          },
          "metadata": {
            "tags": []
          },
          "execution_count": 46
        }
      ]
    },
    {
      "cell_type": "markdown",
      "metadata": {
        "id": "3sKpTeV6Xc-4"
      },
      "source": [
        "**But wait, there's more!**  You can set multiple elements of a list **at the same time** by _slicing_.  **Dig this!**\n",
        "\n",
        "```\n",
        "my_list[1:] = ['love', 'puppies']\n",
        "my_list\n",
        "```"
      ]
    },
    {
      "cell_type": "code",
      "metadata": {
        "id": "4CDiDI5AXc-4",
        "colab": {
          "base_uri": "https://localhost:8080/"
        },
        "outputId": "b0e03d92-0949-4615-844e-03fca3958a36"
      },
      "source": [
        "my_list[1:] = ['love', 'puppies']\n",
        "my_list"
      ],
      "execution_count": null,
      "outputs": [
        {
          "output_type": "execute_result",
          "data": {
            "text/plain": [
              "['I', 'love', 'puppies']"
            ]
          },
          "metadata": {
            "tags": []
          },
          "execution_count": 16
        }
      ]
    },
    {
      "cell_type": "markdown",
      "metadata": {
        "id": "02k9ZAM5Xc-5"
      },
      "source": [
        "And who doesn't love puppies? Recap... Lists are _ordered_ _collections_ of information that you can recognize by their use of `[` and `]`.  To access or _address_ elements in the list, you can use _indices_.  They start at `0` in Python.  The last element of a list has the index of the length of the list minus 1.  When _slicing_ a list, use two indices separated by `:`.  If you leave one off, it means everying up to or beyond that element.  "
      ]
    },
    {
      "cell_type": "markdown",
      "metadata": {
        "id": "nzkuzUEZYJvz"
      },
      "source": [
        "#### Question 1: Slicing\n",
        "\n",
        "> Will either one of the following codes will return an error?\n",
        "\n",
        "`my_list[:len(my_list)]`\n",
        "\n",
        "`my_list[len(my_list)]`"
      ]
    },
    {
      "cell_type": "markdown",
      "metadata": {
        "id": "xKTvGQDhXc-5"
      },
      "source": [
        "---"
      ]
    },
    {
      "cell_type": "markdown",
      "metadata": {
        "id": "s18dpgwXXc-5"
      },
      "source": [
        "#### 2.1.1.3 Negative indices?!?!\n",
        "\n",
        "A brief note for folks who want to learn more.  You can use negative index numbers to access from the end of the list towards the front.  That is, a negative 1 (`-1`) is the last element in the list.  A negative 2 (`-2`) is the second to last.  The same rules apply for slicing with the `:` character. \n",
        "\n",
        "A quick demo example...  Let's get last element in the list using negative indexing.  That will be `-1`.  Here goes...\n",
        "\n",
        "```\n",
        "my_list[-1]\n",
        "```"
      ]
    },
    {
      "cell_type": "code",
      "metadata": {
        "id": "CeKdz8jTXc-5",
        "colab": {
          "base_uri": "https://localhost:8080/",
          "height": 35
        },
        "outputId": "55f99201-ecf8-4b82-a911-be1928e46701"
      },
      "source": [
        "my_list[-1]"
      ],
      "execution_count": null,
      "outputs": [
        {
          "output_type": "execute_result",
          "data": {
            "application/vnd.google.colaboratory.intrinsic+json": {
              "type": "string"
            },
            "text/plain": [
              "'puppies'"
            ]
          },
          "metadata": {
            "tags": []
          },
          "execution_count": 55
        }
      ]
    },
    {
      "cell_type": "markdown",
      "metadata": {
        "id": "SWDSRIMCXc-6"
      },
      "source": [
        "We can also use _slicing_ with _negative indices_. Remember, that _slicing_ works the same way with _negative indices_, i.e. the the upper bound is non-inclusive.  Here is an example using upper and lower bounds.  Were you surprised by the results?\n",
        "\n",
        "```\n",
        "my_list[-3:-1]\n",
        "```"
      ]
    },
    {
      "cell_type": "code",
      "metadata": {
        "id": "G4e2gNwoXc-6",
        "colab": {
          "base_uri": "https://localhost:8080/"
        },
        "outputId": "33279681-9fb2-47c4-cb64-ae2132b7ef8b"
      },
      "source": [
        "my_list[-2:-1]"
      ],
      "execution_count": null,
      "outputs": [
        {
          "output_type": "execute_result",
          "data": {
            "text/plain": [
              "['love']"
            ]
          },
          "metadata": {
            "tags": []
          },
          "execution_count": 60
        }
      ]
    },
    {
      "cell_type": "markdown",
      "metadata": {
        "id": "oHkGmi8eXc-6"
      },
      "source": [
        "---"
      ]
    },
    {
      "cell_type": "markdown",
      "metadata": {
        "id": "KSkW8MdzXc-6"
      },
      "source": [
        "#### 2.1.1.4 Lists can contain most anything\n",
        "\n",
        "So far, we've seen a list containing some strings.  That made our sentence analogy about the _ordering_ of _objects_ or strings in a list make sense.  But lists can contain a mixture of _data types_ and _data structures_.  As a quick example, let's make a list that contains a integer, a string and a floating point number.  This will be a four element list.\n",
        "\n",
        "```\n",
        "zoo = [ 42, 'Elephants', 'ate', 3.14 ]\n",
        "```\n"
      ]
    },
    {
      "cell_type": "code",
      "metadata": {
        "id": "-srjPmTeXc-6",
        "colab": {
          "base_uri": "https://localhost:8080/"
        },
        "outputId": "ebe51c97-71a8-4c6c-b107-e7f521c4acec"
      },
      "source": [
        "zoo = [ 42, 'Elephants', 'ate', 3.14 ]\n",
        "zoo"
      ],
      "execution_count": null,
      "outputs": [
        {
          "output_type": "execute_result",
          "data": {
            "text/plain": [
              "[42, 'Elephants', 'ate', 3.14]"
            ]
          },
          "metadata": {
            "tags": []
          },
          "execution_count": 61
        }
      ]
    },
    {
      "cell_type": "markdown",
      "metadata": {
        "id": "D0saF_4XXc-6"
      },
      "source": [
        "We can even make a list of lists. **META!**\n",
        "\n",
        "```\n",
        "list_of_lists = [\n",
        "    [  42,  43,  44, 44  ],\n",
        "    [ 'a', 'b', 'c', 'd' ]\n",
        "]\n",
        "\n",
        "list_of_lists[0]\n",
        "\n",
        "list_of_lists[0][1]\n",
        "\n",
        "a_list = list_of_lists[0]\n",
        "a_list[1]\n",
        "```\n"
      ]
    },
    {
      "cell_type": "code",
      "metadata": {
        "id": "1kDSmo4BXc-6"
      },
      "source": [
        "list_of_lists = [\n",
        "    [  42,  43,  44, 45  ],\n",
        "    [ 'a', 'b', 'c', 'd' ]\n",
        "]"
      ],
      "execution_count": null,
      "outputs": []
    },
    {
      "cell_type": "markdown",
      "metadata": {
        "id": "g31xJBp-Xc-6"
      },
      "source": [
        "The important thing here is to have the right number of `[` and `]` to embed a list in a list separated between `,`.  Yeah, this **is** super meta."
      ]
    },
    {
      "cell_type": "code",
      "metadata": {
        "id": "eeEJM5f2Xc-7",
        "colab": {
          "base_uri": "https://localhost:8080/"
        },
        "outputId": "ed79ea45-c467-47ed-c438-95cd590b76aa"
      },
      "source": [
        "list_of_lists[0]"
      ],
      "execution_count": null,
      "outputs": [
        {
          "output_type": "execute_result",
          "data": {
            "text/plain": [
              "[42, 43, 44, 45]"
            ]
          },
          "metadata": {
            "tags": []
          },
          "execution_count": 69
        }
      ]
    },
    {
      "cell_type": "code",
      "metadata": {
        "id": "BG5NrV1AXc-7",
        "colab": {
          "base_uri": "https://localhost:8080/"
        },
        "outputId": "0b98a53b-708c-4255-9bac-8fa98f68ac48"
      },
      "source": [
        "list_of_lists[0][1]"
      ],
      "execution_count": null,
      "outputs": [
        {
          "output_type": "execute_result",
          "data": {
            "text/plain": [
              "43"
            ]
          },
          "metadata": {
            "tags": []
          },
          "execution_count": 71
        }
      ]
    },
    {
      "cell_type": "code",
      "metadata": {
        "id": "rKZUUGNOXc-7",
        "colab": {
          "base_uri": "https://localhost:8080/",
          "height": 35
        },
        "outputId": "f3000728-fad0-4af8-c47a-b59321e30fa1"
      },
      "source": [
        "list_of_lists[1][1]"
      ],
      "execution_count": null,
      "outputs": [
        {
          "output_type": "execute_result",
          "data": {
            "application/vnd.google.colaboratory.intrinsic+json": {
              "type": "string"
            },
            "text/plain": [
              "'b'"
            ]
          },
          "metadata": {
            "tags": []
          },
          "execution_count": 73
        }
      ]
    },
    {
      "cell_type": "code",
      "metadata": {
        "id": "HiXDrLAXXc-7",
        "colab": {
          "base_uri": "https://localhost:8080/"
        },
        "outputId": "4f28362e-0bbd-4cae-b700-84c56a5d1185"
      },
      "source": [
        "a_list = list_of_lists[0]\n",
        "a_list[1]"
      ],
      "execution_count": null,
      "outputs": [
        {
          "output_type": "execute_result",
          "data": {
            "text/plain": [
              "43"
            ]
          },
          "metadata": {
            "tags": []
          },
          "execution_count": 83
        }
      ]
    },
    {
      "cell_type": "markdown",
      "metadata": {
        "id": "P35MtlkWXc-8"
      },
      "source": [
        "#### Exercise 2: accessing lists of lists\n",
        "\n",
        "Make sure you understand why the above works.  Take a minute and play with the first and last indices.\n",
        "\n",
        "<ol>\n",
        "<li> access <code>45</code> in list_of_lists\n",
        "<li> access <code>d</code> in list_of_lists\n",
        "</ol>"
      ]
    },
    {
      "cell_type": "code",
      "metadata": {
        "id": "GMYUPaTGXc-8",
        "colab": {
          "base_uri": "https://localhost:8080/"
        },
        "outputId": "06488135-1e5e-4e86-f18d-a5884e82095e"
      },
      "source": [
        "# Cell for exercise 3\n",
        "print(list_of_lists[0][-1])\n",
        "print(list_of_lists[-1][-1])"
      ],
      "execution_count": null,
      "outputs": [
        {
          "output_type": "stream",
          "text": [
            "45\n",
            "d\n"
          ],
          "name": "stdout"
        }
      ]
    },
    {
      "cell_type": "markdown",
      "metadata": {
        "id": "LziUNB3CXc-9"
      },
      "source": [
        "---"
      ]
    },
    {
      "cell_type": "markdown",
      "metadata": {
        "id": "_6aMAlB4Xc-9"
      },
      "source": [
        "### 2.1.2 Dictionaries\n",
        "\n",
        "_For more than just reading on a Friday night._\n",
        "Sometimes we want to _access_ elements in a _data structure_ by something other than an index.  Consider a [dictionary on the internet](https://www.dictionary.com).  You look up the word on a seach engine and go to the web page of the entry for the word.  Python has a similar concept where the index for an element in a **_collection_** is not a number, as it is in a list above, but a `key` that, may be a string like `'pickles'`.  \n",
        "\n"
      ]
    },
    {
      "cell_type": "markdown",
      "metadata": {
        "id": "KOfJ5yzRhGHi"
      },
      "source": [
        "#### 2.1.2.1 Key, value pairs\n",
        "\n",
        "In the case of a Python **_dictionary_**, we call the definition a **_value_** and the way we look up the definition is a **_key_**.  This results in **_key_** and **_value_** pairs.  One **_key_** maps to one **_value_**.  In our analogy of a internet dictionary, this is the same as the word to definition pairs.\n",
        "\n",
        "Let's create a simple dictionary with a definition we have alread seen in the tutorials... Pickles. \n",
        "\n",
        "```\n",
        "my_dict = {} # create an empty dictionary\n",
        "my_dict['pickles'] = \"A cucumber preserved in vinegar or brine.\"\n",
        "my_dict\n",
        "```"
      ]
    },
    {
      "cell_type": "code",
      "metadata": {
        "id": "KdPhThnoXc-9",
        "colab": {
          "base_uri": "https://localhost:8080/"
        },
        "outputId": "b36969ad-d0e4-4fe4-f76e-d1d82414fb93"
      },
      "source": [
        "my_dict = {} # create an empty dictionary\n",
        "my_dict['pickles'] = \"A cucumber preserved in vinegar or brine.\"\n",
        "my_dict"
      ],
      "execution_count": null,
      "outputs": [
        {
          "output_type": "execute_result",
          "data": {
            "text/plain": [
              "{'pickles': 'A cucumber preserved in vinegar or brine.'}"
            ]
          },
          "metadata": {
            "tags": []
          },
          "execution_count": 100
        }
      ]
    },
    {
      "cell_type": "markdown",
      "metadata": {
        "id": "_q0ZvWIBXc--"
      },
      "source": [
        "Notice the use of the `#` comment.  Nice.  Unlike the list, for dictionaries, some of their operations use the `{` and `}` brackets.  Using a key to access or retrieve a value from the dictionary still uses the `[` and `]` brackets.  Stick with it, for realz.\n",
        "\n",
        "Case matters in a dictionary because the `key` is a _data type_ itself.\n",
        "\n",
        "```\n",
        "my_dict['Pickles']\n",
        "```\n",
        "\n",
        "returns an error (`KeyError: 'Pickles'`) and the following does not\n",
        "\n",
        "```\n",
        "my_dict['pickles']\n",
        "```"
      ]
    },
    {
      "cell_type": "code",
      "metadata": {
        "id": "2r3cqm6rXc--",
        "colab": {
          "base_uri": "https://localhost:8080/",
          "height": 35
        },
        "outputId": "d60da698-8fb5-4504-da9c-d6e665705032"
      },
      "source": [
        "# my_dict['Pickles']"
      ],
      "execution_count": null,
      "outputs": [
        {
          "output_type": "execute_result",
          "data": {
            "application/vnd.google.colaboratory.intrinsic+json": {
              "type": "string"
            },
            "text/plain": [
              "'A cucumber preserved in vinegar or brine.'"
            ]
          },
          "metadata": {
            "tags": []
          },
          "execution_count": 102
        }
      ]
    },
    {
      "cell_type": "markdown",
      "metadata": {
        "id": "ugkEsXyLXc--"
      },
      "source": [
        "   This is a lot like the `IndexError` from the list case.\n",
        "   \n",
        "   Moving on... You can change the value of a dictionary **_key_** by **_reassigning_** it.  For example below, we use the same key `'pickles'` to change the definition of the word in our dictionary.  Notice we still use the `[` and `]` brackets but we use the **_key_** instead of the **_index_** like we did with lists.  The change we made in the string is that the cucumbers in pickles are usually small.\n",
        "   \n",
        "   ```\n",
        "   my_dict['pickles'] = \"A small cucumber preserved in vinegar or brine.\"\n",
        "   ```"
      ]
    },
    {
      "cell_type": "code",
      "metadata": {
        "id": "jYQ2cJFGXc--",
        "colab": {
          "base_uri": "https://localhost:8080/"
        },
        "outputId": "63cce4e9-9d7e-49c4-ed86-3967dd37eb21"
      },
      "source": [
        "my_dict['pickles'] = \"A small cucumber preserved in vinegar or brine.\"\n",
        "my_dict"
      ],
      "execution_count": null,
      "outputs": [
        {
          "output_type": "execute_result",
          "data": {
            "text/plain": [
              "{'pickles': 'A small cucumber preserved in vinegar or brine.'}"
            ]
          },
          "metadata": {
            "tags": []
          },
          "execution_count": 105
        }
      ]
    },
    {
      "cell_type": "markdown",
      "metadata": {
        "id": "pDGy_DJsXc--"
      },
      "source": [
        "Let's add two `key` and `value` pairs to our dictionary which are in the table below:\n",
        "\n",
        "| key | value |\n",
        "|-----|-------|\n",
        "| list | An ordered collection. |\n",
        "| dictionary | A collection with _unique indices_. |\n",
        "\n",
        "Something like:\n",
        "```\n",
        "my_dict['list'] = \"An ordered collection\"\n",
        "print(my_dict)\n",
        "```\n",
        "Is probably where we want to begin."
      ]
    },
    {
      "cell_type": "code",
      "metadata": {
        "id": "PYl5pwVQXc--",
        "colab": {
          "base_uri": "https://localhost:8080/"
        },
        "outputId": "b03ff737-a2d2-4383-e59b-afda4adf7804"
      },
      "source": [
        "my_dict.keys()"
      ],
      "execution_count": null,
      "outputs": [
        {
          "output_type": "execute_result",
          "data": {
            "text/plain": [
              "dict_keys(['pickles', 'list', 'list2', 'list3'])"
            ]
          },
          "metadata": {
            "tags": []
          },
          "execution_count": 111
        }
      ]
    },
    {
      "cell_type": "code",
      "metadata": {
        "colab": {
          "base_uri": "https://localhost:8080/"
        },
        "id": "NdN1S2I2YP0v",
        "outputId": "27726e6f-08cd-42a6-c06c-0cbf9cc2b00e"
      },
      "source": [
        "my_dict.values()"
      ],
      "execution_count": null,
      "outputs": [
        {
          "output_type": "execute_result",
          "data": {
            "text/plain": [
              "dict_values(['A small cucumber preserved in vinegar or brine.', 'An ordered collection', 'An ordered collection', 'An ordered collection'])"
            ]
          },
          "metadata": {
            "tags": []
          },
          "execution_count": 112
        }
      ]
    },
    {
      "cell_type": "code",
      "metadata": {
        "id": "wnBI7D56cggP"
      },
      "source": [
        "# my_dict[0]"
      ],
      "execution_count": null,
      "outputs": []
    },
    {
      "cell_type": "markdown",
      "metadata": {
        "id": "w5Yi3mX3Xc--"
      },
      "source": [
        "Finally, like the **_list's_** `.append()` **_function_**, there are a lot of **_functions_** (or **_methods_**) and **_attributes_** available for dictionaries.  See a complete list of them [here](https://www.w3schools.com/python/python_ref_dictionary.asp).\n",
        "\n",
        "(we will cover the difference between a method and an attribute more concretely later on...)"
      ]
    },
    {
      "cell_type": "markdown",
      "metadata": {
        "id": "2Y76AgRyXc-_"
      },
      "source": [
        "## 2.2 Flow control: If this, then that...\n",
        "\n",
        "**_Flow control_** is a fancy phrase meaning to execute some code statements under certain conditions.  The simplist case, is an `if` statement (figure right below):  If a variable is `True` then do something.  If it is `False` then do something else, or do nothing at all.  \n",
        "\n"
      ]
    },
    {
      "cell_type": "markdown",
      "metadata": {
        "id": "0PXCfEuKXc-_"
      },
      "source": [
        "\n",
        "\n",
        "<img src=\"https://docs.oracle.com/cd/B19306_01/appdev.102/b14261/lnpls008.gif\">Flow control figure</img>\n",
        "\n",
        "In the above figure: \n",
        "\n",
        "* the `selection` refers to `if` statements \n",
        "* `Iteration` refers to loops or repeating some statements over and over while changing a small number of variable values\n",
        "* `Sequence` roughly corresponds to blocks of statements in **_functions_**.\n",
        "\n",
        "Flow control refers how to programs do loops, conditional execution, and order of functional operations.  Let's start with conditionals, or the venerable ``if`` statement."
      ]
    },
    {
      "cell_type": "markdown",
      "metadata": {
        "id": "LEivN1GcXc-_"
      },
      "source": [
        "### 2.2.1 If\n",
        "\n",
        "Let's write a simple if statement"
      ]
    },
    {
      "cell_type": "code",
      "metadata": {
        "colab": {
          "base_uri": "https://localhost:8080/"
        },
        "id": "lypZG62qa0QL",
        "outputId": "8ce63596-9f7f-4d75-b576-6fc6fa17071b"
      },
      "source": [
        "if 5 == 6.0:\n",
        "  print(\"something\")\n",
        "  print(\"asdf\")\n",
        "print(\"now I'm out of the loop\")"
      ],
      "execution_count": null,
      "outputs": [
        {
          "output_type": "stream",
          "text": [
            "now I'm out of the loop\n"
          ],
          "name": "stdout"
        }
      ]
    },
    {
      "cell_type": "code",
      "metadata": {
        "colab": {
          "base_uri": "https://localhost:8080/"
        },
        "id": "yLUMJUl1i04u",
        "outputId": "1b2f2925-12d6-492c-a27a-89f79244aaca"
      },
      "source": [
        "if 5 == 5.0:\n",
        "  print(True)"
      ],
      "execution_count": null,
      "outputs": [
        {
          "output_type": "stream",
          "text": [
            "True\n"
          ],
          "name": "stdout"
        }
      ]
    },
    {
      "cell_type": "markdown",
      "metadata": {
        "id": "iAjUbuCRi4xH"
      },
      "source": [
        "Mathematically, the float 5.0 and integer 5, do evaluate to be the same! What do we notice about the second line? That's right, there's an indentation. Colab and most IDEs will automatically indent for you. Let's practice that below."
      ]
    },
    {
      "cell_type": "markdown",
      "metadata": {
        "id": "kJs4rYWpjJOc"
      },
      "source": [
        "#### 2.2.1.1 Indentations in python"
      ]
    },
    {
      "cell_type": "markdown",
      "metadata": {
        "id": "3Hfhj6rrdvtG"
      },
      "source": [
        "Exercise 3.1: Writing and if statement\n",
        "\n",
        "practice writing a simple if statement, notice the automatic indentation"
      ]
    },
    {
      "cell_type": "code",
      "metadata": {
        "id": "-Z4VLAhCjLaV",
        "colab": {
          "base_uri": "https://localhost:8080/"
        },
        "outputId": "db8e4043-c29b-4215-d761-8caf262025f5"
      },
      "source": [
        "# cell for exercise 3.1\n",
        "if 5 % 4 == 1:\n",
        "  print(\"I do know how mods work!\")"
      ],
      "execution_count": null,
      "outputs": [
        {
          "output_type": "stream",
          "text": [
            "I do know how mods work!\n"
          ],
          "name": "stdout"
        }
      ]
    },
    {
      "cell_type": "markdown",
      "metadata": {
        "id": "HR2cnkE8iyKM"
      },
      "source": [
        "#### 2.2.1.2 Conditional fall through and reserved words\n",
        "\n",
        "If statements can be used to execute some lines or block of code if a particular condition is satisfied.  E.g. Let's print something based on the entries in the list.\n",
        "\n",
        "```\n",
        "mission = [\"let's\", \"explore\", \"some\", \"data\", \"!\"]\n",
        "\n",
        "if '!' in mission:\n",
        "    print('#notaword')\n",
        "```"
      ]
    },
    {
      "cell_type": "code",
      "metadata": {
        "id": "Uyh6JoPLXc-_",
        "colab": {
          "base_uri": "https://localhost:8080/"
        },
        "outputId": "62f55b84-352a-44b7-93b0-62ccb7606e0e"
      },
      "source": [
        "mission = [\"let's\", \"explore\", \"some\", \"data\", \"!\"]\n",
        "\n",
        "if '!' in mission:\n",
        "  print('#notaword')"
      ],
      "execution_count": null,
      "outputs": [
        {
          "output_type": "stream",
          "text": [
            "#notaword\n"
          ],
          "name": "stdout"
        }
      ]
    },
    {
      "cell_type": "markdown",
      "metadata": {
        "id": "toV3zJiRXc-_"
      },
      "source": [
        "##### 2.2.1.2.1 `in`\n",
        "\n",
        "Notice the use the special **_reserved word_** **in**.  This returns the value `True` when a value appears in a **_list_** and `False` when it does not.  Notice how it reads like English.  Readability is a key feature of Python and is part of the language design philosophy."
      ]
    },
    {
      "cell_type": "markdown",
      "metadata": {
        "id": "2LSAN8ShXc_A"
      },
      "source": [
        "Usually we want conditional logic on both sides of a binary condition, e.g. some action when ``True`` and some when ``False``\n",
        "\n",
        "```\n",
        "if '!' in mission:\n",
        "    print(\"This isn't a full word!\")\n",
        "else:\n",
        "    print(\"Nothing to see here\")\n",
        "```"
      ]
    },
    {
      "cell_type": "code",
      "metadata": {
        "colab": {
          "base_uri": "https://localhost:8080/"
        },
        "id": "Qzl0BTl_b9EZ",
        "outputId": "7bdc35ee-f801-477a-993d-ba27cdaaa3fb"
      },
      "source": [
        "\"A Thing We'd Like to SPlit\".split(\" \")"
      ],
      "execution_count": null,
      "outputs": [
        {
          "output_type": "execute_result",
          "data": {
            "text/plain": [
              "['A', 'Thing', \"We'd\", 'Like', 'to', 'SPlit']"
            ]
          },
          "metadata": {
            "tags": []
          },
          "execution_count": 120
        }
      ]
    },
    {
      "cell_type": "code",
      "metadata": {
        "id": "NLKMAqAqXc_A",
        "colab": {
          "base_uri": "https://localhost:8080/"
        },
        "outputId": "6f990b99-dca2-4218-e553-ff235c531c05"
      },
      "source": [
        "if '!' in mission:\n",
        "    print(\"This isn't a full word!\")\n",
        "else:\n",
        "    print(\"Nothing to see here\")"
      ],
      "execution_count": null,
      "outputs": [
        {
          "output_type": "stream",
          "text": [
            "This isn't a full word!\n"
          ],
          "name": "stdout"
        }
      ]
    },
    {
      "cell_type": "markdown",
      "metadata": {
        "id": "BtrXNfRPXc_A"
      },
      "source": [
        "##### 2.2.1.2.2 `pass`\n",
        "There is a special do nothing word: `pass` that skips over some arm of a conditional, e.g.\n",
        "\n",
        "```\n",
        "if 'data' in mission:\n",
        "    print(\"Congrats, you're working with data, it will be grand!\")\n",
        "else:\n",
        "    pass\n",
        "```"
      ]
    },
    {
      "cell_type": "code",
      "metadata": {
        "id": "En5A0fNQXc_A",
        "colab": {
          "base_uri": "https://localhost:8080/"
        },
        "outputId": "082cfa79-0f59-4780-b8d9-d40b588e6095"
      },
      "source": [
        "if 'data' in mission:\n",
        "    print(\"Congrats, you're working with data, it will be grand!\")\n",
        "else:\n",
        "    pass"
      ],
      "execution_count": null,
      "outputs": [
        {
          "output_type": "stream",
          "text": [
            "Congrats, you're working with data, it will be grand!\n"
          ],
          "name": "stdout"
        }
      ]
    },
    {
      "cell_type": "markdown",
      "metadata": {
        "id": "rFXINcHrXc_A"
      },
      "source": [
        "The use of `pass` here is very important.  While you can actually skip the `else` and `pass` statements and the code will behave identically, using them is an important signal that you intended for the negative case to do nothing.  When you are writing code, you should start thinking about reading code and how others will read your code.\n",
        "\n",
        "In short, when you have one side of an `if` statement that has no code use an `else` and a `pass` to be a good citizen.  Remember, the person you will collaborate the most about your code is yourself in 3-6 months.  Love yourself, use `pass`."
      ]
    },
    {
      "cell_type": "markdown",
      "metadata": {
        "id": "q8Emk_D9Xc_A"
      },
      "source": [
        "_Note_: what have you noticed in this session about quotes?  What is the difference between ``'`` and ``\"``?\n",
        "\n",
        "\n",
        "Another simple example:\n",
        "\n",
        "```\n",
        "if True is False:\n",
        "    print(\"I'm so confused\")\n",
        "else:\n",
        "    print(\"Everything is right with the world\")\n",
        "```"
      ]
    },
    {
      "cell_type": "code",
      "metadata": {
        "scrolled": true,
        "id": "TrewKXw6Xc_B",
        "colab": {
          "base_uri": "https://localhost:8080/"
        },
        "outputId": "cca0ac09-9442-47c8-e60e-384ebbc0c9e6"
      },
      "source": [
        "if True is False:\n",
        "    print(\"I'm so confused\")\n",
        "else:\n",
        "    print(\"Everything is right with the world\")"
      ],
      "execution_count": null,
      "outputs": [
        {
          "output_type": "stream",
          "text": [
            "Everything is right with the world\n"
          ],
          "name": "stdout"
        }
      ]
    },
    {
      "cell_type": "markdown",
      "metadata": {
        "id": "cGk2Rx3aXc_B"
      },
      "source": [
        "##### 2.2.1.2.3 `if`, `elif`, and `else`\n",
        "\n",
        "It is always good practice to handle all cases explicity.  **_Conditional fall through_** is a common source of bugs.\n",
        "\n",
        "Sometimes we wish to test multiple conditions.  Use `if`, `elif`, and `else`.\n",
        "\n",
        "```\n",
        "my_favorite = 'pie'\n",
        "\n",
        "if my_favorite is 'cake':\n",
        "    print(\"He likes cake!  I'll start making a double chocolate velvet cake right now!\")\n",
        "elif my_favorite is 'pie':\n",
        "    print(\"He likes pie!  I'll start making a cherry pie right now!\")\n",
        "else:\n",
        "    print(\"He likes \" + my_favorite + \".  I don't know how to make that.\")\n",
        "```"
      ]
    },
    {
      "cell_type": "code",
      "metadata": {
        "id": "SksttTg_Xc_B",
        "colab": {
          "base_uri": "https://localhost:8080/"
        },
        "outputId": "ef3f668c-7e21-43b8-aa02-55a639657ffc"
      },
      "source": [
        "my_favorite = 'pie'\n",
        "\n",
        "if my_favorite is 'cake':\n",
        "    print(\"He likes cake!  I'll start making a double chocolate velvet cake right now!\")\n",
        "elif my_favorite is 'pie':\n",
        "    print(\"He likes pie!  I'll start making a cherry pie right now!\")\n",
        "else:\n",
        "    print(\"He likes \" + my_favorite + \".  I don't know how to make that.\")"
      ],
      "execution_count": null,
      "outputs": [
        {
          "output_type": "stream",
          "text": [
            "He likes pie!  I'll start making a cherry pie right now!\n"
          ],
          "name": "stdout"
        }
      ]
    },
    {
      "cell_type": "markdown",
      "metadata": {
        "id": "uYf9JtVtXc_B"
      },
      "source": [
        "**Note**: There is a big difference between the above using `elif` and this code that uses sequential `if`s:\n",
        "\n",
        "```\n",
        "if my_favorite is 'pie':\n",
        "    print(\"He likes pie!  I'll start making a double chocolate velvet pie right now!\")\n",
        "if my_favorite is 'pie':\n",
        "    print(\"He still likes pie!  I'll start making a cherry pie right now!\")\n",
        "else:\n",
        "    print(\"He likes \" + my_favorite + \".  I don't know how to make that.\")\n",
        "```\n",
        "\n",
        "Before you run, the cell, can you describe how these two blocks differ in their outcomes?"
      ]
    },
    {
      "cell_type": "code",
      "metadata": {
        "id": "XXBYtPT9Xc_C",
        "colab": {
          "base_uri": "https://localhost:8080/"
        },
        "outputId": "00dd4b36-d909-460b-e20f-271d0d986562"
      },
      "source": [
        "if my_favorite is 'pie':\n",
        "    print(\"He likes pie!  I'll start making a double chocolate velvet pie right now!\")\n",
        "if my_favorite is 'pie':\n",
        "    print(\"He still likes pie!  I'll start making a cherry pie right now!\")\n",
        "else:\n",
        "    print(\"He likes \" + my_favorite + \".  I don't know how to make that.\")"
      ],
      "execution_count": null,
      "outputs": [
        {
          "output_type": "stream",
          "text": [
            "He likes pie!  I'll start making a double chocolate velvet pie right now!\n",
            "He still likes pie!  I'll start making a cherry pie right now!\n"
          ],
          "name": "stdout"
        }
      ]
    },
    {
      "cell_type": "markdown",
      "metadata": {
        "id": "YsTqvR5lXc_C"
      },
      "source": [
        "##### 2.2.1.2.4 ``and``, ``or`` and ``not``\n",
        "\n",
        "**Conditionals** can take ``and`` and ``or`` and ``not``.  E.g.\n",
        "\n",
        "```\n",
        "my_favorite = 'pie'\n",
        "\n",
        "if my_favorite is 'cake' or my_favorite is 'pie':\n",
        "    print(my_favorite + \" : I have a recipe for that!\")\n",
        "else:\n",
        "    print(\"Ew!  Who eats that?\")\n",
        "```\n",
        "\n",
        "> Side note: We haven't mentioned this up until now, in the following cell, we are composing a new string using `+` and feeding this into the print statement: `my_favorite + \" : I have a recipe for that!\"`"
      ]
    },
    {
      "cell_type": "code",
      "metadata": {
        "id": "3_9Ja-6rXc_C",
        "colab": {
          "base_uri": "https://localhost:8080/"
        },
        "outputId": "feb1f48d-5402-4418-b1f3-9b269c44722b"
      },
      "source": [
        "my_favorite = 'pie'\n",
        "\n",
        "if my_favorite is 'cake' or my_favorite is 'pie':\n",
        "    print(my_favorite + \" : I have a recipe for that!\")\n",
        "else:\n",
        "    print(\"Ew!  Who eats that?\")"
      ],
      "execution_count": null,
      "outputs": [
        {
          "output_type": "stream",
          "text": [
            "pie : I have a recipe for that!\n"
          ],
          "name": "stdout"
        }
      ]
    },
    {
      "cell_type": "markdown",
      "metadata": {
        "id": "gVhxNg2-1EWb"
      },
      "source": [
        "#### Exercise 3.2: Writing conditionals\n",
        "\n",
        "<ol>\n",
        "<li>Write a series of two if statements, that both evaluate as true and print something\n",
        "<li>Write an if followed by an elif statement, where only one evaluates as true and prints something\n",
        "</ol>"
      ]
    },
    {
      "cell_type": "code",
      "metadata": {
        "id": "arHKOf9y1SgX",
        "colab": {
          "base_uri": "https://localhost:8080/"
        },
        "outputId": "6e49c53a-2144-4d87-bcb4-d3005c0c434d"
      },
      "source": [
        "# Cell for exercise 4\n",
        "var = \"HI\"\n",
        "if len(var) == 2:\n",
        "  print(len(var))\n",
        "if var == \"HI\":\n",
        "  print(var)"
      ],
      "execution_count": null,
      "outputs": [
        {
          "output_type": "stream",
          "text": [
            "2\n",
            "HI\n"
          ],
          "name": "stdout"
        }
      ]
    },
    {
      "cell_type": "code",
      "metadata": {
        "colab": {
          "base_uri": "https://localhost:8080/"
        },
        "id": "vDlHic68d2DO",
        "outputId": "c7650135-be37-4991-be3d-a47dfc12fea7"
      },
      "source": [
        "var = \"HI\"\n",
        "if len(var) == 2:\n",
        "  print(len(var))\n",
        "elif var == \"HI\":\n",
        "  print(var)"
      ],
      "execution_count": null,
      "outputs": [
        {
          "output_type": "stream",
          "text": [
            "2\n"
          ],
          "name": "stdout"
        }
      ]
    },
    {
      "cell_type": "markdown",
      "metadata": {
        "id": "uGcoUB8gXc_C"
      },
      "source": [
        "### 2.2.2 For\n",
        "\n",
        "For loops are the standard loop, though `while` is also common.  For has the general form:\n",
        "```\n",
        "for items in list:\n",
        "    do stuff\n",
        "```\n",
        "\n"
      ]
    },
    {
      "cell_type": "markdown",
      "metadata": {
        "id": "hdPl2XGJnicH"
      },
      "source": [
        "#### 2.2.2.1 Iterating through objects\n",
        "\n",
        "For loops and collections like tuples, lists and dictionaries are natural friends. The loop is *iterating* through an object we call an *iterable*. tuples, lists, and dictionaries, are all *iterables*\n",
        "\n",
        "```\n",
        "mission\n",
        "\n",
        "for item in mission:\n",
        "    print(item)\n",
        "```"
      ]
    },
    {
      "cell_type": "code",
      "metadata": {
        "id": "t1k3wF7oXc_C",
        "colab": {
          "base_uri": "https://localhost:8080/"
        },
        "outputId": "e229dc73-1a5b-42e3-c1b0-99148b687aee"
      },
      "source": [
        "mission"
      ],
      "execution_count": null,
      "outputs": [
        {
          "output_type": "execute_result",
          "data": {
            "text/plain": [
              "[\"let's\", 'explore', 'some', 'data', '!']"
            ]
          },
          "metadata": {
            "tags": []
          },
          "execution_count": 138
        }
      ]
    },
    {
      "cell_type": "code",
      "metadata": {
        "id": "1G7ArDygXc_C",
        "colab": {
          "base_uri": "https://localhost:8080/"
        },
        "outputId": "64db2e0e-d04e-4835-d186-17d3b8992d49"
      },
      "source": [
        "for item in mission:\n",
        "  print(item)"
      ],
      "execution_count": null,
      "outputs": [
        {
          "output_type": "stream",
          "text": [
            "let's\n",
            "explore\n",
            "some\n",
            "data\n",
            "!\n"
          ],
          "name": "stdout"
        }
      ]
    },
    {
      "cell_type": "markdown",
      "metadata": {
        "id": "v6ln5WZKXc_C"
      },
      "source": [
        "Note that after the **_for_** loop has ended, the `item` variable remains defined and contains the last value of the list that was iteratred over."
      ]
    },
    {
      "cell_type": "code",
      "metadata": {
        "id": "wm9ovWsEXc_D",
        "colab": {
          "base_uri": "https://localhost:8080/",
          "height": 35
        },
        "outputId": "2218396c-9dad-424c-afa4-48c17f3566e8"
      },
      "source": [
        "item"
      ],
      "execution_count": null,
      "outputs": [
        {
          "output_type": "execute_result",
          "data": {
            "application/vnd.google.colaboratory.intrinsic+json": {
              "type": "string"
            },
            "text/plain": [
              "'!'"
            ]
          },
          "metadata": {
            "tags": []
          },
          "execution_count": 143
        }
      ]
    },
    {
      "cell_type": "markdown",
      "metadata": {
        "id": "tHP1qZBVXc_D"
      },
      "source": [
        "You can combine loops and conditionals:\n",
        "\n",
        "```\n",
        "for item in mission:\n",
        "    if item.endswith('!'):\n",
        "        print(item + \" doesn't look like a whole word!\")\n",
        "    else:\n",
        "        print(item + \" is a word in a sentence!\")\n",
        "        \n",
        "```"
      ]
    },
    {
      "cell_type": "code",
      "metadata": {
        "id": "r631ISRJXc_D",
        "colab": {
          "base_uri": "https://localhost:8080/"
        },
        "outputId": "2189d1ce-6046-4834-f59b-2cf12bb4f8c7"
      },
      "source": [
        "for item in mission:\n",
        "    if item.endswith('!'):\n",
        "        print(item + \" doesn't look like a whole word!\")\n",
        "    else:\n",
        "        print(item + \" is a word in a sentence!\")"
      ],
      "execution_count": null,
      "outputs": [
        {
          "output_type": "stream",
          "text": [
            "let's is a word in a sentence!\n",
            "explore is a word in a sentence!\n",
            "some is a word in a sentence!\n",
            "data is a word in a sentence!\n",
            "! doesn't look like a whole word!\n"
          ],
          "name": "stdout"
        }
      ]
    },
    {
      "cell_type": "markdown",
      "metadata": {
        "id": "gHGqYwFDXc_D"
      },
      "source": [
        "Dictionaries can use the `keys` method for iterating.\n",
        "\n",
        "```\n",
        "my_dict.keys()\n",
        "\n",
        "for key in my_dict.keys():\n",
        "    if len(key) > 4:\n",
        "        print(my_dict[key])\n",
        "```"
      ]
    },
    {
      "cell_type": "code",
      "metadata": {
        "id": "MCT9ls_SXc_D",
        "colab": {
          "base_uri": "https://localhost:8080/"
        },
        "outputId": "3e3346fd-8a01-4301-ffca-df697eeafe24"
      },
      "source": [
        "my_dict.keys()"
      ],
      "execution_count": null,
      "outputs": [
        {
          "output_type": "execute_result",
          "data": {
            "text/plain": [
              "dict_keys(['pickles', 'list', 'list2', 'list3'])"
            ]
          },
          "metadata": {
            "tags": []
          },
          "execution_count": 145
        }
      ]
    },
    {
      "cell_type": "code",
      "metadata": {
        "id": "52uJaLJSXc_E",
        "colab": {
          "base_uri": "https://localhost:8080/"
        },
        "outputId": "49320d36-508c-4da5-95e9-7e8e4ade05d8"
      },
      "source": [
        "for key in my_dict.keys():\n",
        "    if len(key) > 4:\n",
        "        print(my_dict[key])"
      ],
      "execution_count": null,
      "outputs": [
        {
          "output_type": "stream",
          "text": [
            "A small cucumber preserved in vinegar or brine.\n",
            "An ordered collection\n",
            "An ordered collection\n"
          ],
          "name": "stdout"
        }
      ]
    },
    {
      "cell_type": "markdown",
      "metadata": {
        "id": "QdbI5CB-pzxz"
      },
      "source": [
        "Strings are basically a list.  Therefore, you can use a for loop to iterate over the characters in a string.  Note that `c` is a typical variable name for characters in a string.  Generally, one letter variable names are not a good thing.\n",
        "\n",
        "```\n",
        "my_string = \"caffeine\"\n",
        "for c in my_string:\n",
        "    print(c)\n",
        "```"
      ]
    },
    {
      "cell_type": "code",
      "metadata": {
        "colab": {
          "base_uri": "https://localhost:8080/"
        },
        "id": "oCbb_wqKp4ea",
        "outputId": "2b25983e-36cf-45c0-cabb-d4a8cbe7a671"
      },
      "source": [
        "my_string = \"caffeine\"\n",
        "for c in my_string:\n",
        "    print(c)"
      ],
      "execution_count": null,
      "outputs": [
        {
          "output_type": "stream",
          "text": [
            "c\n",
            "a\n",
            "f\n",
            "f\n",
            "e\n",
            "i\n",
            "n\n",
            "e\n"
          ],
          "name": "stdout"
        }
      ]
    },
    {
      "cell_type": "markdown",
      "metadata": {
        "id": "156cmnxSXc_E"
      },
      "source": [
        "#### 2.2.2.2 `range()`\n",
        "\n",
        "Manually constructing a list of sequential numbers is a total pain.  A total pain.  So Python has a **_function_** called `range` that simplifies the creation of **_lists_** that contain a sequence.   Let's see it in action!  Note that if we want a sequence from 0 to 2, inclusive, we call the `range` function with a argument of `3`.  This is like the upper bound in **_slicing_** - it is always 1 plus the maximum value you want in the list.\n",
        "\n",
        "```\n",
        "range(3)\n",
        "```"
      ]
    },
    {
      "cell_type": "code",
      "metadata": {
        "id": "ytJKkaDdXc_E",
        "colab": {
          "base_uri": "https://localhost:8080/"
        },
        "outputId": "b03818cf-ab35-4d65-838f-3ceb1793958b"
      },
      "source": [
        "range(3)"
      ],
      "execution_count": null,
      "outputs": [
        {
          "output_type": "execute_result",
          "data": {
            "text/plain": [
              "range(0, 3)"
            ]
          },
          "metadata": {
            "tags": []
          },
          "execution_count": 149
        }
      ]
    },
    {
      "cell_type": "markdown",
      "metadata": {
        "id": "gDlS44e4Xc_E"
      },
      "source": [
        "Wait up, hoss.  That result doesn't look like a list!  True.  However, it acts identically to a list, but works a little different under the hood to save memory.  The equivalent hand made list would look like this:"
      ]
    },
    {
      "cell_type": "markdown",
      "metadata": {
        "id": "J3PRnQNeXc_E"
      },
      "source": [
        "```\n",
        "[0, 1, 2]\n",
        "```"
      ]
    },
    {
      "cell_type": "code",
      "metadata": {
        "id": "x1qfjr5VXc_E",
        "colab": {
          "base_uri": "https://localhost:8080/"
        },
        "outputId": "8bb6aca7-9fc5-47d5-ac71-0a9b3e81f6a7"
      },
      "source": [
        "[0, 1, 2]"
      ],
      "execution_count": null,
      "outputs": [
        {
          "output_type": "execute_result",
          "data": {
            "text/plain": [
              "[0, 1, 2]"
            ]
          },
          "metadata": {
            "tags": []
          },
          "execution_count": 150
        }
      ]
    },
    {
      "cell_type": "markdown",
      "metadata": {
        "id": "olxL8XQYXc_E"
      },
      "source": [
        "##### 2.2.2.2.1 `list`, type cast function\n",
        "\n",
        "We can convert a `range` to a `list` by using the `list` type cast **_function_**.\n",
        "\n",
        "```\n",
        "list(range(3))\n",
        "```"
      ]
    },
    {
      "cell_type": "code",
      "metadata": {
        "id": "JxMtlmXNXc_F",
        "colab": {
          "base_uri": "https://localhost:8080/"
        },
        "outputId": "0eaa0b96-48da-40c8-dd19-378c51736d24"
      },
      "source": [
        "list(range(10))"
      ],
      "execution_count": null,
      "outputs": [
        {
          "output_type": "execute_result",
          "data": {
            "text/plain": [
              "[0, 1, 2, 3, 4, 5, 6, 7, 8, 9]"
            ]
          },
          "metadata": {
            "tags": []
          },
          "execution_count": 159
        }
      ]
    },
    {
      "cell_type": "markdown",
      "metadata": {
        "id": "vl_J5LhsXc_F"
      },
      "source": [
        "Notice that Python (in the newest versions, e.g. 3+) has an object type that is a range.  This saves memory and speeds up calculations vs. an explicit representation of a range as a list - but it can be automagically converted to a list on the fly by Python.  To show the contents as a `list` we can use the type case like with the tuple above.\n",
        "\n",
        "Sometimes, in older Python docs, you will see `xrange`.  This used the range object back in Python 2 and `range` returned an actual list.  Beware of this!"
      ]
    },
    {
      "cell_type": "code",
      "metadata": {
        "id": "era4lJpbXc_F",
        "colab": {
          "base_uri": "https://localhost:8080/"
        },
        "outputId": "8e4b7234-0412-4387-ed0f-c197653a3c92"
      },
      "source": [
        "list(range(3))"
      ],
      "execution_count": null,
      "outputs": [
        {
          "output_type": "execute_result",
          "data": {
            "text/plain": [
              "[0, 1, 2]"
            ]
          },
          "metadata": {
            "tags": []
          },
          "execution_count": 160
        }
      ]
    },
    {
      "cell_type": "markdown",
      "metadata": {
        "id": "n9QGYe_GXc_F"
      },
      "source": [
        "Remember earlier with slicing, the syntax `:3` meant `[0, 1, 2]`?  Well, the same upper bound philosophy applies here.\n",
        "\n",
        "```\n",
        "xs = [0, 1, 2]\n",
        "\n",
        "for x in xs[0:1]:\n",
        "    if x < 2:\n",
        "        print(x)\n",
        "    else:\n",
        "        pass\n",
        "```"
      ]
    },
    {
      "cell_type": "code",
      "metadata": {
        "id": "ZAze7cddXc_F",
        "colab": {
          "base_uri": "https://localhost:8080/"
        },
        "outputId": "9bacbbd4-c4b8-4d90-ddf0-af57f853e9d7"
      },
      "source": [
        "xs = [0, 1, 2]\n",
        "\n",
        "for x in xs[:2]:\n",
        "    if x < 2:\n",
        "        print(x)\n",
        "    else:\n",
        "        print(x**2)"
      ],
      "execution_count": null,
      "outputs": [
        {
          "output_type": "stream",
          "text": [
            "0\n",
            "1\n"
          ],
          "name": "stdout"
        }
      ]
    },
    {
      "cell_type": "markdown",
      "metadata": {
        "id": "CoSV9k8YXc_F"
      },
      "source": [
        "Let's use range to acccess our list, _mission_ using list element indexing.  \n",
        "\n",
        "```\n",
        "for index in range(5):\n",
        "  item = mission[index]\n",
        "  if item.endswith('!'):\n",
        "      print(item + \" doesn't look like a whole word!\")\n",
        "  else:\n",
        "      print(item + \" is a word in a sentence!\")\n",
        "```"
      ]
    },
    {
      "cell_type": "code",
      "metadata": {
        "id": "gBKwQ9oGh9t8"
      },
      "source": [
        "for index in range(5):\n",
        "  item = mission[index]"
      ],
      "execution_count": null,
      "outputs": []
    },
    {
      "cell_type": "code",
      "metadata": {
        "id": "mZrMCd7qXc_F",
        "colab": {
          "base_uri": "https://localhost:8080/"
        },
        "outputId": "f6460ffa-0c16-4897-b452-23b29160df0e"
      },
      "source": [
        "for index in range(5):\n",
        "  item = mission[index]\n",
        "  if item.endswith('!'):\n",
        "      print(item + \" doesn't look like a whole word!\")\n",
        "  else:\n",
        "      print(item + \" is a word in a sentence!\")"
      ],
      "execution_count": null,
      "outputs": [
        {
          "output_type": "stream",
          "text": [
            "let's is a word in a sentence!\n",
            "explore is a word in a sentence!\n",
            "some is a word in a sentence!\n",
            "data is a word in a sentence!\n",
            "! doesn't look like a whole word!\n"
          ],
          "name": "stdout"
        }
      ]
    },
    {
      "cell_type": "markdown",
      "metadata": {
        "id": "FOyJlHdNXc_G"
      },
      "source": [
        "This would probably be better written as below.  Why is it better to use to use the `len()` function than hard code the length of the list?\n",
        "\n",
        "```\n",
        "for index in range(len(mission)):\n",
        "  item = mission[index]\n",
        "  if item.endswith('!'):\n",
        "      print(item + \" doesn't look like a whole word!\")\n",
        "  else:\n",
        "      print(item + \" is a word in a sentence!\")\n",
        "```"
      ]
    },
    {
      "cell_type": "code",
      "metadata": {
        "id": "1Y6OVxvsXc_G",
        "colab": {
          "base_uri": "https://localhost:8080/"
        },
        "outputId": "a5ada586-dda0-4e4f-e2a5-b082279c80d4"
      },
      "source": [
        "for index in range(len(mission)):\n",
        "  item = mission[index]\n",
        "  if item.endswith('!'):\n",
        "      print(item + \" doesn't look like a whole word!\")\n",
        "  else:\n",
        "      print(item + \" is a word in a sentence!\")"
      ],
      "execution_count": null,
      "outputs": [
        {
          "output_type": "stream",
          "text": [
            "let's is a word in a sentence!\n",
            "explore is a word in a sentence!\n",
            "some is a word in a sentence!\n",
            "data is a word in a sentence!\n",
            "! doesn't look like a whole word!\n"
          ],
          "name": "stdout"
        }
      ]
    },
    {
      "cell_type": "markdown",
      "metadata": {
        "id": "6N4VCXkDXc_G"
      },
      "source": [
        "But in all, it isn't very Pythonesque to use indexes like that (unless you have another reason in the loop) and you would opt instead for the `instructor in instructors` form.  \n",
        "\n",
        "More often, you are doing something with the numbers that requires them to be integers, e.g. math."
      ]
    },
    {
      "cell_type": "code",
      "metadata": {
        "id": "-gb4cuCjXc_G",
        "colab": {
          "base_uri": "https://localhost:8080/"
        },
        "outputId": "13be31f5-862f-4e94-9981-2e9a5c7e6575"
      },
      "source": [
        "sum = 0\n",
        "for i in range(10):\n",
        "    sum += i\n",
        "    # sum = sum + i\n",
        "print(sum)"
      ],
      "execution_count": null,
      "outputs": [
        {
          "output_type": "stream",
          "text": [
            "45\n"
          ],
          "name": "stdout"
        }
      ]
    },
    {
      "cell_type": "markdown",
      "metadata": {
        "id": "COotO01dXc_H"
      },
      "source": [
        "Before we leave the topic of `range()`, let's take a quick look at the documentation for it [here](https://docs.python.org/3.3/library/stdtypes.html?highlight=range#ranges).  Notice, it has another calling semantic than the one have have been using.\n",
        "\n",
        "We have been using this version:\n",
        "\n",
        "```\n",
        "range(stop)\n",
        "```\n",
        "Where the list will end at `stop` minus 1.  There is another way the `range` **_function_** can be called which is to give it an inclusive `start` and an exclusive `stop`:\n",
        "\n",
        "```\n",
        "range(start, stop)\n",
        "```\n",
        "\n",
        "This returns a list of number that go from `start` to `stop` minus 1.\n",
        "\n",
        "Let's look at a quick example:\n",
        "\n",
        "```\n",
        "range(1, 9)\n",
        "```"
      ]
    },
    {
      "cell_type": "code",
      "metadata": {
        "id": "f9MYvjxmXc_H",
        "colab": {
          "base_uri": "https://localhost:8080/"
        },
        "outputId": "5d805abc-59d5-45ab-b6b7-143906b6c9a1"
      },
      "source": [
        "range(1, 9)"
      ],
      "execution_count": null,
      "outputs": [
        {
          "output_type": "execute_result",
          "data": {
            "text/plain": [
              "range(1, 9)"
            ]
          },
          "metadata": {
            "tags": []
          },
          "execution_count": 189
        }
      ]
    },
    {
      "cell_type": "markdown",
      "metadata": {
        "id": "0BgcoLYoXc_J"
      },
      "source": [
        "#### 2.2.2.3 Nested for loops\n",
        "\n",
        "You can put a for loop _inside_ another for loop.  This is called _nesting_.  Think of it like the [Matryoshka dolls](https://en.wikipedia.org/wiki/Matryoshka_doll).  The example below has a nested loop that counts to four each time the outer loop counts up one.  The `print` **_function_** shows the value of the outside loop iterator `i` and the inside loop iterator `j` and the product of the two values.  Notice how the inside loop runs through 1 to 3 for each value of the outside loop.\n",
        "\n",
        "We use some string formatting for the `print` statement.  These are called **_f-strings_** because there is an `f` before the string. Don't worry too much about the `print` function statement here as it isn't the point of this example.  _Advanced topic_: for more on formatting strings, see [here](https://docs.python.org/3/tutorial/inputoutput.html#fancier-output-formatting).\n",
        "\n",
        "```\n",
        "for i in range(1, 4):\n",
        "    for j in range(1, 4):\n",
        "        print(f'{i} * {j} = {i * j}')\n",
        "```"
      ]
    },
    {
      "cell_type": "code",
      "metadata": {
        "id": "CNXyrWYoXc_J",
        "colab": {
          "base_uri": "https://localhost:8080/"
        },
        "outputId": "c10ce7f2-994f-436a-e1f1-d246f0dfc299"
      },
      "source": [
        "for i in range(1, 4):\n",
        "    for j in range(1, 4):\n",
        "        print(f'{i} * {j} = {i * j}')"
      ],
      "execution_count": null,
      "outputs": [
        {
          "output_type": "stream",
          "text": [
            "1 * 1 = 1\n",
            "1 * 2 = 2\n",
            "1 * 3 = 3\n",
            "2 * 1 = 2\n",
            "2 * 2 = 4\n",
            "2 * 3 = 6\n",
            "3 * 1 = 3\n",
            "3 * 2 = 6\n",
            "3 * 3 = 9\n"
          ],
          "name": "stdout"
        }
      ]
    },
    {
      "cell_type": "markdown",
      "metadata": {
        "id": "Tu6PGx16pOgP"
      },
      "source": [
        "#### 2.2.2.4 Exiting for loops\n",
        "\n",
        "You can exit a for loop if a condition is met. We'll explore this with reserved words `break` and `continue`"
      ]
    },
    {
      "cell_type": "markdown",
      "metadata": {
        "id": "mjL7S1csXc_J"
      },
      "source": [
        "##### 2.2.2.4.1 `break`\n",
        "\n",
        "Sometimes, in a for loop, you experience a condition where you want to terminate any further iterations of the loop.  The **_reserved word_** `break` will completely exit a for loop.  In this example, we exit the for loop when the iteration variable `i` is equal to the integer 4.\n",
        "\n",
        "```\n",
        "for i in range(10):\n",
        "    if i == 4:\n",
        "        break\n",
        "i\n",
        "```"
      ]
    },
    {
      "cell_type": "code",
      "metadata": {
        "id": "R5b8Jqt5Xc_J",
        "colab": {
          "base_uri": "https://localhost:8080/"
        },
        "outputId": "1194140f-e4ff-4efb-c9e7-f8895e931b7c"
      },
      "source": [
        "for i in range(10):\n",
        "    print(i)\n",
        "    continue\n",
        "    # everything below here will not run\n",
        "    print(i+1)"
      ],
      "execution_count": null,
      "outputs": [
        {
          "output_type": "stream",
          "text": [
            "0\n",
            "1\n",
            "2\n",
            "3\n",
            "4\n",
            "5\n",
            "6\n",
            "7\n",
            "8\n",
            "9\n"
          ],
          "name": "stdout"
        }
      ]
    },
    {
      "cell_type": "markdown",
      "metadata": {
        "id": "D2SpXAEWXc_J"
      },
      "source": [
        "#### 2.2.2.4 `continue`\n",
        "\n",
        "Sometimes, in a for loop, you want to skip certain elements.  The `continue` statement will effectively skip any further statements for that element in a list.  Below, we sum the numbers from `0` to `9` and skip the value `5`.\n",
        "\n",
        "```\n",
        "sum = 0\n",
        "for i in range(10):\n",
        "    if i == 5:\n",
        "        continue\n",
        "    else:\n",
        "        print(i)\n",
        "        sum += i\n",
        "        \n",
        "print(\"sum is \", sum)\n",
        "```"
      ]
    },
    {
      "cell_type": "code",
      "metadata": {
        "id": "m4Dpio1vXc_K",
        "colab": {
          "base_uri": "https://localhost:8080/"
        },
        "outputId": "befeac82-433d-4a0b-8d00-096c2d92edd0"
      },
      "source": [
        "for i in range(10):\n",
        "    if i > 3:\n",
        "        continue\n",
        "    else:\n",
        "        print(i)"
      ],
      "execution_count": null,
      "outputs": [
        {
          "output_type": "stream",
          "text": [
            "0\n",
            "1\n",
            "2\n",
            "3\n"
          ],
          "name": "stdout"
        }
      ]
    },
    {
      "cell_type": "markdown",
      "metadata": {
        "id": "OAqZaJQVp9Rt"
      },
      "source": [
        "### 2.2.3 `while`\n",
        "\n",
        "In contrast to a `for` loop, a `while` loop continues to execute while the initiating condition continues to evaluate as True."
      ]
    },
    {
      "cell_type": "code",
      "metadata": {
        "colab": {
          "base_uri": "https://localhost:8080/"
        },
        "id": "ROqEyqZGqH5Z",
        "outputId": "7e9f6d66-81f0-445c-d430-f52e592ec8fa"
      },
      "source": [
        "a = 0\n",
        "while a < 10:\n",
        "  a += 5\n",
        "  print(\"hello!\")\n",
        "a"
      ],
      "execution_count": null,
      "outputs": [
        {
          "output_type": "stream",
          "text": [
            "hello!\n",
            "hello!\n"
          ],
          "name": "stdout"
        },
        {
          "output_type": "execute_result",
          "data": {
            "text/plain": [
              "10"
            ]
          },
          "metadata": {
            "tags": []
          },
          "execution_count": 204
        }
      ]
    },
    {
      "cell_type": "markdown",
      "metadata": {
        "id": "eRcgHegfqWm_"
      },
      "source": [
        "You can also use `break` and `continue` in `while` loops"
      ]
    },
    {
      "cell_type": "code",
      "metadata": {
        "colab": {
          "base_uri": "https://localhost:8080/"
        },
        "id": "lorokIajqcBF",
        "outputId": "ffb2dd36-b824-4479-942d-0cf694ddb540"
      },
      "source": [
        "while True:\n",
        "  print(\"hello!\")\n",
        "  break"
      ],
      "execution_count": null,
      "outputs": [
        {
          "output_type": "stream",
          "text": [
            "hello!\n"
          ],
          "name": "stdout"
        }
      ]
    },
    {
      "cell_type": "markdown",
      "metadata": {
        "id": "SiBb7ZKNkCzI"
      },
      "source": [
        "#### Question 2: While Loops\n",
        "\n",
        "> What happens in this cell?\n",
        "```\n",
        "a = 0\n",
        "while a < 10:\n",
        "  if a == 5:\n",
        "    continue\n",
        "  a += 5\n",
        "  print(\"hello!\")\n",
        "```"
      ]
    },
    {
      "cell_type": "code",
      "metadata": {
        "id": "wtWZejWMkPvz"
      },
      "source": [
        "# a = 0\n",
        "# while a < 10:\n",
        "#   if a == 5:\n",
        "#     continue\n",
        "#   a += 5\n",
        "#   print(\"hello!\")\n",
        "# a"
      ],
      "execution_count": null,
      "outputs": []
    },
    {
      "cell_type": "markdown",
      "metadata": {
        "id": "0HkLaZ7sXc_K"
      },
      "source": [
        "## 2.3 The Zen of Python\n",
        "\n",
        "Finally, let's use end with a philosophy of Python.  This is a fun [Easter Egg](https://en.wikipedia.org/wiki/Easter_egg_(media)), to see it, `import this`:"
      ]
    },
    {
      "cell_type": "code",
      "metadata": {
        "id": "ri49oLdbXc_K",
        "colab": {
          "base_uri": "https://localhost:8080/"
        },
        "outputId": "2eb2ab99-adcb-481b-cf3d-54d0e42f41a8"
      },
      "source": [
        "import this"
      ],
      "execution_count": null,
      "outputs": [
        {
          "output_type": "stream",
          "text": [
            "The Zen of Python, by Tim Peters\n",
            "\n",
            "Beautiful is better than ugly.\n",
            "Explicit is better than implicit.\n",
            "Simple is better than complex.\n",
            "Complex is better than complicated.\n",
            "Flat is better than nested.\n",
            "Sparse is better than dense.\n",
            "Readability counts.\n",
            "Special cases aren't special enough to break the rules.\n",
            "Although practicality beats purity.\n",
            "Errors should never pass silently.\n",
            "Unless explicitly silenced.\n",
            "In the face of ambiguity, refuse the temptation to guess.\n",
            "There should be one-- and preferably only one --obvious way to do it.\n",
            "Although that way may not be obvious at first unless you're Dutch.\n",
            "Now is better than never.\n",
            "Although never is often better than *right* now.\n",
            "If the implementation is hard to explain, it's a bad idea.\n",
            "If the implementation is easy to explain, it may be a good idea.\n",
            "Namespaces are one honking great idea -- let's do more of those!\n"
          ],
          "name": "stdout"
        }
      ]
    },
    {
      "cell_type": "markdown",
      "metadata": {
        "id": "ohjY-dUcXc_K"
      },
      "source": [
        "## 2.4 References\n",
        "\n",
        "Some links to references from content in this notebook are consolidated here for easy access.  Enjoy!\n",
        "\n",
        "* [Using equations in Markdown in Jupyter notebooks](https://medium.com/analytics-vidhya/writing-math-equations-in-jupyter-notebook-a-naive-introduction-a5ce87b9a214)\n",
        "* [How numbers are represented in a computer](http://steve.hollasch.net/cgindex/coding/ieeefloat.html)\n",
        "* [Grace Hopper](https://en.wikipedia.org/wiki/Grace_Hopper) and [her photo of a `bug` in her notebook](https://en.wikipedia.org/wiki/Grace_Hopper#/media/File:First_Computer_Bug,_1945.jpg)\n",
        "* Programmer culture touchpoint: the word [grok](https://en.wikipedia.org/wiki/Grok)\n",
        "* Converting code from one programming language to another is called [Porting](https://en.wikipedia.org/wiki/Porting)\n",
        "* _slices_ and _ranges_ in Python are known as **[_half-open intervals_](https://en.wikipedia.org/wiki/Interval_(mathematics))**\n",
        "* [Python documentation for lists](https://docs.python.org/3/tutorial/datastructures.html#more-on-lists)\n",
        "* [Negative list indices in Python](https://googlethatforyou.com?q=negative%20indexing%20in%20python)\n",
        "* [Python documentation for dictionaries](https://docs.python.org/3/tutorial/datastructures.html#dictionaries)\n",
        "* [Python documentation for the `range` function](https://docs.python.org/3.3/library/stdtypes.html?highlight=range#ranges)\n",
        "* [Third party documentation for `if` statements](https://www.w3schools.com/python/python_conditions.asp)\n",
        "* [Third party documentation for `for` loops](https://www.w3schools.com/python/python_for_loops.asp)\n",
        "* [Third party documentation for functions](https://www.w3schools.com/python/python_functions.asp)\n",
        "* The correct name for the \"Russian Nesting Doll\" is a \"[Matryoshka doll](https://en.wikipedia.org/wiki/Matryoshka_doll)\"\n",
        "* [Formatting strings to include values of variables](https://docs.python.org/3/tutorial/inputoutput.html#fancier-output-formatting)\n",
        "* [Zen of Python](https://www.python.org/dev/peps/pep-0020/)\n",
        "* [Easter Egg](https://en.wikipedia.org/wiki/Easter_egg_(media))"
      ]
    }
  ]
}