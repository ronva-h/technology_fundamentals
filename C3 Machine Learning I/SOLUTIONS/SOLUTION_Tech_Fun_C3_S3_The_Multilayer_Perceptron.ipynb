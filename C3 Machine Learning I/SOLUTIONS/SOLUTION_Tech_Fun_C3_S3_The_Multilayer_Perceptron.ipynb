{
  "nbformat": 4,
  "nbformat_minor": 0,
  "metadata": {
    "colab": {
      "name": "SOLUTION Tech Fun C3 S3 The Multilayer Perceptron.ipynb",
      "provenance": [],
      "collapsed_sections": [],
      "toc_visible": true,
      "authorship_tag": "ABX9TyMyhvcKY1vQjklUZSeabG4W",
      "include_colab_link": true
    },
    "kernelspec": {
      "name": "python3",
      "display_name": "Python 3"
    },
    "language_info": {
      "name": "python"
    }
  },
  "cells": [
    {
      "cell_type": "markdown",
      "metadata": {
        "id": "view-in-github",
        "colab_type": "text"
      },
      "source": [
        "<a href=\"https://colab.research.google.com/github/wesleybeckner/technology_fundamentals/blob/main/C3%20Machine%20Learning%20I/SOLUTIONS/SOLUTION_Tech_Fun_C3_S3_The_Multilayer_Perceptron.ipynb\" target=\"_parent\"><img src=\"https://colab.research.google.com/assets/colab-badge.svg\" alt=\"Open In Colab\"/></a>"
      ]
    },
    {
      "cell_type": "markdown",
      "metadata": {
        "id": "vhe1yX4AMckE"
      },
      "source": [
        "# Technology Fundamentals Course 3, Session 3: The Multilayer Perceptron\n",
        "\n",
        "**Instructor**: Wesley Beckner\n",
        "\n",
        "**Contact**: wesleybeckner@gmail.com\n",
        "\n",
        "**Teaching Assitants**: Varsha Bang, Harsha Vardhan\n",
        "\n",
        "**Contact**: vbang@uw.edu, harshav@uw.edu\n",
        "\n",
        "<br>\n",
        "\n",
        "---\n",
        "\n",
        "<br>\n",
        "\n",
        "In this session we will introduce NEURAL NETWORKS! We'll cover the over arching concepts used to talk about network architecture as well as their building blocks.\n",
        "\n",
        "_images in this notebook borrowed from [Ryan Holbrook](https://mathformachines.com/)_\n",
        "\n",
        "<br>\n",
        "\n",
        "---\n",
        "\n",
        "<br>\n",
        "\n",
        "<a name='top'></a>\n",
        "\n",
        "# Contents\n",
        "\n",
        "* 1.0 [Preparing Environment and Importing Data](#x.0)\n",
        "  * 1.0.1 [Import Packages](#x.0.1)\n",
        "  * 1.0.2 [Load Dataset](#x.0.2)\n",
        "* 1.1 [Neural Network Architectures](#x.1)\n",
        "  * 1.1.1 [Input, Output, and Hidden Layers](#x.1.1)\n",
        "  * 1.1.2 [Feed Forward](#x.1.2)\n",
        "  * 1.1.3 [Recurrent](#x.1.3)\n",
        "  * 1.1.4 [Convolutional](#x.1.4)\n",
        "* 1.2 [Neural Network Building Blocks](#x.2)\n",
        "  * 1.2.1 [Assigning Blame](#x.2.1)\n",
        "  * 1.2.2 [Chain Rule](#x.2.2)\n",
        "  * 1.2.3 [Back-Propagation](#x.2.3)\n",
        "  * 1.2.4 [Maximum Likelihood Estimation](#x.2.4)\n",
        "    * 1.2.4.1 [Linear Regression as Maximum Likelihood](#x.2.4.1)\n",
        "  * 1.2.5 [Activation Functions](#x.2.5)\n",
        "* 1.3 [Enrichment: Program Your Own Neural Network](#x.3)\n",
        "  \n",
        "\n",
        "<br>\n",
        "\n",
        "---"
      ]
    },
    {
      "cell_type": "markdown",
      "metadata": {
        "id": "mNtJitcRW51Y"
      },
      "source": [
        "<a name='x.0'></a>\n",
        "\n",
        "## 1.0 Preparing Environment and Importing Data\n",
        "\n",
        "[back to top](#top)"
      ]
    },
    {
      "cell_type": "code",
      "metadata": {
        "colab": {
          "base_uri": "https://localhost:8080/"
        },
        "id": "C3kYgV3LLGKJ",
        "outputId": "8ac0e8d2-0f03-43ab-a63b-d3fad55fbc9e"
      },
      "source": [
        "!pip uninstall scikit-learn -y\n",
        "\n",
        "!pip install -U scikit-learn"
      ],
      "execution_count": 1,
      "outputs": [
        {
          "output_type": "stream",
          "text": [
            "Found existing installation: scikit-learn 0.22.2.post1\n",
            "Uninstalling scikit-learn-0.22.2.post1:\n",
            "  Successfully uninstalled scikit-learn-0.22.2.post1\n",
            "Collecting scikit-learn\n",
            "  Downloading scikit_learn-0.24.2-cp37-cp37m-manylinux2010_x86_64.whl (22.3 MB)\n",
            "\u001b[K     |████████████████████████████████| 22.3 MB 1.5 MB/s \n",
            "\u001b[?25hCollecting threadpoolctl>=2.0.0\n",
            "  Downloading threadpoolctl-2.2.0-py3-none-any.whl (12 kB)\n",
            "Requirement already satisfied: joblib>=0.11 in /usr/local/lib/python3.7/dist-packages (from scikit-learn) (1.0.1)\n",
            "Requirement already satisfied: scipy>=0.19.1 in /usr/local/lib/python3.7/dist-packages (from scikit-learn) (1.4.1)\n",
            "Requirement already satisfied: numpy>=1.13.3 in /usr/local/lib/python3.7/dist-packages (from scikit-learn) (1.19.5)\n",
            "Installing collected packages: threadpoolctl, scikit-learn\n",
            "Successfully installed scikit-learn-0.24.2 threadpoolctl-2.2.0\n"
          ],
          "name": "stdout"
        }
      ]
    },
    {
      "cell_type": "markdown",
      "metadata": {
        "id": "chdcBoBL8SNm"
      },
      "source": [
        "<a name='x.0.1'></a>\n",
        "\n",
        "### 1.0.1 Import Packages\n",
        "\n",
        "[back to top](#top)"
      ]
    },
    {
      "cell_type": "code",
      "metadata": {
        "id": "KtCyp8X9zjpF"
      },
      "source": [
        "from tensorflow import keras\n",
        "from keras import backend as K\n",
        "from tensorflow.keras import layers\n",
        "import pandas as pd\n",
        "import matplotlib.pyplot as plt\n",
        "import seaborn as sns\n",
        "import tensorflow as tf\n",
        "from sklearn.model_selection import train_test_split\n",
        "import plotly.express as px\n",
        "\n",
        "from sklearn.impute import SimpleImputer\n",
        "from copy import copy\n",
        "sns.set()\n",
        "\n",
        "import numpy as np\n",
        "import pandas as pd\n",
        "from sklearn.preprocessing import StandardScaler, OneHotEncoder\n",
        "from sklearn.compose import make_column_transformer, make_column_selector\n",
        "from sklearn import set_config\n",
        "from sklearn.pipeline import make_pipeline\n",
        "from sklearn.metrics import mean_squared_error\n",
        "set_config(display='diagram')"
      ],
      "execution_count": 2,
      "outputs": []
    },
    {
      "cell_type": "markdown",
      "metadata": {
        "id": "R7vDY-8U8SWd"
      },
      "source": [
        "<a name='x.0.1'></a>\n",
        "\n",
        "### 1.0.2 Load Dataset\n",
        "\n",
        "[back to top](#top)\n",
        "\n",
        "Before diving in I want to compare two methods of reading and preprocessing our data:"
      ]
    },
    {
      "cell_type": "code",
      "metadata": {
        "colab": {
          "base_uri": "https://localhost:8080/",
          "height": 135
        },
        "id": "AXSQeVAvKySD",
        "outputId": "27d5c5f7-464b-4e7d-cb76-912cf757606f"
      },
      "source": [
        "# import wine data\n",
        "wine = pd.read_csv(\"https://raw.githubusercontent.com/wesleybeckner/\"\\\n",
        "      \"ds_for_engineers/main/data/wine_quality/winequalityN.csv\")\n",
        "\n",
        "# create X and y\n",
        "X = wine.copy()\n",
        "y = X.pop('quality')\n",
        "\n",
        "# split into train/test\n",
        "X_train, X_test, y_train, y_test = train_test_split(X, y)\n",
        "X_train, X_val, y_train, y_val = train_test_split(X_train, y_train)\n",
        "\n",
        "# the numerical values pipe\n",
        "num_proc = make_pipeline(SimpleImputer(strategy='median'), # impute with median\n",
        "                         StandardScaler()) # scale and center\n",
        "\n",
        "# the categorical values pipe\n",
        "cat_proc = make_pipeline(\n",
        "    SimpleImputer(strategy='constant', \n",
        "                  fill_value='missing'), # impute with placeholder\n",
        "    OneHotEncoder(handle_unknown='ignore')) # one hot encode\n",
        "\n",
        "# parallelize the two pipes\n",
        "preprocessor = make_column_transformer((num_proc,\n",
        "                                make_column_selector(dtype_include=np.number)),\n",
        "                                       (cat_proc,\n",
        "                                make_column_selector(dtype_include=object)))\n",
        "\n",
        "X_train_std = preprocessor.fit_transform(X_train) # fit_transform on train\n",
        "X_test_std = preprocessor.transform(X_test) # transform test and validation\n",
        "X_val_std = preprocessor.transform(X_val)\n",
        "\n",
        "y_train_std = np.log(y_train) # log output y\n",
        "y_val_std = np.log(y_val) # log output y\n",
        "y_test_std = np.log(y_test) # log output y\n",
        "\n",
        "preprocessor"
      ],
      "execution_count": 3,
      "outputs": [
        {
          "output_type": "execute_result",
          "data": {
            "text/html": [
              "<style>#sk-a230d5ea-3837-4cdd-902e-00187dd15e67 {color: black;background-color: white;}#sk-a230d5ea-3837-4cdd-902e-00187dd15e67 pre{padding: 0;}#sk-a230d5ea-3837-4cdd-902e-00187dd15e67 div.sk-toggleable {background-color: white;}#sk-a230d5ea-3837-4cdd-902e-00187dd15e67 label.sk-toggleable__label {cursor: pointer;display: block;width: 100%;margin-bottom: 0;padding: 0.2em 0.3em;box-sizing: border-box;text-align: center;}#sk-a230d5ea-3837-4cdd-902e-00187dd15e67 div.sk-toggleable__content {max-height: 0;max-width: 0;overflow: hidden;text-align: left;background-color: #f0f8ff;}#sk-a230d5ea-3837-4cdd-902e-00187dd15e67 div.sk-toggleable__content pre {margin: 0.2em;color: black;border-radius: 0.25em;background-color: #f0f8ff;}#sk-a230d5ea-3837-4cdd-902e-00187dd15e67 input.sk-toggleable__control:checked~div.sk-toggleable__content {max-height: 200px;max-width: 100%;overflow: auto;}#sk-a230d5ea-3837-4cdd-902e-00187dd15e67 div.sk-estimator input.sk-toggleable__control:checked~label.sk-toggleable__label {background-color: #d4ebff;}#sk-a230d5ea-3837-4cdd-902e-00187dd15e67 div.sk-label input.sk-toggleable__control:checked~label.sk-toggleable__label {background-color: #d4ebff;}#sk-a230d5ea-3837-4cdd-902e-00187dd15e67 input.sk-hidden--visually {border: 0;clip: rect(1px 1px 1px 1px);clip: rect(1px, 1px, 1px, 1px);height: 1px;margin: -1px;overflow: hidden;padding: 0;position: absolute;width: 1px;}#sk-a230d5ea-3837-4cdd-902e-00187dd15e67 div.sk-estimator {font-family: monospace;background-color: #f0f8ff;margin: 0.25em 0.25em;border: 1px dotted black;border-radius: 0.25em;box-sizing: border-box;}#sk-a230d5ea-3837-4cdd-902e-00187dd15e67 div.sk-estimator:hover {background-color: #d4ebff;}#sk-a230d5ea-3837-4cdd-902e-00187dd15e67 div.sk-parallel-item::after {content: \"\";width: 100%;border-bottom: 1px solid gray;flex-grow: 1;}#sk-a230d5ea-3837-4cdd-902e-00187dd15e67 div.sk-label:hover label.sk-toggleable__label {background-color: #d4ebff;}#sk-a230d5ea-3837-4cdd-902e-00187dd15e67 div.sk-serial::before {content: \"\";position: absolute;border-left: 1px solid gray;box-sizing: border-box;top: 2em;bottom: 0;left: 50%;}#sk-a230d5ea-3837-4cdd-902e-00187dd15e67 div.sk-serial {display: flex;flex-direction: column;align-items: center;background-color: white;}#sk-a230d5ea-3837-4cdd-902e-00187dd15e67 div.sk-item {z-index: 1;}#sk-a230d5ea-3837-4cdd-902e-00187dd15e67 div.sk-parallel {display: flex;align-items: stretch;justify-content: center;background-color: white;}#sk-a230d5ea-3837-4cdd-902e-00187dd15e67 div.sk-parallel-item {display: flex;flex-direction: column;position: relative;background-color: white;}#sk-a230d5ea-3837-4cdd-902e-00187dd15e67 div.sk-parallel-item:first-child::after {align-self: flex-end;width: 50%;}#sk-a230d5ea-3837-4cdd-902e-00187dd15e67 div.sk-parallel-item:last-child::after {align-self: flex-start;width: 50%;}#sk-a230d5ea-3837-4cdd-902e-00187dd15e67 div.sk-parallel-item:only-child::after {width: 0;}#sk-a230d5ea-3837-4cdd-902e-00187dd15e67 div.sk-dashed-wrapped {border: 1px dashed gray;margin: 0.2em;box-sizing: border-box;padding-bottom: 0.1em;background-color: white;position: relative;}#sk-a230d5ea-3837-4cdd-902e-00187dd15e67 div.sk-label label {font-family: monospace;font-weight: bold;background-color: white;display: inline-block;line-height: 1.2em;}#sk-a230d5ea-3837-4cdd-902e-00187dd15e67 div.sk-label-container {position: relative;z-index: 2;text-align: center;}#sk-a230d5ea-3837-4cdd-902e-00187dd15e67 div.sk-container {display: inline-block;position: relative;}</style><div id=\"sk-a230d5ea-3837-4cdd-902e-00187dd15e67\" class\"sk-top-container\"><div class=\"sk-container\"><div class=\"sk-item sk-dashed-wrapped\"><div class=\"sk-label-container\"><div class=\"sk-label sk-toggleable\"><input class=\"sk-toggleable__control sk-hidden--visually\" id=\"444e722d-a15a-4035-ac17-c9640c887d84\" type=\"checkbox\" ><label class=\"sk-toggleable__label\" for=\"444e722d-a15a-4035-ac17-c9640c887d84\">ColumnTransformer</label><div class=\"sk-toggleable__content\"><pre>ColumnTransformer(transformers=[('pipeline-1',\n",
              "                                 Pipeline(steps=[('simpleimputer',\n",
              "                                                  SimpleImputer(strategy='median')),\n",
              "                                                 ('standardscaler',\n",
              "                                                  StandardScaler())]),\n",
              "                                 <sklearn.compose._column_transformer.make_column_selector object at 0x7fab6f00bed0>),\n",
              "                                ('pipeline-2',\n",
              "                                 Pipeline(steps=[('simpleimputer',\n",
              "                                                  SimpleImputer(fill_value='missing',\n",
              "                                                                strategy='constant')),\n",
              "                                                 ('onehotencoder',\n",
              "                                                  OneHotEncoder(handle_unknown='ignore'))]),\n",
              "                                 <sklearn.compose._column_transformer.make_column_selector object at 0x7fab6f00b8d0>)])</pre></div></div></div><div class=\"sk-parallel\"><div class=\"sk-parallel-item\"><div class=\"sk-item\"><div class=\"sk-label-container\"><div class=\"sk-label sk-toggleable\"><input class=\"sk-toggleable__control sk-hidden--visually\" id=\"a9953c9b-eaab-4b91-8382-766c8ee3bb91\" type=\"checkbox\" ><label class=\"sk-toggleable__label\" for=\"a9953c9b-eaab-4b91-8382-766c8ee3bb91\">pipeline-1</label><div class=\"sk-toggleable__content\"><pre><sklearn.compose._column_transformer.make_column_selector object at 0x7fab6f00bed0></pre></div></div></div><div class=\"sk-serial\"><div class=\"sk-item\"><div class=\"sk-serial\"><div class=\"sk-item\"><div class=\"sk-estimator sk-toggleable\"><input class=\"sk-toggleable__control sk-hidden--visually\" id=\"1b506241-abbc-4f87-833d-d0e677cd9765\" type=\"checkbox\" ><label class=\"sk-toggleable__label\" for=\"1b506241-abbc-4f87-833d-d0e677cd9765\">SimpleImputer</label><div class=\"sk-toggleable__content\"><pre>SimpleImputer(strategy='median')</pre></div></div></div><div class=\"sk-item\"><div class=\"sk-estimator sk-toggleable\"><input class=\"sk-toggleable__control sk-hidden--visually\" id=\"19cc57e2-033b-49fc-82a0-006c3727dafe\" type=\"checkbox\" ><label class=\"sk-toggleable__label\" for=\"19cc57e2-033b-49fc-82a0-006c3727dafe\">StandardScaler</label><div class=\"sk-toggleable__content\"><pre>StandardScaler()</pre></div></div></div></div></div></div></div></div><div class=\"sk-parallel-item\"><div class=\"sk-item\"><div class=\"sk-label-container\"><div class=\"sk-label sk-toggleable\"><input class=\"sk-toggleable__control sk-hidden--visually\" id=\"6f6f69fa-d94b-404b-ac87-065478b1516e\" type=\"checkbox\" ><label class=\"sk-toggleable__label\" for=\"6f6f69fa-d94b-404b-ac87-065478b1516e\">pipeline-2</label><div class=\"sk-toggleable__content\"><pre><sklearn.compose._column_transformer.make_column_selector object at 0x7fab6f00b8d0></pre></div></div></div><div class=\"sk-serial\"><div class=\"sk-item\"><div class=\"sk-serial\"><div class=\"sk-item\"><div class=\"sk-estimator sk-toggleable\"><input class=\"sk-toggleable__control sk-hidden--visually\" id=\"2f474a39-6517-4e1d-9a16-2f8f415dcd4b\" type=\"checkbox\" ><label class=\"sk-toggleable__label\" for=\"2f474a39-6517-4e1d-9a16-2f8f415dcd4b\">SimpleImputer</label><div class=\"sk-toggleable__content\"><pre>SimpleImputer(fill_value='missing', strategy='constant')</pre></div></div></div><div class=\"sk-item\"><div class=\"sk-estimator sk-toggleable\"><input class=\"sk-toggleable__control sk-hidden--visually\" id=\"0a02e4fd-0084-4cfb-96ba-015186239bab\" type=\"checkbox\" ><label class=\"sk-toggleable__label\" for=\"0a02e4fd-0084-4cfb-96ba-015186239bab\">OneHotEncoder</label><div class=\"sk-toggleable__content\"><pre>OneHotEncoder(handle_unknown='ignore')</pre></div></div></div></div></div></div></div></div></div></div></div></div>"
            ],
            "text/plain": [
              "ColumnTransformer(transformers=[('pipeline-1',\n",
              "                                 Pipeline(steps=[('simpleimputer',\n",
              "                                                  SimpleImputer(strategy='median')),\n",
              "                                                 ('standardscaler',\n",
              "                                                  StandardScaler())]),\n",
              "                                 <sklearn.compose._column_transformer.make_column_selector object at 0x7fab6f00bed0>),\n",
              "                                ('pipeline-2',\n",
              "                                 Pipeline(steps=[('simpleimputer',\n",
              "                                                  SimpleImputer(fill_value='missing',\n",
              "                                                                strategy='constant')),\n",
              "                                                 ('onehotencoder',\n",
              "                                                  OneHotEncoder(handle_unknown='ignore'))]),\n",
              "                                 <sklearn.compose._column_transformer.make_column_selector object at 0x7fab6f00b8d0>)])"
            ]
          },
          "metadata": {
            "tags": []
          },
          "execution_count": 3
        }
      ]
    },
    {
      "cell_type": "markdown",
      "metadata": {
        "id": "wlj85iTSIwji"
      },
      "source": [
        "<a name='x.1'></a>\n",
        "\n",
        "## 1.2 Neural Network Building Blocks\n",
        "\n",
        "[back to top](#top)"
      ]
    },
    {
      "cell_type": "markdown",
      "metadata": {
        "id": "b-5Mx4C8u5oy"
      },
      "source": [
        "<a name='x.1.1'></a>\n",
        "\n",
        "### 1.1.1 The Perceptron\n",
        "\n",
        "[back to top](#top)\n",
        "\n",
        "The simplest unit of a neural network is the perceptron. Given an input vector $x$ and an output vector $y$, we can illustrate this like so:\n",
        "\n",
        "<p align=center>\n",
        "<img src=\"https://i.imgur.com/mfOlDR6.png\"></img>\n",
        "</p>\n",
        "\n",
        "where $w$ is a weight applied to $x$ and $b$ is an unweighted term that we call the <i>bias</i>. We include a bias so that the perceptron is not entirely dependent on the input data. A neural network _learns_ by updating $w$ and $b$ so that it can accurately model $x$ to $y$. When we write out the perceptron mathematically we get the following:\n",
        "\n",
        "$$ y = xw+b $$\n",
        "\n",
        "which should look familiar! This is our equation for a linear function. In fact, we will see that a neural network is essentially many instances of linear regression along side, and being fed into, one another. \n",
        "\n",
        "Often, we will have not an input feature vector $x$ but an input feature matrix, $X$. We can update our schematic for a perceptron to account for this:\n",
        "\n",
        "<p align=center>\n",
        "<img src=\"https://i.imgur.com/vyXSnlZ.png\"></img>\n",
        "</p>\n",
        "\n",
        "We can write the mathematical formula for this neuron as follows:\n",
        "\n",
        "$$ y =  x_2 w_2 + x_1 w_1 + x_0 w_0 + b $$\n",
        "\n",
        "In tensorflow/keras we can define this perceptron:"
      ]
    },
    {
      "cell_type": "code",
      "metadata": {
        "id": "QG0y0XItu_9J"
      },
      "source": [
        "from tensorflow import keras\n",
        "from tensorflow.keras import layers\n",
        "\n",
        "# Create a network with 1 linear unit\n",
        "model = keras.Sequential([\n",
        "    layers.Dense(units=1,  # number of units (the + filled circle above)\n",
        "                 input_shape=[3]) # number of x_ (the x filled circle above)\n",
        "])"
      ],
      "execution_count": null,
      "outputs": []
    },
    {
      "cell_type": "markdown",
      "metadata": {
        "id": "2REdlnhH1dHS"
      },
      "source": [
        "In order to build this single perceptron with keras, I had to use some additional language here: layers, dense, sequential. We'll explain what these are referring to in a moment. What I want to draw your attention to now, however, is that we tell `layers.Dense` that we want _1 unit_, the single perceptron, and `input_shape=[3]`, the number of features. Notice that `b` is automatically included without having it as a parameter. Just as we always have a y intercept in a linear model. \n",
        "\n",
        "After we introduce the other aspects of the neural network architecture, we will train a single perceptron model and compare it with a linear model, we will see that they are functionally no different."
      ]
    },
    {
      "cell_type": "markdown",
      "metadata": {
        "id": "hrtzdoY63JzU"
      },
      "source": [
        "### 1.1.2 Exercise: Single Perceptron\n",
        "\n",
        "define a single perceptron that could be used to predict wine density from acidity. \n",
        "\n",
        "\n",
        "Inpsect the weights.\n",
        "\n",
        "Use the untrained model to predict y and plot this against true y"
      ]
    },
    {
      "cell_type": "code",
      "metadata": {
        "id": "NNTUB3NZ2v1v",
        "colab": {
          "base_uri": "https://localhost:8080/"
        },
        "outputId": "00918e52-0696-49a8-9a63-1c671aad01d6"
      },
      "source": [
        "# Code cell for exercise 1.2.2\n",
        "\n",
        "# DECLARE MODEL\n",
        "model = keras.Sequential([\n",
        "                          \n",
        "    ### YOUR CODE HERE ###   \n",
        "    layers.Dense(units=1, input_shape=[1]),\n",
        "    \n",
        "])\n",
        "model.weights"
      ],
      "execution_count": 15,
      "outputs": [
        {
          "output_type": "execute_result",
          "data": {
            "text/plain": [
              "[<tf.Variable 'dense_8/kernel:0' shape=(1, 1) dtype=float32, numpy=array([[-1.0937958]], dtype=float32)>,\n",
              " <tf.Variable 'dense_8/bias:0' shape=(1,) dtype=float32, numpy=array([0.], dtype=float32)>]"
            ]
          },
          "metadata": {
            "tags": []
          },
          "execution_count": 15
        }
      ]
    },
    {
      "cell_type": "markdown",
      "metadata": {
        "id": "Me3pIoaHFWA1"
      },
      "source": [
        "And now use the untrained model to predict `wine['density']` from `wine['fixed acidity']`"
      ]
    },
    {
      "cell_type": "code",
      "metadata": {
        "id": "EQYOBHnM3VM7",
        "colab": {
          "base_uri": "https://localhost:8080/",
          "height": 285
        },
        "outputId": "8d355741-88ae-46da-a93f-036a1351c73f"
      },
      "source": [
        "# in the line below, use model.predict() and provide wine['fixed acidity'] as \n",
        "# the input data to predict what wine['density'] will be\n",
        "y_pred = model.predict(wine['fixed acidity'])\n",
        "\n",
        "plt.plot(y_pred, wine['density'], ls='', marker='o', alpha=0.3)"
      ],
      "execution_count": 16,
      "outputs": [
        {
          "output_type": "execute_result",
          "data": {
            "text/plain": [
              "[<matplotlib.lines.Line2D at 0x7fab64d6ec90>]"
            ]
          },
          "metadata": {
            "tags": []
          },
          "execution_count": 16
        },
        {
          "output_type": "display_data",
          "data": {
            "image/png": "[encoded data removed]",
            "text/plain": [
              "<Figure size 432x288 with 1 Axes>"
            ]
          },
          "metadata": {
            "tags": []
          }
        }
      ]
    },
    {
      "cell_type": "markdown",
      "metadata": {
        "id": "062Czp9-rBOi"
      },
      "source": [
        "<a name='x.2'></a>\n",
        "\n",
        "## 1.2 Neural Network Architectures\n",
        "\n",
        "[back to top](#top)\n",
        "\n"
      ]
    },
    {
      "cell_type": "markdown",
      "metadata": {
        "id": "lPKG1QnNIq_l"
      },
      "source": [
        "<a name='x.2.1'></a>\n",
        "\n",
        "###1.2.1 Neural Network Layers\n",
        "\n",
        "[back to top](#top)\n",
        "\n",
        "Now that we have the idea of the most basic building block of a neural network, we will start to discuss the larger architecture. The reason we focused on the lowest building block, is that neural networks are _modular_. They are made up of instances of these perceptrons or neurons. neurons in parallel make up a _layer_\n",
        "\n",
        "<p align=center>\n",
        "<img src=\"https://i.imgur.com/2MA4iMV.png\"></img>\n",
        "<p>\n",
        "\n",
        "These layers feed into one another. When each node of a preceding layer is connected to every node of a following layer, we say they are _fully connected_ and the receiving layer is _a dense layer_. In a moment we will talk about input, output and hidden layers, for neural networks with three or more layers."
      ]
    },
    {
      "cell_type": "markdown",
      "metadata": {
        "id": "5QKiWYNwKAPE"
      },
      "source": [
        "<a name='x.2.2'></a>\n",
        "\n",
        "### 1.2.2 The Activation Function\n",
        "\n",
        "[back to top](#top)\n",
        "\n",
        "It turns out that stringing together a bunch of linear functions, will still result in overall linear relationships. We need a way to break out of this. A neat trick is introduced at the output of each neuron. The output passes through an _activation function_. There are a handful of different activation functions used in practice, the most common is known as the _rectifier_ function:\n",
        "\n",
        "$$ max(f(x), 0) $$\n",
        "\n",
        "and the resulting node can be schematically drawn like this:\n",
        "\n",
        "<p align=center>\n",
        "<img src=\"https://i.imgur.com/eFry7Yu.png\"></img>\n",
        "</p>\n",
        "\n",
        "with the inset of the summation node indicating that at a minimum the resultant y value is 0."
      ]
    },
    {
      "cell_type": "markdown",
      "metadata": {
        "id": "r6J9H0lAGLaD"
      },
      "source": [
        "#### 1.2.2.1 Exercise: The Rectifier Function\n",
        "\n",
        "Write a function called `my_perceptron` that takes x, a length 2 array, as an input. Have your function return the maximum of $(0, w*x + b)$ where w is a length 2 weight vector."
      ]
    },
    {
      "cell_type": "code",
      "metadata": {
        "id": "Ukr1k7ZGGrD_"
      },
      "source": [
        "def my_perceptron(x):\n",
        "  \"\"\"\n",
        "  a simple 2 input feature perceptron with predefined weights, intercept, and \n",
        "  a rectifier activation function\n",
        "\n",
        "  Parameters\n",
        "  ----------\n",
        "  x: array\n",
        "    the input array of length 2\n",
        "\n",
        "  Returns\n",
        "  -------\n",
        "  rect: int\n",
        "    the rectified output of the perceptron\n",
        "  \"\"\"\n",
        "\n",
        "  # # define b, w, and y (y=mx+b)\n",
        "  w = [1, 2]\n",
        "  b = 1\n",
        "  y = np.dot(w,x) + b \n",
        "\n",
        "  # # return the max of 0 and y\n",
        "  rect = max(0, y)\n",
        "  return rect"
      ],
      "execution_count": 17,
      "outputs": []
    },
    {
      "cell_type": "markdown",
      "metadata": {
        "id": "99EI6eYzIRBA"
      },
      "source": [
        "After you write your function make sure it returns 0 when the output of the linear component is negative."
      ]
    },
    {
      "cell_type": "code",
      "metadata": {
        "id": "5yyXqBSIG-wO"
      },
      "source": [
        "def test_zero_output():\n",
        "  x = np.array([10,-10]) # 10 * 1 + (-10) * 2 + 1 = -9\n",
        "  assert my_perceptron(x) == 0, \"The output is not zero when it should be!\""
      ],
      "execution_count": 18,
      "outputs": []
    },
    {
      "cell_type": "code",
      "metadata": {
        "id": "8OsS4iRTIu1u",
        "colab": {
          "base_uri": "https://localhost:8080/"
        },
        "outputId": "76022e9b-53ab-4608-b78a-06e077da17c6"
      },
      "source": [
        "test_zero_output()\n",
        "print(\"test passing\")"
      ],
      "execution_count": 21,
      "outputs": [
        {
          "output_type": "stream",
          "text": [
            "test passing\n"
          ],
          "name": "stdout"
        }
      ]
    },
    {
      "cell_type": "markdown",
      "metadata": {
        "id": "lJJG5cakL9bT"
      },
      "source": [
        "<a name='x.2.3'></a>\n",
        "\n",
        "### 1.2.3 Stacking Layers\n",
        "\n",
        "[back to top](#top)\n",
        "\n",
        "When we stack many layers together, we create what are traditionally regarded as neural networks. the first and last layers are called the _input_ and _output_ layers, while the inbetween layers are referred to as _hidden_ layers, since their outputs are not directly seen. Tradditionally, a neural network with three or more hidden layers is referred to as a _deep_ neural network.\n",
        "\n",
        "<p align=center>\n",
        "<img src=\"https://i.imgur.com/Y5iwFQZ.png\"></img\n",
        "</p>\n",
        "\n",
        "Notice that in this schematic, the last node does not have an activation function. This is typical of a regression task. In a classification task, we might require an activation function here."
      ]
    },
    {
      "cell_type": "markdown",
      "metadata": {
        "id": "p6-UHfSQ3oVc"
      },
      "source": [
        "<a name='x.2.2'></a>\n",
        "\n",
        "### 1.2.2 Building Sequential Neural Networks\n",
        "\n",
        "[back to top](#top)\n",
        "\n",
        "Now that we have the essential components of a neural network architecture, we can enter into the domain of overall naming conventions for architecure types. The classic neural network architecture is a _feed forward_ neural network, where every preceding layer feeds into the next layer. We will practice building that with keras."
      ]
    },
    {
      "cell_type": "markdown",
      "metadata": {
        "id": "V90sK92mNcNL"
      },
      "source": [
        "### 1.2.5 Exercise: Building Sequential Layers\n",
        "\n",
        "In the cell bellow, use keras to build a 3-layer network with `activation='relu'` and 512 units. Create the output layer so that it can predict 1 continuous value."
      ]
    },
    {
      "cell_type": "code",
      "metadata": {
        "id": "-wTgl7X0NkQp"
      },
      "source": [
        "# Cell for exercise 1.1.5\n",
        "\n",
        "# DECLARE THE MODEL\n",
        "\n",
        "model = keras.Sequential([\n",
        "                          \n",
        "    ### YOUR CODE HERE ###\n",
        "\n",
        "    # the hidden ReLU layers\n",
        "    layers.Dense(units=512, activation='relu'),\n",
        "    layers.Dense(units=512, activation='relu'),\n",
        "\n",
        "    # the linear output layer \n",
        "    layers.Dense(units=1),\n",
        "    \n",
        "])"
      ],
      "execution_count": 23,
      "outputs": []
    },
    {
      "cell_type": "markdown",
      "metadata": {
        "id": "ppKeNDLlRLYT"
      },
      "source": [
        "### 1.2.6 Exercise: Other Activation Functions\n",
        "\n",
        "There are other activation functions we can use after the summation in a neural node. Use the code below to plot and inspect them!\n",
        "\n",
        "Pick one and do a quick google search on what that activation function's best use case is."
      ]
    },
    {
      "cell_type": "code",
      "metadata": {
        "id": "j0DzJmfKRCbv",
        "colab": {
          "base_uri": "https://localhost:8080/",
          "height": 288
        },
        "outputId": "7cd3651f-3d02-4bdf-aa81-cd16b9d88788"
      },
      "source": [
        "import tensorflow as tf\n",
        "\n",
        "# YOUR CODE HERE: Change 'relu' to 'elu', 'selu', 'swish'... or something else\n",
        "activation_layer = layers.Activation('swish')\n",
        "\n",
        "x = tf.linspace(-3.0, 3.0, 100)\n",
        "y = activation_layer(x) # once created, a layer is callable just like a function\n",
        "\n",
        "plt.plot(x, y)\n",
        "plt.xlim(-3, 3)\n",
        "plt.xlabel(\"Input\")\n",
        "plt.ylabel(\"Output\")\n",
        "plt.show()"
      ],
      "execution_count": 27,
      "outputs": [
        {
          "output_type": "display_data",
          "data": {
            "image/png": "[encoded data removed]",
            "text/plain": [
              "<Figure size 432x288 with 1 Axes>"
            ]
          },
          "metadata": {
            "tags": []
          }
        }
      ]
    },
    {
      "cell_type": "markdown",
      "metadata": {
        "id": "XOQGi08Gur_g"
      },
      "source": [
        "<a name='x.3'></a>\n",
        "\n",
        "## 1.3 Neural Network Training\n",
        "\n",
        "[back to top](#top)\n",
        "\n",
        "We've defined neural network architectures, now how do we train them? There are two main concepts here: the _loss function_ which we've encountered before, and the _optimizer_ the means by which we improve the loss function"
      ]
    },
    {
      "cell_type": "markdown",
      "metadata": {
        "id": "ERUFHizHT-n9"
      },
      "source": [
        "<a name='x.3.1'></a>\n",
        "\n",
        "### 1.3.1 The Loss Function\n",
        "\n",
        "[back to top](#top)\n",
        "\n",
        "In previous sessions, we've envountered MSE:\n",
        "\n",
        "$$ MSE = \\frac{1}{N}\\sum{(y-\\hat{y})^2}$$\n",
        "\n",
        "<p align=center>\n",
        "<img src=\"https://cdn.corporatefinanceinstitute.com/assets/Sum-of-Squares-1024x712.png\" width=400></img>\n",
        "</p>\n",
        "\n",
        "Another common loss for neural networks is the mean absolute error (MAE):\n",
        "\n",
        "$$ MAE = \\frac{1}{N}\\sum{|y-\\hat{y}|}$$\n",
        "\n",
        "<p align=center>\n",
        "<img src=\"https://cdn-media-1.freecodecamp.org/images/MNskFmGPKuQfMLdmpkT-X7-8w2cJXulP3683\" width=400></img>\n",
        "</p>\n",
        "\n",
        "In anycase, the loss function describes the difference between the actual and predicted output of the model. The important thing to note, is that the weights in the neural network are systematically updated according to this loss function, they do this via an optimization algorithm."
      ]
    },
    {
      "cell_type": "markdown",
      "metadata": {
        "id": "4zE9cBS3nrSH"
      },
      "source": [
        "<a name='x.3.2'></a>\n",
        "\n",
        "### 1.3.2 The Optimizer\n",
        "\n",
        "[back to top](#top)\n",
        "\n",
        "In order to update the neural network weights to improve the loss function, we require an algorithm. Virtually all available algorithms for this purpose fall within the family of _stochastic gradient descent_. This works essentially in these iterative steps:\n",
        "\n",
        "1. a subsample of the input data is passed through the network \n",
        "2. a loss is computed\n",
        "2. the weights are adjusted in a direction to improve the loss\n",
        "\n",
        "> The key here is in step 3. The brilliance of neural networks, is that the loss function is differentiable with respect to the weights in the network, and so the change in loss can be ascribed to certain weight changes. We refer to this as _assigning blame_ in the network, and it works through the mathematical _chain rule_ of differentiation. We won't go into great detail here, other than to make a nod to it, and that this algorithm (step 3) is referred to as _back propagation_. \n",
        "\n",
        "The three step process is repeated until a stop criteria is reached, the simplest being the loss stops improving above some threshold or a desired loss is achieved. \n",
        "\n",
        "<p align=center>\n",
        "<img src=\"https://i.imgur.com/rFI1tIk.gif\"></img>\n",
        "</p>\n",
        "\n",
        "In the above animation, the black line represents the output of the model, the red dots make up a _minibatch_ or simply a _batch_ while the opaque red dots represent the whole training dataset. Exposing the model to an entire round of the training data is referred to as an _epoch_. The training loss improves with additional rounds of trianing (middle panel) and the weights are adjusted to update the model (right panel).\n"
      ]
    },
    {
      "cell_type": "markdown",
      "metadata": {
        "id": "qvWwYKtFmt-Q"
      },
      "source": [
        "### 1.3.3 Batches and Epochs\n",
        "\n",
        "An epoch is the number of times the model will see the entire training set\n",
        "\n",
        "A batch is the number of training samples the model will run before calculating a total error and updating its internal parameters. \n",
        "\n",
        "Variability of batch (from 1 sample all the way to the entire training set size) leads to different categorizations of the optimizer algorithm:\n",
        "\n",
        "* Batch Gradient Descent. Batch Size = Size of Training Set\n",
        "* Stochastic Gradient Descent. Batch Size = 1\n",
        "* Mini-Batch Gradient Descent. 1 < Batch Size < Size of Training Set\n",
        "\n",
        "We will visit additional details about batch and epochs in the next session when we discuss model evaluation."
      ]
    },
    {
      "cell_type": "markdown",
      "metadata": {
        "id": "lVd1TMcerkaJ"
      },
      "source": [
        "<a name='x.3.3'></a>\n",
        "\n",
        "### 1.3.4 Learning Rate\n",
        "\n",
        "[back to top](#top)\n",
        "\n",
        "notice how in the above animation the model makes progressive steps toward a global optimum. The size of these steps is determined by the _learning rate_. You can think of it as the amount of improvement to make in the direction of steepest descent (the derivative of the loss function in regards to the changes in weights). Sometimes a large step size can result in stepping over crevices in the solution surface and getting stuck, while too small of step sizes can lead to a slow algorithm. Often the optimum learning rate is not obvious, luckily there are some optimizers that are self-calibrating in this regard. _Adam_ is one such optimizer available to us in keras. "
      ]
    },
    {
      "cell_type": "code",
      "metadata": {
        "id": "RxBq2QfwuFyh"
      },
      "source": [
        "# we can compile the model like so\n",
        "model.compile(\n",
        "    optimizer=\"adam\",\n",
        "    loss=\"mae\",\n",
        ")"
      ],
      "execution_count": 29,
      "outputs": []
    },
    {
      "cell_type": "markdown",
      "metadata": {
        "id": "2p4qhOHy4BCP"
      },
      "source": [
        "### 1.3.5 Exercise: Train your first Neural Networks\n",
        "\n",
        "[back to top](#top)\n",
        "\n",
        "We're going to train our first neural network.\n",
        "\n",
        "Take the model you created in exercise 1.2.5 and paste it in the cell below. Make sure that the `input_shape` of the first layer matches the number of features in `X_train_std`"
      ]
    },
    {
      "cell_type": "code",
      "metadata": {
        "colab": {
          "base_uri": "https://localhost:8080/"
        },
        "id": "qR725Pij03OC",
        "outputId": "5211b549-d42e-4a10-838c-90a5d7e63ece"
      },
      "source": [
        "X_train_std.shape[1]"
      ],
      "execution_count": 32,
      "outputs": [
        {
          "output_type": "execute_result",
          "data": {
            "text/plain": [
              "13"
            ]
          },
          "metadata": {
            "tags": []
          },
          "execution_count": 32
        }
      ]
    },
    {
      "cell_type": "code",
      "metadata": {
        "id": "spB1UMIMuFOv"
      },
      "source": [
        "# Cell for exercise 1.1.5\n",
        "\n",
        "# DECLARE THE MODEL\n",
        "\n",
        "model = keras.Sequential([\n",
        "                          \n",
        "    ### YOUR CODE HERE ###\n",
        "\n",
        "    # the hidden ReLU layers\n",
        "    layers.Dense(units=512, activation='relu'),\n",
        "    layers.Dense(units=512, activation='relu'),\n",
        "    layers.Dense(units=512, activation='relu'),\n",
        "\n",
        "    # the linear output layer \n",
        "    layers.Dense(units=1)\n",
        "    \n",
        "])"
      ],
      "execution_count": 43,
      "outputs": []
    },
    {
      "cell_type": "markdown",
      "metadata": {
        "id": "zZovXZPLdkSO"
      },
      "source": [
        "Now we'll compile the model"
      ]
    },
    {
      "cell_type": "code",
      "metadata": {
        "id": "GU5e8QlfDm2v"
      },
      "source": [
        "model.compile(\n",
        "    optimizer='adam',\n",
        "    loss='mse',\n",
        ")"
      ],
      "execution_count": 45,
      "outputs": []
    },
    {
      "cell_type": "markdown",
      "metadata": {
        "id": "4yYit0rRdmYr"
      },
      "source": [
        "And then train for 10 epochs"
      ]
    },
    {
      "cell_type": "code",
      "metadata": {
        "colab": {
          "base_uri": "https://localhost:8080/"
        },
        "id": "TjHiz9bBDovQ",
        "outputId": "d8a61595-796c-4d6b-9731-f1afe295d609"
      },
      "source": [
        "history = model.fit(\n",
        "    X_train_std, y_train_std,\n",
        "    validation_data=(X_val_std, y_val_std),\n",
        "    batch_size=256,\n",
        "    epochs=10,\n",
        ")"
      ],
      "execution_count": 46,
      "outputs": [
        {
          "output_type": "stream",
          "text": [
            "Epoch 1/10\n",
            "15/15 [==============================] - 1s 35ms/step - loss: 0.6291 - val_loss: 0.1892\n",
            "Epoch 2/10\n",
            "15/15 [==============================] - 0s 26ms/step - loss: 0.1447 - val_loss: 0.0894\n",
            "Epoch 3/10\n",
            "15/15 [==============================] - 0s 25ms/step - loss: 0.0764 - val_loss: 0.0566\n",
            "Epoch 4/10\n",
            "15/15 [==============================] - 0s 27ms/step - loss: 0.0453 - val_loss: 0.0388\n",
            "Epoch 5/10\n",
            "15/15 [==============================] - 0s 26ms/step - loss: 0.0301 - val_loss: 0.0278\n",
            "Epoch 6/10\n",
            "15/15 [==============================] - 0s 25ms/step - loss: 0.0223 - val_loss: 0.0232\n",
            "Epoch 7/10\n",
            "15/15 [==============================] - 0s 26ms/step - loss: 0.0183 - val_loss: 0.0210\n",
            "Epoch 8/10\n",
            "15/15 [==============================] - 0s 25ms/step - loss: 0.0162 - val_loss: 0.0192\n",
            "Epoch 9/10\n",
            "15/15 [==============================] - 0s 27ms/step - loss: 0.0152 - val_loss: 0.0184\n",
            "Epoch 10/10\n",
            "15/15 [==============================] - 0s 26ms/step - loss: 0.0142 - val_loss: 0.0178\n"
          ],
          "name": "stdout"
        }
      ]
    },
    {
      "cell_type": "code",
      "metadata": {
        "colab": {
          "base_uri": "https://localhost:8080/"
        },
        "id": "nn0HSUbCwNgP",
        "outputId": "0e9227b9-8f7b-4351-ee3d-5bd7d80370d1"
      },
      "source": [
        "model.summary()"
      ],
      "execution_count": 47,
      "outputs": [
        {
          "output_type": "stream",
          "text": [
            "Model: \"sequential_15\"\n",
            "_________________________________________________________________\n",
            "Layer (type)                 Output Shape              Param #   \n",
            "=================================================================\n",
            "dense_31 (Dense)             (None, 512)               7168      \n",
            "_________________________________________________________________\n",
            "dense_32 (Dense)             (None, 512)               262656    \n",
            "_________________________________________________________________\n",
            "dense_33 (Dense)             (None, 512)               262656    \n",
            "_________________________________________________________________\n",
            "dense_34 (Dense)             (None, 1)                 513       \n",
            "=================================================================\n",
            "Total params: 532,993\n",
            "Trainable params: 532,993\n",
            "Non-trainable params: 0\n",
            "_________________________________________________________________\n"
          ],
          "name": "stdout"
        }
      ]
    },
    {
      "cell_type": "markdown",
      "metadata": {
        "id": "zJhdp8txeRGv"
      },
      "source": [
        "Let's take a look at our training history:"
      ]
    },
    {
      "cell_type": "code",
      "metadata": {
        "colab": {
          "base_uri": "https://localhost:8080/",
          "height": 361
        },
        "id": "c8w_bgj012Yl",
        "outputId": "b9ae5e25-9e73-4c68-e657-25a1028ec8c8"
      },
      "source": [
        "pd.DataFrame(history.history)"
      ],
      "execution_count": 48,
      "outputs": [
        {
          "output_type": "execute_result",
          "data": {
            "text/html": [
              "<div>\n",
              "<style scoped>\n",
              "    .dataframe tbody tr th:only-of-type {\n",
              "        vertical-align: middle;\n",
              "    }\n",
              "\n",
              "    .dataframe tbody tr th {\n",
              "        vertical-align: top;\n",
              "    }\n",
              "\n",
              "    .dataframe thead th {\n",
              "        text-align: right;\n",
              "    }\n",
              "</style>\n",
              "<table border=\"1\" class=\"dataframe\">\n",
              "  <thead>\n",
              "    <tr style=\"text-align: right;\">\n",
              "      <th></th>\n",
              "      <th>loss</th>\n",
              "      <th>val_loss</th>\n",
              "    </tr>\n",
              "  </thead>\n",
              "  <tbody>\n",
              "    <tr>\n",
              "      <th>0</th>\n",
              "      <td>0.629112</td>\n",
              "      <td>0.189189</td>\n",
              "    </tr>\n",
              "    <tr>\n",
              "      <th>1</th>\n",
              "      <td>0.144667</td>\n",
              "      <td>0.089412</td>\n",
              "    </tr>\n",
              "    <tr>\n",
              "      <th>2</th>\n",
              "      <td>0.076360</td>\n",
              "      <td>0.056618</td>\n",
              "    </tr>\n",
              "    <tr>\n",
              "      <th>3</th>\n",
              "      <td>0.045344</td>\n",
              "      <td>0.038841</td>\n",
              "    </tr>\n",
              "    <tr>\n",
              "      <th>4</th>\n",
              "      <td>0.030061</td>\n",
              "      <td>0.027796</td>\n",
              "    </tr>\n",
              "    <tr>\n",
              "      <th>5</th>\n",
              "      <td>0.022344</td>\n",
              "      <td>0.023234</td>\n",
              "    </tr>\n",
              "    <tr>\n",
              "      <th>6</th>\n",
              "      <td>0.018301</td>\n",
              "      <td>0.020968</td>\n",
              "    </tr>\n",
              "    <tr>\n",
              "      <th>7</th>\n",
              "      <td>0.016242</td>\n",
              "      <td>0.019227</td>\n",
              "    </tr>\n",
              "    <tr>\n",
              "      <th>8</th>\n",
              "      <td>0.015233</td>\n",
              "      <td>0.018414</td>\n",
              "    </tr>\n",
              "    <tr>\n",
              "      <th>9</th>\n",
              "      <td>0.014157</td>\n",
              "      <td>0.017771</td>\n",
              "    </tr>\n",
              "  </tbody>\n",
              "</table>\n",
              "</div>"
            ],
            "text/plain": [
              "       loss  val_loss\n",
              "0  0.629112  0.189189\n",
              "1  0.144667  0.089412\n",
              "2  0.076360  0.056618\n",
              "3  0.045344  0.038841\n",
              "4  0.030061  0.027796\n",
              "5  0.022344  0.023234\n",
              "6  0.018301  0.020968\n",
              "7  0.016242  0.019227\n",
              "8  0.015233  0.018414\n",
              "9  0.014157  0.017771"
            ]
          },
          "metadata": {
            "tags": []
          },
          "execution_count": 48
        }
      ]
    },
    {
      "cell_type": "code",
      "metadata": {
        "colab": {
          "base_uri": "https://localhost:8080/",
          "height": 343
        },
        "id": "1faQNrIeEFt4",
        "outputId": "c4e05bf7-2346-4872-a42b-39e1ffc00507"
      },
      "source": [
        "# convert the training history to a dataframe\n",
        "history_df = pd.DataFrame(history.history)\n",
        "# use Pandas native plot method\n",
        "fig, ax = plt.subplots(figsize=(10,5))\n",
        "history_df['loss'].plot(ax=ax)\n",
        "history_df['val_loss'].plot(ax=ax)\n",
        "ax.set_ylim(0,.05)"
      ],
      "execution_count": 53,
      "outputs": [
        {
          "output_type": "execute_result",
          "data": {
            "text/plain": [
              "(0.0, 0.05)"
            ]
          },
          "metadata": {
            "tags": []
          },
          "execution_count": 53
        },
        {
          "output_type": "display_data",
          "data": {
            "image/png": "[encoded data removed]",
            "text/plain": [
              "<Figure size 720x360 with 1 Axes>"
            ]
          },
          "metadata": {
            "tags": []
          }
        }
      ]
    },
    {
      "cell_type": "markdown",
      "metadata": {
        "id": "UQK8JOo9Y1ch"
      },
      "source": [
        "#### 1.3.5.1 Improve loss by varying nodes and hidden layers\n",
        "\n",
        "Take your former model as a starting point and now either add nodes or layers to see if the model improves"
      ]
    },
    {
      "cell_type": "code",
      "metadata": {
        "colab": {
          "base_uri": "https://localhost:8080/"
        },
        "id": "3Jq3LsRsX_hG",
        "outputId": "8512766b-2b37-489e-e251-ddfb01f52df0"
      },
      "source": [
        "model = keras.Sequential([\n",
        "    ### YOUR CODE HERE ###\n",
        "\n",
        "    # the hidden ReLU layers\n",
        "    layers.Dense(units=2, activation='relu'),\n",
        "    layers.Dense(units=5, activation='relu'),\n",
        "\n",
        "    # the linear output layer \n",
        "    layers.Dense(units=1)\n",
        "])\n",
        "\n",
        "model.compile(\n",
        "    optimizer='adam',\n",
        "    loss='mse',\n",
        ")\n",
        "\n",
        "history = model.fit(\n",
        "    X_train_std, y_train_std,\n",
        "    validation_data=(X_val_std, y_val_std),\n",
        "    batch_size=256,\n",
        "    epochs=30,\n",
        ")"
      ],
      "execution_count": 59,
      "outputs": [
        {
          "output_type": "stream",
          "text": [
            "Epoch 1/30\n",
            "15/15 [==============================] - 1s 11ms/step - loss: 5.7106 - val_loss: 5.5042\n",
            "Epoch 2/30\n",
            "15/15 [==============================] - 0s 4ms/step - loss: 5.1380 - val_loss: 4.9525\n",
            "Epoch 3/30\n",
            "15/15 [==============================] - 0s 3ms/step - loss: 4.6426 - val_loss: 4.4792\n",
            "Epoch 4/30\n",
            "15/15 [==============================] - 0s 4ms/step - loss: 4.2196 - val_loss: 4.0767\n",
            "Epoch 5/30\n",
            "15/15 [==============================] - 0s 3ms/step - loss: 3.8571 - val_loss: 3.7273\n",
            "Epoch 6/30\n",
            "15/15 [==============================] - 0s 4ms/step - loss: 3.5368 - val_loss: 3.4209\n",
            "Epoch 7/30\n",
            "15/15 [==============================] - 0s 4ms/step - loss: 3.2559 - val_loss: 3.1435\n",
            "Epoch 8/30\n",
            "15/15 [==============================] - 0s 3ms/step - loss: 2.9994 - val_loss: 2.8944\n",
            "Epoch 9/30\n",
            "15/15 [==============================] - 0s 4ms/step - loss: 2.7662 - val_loss: 2.6642\n",
            "Epoch 10/30\n",
            "15/15 [==============================] - 0s 3ms/step - loss: 2.5469 - val_loss: 2.4482\n",
            "Epoch 11/30\n",
            "15/15 [==============================] - 0s 3ms/step - loss: 2.3400 - val_loss: 2.2409\n",
            "Epoch 12/30\n",
            "15/15 [==============================] - 0s 3ms/step - loss: 2.1392 - val_loss: 2.0412\n",
            "Epoch 13/30\n",
            "15/15 [==============================] - 0s 4ms/step - loss: 1.9438 - val_loss: 1.8450\n",
            "Epoch 14/30\n",
            "15/15 [==============================] - 0s 4ms/step - loss: 1.7514 - val_loss: 1.6529\n",
            "Epoch 15/30\n",
            "15/15 [==============================] - 0s 4ms/step - loss: 1.5632 - val_loss: 1.4662\n",
            "Epoch 16/30\n",
            "15/15 [==============================] - 0s 4ms/step - loss: 1.3807 - val_loss: 1.2870\n",
            "Epoch 17/30\n",
            "15/15 [==============================] - 0s 4ms/step - loss: 1.2060 - val_loss: 1.1183\n",
            "Epoch 18/30\n",
            "15/15 [==============================] - 0s 3ms/step - loss: 1.0430 - val_loss: 0.9640\n",
            "Epoch 19/30\n",
            "15/15 [==============================] - 0s 3ms/step - loss: 0.8960 - val_loss: 0.8287\n",
            "Epoch 20/30\n",
            "15/15 [==============================] - 0s 3ms/step - loss: 0.7691 - val_loss: 0.7153\n",
            "Epoch 21/30\n",
            "15/15 [==============================] - 0s 3ms/step - loss: 0.6648 - val_loss: 0.6225\n",
            "Epoch 22/30\n",
            "15/15 [==============================] - 0s 4ms/step - loss: 0.5811 - val_loss: 0.5500\n",
            "Epoch 23/30\n",
            "15/15 [==============================] - 0s 3ms/step - loss: 0.5162 - val_loss: 0.4947\n",
            "Epoch 24/30\n",
            "15/15 [==============================] - 0s 4ms/step - loss: 0.4663 - val_loss: 0.4506\n",
            "Epoch 25/30\n",
            "15/15 [==============================] - 0s 3ms/step - loss: 0.4256 - val_loss: 0.4129\n",
            "Epoch 26/30\n",
            "15/15 [==============================] - 0s 3ms/step - loss: 0.3902 - val_loss: 0.3794\n",
            "Epoch 27/30\n",
            "15/15 [==============================] - 0s 4ms/step - loss: 0.3586 - val_loss: 0.3488\n",
            "Epoch 28/30\n",
            "15/15 [==============================] - 0s 3ms/step - loss: 0.3297 - val_loss: 0.3211\n",
            "Epoch 29/30\n",
            "15/15 [==============================] - 0s 3ms/step - loss: 0.3033 - val_loss: 0.2962\n",
            "Epoch 30/30\n",
            "15/15 [==============================] - 0s 3ms/step - loss: 0.2797 - val_loss: 0.2735\n"
          ],
          "name": "stdout"
        }
      ]
    },
    {
      "cell_type": "code",
      "metadata": {
        "colab": {
          "base_uri": "https://localhost:8080/",
          "height": 285
        },
        "id": "G4kGMGOcZF7S",
        "outputId": "e2276665-1c6f-40e3-a7b4-e20287946df9"
      },
      "source": [
        "y_pred = model.predict(X_test_std)\n",
        "plt.plot(np.exp(y_test_std), np.exp(y_pred), ls='', marker='o')"
      ],
      "execution_count": null,
      "outputs": [
        {
          "output_type": "execute_result",
          "data": {
            "text/plain": [
              "[<matplotlib.lines.Line2D at 0x7f5d26303e10>]"
            ]
          },
          "metadata": {
            "tags": []
          },
          "execution_count": 18
        },
        {
          "output_type": "display_data",
          "data": {
            "image/png": "[encoded data removed]",
            "text/plain": [
              "<Figure size 432x288 with 1 Axes>"
            ]
          },
          "metadata": {
            "tags": []
          }
        }
      ]
    },
    {
      "cell_type": "markdown",
      "metadata": {
        "id": "FsUB7TTLZpS-"
      },
      "source": [
        "#### 1.3.5.2 Learning Curves\n",
        "\n",
        "Using 4 hidden layers now create 4 models that run for 30 epochs each:\n",
        "\n",
        "1. Vary the number of nodes in each layer\n",
        "2. Record the train/val/test score (MSE)\n",
        "3. Plot either total nodes or total trainable parameters vs score for each of the 5 models"
      ]
    },
    {
      "cell_type": "code",
      "metadata": {
        "id": "e-ktlZkZwmxL"
      },
      "source": [
        "# Code Cell for Exercise 1.3.5\n",
        "def make_model_rec_perf(unit_mult=2):\n",
        "  model = keras.Sequential([\n",
        "      ### YOUR CODE HERE ###\n",
        "\n",
        "      # the hidden ReLU layers\n",
        "      layers.Dense(units=2**unit_mult, activation='relu'),\n",
        "      layers.Dense(units=4**unit_mult, activation='relu'),\n",
        "      layers.Dense(units=4**unit_mult, activation='relu'),\n",
        "      layers.Dense(units=2**unit_mult, activation='relu'),\n",
        "\n",
        "      # the linear output layer \n",
        "      layers.Dense(units=1)\n",
        "  ])\n",
        "\n",
        "  model.compile(\n",
        "      optimizer='adam',\n",
        "      loss='mse',\n",
        "  )\n",
        "\n",
        "  history = model.fit(\n",
        "      X_train_std, y_train_std,\n",
        "      validation_data=(X_val_std, y_val_std),\n",
        "      batch_size=256,\n",
        "      epochs=30,\n",
        "  )\n",
        "  train_mse = mean_squared_error(y_train_std, model.predict(X_train_std))\n",
        "  test_mse = mean_squared_error(y_test_std, model.predict(X_test_std))\n",
        "  val_mse = mean_squared_error(y_val_std, model.predict(X_val_std))\n",
        "  nodes = 2**unit_mult + 4**unit_mult + 4**unit_mult + 2**unit_mult\n",
        "\n",
        "  return train_mse, test_mse, val_mse, nodes"
      ],
      "execution_count": 61,
      "outputs": []
    },
    {
      "cell_type": "code",
      "metadata": {
        "colab": {
          "base_uri": "https://localhost:8080/"
        },
        "id": "Pv97636f2IRn",
        "outputId": "debed8cd-07b3-4795-e13d-f8f4211eb522"
      },
      "source": [
        "res = []\n",
        "for i in range(1,5):\n",
        "  train_mse, test_mse, val_mse, nodes = make_model_rec_perf(i)\n",
        "  res.append([train_mse, test_mse, val_mse, nodes])"
      ],
      "execution_count": 64,
      "outputs": [
        {
          "output_type": "stream",
          "text": [
            "Epoch 1/30\n",
            "15/15 [==============================] - 1s 11ms/step - loss: 4.5163 - val_loss: 4.1704\n",
            "Epoch 2/30\n",
            "15/15 [==============================] - 0s 3ms/step - loss: 3.7812 - val_loss: 3.5192\n",
            "Epoch 3/30\n",
            "15/15 [==============================] - 0s 3ms/step - loss: 3.2052 - val_loss: 2.9891\n",
            "Epoch 4/30\n",
            "15/15 [==============================] - 0s 3ms/step - loss: 2.7459 - val_loss: 2.5790\n",
            "Epoch 5/30\n",
            "15/15 [==============================] - 0s 3ms/step - loss: 2.3852 - val_loss: 2.2415\n",
            "Epoch 6/30\n",
            "15/15 [==============================] - 0s 3ms/step - loss: 2.0674 - val_loss: 1.9355\n",
            "Epoch 7/30\n",
            "15/15 [==============================] - 0s 3ms/step - loss: 1.7767 - val_loss: 1.6538\n",
            "Epoch 8/30\n",
            "15/15 [==============================] - 0s 3ms/step - loss: 1.5057 - val_loss: 1.3797\n",
            "Epoch 9/30\n",
            "15/15 [==============================] - 0s 3ms/step - loss: 1.2443 - val_loss: 1.1250\n",
            "Epoch 10/30\n",
            "15/15 [==============================] - 0s 3ms/step - loss: 1.0017 - val_loss: 0.8966\n",
            "Epoch 11/30\n",
            "15/15 [==============================] - 0s 3ms/step - loss: 0.7954 - val_loss: 0.7006\n",
            "Epoch 12/30\n",
            "15/15 [==============================] - 0s 3ms/step - loss: 0.6263 - val_loss: 0.5443\n",
            "Epoch 13/30\n",
            "15/15 [==============================] - 0s 3ms/step - loss: 0.4949 - val_loss: 0.4315\n",
            "Epoch 14/30\n",
            "15/15 [==============================] - 0s 3ms/step - loss: 0.3968 - val_loss: 0.3443\n",
            "Epoch 15/30\n",
            "15/15 [==============================] - 0s 4ms/step - loss: 0.3222 - val_loss: 0.2786\n",
            "Epoch 16/30\n",
            "15/15 [==============================] - 0s 4ms/step - loss: 0.2651 - val_loss: 0.2267\n",
            "Epoch 17/30\n",
            "15/15 [==============================] - 0s 3ms/step - loss: 0.2186 - val_loss: 0.1845\n",
            "Epoch 18/30\n",
            "15/15 [==============================] - 0s 3ms/step - loss: 0.1802 - val_loss: 0.1496\n",
            "Epoch 19/30\n",
            "15/15 [==============================] - 0s 3ms/step - loss: 0.1481 - val_loss: 0.1208\n",
            "Epoch 20/30\n",
            "15/15 [==============================] - 0s 3ms/step - loss: 0.1218 - val_loss: 0.0969\n",
            "Epoch 21/30\n",
            "15/15 [==============================] - 0s 3ms/step - loss: 0.1003 - val_loss: 0.0798\n",
            "Epoch 22/30\n",
            "15/15 [==============================] - 0s 3ms/step - loss: 0.0851 - val_loss: 0.0677\n",
            "Epoch 23/30\n",
            "15/15 [==============================] - 0s 4ms/step - loss: 0.0737 - val_loss: 0.0588\n",
            "Epoch 24/30\n",
            "15/15 [==============================] - 0s 3ms/step - loss: 0.0653 - val_loss: 0.0521\n",
            "Epoch 25/30\n",
            "15/15 [==============================] - 0s 3ms/step - loss: 0.0587 - val_loss: 0.0474\n",
            "Epoch 26/30\n",
            "15/15 [==============================] - 0s 4ms/step - loss: 0.0544 - val_loss: 0.0439\n",
            "Epoch 27/30\n",
            "15/15 [==============================] - 0s 3ms/step - loss: 0.0507 - val_loss: 0.0415\n",
            "Epoch 28/30\n",
            "15/15 [==============================] - 0s 4ms/step - loss: 0.0480 - val_loss: 0.0394\n",
            "Epoch 29/30\n",
            "15/15 [==============================] - 0s 3ms/step - loss: 0.0463 - val_loss: 0.0377\n",
            "Epoch 30/30\n",
            "15/15 [==============================] - 0s 3ms/step - loss: 0.0441 - val_loss: 0.0366\n",
            "Epoch 1/30\n",
            "15/15 [==============================] - 1s 12ms/step - loss: 3.1743 - val_loss: 2.9780\n",
            "Epoch 2/30\n",
            "15/15 [==============================] - 0s 5ms/step - loss: 2.8788 - val_loss: 2.7673\n",
            "Epoch 3/30\n",
            "15/15 [==============================] - 0s 4ms/step - loss: 2.6424 - val_loss: 2.4843\n",
            "Epoch 4/30\n",
            "15/15 [==============================] - 0s 3ms/step - loss: 2.3048 - val_loss: 2.0799\n",
            "Epoch 5/30\n",
            "15/15 [==============================] - 0s 3ms/step - loss: 1.8320 - val_loss: 1.5346\n",
            "Epoch 6/30\n",
            "15/15 [==============================] - 0s 4ms/step - loss: 1.2270 - val_loss: 0.8958\n",
            "Epoch 7/30\n",
            "15/15 [==============================] - 0s 3ms/step - loss: 0.6327 - val_loss: 0.4338\n",
            "Epoch 8/30\n",
            "15/15 [==============================] - 0s 3ms/step - loss: 0.3432 - val_loss: 0.3057\n",
            "Epoch 9/30\n",
            "15/15 [==============================] - 0s 4ms/step - loss: 0.2586 - val_loss: 0.2400\n",
            "Epoch 10/30\n",
            "15/15 [==============================] - 0s 3ms/step - loss: 0.2026 - val_loss: 0.1896\n",
            "Epoch 11/30\n",
            "15/15 [==============================] - 0s 5ms/step - loss: 0.1559 - val_loss: 0.1513\n",
            "Epoch 12/30\n",
            "15/15 [==============================] - 0s 3ms/step - loss: 0.1263 - val_loss: 0.1246\n",
            "Epoch 13/30\n",
            "15/15 [==============================] - 0s 4ms/step - loss: 0.1047 - val_loss: 0.1039\n",
            "Epoch 14/30\n",
            "15/15 [==============================] - 0s 3ms/step - loss: 0.0871 - val_loss: 0.0863\n",
            "Epoch 15/30\n",
            "15/15 [==============================] - 0s 5ms/step - loss: 0.0720 - val_loss: 0.0722\n",
            "Epoch 16/30\n",
            "15/15 [==============================] - 0s 4ms/step - loss: 0.0601 - val_loss: 0.0603\n",
            "Epoch 17/30\n",
            "15/15 [==============================] - 0s 3ms/step - loss: 0.0502 - val_loss: 0.0507\n",
            "Epoch 18/30\n",
            "15/15 [==============================] - 0s 3ms/step - loss: 0.0426 - val_loss: 0.0432\n",
            "Epoch 19/30\n",
            "15/15 [==============================] - 0s 4ms/step - loss: 0.0366 - val_loss: 0.0374\n",
            "Epoch 20/30\n",
            "15/15 [==============================] - 0s 3ms/step - loss: 0.0322 - val_loss: 0.0331\n",
            "Epoch 21/30\n",
            "15/15 [==============================] - 0s 4ms/step - loss: 0.0289 - val_loss: 0.0299\n",
            "Epoch 22/30\n",
            "15/15 [==============================] - 0s 4ms/step - loss: 0.0265 - val_loss: 0.0276\n",
            "Epoch 23/30\n",
            "15/15 [==============================] - 0s 3ms/step - loss: 0.0248 - val_loss: 0.0263\n",
            "Epoch 24/30\n",
            "15/15 [==============================] - 0s 3ms/step - loss: 0.0237 - val_loss: 0.0249\n",
            "Epoch 25/30\n",
            "15/15 [==============================] - 0s 3ms/step - loss: 0.0229 - val_loss: 0.0240\n",
            "Epoch 26/30\n",
            "15/15 [==============================] - 0s 4ms/step - loss: 0.0223 - val_loss: 0.0235\n",
            "Epoch 27/30\n",
            "15/15 [==============================] - 0s 3ms/step - loss: 0.0219 - val_loss: 0.0231\n",
            "Epoch 28/30\n",
            "15/15 [==============================] - 0s 4ms/step - loss: 0.0215 - val_loss: 0.0228\n",
            "Epoch 29/30\n",
            "15/15 [==============================] - 0s 5ms/step - loss: 0.0212 - val_loss: 0.0225\n",
            "Epoch 30/30\n",
            "15/15 [==============================] - 0s 4ms/step - loss: 0.0210 - val_loss: 0.0227\n",
            "Epoch 1/30\n",
            "15/15 [==============================] - 1s 13ms/step - loss: 1.4573 - val_loss: 0.5662\n",
            "Epoch 2/30\n",
            "15/15 [==============================] - 0s 4ms/step - loss: 0.4321 - val_loss: 0.4222\n",
            "Epoch 3/30\n",
            "15/15 [==============================] - 0s 4ms/step - loss: 0.2826 - val_loss: 0.2827\n",
            "Epoch 4/30\n",
            "15/15 [==============================] - 0s 4ms/step - loss: 0.2138 - val_loss: 0.2134\n",
            "Epoch 5/30\n",
            "15/15 [==============================] - 0s 5ms/step - loss: 0.1689 - val_loss: 0.1683\n",
            "Epoch 6/30\n",
            "15/15 [==============================] - 0s 4ms/step - loss: 0.1344 - val_loss: 0.1325\n",
            "Epoch 7/30\n",
            "15/15 [==============================] - 0s 3ms/step - loss: 0.1064 - val_loss: 0.1031\n",
            "Epoch 8/30\n",
            "15/15 [==============================] - 0s 4ms/step - loss: 0.0830 - val_loss: 0.0793\n",
            "Epoch 9/30\n",
            "15/15 [==============================] - 0s 4ms/step - loss: 0.0633 - val_loss: 0.0592\n",
            "Epoch 10/30\n",
            "15/15 [==============================] - 0s 4ms/step - loss: 0.0478 - val_loss: 0.0461\n",
            "Epoch 11/30\n",
            "15/15 [==============================] - 0s 5ms/step - loss: 0.0386 - val_loss: 0.0378\n",
            "Epoch 12/30\n",
            "15/15 [==============================] - 0s 5ms/step - loss: 0.0318 - val_loss: 0.0322\n",
            "Epoch 13/30\n",
            "15/15 [==============================] - 0s 4ms/step - loss: 0.0274 - val_loss: 0.0282\n",
            "Epoch 14/30\n",
            "15/15 [==============================] - 0s 4ms/step - loss: 0.0244 - val_loss: 0.0256\n",
            "Epoch 15/30\n",
            "15/15 [==============================] - 0s 3ms/step - loss: 0.0225 - val_loss: 0.0241\n",
            "Epoch 16/30\n",
            "15/15 [==============================] - 0s 5ms/step - loss: 0.0213 - val_loss: 0.0228\n",
            "Epoch 17/30\n",
            "15/15 [==============================] - 0s 4ms/step - loss: 0.0204 - val_loss: 0.0221\n",
            "Epoch 18/30\n",
            "15/15 [==============================] - 0s 5ms/step - loss: 0.0200 - val_loss: 0.0216\n",
            "Epoch 19/30\n",
            "15/15 [==============================] - 0s 5ms/step - loss: 0.0193 - val_loss: 0.0212\n",
            "Epoch 20/30\n",
            "15/15 [==============================] - 0s 5ms/step - loss: 0.0192 - val_loss: 0.0211\n",
            "Epoch 21/30\n",
            "15/15 [==============================] - 0s 5ms/step - loss: 0.0193 - val_loss: 0.0206\n",
            "Epoch 22/30\n",
            "15/15 [==============================] - 0s 4ms/step - loss: 0.0187 - val_loss: 0.0203\n",
            "Epoch 23/30\n",
            "15/15 [==============================] - 0s 4ms/step - loss: 0.0181 - val_loss: 0.0200\n",
            "Epoch 24/30\n",
            "15/15 [==============================] - 0s 4ms/step - loss: 0.0180 - val_loss: 0.0198\n",
            "Epoch 25/30\n",
            "15/15 [==============================] - 0s 5ms/step - loss: 0.0178 - val_loss: 0.0197\n",
            "Epoch 26/30\n",
            "15/15 [==============================] - 0s 4ms/step - loss: 0.0177 - val_loss: 0.0196\n",
            "Epoch 27/30\n",
            "15/15 [==============================] - 0s 6ms/step - loss: 0.0175 - val_loss: 0.0194\n",
            "Epoch 28/30\n",
            "15/15 [==============================] - 0s 5ms/step - loss: 0.0174 - val_loss: 0.0193\n",
            "Epoch 29/30\n",
            "15/15 [==============================] - 0s 4ms/step - loss: 0.0173 - val_loss: 0.0193\n",
            "Epoch 30/30\n",
            "15/15 [==============================] - 0s 4ms/step - loss: 0.0172 - val_loss: 0.0192\n",
            "Epoch 1/30\n",
            "15/15 [==============================] - 1s 16ms/step - loss: 0.9904 - val_loss: 0.3075\n",
            "Epoch 2/30\n",
            "15/15 [==============================] - 0s 8ms/step - loss: 0.2710 - val_loss: 0.1617\n",
            "Epoch 3/30\n",
            "15/15 [==============================] - 0s 9ms/step - loss: 0.1312 - val_loss: 0.0912\n",
            "Epoch 4/30\n",
            "15/15 [==============================] - 0s 9ms/step - loss: 0.0867 - val_loss: 0.0681\n",
            "Epoch 5/30\n",
            "15/15 [==============================] - 0s 8ms/step - loss: 0.0651 - val_loss: 0.0557\n",
            "Epoch 6/30\n",
            "15/15 [==============================] - 0s 9ms/step - loss: 0.0511 - val_loss: 0.0452\n",
            "Epoch 7/30\n",
            "15/15 [==============================] - 0s 7ms/step - loss: 0.0415 - val_loss: 0.0396\n",
            "Epoch 8/30\n",
            "15/15 [==============================] - 0s 8ms/step - loss: 0.0355 - val_loss: 0.0342\n",
            "Epoch 9/30\n",
            "15/15 [==============================] - 0s 8ms/step - loss: 0.0304 - val_loss: 0.0312\n",
            "Epoch 10/30\n",
            "15/15 [==============================] - 0s 8ms/step - loss: 0.0264 - val_loss: 0.0283\n",
            "Epoch 11/30\n",
            "15/15 [==============================] - 0s 8ms/step - loss: 0.0238 - val_loss: 0.0262\n",
            "Epoch 12/30\n",
            "15/15 [==============================] - 0s 10ms/step - loss: 0.0220 - val_loss: 0.0249\n",
            "Epoch 13/30\n",
            "15/15 [==============================] - 0s 9ms/step - loss: 0.0200 - val_loss: 0.0232\n",
            "Epoch 14/30\n",
            "15/15 [==============================] - 0s 9ms/step - loss: 0.0187 - val_loss: 0.0227\n",
            "Epoch 15/30\n",
            "15/15 [==============================] - 0s 8ms/step - loss: 0.0178 - val_loss: 0.0214\n",
            "Epoch 16/30\n",
            "15/15 [==============================] - 0s 8ms/step - loss: 0.0172 - val_loss: 0.0204\n",
            "Epoch 17/30\n",
            "15/15 [==============================] - 0s 7ms/step - loss: 0.0166 - val_loss: 0.0199\n",
            "Epoch 18/30\n",
            "15/15 [==============================] - 0s 7ms/step - loss: 0.0162 - val_loss: 0.0194\n",
            "Epoch 19/30\n",
            "15/15 [==============================] - 0s 8ms/step - loss: 0.0157 - val_loss: 0.0193\n",
            "Epoch 20/30\n",
            "15/15 [==============================] - 0s 9ms/step - loss: 0.0155 - val_loss: 0.0190\n",
            "Epoch 21/30\n",
            "15/15 [==============================] - 0s 9ms/step - loss: 0.0150 - val_loss: 0.0194\n",
            "Epoch 22/30\n",
            "15/15 [==============================] - 0s 8ms/step - loss: 0.0151 - val_loss: 0.0186\n",
            "Epoch 23/30\n",
            "15/15 [==============================] - 0s 8ms/step - loss: 0.0147 - val_loss: 0.0190\n",
            "Epoch 24/30\n",
            "15/15 [==============================] - 0s 9ms/step - loss: 0.0147 - val_loss: 0.0185\n",
            "Epoch 25/30\n",
            "15/15 [==============================] - 0s 8ms/step - loss: 0.0146 - val_loss: 0.0183\n",
            "Epoch 26/30\n",
            "15/15 [==============================] - 0s 8ms/step - loss: 0.0145 - val_loss: 0.0179\n",
            "Epoch 27/30\n",
            "15/15 [==============================] - 0s 8ms/step - loss: 0.0140 - val_loss: 0.0180\n",
            "Epoch 28/30\n",
            "15/15 [==============================] - 0s 9ms/step - loss: 0.0139 - val_loss: 0.0174\n",
            "Epoch 29/30\n",
            "15/15 [==============================] - 0s 9ms/step - loss: 0.0137 - val_loss: 0.0182\n",
            "Epoch 30/30\n",
            "15/15 [==============================] - 0s 8ms/step - loss: 0.0143 - val_loss: 0.0176\n"
          ],
          "name": "stdout"
        }
      ]
    },
    {
      "cell_type": "code",
      "metadata": {
        "colab": {
          "base_uri": "https://localhost:8080/",
          "height": 174
        },
        "id": "946ufTg32vBx",
        "outputId": "01e3ca34-6458-408d-9b06-13c3589c9643"
      },
      "source": [
        "performance = pd.DataFrame(res)\n",
        "performance.columns = ['train mse', 'test mse', 'val mse', 'tot. units']\n",
        "performance"
      ],
      "execution_count": 66,
      "outputs": [
        {
          "output_type": "execute_result",
          "data": {
            "text/html": [
              "<div>\n",
              "<style scoped>\n",
              "    .dataframe tbody tr th:only-of-type {\n",
              "        vertical-align: middle;\n",
              "    }\n",
              "\n",
              "    .dataframe tbody tr th {\n",
              "        vertical-align: top;\n",
              "    }\n",
              "\n",
              "    .dataframe thead th {\n",
              "        text-align: right;\n",
              "    }\n",
              "</style>\n",
              "<table border=\"1\" class=\"dataframe\">\n",
              "  <thead>\n",
              "    <tr style=\"text-align: right;\">\n",
              "      <th></th>\n",
              "      <th>train mse</th>\n",
              "      <th>test mse</th>\n",
              "      <th>val mse</th>\n",
              "      <th>tot. units</th>\n",
              "    </tr>\n",
              "  </thead>\n",
              "  <tbody>\n",
              "    <tr>\n",
              "      <th>0</th>\n",
              "      <td>0.043381</td>\n",
              "      <td>0.037657</td>\n",
              "      <td>0.036632</td>\n",
              "      <td>12</td>\n",
              "    </tr>\n",
              "    <tr>\n",
              "      <th>1</th>\n",
              "      <td>0.021027</td>\n",
              "      <td>0.024360</td>\n",
              "      <td>0.022687</td>\n",
              "      <td>40</td>\n",
              "    </tr>\n",
              "    <tr>\n",
              "      <th>2</th>\n",
              "      <td>0.017208</td>\n",
              "      <td>0.020114</td>\n",
              "      <td>0.019242</td>\n",
              "      <td>144</td>\n",
              "    </tr>\n",
              "    <tr>\n",
              "      <th>3</th>\n",
              "      <td>0.013195</td>\n",
              "      <td>0.018456</td>\n",
              "      <td>0.017636</td>\n",
              "      <td>544</td>\n",
              "    </tr>\n",
              "  </tbody>\n",
              "</table>\n",
              "</div>"
            ],
            "text/plain": [
              "   train mse  test mse   val mse  tot. units\n",
              "0   0.043381  0.037657  0.036632          12\n",
              "1   0.021027  0.024360  0.022687          40\n",
              "2   0.017208  0.020114  0.019242         144\n",
              "3   0.013195  0.018456  0.017636         544"
            ]
          },
          "metadata": {
            "tags": []
          },
          "execution_count": 66
        }
      ]
    },
    {
      "cell_type": "markdown",
      "metadata": {
        "id": "EHJ1vrnFexQ8"
      },
      "source": [
        "When we look at our historical loss do we notice that sometimes before the last epoch we actually hit a minimum? We'll discuss how to deal with this in the next session!"
      ]
    }
  ]
}