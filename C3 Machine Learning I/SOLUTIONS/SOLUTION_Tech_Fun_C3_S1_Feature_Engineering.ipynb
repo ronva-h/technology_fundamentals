{
  "nbformat": 4,
  "nbformat_minor": 0,
  "metadata": {
    "colab": {
      "name": "SOLUTION Tech Fun C3 S1 Feature Engineering.ipynb",
      "provenance": [],
      "collapsed_sections": [],
      "toc_visible": true,
      "authorship_tag": "ABX9TyOjE0Jng9nWxFOqh5Zsofdu",
      "include_colab_link": true
    },
    "kernelspec": {
      "name": "python3",
      "display_name": "Python 3"
    },
    "language_info": {
      "name": "python"
    }
  },
  "cells": [
    {
      "cell_type": "markdown",
      "metadata": {
        "id": "view-in-github",
        "colab_type": "text"
      },
      "source": [
        "<a href=\"https://colab.research.google.com/github/wesleybeckner/technology_fundamentals/blob/main/C3%20Machine%20Learning%20I/SOLUTIONS/SOLUTION_Tech_Fun_C3_S1_Feature_Engineering.ipynb\" target=\"_parent\"><img src=\"https://colab.research.google.com/assets/colab-badge.svg\" alt=\"Open In Colab\"/></a>"
      ]
    },
    {
      "cell_type": "markdown",
      "metadata": {
        "id": "vhe1yX4AMckE"
      },
      "source": [
        "# Technology Fundamentals Course 3, Session 1: Feature Engineering\n",
        "\n",
        "**Instructor**: Wesley Beckner\n",
        "\n",
        "**Contact**: wesleybeckner@gmail.com\n",
        "\n",
        "**Teaching Assitants**: Varsha Bang, Harsha Vardhan\n",
        "\n",
        "**Contact**: vbang@uw.edu, harshav@uw.edu\n",
        "<br>\n",
        "\n",
        "\n",
        "## Schedule for this week\n",
        "\n",
        "<p align=\"center\">\n",
        "<img src=\"https://raw.githubusercontent.com/wesleybeckner/technology_fundamentals/main/assets/week3.png\" width=800></img>\n",
        "</p>\n",
        "---\n",
        "\n",
        "<br>\n",
        "\n",
        "In the previous session we talked about model pipelines and conveniently began with a suitable set of input data. In the real world, this is hardly ever the case! What is constant is this: at the end of the day, our models need numbers. Not only this, but a suitable set of numbers. What does that mean? The answer to that question is the subject of our session today.\n",
        "\n",
        "<br>\n",
        "\n",
        "---\n",
        "\n",
        "<br>\n",
        "\n",
        "<a name='top'></a>\n",
        "\n",
        "# Contents\n",
        "\n",
        "* 2.0 [Preparing Environment and Importing Data](#x.0)\n",
        "  * 2.0.1 [Import Packages](#x.0.1)\n",
        "  * 2.0.2 [Load Dataset](#x.0.2)\n",
        "* 2.1 [Categorical Features](#2.1)\n",
        "  * 2.1.1 [One-Hot-Encoding](#2.1.1)\n",
        "* 2.2 [Derived Features](#2.2)\n",
        "  * 2.2.1 [Creating Polynomials](#2.2.1)\n",
        "  * 2.2.2 [Dealing with Time Series](#2.2.2)\n",
        "    * 2.2.2.1 [Fast Fourier Transform](#2.2.2.1)\n",
        "  * 2.2.3 [Image Preprocessing](#2.2.3)\n",
        "* 2.3 [Transformed Features](#2.3)\n",
        "  * 2.3.1 [Skewness](#2.3.1)\n",
        "  * 2.3.2 [Colinearity](#2.3.2)\n",
        "    * 2.3.2.1 [Detecting Colinearity](#x.3.2.1)\n",
        "    * 2.3.2.1 [Fixing Colinearity](#x.3.2.2)\n",
        "  * 2.3.3 [Normalization](#2.3.3)\n",
        "  * 2.3.4 [Dimensionality Reduction](#2.3.4)\n",
        "* 2.4 [Missing Data](#2.4)\n",
        "  * 2.4.1 [Imputation](#2.4.1)\n",
        "  * 2.4.2 [Other Strategies](#2.4.2)\n",
        "\n",
        "<br>\n",
        "\n",
        "---"
      ]
    },
    {
      "cell_type": "markdown",
      "metadata": {
        "id": "mNtJitcRW51Y"
      },
      "source": [
        "<a name='2.0'></a>\n",
        "\n",
        "## 2.0 Preparing Environment and Importing Data\n",
        "\n",
        "[back to top](#top)"
      ]
    },
    {
      "cell_type": "markdown",
      "metadata": {
        "id": "CrAFBDDpt7Ti"
      },
      "source": [
        "<a name='x.0.1'></a>\n",
        "\n",
        "### 2.0.1 Import Packages\n",
        "\n",
        "[back to top](#top)"
      ]
    },
    {
      "cell_type": "code",
      "metadata": {
        "id": "opk0dXNudzQh",
        "colab": {
          "base_uri": "https://localhost:8080/"
        },
        "outputId": "749610ff-6a19-4756-fc26-3d2e0f4e01be"
      },
      "source": [
        "import pandas as pd\n",
        "import numpy as np\n",
        "import datetime\n",
        "import matplotlib.pyplot as plt\n",
        "import plotly.express as px\n",
        "import random\n",
        "import scipy.stats as stats\n",
        "from scipy.stats import gamma\n",
        "from sklearn.preprocessing import OneHotEncoder\n",
        "from statsmodels.stats.outliers_influence import variance_inflation_factor\n",
        "import seaborn as sns; sns.set()\n",
        "from sklearn.datasets import load_iris\n",
        "from sklearn.metrics import mean_squared_error, r2_score"
      ],
      "execution_count": null,
      "outputs": [
        {
          "output_type": "stream",
          "text": [
            "/usr/local/lib/python3.7/dist-packages/statsmodels/tools/_testing.py:19: FutureWarning:\n",
            "\n",
            "pandas.util.testing is deprecated. Use the functions in the public API at pandas.testing instead.\n",
            "\n"
          ],
          "name": "stderr"
        }
      ]
    },
    {
      "cell_type": "markdown",
      "metadata": {
        "id": "0U8Pwm0qt94s"
      },
      "source": [
        "<a name='x.0.2'></a>\n",
        "\n",
        "### 2.0.2 Load Dataset\n",
        "\n",
        "[back to top](#top)"
      ]
    },
    {
      "cell_type": "code",
      "metadata": {
        "id": "ftLFsMvhd4rl"
      },
      "source": [
        "margin = pd.read_csv('https://raw.githubusercontent.com/wesleybeckner/'\\\n",
        "        'ds_for_engineers/main/data/truffle_margin/truffle_margin_customer.csv')\n",
        "\n",
        "orders = pd.read_csv('https://raw.githubusercontent.com/wesleybeckner/'\\\n",
        "                 'ds_for_engineers/main/data/truffle_margin/truffle_orders.csv')\n",
        "time_cols = [i for i in orders.columns if '/' in i]"
      ],
      "execution_count": null,
      "outputs": []
    },
    {
      "cell_type": "code",
      "metadata": {
        "colab": {
          "base_uri": "https://localhost:8080/",
          "height": 205
        },
        "id": "YiGTyTX1f9eO",
        "outputId": "880840d9-c1c4-4856-ad6f-137919591754"
      },
      "source": [
        "margin.head()"
      ],
      "execution_count": null,
      "outputs": [
        {
          "output_type": "execute_result",
          "data": {
            "text/html": [
              "<div>\n",
              "<style scoped>\n",
              "    .dataframe tbody tr th:only-of-type {\n",
              "        vertical-align: middle;\n",
              "    }\n",
              "\n",
              "    .dataframe tbody tr th {\n",
              "        vertical-align: top;\n",
              "    }\n",
              "\n",
              "    .dataframe thead th {\n",
              "        text-align: right;\n",
              "    }\n",
              "</style>\n",
              "<table border=\"1\" class=\"dataframe\">\n",
              "  <thead>\n",
              "    <tr style=\"text-align: right;\">\n",
              "      <th></th>\n",
              "      <th>Base Cake</th>\n",
              "      <th>Truffle Type</th>\n",
              "      <th>Primary Flavor</th>\n",
              "      <th>Secondary Flavor</th>\n",
              "      <th>Color Group</th>\n",
              "      <th>Customer</th>\n",
              "      <th>Date</th>\n",
              "      <th>KG</th>\n",
              "      <th>EBITDA/KG</th>\n",
              "    </tr>\n",
              "  </thead>\n",
              "  <tbody>\n",
              "    <tr>\n",
              "      <th>0</th>\n",
              "      <td>Butter</td>\n",
              "      <td>Candy Outer</td>\n",
              "      <td>Butter Pecan</td>\n",
              "      <td>Toffee</td>\n",
              "      <td>Taupe</td>\n",
              "      <td>Slugworth</td>\n",
              "      <td>1/2020</td>\n",
              "      <td>53770.342593</td>\n",
              "      <td>0.500424</td>\n",
              "    </tr>\n",
              "    <tr>\n",
              "      <th>1</th>\n",
              "      <td>Butter</td>\n",
              "      <td>Candy Outer</td>\n",
              "      <td>Ginger Lime</td>\n",
              "      <td>Banana</td>\n",
              "      <td>Amethyst</td>\n",
              "      <td>Slugworth</td>\n",
              "      <td>1/2020</td>\n",
              "      <td>466477.578125</td>\n",
              "      <td>0.220395</td>\n",
              "    </tr>\n",
              "    <tr>\n",
              "      <th>2</th>\n",
              "      <td>Butter</td>\n",
              "      <td>Candy Outer</td>\n",
              "      <td>Ginger Lime</td>\n",
              "      <td>Banana</td>\n",
              "      <td>Burgundy</td>\n",
              "      <td>Perk-a-Cola</td>\n",
              "      <td>1/2020</td>\n",
              "      <td>80801.728070</td>\n",
              "      <td>0.171014</td>\n",
              "    </tr>\n",
              "    <tr>\n",
              "      <th>3</th>\n",
              "      <td>Butter</td>\n",
              "      <td>Candy Outer</td>\n",
              "      <td>Ginger Lime</td>\n",
              "      <td>Banana</td>\n",
              "      <td>White</td>\n",
              "      <td>Fickelgruber</td>\n",
              "      <td>1/2020</td>\n",
              "      <td>18046.111111</td>\n",
              "      <td>0.233025</td>\n",
              "    </tr>\n",
              "    <tr>\n",
              "      <th>4</th>\n",
              "      <td>Butter</td>\n",
              "      <td>Candy Outer</td>\n",
              "      <td>Ginger Lime</td>\n",
              "      <td>Rum</td>\n",
              "      <td>Amethyst</td>\n",
              "      <td>Fickelgruber</td>\n",
              "      <td>1/2020</td>\n",
              "      <td>19147.454268</td>\n",
              "      <td>0.480689</td>\n",
              "    </tr>\n",
              "  </tbody>\n",
              "</table>\n",
              "</div>"
            ],
            "text/plain": [
              "  Base Cake Truffle Type Primary Flavor  ...    Date             KG EBITDA/KG\n",
              "0    Butter  Candy Outer   Butter Pecan  ...  1/2020   53770.342593  0.500424\n",
              "1    Butter  Candy Outer    Ginger Lime  ...  1/2020  466477.578125  0.220395\n",
              "2    Butter  Candy Outer    Ginger Lime  ...  1/2020   80801.728070  0.171014\n",
              "3    Butter  Candy Outer    Ginger Lime  ...  1/2020   18046.111111  0.233025\n",
              "4    Butter  Candy Outer    Ginger Lime  ...  1/2020   19147.454268  0.480689\n",
              "\n",
              "[5 rows x 9 columns]"
            ]
          },
          "metadata": {
            "tags": []
          },
          "execution_count": 3
        }
      ]
    },
    {
      "cell_type": "code",
      "metadata": {
        "colab": {
          "base_uri": "https://localhost:8080/"
        },
        "id": "GhdXjuhTrYk2",
        "outputId": "527063d8-edd1-49bc-aba7-1a27a8e2406a"
      },
      "source": [
        "dfcat = margin.columns[:-2]\n",
        "dfcat"
      ],
      "execution_count": null,
      "outputs": [
        {
          "output_type": "execute_result",
          "data": {
            "text/plain": [
              "Index(['Base Cake', 'Truffle Type', 'Primary Flavor', 'Secondary Flavor',\n",
              "       'Color Group', 'Customer', 'Date'],\n",
              "      dtype='object')"
            ]
          },
          "metadata": {
            "tags": []
          },
          "execution_count": 4
        }
      ]
    },
    {
      "cell_type": "code",
      "metadata": {
        "colab": {
          "base_uri": "https://localhost:8080/",
          "height": 328
        },
        "id": "WrfhZot3VmZG",
        "outputId": "baa67d17-2107-4302-a541-49bb2a7da48c"
      },
      "source": [
        "orders.head()"
      ],
      "execution_count": null,
      "outputs": [
        {
          "output_type": "execute_result",
          "data": {
            "text/html": [
              "<div>\n",
              "<style scoped>\n",
              "    .dataframe tbody tr th:only-of-type {\n",
              "        vertical-align: middle;\n",
              "    }\n",
              "\n",
              "    .dataframe tbody tr th {\n",
              "        vertical-align: top;\n",
              "    }\n",
              "\n",
              "    .dataframe thead th {\n",
              "        text-align: right;\n",
              "    }\n",
              "</style>\n",
              "<table border=\"1\" class=\"dataframe\">\n",
              "  <thead>\n",
              "    <tr style=\"text-align: right;\">\n",
              "      <th></th>\n",
              "      <th>Base Cake</th>\n",
              "      <th>Truffle Type</th>\n",
              "      <th>Primary Flavor</th>\n",
              "      <th>Secondary Flavor</th>\n",
              "      <th>Color Group</th>\n",
              "      <th>Customer</th>\n",
              "      <th>1/2020</th>\n",
              "      <th>2/2020</th>\n",
              "      <th>3/2020</th>\n",
              "      <th>4/2020</th>\n",
              "      <th>5/2020</th>\n",
              "      <th>6/2020</th>\n",
              "      <th>7/2020</th>\n",
              "      <th>8/2020</th>\n",
              "      <th>9/2020</th>\n",
              "      <th>10/2020</th>\n",
              "      <th>11/2020</th>\n",
              "      <th>12/2020</th>\n",
              "    </tr>\n",
              "  </thead>\n",
              "  <tbody>\n",
              "    <tr>\n",
              "      <th>0</th>\n",
              "      <td>Butter</td>\n",
              "      <td>Candy Outer</td>\n",
              "      <td>Butter Pecan</td>\n",
              "      <td>Toffee</td>\n",
              "      <td>Taupe</td>\n",
              "      <td>Slugworth</td>\n",
              "      <td>53770.342593</td>\n",
              "      <td>40735.108025</td>\n",
              "      <td>40735.108025</td>\n",
              "      <td>40735.108025</td>\n",
              "      <td>53770.342593</td>\n",
              "      <td>40735.108025</td>\n",
              "      <td>40735.108025</td>\n",
              "      <td>40735.108025</td>\n",
              "      <td>53770.342593</td>\n",
              "      <td>40735.108025</td>\n",
              "      <td>40735.108025</td>\n",
              "      <td>40735.108025</td>\n",
              "    </tr>\n",
              "    <tr>\n",
              "      <th>1</th>\n",
              "      <td>Butter</td>\n",
              "      <td>Candy Outer</td>\n",
              "      <td>Ginger Lime</td>\n",
              "      <td>Banana</td>\n",
              "      <td>Amethyst</td>\n",
              "      <td>Slugworth</td>\n",
              "      <td>466477.578125</td>\n",
              "      <td>299024.088542</td>\n",
              "      <td>466477.578125</td>\n",
              "      <td>299024.088542</td>\n",
              "      <td>466477.578125</td>\n",
              "      <td>299024.088542</td>\n",
              "      <td>466477.578125</td>\n",
              "      <td>299024.088542</td>\n",
              "      <td>466477.578125</td>\n",
              "      <td>299024.088542</td>\n",
              "      <td>466477.578125</td>\n",
              "      <td>299024.088542</td>\n",
              "    </tr>\n",
              "    <tr>\n",
              "      <th>2</th>\n",
              "      <td>Butter</td>\n",
              "      <td>Candy Outer</td>\n",
              "      <td>Ginger Lime</td>\n",
              "      <td>Banana</td>\n",
              "      <td>Burgundy</td>\n",
              "      <td>Perk-a-Cola</td>\n",
              "      <td>80801.728070</td>\n",
              "      <td>51795.979532</td>\n",
              "      <td>51795.979532</td>\n",
              "      <td>51795.979532</td>\n",
              "      <td>80801.728070</td>\n",
              "      <td>51795.979532</td>\n",
              "      <td>51795.979532</td>\n",
              "      <td>51795.979532</td>\n",
              "      <td>80801.728070</td>\n",
              "      <td>51795.979532</td>\n",
              "      <td>51795.979532</td>\n",
              "      <td>51795.979532</td>\n",
              "    </tr>\n",
              "    <tr>\n",
              "      <th>3</th>\n",
              "      <td>Butter</td>\n",
              "      <td>Candy Outer</td>\n",
              "      <td>Ginger Lime</td>\n",
              "      <td>Banana</td>\n",
              "      <td>White</td>\n",
              "      <td>Fickelgruber</td>\n",
              "      <td>18046.111111</td>\n",
              "      <td>13671.296296</td>\n",
              "      <td>13671.296296</td>\n",
              "      <td>13671.296296</td>\n",
              "      <td>18046.111111</td>\n",
              "      <td>13671.296296</td>\n",
              "      <td>13671.296296</td>\n",
              "      <td>13671.296296</td>\n",
              "      <td>18046.111111</td>\n",
              "      <td>13671.296296</td>\n",
              "      <td>13671.296296</td>\n",
              "      <td>13671.296296</td>\n",
              "    </tr>\n",
              "    <tr>\n",
              "      <th>4</th>\n",
              "      <td>Butter</td>\n",
              "      <td>Candy Outer</td>\n",
              "      <td>Ginger Lime</td>\n",
              "      <td>Rum</td>\n",
              "      <td>Amethyst</td>\n",
              "      <td>Fickelgruber</td>\n",
              "      <td>19147.454268</td>\n",
              "      <td>12274.009146</td>\n",
              "      <td>12274.009146</td>\n",
              "      <td>12274.009146</td>\n",
              "      <td>12274.009146</td>\n",
              "      <td>12274.009146</td>\n",
              "      <td>19147.454268</td>\n",
              "      <td>12274.009146</td>\n",
              "      <td>12274.009146</td>\n",
              "      <td>12274.009146</td>\n",
              "      <td>12274.009146</td>\n",
              "      <td>12274.009146</td>\n",
              "    </tr>\n",
              "  </tbody>\n",
              "</table>\n",
              "</div>"
            ],
            "text/plain": [
              "  Base Cake Truffle Type  ...        11/2020        12/2020\n",
              "0    Butter  Candy Outer  ...   40735.108025   40735.108025\n",
              "1    Butter  Candy Outer  ...  466477.578125  299024.088542\n",
              "2    Butter  Candy Outer  ...   51795.979532   51795.979532\n",
              "3    Butter  Candy Outer  ...   13671.296296   13671.296296\n",
              "4    Butter  Candy Outer  ...   12274.009146   12274.009146\n",
              "\n",
              "[5 rows x 18 columns]"
            ]
          },
          "metadata": {
            "tags": []
          },
          "execution_count": 5
        }
      ]
    },
    {
      "cell_type": "markdown",
      "metadata": {
        "id": "062Czp9-rBOi"
      },
      "source": [
        "<a name='2.1'></a>\n",
        "\n",
        "## 2.1 Categorical Features\n",
        "\n",
        "[back to top](#top)\n",
        "\n",
        "At the end of the day, our algorithms operate on numerical values. How do you get from a series of string values to numerical values? "
      ]
    },
    {
      "cell_type": "code",
      "metadata": {
        "colab": {
          "base_uri": "https://localhost:8080/"
        },
        "id": "pl2VTgnphIDe",
        "outputId": "8405b208-38d1-4715-f92c-3114ea829700"
      },
      "source": [
        "margin['Customer'].unique()"
      ],
      "execution_count": null,
      "outputs": [
        {
          "output_type": "execute_result",
          "data": {
            "text/plain": [
              "array(['Slugworth', 'Perk-a-Cola', 'Fickelgruber', 'Zebrabar',\n",
              "       \"Dandy's Candies\"], dtype=object)"
            ]
          },
          "metadata": {
            "tags": []
          },
          "execution_count": 6
        }
      ]
    },
    {
      "cell_type": "markdown",
      "metadata": {
        "id": "xhuUS262iNnb"
      },
      "source": [
        "A naive way to do it would be to assign a number to every entry\n",
        "```\n",
        "'Slugworth' = 1\n",
        "'Perk-a-Cola' = 2\n",
        "'Dandy's Candies' = 3\n",
        "```\n",
        "but we would inadvertently end up with some weird mathematical relationships between these variables, e.g. `Dandy's Candies - Perk-a-Cola = Slugworth` (3 - 2 = 1). \n",
        "\n",
        "A work around for this is to think *multi-dimensionally* we express our categorical values as vectors in a hyperspace where they cannot be expressed in terms of one another, i.e. they are *orthogonal* \n",
        "```\n",
        "'Slugworth' = [1,0,0]\n",
        "'Perk-a-Cola' = [0,1,0]\n",
        "'Dandy's Candies' = [0,0,1]\n",
        "```\n",
        "such a scheme, in machine learning vernacular, is termed one-hot encoding. "
      ]
    },
    {
      "cell_type": "markdown",
      "metadata": {
        "id": "55mP5wbmn7NG"
      },
      "source": [
        "<a name='2.1.1'></a>\n",
        "\n",
        "### 2.1.1 One-Hot Encoding\n",
        "\n",
        "[back to top](#top)\n",
        "\n",
        "sklearn has a couple useful libraries for one-hot encoding. let's start with the `OneHotEncoder` class in its `preprocessing` library"
      ]
    },
    {
      "cell_type": "code",
      "metadata": {
        "id": "zyP3rWKspz-O"
      },
      "source": [
        "from sklearn.preprocessing import OneHotEncoder"
      ],
      "execution_count": null,
      "outputs": []
    },
    {
      "cell_type": "code",
      "metadata": {
        "colab": {
          "base_uri": "https://localhost:8080/"
        },
        "id": "LY9hpoiOp0XY",
        "outputId": "1b1cb999-abe2-4cf0-8cfb-43196cee029b"
      },
      "source": [
        "# create the encoder object\n",
        "enc = OneHotEncoder()\n",
        "\n",
        "# grab the columns we want to convert from strings\n",
        "X_cat = margin['Customer'].values.reshape(-1,1)\n",
        "\n",
        "# fit our encoder to this data\n",
        "enc.fit(X_cat)"
      ],
      "execution_count": null,
      "outputs": [
        {
          "output_type": "execute_result",
          "data": {
            "text/plain": [
              "OneHotEncoder(categories='auto', drop=None, dtype=<class 'numpy.float64'>,\n",
              "              handle_unknown='error', sparse=True)"
            ]
          },
          "metadata": {
            "tags": []
          },
          "execution_count": 7
        }
      ]
    },
    {
      "cell_type": "markdown",
      "metadata": {
        "id": "zrJxAeHZrHLw"
      },
      "source": [
        "After fitting our encoder, we can then use this object to create our training array."
      ]
    },
    {
      "cell_type": "code",
      "metadata": {
        "colab": {
          "base_uri": "https://localhost:8080/",
          "height": 439
        },
        "id": "uDcxWukfrMzX",
        "outputId": "354d9fa7-b6f9-43a6-8c27-f7fa715a8b49"
      },
      "source": [
        "# as a reference here's our original data\n",
        "display(X_cat[:10])\n",
        "print(X_cat.shape, end='\\n\\n')\n",
        "\n",
        "onehotlabels = enc.transform(X_cat).toarray()\n",
        "print(onehotlabels.shape, end='\\n\\n')\n",
        "\n",
        "# And here is our new data\n",
        "onehotlabels[:10]"
      ],
      "execution_count": null,
      "outputs": [
        {
          "output_type": "display_data",
          "data": {
            "text/plain": [
              "array([['Slugworth'],\n",
              "       ['Slugworth'],\n",
              "       ['Perk-a-Cola'],\n",
              "       ['Fickelgruber'],\n",
              "       ['Fickelgruber'],\n",
              "       ['Fickelgruber'],\n",
              "       ['Slugworth'],\n",
              "       ['Zebrabar'],\n",
              "       ['Slugworth'],\n",
              "       ['Zebrabar']], dtype=object)"
            ]
          },
          "metadata": {
            "tags": []
          }
        },
        {
          "output_type": "stream",
          "text": [
            "(1668, 1)\n",
            "\n",
            "(1668, 5)\n",
            "\n"
          ],
          "name": "stdout"
        },
        {
          "output_type": "execute_result",
          "data": {
            "text/plain": [
              "array([[0., 0., 0., 1., 0.],\n",
              "       [0., 0., 0., 1., 0.],\n",
              "       [0., 0., 1., 0., 0.],\n",
              "       [0., 1., 0., 0., 0.],\n",
              "       [0., 1., 0., 0., 0.],\n",
              "       [0., 1., 0., 0., 0.],\n",
              "       [0., 0., 0., 1., 0.],\n",
              "       [0., 0., 0., 0., 1.],\n",
              "       [0., 0., 0., 1., 0.],\n",
              "       [0., 0., 0., 0., 1.]])"
            ]
          },
          "metadata": {
            "tags": []
          },
          "execution_count": 11
        }
      ]
    },
    {
      "cell_type": "markdown",
      "metadata": {
        "id": "yw2YefUR0pPH"
      },
      "source": [
        "We have our customer information one-hot encoded, we need to do this for all our variables and concatenate them with our regular numerical variables in our original dataframe."
      ]
    },
    {
      "cell_type": "code",
      "metadata": {
        "id": "nhwqOu6XWMzs"
      },
      "source": [
        "# create the encoder object\n",
        "enc = OneHotEncoder()\n",
        "\n",
        "# grab the columns we want to convert from strings\n",
        "X_cat = margin[dfcat].values\n",
        "\n",
        "# fit our encoder to this data\n",
        "enc.fit(X_cat)\n",
        "onehotlabels = enc.transform(X_cat).toarray()"
      ],
      "execution_count": null,
      "outputs": []
    },
    {
      "cell_type": "code",
      "metadata": {
        "colab": {
          "base_uri": "https://localhost:8080/"
        },
        "id": "k9nih1_iqaq1",
        "outputId": "6d8a5898-e4db-4824-e3db-4c7ae8359138"
      },
      "source": [
        "X_num = margin[\"KG\"]\n",
        "print(X_num.shape)\n",
        "X = np.concatenate((onehotlabels, X_num.values.reshape(-1,1)),axis=1)\n",
        "X.shape"
      ],
      "execution_count": null,
      "outputs": [
        {
          "output_type": "stream",
          "text": [
            "(1668,)\n"
          ],
          "name": "stdout"
        },
        {
          "output_type": "execute_result",
          "data": {
            "text/plain": [
              "(1668, 119)"
            ]
          },
          "metadata": {
            "tags": []
          },
          "execution_count": 10
        }
      ]
    },
    {
      "cell_type": "markdown",
      "metadata": {
        "id": "ai_PNhJf1Idd"
      },
      "source": [
        "And now we grab our EBITDA (margin) data for prediction"
      ]
    },
    {
      "cell_type": "code",
      "metadata": {
        "id": "B5ZtnP1K0kYU"
      },
      "source": [
        "y = margin[\"EBITDA/KG\"]"
      ],
      "execution_count": null,
      "outputs": []
    },
    {
      "cell_type": "markdown",
      "metadata": {
        "id": "gdOkg2-t1UIA"
      },
      "source": [
        "#### 2.1.1.2 Exercise: Create a simple linear model\n",
        "\n",
        "Using the X and Y sets, use `train_test_split` and `LinearRegression` to make a baseline model based on what we've learned so far.\n",
        "\n",
        "Assess your model performance visually by plottying `y_test` vs `y_test_pred`"
      ]
    },
    {
      "cell_type": "code",
      "metadata": {
        "id": "eCoCoXT82RoS",
        "colab": {
          "base_uri": "https://localhost:8080/",
          "height": 285
        },
        "outputId": "112b1f3b-99ad-470b-c357-ba34c3a76636"
      },
      "source": [
        "# Cell for Exercise 2.1.1.2\n",
        "from sklearn.model_selection import train_test_split\n",
        "from sklearn.linear_model import LinearRegression\n",
        "\n",
        "X_train, X_test, y_train, y_test = train_test_split(X, y, train_size=0.3, random_state=42)\n",
        "model = LinearRegression()\n",
        "model.fit(X_train, y_train)\n",
        "y_test_pred = model.predict(X_test)\n",
        "\n",
        "plt.plot(y_test, y_test_pred, ls='', marker='.')\n",
        "model.score(X_test, y_test)"
      ],
      "execution_count": null,
      "outputs": [
        {
          "output_type": "execute_result",
          "data": {
            "text/plain": [
              "0.5084234565411634"
            ]
          },
          "metadata": {
            "tags": []
          },
          "execution_count": 36
        },
        {
          "output_type": "display_data",
          "data": {
            "image/png": "[encoded data removed]",
            "text/plain": [
              "<Figure size 432x288 with 1 Axes>"
            ]
          },
          "metadata": {
            "tags": [],
            "needs_background": "light"
          }
        }
      ]
    },
    {
      "cell_type": "markdown",
      "metadata": {
        "id": "JFbTDtjdJR-M"
      },
      "source": [
        "#### 2.1.1.3 Question:\n",
        "\n",
        "> How can we assess the relative feature importance of the features in our model?\n",
        "\n",
        "We could be tempted to inspect the coefficients (`linear.coef_`) of our  model to evaluate the relative feature importance, but in order to do this our features need to be scaled (so that the relative coefficient sizes are meaningful). What other issues might there be (think categorical vs continuous variables). "
      ]
    },
    {
      "cell_type": "markdown",
      "metadata": {
        "id": "fi29Zh-GuWRL"
      },
      "source": [
        "<a name='2.2'></a>\n",
        "\n",
        "## 2.2 Derived Features\n",
        "\n",
        "[back to top](#top)\n",
        "\n",
        "Can we recall an example of where we've seen this previously? That's right earlier on in our first session we derived some polynomial features to create our polynomial model using the linear regression class in sklearn. \n",
        "\n",
        "We actually see this a lot in engineering, where we will describe log relationships or some other transformation of the original variable. Actually let me see if I can find an example in my handy BSL...\n",
        "\n",
        "<img src=\"https://raw.githubusercontent.com/wesleybeckner/ds_for_engineers/main/assets/C2/bird_stewart_lightfoot.jpg\" width=500px></img>\n",
        "\n",
        "<small>concentration profiles in continous stirred tank vs plug flow reactors. Notice the y-axis is log scale.Thank's Bird, Stewart, Lightfoot!</small>\n",
        "\n",
        "> Can we think of other examples where we would like to derive features from our input data?"
      ]
    },
    {
      "cell_type": "markdown",
      "metadata": {
        "id": "a7zdrdPfrW1s"
      },
      "source": [
        "<a name='2.2.1'></a>\n",
        "\n",
        "### 2.2.1 Creating Polynomials\n",
        "\n",
        "[back to top](#top)\n",
        "\n",
        "Let's revisit our example from the previous session, right before we introduced Grid Search in sklearn"
      ]
    },
    {
      "cell_type": "code",
      "metadata": {
        "id": "nsmdIQsfFKpD"
      },
      "source": [
        "# from Model Selection and Validation, 1.2.1\n",
        "from sklearn.preprocessing import PolynomialFeatures\n",
        "from sklearn.linear_model import LinearRegression\n",
        "from sklearn.pipeline import make_pipeline\n",
        "\n",
        "def PolynomialRegression(degree=2, **kwargs):\n",
        "    return make_pipeline(PolynomialFeatures(degree),\n",
        "                         LinearRegression(**kwargs))"
      ],
      "execution_count": null,
      "outputs": []
    },
    {
      "cell_type": "markdown",
      "metadata": {
        "id": "ab1whG6oFR_Q"
      },
      "source": [
        "in the above, we use sklearn's convenient tool, `make_pipeline` to join together the preprocessing tool `PolynomialFeatures` and the basic model `LinearRegression`. Let's take a look at what PolynomialFeatures does to some simple data"
      ]
    },
    {
      "cell_type": "code",
      "metadata": {
        "colab": {
          "base_uri": "https://localhost:8080/"
        },
        "id": "IkW_5KXmGNuM",
        "outputId": "93efccf6-7ddc-43ef-ea5f-53b76b60deab"
      },
      "source": [
        "x = np.arange(1,11)\n",
        "y = x**3\n",
        "print(x)\n",
        "print(y)"
      ],
      "execution_count": null,
      "outputs": [
        {
          "output_type": "stream",
          "text": [
            "[ 1  2  3  4  5  6  7  8  9 10]\n",
            "[   1    8   27   64  125  216  343  512  729 1000]\n"
          ],
          "name": "stdout"
        }
      ]
    },
    {
      "cell_type": "code",
      "metadata": {
        "id": "LV3PiQm5GcMd"
      },
      "source": [
        "features = PolynomialFeatures(degree=3)"
      ],
      "execution_count": null,
      "outputs": []
    },
    {
      "cell_type": "code",
      "metadata": {
        "id": "j5GRg9hIGibq"
      },
      "source": [
        "X2 = features.fit_transform(x.reshape(-1,1))"
      ],
      "execution_count": null,
      "outputs": []
    },
    {
      "cell_type": "markdown",
      "metadata": {
        "id": "-A3LpbueHAeA"
      },
      "source": [
        "we see our new feature set contains our original features, plus new features up to the nth-degree polynomial we set when creating the features object from `PolynomialFeatures`"
      ]
    },
    {
      "cell_type": "code",
      "metadata": {
        "colab": {
          "base_uri": "https://localhost:8080/"
        },
        "id": "xggKzHQrGsNG",
        "outputId": "42b97f1f-17df-4341-eeac-dbeaad71d20a"
      },
      "source": [
        "print(X2)"
      ],
      "execution_count": null,
      "outputs": [
        {
          "output_type": "stream",
          "text": [
            "[[   1.    1.    1.    1.]\n",
            " [   1.    2.    4.    8.]\n",
            " [   1.    3.    9.   27.]\n",
            " [   1.    4.   16.   64.]\n",
            " [   1.    5.   25.  125.]\n",
            " [   1.    6.   36.  216.]\n",
            " [   1.    7.   49.  343.]\n",
            " [   1.    8.   64.  512.]\n",
            " [   1.    9.   81.  729.]\n",
            " [   1.   10.  100. 1000.]]\n"
          ],
          "name": "stdout"
        }
      ]
    },
    {
      "cell_type": "code",
      "metadata": {
        "colab": {
          "base_uri": "https://localhost:8080/",
          "height": 268
        },
        "id": "ffsEERkJHMbY",
        "outputId": "0876d43b-e3a5-41ed-fa7d-378596ebda31"
      },
      "source": [
        "model = LinearRegression().fit(X2, y)\n",
        "yhat = model.predict(X2)\n",
        "plt.scatter(x, y)\n",
        "plt.plot(x, yhat);"
      ],
      "execution_count": null,
      "outputs": [
        {
          "output_type": "display_data",
          "data": {
            "image/png": "[encoded data removed]",
            "text/plain": [
              "<Figure size 432x288 with 1 Axes>"
            ]
          },
          "metadata": {
            "tags": [],
            "needs_background": "light"
          }
        }
      ]
    },
    {
      "cell_type": "markdown",
      "metadata": {
        "id": "X5h_E2GTwJfR"
      },
      "source": [
        "<a name='2.2.2'></a>\n",
        "\n",
        "### 2.2.2 Dealing with Time Series\n",
        "\n",
        "[back to top](#top)\n",
        "\n",
        "Often, we will be dealing with time series data, whether its data generated by machinery, reactors, or sales and customers. In the following we discuss some simple practices for dealing with time series data."
      ]
    },
    {
      "cell_type": "markdown",
      "metadata": {
        "id": "fcTkufrvrWv3"
      },
      "source": [
        "<a name='2.2.2.1'></a>\n",
        "\n",
        "#### **Enrichment**: 2.2.2.1 Fast Fourier Transform\n",
        "\n",
        "[back to top](#top)\n",
        "\n",
        "Sometimes we'll want to create a more sophisticated transformation of our input data. As engineers, this can often have to do with some empirical knowledge we understand about our process.\n",
        "\n",
        "When working with equipment and machinery, we will often want to convert a signal from the time to frequency domain. Let's cover how we can do that with numpy!\n",
        "\n",
        "<img src=\"https://www.nti-audio.com/portals/0/pic/news/FFT-Time-Frequency-View-540.png\" width=400px></img>\n",
        "\n",
        "<small>[img src](https://www.nti-audio.com/en/support/know-how/fast-fourier-transform-fft#:~:text=The%20%22Fast%20Fourier%20Transform%22%20(,frequency%20information%20about%20the%20signal.)</small>"
      ]
    },
    {
      "cell_type": "markdown",
      "metadata": {
        "id": "_AmjYiCPosd1"
      },
      "source": [
        "What I've drawn here in the following is called a [square-wave signal](https://en.wikipedia.org/wiki/Square_wave)"
      ]
    },
    {
      "cell_type": "code",
      "metadata": {
        "colab": {
          "base_uri": "https://localhost:8080/",
          "height": 355
        },
        "id": "NkSy_rmGn_mK",
        "outputId": "54c4810f-ca25-45b0-aaeb-5c089c7140ce"
      },
      "source": [
        "t = np.linspace(0,5,200)\n",
        "w = 5\n",
        "h = 4\n",
        "s = 4 * h / np.pi * (np.sin(w*t) + np.sin(3*w*t)/3 + np.sin(5*w*t)/5)\n",
        "\n",
        "# here is the call to numpy FFT\n",
        "F = np.fft.fft(s)\n",
        "freq = np.fft.fftfreq(t.shape[-1])\n",
        "\n",
        "# amplitudes\n",
        "amps = [max(np.sin(w*t)), max(np.sin(w*t*3)/3), max(np.sin(w*t*5)/5)]\n",
        "\n",
        "fig, ax = plt.subplots(1,2,figsize=(10,5))\n",
        "\n",
        "ax[0].plot(t,s)\n",
        "ax[0].plot(t,np.sin(w*t), ls='--')\n",
        "ax[0].plot(t,np.sin(w*t*3)/3, ls='--')\n",
        "ax[0].plot(t,np.sin(w*t*5)/5, ls='--')\n",
        "ax[0].set_title('Time Domain')\n",
        "\n",
        "# tells us about the amplitude of the component at the\n",
        "# corresponding frequency\n",
        "magnitude = np.sqrt(F.real**2 + F.imag**2)\n",
        "\n",
        "ax[1].plot(freq, magnitude)\n",
        "ax[1].set_xlim(0,.15)\n",
        "ax[1].set_title('Frequency Domain')"
      ],
      "execution_count": null,
      "outputs": [
        {
          "output_type": "execute_result",
          "data": {
            "text/plain": [
              "Text(0.5, 1.0, 'Frequency Domain')"
            ]
          },
          "metadata": {
            "tags": []
          },
          "execution_count": 21
        },
        {
          "output_type": "display_data",
          "data": {
            "image/png": "[encoded data removed]",
            "text/plain": [
              "<Figure size 720x360 with 2 Axes>"
            ]
          },
          "metadata": {
            "tags": []
          }
        }
      ]
    },
    {
      "cell_type": "markdown",
      "metadata": {
        "id": "rqto3ouKxsee"
      },
      "source": [
        "We can construct a similar plot with 4 signals contributing to the square-wave:"
      ]
    },
    {
      "cell_type": "code",
      "metadata": {
        "colab": {
          "base_uri": "https://localhost:8080/",
          "height": 355
        },
        "id": "03bFlfBb3tZ1",
        "outputId": "43bb27ea-7b76-4be8-cacb-712c11131391"
      },
      "source": [
        "t = np.linspace(0,5,200)\n",
        "w = 5\n",
        "h = 4\n",
        "s = 4 * h / np.pi * (np.sin(w*t) + np.sin(3*w*t)/3 + np.sin(5*w*t)/5\n",
        "                      + np.sin(10*w*t)/10)\n",
        "\n",
        "F = np.fft.fft(s)\n",
        "freq = np.fft.fftfreq(t.shape[-1])\n",
        "\n",
        "fig, ax = plt.subplots(1,2,figsize=(10,5))\n",
        "\n",
        "ax[0].plot(t,s)\n",
        "ax[0].plot(t,np.sin(w*t), ls='--')\n",
        "ax[0].plot(t,np.sin(w*t*3)/3, ls='--')\n",
        "ax[0].plot(t,np.sin(w*t*5)/5, ls='--')\n",
        "ax[0].plot(t,np.sin(10*w*t)/10, ls='--')\n",
        "ax[0].set_title('Time Domain')\n",
        "\n",
        "# tells us about the amplitude of the component at the\n",
        "# corresponding frequency\n",
        "magnitude = np.sqrt(F.real**2 + F.imag**2)\n",
        "\n",
        "ax[1].plot(freq, magnitude)\n",
        "ax[1].set_xlim(0)\n",
        "ax[1].set_title('Frequency Domain')"
      ],
      "execution_count": null,
      "outputs": [
        {
          "output_type": "execute_result",
          "data": {
            "text/plain": [
              "Text(0.5, 1.0, 'Frequency Domain')"
            ]
          },
          "metadata": {
            "tags": []
          },
          "execution_count": 22
        },
        {
          "output_type": "display_data",
          "data": {
            "image/png": "[encoded data removed]",
            "text/plain": [
              "<Figure size 720x360 with 2 Axes>"
            ]
          },
          "metadata": {
            "tags": []
          }
        }
      ]
    },
    {
      "cell_type": "markdown",
      "metadata": {
        "id": "PGIGgSDCx7uM"
      },
      "source": [
        "<a name='x.2.2.2'></a>\n",
        "\n",
        "#### 2.2.2.2 Rolling Windows\n",
        "\n",
        "[back to top](#top)\n",
        "\n",
        "One powerful technique for dealing with time series data, is to create a rolling window of features based on the historical data. The proper window size can usually be determined by trial and error, or constraints around access to the data itself.\n",
        "\n",
        "<p align=center>\n",
        "<img src=\"https://cdn.analyticsvidhya.com/wp-content/uploads/2019/11/3hotmk.gif\"></img>\n",
        "</p>\n",
        "\n",
        "In the above gif, we have a window size of 7. What that means is for whatever time step units we are in (that could be minutes, days, months, etc.) we will have 7 of them included in a single instance or observation. This instance or observation is then interpreted by our model and used to assess the target value, typically the quantity in the very next time step after the window (the green bar in the gif)."
      ]
    },
    {
      "cell_type": "markdown",
      "metadata": {
        "id": "L44_QTSEzhzP"
      },
      "source": [
        "##### 2.2.2.2.1 Exercise: Optimize Rolling Window Size for Customer Forecasts\n",
        "\n",
        "For this exercise, you will use the `process_data` function below to help you optimize the `window` size for predicting the order quantity in any given month. \n",
        "\n",
        "* create a model using a window size of 3 and predict the order quantity for the month immediately following the window\n",
        "* create a model for window sizes 1-11 and report the $R^2$ for each model"
      ]
    },
    {
      "cell_type": "code",
      "metadata": {
        "id": "YDahuv7BU3Nr"
      },
      "source": [
        "def process_data(Xy, time_cols=12, window=3, remove_null=False):\n",
        "  \"\"\"\n",
        "  This function splits your time series data into the proper windows\n",
        "\n",
        "  Parameters\n",
        "  ----------\n",
        "  Xy: array\n",
        "    The input data. If there are non-time series columns, assumes they are on\n",
        "    the left and time columns are on the right. \n",
        "  time_cols: int\n",
        "    The number of time columns, default 12\n",
        "  window: int\n",
        "    The time window size, default 3\n",
        "\n",
        "  Returns\n",
        "  -------\n",
        "  X_: array\n",
        "    The independent variables, includes time and non-time series columns with\n",
        "    the new window\n",
        "  y_: array\n",
        "    The dependent variable, selected from the time columns at the end of the \n",
        "    window\n",
        "  labels:\n",
        "    The time series labels, can be used in subsequent plot\n",
        "  \"\"\"\n",
        "  # separate the non-time series columns\n",
        "  X_cat = Xy[:,:-time_cols]\n",
        "\n",
        "  # select the columns to apply the sweeping window\n",
        "  X = Xy[:,-time_cols:]\n",
        "\n",
        "  X_ = []\n",
        "  y = []\n",
        "\n",
        "  for i in range(X.shape[1]-window):\n",
        "    # after attaching the current window to the non-time series \n",
        "    # columns, add it to a growing list\n",
        "    X_.append(np.concatenate((X_cat, X[:, i:i+window]), axis=1))\n",
        "\n",
        "    # add the next time delta after the window to the list of y\n",
        "    # values\n",
        "    y.append(X[:, i+window])\n",
        "\n",
        "  # X_ is 3D: [number of replicates from sweeping window,\n",
        "  #           length of input data, \n",
        "  #           size of new feature with categories and time]\n",
        "  # we want to reshape X_ so that the replicates due to the sweeping window is \n",
        "  # a part of the same dimension as the instances of the input data\n",
        "  X_ = np.array(X_).reshape(X.shape[0]*np.array(X_).shape[0],window+X_cat.shape[1])\n",
        "  y = np.array(y).reshape(X.shape[0]*np.array(y).shape[0],)\n",
        "\n",
        "  if remove_null:\n",
        "    # remove training data where the target is 0 (may be unfair advantage)\n",
        "    X_ = X_[np.where(~np.isnan(y.astype(float)))[0]]\n",
        "    y = y[np.where(~np.isnan(y.astype(float)))[0]]\n",
        "\n",
        "  # create labels that show the previous month values used to train the model\n",
        "  labels = []\n",
        "  for row in X_:\n",
        "    labels.append(\"X: {}\".format(np.array2string(row[-window:].astype(float).round())))\n",
        "  return X_, y, labels"
      ],
      "execution_count": null,
      "outputs": []
    },
    {
      "cell_type": "code",
      "metadata": {
        "id": "nayYlqIkzoVt",
        "colab": {
          "base_uri": "https://localhost:8080/"
        },
        "outputId": "bd07809e-2090-49fa-93f0-a3d414ed4388"
      },
      "source": [
        "# Code Cell for Exercise 2.2.2.2.1\n",
        "# use data and the function process_data to create your X, y arrays\n",
        "# then use train_test_split to create train and test portions\n",
        "data = orders.values[:,6:]\n",
        "\n",
        "### YOUR CODE HERE ###\n",
        "# USE y_test and  y_pred for your actual and true test data\n",
        "# name your labels for the test set labels_test\n",
        "# change only window parameter in process_data()\n",
        "for size in range(1,12):\n",
        "  X, y, labels = process_data(data, window=size)\n",
        "\n",
        "  # train_test_split to make your train/test from that processesed data\n",
        "  # model = LinearRegression model\n",
        "  # model. fit\n",
        "  # model. predict\n",
        "\n",
        "  X_test, X_train, y_test, y_train = train_test_split(X, y, train_size=0.6, random_state=42)\n",
        "  model = LinearRegression()\n",
        "  model.fit(X_train, y_train)\n",
        "  y_pred = model.predict(X_test)\n",
        "  print(size, model.score(X_test, y_test))"
      ],
      "execution_count": null,
      "outputs": [
        {
          "output_type": "stream",
          "text": [
            "1 0.8243315695960827\n",
            "2 0.8859310219383343\n",
            "3 0.8454844596981169\n",
            "4 0.7551256118328863\n",
            "5 0.8850198133673672\n",
            "6 0.9929152742413399\n",
            "7 0.9954328032902078\n",
            "8 1.0\n",
            "9 1.0\n",
            "10 1.0\n",
            "11 1.0\n"
          ],
          "name": "stdout"
        }
      ]
    },
    {
      "cell_type": "code",
      "metadata": {
        "id": "pvCnJYJOzRbl",
        "colab": {
          "base_uri": "https://localhost:8080/",
          "height": 517
        },
        "outputId": "fb87382f-2f61-44ee-b150-7944c2d78ecd"
      },
      "source": [
        "#### RUN AFTER EXERCISE 2.2.2.2.1 ####\n",
        "fig = px.scatter(x=y_test, y=y_pred,\n",
        "                 labels={\n",
        "                     \"y\": \"Prediction\",\n",
        "                     \"x\": \"Actual\"\n",
        "                 })\n",
        "fig.update_layout(\n",
        "  autosize=False,\n",
        "  width=800,\n",
        "  height=500,\n",
        "  title='R2: {:.3f}'.format(r2_score(y_test, y_pred))\n",
        "  )"
      ],
      "execution_count": null,
      "outputs": [
        {
          "output_type": "display_data",
          "data": {
            "text/html": [
              "<html>\n",
              "<head><meta charset=\"utf-8\" /></head>\n",
              "<body>\n",
              "    <div>\n",
              "            <script src=\"https://cdnjs.cloudflare.com/ajax/libs/mathjax/2.7.5/MathJax.js?config=TeX-AMS-MML_SVG\"></script><script type=\"text/javascript\">if (window.MathJax) {MathJax.Hub.Config({SVG: {font: \"STIX-Web\"}});}</script>\n",
              "                <script type=\"text/javascript\">window.PlotlyConfig = {MathJaxConfig: 'local'};</script>\n",
              "        <script src=\"https://cdn.plot.ly/plotly-latest.min.js\"></script>    \n",
              "            <div id=\"3bc91324-d1f8-4aa1-99c4-4dda189d6b44\" class=\"plotly-graph-div\" style=\"height:500px; width:800px;\"></div>\n",
              "            <script type=\"text/javascript\">\n",
              "                \n",
              "                    window.PLOTLYENV=window.PLOTLYENV || {};\n",
              "                    \n",
              "                if (document.getElementById(\"3bc91324-d1f8-4aa1-99c4-4dda189d6b44\")) {\n",
              "                    Plotly.newPlot(\n",
              "                        '3bc91324-d1f8-4aa1-99c4-4dda189d6b44',\n",
              "                        [{\"hoverlabel\": {\"namelength\": 0}, \"hovertemplate\": \"Actual=%{x}<br>Prediction=%{y}\", \"legendgroup\": \"\", \"marker\": {\"color\": \"#636efa\", \"symbol\": \"circle\"}, \"mode\": \"markers\", \"name\": \"\", \"showlegend\": false, \"type\": \"scatter\", \"x\": [15110.75, 140637.14285714287, 1968.8904494382025, 529.03125, 176.36477987421384, 1901.1290322580646, 2252.261437908497, 56.07911392405064, 80801.72807017544, 19215.140350877195, 3578.592162554427, 608.4770114942529, 15244.632812500002, 54.83333333333334, 15244.632812500002, 11555.9375, 471.91011235955057, 220.55016181229772, 289.8888888888889, 1901.1290322580646, 13671.296296296296, 11.175616835994196, 1180.5379746835442, 3578.592162554427, 1968.8904494382025, 1868.867924528302, 20.098039215686274, 11.175616835994196, 30698.857142857138, 3272.80163599182, 117.22222222222223, 2499.2017416545723, 58020.911949685535, 19129.33333333333, 109.66666666666669, 74.78571428571429, 10245.87593728698, 131.55526992287918, 16205.047619047617, 3569.0359477124184, 2540.0, 41871.69230769231, 15110.75, 220.55016181229772, 4463.780120481927, 777.0363321799307, 120.98615916955015, 79091.23475609756, 5456.578050443081, 188.7692307692308, 1432.2712418300653, 1483.5, 1630.1966292134832, 2566.693548387097, 345.6428571428572, 440.859375, 103.3653846153846, 9076.930817610064, 83347.75862068968, 16918.132716049382, 1630.1966292134832, 38128.80258899677, 193984.2734375, 818.1891025641024, 191.11111111111111, 101149.25, 51795.97953216374, 916.3717948717947, 58020.911949685535, 12691.209677419352, 663176.1973875181, 7892.142857142857, 6965.361445783133, 103.3653846153846, 15784.285714285714, 1347.0, 132.94270833333334, 19129.33333333333, 12317.397660818711, 466477.57812500006, 8250.491573033707, 5698.392857142857, 10146.898432174508, 74.78571428571429, 181.55526992287918, 19177.638036809818, 6432.321799307958, 3080.032258064516, 4463.780120481927, 5907.667682926829, 6432.321799307958, 15617.489114658929, 45601.615168539334, 538.8571428571429, 36.37096774193548, 71138.51966292135, 3665.8097686375318, 211540.75757575763, 16569.26100628931, 14.663461538461537, 2386.449438202247, 818.1891025641024, 14626.074074074077, 9306.611111111111, 1432.2712418300653, 30698.857142857138, 109.66666666666669, 11715.487421383648, 16918.132716049382, 5038.387096774193, 411.1303344867358, 20527.75432525952, 10736.622807017544, 188.7692307692308, 3403.3448673587077, 20.098039215686274, 31412.04644412192, 9076.930817610064, 2002.1844660194174, 13671.296296296296, 102.64285714285714, 103.3653846153846, 2242.446601941748, 26081.56401384083, 5712.3367198838905, 1677.5078125000002, 2729.705056179775, 15244.632812500002, 9772.200520833334, 41871.69230769231, 30698.857142857138, 181.55526992287918, 371.2903225806451, 1483.5, 3786.966463414634, 1254.4444444444443, 217.28571428571428, 188.7692307692308, 627.2222222222222, 131.55526992287918, 140637.14285714287, 8608.709677419354, 3798.9285714285716, 2010.9477124183009, 299024.08854166674, 5892.189759036144, 4463.780120481927, 371.2903225806451, 30221.5, 3665.8097686375318, 3882.6809815950924, 50574.625, 2854.854368932039, 3695.444059976932, 42876.375, 411.1303344867358, 50574.625, 3197.436893203884, 13671.296296296296, 2540.0, 3272.80163599182, 47142.928571428565, 6965.361445783133, 42.48417721518987, 12317.397660818711, 30698.857142857138, 10861.245674740483, 12870.766853932582, 19569.69230769231, 428.0, 9304.668674698794, 345.6428571428572, 220.55016181229772, 157100.37650602407, 936.2804878048779, 936.2804878048779, 1432.2712418300653, 579.0625, 21438.1875, 193984.2734375, 13121.345911949686, 518.4642857142858, 10736.622807017544, 329.7142857142857, 5872.384615384615, 22331.935185185186, 2611.25, 3569.0359477124184, 4463.780120481927, 3578.592162554427, 371.2903225806451, 2231.547169811321, 837.8787878787879, 12691.209677419352, 13504.20634920635, 83347.75862068968, 15110.75, 150.36549707602342, 329.7142857142857, 1992.4528301886792, 20.098039215686274, 108.64285714285714, 15617.489114658929, 1271.904761904762, 2854.854368932039, 108.64285714285714, 119015.43674698795, 54.83333333333334, 2010.9477124183009, 6928.3804627249365, 1462.075471698113, 1236.25, 627.2222222222222, 3071.4691011235955, 2655.421052631579, 3798.9285714285716, 18613.222222222223, 64.01384083044982, 4057.832278481013, 2543.106741573034, 30698.857142857138, 1236.25, 47142.928571428565, 2611.25, 2010.9477124183009, 74.78571428571429, 6984.389273356402, 2647.5, 90677.41228070176, 11791.8, 132.94270833333334, 5038.387096774193, 23123.5, 2566.693548387097, 62.168396770472896, 10245.87593728698, 14.663461538461537, 21601.383647798746, 773.5849056603773, 936.2804878048779, 46247.0, 712.4603174603176, 31412.04644412192, 4463.780120481927, 157.46855345911948, 663176.1973875181, 14.663461538461537, 428.0, 1236.25, 9306.611111111111, 181.55526992287918, 15244.632812500002, 10330.451612903224, 5712.3367198838905, 1347.0, 19364.70552147239, 10736.622807017544, 93302.72435897436, 220.55016181229772, 53770.34259259259, 371.2903225806451, 283.1538461538462, 2054.328561690525, 494.57142857142856, 9304.668674698794, 8173.714285714284, 11.175616835994196, 3569.0359477124184, 289.8888888888889, 4793.829296424452, 6965.361445783133, 299024.08854166674, 9772.200520833334, 9772.200520833334, 39307.041139240515, 2499.2017416545723, 2729.705056179775, 36.37096774193548, 188.7692307692308, 253848.9090909091, 2054.328561690525, 1702.1929824561405, 3177.0, 13121.345911949686, 108.64285714285714, 16918.132716049382, 191.11111111111111, 854.952380952381, 117.22222222222223, 7892.142857142857, 5698.392857142857, 42.48417721518987, 343.1394601542417, 23123.5, 188.7692307692308, 64983.421383647816, 2566.693548387097, 1529.7752808988766, 2543.106741573034, 19569.69230769231, 54.83333333333334, 3569.0359477124184, 6965.361445783133, 11791.8, 18613.222222222223, 79091.23475609756, 345.6428571428572, 10861.245674740483, 1992.4528301886792, 2647.5, 818.1891025641024, 2540.0, 14.663461538461537, 1254.4444444444443, 4793.829296424452, 4528.380503144654, 837.8787878787879, 4057.832278481013, 176.36477987421384, 41871.69230769231, 1347.0, 2185.3410740203194, 803.1896551724138, 90677.41228070176, 1868.867924528302, 64983.421383647816, 2355.267295597484, 1968.8904494382025, 23123.5, 50574.625, 314.32038834951464, 1432.2712418300653, 9306.611111111111, 15229.451612903225, 104499.05128205131, 18613.222222222223, 15617.489114658929, 39307.041139240515, 12691.209677419352, 356.66666666666674, 8104.40251572327, 19129.33333333333, 15617.489114658929, 42.48417721518987, 663176.1973875181, 440.859375, 5872.384615384615, 356.66666666666674, 3517.933333333333, 40735.10802469136, 42.48417721518987, 253848.9090909091, 329.7142857142857, 299024.08854166674, 13504.20634920635, 8608.709677419354, 1158.125, 712.4603174603176, 13799.769319492505, 6046.06451612903, 3786.966463414634, 11.175616835994196, 101149.25, 38128.80258899677, 2540.0, 114208.8534107402, 102.64285714285714, 40608.41346153846, 777.0363321799307, 40735.10802469136, 2566.693548387097, 19286.94968553459, 11715.487421383648, 1868.867924528302, 41871.69230769231, 22331.935185185186, 29354.53846153846, 3882.6809815950924, 8250.491573033707, 2655.421052631579, 3569.0359477124184, 1271.904761904762, 207.39062500000003, 579.7777777777778, 936.2804878048779, 3272.80163599182, 16569.26100628931, 19569.69230769231, 108.64285714285714, 12274.009146341465, 19569.69230769231, 1158.125, 10312.932515337425, 1868.867924528302, 2694.0, 2566.693548387097, 188.7692307692308, 102.64285714285714, 818.1891025641024, 6965.361445783133, 2054.328561690525, 3798.9285714285716, 2386.449438202247, 10736.622807017544, 471.91011235955057, 16205.047619047617, 93302.72435897436, 2854.854368932039, 74.78571428571429, 343.1394601542417, 45601.615168539334, 157.46855345911948, 1432.2712418300653, 1236.25, 1901.1290322580646, 18557.572327044025, 157.46855345911948, 12317.397660818711, 428.0, 93302.72435897436, 74.78571428571429, 5071.7861635220115, 85.32258064516128, 23123.5, 45601.615168539334, 10245.87593728698, 4057.832278481013, 50574.625, 2499.2017416545723, 9304.668674698794, 18046.11111111111, 28694.0, 1630.1966292134832, 2729.705056179775, 4793.829296424452, 3786.966463414634, 103.3653846153846, 5456.578050443081, 808.2857142857142, 20.098039215686274, 16749.131578947367, 63142.241379310355, 371.2903225806451, 579.0625, 96.59546925566343, 936.2804878048779, 2611.25, 5892.189759036144, 2002.1844660194174, 18613.222222222223, 773.5849056603773, 21601.383647798746, 64.01384083044982, 6965.361445783133, 1347.0, 10796.31640058055, 63142.241379310355, 9304.668674698794, 79091.23475609756, 103.3653846153846, 13671.296296296296, 8173.714285714284, 150.36549707602342, 2540.0, 538.8571428571429, 39307.041139240515, 140637.14285714287, 808.2857142857142, 1558.3101265822784, 15617.489114658929, 6763.539187227868, 2729.705056179775, 234.5701754385965, 117.49826989619378, 5456.578050443081, 51795.97953216374, 803.1896551724138, 31412.04644412192, 5071.7861635220115, 4793.829296424452, 13671.296296296296, 14626.074074074077, 50574.625, 2281.354838709677, 114208.8534107402, 1702.1929824561405, 3665.8097686375318, 11555.9375, 40735.10802469136, 19129.33333333333, 1271.904761904762, 120.98615916955015, 41871.69230769231, 8608.709677419354, 2854.854368932039, 329.7142857142857, 21438.1875, 131.55526992287918, 90677.41228070176, 19129.33333333333, 3786.966463414634, 4463.780120481927, 5456.578050443081, 188.7692307692308, 131.55526992287918, 1460.5975609756094, 854.952380952381, 120.98615916955015, 1702.1929824561405, 140.66666666666666, 2637.8993710691825, 13799.769319492505, 93302.72435897436, 6185.59509202454, 895.9082278481012, 10736.622807017544, 2054.328561690525, 1901.1290322580646, 1968.8904494382025, 5038.387096774193, 5038.387096774193, 8173.714285714284, 31412.04644412192, 2185.3410740203194, 90677.41228070176, 102.64285714285714, 79091.23475609756, 663176.1973875181, 608.4770114942529, 131.55526992287918, 1529.7752808988766, 2611.25, 1677.5078125000002, 1868.867924528302, 471.91011235955057, 42.48417721518987, 114208.8534107402, 15110.75, 2010.9477124183009, 1075.3255208333335, 181.55526992287918, 85.32258064516128, 329.7142857142857, 3695.444059976932, 193984.2734375, 10146.898432174508, 1180.5379746835442, 445.5483870967742, 54.83333333333334, 1992.4528301886792, 440.859375, 538.8571428571429, 36.37096774193548, 124348.89322916669, 132.94270833333334, 19129.33333333333, 529.03125, 211540.75757575763, 15617.489114658929, 117.49826989619378, 11791.8, 10146.898432174508, 6432.321799307958, 85.32258064516128, 40608.41346153846, 7892.142857142857, 31412.04644412192, 42.48417721518987, 1347.0, 13504.20634920635, 11791.8, 5872.384615384615, 440.859375, 150.36549707602342, 538.8571428571429, 141456.76315789475, 140637.14285714287, 234.5701754385965, 4528.380503144654, 90677.41228070176, 4258.339887640449, 2010.9477124183009, 117.22222222222223, 4057.832278481013, 117.22222222222223, 773.5849056603773, 345.6428571428572, 2002.1844660194174, 40735.10802469136, 352.03883495145635, 12274.009146341465, 51795.97953216374, 14.663461538461537, 79091.23475609756, 1005.4545454545455, 16749.131578947367, 11.175616835994196, 21939.111111111117, 58020.911949685535, 51885.29430379747, 8608.709677419354, 16569.26100628931, 773.5849056603773, 9304.668674698794, 3786.966463414634, 2002.1844660194174, 47142.928571428565, 10146.898432174508, 21438.1875, 3578.592162554427, 9060.337370242214, 411.1303344867358, 109.66666666666669, 712.4603174603176, 10312.932515337425, 114208.8534107402, 109.66666666666669, 2185.3410740203194, 9076.930817610064, 40608.41346153846, 23583.6, 6928.3804627249365, 3517.933333333333, 16918.132716049382, 5038.387096774193, 102.64285714285714, 1254.4444444444443, 2540.0, 356.66666666666674, 3272.80163599182, 5712.3367198838905, 150.36549707602342, 5456.578050443081, 47142.928571428565, 119015.43674698795, 26081.56401384083, 215854.732946299, 5872.384615384615, 2499.2017416545723, 352.03883495145635, 4528.380503144654, 4723.4912917271395, 1347.0, 86.24595469255665, 86.24595469255665, 40608.41346153846, 14626.074074074077, 85.32258064516128, 12274.009146341465, 63142.241379310355, 10736.622807017544, 8173.714285714284, 21939.111111111117, 51795.97953216374, 466477.57812500006, 5456.578050443081, 8104.40251572327, 12870.766853932582, 8250.491573033707, 678.7183544303797, 1180.5379746835442, 140637.14285714287, 466477.57812500006, 837.8787878787879, 10146.898432174508, 314.32038834951464, 253848.9090909091, 627.2222222222222, 1677.5078125000002, 85.32258064516128, 120.98615916955015, 13121.345911949686, 150.36549707602342, 345.6428571428572, 50574.625, 916.3717948717947, 207.39062500000003, 2002.1844660194174, 289.8888888888889, 2647.5, 466477.57812500006, 5071.7861635220115, 108.64285714285714, 579.7777777777778, 18557.572327044025, 3578.592162554427, 2647.5, 803.1896551724138, 20.098039215686274, 518.4642857142858, 124348.89322916669, 11555.9375, 16918.132716049382, 23123.5, 773.5849056603773, 38128.80258899677, 286.6666666666667, 108.64285714285714, 1236.25, 11791.8, 1968.8904494382025, 5038.387096774193, 9060.337370242214, 7892.142857142857, 1005.4545454545455, 1702.1929824561405, 1075.3255208333335, 45481.423076923085, 191.11111111111111, 41871.69230769231, 26081.56401384083, 193984.2734375, 5356.3386075949375, 1529.7752808988766, 74.78571428571429, 579.7777777777778, 11.175616835994196, 10245.87593728698, 5712.3367198838905, 247.01618122977348, 19147.454268292684, 6984.389273356402, 248.6394601542416, 2647.5, 62.168396770472896, 371.2903225806451, 13504.20634920635, 712.4603174603176, 12691.209677419352, 102.64285714285714, 356.66666666666674, 12282.16265060241, 8808.576923076922, 1271.904761904762, 1180.5379746835442, 9076.930817610064, 4057.832278481013, 2566.693548387097, 19569.69230769231, 1347.0, 53770.34259259259, 39307.041139240515, 168764.57142857145, 5222.5, 2647.5, 314.32038834951464, 13671.296296296296, 12274.009146341465, 132.94270833333334, 837.8787878787879, 3578.592162554427, 40608.41346153846, 1432.2712418300653, 6984.389273356402, 14626.074074074077, 579.0625, 86.24595469255665, 114208.8534107402, 494.57142857142856, 30698.857142857138, 9060.337370242214, 119015.43674698795, 1992.4528301886792, 86.24595469255665, 45601.615168539334, 42.48417721518987, 42704.25889967639, 663176.1973875181, 579.0625, 3517.933333333333, 90677.41228070176, 2355.267295597484, 114208.8534107402, 777.0363321799307, 9194.277108433736, 21438.1875, 21.121915820029027, 5712.3367198838905, 12691.209677419352, 1529.7752808988766, 12274.009146341465, 16.423076923076927, 440.859375, 678.7183544303797, 803.1896551724138, 83347.75862068968, 663176.1973875181, 20.098039215686274, 64.01384083044982, 117.22222222222223, 79091.23475609756, 7892.142857142857, 6185.59509202454, 6984.389273356402, 36.37096774193548, 30221.5, 93302.72435897436, 13867.125, 2647.5, 96.59546925566343, 15110.75, 9060.337370242214, 627.2222222222222, 5872.384615384615, 42704.25889967639, 818.1891025641024, 678.7183544303797, 19286.94968553459, 5222.5, 4258.339887640449, 299024.08854166674, 117.49826989619378, 21438.1875, 21601.383647798746, 314.32038834951464, 176.36477987421384, 74.78571428571429, 4528.380503144654, 2231.547169811321, 181.55526992287918, 16569.26100628931, 3786.966463414634, 3403.3448673587077, 678.7183544303797, 736.1797752808989, 46247.0, 104499.05128205131, 663176.1973875181, 329.7142857142857, 41871.69230769231, 8608.709677419354, 3798.9285714285716, 2854.854368932039, 3798.9285714285716, 10861.245674740483, 45481.423076923085, 157100.37650602407, 936.2804878048779, 181.55526992287918, 85.32258064516128, 2355.267295597484, 20527.75432525952, 289.8888888888889, 19286.94968553459, 39307.041139240515, 21601.383647798746, 1180.5379746835442, 47142.928571428565, 11715.487421383648, 9304.668674698794, 140.66666666666666, 29517.05442670537, 678.7183544303797, 43.645161290322584, 8104.40251572327, 12317.397660818711, 207.39062500000003, 253848.9090909091, 3517.933333333333, 19215.140350877195, 191.11111111111111, 8608.709677419354, 40608.41346153846, 31412.04644412192, 51795.97953216374, 12274.009146341465, 1236.25, 36.37096774193548, 579.0625, 3798.9285714285716, 85.32258064516128, 62.168396770472896, 168764.57142857145, 1702.1929824561405, 10146.898432174508, 1901.1290322580646, 1005.4545454545455, 115.76923076923076, 61397.714285714275, 2540.0, 8608.709677419354, 15617.489114658929, 2242.446601941748, 102.38709677419355, 10245.87593728698, 1901.1290322580646, 5712.3367198838905, 8250.491573033707, 538.8571428571429], \"xaxis\": \"x\", \"y\": [5418.107328491358, 229694.58529876123, -3363.915872028326, -7542.136466180082, -8004.840015659554, -5294.619264089775, -5121.698141882379, -8221.252088760995, 79558.72131175778, 12602.36967354322, 2615.610567765143, -7387.770675390458, 17338.766130903496, -8218.065639347862, 17338.766130903496, 8365.058521415776, -7721.489414705578, -7964.273821208463, -7917.642014138, -5630.875209881575, 15810.484371445535, -8254.096474355425, -6429.266066861299, -781.0080097774335, -5923.950828375067, -5345.41778893222, -8256.501429757587, -8268.394308719231, 90835.84638149655, 1683.8849345529015, -8089.787340078738, -3870.6509922801815, 81007.46209195151, 13374.414997002626, -8099.207553947829, -8170.389903647234, 13205.562637728202, -8159.160074451808, 13561.211561663804, -2416.5569464803903, -4288.649382404183, 62182.27772668537, 5418.107328491358, -7925.310345017441, -2212.9925489366415, -6956.127469553536, -8080.749586972635, 77080.15715649864, 3158.6146586797677, -7935.426896066398, -6184.882383450666, -6196.195905483246, -4210.995486624083, -3944.851875005623, -7859.264064493121, -7448.104689098179, -8133.668409083036, 6292.803139066604, 128942.8369178382, 21533.739524842007, -6330.646357852576, 54439.36065648037, 317808.1486109199, -6837.398154854083, -7829.144844778927, 101077.19330067956, 121254.57108064016, -6942.106068078997, 81007.46209195151, 13187.606677034542, 1035952.8874526067, -2840.618686674252, 1191.631963840604, -8133.668409083036, 4138.865387588048, -3938.799676136454, -8100.890080162082, 27455.59041152848, 5006.819147832932, 775881.6610287371, 12346.486683557505, -1189.7348978458485, 12997.928477470039, -8046.671217320271, -8110.135872327653, 9647.135927798685, 2738.3431339171475, -4246.617568362534, -2212.9925489366415, -2325.1688534629684, 2738.3431339171475, 16303.239812241627, 46469.193133943096, -6993.942244020063, -8230.877983379849, 78528.26234702827, -4693.87993638795, 312260.37199962995, 17212.35214794372, -8262.147799155875, -5375.759882200829, -7065.3647711419235, 26840.175601498493, 3606.5968880566743, -5748.555105148163, 46706.14795887149, -8099.207553947829, 9742.275264511201, 13563.49812655375, -354.6747630379032, -7749.274332572416, 26901.182845603173, 18564.34765935042, -7990.910806332316, -3827.341951536102, -8252.511625501636, 57607.77336302048, 6292.803139066604, -4738.028966355341, 15810.484371445535, -8126.525887094492, -8104.868395860892, -5083.406501137453, 36421.70043506534, 1808.7680195900757, -5468.181765628304, -5010.382641280038, 17338.766130903496, 5476.58695761206, 57643.25839720526, 40050.44821115535, -8110.135872327653, -7659.859515053651, -6196.195905483246, -1865.3878751025823, -6126.915189429405, -8117.078252760055, -7970.44764518334, -7486.497544207896, -8159.160074451808, 259691.3625399814, 6279.300033308602, -3574.325286116842, -5335.10600010879, 412905.34798139386, -419.76488983951367, 1103.5768414571285, -7687.412448725434, 24388.166139581812, 2881.3574506673467, -4656.992435536745, 37585.731222434246, -3226.1405102123053, -3444.483948067874, 38070.96381179469, -7749.274332572416, 37585.731222434246, -3718.6039074855735, 20476.049342602964, -3448.260368882352, -5710.729552622144, 65943.37718223906, 6366.865496987657, -8233.274887380792, 5006.819147832932, 40050.44821115535, 5947.820340371309, 7419.1479457739715, 24647.8159914527, -7593.065659431947, 4375.403226413615, -7457.9966377455185, -7925.310345017441, 201502.43702004626, -6700.200159269125, -6700.200159269125, -5995.622405408489, -6418.404438542264, 60933.93307540657, 317808.1486109199, 12789.648793971253, -7642.303777027795, 12152.247604258155, -7496.253247653384, 2684.5804784449447, 19524.986114472224, 143.3558650000905, -1959.808860813494, 1103.5768414571285, -1962.76025030222, -7703.512050706248, -4703.447238546598, -7018.506981912722, 11695.5034650048, 14563.339759467657, 128942.8369178382, 40503.176459373215, -7912.080981027547, -7496.253247653384, -5221.714024641414, -8258.63429451438, -8093.523817703664, 39297.416940141164, -6510.363373017494, -3591.4910662085986, -8117.078252760055, 153690.54501959938, -8218.065639347862, -5121.698141882379, -598.0436647152492, -7070.056698095914, -5932.513672531974, -7486.497544207896, -4539.771891768697, -5401.199438242848, 835.9677685579318, 23779.836612603875, -8204.244189013729, 249.468821889448, -5184.577597486621, 12901.651185426803, -5932.513672531974, 93656.30484392302, 143.3558650000905, -5121.698141882379, -8154.175903973308, 3684.7147944467633, -4119.379267245524, 164343.61955792014, 29786.56967016607, -8100.890080162082, 237.68749096550346, 66375.66355626215, -4246.617568362534, -8206.66303523505, 22930.4295605194, -8262.147799155875, 26411.765968512693, -6920.787737842503, -6813.875303440987, 41715.37593786489, -7082.539994596287, 16449.674408158862, 1103.5768414571285, -8045.799941975365, 1163917.6663986759, -8266.233382426923, -7593.065659431947, -6506.593936093383, 3606.5968880566743, -7734.959756997512, 17338.766130903496, 5267.175603281783, 1808.7680195900757, -5375.321284975131, 9822.084919388526, 18564.34765935042, 157149.0410853372, -7897.085394168779, 58679.70475919803, -7769.1828055389215, -7990.910806332316, -2028.730395513584, -7672.066794858796, 4375.403226413615, -2646.264806439038, -8270.550727094374, -2575.4688352514804, -7917.642014138, -2004.8169127162773, 6366.865496987657, 412905.34798139386, 5476.58695761206, 5476.58695761206, 56331.986109744284, -3045.343965503609, -1461.1042310309322, -8218.844218930448, -7990.910806332316, 403968.5644477527, -3978.5951020951707, -6450.860507795077, -4119.379267245524, 12789.648793971253, -8117.078252760055, 27307.34326121748, -8071.728641435614, -7135.410674699989, -8064.784778050778, 5849.930166931057, -1189.7348978458485, -8221.252088760995, -7907.282831172755, 12686.098442158178, -8074.38064866241, 96099.56922083459, -4246.617568362534, -6451.22993802111, -5184.577597486621, 28278.41448364697, -8218.065639347862, -2575.4688352514804, 1191.631963840604, -148.8914004699036, 23779.836612603875, 116249.36292180195, -7457.9966377455185, 5947.820340371309, -5221.714024641414, -3808.1131740789024, -6837.398154854083, -4737.90352971302, -8266.233382426923, -6126.915189429405, -2004.8169127162773, -1318.8589869206098, -7018.506981912722, -1617.1378871814904, -8004.840015659554, 62182.27772668537, -6167.154009234695, -4425.419545396673, -6965.706747777722, 89585.87085043653, -2593.817978632478, 96099.56922083459, -4663.3336421172635, -5923.950828375067, 12686.098442158178, 155013.00745911518, -7826.57386618706, -5931.850302351468, 3606.5968880566743, 11695.5034650048, 145208.60636772602, 23779.836612603875, 4011.0402802988647, 53604.94399138548, 15894.54015051865, -7747.689551684876, 4184.726811535733, 37655.92474560841, 16303.239812241627, -8218.30462343998, 2012370.4689076322, -7652.827573784542, 1595.1269298155767, -7747.689551684876, -680.7760508479369, 77417.89320943167, -8213.260317587785, 403968.5644477527, -7879.028705778396, 412905.34798139386, 17443.67891772324, 3744.5383884950243, -7035.951427494117, -7292.31790020821, 9799.379414156116, -354.6747630379032, -1078.5165713642891, -8264.703804287523, 101077.19330067956, 59318.901755655264, -4178.511879366012, 171545.76621267849, -8217.298976194998, 63715.55635917387, -6956.127469553536, 63516.337060158454, -4135.32260045563, 21394.941843171735, 9742.275264511201, -4367.65283409562, 57643.25839720526, 19524.986114472224, 22526.40157610376, -4656.992435536745, 1618.8472458034776, -5401.199438242848, -2668.323490574595, -5864.574681120473, -7939.514940277198, -7289.271710574301, -7277.55959404489, -1422.4927504321704, 17212.35214794372, 22526.40157610376, -8053.2126480512425, 11038.577121378683, 22526.40157610376, -7035.951427494117, 1356.6984179347983, -4984.805825198064, -6167.154009234695, -4135.32260045563, -7970.44764518334, -8126.525887094492, -6837.398154854083, 1191.631963840604, -3978.5951020951707, -3574.325286116842, -5375.759882200829, 3300.5862082604654, -7107.891850535014, 13561.211561663804, 131152.72031316452, -3226.1405102123053, -8236.527290069105, -7907.282831172755, 105762.34930250657, -8045.799941975365, -6032.885423892397, -6506.593936093383, -4665.6082593665205, 21522.26479409781, -8045.799941975365, 22517.895300202337, -7593.065659431947, 131152.72031316452, -8170.389903647234, -140.9594783249895, -8150.098802248731, 66375.66355626215, 46469.193133943096, -219.24801433312678, -1898.6619910552472, 155013.00745911518, -6319.960051856358, 11288.731948109267, 14187.240038262782, 23906.68797276185, -6330.646357852576, -1461.1042310309322, -2004.8169127162773, 1183.1264336244276, -8104.868395860892, 8337.722401070943, -7281.277036073277, -8255.978544437467, 9921.348422149615, 85144.85952280418, -7687.412448725434, -7762.907381387673, -8150.100705546805, -6813.875303440987, 143.3558650000905, -419.76488983951367, -5347.974675801803, 23779.836612603875, -5931.080502010207, 26411.765968512693, -8204.244189013729, 6366.865496987657, -5875.116181296868, 706.5301701240787, 85144.85952280418, 4375.403226413615, 116249.36292180195, -8104.868395860892, 20476.049342602964, 6354.340555274803, -8125.848673075261, -4178.511879366012, -7619.51807939595, 60999.05866823598, 188285.1698453042, -7281.277036073277, -6429.266066861299, 24474.086632628758, -2653.276219999826, -1461.1042310309322, -8033.12545654735, -8086.728637937482, 3158.6146586797677, 47618.61590973283, -6965.706747777722, 47234.628120810965, -140.9594783249895, -2004.8169127162773, 9369.848543731678, 19041.11418357624, 155013.00745911518, -5294.619264089775, 231298.20400213727, -4030.931253043954, -4693.87993638795, 13731.315868796286, 63516.337060158454, 37655.92474560841, -5864.574681120473, -8080.749586972635, 39128.463688474636, 5640.459771884738, -4095.8436784156347, -7879.028705778396, 60933.93307540657, -7887.306797255066, 164343.61955792014, 13374.414997002626, -1865.3878751025823, -2212.9925489366415, -3990.947524559904, -7834.769479925398, -7887.306797255066, -6813.875303440987, -7135.410674699989, -8080.749586972635, -6450.860507795077, -8098.486236649215, -4050.693386253368, 9799.379414156116, 131152.72031316452, -2503.2643193738986, -7219.434112527602, 3300.5862082604654, -6670.309517399663, -5294.619264089775, -3363.915872028326, -136.20414328260995, -354.6747630379032, 9387.139875239227, 87422.49816657984, -4847.097356754199, 218497.76567365057, -8104.2722886881575, 125851.94209624236, 1163917.6663986759, -7387.770675390458, -8159.160074451808, -6451.22993802111, -5919.605058052389, -5468.181765628304, -4984.805825198064, -7721.489414705578, -8221.252088760995, 193583.21378386967, 40503.176459373215, -5069.379852169133, -6773.48694950619, -8110.135872327653, -8153.79849358142, -7496.253247653384, -3444.483948067874, 317808.1486109199, -297.1954330104345, -6763.352102251634, -7703.512050706248, -8218.065639347862, -5221.714024641414, -7448.104689098179, -7619.51807939595, -8229.30089378529, 166864.78141944585, -8100.890080162082, 27455.59041152848, -7542.136466180082, 312260.37199962995, 19316.750475203764, -8086.728637937482, -148.8914004699036, 12997.928477470039, 2738.3431339171475, -8168.8896444530465, 63715.55635917387, 17194.908990516487, 41173.44016608572, -8218.30462343998, -5875.116181296868, 10587.140586738973, 17211.086739873645, 958.5425022385789, -7652.827573784542, -8001.881901616372, -6993.942244020063, 145502.2978007176, 188285.1698453042, -8033.12545654735, -1318.8589869206098, 89585.87085043653, -3091.3321207241215, -5069.379852169133, -8124.302430486315, -1135.3362270978869, -8064.784778050778, -6920.787737842503, -7859.264064493121, -5347.974675801803, 77417.89320943167, -7785.039645531182, 4959.98710693718, 90321.10073513561, -8266.233382426923, 189520.51776972364, -6655.265637750146, 9921.348422149615, -8268.394308719231, 16327.663116224383, 81007.46209195151, 53604.94399138548, 5267.175603281783, 17212.35214794372, -7070.056698095914, 11288.731948109267, -2325.1688534629684, -4738.028966355341, 76164.25206169568, 22628.850961400152, 11157.430222913648, -5469.9113770736185, 7243.371190586353, -7749.274332572416, -8099.207553947829, -6930.57790974524, 1356.6984179347983, 339699.4678493854, -8099.207553947829, -4847.097356754199, 6292.803139066604, 63715.55635917387, 12835.822108510121, -598.0436647152492, 3070.959102668923, 13563.49812655375, -136.20414328260995, -8066.187376925811, -6126.915189429405, -4288.649382404183, -7747.689551684876, 1683.8849345529015, -3789.5307676452794, -8125.848673075261, -3990.947524559904, 65943.37718223906, 242118.50155989375, 36421.70043506534, 171545.76621267849, 1595.1269298155767, -4352.890553459096, -7785.039645531182, -1318.8589869206098, -4352.890553459096, -7358.3849864492695, -8135.223247589165, -8161.497225294338, 52401.10279259235, 19041.11418357624, -8125.5685095737335, 11038.577121378683, 85144.85952280418, 12152.247604258155, 4582.229370282686, 16327.663116224383, 121254.57108064016, 775881.6610287371, 8337.722401070943, 4184.726811535733, 7419.1479457739715, 1618.8472458034776, -7219.434112527602, -6429.266066861299, 229694.58529876123, 775881.6610287371, -7018.506981912722, 22628.850961400152, -7730.819266389125, 403968.5644477527, -7486.497544207896, -5468.181765628304, -8150.098802248731, -8080.749586972635, 12789.648793971253, -7912.080981027547, -7859.264064493121, 37585.731222434246, -6942.106068078997, -7939.514940277198, -4994.2589218402445, -7917.642014138, -3243.4226084663715, 775881.6610287371, -140.9594783249895, -8093.523817703664, -7289.271710574301, 21522.26479409781, -2653.276219999826, -4004.5804328779823, -6965.706747777722, -8256.501429757587, -7642.303777027795, 166864.78141944585, 13731.315868796286, 21533.739524842007, 12686.098442158178, -7678.929222063359, 47703.33888410507, -7966.506240014261, -7937.349387522892, -5932.513672531974, 17211.086739873645, -3363.915872028326, 1312.3351432609852, 7243.371190586353, 8778.254384482694, -6655.265637750146, -5047.510852864746, -6773.48694950619, 58518.68656512883, -7829.144844778927, 92277.61882333827, 36421.70043506534, 317808.1486109199, -1898.6619910552472, -4462.151167501532, -8126.427189557736, -7289.271710574301, -8270.550727094374, -219.24801433312678, 9117.003927261281, -7935.1303757752785, 11038.577121378683, 3684.7147944467633, -8012.172401799038, -4119.379267245524, -8206.66303523505, -7703.512050706248, 14563.339759467657, -6930.57790974524, 9450.787487860427, -7956.722876347744, -7747.689551684876, 8113.353747238798, 958.5425022385789, -6135.861789488847, -5804.314165148314, 6292.803139066604, -1617.1378871814904, -3397.3966789365986, 24647.8159914527, -6167.154009234695, 58679.70475919803, 74413.26243388522, 219258.10033465273, -2641.437788362933, -4004.5804328779823, -7826.57386618706, 9369.848543731678, 12528.782009177114, -8100.890080162082, -7018.506981912722, -1962.76025030222, 52401.10279259235, -6032.885423892397, 3684.7147944467633, 8274.805129616223, -6418.404438542264, -8146.260590804379, 81654.36279101647, -7672.066794858796, 46706.14795887149, 7243.371190586353, 242118.50155989375, -5221.714024641414, -8161.497225294338, 46469.193133943096, -8198.761861497902, 52741.66970442339, 513980.7520297056, -7762.907381387673, -680.7760508479369, 218497.76567365057, -4663.3336421172635, 171545.76621267849, -6956.127469553536, 3989.8161178662212, 11157.430222913648, -8270.550727094374, 3695.142999111684, 11695.5034650048, -4462.151167501532, 12528.782009177114, -8264.024358564371, -7448.104689098179, -7411.507835729163, -6965.706747777722, 128942.8369178382, 1382917.1839536433, -8255.978544437467, -8204.244189013729, -8089.787340078738, 142285.84073464913, 4138.865387588048, -2503.2643193738986, 3684.7147944467633, -8226.601855321785, 24388.166139581812, 157149.0410853372, 11266.526866696924, -4587.647123544795, -8150.100705546805, 5418.107328491358, 7243.371190586353, -7486.497544207896, 958.5425022385789, 52741.66970442339, -7065.3647711419235, -7219.434112527602, 21394.941843171735, -2641.437788362933, -3091.3321207241215, 412905.34798139386, -8086.728637937482, 60933.93307540657, 26411.765968512693, -7771.0444806396945, -8004.840015659554, -8154.175903973308, -1318.8589869206098, -4703.447238546598, -7734.959756997512, 17212.35214794372, -2325.1688534629684, -3827.341951536102, -7172.346021300429, -7389.7248730643605, 41715.37593786489, 145208.60636772602, 1035952.8874526067, -7879.028705778396, 69950.37650758322, 5267.175603281783, 835.9677685579318, -4095.8436784156347, 835.9677685579318, 5947.820340371309, 58518.68656512883, 201502.43702004626, -5946.492807585466, -7734.959756997512, -8153.79849358142, -4663.3336421172635, 26901.182845603173, -7917.642014138, 21394.941843171735, 53604.94399138548, 26411.765968512693, -6347.362756767829, 143932.35205757958, 9742.275264511201, 11288.731948109267, -8098.486236649215, 16303.239812241627, -6860.1349324715975, -8230.877983379849, 4184.726811535733, 22517.895300202337, -7939.514940277198, 403968.5644477527, -5859.904408338109, 12602.36967354322, -7931.051021764925, 8115.46892355827, 52401.10279259235, 41173.44016608572, 90321.10073513561, 15079.125581633503, -6506.593936093383, -8230.877983379849, -7762.907381387673, -3574.325286116842, -8143.767133303304, -8206.66303523505, 219258.10033465273, -5047.510852864746, -297.1954330104345, -5212.183986701477, -6655.265637750146, -8118.096601527343, 40050.44821115535, -3990.0220446730336, 5640.459771884738, 19316.750475203764, -5083.406501137453, -8153.79849358142, 13205.562637728202, -5212.183986701477, 706.5301701240787, 12346.486683557505, -7619.51807939595], \"yaxis\": \"y\"}],\n",
              "                        {\"autosize\": false, \"height\": 500, \"legend\": {\"tracegroupgap\": 0}, \"margin\": {\"t\": 60}, \"template\": {\"data\": {\"bar\": [{\"error_x\": {\"color\": \"#2a3f5f\"}, \"error_y\": {\"color\": \"#2a3f5f\"}, \"marker\": {\"line\": {\"color\": \"#E5ECF6\", \"width\": 0.5}}, \"type\": \"bar\"}], \"barpolar\": [{\"marker\": {\"line\": {\"color\": \"#E5ECF6\", \"width\": 0.5}}, \"type\": \"barpolar\"}], \"carpet\": [{\"aaxis\": {\"endlinecolor\": \"#2a3f5f\", \"gridcolor\": \"white\", \"linecolor\": \"white\", \"minorgridcolor\": \"white\", \"startlinecolor\": \"#2a3f5f\"}, \"baxis\": {\"endlinecolor\": \"#2a3f5f\", \"gridcolor\": \"white\", \"linecolor\": \"white\", \"minorgridcolor\": \"white\", \"startlinecolor\": \"#2a3f5f\"}, \"type\": \"carpet\"}], \"choropleth\": [{\"colorbar\": {\"outlinewidth\": 0, \"ticks\": \"\"}, \"type\": \"choropleth\"}], \"contour\": [{\"colorbar\": {\"outlinewidth\": 0, \"ticks\": \"\"}, \"colorscale\": [[0.0, \"#0d0887\"], [0.1111111111111111, \"#46039f\"], [0.2222222222222222, \"#7201a8\"], [0.3333333333333333, \"#9c179e\"], [0.4444444444444444, \"#bd3786\"], [0.5555555555555556, \"#d8576b\"], [0.6666666666666666, \"#ed7953\"], [0.7777777777777778, \"#fb9f3a\"], [0.8888888888888888, \"#fdca26\"], [1.0, \"#f0f921\"]], \"type\": \"contour\"}], \"contourcarpet\": [{\"colorbar\": {\"outlinewidth\": 0, \"ticks\": \"\"}, \"type\": \"contourcarpet\"}], \"heatmap\": [{\"colorbar\": {\"outlinewidth\": 0, \"ticks\": \"\"}, \"colorscale\": [[0.0, \"#0d0887\"], [0.1111111111111111, \"#46039f\"], [0.2222222222222222, \"#7201a8\"], [0.3333333333333333, \"#9c179e\"], [0.4444444444444444, \"#bd3786\"], [0.5555555555555556, \"#d8576b\"], [0.6666666666666666, \"#ed7953\"], [0.7777777777777778, \"#fb9f3a\"], [0.8888888888888888, \"#fdca26\"], [1.0, \"#f0f921\"]], \"type\": \"heatmap\"}], \"heatmapgl\": [{\"colorbar\": {\"outlinewidth\": 0, \"ticks\": \"\"}, \"colorscale\": [[0.0, \"#0d0887\"], [0.1111111111111111, \"#46039f\"], [0.2222222222222222, \"#7201a8\"], [0.3333333333333333, \"#9c179e\"], [0.4444444444444444, \"#bd3786\"], [0.5555555555555556, \"#d8576b\"], [0.6666666666666666, \"#ed7953\"], [0.7777777777777778, \"#fb9f3a\"], [0.8888888888888888, \"#fdca26\"], [1.0, \"#f0f921\"]], \"type\": \"heatmapgl\"}], \"histogram\": [{\"marker\": {\"colorbar\": {\"outlinewidth\": 0, \"ticks\": \"\"}}, \"type\": \"histogram\"}], \"histogram2d\": [{\"colorbar\": {\"outlinewidth\": 0, \"ticks\": \"\"}, \"colorscale\": [[0.0, \"#0d0887\"], [0.1111111111111111, \"#46039f\"], [0.2222222222222222, \"#7201a8\"], [0.3333333333333333, \"#9c179e\"], [0.4444444444444444, \"#bd3786\"], [0.5555555555555556, \"#d8576b\"], [0.6666666666666666, \"#ed7953\"], [0.7777777777777778, \"#fb9f3a\"], [0.8888888888888888, \"#fdca26\"], [1.0, \"#f0f921\"]], \"type\": \"histogram2d\"}], \"histogram2dcontour\": [{\"colorbar\": {\"outlinewidth\": 0, \"ticks\": \"\"}, \"colorscale\": [[0.0, \"#0d0887\"], [0.1111111111111111, \"#46039f\"], [0.2222222222222222, \"#7201a8\"], [0.3333333333333333, \"#9c179e\"], [0.4444444444444444, \"#bd3786\"], [0.5555555555555556, \"#d8576b\"], [0.6666666666666666, \"#ed7953\"], [0.7777777777777778, \"#fb9f3a\"], [0.8888888888888888, \"#fdca26\"], [1.0, \"#f0f921\"]], \"type\": \"histogram2dcontour\"}], \"mesh3d\": [{\"colorbar\": {\"outlinewidth\": 0, \"ticks\": \"\"}, \"type\": \"mesh3d\"}], \"parcoords\": [{\"line\": {\"colorbar\": {\"outlinewidth\": 0, \"ticks\": \"\"}}, \"type\": \"parcoords\"}], \"pie\": [{\"automargin\": true, \"type\": \"pie\"}], \"scatter\": [{\"marker\": {\"colorbar\": {\"outlinewidth\": 0, \"ticks\": \"\"}}, \"type\": \"scatter\"}], \"scatter3d\": [{\"line\": {\"colorbar\": {\"outlinewidth\": 0, \"ticks\": \"\"}}, \"marker\": {\"colorbar\": {\"outlinewidth\": 0, \"ticks\": \"\"}}, \"type\": \"scatter3d\"}], \"scattercarpet\": [{\"marker\": {\"colorbar\": {\"outlinewidth\": 0, \"ticks\": \"\"}}, \"type\": \"scattercarpet\"}], \"scattergeo\": [{\"marker\": {\"colorbar\": {\"outlinewidth\": 0, \"ticks\": \"\"}}, \"type\": \"scattergeo\"}], \"scattergl\": [{\"marker\": {\"colorbar\": {\"outlinewidth\": 0, \"ticks\": \"\"}}, \"type\": \"scattergl\"}], \"scattermapbox\": [{\"marker\": {\"colorbar\": {\"outlinewidth\": 0, \"ticks\": \"\"}}, \"type\": \"scattermapbox\"}], \"scatterpolar\": [{\"marker\": {\"colorbar\": {\"outlinewidth\": 0, \"ticks\": \"\"}}, \"type\": \"scatterpolar\"}], \"scatterpolargl\": [{\"marker\": {\"colorbar\": {\"outlinewidth\": 0, \"ticks\": \"\"}}, \"type\": \"scatterpolargl\"}], \"scatterternary\": [{\"marker\": {\"colorbar\": {\"outlinewidth\": 0, \"ticks\": \"\"}}, \"type\": \"scatterternary\"}], \"surface\": [{\"colorbar\": {\"outlinewidth\": 0, \"ticks\": \"\"}, \"colorscale\": [[0.0, \"#0d0887\"], [0.1111111111111111, \"#46039f\"], [0.2222222222222222, \"#7201a8\"], [0.3333333333333333, \"#9c179e\"], [0.4444444444444444, \"#bd3786\"], [0.5555555555555556, \"#d8576b\"], [0.6666666666666666, \"#ed7953\"], [0.7777777777777778, \"#fb9f3a\"], [0.8888888888888888, \"#fdca26\"], [1.0, \"#f0f921\"]], \"type\": \"surface\"}], \"table\": [{\"cells\": {\"fill\": {\"color\": \"#EBF0F8\"}, \"line\": {\"color\": \"white\"}}, \"header\": {\"fill\": {\"color\": \"#C8D4E3\"}, \"line\": {\"color\": \"white\"}}, \"type\": \"table\"}]}, \"layout\": {\"annotationdefaults\": {\"arrowcolor\": \"#2a3f5f\", \"arrowhead\": 0, \"arrowwidth\": 1}, \"coloraxis\": {\"colorbar\": {\"outlinewidth\": 0, \"ticks\": \"\"}}, \"colorscale\": {\"diverging\": [[0, \"#8e0152\"], [0.1, \"#c51b7d\"], [0.2, \"#de77ae\"], [0.3, \"#f1b6da\"], [0.4, \"#fde0ef\"], [0.5, \"#f7f7f7\"], [0.6, \"#e6f5d0\"], [0.7, \"#b8e186\"], [0.8, \"#7fbc41\"], [0.9, \"#4d9221\"], [1, \"#276419\"]], \"sequential\": [[0.0, \"#0d0887\"], [0.1111111111111111, \"#46039f\"], [0.2222222222222222, \"#7201a8\"], [0.3333333333333333, \"#9c179e\"], [0.4444444444444444, \"#bd3786\"], [0.5555555555555556, \"#d8576b\"], [0.6666666666666666, \"#ed7953\"], [0.7777777777777778, \"#fb9f3a\"], [0.8888888888888888, \"#fdca26\"], [1.0, \"#f0f921\"]], \"sequentialminus\": [[0.0, \"#0d0887\"], [0.1111111111111111, \"#46039f\"], [0.2222222222222222, \"#7201a8\"], [0.3333333333333333, \"#9c179e\"], [0.4444444444444444, \"#bd3786\"], [0.5555555555555556, \"#d8576b\"], [0.6666666666666666, \"#ed7953\"], [0.7777777777777778, \"#fb9f3a\"], [0.8888888888888888, \"#fdca26\"], [1.0, \"#f0f921\"]]}, \"colorway\": [\"#636efa\", \"#EF553B\", \"#00cc96\", \"#ab63fa\", \"#FFA15A\", \"#19d3f3\", \"#FF6692\", \"#B6E880\", \"#FF97FF\", \"#FECB52\"], \"font\": {\"color\": \"#2a3f5f\"}, \"geo\": {\"bgcolor\": \"white\", \"lakecolor\": \"white\", \"landcolor\": \"#E5ECF6\", \"showlakes\": true, \"showland\": true, \"subunitcolor\": \"white\"}, \"hoverlabel\": {\"align\": \"left\"}, \"hovermode\": \"closest\", \"mapbox\": {\"style\": \"light\"}, \"paper_bgcolor\": \"white\", \"plot_bgcolor\": \"#E5ECF6\", \"polar\": {\"angularaxis\": {\"gridcolor\": \"white\", \"linecolor\": \"white\", \"ticks\": \"\"}, \"bgcolor\": \"#E5ECF6\", \"radialaxis\": {\"gridcolor\": \"white\", \"linecolor\": \"white\", \"ticks\": \"\"}}, \"scene\": {\"xaxis\": {\"backgroundcolor\": \"#E5ECF6\", \"gridcolor\": \"white\", \"gridwidth\": 2, \"linecolor\": \"white\", \"showbackground\": true, \"ticks\": \"\", \"zerolinecolor\": \"white\"}, \"yaxis\": {\"backgroundcolor\": \"#E5ECF6\", \"gridcolor\": \"white\", \"gridwidth\": 2, \"linecolor\": \"white\", \"showbackground\": true, \"ticks\": \"\", \"zerolinecolor\": \"white\"}, \"zaxis\": {\"backgroundcolor\": \"#E5ECF6\", \"gridcolor\": \"white\", \"gridwidth\": 2, \"linecolor\": \"white\", \"showbackground\": true, \"ticks\": \"\", \"zerolinecolor\": \"white\"}}, \"shapedefaults\": {\"line\": {\"color\": \"#2a3f5f\"}}, \"ternary\": {\"aaxis\": {\"gridcolor\": \"white\", \"linecolor\": \"white\", \"ticks\": \"\"}, \"baxis\": {\"gridcolor\": \"white\", \"linecolor\": \"white\", \"ticks\": \"\"}, \"bgcolor\": \"#E5ECF6\", \"caxis\": {\"gridcolor\": \"white\", \"linecolor\": \"white\", \"ticks\": \"\"}}, \"title\": {\"x\": 0.05}, \"xaxis\": {\"automargin\": true, \"gridcolor\": \"white\", \"linecolor\": \"white\", \"ticks\": \"\", \"title\": {\"standoff\": 15}, \"zerolinecolor\": \"white\", \"zerolinewidth\": 2}, \"yaxis\": {\"automargin\": true, \"gridcolor\": \"white\", \"linecolor\": \"white\", \"ticks\": \"\", \"title\": {\"standoff\": 15}, \"zerolinecolor\": \"white\", \"zerolinewidth\": 2}}}, \"title\": {\"text\": \"R2: 0.185\"}, \"width\": 800, \"xaxis\": {\"anchor\": \"y\", \"domain\": [0.0, 1.0], \"title\": {\"text\": \"Actual\"}}, \"yaxis\": {\"anchor\": \"x\", \"domain\": [0.0, 1.0], \"title\": {\"text\": \"Prediction\"}}},\n",
              "                        {\"responsive\": true}\n",
              "                    ).then(function(){\n",
              "                            \n",
              "var gd = document.getElementById('3bc91324-d1f8-4aa1-99c4-4dda189d6b44');\n",
              "var x = new MutationObserver(function (mutations, observer) {{\n",
              "        var display = window.getComputedStyle(gd).display;\n",
              "        if (!display || display === 'none') {{\n",
              "            console.log([gd, 'removed!']);\n",
              "            Plotly.purge(gd);\n",
              "            observer.disconnect();\n",
              "        }}\n",
              "}});\n",
              "\n",
              "// Listen for the removal of the full notebook cells\n",
              "var notebookContainer = gd.closest('#notebook-container');\n",
              "if (notebookContainer) {{\n",
              "    x.observe(notebookContainer, {childList: true});\n",
              "}}\n",
              "\n",
              "// Listen for the clearing of the current output cell\n",
              "var outputEl = gd.closest('.output');\n",
              "if (outputEl) {{\n",
              "    x.observe(outputEl, {childList: true});\n",
              "}}\n",
              "\n",
              "                        })\n",
              "                };\n",
              "                \n",
              "            </script>\n",
              "        </div>\n",
              "</body>\n",
              "</html>"
            ]
          },
          "metadata": {
            "tags": []
          }
        }
      ]
    },
    {
      "cell_type": "markdown",
      "metadata": {
        "id": "1Y-bhAb0rWpm"
      },
      "source": [
        "<a name='2.2.3'></a>\n",
        "\n",
        "### 2.2.3 Image Preprocessing\n",
        "\n",
        "[back to top](#top)\n",
        "\n",
        "Image preprocessing is beyond the scope of this session. We will cover this in C4. For now, know that there is a wealth of considerations for how to handle images, and they all fit within the realm of feature engineering."
      ]
    },
    {
      "cell_type": "markdown",
      "metadata": {
        "id": "ponptvjBsA-a"
      },
      "source": [
        "<a name='2.3'></a>\n",
        "\n",
        "## 2.3 Transformed Features\n",
        "\n",
        "[back to top](#top)\n",
        "\n",
        "*Transformed* features, are features that we would like to augment based on their relationship within their own distribution or to other (allegedly) independent data within our training set. e.g. we're not *deriving* new features based on some empirical knowledge of the data, rather we are changing them due to statistical properties that we can assess based on the data itself.\n"
      ]
    },
    {
      "cell_type": "markdown",
      "metadata": {
        "id": "w1bOUNYpsA3T"
      },
      "source": [
        "<a name='2.3.1'></a>\n",
        "\n",
        "### 2.3.1 Skewness\n",
        "\n",
        "[back to top](#top)\n",
        "\n",
        "<img src=\"https://i.pinimg.com/originals/d1/9f/7c/d19f7c7f5daaed737ab2516decea9874.png\" width=400px></img>\n",
        "\n",
        "Skewed data can lead to imbalances in our model prediction. Why? Skewed values in the distribution will bias the mean. When assigning weights to this input feature, therefore, the model will give preferential treatment to these values.\n",
        "\n",
        "To demonstrate, I'm going to use scipy to create some skewed data."
      ]
    },
    {
      "cell_type": "code",
      "metadata": {
        "id": "mAvWPPjkPrL2"
      },
      "source": [
        "from scipy.stats import skewnorm"
      ],
      "execution_count": null,
      "outputs": []
    },
    {
      "cell_type": "code",
      "metadata": {
        "colab": {
          "base_uri": "https://localhost:8080/",
          "height": 287
        },
        "id": "Hj9uoI0xRGoT",
        "outputId": "2d77584e-b561-4447-c3aa-faf7c1bb2b44"
      },
      "source": [
        "a = 10\n",
        "x = np.linspace(skewnorm.ppf(0.01, a),\n",
        "                skewnorm.ppf(0.99, a), 100)\n",
        "plt.plot(x, skewnorm.pdf(x, a),\n",
        "       'r-', lw=5, alpha=0.6, label='skewnorm pdf')"
      ],
      "execution_count": null,
      "outputs": [
        {
          "output_type": "execute_result",
          "data": {
            "text/plain": [
              "[<matplotlib.lines.Line2D at 0x7fb863afab90>]"
            ]
          },
          "metadata": {
            "tags": []
          },
          "execution_count": 86
        },
        {
          "output_type": "display_data",
          "data": {
            "image/png": "[encoded data removed]",
            "text/plain": [
              "<Figure size 432x288 with 1 Axes>"
            ]
          },
          "metadata": {
            "tags": [],
            "needs_background": "light"
          }
        }
      ]
    },
    {
      "cell_type": "markdown",
      "metadata": {
        "id": "ZWAGJWb1RzGM"
      },
      "source": [
        "We can now generate a random population based on this distribution"
      ]
    },
    {
      "cell_type": "code",
      "metadata": {
        "colab": {
          "base_uri": "https://localhost:8080/",
          "height": 356
        },
        "id": "ldh4rtoYRW3c",
        "outputId": "f492fece-8aae-4935-f947-5ef656619c06"
      },
      "source": [
        "r = skewnorm.rvs(a, size=1000)\n",
        "plt.hist(r)"
      ],
      "execution_count": null,
      "outputs": [
        {
          "output_type": "execute_result",
          "data": {
            "text/plain": [
              "(array([149., 255., 219., 165.,  94.,  57.,  37.,  17.,   5.,   2.]),\n",
              " array([-0.15769527,  0.18185284,  0.52140096,  0.86094907,  1.20049718,\n",
              "         1.5400453 ,  1.87959341,  2.21914152,  2.55868964,  2.89823775,\n",
              "         3.23778586]),\n",
              " <a list of 10 Patch objects>)"
            ]
          },
          "metadata": {
            "tags": []
          },
          "execution_count": 87
        },
        {
          "output_type": "display_data",
          "data": {
            "image/png": "[encoded data removed]",
            "text/plain": [
              "<Figure size 432x288 with 1 Axes>"
            ]
          },
          "metadata": {
            "tags": [],
            "needs_background": "light"
          }
        }
      ]
    },
    {
      "cell_type": "markdown",
      "metadata": {
        "id": "paQPypgw7Kpu"
      },
      "source": [
        "Unskewed data will return something close to 0 from calling `df.skew()`. When dealing with actual data, we can use `df.skew()` to determine whether we should transform our data. "
      ]
    },
    {
      "cell_type": "code",
      "metadata": {
        "colab": {
          "base_uri": "https://localhost:8080/"
        },
        "id": "_r-HqRRq6RqQ",
        "outputId": "c3ca6e09-7624-485e-ea46-7fa8c1d2abaa"
      },
      "source": [
        "x = pd.DataFrame(r, columns=['Skewed Data'])\n",
        "x['Skewed Data'].skew()"
      ],
      "execution_count": null,
      "outputs": [
        {
          "output_type": "execute_result",
          "data": {
            "text/plain": [
              "0.9387132625415131"
            ]
          },
          "metadata": {
            "tags": []
          },
          "execution_count": 88
        }
      ]
    },
    {
      "cell_type": "markdown",
      "metadata": {
        "id": "cLMUBjwL74GK"
      },
      "source": [
        "There are a handful of ways to deal with skewed data:\n",
        "\n",
        "* log transform\n",
        "* square root transform\n",
        "* Box-Cox transform\n",
        "\n",
        "Let's try the first two"
      ]
    },
    {
      "cell_type": "code",
      "metadata": {
        "colab": {
          "base_uri": "https://localhost:8080/",
          "height": 787
        },
        "id": "sU6GTbKQ-ogY",
        "outputId": "69213103-c6f5-4b3e-b580-413232233b5a"
      },
      "source": [
        "print('square root transformed skew: {:.4f}'.format(np.sqrt(x['Skewed Data']).skew()))\n",
        "print('log transformed skew: {:.4f}'.format(np.log(x['Skewed Data']).skew()))\n",
        "fig, ax = plt.subplots(1, 1, figsize=(10,10))\n",
        "ax.hist(x['Skewed Data'], alpha=0.5, label='original: {:.2f}'.\n",
        "        format((x['Skewed Data']).skew()))\n",
        "ax.hist(np.sqrt(x['Skewed Data']), alpha=0.5, label='sqrt: {:.2f}'.\n",
        "        format(np.sqrt(x['Skewed Data']).skew()))\n",
        "ax.hist(np.log(x['Skewed Data']), alpha=0.5, label='log: {:.2f}'.\n",
        "        format(np.log(x['Skewed Data']).skew()))\n",
        "ax.legend()"
      ],
      "execution_count": null,
      "outputs": [
        {
          "output_type": "stream",
          "text": [
            "square root transformed skew: 0.0958\n",
            "log transformed skew: -1.6498\n"
          ],
          "name": "stdout"
        },
        {
          "output_type": "stream",
          "text": [
            "/usr/local/lib/python3.7/dist-packages/pandas/core/series.py:726: RuntimeWarning:\n",
            "\n",
            "invalid value encountered in sqrt\n",
            "\n",
            "/usr/local/lib/python3.7/dist-packages/pandas/core/series.py:726: RuntimeWarning:\n",
            "\n",
            "invalid value encountered in log\n",
            "\n"
          ],
          "name": "stderr"
        },
        {
          "output_type": "execute_result",
          "data": {
            "text/plain": [
              "<matplotlib.legend.Legend at 0x7fb863a862d0>"
            ]
          },
          "metadata": {
            "tags": []
          },
          "execution_count": 89
        },
        {
          "output_type": "display_data",
          "data": {
            "image/png": "[encoded data removed]",
            "text/plain": [
              "<Figure size 720x720 with 1 Axes>"
            ]
          },
          "metadata": {
            "tags": [],
            "needs_background": "light"
          }
        }
      ]
    },
    {
      "cell_type": "markdown",
      "metadata": {
        "id": "j6AwwU64Brtr"
      },
      "source": [
        "We see we didn't get much traction with the log transform, and the log transform will not be able to handle 0 values, and so we will sometimes have to code exceptions for those. \n",
        "\n",
        "Box Cox is often a good route to go, but it has the added restriction that the data has to all be above 0.\n",
        "\n",
        "Let's create a new distribution with this added restriction"
      ]
    },
    {
      "cell_type": "code",
      "metadata": {
        "colab": {
          "base_uri": "https://localhost:8080/",
          "height": 356
        },
        "id": "6MffXzaTCXaK",
        "outputId": "e7d3b816-d876-4a01-ba2d-495b3a24b648"
      },
      "source": [
        "a = 6\n",
        "r = skewnorm.rvs(a, size=1000)\n",
        "r = [i for i in r if i > 0]\n",
        "plt.hist(r)"
      ],
      "execution_count": null,
      "outputs": [
        {
          "output_type": "execute_result",
          "data": {
            "text/plain": [
              "(array([222., 247., 174., 138.,  72.,  59.,  22.,  13.,   5.,   2.]),\n",
              " array([1.82568037e-04, 3.32373795e-01, 6.64565022e-01, 9.96756249e-01,\n",
              "        1.32894748e+00, 1.66113870e+00, 1.99332993e+00, 2.32552116e+00,\n",
              "        2.65771238e+00, 2.98990361e+00, 3.32209484e+00]),\n",
              " <a list of 10 Patch objects>)"
            ]
          },
          "metadata": {
            "tags": []
          },
          "execution_count": 90
        },
        {
          "output_type": "display_data",
          "data": {
            "image/png": "[encoded data removed]",
            "text/plain": [
              "<Figure size 432x288 with 1 Axes>"
            ]
          },
          "metadata": {
            "tags": [],
            "needs_background": "light"
          }
        }
      ]
    },
    {
      "cell_type": "code",
      "metadata": {
        "colab": {
          "base_uri": "https://localhost:8080/",
          "height": 611
        },
        "id": "leY0gci_8s7c",
        "outputId": "c1f21706-6287-4784-a430-369b68e5b09f"
      },
      "source": [
        "from scipy import stats\n",
        "\n",
        "x = pd.DataFrame(r, columns=['Skewed Data'])\n",
        "fig, ax = plt.subplots(1, 1, figsize=(10,10))\n",
        "ax.hist(x['Skewed Data'], alpha=0.5, label='original: {:.2f}'.\n",
        "        format((x['Skewed Data']).skew()))\n",
        "ax.hist(np.sqrt(x['Skewed Data']), alpha=0.5, label='sqrt: {:.2f}'.\n",
        "        format(np.sqrt(x['Skewed Data']).skew()))\n",
        "ax.hist(np.log(x['Skewed Data']), alpha=0.5, label='log: {:.2f}'.\n",
        "        format(np.log(x['Skewed Data']).skew()))\n",
        "ax.hist(stats.boxcox(x['Skewed Data'])[0], alpha=0.5, label='box-cox: {:.2f}'.\n",
        "        format(pd.DataFrame(stats.boxcox(x['Skewed Data'])[0])[0].skew()))\n",
        "ax.legend()\n"
      ],
      "execution_count": null,
      "outputs": [
        {
          "output_type": "execute_result",
          "data": {
            "text/plain": [
              "<matplotlib.legend.Legend at 0x7fb8638f3d90>"
            ]
          },
          "metadata": {
            "tags": []
          },
          "execution_count": 91
        },
        {
          "output_type": "display_data",
          "data": {
            "image/png": "[encoded data removed]",
            "text/plain": [
              "<Figure size 720x720 with 1 Axes>"
            ]
          },
          "metadata": {
            "tags": [],
            "needs_background": "light"
          }
        }
      ]
    },
    {
      "cell_type": "code",
      "metadata": {
        "colab": {
          "base_uri": "https://localhost:8080/"
        },
        "id": "1i52eZP1g7gh",
        "outputId": "6dfaefeb-dc6d-46a3-f310-9a48d1c3303a"
      },
      "source": [
        "np.sqrt([-1,-1])"
      ],
      "execution_count": null,
      "outputs": [
        {
          "output_type": "stream",
          "text": [
            "/usr/local/lib/python3.7/dist-packages/ipykernel_launcher.py:1: RuntimeWarning:\n",
            "\n",
            "invalid value encountered in sqrt\n",
            "\n"
          ],
          "name": "stderr"
        },
        {
          "output_type": "execute_result",
          "data": {
            "text/plain": [
              "array([nan, nan])"
            ]
          },
          "metadata": {
            "tags": []
          },
          "execution_count": 94
        }
      ]
    },
    {
      "cell_type": "markdown",
      "metadata": {
        "id": "vUFr0tr_U9SY"
      },
      "source": [
        "#### 2.3.1.1 Exercise: Transform data from a gamma distribution\n",
        "\n",
        "Repeat section 2.3.1, this time synthesizing a gamma distribution and transforming it. Which transformation best reduces the skew? Do this for a dataset that does not contain values at or below 0."
      ]
    },
    {
      "cell_type": "code",
      "metadata": {
        "id": "2Az_hrHAbgO3",
        "colab": {
          "base_uri": "https://localhost:8080/",
          "height": 611
        },
        "outputId": "bf872048-2c09-4ffe-c97e-beceae63572c"
      },
      "source": [
        "# code cell for exercise 2.3.1.1\n",
        "from scipy.stats import gamma\n",
        "\n",
        "a = 6\n",
        "r = gamma.rvs(a, size=1000)\n",
        "r = [i for i in r if i > 0]\n",
        "\n",
        "x = pd.DataFrame(r, columns=['Skewed Data'])\n",
        "fig, ax = plt.subplots(1, 1, figsize=(10,10))\n",
        "ax.hist(x['Skewed Data'], alpha=0.5, label='original: {:.2f}'.\n",
        "        format((x['Skewed Data']).skew()))\n",
        "ax.hist(np.sqrt(x['Skewed Data']), alpha=0.5, label='sqrt: {:.2f}'.\n",
        "        format(np.sqrt(x['Skewed Data']).skew()))\n",
        "ax.hist(np.log(x['Skewed Data']), alpha=0.5, label='log: {:.2f}'.\n",
        "        format(np.log(x['Skewed Data']).skew()))\n",
        "ax.hist(stats.boxcox(x['Skewed Data'])[0], alpha=0.5, label='box-cox: {:.2f}'.\n",
        "        format(pd.DataFrame(stats.boxcox(x['Skewed Data'])[0])[0].skew()))\n",
        "ax.legend()"
      ],
      "execution_count": null,
      "outputs": [
        {
          "output_type": "execute_result",
          "data": {
            "text/plain": [
              "<matplotlib.legend.Legend at 0x7fb863679a90>"
            ]
          },
          "metadata": {
            "tags": []
          },
          "execution_count": 96
        },
        {
          "output_type": "display_data",
          "data": {
            "image/png": "[encoded data removed]",
            "text/plain": [
              "<Figure size 720x720 with 1 Axes>"
            ]
          },
          "metadata": {
            "tags": [],
            "needs_background": "light"
          }
        }
      ]
    },
    {
      "cell_type": "markdown",
      "metadata": {
        "id": "5S3aYNyju2MY"
      },
      "source": [
        "<a name='2.3.2'></a>\n",
        "\n",
        "### 2.3.2 Colinearity\n",
        "\n",
        "[back to top](#top)\n",
        "\n",
        "Colinearity can also affect the performance of your machine learning model. In particular, if features are colinear, it can be easy for your model to overfit to your training dataset. This is often mitigated by regularization. If you're curious you can read more about it on [this discussion from StackExchange](https://stats.stackexchange.com/questions/168622/why-is-multicollinearity-not-checked-in-modern-statistics-machine-learning). We will still explore it explicitly here by calculating the [Variance Inflation Factor](https://www.statsmodels.org/stable/_modules/statsmodels/stats/outliers_influence.html#variance_inflation_factor) (VIF) on some hypothetical data.\n",
        "\n",
        "$$ VIF = \\frac{1}{1-R^2}$$\n",
        "\n",
        "\n",
        "\n"
      ]
    },
    {
      "cell_type": "markdown",
      "metadata": {
        "id": "Oq2oyBlgowLs"
      },
      "source": [
        "<a name='x.3.2.1'></a>\n",
        "\n",
        "#### 2.3.2.1 Detecting Colinearity\n",
        "\n",
        "[back to top](#top)"
      ]
    },
    {
      "cell_type": "code",
      "metadata": {
        "id": "b7munbkOX-li"
      },
      "source": [
        "from statsmodels.stats.outliers_influence import variance_inflation_factor"
      ],
      "execution_count": null,
      "outputs": []
    },
    {
      "cell_type": "markdown",
      "metadata": {
        "id": "qOm6kYmkZ6Kn"
      },
      "source": [
        "**Step 1: Make some data**"
      ]
    },
    {
      "cell_type": "code",
      "metadata": {
        "colab": {
          "base_uri": "https://localhost:8080/",
          "height": 339
        },
        "id": "ynih-ZQ8YiWn",
        "outputId": "e626df94-c7ca-4467-fd3f-68b5b606eeae"
      },
      "source": [
        "# we can throttle the error rate\n",
        "random.seed(42)\n",
        "\n",
        "# x2 will be sqrt of x1 plus some error\n",
        "def func(x, err):\n",
        "  return x**.5 + (err * random.randint(-1,1) * random.random() * x)\n",
        "  \n",
        "x0 = range(100)\n",
        "x1 = [func(i, .05) for i in x0]\n",
        "x2 = [func(i, 1) for i in x0]\n",
        "x3 = [random.randint(0,100) for i in x0]\n",
        "\n",
        "# take a look\n",
        "fig, ax = plt.subplots(1,1, figsize=(5,5))\n",
        "ax.plot(x0, x1, label='x1')\n",
        "ax.plot(x0, x2, label='x2')\n",
        "ax.plot(x0, x3, label='x3')\n",
        "ax.legend()"
      ],
      "execution_count": null,
      "outputs": [
        {
          "output_type": "execute_result",
          "data": {
            "text/plain": [
              "<matplotlib.legend.Legend at 0x7fb863502150>"
            ]
          },
          "metadata": {
            "tags": []
          },
          "execution_count": 98
        },
        {
          "output_type": "display_data",
          "data": {
            "image/png": "[encoded data removed]",
            "text/plain": [
              "<Figure size 360x360 with 1 Axes>"
            ]
          },
          "metadata": {
            "tags": [],
            "needs_background": "light"
          }
        }
      ]
    },
    {
      "cell_type": "markdown",
      "metadata": {
        "id": "sstUK2Slh7K3"
      },
      "source": [
        "To calculate the colinearities I'm going to aggregate these x's into a dataframe:"
      ]
    },
    {
      "cell_type": "code",
      "metadata": {
        "id": "E3vgJN_lc1M9",
        "colab": {
          "base_uri": "https://localhost:8080/",
          "height": 205
        },
        "outputId": "44114164-7973-48ed-cc8d-d425d4076ae5"
      },
      "source": [
        "colin = pd.DataFrame([x0,x1,x2,x3]).T\n",
        "colin.columns = ['x0','x1','x2','x3']\n",
        "colin.head()"
      ],
      "execution_count": null,
      "outputs": [
        {
          "output_type": "execute_result",
          "data": {
            "text/html": [
              "<div>\n",
              "<style scoped>\n",
              "    .dataframe tbody tr th:only-of-type {\n",
              "        vertical-align: middle;\n",
              "    }\n",
              "\n",
              "    .dataframe tbody tr th {\n",
              "        vertical-align: top;\n",
              "    }\n",
              "\n",
              "    .dataframe thead th {\n",
              "        text-align: right;\n",
              "    }\n",
              "</style>\n",
              "<table border=\"1\" class=\"dataframe\">\n",
              "  <thead>\n",
              "    <tr style=\"text-align: right;\">\n",
              "      <th></th>\n",
              "      <th>x0</th>\n",
              "      <th>x1</th>\n",
              "      <th>x2</th>\n",
              "      <th>x3</th>\n",
              "    </tr>\n",
              "  </thead>\n",
              "  <tbody>\n",
              "    <tr>\n",
              "      <th>0</th>\n",
              "      <td>0.0</td>\n",
              "      <td>0.000000</td>\n",
              "      <td>0.000000</td>\n",
              "      <td>29.0</td>\n",
              "    </tr>\n",
              "    <tr>\n",
              "      <th>1</th>\n",
              "      <td>1.0</td>\n",
              "      <td>1.013751</td>\n",
              "      <td>0.721523</td>\n",
              "      <td>28.0</td>\n",
              "    </tr>\n",
              "    <tr>\n",
              "      <th>2</th>\n",
              "      <td>2.0</td>\n",
              "      <td>1.400260</td>\n",
              "      <td>1.414214</td>\n",
              "      <td>3.0</td>\n",
              "    </tr>\n",
              "    <tr>\n",
              "      <th>3</th>\n",
              "      <td>3.0</td>\n",
              "      <td>1.630546</td>\n",
              "      <td>-0.438007</td>\n",
              "      <td>84.0</td>\n",
              "    </tr>\n",
              "    <tr>\n",
              "      <th>4</th>\n",
              "      <td>4.0</td>\n",
              "      <td>2.017388</td>\n",
              "      <td>4.304847</td>\n",
              "      <td>24.0</td>\n",
              "    </tr>\n",
              "  </tbody>\n",
              "</table>\n",
              "</div>"
            ],
            "text/plain": [
              "    x0        x1        x2    x3\n",
              "0  0.0  0.000000  0.000000  29.0\n",
              "1  1.0  1.013751  0.721523  28.0\n",
              "2  2.0  1.400260  1.414214   3.0\n",
              "3  3.0  1.630546 -0.438007  84.0\n",
              "4  4.0  2.017388  4.304847  24.0"
            ]
          },
          "metadata": {
            "tags": []
          },
          "execution_count": 100
        }
      ]
    },
    {
      "cell_type": "markdown",
      "metadata": {
        "id": "3kZinqnqasPL"
      },
      "source": [
        "**Step 2: Calculate VIF factors**"
      ]
    },
    {
      "cell_type": "code",
      "metadata": {
        "id": "PCQLZjJXbYo1"
      },
      "source": [
        "# calculate VIF factors\n",
        "vif = pd.DataFrame()\n",
        "vif[\"VIF Factor\"] = [variance_inflation_factor(colin.values, i) for i in \n",
        "                     range(colin.shape[1])]\n",
        "vif[\"features\"] = colin.columns"
      ],
      "execution_count": null,
      "outputs": []
    },
    {
      "cell_type": "markdown",
      "metadata": {
        "id": "zRuKUCREauxw"
      },
      "source": [
        "**Step 3: Inspect VIF factors**"
      ]
    },
    {
      "cell_type": "code",
      "metadata": {
        "id": "OwFcW3kObaiT",
        "colab": {
          "base_uri": "https://localhost:8080/",
          "height": 174
        },
        "outputId": "64d26111-dbdf-41bb-f3f1-66f267d55b38"
      },
      "source": [
        "# inspect VIF factors\n",
        "display(vif)"
      ],
      "execution_count": null,
      "outputs": [
        {
          "output_type": "display_data",
          "data": {
            "text/html": [
              "<div>\n",
              "<style scoped>\n",
              "    .dataframe tbody tr th:only-of-type {\n",
              "        vertical-align: middle;\n",
              "    }\n",
              "\n",
              "    .dataframe tbody tr th {\n",
              "        vertical-align: top;\n",
              "    }\n",
              "\n",
              "    .dataframe thead th {\n",
              "        text-align: right;\n",
              "    }\n",
              "</style>\n",
              "<table border=\"1\" class=\"dataframe\">\n",
              "  <thead>\n",
              "    <tr style=\"text-align: right;\">\n",
              "      <th></th>\n",
              "      <th>VIF Factor</th>\n",
              "      <th>features</th>\n",
              "    </tr>\n",
              "  </thead>\n",
              "  <tbody>\n",
              "    <tr>\n",
              "      <th>0</th>\n",
              "      <td>12.555415</td>\n",
              "      <td>x0</td>\n",
              "    </tr>\n",
              "    <tr>\n",
              "      <th>1</th>\n",
              "      <td>15.823872</td>\n",
              "      <td>x1</td>\n",
              "    </tr>\n",
              "    <tr>\n",
              "      <th>2</th>\n",
              "      <td>1.030609</td>\n",
              "      <td>x2</td>\n",
              "    </tr>\n",
              "    <tr>\n",
              "      <th>3</th>\n",
              "      <td>3.559468</td>\n",
              "      <td>x3</td>\n",
              "    </tr>\n",
              "  </tbody>\n",
              "</table>\n",
              "</div>"
            ],
            "text/plain": [
              "   VIF Factor features\n",
              "0   12.555415       x0\n",
              "1   15.823872       x1\n",
              "2    1.030609       x2\n",
              "3    3.559468       x3"
            ]
          },
          "metadata": {
            "tags": []
          }
        }
      ]
    },
    {
      "cell_type": "markdown",
      "metadata": {
        "id": "TPG1jrMtpDwB"
      },
      "source": [
        "<a name='x.3.2.2'></a>\n",
        "\n",
        "#### 2.3.2.2 Fixing Colinearity\n",
        "\n",
        "[back to top](#top)\n",
        "\n",
        "It is good to aknowledge where colinearity exists as this will influence the interpretability of your model. In most cases, however, it won't have a heavy influence on the performance of your model. \n",
        "\n",
        "A simple method of dealing with colinearity, is to remove the highest VIF features from your model, iteratively, assessing the performance and determining whether to keep the variable or not. \n",
        "\n",
        "Another method is to create some linear combination of the correlated variables. This is encapsulated in the section on dimensionality reduction."
      ]
    },
    {
      "cell_type": "markdown",
      "metadata": {
        "id": "Yz9Ul3tVu7UM"
      },
      "source": [
        "<a name='2.3.3'></a>\n",
        "\n",
        "### 2.3.3 Normalization\n",
        "\n",
        "[back to top](#top)\n",
        "\n",
        "Many learning algorithms require zero mean and unit variance to behave optimally. Sklearn preprocessing library contains a very usefull class, `StandardScaler` for handling this automatically for us.\n"
      ]
    },
    {
      "cell_type": "code",
      "metadata": {
        "id": "WZthqLDcsNMb"
      },
      "source": [
        "from sklearn.preprocessing import StandardScaler"
      ],
      "execution_count": null,
      "outputs": []
    },
    {
      "cell_type": "code",
      "metadata": {
        "id": "EFYYOqi7sYJu"
      },
      "source": [
        "scaler = StandardScaler()\n",
        "normed = scaler.fit_transform(colin)"
      ],
      "execution_count": null,
      "outputs": []
    },
    {
      "cell_type": "code",
      "metadata": {
        "colab": {
          "base_uri": "https://localhost:8080/",
          "height": 285
        },
        "id": "hIYYWdbje9ui",
        "outputId": "2814bd63-4bc0-4e8a-b75d-b56f718f6673"
      },
      "source": [
        "colin[['x0','x1','x2','x3']].plot(kind='kde')"
      ],
      "execution_count": null,
      "outputs": [
        {
          "output_type": "execute_result",
          "data": {
            "text/plain": [
              "<matplotlib.axes._subplots.AxesSubplot at 0x7fb863447250>"
            ]
          },
          "metadata": {
            "tags": []
          },
          "execution_count": 105
        },
        {
          "output_type": "display_data",
          "data": {
            "image/png": "[encoded data removed]",
            "text/plain": [
              "<Figure size 432x288 with 1 Axes>"
            ]
          },
          "metadata": {
            "tags": [],
            "needs_background": "light"
          }
        }
      ]
    },
    {
      "cell_type": "code",
      "metadata": {
        "colab": {
          "base_uri": "https://localhost:8080/",
          "height": 285
        },
        "id": "O1oxekJafMjT",
        "outputId": "a5d490ab-ee40-4c4d-8a5e-6e9e7c9a5f0e"
      },
      "source": [
        "pd.DataFrame(normed, columns = [['x0','x1','x2','x3']]).plot(kind='kde')"
      ],
      "execution_count": null,
      "outputs": [
        {
          "output_type": "execute_result",
          "data": {
            "text/plain": [
              "<matplotlib.axes._subplots.AxesSubplot at 0x7fb86335f890>"
            ]
          },
          "metadata": {
            "tags": []
          },
          "execution_count": 106
        },
        {
          "output_type": "display_data",
          "data": {
            "image/png": "[encoded data removed]",
            "text/plain": [
              "<Figure size 432x288 with 1 Axes>"
            ]
          },
          "metadata": {
            "tags": [],
            "needs_background": "light"
          }
        }
      ]
    },
    {
      "cell_type": "markdown",
      "metadata": {
        "id": "3BdtVZcPso6l"
      },
      "source": [
        "#### 2.3.3.1 Exercise: Normalization affect on VIF \n",
        "\n",
        "In the above, we saw how to scale and center variables. How does this affect VIF? \n",
        "\n",
        "* Calculate the VIF for the raw and scaled-centered data"
      ]
    },
    {
      "cell_type": "code",
      "metadata": {
        "id": "t5yApoA-sr66",
        "colab": {
          "base_uri": "https://localhost:8080/",
          "height": 174
        },
        "outputId": "f8f9b76f-ad92-49ec-bc9f-0e51cf5fa6fe"
      },
      "source": [
        "# Code Cell for Exercise 2.3.3.1"
      ],
      "execution_count": null,
      "outputs": [
        {
          "output_type": "display_data",
          "data": {
            "text/html": [
              "<div>\n",
              "<style scoped>\n",
              "    .dataframe tbody tr th:only-of-type {\n",
              "        vertical-align: middle;\n",
              "    }\n",
              "\n",
              "    .dataframe tbody tr th {\n",
              "        vertical-align: top;\n",
              "    }\n",
              "\n",
              "    .dataframe thead th {\n",
              "        text-align: right;\n",
              "    }\n",
              "</style>\n",
              "<table border=\"1\" class=\"dataframe\">\n",
              "  <thead>\n",
              "    <tr style=\"text-align: right;\">\n",
              "      <th></th>\n",
              "      <th>VIF Factor</th>\n",
              "      <th>features</th>\n",
              "    </tr>\n",
              "  </thead>\n",
              "  <tbody>\n",
              "    <tr>\n",
              "      <th>0</th>\n",
              "      <td>3.286048</td>\n",
              "      <td>x0</td>\n",
              "    </tr>\n",
              "    <tr>\n",
              "      <th>1</th>\n",
              "      <td>3.296881</td>\n",
              "      <td>x1</td>\n",
              "    </tr>\n",
              "    <tr>\n",
              "      <th>2</th>\n",
              "      <td>1.015805</td>\n",
              "      <td>x2</td>\n",
              "    </tr>\n",
              "    <tr>\n",
              "      <th>3</th>\n",
              "      <td>1.035537</td>\n",
              "      <td>x3</td>\n",
              "    </tr>\n",
              "  </tbody>\n",
              "</table>\n",
              "</div>"
            ],
            "text/plain": [
              "   VIF Factor features\n",
              "0    3.286048       x0\n",
              "1    3.296881       x1\n",
              "2    1.015805       x2\n",
              "3    1.035537       x3"
            ]
          },
          "metadata": {
            "tags": []
          }
        }
      ]
    },
    {
      "cell_type": "markdown",
      "metadata": {
        "id": "32ge2ha6u8BV"
      },
      "source": [
        "<a name='2.3.4'></a>\n",
        "\n",
        "### 2.3.4 Dimensionality Reduction\n",
        "\n",
        "[back to top](#top)\n",
        "\n",
        "Dimensionality reduction is an awesome way to do feature engineering. It is very commonly used. Because it is also an unsupervised machine learning technique, we will visit this topic in that section.\n",
        "\n",
        "\n"
      ]
    },
    {
      "cell_type": "markdown",
      "metadata": {
        "id": "7pded1fpvD6T"
      },
      "source": [
        "<a name='2.4'></a>\n",
        "\n",
        "## 2.4 Missing Data\n",
        "\n",
        "[back to top](#top)\n",
        "\n",
        "We will often have missing data in our datasets. How do we deal with this? Let's start by making some data with missing data. We'll use a numpy nan datatype to do this\n"
      ]
    },
    {
      "cell_type": "code",
      "metadata": {
        "id": "G0oxfcsUxCx6"
      },
      "source": [
        "from numpy import nan\n",
        "X = np.array([[ nan, 0,   3  ],\n",
        "              [ 3,   7,   9  ],\n",
        "              [ 3,   5,   2  ],\n",
        "              [ 4,   nan, 6  ],\n",
        "              [ 8,   8,   1  ]])\n",
        "y = np.array([14, 16, -1,  8, -5])"
      ],
      "execution_count": null,
      "outputs": []
    },
    {
      "cell_type": "markdown",
      "metadata": {
        "id": "SVmBlKduvEFv"
      },
      "source": [
        "<a name='2.4.1'></a>\n",
        "\n",
        "### 2.4.1 Imputation\n",
        "\n",
        "[back to top](#top)\n",
        "\n",
        "A very common strategy is to impute or fill in the missing data, based on basic statistical descriptions of the feature column (mode, mean, and median)\n",
        "\n"
      ]
    },
    {
      "cell_type": "code",
      "metadata": {
        "colab": {
          "base_uri": "https://localhost:8080/"
        },
        "id": "lNxoyEnvxMhY",
        "outputId": "2d3bfd65-fd7e-4c44-df53-952f53fe88a5"
      },
      "source": [
        "from sklearn.impute import SimpleImputer\n",
        "print(X)\n",
        "print()\n",
        "# strategy = 'mean' will replace nan's with mean value\n",
        "# of the column\n",
        "# others are median and most_frequent (mode)\n",
        "imp = SimpleImputer(strategy='median')\n",
        "X2 = imp.fit_transform(X)\n",
        "X2"
      ],
      "execution_count": null,
      "outputs": [
        {
          "output_type": "stream",
          "text": [
            "[[nan  0.  3.]\n",
            " [ 3.  7.  9.]\n",
            " [ 3.  5.  2.]\n",
            " [ 4. nan  6.]\n",
            " [ 8.  8.  1.]]\n",
            "\n"
          ],
          "name": "stdout"
        },
        {
          "output_type": "execute_result",
          "data": {
            "text/plain": [
              "array([[3.5, 0. , 3. ],\n",
              "       [3. , 7. , 9. ],\n",
              "       [3. , 5. , 2. ],\n",
              "       [4. , 6. , 6. ],\n",
              "       [8. , 8. , 1. ]])"
            ]
          },
          "metadata": {
            "tags": []
          },
          "execution_count": 113
        }
      ]
    },
    {
      "cell_type": "markdown",
      "metadata": {
        "id": "wN0a6CCrvOGI"
      },
      "source": [
        "<a name='2.4.2'></a>\n",
        "\n",
        "### 2.4.2 Other Strategies\n",
        "\n",
        "[back to top](#top)\n",
        "\n",
        "Depending on the severity of missing data, you will sometimes opt to remove the whole column, or perhaps apply some simple learning to fill in the missing data. This is a great [article](https://www.ncbi.nlm.nih.gov/pmc/articles/PMC3668100/) on more advanced strategies for handling missing data.\n",
        "\n"
      ]
    },
    {
      "cell_type": "markdown",
      "metadata": {
        "id": "Ou3llhzQ8-Tc"
      },
      "source": [
        "# References\n",
        "\n",
        "[back to top](#top)\n",
        "* [Box Cox](https://www.statisticshowto.com/box-cox-transformation/)\n",
        "* [Multicolinearity](https://www.analyticsvidhya.com/blog/2020/03/what-is-multicollinearity/)\n",
        "* [Missing Data](https://www.ncbi.nlm.nih.gov/pmc/articles/PMC3668100/)"
      ]
    }
  ]
}