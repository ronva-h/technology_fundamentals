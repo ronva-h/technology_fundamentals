{
  "nbformat": 4,
  "nbformat_minor": 0,
  "metadata": {
    "colab": {
      "name": "SOLUTION Tech Fun C1 L2 Practice with Flow Control.ipynb",
      "provenance": [],
      "collapsed_sections": [],
      "toc_visible": true,
      "authorship_tag": "ABX9TyNvywgDhABSWZZIlQKiK8Ig",
      "include_colab_link": true
    },
    "kernelspec": {
      "name": "python3",
      "display_name": "Python 3"
    },
    "language_info": {
      "name": "python"
    }
  },
  "cells": [
    {
      "cell_type": "markdown",
      "metadata": {
        "id": "view-in-github",
        "colab_type": "text"
      },
      "source": [
        "<a href=\"https://colab.research.google.com/github/wesleybeckner/technology_fundamentals/blob/main/C1%20Fundamentals/SOLUTIONS/SOLUTION_Tech_Fun_C1_L2_Practice_with_Flow_Control.ipynb\" target=\"_parent\"><img src=\"https://colab.research.google.com/assets/colab-badge.svg\" alt=\"Open In Colab\"/></a>"
      ]
    },
    {
      "cell_type": "markdown",
      "metadata": {
        "id": "3rZ3ZWSkhxyS"
      },
      "source": [
        "# Technology Fundamentals Course 1, Lab 2: Practice with Flow Control\n",
        "\n",
        "**Instructor**: Wesley Beckner\n",
        "\n",
        "**Contact**: wesleybeckner@gmail.com\n",
        "\n",
        "**Teaching Assitants** Varsha Bang, Harsha Vardhan\n",
        "\n",
        "**Contact** vbang@uw.edu, harshav@uw.edu\n",
        "\n",
        "<br>\n",
        "\n",
        "---\n",
        "\n",
        "<br>\n",
        "\n",
        "In this lab we will continue to practice flow control.\n",
        "\n",
        "<br>\n",
        "\n",
        "---\n",
        "\n",
        "\n"
      ]
    },
    {
      "cell_type": "markdown",
      "metadata": {
        "id": "e9MwkxIGlc0k"
      },
      "source": [
        "# L2 Q1: Print and For Loops\n",
        "\n",
        "Create a Pyramid Using for loops\n",
        "\n"
      ]
    },
    {
      "cell_type": "markdown",
      "metadata": {
        "id": "Qw7dGDLynBpZ"
      },
      "source": [
        "## Part A\n",
        "\n",
        "Example output:\n",
        "\n",
        "```\n",
        "* \n",
        "* * \n",
        "* * * \n",
        "* * * * \n",
        "* * * * * \n",
        "```\n",
        "\n"
      ]
    },
    {
      "cell_type": "code",
      "metadata": {
        "id": "Vb1NyIqZmqYg",
        "colab": {
          "base_uri": "https://localhost:8080/"
        },
        "outputId": "60b0ecf2-5c0e-449b-9160-900a5f5e331a"
      },
      "source": [
        "# Code Cell for L2 Q1 A\n",
        "for i in range(6):\n",
        "  print('* '*i)"
      ],
      "execution_count": 2,
      "outputs": [
        {
          "output_type": "stream",
          "text": [
            "\n",
            "* \n",
            "* * \n",
            "* * * \n",
            "* * * * \n",
            "* * * * * \n"
          ],
          "name": "stdout"
        }
      ]
    },
    {
      "cell_type": "markdown",
      "metadata": {
        "id": "1WZkXH9Om75g"
      },
      "source": [
        "## Part B\n",
        "\n",
        "Example output:\n",
        "\n",
        "```\n",
        "        * \n",
        "      * * \n",
        "    * * * \n",
        "  * * * * \n",
        "* * * * * \n",
        "```"
      ]
    },
    {
      "cell_type": "code",
      "metadata": {
        "id": "DNr1iPrJnGuf",
        "colab": {
          "base_uri": "https://localhost:8080/"
        },
        "outputId": "7b7d6595-1c85-4751-eaec-7cb5f9c8152b"
      },
      "source": [
        "# Code Cell for L2 Q1 B\n",
        "rows = 6\n",
        "for i in range(rows):\n",
        "  print('  '*(rows-i) + '* '*i)"
      ],
      "execution_count": 20,
      "outputs": [
        {
          "output_type": "stream",
          "text": [
            "            \n",
            "          * \n",
            "        * * \n",
            "      * * * \n",
            "    * * * * \n",
            "  * * * * * \n"
          ],
          "name": "stdout"
        }
      ]
    },
    {
      "cell_type": "markdown",
      "metadata": {
        "id": "MdYwm8EyncmA"
      },
      "source": [
        "## Part C\n",
        "\n",
        "Example output:\n",
        "\n",
        "```\n",
        "         * \n",
        "        * * \n",
        "       * * * \n",
        "      * * * * \n",
        "     * * * * * \n",
        "```"
      ]
    },
    {
      "cell_type": "code",
      "metadata": {
        "colab": {
          "base_uri": "https://localhost:8080/"
        },
        "id": "4Dz-euqNnfWA",
        "outputId": "22716ccc-682c-4ce7-8123-21baa37c15fc"
      },
      "source": [
        "# Code Cell for L2 Q1 C\n",
        "for i in range(6):\n",
        "  print(' '*(6-i) + '* '*i)"
      ],
      "execution_count": 8,
      "outputs": [
        {
          "output_type": "stream",
          "text": [
            "      \n",
            "     * \n",
            "    * * \n",
            "   * * * \n",
            "  * * * * \n",
            " * * * * * \n"
          ],
          "name": "stdout"
        }
      ]
    },
    {
      "cell_type": "code",
      "metadata": {
        "colab": {
          "base_uri": "https://localhost:8080/"
        },
        "id": "IMex6BfK11xv",
        "outputId": "69972acc-67a4-41cf-9519-5da3988a645d"
      },
      "source": [
        "# 0, 1, 1, 2 ....\n",
        "# last_fib_number + 2nd__to_last_fib_number = currrent_fib_number\n",
        "\n",
        "fib = []\n",
        "# I'm going to have to seed this.... because there's no \n",
        "# two last values in this list...\n",
        "\n",
        "# i'll solve that later.\n",
        "\n",
        "fib = [0, 1]\n",
        "# this should give me enough to algorithmically determine all the\n",
        "# next numbers\n",
        "\n",
        "# I need to access the last two values, sum them, then add it to the\n",
        "# end of the list.\n",
        "fib.append(fib[-1] + fib[-2])\n",
        "fib\n",
        "\n",
        "index = 10\n",
        "# the answer should be 34...\n",
        "\n",
        "# for thingy in some_iterable .. (range):\n",
        "#   append to list until I reach the end of my for loop\n",
        "\n",
        "# this will return the answer\n",
        "fib[-1]"
      ],
      "execution_count": 35,
      "outputs": [
        {
          "output_type": "execute_result",
          "data": {
            "text/plain": [
              "[0, 1, 1]"
            ]
          },
          "metadata": {
            "tags": []
          },
          "execution_count": 35
        }
      ]
    },
    {
      "cell_type": "markdown",
      "metadata": {
        "id": "Sp832EkKi67C"
      },
      "source": [
        "# L2 Q2: Conditionals and For Loops\n",
        "\n",
        "Complete the Fibonacci sequence up to the 10th place using any or all of the following:\n",
        "* `for` \n",
        "* `if` `elif` `else`\n",
        "* `append`\n",
        "* `range`\n",
        "\n",
        "The Fibonacci sequence with indices:\n",
        "\n",
        "1. 0\n",
        "2. 1\n",
        "3. 1\n",
        "4. 2\n",
        "5. 3\n",
        "6. 5\n",
        "7. 8\n",
        "8. etc..\n",
        "\n",
        "Example input:\n",
        "\n",
        "`index = 10`\n",
        "\n",
        "Example output:\n",
        "```\n",
        "Index: 10\n",
        "Value: 34\n",
        "```"
      ]
    },
    {
      "cell_type": "code",
      "metadata": {
        "id": "w-mykt4KhnA2",
        "colab": {
          "base_uri": "https://localhost:8080/"
        },
        "outputId": "bba702fa-584e-4c02-da01-9e95229c4e46"
      },
      "source": [
        "# Cell for L2 Q2\n",
        "index = 10\n",
        "fib = []\n",
        "for i in range(index):\n",
        "  if i <= 1:\n",
        "    fib.append(i)\n",
        "  else:\n",
        "    fib.append(fib[-1] + fib[-2])\n",
        "print(fib[-1])"
      ],
      "execution_count": 16,
      "outputs": [
        {
          "output_type": "stream",
          "text": [
            "34\n"
          ],
          "name": "stdout"
        }
      ]
    },
    {
      "cell_type": "markdown",
      "metadata": {
        "id": "l730VAfyQf6Q"
      },
      "source": [
        "# L2 Q3: Practice with Collections\n",
        "\n",
        "concatenate the following dictionaries to create a new one, if you need to refer to documentation for python dictionaries!\n",
        "\n",
        "Input:\n",
        "```\n",
        "dict1={1:10, 2:20}\n",
        "dict2={3:30, 4:40}\n",
        "dict3={5:50, 6:60}\n",
        "```\n",
        "\n",
        "Output:\n",
        "```\n",
        "new_dect={1:10, 2:20, 3:30, 4:40, 5:50, 6:60}\n",
        "```"
      ]
    },
    {
      "cell_type": "code",
      "metadata": {
        "id": "Yi9MqP81Qj7H",
        "colab": {
          "base_uri": "https://localhost:8080/"
        },
        "outputId": "79936cda-1905-4176-d5f9-ab341cb020af"
      },
      "source": [
        "# Cell for L2 Q3\n",
        "dict1={1:10, 2:20}\n",
        "dict2={3:30, 4:40}\n",
        "dict3={5:50, 6:60}\n",
        "\n",
        "new_dect = dict1\n",
        "new_dect.update(dict2)\n",
        "new_dect.update(dict3)\n",
        "new_dect"
      ],
      "execution_count": 23,
      "outputs": [
        {
          "output_type": "execute_result",
          "data": {
            "text/plain": [
              "{1: 10, 2: 20, 3: 30, 4: 40, 5: 50, 6: 60}"
            ]
          },
          "metadata": {
            "tags": []
          },
          "execution_count": 23
        }
      ]
    },
    {
      "cell_type": "markdown",
      "metadata": {
        "id": "XUx_cFT7vi1V"
      },
      "source": [
        "# L2 Q4 The FizzBuzz task\n",
        "\n",
        "Let's do this!  **FizzBuzz** is our first task for this session.  **FizzBuzz** is a common toy programming problem that is often used in software engineering job interviews.  Today, we are not after the _most compact_, _most clever_, or even the _most beautiful_ solution.  Your goal is to solve the problem using **_for_** and **_if_** as your primary tools.  You will likely also want to use the `%` operator.  Before we describe **FizzBuzz**, let's talk about the **moduluo** operation.\n",
        "\n",
        "If you recall from session 1, you may have experimented with the **_[modulus](https://en.wikipedia.org/wiki/Modulo_operation)_** or `%` operator.  When used between two **_integer_** values, it returns the integer remainder of division. Let's start with a simple example of `5` **modulo** `3`:\n",
        "\n",
        "```\n",
        "5 % 3\n",
        "```"
      ]
    },
    {
      "cell_type": "code",
      "metadata": {
        "colab": {
          "base_uri": "https://localhost:8080/"
        },
        "id": "W51-8ZhKvvOq",
        "outputId": "568606e7-9ea8-4fe3-d620-0bfabdb6f2bb"
      },
      "source": [
        "5 % 3"
      ],
      "execution_count": 24,
      "outputs": [
        {
          "output_type": "execute_result",
          "data": {
            "text/plain": [
              "2"
            ]
          },
          "metadata": {
            "tags": []
          },
          "execution_count": 24
        }
      ]
    },
    {
      "cell_type": "markdown",
      "metadata": {
        "id": "5urcL-cjvxTz"
      },
      "source": [
        "Let's do another example... What is the result of the following:\n",
        "\n",
        "```\n",
        "10 % 5\n",
        "```"
      ]
    },
    {
      "cell_type": "code",
      "metadata": {
        "colab": {
          "base_uri": "https://localhost:8080/"
        },
        "id": "2BqriezDvvej",
        "outputId": "01e9b0a7-d908-46be-895e-18b94dbb0e6e"
      },
      "source": [
        "10 % 5"
      ],
      "execution_count": 25,
      "outputs": [
        {
          "output_type": "execute_result",
          "data": {
            "text/plain": [
              "0"
            ]
          },
          "metadata": {
            "tags": []
          },
          "execution_count": 25
        }
      ]
    },
    {
      "cell_type": "markdown",
      "metadata": {
        "id": "3gdmF8_mv13v"
      },
      "source": [
        "Now, on to **FizzBuzz**.  No it isn't the high-test caffeine cola you might need right now.  Instead, it is a challenge to output certain text as the code iterates over elements in a list.  Here is the formal definition of the problem that we will use today.\n",
        "\n",
        "_\"Write a program that prints the numbers from 1 to 100. But for multiples of three print `Fizz` instead of the number and for the multiples of five print `Buzz`. For numbers which are multiples of both three and five print `FizzBuzz`.\"_\n",
        "\n",
        "To get started, you will need a `for` loop and it will probably use a `range` list.  Inside of the for loop, you will likely have at least two `if` statements that use the `%` operator followed by a `print`.\n"
      ]
    },
    {
      "cell_type": "code",
      "metadata": {
        "id": "IcJ3a6gBvy8z",
        "colab": {
          "base_uri": "https://localhost:8080/"
        },
        "outputId": "a9d81dc6-22e0-4636-d909-e442404821f2"
      },
      "source": [
        "# Cell for L2 Q4\n",
        "for i in range(1,101):\n",
        "  if (i % 3 == 0) and (i % 5 == 0):\n",
        "    print('FizzBuzz')\n",
        "  elif i % 3 == 0:\n",
        "    print('Fizz')\n",
        "  elif i % 5 == 0:\n",
        "    print('Buzz')\n",
        "  else:\n",
        "    print(i)"
      ],
      "execution_count": 26,
      "outputs": [
        {
          "output_type": "stream",
          "text": [
            "1\n",
            "2\n",
            "Fizz\n",
            "4\n",
            "Buzz\n",
            "Fizz\n",
            "7\n",
            "8\n",
            "Fizz\n",
            "Buzz\n",
            "11\n",
            "Fizz\n",
            "13\n",
            "14\n",
            "FizzBuzz\n",
            "16\n",
            "17\n",
            "Fizz\n",
            "19\n",
            "Buzz\n",
            "Fizz\n",
            "22\n",
            "23\n",
            "Fizz\n",
            "Buzz\n",
            "26\n",
            "Fizz\n",
            "28\n",
            "29\n",
            "FizzBuzz\n",
            "31\n",
            "32\n",
            "Fizz\n",
            "34\n",
            "Buzz\n",
            "Fizz\n",
            "37\n",
            "38\n",
            "Fizz\n",
            "Buzz\n",
            "41\n",
            "Fizz\n",
            "43\n",
            "44\n",
            "FizzBuzz\n",
            "46\n",
            "47\n",
            "Fizz\n",
            "49\n",
            "Buzz\n",
            "Fizz\n",
            "52\n",
            "53\n",
            "Fizz\n",
            "Buzz\n",
            "56\n",
            "Fizz\n",
            "58\n",
            "59\n",
            "FizzBuzz\n",
            "61\n",
            "62\n",
            "Fizz\n",
            "64\n",
            "Buzz\n",
            "Fizz\n",
            "67\n",
            "68\n",
            "Fizz\n",
            "Buzz\n",
            "71\n",
            "Fizz\n",
            "73\n",
            "74\n",
            "FizzBuzz\n",
            "76\n",
            "77\n",
            "Fizz\n",
            "79\n",
            "Buzz\n",
            "Fizz\n",
            "82\n",
            "83\n",
            "Fizz\n",
            "Buzz\n",
            "86\n",
            "Fizz\n",
            "88\n",
            "89\n",
            "FizzBuzz\n",
            "91\n",
            "92\n",
            "Fizz\n",
            "94\n",
            "Buzz\n",
            "Fizz\n",
            "97\n",
            "98\n",
            "Fizz\n",
            "Buzz\n"
          ],
          "name": "stdout"
        }
      ]
    },
    {
      "cell_type": "markdown",
      "metadata": {
        "id": "43sXOycTv7Ja"
      },
      "source": [
        "\n",
        "For advanced folks, a hint here is that you might be able to avoid some `if` statements by using the `end` parameter to the `print` function.  Notice how these two cell blocks output differently.\n",
        "\n",
        "```\n",
        "print(\"Fizz\")\n",
        "print(\"Buzz\")\n",
        "```\n",
        "\n",
        "In another cell:\n",
        "\n",
        "```\n",
        "print(\"Fizz\", end=\"\")\n",
        "print(\"Buzz\", end=\"\")\n",
        "print()\n",
        "```"
      ]
    }
  ]
}