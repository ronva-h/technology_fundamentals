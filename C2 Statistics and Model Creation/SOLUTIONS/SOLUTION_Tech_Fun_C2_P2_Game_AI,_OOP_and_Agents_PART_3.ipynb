{
  "nbformat": 4,
  "nbformat_minor": 0,
  "metadata": {
    "colab": {
      "name": "SOLUTION Tech Fun C2 P2 Game AI, OOP and Agents PART 3",
      "provenance": [],
      "collapsed_sections": [],
      "toc_visible": true,
      "include_colab_link": true
    },
    "kernelspec": {
      "display_name": "Python (tunnel)",
      "language": "python",
      "name": "python3"
    },
    "language_info": {
      "codemirror_mode": {
        "name": "ipython",
        "version": 3
      },
      "file_extension": ".py",
      "mimetype": "text/x-python",
      "name": "python",
      "nbconvert_exporter": "python",
      "pygments_lexer": "ipython3",
      "version": "3.7.7"
    }
  },
  "cells": [
    {
      "cell_type": "markdown",
      "metadata": {
        "id": "view-in-github",
        "colab_type": "text"
      },
      "source": [
        "<a href=\"https://colab.research.google.com/github/wesleybeckner/technology_fundamentals/blob/main/C2%20Statistics%20and%20Model%20Creation/SOLUTIONS/SOLUTION_Tech_Fun_C2_P2_Game_AI%2C_OOP_and_Agents_PART_3.ipynb\" target=\"_parent\"><img src=\"https://colab.research.google.com/assets/colab-badge.svg\" alt=\"Open In Colab\"/></a>"
      ]
    },
    {
      "cell_type": "markdown",
      "metadata": {
        "id": "vhe1yX4AMckE"
      },
      "source": [
        "# Technology Fundamentals Course 2, Project Part 2: Building Agents and Object Oriented Programming (Debugging)\n",
        "\n",
        "**Instructor**: Wesley Beckner\n",
        "\n",
        "**Contact**: wesleybeckner@gmail.com\n",
        "\n",
        "**Teaching Assitants**: Varsha Bang, Harsha Vardhan\n",
        "\n",
        "**Contact**: vbang@uw.edu, harshav@uw.edu\n",
        "\n",
        "<br>\n",
        "\n",
        "---\n",
        "\n",
        "<br>\n",
        "\n",
        "We're going to debug our tictactoe game.  \n",
        "\n",
        "<br>\n",
        "\n",
        "---"
      ]
    },
    {
      "cell_type": "markdown",
      "metadata": {
        "id": "mNtJitcRW51Y"
      },
      "source": [
        "<a name='x.0'></a>\n",
        "\n",
        "## 4.0 Preparing Environment and Importing Data\n",
        "\n",
        "[back to top](#top)"
      ]
    },
    {
      "cell_type": "markdown",
      "metadata": {
        "id": "chdcBoBL8SNm"
      },
      "source": [
        "<a name='x.0.1'></a>\n",
        "\n",
        "### 4.0.1 Import Packages\n",
        "\n",
        "[back to top](#top)"
      ]
    },
    {
      "cell_type": "code",
      "metadata": {
        "id": "eJ7-FDq3JhhI"
      },
      "source": [
        "import random\n",
        "import pandas as pd\n",
        "import numpy as np\n",
        "import matplotlib.pyplot as plt\n",
        "\n",
        "class TicTacToe:\n",
        "  # can preset winner and starting player\n",
        "  def __init__(self, winner='', start_player=''): \n",
        "    self.winner = winner\n",
        "    self.start_player = start_player\n",
        "    self.board = {1: ' ',\n",
        "         2: ' ',\n",
        "         3: ' ',\n",
        "         4: ' ',\n",
        "         5: ' ',\n",
        "         6: ' ',\n",
        "         7: ' ',\n",
        "         8: ' ',\n",
        "         9: ' ',}\n",
        "    self.win_patterns = [[1,2,3], [4,5,6], [7,8,9],\n",
        "                [1,4,7], [2,5,8], [3,6,9],\n",
        "                [1,5,9], [7,5,3]]\n",
        "         \n",
        "  # the other functions are now passed self\n",
        "  def visualize_board(self):\n",
        "    print(\n",
        "      \"|{}|{}|{}|\\n|{}|{}|{}|\\n|{}|{}|{}|\\n\".format(*self.board.values())\n",
        "      )\n",
        "\n",
        "  def check_winning(self):\n",
        "    for pattern in self.win_patterns:\n",
        "      values = [self.board[i] for i in pattern] \n",
        "      if values == ['X', 'X', 'X']:\n",
        "        self.winner = 'X' # we update the winner status\n",
        "        return \"'X' Won!\"\n",
        "      elif values == ['O', 'O', 'O']:\n",
        "        self.winner = 'O'\n",
        "        return \"'O' Won!\"\n",
        "    return ''\n",
        "\n",
        "  def check_stalemate(self):\n",
        "    if ' ' not in self.board.values():\n",
        "      self.winner = 'Stalemate'\n",
        "      return \"It's a stalemate!\"\n",
        "\n",
        "class GameEngine(TicTacToe):\n",
        "  def __init__(self, setup='auto'):\n",
        "    super().__init__()\n",
        "    self.setup = setup\n",
        "\n",
        "  def setup_game(self):\n",
        "\n",
        "    if self.setup == 'user':\n",
        "      players = int(input(\"How many Players? (type 0, 1, or 2)\"))\n",
        "      self.player_meta = {'first': {'label': 'X',\n",
        "                                    'type': 'ai'}, \n",
        "                    'second': {'label': 'O',\n",
        "                                    'type': 'human'}}\n",
        "      if players == 1:\n",
        "        first = input(\"who will go first? (X, (AI), or O (Player))\")\n",
        "        if first == 'O':\n",
        "          self.player_meta = {'second': {'label': 'X',\n",
        "                                    'type': 'ai'}, \n",
        "                        'first': {'label': 'O',\n",
        "                                    'type': 'human'}}\n",
        "\n",
        "      elif players == 0:\n",
        "        first = random.choice(['X', 'O'])\n",
        "        if first == 'O':\n",
        "          self.player_meta = {'second': {'label': 'X',\n",
        "                                    'type': 'ai'}, \n",
        "                        'first': {'label': 'O',\n",
        "                                    'type': 'ai'}}                                \n",
        "        else:\n",
        "          self.player_meta = {'first': {'label': 'X',\n",
        "                                    'type': 'ai'}, \n",
        "                        'second': {'label': 'O',\n",
        "                                    'type': 'ai'}}\n",
        "\n",
        "    elif self.setup == 'auto':\n",
        "      first = random.choice(['X', 'O'])\n",
        "      if first == 'O':\n",
        "        self.start_player = 'O'\n",
        "        self.player_meta = {'second': {'label': 'X',\n",
        "                                  'type': 'ai'}, \n",
        "                      'first': {'label': 'O',\n",
        "                                  'type': 'ai'}}                                \n",
        "      else:\n",
        "        self.start_player = 'X'\n",
        "        self.player_meta = {'first': {'label': 'X',\n",
        "                                  'type': 'ai'}, \n",
        "                      'second': {'label': 'O',\n",
        "                                  'type': 'ai'}}\n",
        "\n",
        "  def play_game(self):\n",
        "    while True:\n",
        "      for player in ['first', 'second']:  \n",
        "        self.visualize_board()\n",
        "        player_label = self.player_meta[player]['label']\n",
        "        player_type = self.player_meta[player]['type']\n",
        "\n",
        "        if player_type == 'human':\n",
        "          move = input(\"{}, what's your move?\".format(player_label))\n",
        "          # we're going to allow the user to quit the game from the input line\n",
        "          if move in ['q', 'quit']:\n",
        "            self.winner = 'F'\n",
        "            print('quiting the game')\n",
        "            break\n",
        "\n",
        "          move = int(move)\n",
        "          if self.board[move] != ' ':\n",
        "            while True:\n",
        "              move = input(\"{}, that position is already taken! \"\\\n",
        "                          \"What's your move?\".format(player))  \n",
        "              move = int(move)            \n",
        "              if self.board[move] != ' ':\n",
        "                continue\n",
        "              else:\n",
        "                break\n",
        "\n",
        "        else:\n",
        "          while True:\n",
        "            move = random.randint(1,9)\n",
        "            if self.board[move] != ' ':\n",
        "              continue\n",
        "              print('test')\n",
        "            else:\n",
        "              break\n",
        "\n",
        "        self.board[move] = player_label\n",
        "\n",
        "        # the winner varaible will now be check within the board object\n",
        "        self.check_winning()\n",
        "        self.check_stalemate()\n",
        "\n",
        "        if self.winner == '':\n",
        "          continue\n",
        "\n",
        "        elif self.winner == 'Stalemate':\n",
        "          print(self.check_stalemate())\n",
        "          self.visualize_board()\n",
        "          break\n",
        "\n",
        "        else:\n",
        "          print(self.check_winning())\n",
        "          self.visualize_board()\n",
        "          break\n",
        "      if self.winner != '':\n",
        "        return self"
      ],
      "execution_count": null,
      "outputs": []
    },
    {
      "cell_type": "markdown",
      "metadata": {
        "id": "R7vDY-8U8SWd"
      },
      "source": [
        "<a name='x.0.1'></a>\n",
        "\n",
        "### 4.0.2 Load Dataset\n",
        "\n",
        "[back to top](#top)"
      ]
    },
    {
      "cell_type": "markdown",
      "metadata": {
        "id": "h1YRk95hvZcH"
      },
      "source": [
        "## 4.1 It's a Bug!\n",
        "\n",
        "Your friend is developing this tictactoe game in python, and they notice something peculiar; the game engine doesn't correctly identify a winning move if it's the last game square to be played, rather, it counts it as a tie! Help your friend debug their code!"
      ]
    },
    {
      "cell_type": "markdown",
      "metadata": {
        "id": "5bdJg-2pssAn"
      },
      "source": [
        "### 4.1.1 Make the error repeatable"
      ]
    },
    {
      "cell_type": "code",
      "metadata": {
        "id": "7cu_oGLOBQTT",
        "colab": {
          "base_uri": "https://localhost:8080/"
        },
        "outputId": "0acac602-39d6-4bc4-fcc4-4dec7560167f"
      },
      "source": [
        "# use random.seed() here to make this operate in the same way everytime\n",
        "random.seed(12)\n",
        "game = GameEngine(setup='auto')\n",
        "game.setup_game()\n",
        "game.play_game()"
      ],
      "execution_count": null,
      "outputs": [
        {
          "output_type": "stream",
          "text": [
            "| | | |\n",
            "| | | |\n",
            "| | | |\n",
            "\n",
            "| | | |\n",
            "| |O| |\n",
            "| | | |\n",
            "\n",
            "| | | |\n",
            "| |O| |\n",
            "| | |X|\n",
            "\n",
            "| | | |\n",
            "| |O|O|\n",
            "| | |X|\n",
            "\n",
            "| | |X|\n",
            "| |O|O|\n",
            "| | |X|\n",
            "\n",
            "| | |X|\n",
            "| |O|O|\n",
            "|O| |X|\n",
            "\n",
            "|X| |X|\n",
            "| |O|O|\n",
            "|O| |X|\n",
            "\n",
            "|X| |X|\n",
            "| |O|O|\n",
            "|O|O|X|\n",
            "\n",
            "|X| |X|\n",
            "|X|O|O|\n",
            "|O|O|X|\n",
            "\n",
            "It's a stalemate!\n",
            "|X|O|X|\n",
            "|X|O|O|\n",
            "|O|O|X|\n",
            "\n"
          ],
          "name": "stdout"
        },
        {
          "output_type": "execute_result",
          "data": {
            "text/plain": [
              "<__main__.GameEngine at 0x7fd5c0ad6250>"
            ]
          },
          "metadata": {
            "tags": []
          },
          "execution_count": 5
        }
      ]
    },
    {
      "cell_type": "code",
      "metadata": {
        "colab": {
          "base_uri": "https://localhost:8080/",
          "height": 35
        },
        "id": "Ee8gu3oU6Kqn",
        "outputId": "b6bc9318-6a11-4911-81b8-0b822f16840a"
      },
      "source": [
        "game.winner"
      ],
      "execution_count": null,
      "outputs": [
        {
          "output_type": "execute_result",
          "data": {
            "application/vnd.google.colaboratory.intrinsic+json": {
              "type": "string"
            },
            "text/plain": [
              "'Stalemate'"
            ]
          },
          "metadata": {
            "tags": []
          },
          "execution_count": 6
        }
      ]
    },
    {
      "cell_type": "code",
      "metadata": {
        "id": "DDgrKuKk7szs",
        "colab": {
          "base_uri": "https://localhost:8080/",
          "height": 35
        },
        "outputId": "bde28edc-0f4f-449f-9084-760c5f408f86"
      },
      "source": [
        "game.check_stalemate()"
      ],
      "execution_count": null,
      "outputs": [
        {
          "output_type": "execute_result",
          "data": {
            "application/vnd.google.colaboratory.intrinsic+json": {
              "type": "string"
            },
            "text/plain": [
              "\"It's a stalemate!\""
            ]
          },
          "metadata": {
            "tags": []
          },
          "execution_count": 7
        }
      ]
    },
    {
      "cell_type": "code",
      "metadata": {
        "colab": {
          "base_uri": "https://localhost:8080/",
          "height": 35
        },
        "id": "wlU_C39Ds72S",
        "outputId": "483bba02-8c70-4a7f-b225-b8eb0ab5655d"
      },
      "source": [
        "game.check_winning()"
      ],
      "execution_count": null,
      "outputs": [
        {
          "output_type": "execute_result",
          "data": {
            "application/vnd.google.colaboratory.intrinsic+json": {
              "type": "string"
            },
            "text/plain": [
              "\"'O' Won!\""
            ]
          },
          "metadata": {
            "tags": []
          },
          "execution_count": 8
        }
      ]
    },
    {
      "cell_type": "code",
      "metadata": {
        "colab": {
          "base_uri": "https://localhost:8080/",
          "height": 35
        },
        "id": "1fALzz1ws9xv",
        "outputId": "1dc6622e-c3cb-42f5-c59d-84339a03a1d8"
      },
      "source": [
        "game.winner"
      ],
      "execution_count": null,
      "outputs": [
        {
          "output_type": "execute_result",
          "data": {
            "application/vnd.google.colaboratory.intrinsic+json": {
              "type": "string"
            },
            "text/plain": [
              "'O'"
            ]
          },
          "metadata": {
            "tags": []
          },
          "execution_count": 9
        }
      ]
    },
    {
      "cell_type": "markdown",
      "metadata": {
        "id": "9XGH-wVUS78U"
      },
      "source": [
        "In the cell below we change `check_stalemate` so that it also requires there is no clear winner in order to return that a stalemate has been reached (line 45)"
      ]
    },
    {
      "cell_type": "code",
      "metadata": {
        "id": "JGWuLsHXc3l2"
      },
      "source": [
        "############################################################\n",
        "### COPY ALL OF THE FIRST CELL HERE AND MAKE YOUR EDITS ####\n",
        "############################################################\n",
        "import random\n",
        "import pandas as pd\n",
        "import numpy as np\n",
        "import matplotlib.pyplot as plt\n",
        "\n",
        "class TicTacToe:\n",
        "  # can preset winner and starting player\n",
        "  def __init__(self, winner='', start_player=''): \n",
        "    self.winner = winner\n",
        "    self.start_player = start_player\n",
        "    self.board = {1: ' ',\n",
        "         2: ' ',\n",
        "         3: ' ',\n",
        "         4: ' ',\n",
        "         5: ' ',\n",
        "         6: ' ',\n",
        "         7: ' ',\n",
        "         8: ' ',\n",
        "         9: ' ',}\n",
        "    self.win_patterns = [[1,2,3], [4,5,6], [7,8,9],\n",
        "                [1,4,7], [2,5,8], [3,6,9],\n",
        "                [1,5,9], [7,5,3]]\n",
        "         \n",
        "  # the other functions are now passed self\n",
        "  def visualize_board(self):\n",
        "    print(\n",
        "      \"|{}|{}|{}|\\n|{}|{}|{}|\\n|{}|{}|{}|\\n\".format(*self.board.values())\n",
        "      )\n",
        "\n",
        "  def check_winning(self):\n",
        "    for pattern in self.win_patterns:\n",
        "      values = [self.board[i] for i in pattern] \n",
        "      if values == ['X', 'X', 'X']:\n",
        "        self.winner = 'X' # we update the winner status\n",
        "        return \"'X' Won!\"\n",
        "      elif values == ['O', 'O', 'O']:\n",
        "        self.winner = 'O'\n",
        "        return \"'O' Won!\"\n",
        "    return ''\n",
        "\n",
        "  def check_stalemate(self):\n",
        "    if (' ' not in self.board.values()) and (self.check_winning() == ''):\n",
        "      self.winner = 'Stalemate'\n",
        "      return \"It's a stalemate!\"\n",
        "\n",
        "class GameEngine(TicTacToe):\n",
        "  def __init__(self, setup='auto'):\n",
        "    super().__init__()\n",
        "    self.setup = setup\n",
        "\n",
        "  def setup_game(self):\n",
        "\n",
        "    if self.setup == 'user':\n",
        "      players = int(input(\"How many Players? (type 0, 1, or 2)\"))\n",
        "      self.player_meta = {'first': {'label': 'X',\n",
        "                                    'type': 'ai'}, \n",
        "                    'second': {'label': 'O',\n",
        "                                    'type': 'human'}}\n",
        "      if players == 1:\n",
        "        first = input(\"who will go first? (X, (AI), or O (Player))\")\n",
        "        if first == 'O':\n",
        "          self.player_meta = {'second': {'label': 'X',\n",
        "                                    'type': 'ai'}, \n",
        "                        'first': {'label': 'O',\n",
        "                                    'type': 'human'}}\n",
        "\n",
        "      elif players == 0:\n",
        "        first = random.choice(['X', 'O'])\n",
        "        if first == 'O':\n",
        "          self.player_meta = {'second': {'label': 'X',\n",
        "                                    'type': 'ai'}, \n",
        "                        'first': {'label': 'O',\n",
        "                                    'type': 'ai'}}                                \n",
        "        else:\n",
        "          self.player_meta = {'first': {'label': 'X',\n",
        "                                    'type': 'ai'}, \n",
        "                        'second': {'label': 'O',\n",
        "                                    'type': 'ai'}}\n",
        "\n",
        "    elif self.setup == 'auto':\n",
        "      first = random.choice(['X', 'O'])\n",
        "      if first == 'O':\n",
        "        self.start_player = 'O'\n",
        "        self.player_meta = {'second': {'label': 'X',\n",
        "                                  'type': 'ai'}, \n",
        "                      'first': {'label': 'O',\n",
        "                                  'type': 'ai'}}                                \n",
        "      else:\n",
        "        self.start_player = 'X'\n",
        "        self.player_meta = {'first': {'label': 'X',\n",
        "                                  'type': 'ai'}, \n",
        "                      'second': {'label': 'O',\n",
        "                                  'type': 'ai'}}\n",
        "\n",
        "  def play_game(self):\n",
        "    while True:\n",
        "      for player in ['first', 'second']:  \n",
        "        self.visualize_board()\n",
        "        player_label = self.player_meta[player]['label']\n",
        "        player_type = self.player_meta[player]['type']\n",
        "\n",
        "        if player_type == 'human':\n",
        "          move = input(\"{}, what's your move?\".format(player_label))\n",
        "          # we're going to allow the user to quit the game from the input line\n",
        "          if move in ['q', 'quit']:\n",
        "            self.winner = 'F'\n",
        "            print('quiting the game')\n",
        "            break\n",
        "\n",
        "          move = int(move)\n",
        "          if self.board[move] != ' ':\n",
        "            while True:\n",
        "              move = input(\"{}, that position is already taken! \"\\\n",
        "                          \"What's your move?\".format(player))  \n",
        "              move = int(move)            \n",
        "              if self.board[move] != ' ':\n",
        "                continue\n",
        "              else:\n",
        "                break\n",
        "\n",
        "        else:\n",
        "          while True:\n",
        "            move = random.randint(1,9)\n",
        "            if self.board[move] != ' ':\n",
        "              continue\n",
        "              print('test')\n",
        "            else:\n",
        "              break\n",
        "\n",
        "        self.board[move] = player_label\n",
        "\n",
        "        # the winner varaible will now be check within the board object\n",
        "        self.check_winning()\n",
        "        self.check_stalemate()\n",
        "\n",
        "        if self.winner == '':\n",
        "          continue\n",
        "\n",
        "        elif self.winner == 'Stalemate':\n",
        "          print(self.check_stalemate())\n",
        "          self.visualize_board()\n",
        "          break\n",
        "\n",
        "        else:\n",
        "          print(self.check_winning())\n",
        "          self.visualize_board()\n",
        "          break\n",
        "      if self.winner != '':\n",
        "        return self"
      ],
      "execution_count": null,
      "outputs": []
    },
    {
      "cell_type": "code",
      "metadata": {
        "colab": {
          "base_uri": "https://localhost:8080/"
        },
        "id": "bKDmNKjatROp",
        "outputId": "1a774941-6cfd-417a-ce07-476b54fd4791"
      },
      "source": [
        "random.seed(12)\n",
        "game = GameEngine(setup='auto')\n",
        "game.setup_game()\n",
        "game.play_game()"
      ],
      "execution_count": null,
      "outputs": [
        {
          "output_type": "stream",
          "text": [
            "| | | |\n",
            "| | | |\n",
            "| | | |\n",
            "\n",
            "| | | |\n",
            "| |O| |\n",
            "| | | |\n",
            "\n",
            "| | | |\n",
            "| |O| |\n",
            "| | |X|\n",
            "\n",
            "| | | |\n",
            "| |O|O|\n",
            "| | |X|\n",
            "\n",
            "| | |X|\n",
            "| |O|O|\n",
            "| | |X|\n",
            "\n",
            "| | |X|\n",
            "| |O|O|\n",
            "|O| |X|\n",
            "\n",
            "|X| |X|\n",
            "| |O|O|\n",
            "|O| |X|\n",
            "\n",
            "|X| |X|\n",
            "| |O|O|\n",
            "|O|O|X|\n",
            "\n",
            "|X| |X|\n",
            "|X|O|O|\n",
            "|O|O|X|\n",
            "\n",
            "'O' Won!\n",
            "|X|O|X|\n",
            "|X|O|O|\n",
            "|O|O|X|\n",
            "\n"
          ],
          "name": "stdout"
        },
        {
          "output_type": "execute_result",
          "data": {
            "text/plain": [
              "<__main__.GameEngine at 0x7fd5c0a7f050>"
            ]
          },
          "metadata": {
            "tags": []
          },
          "execution_count": 11
        }
      ]
    }
  ]
}