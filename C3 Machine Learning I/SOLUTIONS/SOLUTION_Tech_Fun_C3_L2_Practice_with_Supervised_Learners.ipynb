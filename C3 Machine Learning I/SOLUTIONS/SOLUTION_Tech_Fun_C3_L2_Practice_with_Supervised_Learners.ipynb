{
  "nbformat": 4,
  "nbformat_minor": 0,
  "metadata": {
    "colab": {
      "name": "SOLUTION Tech Fun C3 L2 Practice with Supervised Learners.ipynb",
      "provenance": [],
      "collapsed_sections": [],
      "toc_visible": true,
      "authorship_tag": "ABX9TyP5F8D7A98evva5XvuoXoMz",
      "include_colab_link": true
    },
    "kernelspec": {
      "display_name": "Python 3",
      "name": "python3"
    },
    "language_info": {
      "name": "python"
    }
  },
  "cells": [
    {
      "cell_type": "markdown",
      "metadata": {
        "id": "view-in-github",
        "colab_type": "text"
      },
      "source": [
        "<a href=\"https://colab.research.google.com/github/wesleybeckner/technology_fundamentals/blob/main/C3%20Machine%20Learning%20I/SOLUTIONS/SOLUTION_Tech_Fun_C3_L2_Practice_with_Supervised_Learners.ipynb\" target=\"_parent\"><img src=\"https://colab.research.google.com/assets/colab-badge.svg\" alt=\"Open In Colab\"/></a>"
      ]
    },
    {
      "cell_type": "markdown",
      "metadata": {
        "id": "3rZ3ZWSkhxyS"
      },
      "source": [
        "# Technology Fundamentals Course 3, Lab 2: Practice with Supervised Learners\n",
        "\n",
        "**Instructor**: Wesley Beckner\n",
        "\n",
        "**Contact**: wesleybeckner@gmail.com\n",
        "\n",
        "**Teaching Assitants**: Varsha Bang, Harsha Vardhan\n",
        "\n",
        "**Contact**: vbang@uw.edu, harshav@uw.edu\n",
        "<br>\n",
        "\n",
        "---\n",
        "\n",
        "<br>\n",
        "\n",
        "In this lab we will continue to practice creation of pipelines, feature engineering, and applying learning algorithms.\n",
        "\n",
        "Now that we have covered supervised learning methods, and we've covered Grid Search, we will use these tools to do a sophisticated, search of hyperparameter optimization.\n",
        "\n",
        "<br>\n",
        "\n",
        "---\n",
        "\n",
        "\n"
      ]
    },
    {
      "cell_type": "markdown",
      "metadata": {
        "id": "GA0l_pwYn9g1"
      },
      "source": [
        "# L3 Q1: \n",
        "\n",
        "Create train and test datasets for wine quality\n",
        "\n",
        "Create new train/test datasets that are normalized (but have the same indices as the original train/test sets for comparison)"
      ]
    },
    {
      "cell_type": "code",
      "metadata": {
        "id": "6F8a5mo68qMV"
      },
      "source": [
        "import pandas as pd\n",
        "import numpy as np\n",
        "import matplotlib.pyplot as plt\n",
        "from sklearn.metrics import classification_report,confusion_matrix\n",
        "import seaborn as sns\n",
        "\n",
        "from sklearn.preprocessing import OneHotEncoder\n",
        "from sklearn.impute import SimpleImputer\n",
        "from sklearn.linear_model import LinearRegression\n",
        "from sklearn.pipeline import make_pipeline\n",
        "from sklearn.compose import make_column_selector, make_column_transformer\n",
        "from sklearn.model_selection import train_test_split\n",
        "from sklearn.preprocessing import StandardScaler"
      ],
      "execution_count": null,
      "outputs": []
    },
    {
      "cell_type": "code",
      "metadata": {
        "id": "cxYbi7Hr8sjl"
      },
      "source": [
        "# Code Cell for L1 Q1\n",
        "df = pd.read_csv(\"https://raw.githubusercontent.com/wesleybeckner/\"\\\n",
        "                 \"ds_for_engineers/main/data/wine_quality/winequalityN.csv\")"
      ],
      "execution_count": null,
      "outputs": []
    },
    {
      "cell_type": "code",
      "metadata": {
        "id": "BR11MzzIj_ga"
      },
      "source": [
        "# Code Cell for L1 Q1\n",
        "\n",
        "# create X and y\n",
        "X = df.copy()\n",
        "y = X.pop('quality')\n",
        "\n",
        "# split into train/test\n",
        "X_train, X_test, y_train, y_test = train_test_split(X, y)\n",
        "\n",
        "# the numerical values pipe\n",
        "num_proc = make_pipeline(SimpleImputer(strategy='median'), # impute with median\n",
        "                         StandardScaler()) # scale and center\n",
        "\n",
        "# the categorical values pipe\n",
        "cat_proc = make_pipeline(\n",
        "    SimpleImputer(strategy='constant', \n",
        "                  fill_value='missing'), # impute with placeholder\n",
        "    OneHotEncoder(handle_unknown='ignore')) # one hot encode\n",
        "\n",
        "# parallelize the two pipes\n",
        "preprocessor = make_column_transformer((num_proc,\n",
        "                                make_column_selector(dtype_include=np.number)),\n",
        "                                       (cat_proc,\n",
        "                                make_column_selector(dtype_include=object)))"
      ],
      "execution_count": null,
      "outputs": []
    },
    {
      "cell_type": "markdown",
      "metadata": {
        "id": "Sp832EkKi67C"
      },
      "source": [
        "# L3 Q2:\n",
        "\n",
        "Evaluate the performance of a Random Forest on classifying wine quality\n"
      ]
    },
    {
      "cell_type": "code",
      "metadata": {
        "id": "Vb1NyIqZmqYg"
      },
      "source": [
        "# Code Cell for L1 Q2\n",
        "from sklearn.ensemble import RandomForestRegressor"
      ],
      "execution_count": null,
      "outputs": []
    },
    {
      "cell_type": "code",
      "metadata": {
        "id": "5CLPAAVQ8li4"
      },
      "source": [
        "def MyPipeline(**kwargs):\n",
        "    return make_pipeline(preprocessor,\n",
        "                         RandomForestRegressor(**kwargs))"
      ],
      "execution_count": null,
      "outputs": []
    },
    {
      "cell_type": "code",
      "metadata": {
        "colab": {
          "base_uri": "https://localhost:8080/"
        },
        "id": "zdnnv5pa9iKw",
        "outputId": "a7556936-c59d-4a46-95c8-29d2be8a8c9f"
      },
      "source": [
        "model = MyPipeline()\n",
        "model.fit(X_train, y_train)\n",
        "y_pred = model.predict(X_test)\n",
        "model.score(X_test,y_test)"
      ],
      "execution_count": null,
      "outputs": [
        {
          "output_type": "execute_result",
          "data": {
            "text/plain": [
              "0.5007560699367017"
            ]
          },
          "metadata": {
            "tags": []
          },
          "execution_count": 20
        }
      ]
    },
    {
      "cell_type": "code",
      "metadata": {
        "colab": {
          "base_uri": "https://localhost:8080/",
          "height": 283
        },
        "id": "v7--ortu9xJr",
        "outputId": "f47043ac-5c21-4464-c46f-3bc9085ae6b1"
      },
      "source": [
        "plt.plot(y_pred, y_test, ls='', marker='.')"
      ],
      "execution_count": null,
      "outputs": [
        {
          "output_type": "execute_result",
          "data": {
            "text/plain": [
              "[<matplotlib.lines.Line2D at 0x7f540a5b6250>]"
            ]
          },
          "metadata": {
            "tags": []
          },
          "execution_count": 21
        },
        {
          "output_type": "display_data",
          "data": {
            "image/png": "[encoded data removed]",
            "text/plain": [
              "<Figure size 432x288 with 1 Axes>"
            ]
          },
          "metadata": {
            "tags": []
          }
        }
      ]
    },
    {
      "cell_type": "code",
      "metadata": {
        "colab": {
          "base_uri": "https://localhost:8080/",
          "height": 391
        },
        "id": "uhtF4OHY9-iC",
        "outputId": "3561e05e-d1d3-4e95-b1ef-7192cd416c2a"
      },
      "source": [
        "plt.figure(figsize=(10,6))\n",
        "sns.heatmap(confusion_matrix(y_test,np.round(y_pred)),annot=True)"
      ],
      "execution_count": null,
      "outputs": [
        {
          "output_type": "execute_result",
          "data": {
            "text/plain": [
              "<matplotlib.axes._subplots.AxesSubplot at 0x7f540a602c50>"
            ]
          },
          "metadata": {
            "tags": []
          },
          "execution_count": 22
        },
        {
          "output_type": "display_data",
          "data": {
            "image/png": "[encoded data removed]",
            "text/plain": [
              "<Figure size 720x432 with 2 Axes>"
            ]
          },
          "metadata": {
            "tags": []
          }
        }
      ]
    },
    {
      "cell_type": "markdown",
      "metadata": {
        "id": "e9MwkxIGlc0k"
      },
      "source": [
        "# L3 Q3:\n",
        "\n",
        "Do a grid search to optimize your Random Forest model, use whatever hyperparameters you would like\n",
        "\n"
      ]
    },
    {
      "cell_type": "code",
      "metadata": {
        "id": "w-mykt4KhnA2"
      },
      "source": [
        "# Code Cell for L1 Q3\n",
        "from sklearn.model_selection import GridSearchCV\n",
        "\n",
        "param_grid = {'randomforestregressor__n_estimators': [100, 200, 300],\n",
        "              'randomforestregressor__criterion': ['mse', 'mae'],\n",
        "              'randomforestregressor__min_samples_leaf': [1,5]}\n",
        "\n",
        "grid = GridSearchCV(MyPipeline(), param_grid, cv=3, verbose=3)"
      ],
      "execution_count": null,
      "outputs": []
    },
    {
      "cell_type": "code",
      "metadata": {
        "colab": {
          "background_save": true,
          "base_uri": "https://localhost:8080/"
        },
        "id": "vSLzPxBY_eqH",
        "outputId": "6e1cb14c-5863-419a-f43c-d4d54f3c0e5c"
      },
      "source": [
        "grid.fit(X_train,y_train)"
      ],
      "execution_count": null,
      "outputs": [
        {
          "output_type": "stream",
          "text": [
            "Fitting 3 folds for each of 12 candidates, totalling 36 fits\n",
            "[CV] randomforestregressor__criterion=mse, randomforestregressor__min_samples_leaf=1, randomforestregressor__n_estimators=100 \n"
          ],
          "name": "stdout"
        },
        {
          "output_type": "stream",
          "text": [
            "[Parallel(n_jobs=1)]: Using backend SequentialBackend with 1 concurrent workers.\n"
          ],
          "name": "stderr"
        },
        {
          "output_type": "stream",
          "text": [
            "[CV]  randomforestregressor__criterion=mse, randomforestregressor__min_samples_leaf=1, randomforestregressor__n_estimators=100, score=0.492, total=   2.1s\n",
            "[CV] randomforestregressor__criterion=mse, randomforestregressor__min_samples_leaf=1, randomforestregressor__n_estimators=100 \n"
          ],
          "name": "stdout"
        },
        {
          "output_type": "stream",
          "text": [
            "[Parallel(n_jobs=1)]: Done   1 out of   1 | elapsed:    2.1s remaining:    0.0s\n"
          ],
          "name": "stderr"
        },
        {
          "output_type": "stream",
          "text": [
            "[CV]  randomforestregressor__criterion=mse, randomforestregressor__min_samples_leaf=1, randomforestregressor__n_estimators=100, score=0.457, total=   2.1s\n",
            "[CV] randomforestregressor__criterion=mse, randomforestregressor__min_samples_leaf=1, randomforestregressor__n_estimators=100 \n"
          ],
          "name": "stdout"
        },
        {
          "output_type": "stream",
          "text": [
            "[Parallel(n_jobs=1)]: Done   2 out of   2 | elapsed:    4.2s remaining:    0.0s\n"
          ],
          "name": "stderr"
        },
        {
          "output_type": "stream",
          "text": [
            "[CV]  randomforestregressor__criterion=mse, randomforestregressor__min_samples_leaf=1, randomforestregressor__n_estimators=100, score=0.462, total=   2.1s\n",
            "[CV] randomforestregressor__criterion=mse, randomforestregressor__min_samples_leaf=1, randomforestregressor__n_estimators=200 \n",
            "[CV]  randomforestregressor__criterion=mse, randomforestregressor__min_samples_leaf=1, randomforestregressor__n_estimators=200, score=0.495, total=   4.1s\n",
            "[CV] randomforestregressor__criterion=mse, randomforestregressor__min_samples_leaf=1, randomforestregressor__n_estimators=200 \n",
            "[CV]  randomforestregressor__criterion=mse, randomforestregressor__min_samples_leaf=1, randomforestregressor__n_estimators=200, score=0.458, total=   4.1s\n",
            "[CV] randomforestregressor__criterion=mse, randomforestregressor__min_samples_leaf=1, randomforestregressor__n_estimators=200 \n",
            "[CV]  randomforestregressor__criterion=mse, randomforestregressor__min_samples_leaf=1, randomforestregressor__n_estimators=200, score=0.462, total=   4.0s\n",
            "[CV] randomforestregressor__criterion=mse, randomforestregressor__min_samples_leaf=1, randomforestregressor__n_estimators=300 \n",
            "[CV]  randomforestregressor__criterion=mse, randomforestregressor__min_samples_leaf=1, randomforestregressor__n_estimators=300, score=0.495, total=   6.0s\n",
            "[CV] randomforestregressor__criterion=mse, randomforestregressor__min_samples_leaf=1, randomforestregressor__n_estimators=300 \n",
            "[CV]  randomforestregressor__criterion=mse, randomforestregressor__min_samples_leaf=1, randomforestregressor__n_estimators=300, score=0.466, total=   6.1s\n",
            "[CV] randomforestregressor__criterion=mse, randomforestregressor__min_samples_leaf=1, randomforestregressor__n_estimators=300 \n",
            "[CV]  randomforestregressor__criterion=mse, randomforestregressor__min_samples_leaf=1, randomforestregressor__n_estimators=300, score=0.466, total=   6.0s\n",
            "[CV] randomforestregressor__criterion=mse, randomforestregressor__min_samples_leaf=5, randomforestregressor__n_estimators=100 \n",
            "[CV]  randomforestregressor__criterion=mse, randomforestregressor__min_samples_leaf=5, randomforestregressor__n_estimators=100, score=0.459, total=   1.7s\n",
            "[CV] randomforestregressor__criterion=mse, randomforestregressor__min_samples_leaf=5, randomforestregressor__n_estimators=100 \n",
            "[CV]  randomforestregressor__criterion=mse, randomforestregressor__min_samples_leaf=5, randomforestregressor__n_estimators=100, score=0.434, total=   1.7s\n",
            "[CV] randomforestregressor__criterion=mse, randomforestregressor__min_samples_leaf=5, randomforestregressor__n_estimators=100 \n",
            "[CV]  randomforestregressor__criterion=mse, randomforestregressor__min_samples_leaf=5, randomforestregressor__n_estimators=100, score=0.432, total=   1.7s\n",
            "[CV] randomforestregressor__criterion=mse, randomforestregressor__min_samples_leaf=5, randomforestregressor__n_estimators=200 \n",
            "[CV]  randomforestregressor__criterion=mse, randomforestregressor__min_samples_leaf=5, randomforestregressor__n_estimators=200, score=0.465, total=   3.3s\n",
            "[CV] randomforestregressor__criterion=mse, randomforestregressor__min_samples_leaf=5, randomforestregressor__n_estimators=200 \n",
            "[CV]  randomforestregressor__criterion=mse, randomforestregressor__min_samples_leaf=5, randomforestregressor__n_estimators=200, score=0.433, total=   3.3s\n",
            "[CV] randomforestregressor__criterion=mse, randomforestregressor__min_samples_leaf=5, randomforestregressor__n_estimators=200 \n",
            "[CV]  randomforestregressor__criterion=mse, randomforestregressor__min_samples_leaf=5, randomforestregressor__n_estimators=200, score=0.432, total=   3.3s\n",
            "[CV] randomforestregressor__criterion=mse, randomforestregressor__min_samples_leaf=5, randomforestregressor__n_estimators=300 \n",
            "[CV]  randomforestregressor__criterion=mse, randomforestregressor__min_samples_leaf=5, randomforestregressor__n_estimators=300, score=0.463, total=   4.9s\n",
            "[CV] randomforestregressor__criterion=mse, randomforestregressor__min_samples_leaf=5, randomforestregressor__n_estimators=300 \n",
            "[CV]  randomforestregressor__criterion=mse, randomforestregressor__min_samples_leaf=5, randomforestregressor__n_estimators=300, score=0.435, total=   5.0s\n",
            "[CV] randomforestregressor__criterion=mse, randomforestregressor__min_samples_leaf=5, randomforestregressor__n_estimators=300 \n",
            "[CV]  randomforestregressor__criterion=mse, randomforestregressor__min_samples_leaf=5, randomforestregressor__n_estimators=300, score=0.428, total=   4.9s\n",
            "[CV] randomforestregressor__criterion=mae, randomforestregressor__min_samples_leaf=1, randomforestregressor__n_estimators=100 \n",
            "[CV]  randomforestregressor__criterion=mae, randomforestregressor__min_samples_leaf=1, randomforestregressor__n_estimators=100, score=0.458, total= 1.4min\n",
            "[CV] randomforestregressor__criterion=mae, randomforestregressor__min_samples_leaf=1, randomforestregressor__n_estimators=100 \n",
            "[CV]  randomforestregressor__criterion=mae, randomforestregressor__min_samples_leaf=1, randomforestregressor__n_estimators=100, score=0.450, total= 1.5min\n",
            "[CV] randomforestregressor__criterion=mae, randomforestregressor__min_samples_leaf=1, randomforestregressor__n_estimators=100 \n",
            "[CV]  randomforestregressor__criterion=mae, randomforestregressor__min_samples_leaf=1, randomforestregressor__n_estimators=100, score=0.421, total= 1.4min\n",
            "[CV] randomforestregressor__criterion=mae, randomforestregressor__min_samples_leaf=1, randomforestregressor__n_estimators=200 \n",
            "[CV]  randomforestregressor__criterion=mae, randomforestregressor__min_samples_leaf=1, randomforestregressor__n_estimators=200, score=0.463, total= 2.9min\n",
            "[CV] randomforestregressor__criterion=mae, randomforestregressor__min_samples_leaf=1, randomforestregressor__n_estimators=200 \n",
            "[CV]  randomforestregressor__criterion=mae, randomforestregressor__min_samples_leaf=1, randomforestregressor__n_estimators=200, score=0.453, total= 2.9min\n",
            "[CV] randomforestregressor__criterion=mae, randomforestregressor__min_samples_leaf=1, randomforestregressor__n_estimators=200 \n",
            "[CV]  randomforestregressor__criterion=mae, randomforestregressor__min_samples_leaf=1, randomforestregressor__n_estimators=200, score=0.424, total= 2.8min\n",
            "[CV] randomforestregressor__criterion=mae, randomforestregressor__min_samples_leaf=1, randomforestregressor__n_estimators=300 \n",
            "[CV]  randomforestregressor__criterion=mae, randomforestregressor__min_samples_leaf=1, randomforestregressor__n_estimators=300, score=0.463, total= 4.3min\n",
            "[CV] randomforestregressor__criterion=mae, randomforestregressor__min_samples_leaf=1, randomforestregressor__n_estimators=300 \n",
            "[CV]  randomforestregressor__criterion=mae, randomforestregressor__min_samples_leaf=1, randomforestregressor__n_estimators=300, score=0.453, total= 4.2min\n",
            "[CV] randomforestregressor__criterion=mae, randomforestregressor__min_samples_leaf=1, randomforestregressor__n_estimators=300 \n",
            "[CV]  randomforestregressor__criterion=mae, randomforestregressor__min_samples_leaf=1, randomforestregressor__n_estimators=300, score=0.422, total= 4.3min\n",
            "[CV] randomforestregressor__criterion=mae, randomforestregressor__min_samples_leaf=5, randomforestregressor__n_estimators=100 \n",
            "[CV]  randomforestregressor__criterion=mae, randomforestregressor__min_samples_leaf=5, randomforestregressor__n_estimators=100, score=0.286, total=  33.4s\n",
            "[CV] randomforestregressor__criterion=mae, randomforestregressor__min_samples_leaf=5, randomforestregressor__n_estimators=100 \n",
            "[CV]  randomforestregressor__criterion=mae, randomforestregressor__min_samples_leaf=5, randomforestregressor__n_estimators=100, score=0.268, total=  35.9s\n",
            "[CV] randomforestregressor__criterion=mae, randomforestregressor__min_samples_leaf=5, randomforestregressor__n_estimators=100 \n",
            "[CV]  randomforestregressor__criterion=mae, randomforestregressor__min_samples_leaf=5, randomforestregressor__n_estimators=100, score=0.263, total=  34.7s\n",
            "[CV] randomforestregressor__criterion=mae, randomforestregressor__min_samples_leaf=5, randomforestregressor__n_estimators=200 \n",
            "[CV]  randomforestregressor__criterion=mae, randomforestregressor__min_samples_leaf=5, randomforestregressor__n_estimators=200, score=0.283, total= 1.1min\n",
            "[CV] randomforestregressor__criterion=mae, randomforestregressor__min_samples_leaf=5, randomforestregressor__n_estimators=200 \n",
            "[CV]  randomforestregressor__criterion=mae, randomforestregressor__min_samples_leaf=5, randomforestregressor__n_estimators=200, score=0.271, total= 1.1min\n",
            "[CV] randomforestregressor__criterion=mae, randomforestregressor__min_samples_leaf=5, randomforestregressor__n_estimators=200 \n",
            "[CV]  randomforestregressor__criterion=mae, randomforestregressor__min_samples_leaf=5, randomforestregressor__n_estimators=200, score=0.264, total= 1.1min\n",
            "[CV] randomforestregressor__criterion=mae, randomforestregressor__min_samples_leaf=5, randomforestregressor__n_estimators=300 \n",
            "[CV]  randomforestregressor__criterion=mae, randomforestregressor__min_samples_leaf=5, randomforestregressor__n_estimators=300, score=0.287, total= 1.7min\n",
            "[CV] randomforestregressor__criterion=mae, randomforestregressor__min_samples_leaf=5, randomforestregressor__n_estimators=300 \n",
            "[CV]  randomforestregressor__criterion=mae, randomforestregressor__min_samples_leaf=5, randomforestregressor__n_estimators=300, score=0.267, total= 1.7min\n",
            "[CV] randomforestregressor__criterion=mae, randomforestregressor__min_samples_leaf=5, randomforestregressor__n_estimators=300 \n",
            "[CV]  randomforestregressor__criterion=mae, randomforestregressor__min_samples_leaf=5, randomforestregressor__n_estimators=300, score=0.267, total= 1.8min\n"
          ],
          "name": "stdout"
        },
        {
          "output_type": "stream",
          "text": [
            "[Parallel(n_jobs=1)]: Done  36 out of  36 | elapsed: 37.0min finished\n"
          ],
          "name": "stderr"
        },
        {
          "output_type": "execute_result",
          "data": {
            "text/plain": [
              "GridSearchCV(cv=3, error_score=nan,\n",
              "             estimator=Pipeline(memory=None,\n",
              "                                steps=[('columntransformer',\n",
              "                                        ColumnTransformer(n_jobs=None,\n",
              "                                                          remainder='drop',\n",
              "                                                          sparse_threshold=0.3,\n",
              "                                                          transformer_weights=None,\n",
              "                                                          transformers=[('pipeline-1',\n",
              "                                                                         Pipeline(memory=None,\n",
              "                                                                                  steps=[('simpleimputer',\n",
              "                                                                                          SimpleImputer(add_indicator=False,\n",
              "                                                                                                        copy=True,\n",
              "                                                                                                        fill_value=None,\n",
              "                                                                                                        missing_values=nan,\n",
              "                                                                                                        strategy='me...\n",
              "                                                              oob_score=False,\n",
              "                                                              random_state=None,\n",
              "                                                              verbose=0,\n",
              "                                                              warm_start=False))],\n",
              "                                verbose=False),\n",
              "             iid='deprecated', n_jobs=None,\n",
              "             param_grid={'randomforestregressor__criterion': ['mse', 'mae'],\n",
              "                         'randomforestregressor__min_samples_leaf': [1, 5],\n",
              "                         'randomforestregressor__n_estimators': [100, 200,\n",
              "                                                                 300]},\n",
              "             pre_dispatch='2*n_jobs', refit=True, return_train_score=False,\n",
              "             scoring=None, verbose=3)"
            ]
          },
          "metadata": {
            "tags": []
          },
          "execution_count": 0
        }
      ]
    },
    {
      "cell_type": "code",
      "metadata": {
        "colab": {
          "background_save": true
        },
        "id": "Zx2delllG5ZI",
        "outputId": "332903d8-30e3-4c24-ee46-9aa109f147dd"
      },
      "source": [
        "grid.best_params_"
      ],
      "execution_count": null,
      "outputs": [
        {
          "output_type": "execute_result",
          "data": {
            "text/plain": [
              "{'randomforestregressor__criterion': 'mse',\n",
              " 'randomforestregressor__min_samples_leaf': 1,\n",
              " 'randomforestregressor__n_estimators': 300}"
            ]
          },
          "metadata": {
            "tags": []
          },
          "execution_count": 0
        }
      ]
    },
    {
      "cell_type": "code",
      "metadata": {
        "id": "ZllZGv7xG6b3"
      },
      "source": [
        "model = grid.best_estimator_"
      ],
      "execution_count": null,
      "outputs": []
    },
    {
      "cell_type": "code",
      "metadata": {
        "id": "aINmYUUPgxzX"
      },
      "source": [
        ""
      ],
      "execution_count": null,
      "outputs": []
    }
  ]
}