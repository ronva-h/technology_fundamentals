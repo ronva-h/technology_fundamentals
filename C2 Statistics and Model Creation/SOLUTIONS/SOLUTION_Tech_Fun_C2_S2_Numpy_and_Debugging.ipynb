{
  "nbformat": 4,
  "nbformat_minor": 0,
  "metadata": {
    "colab": {
      "name": "Copy of Tech Fun C2 S2 Numpy and Debugging",
      "provenance": [],
      "collapsed_sections": []
    },
    "kernelspec": {
      "name": "python3",
      "display_name": "Python 3"
    },
    "language_info": {
      "name": "python"
    }
  },
  "cells": [
    {
      "cell_type": "markdown",
      "metadata": {
        "id": "cPmio-GwmEwG"
      },
      "source": [
        "# Technology Fundamentals Course 2, Session 2: Numpy and Debugging\n",
        "\n",
        "**Instructor**: Wesley Beckner\n",
        "\n",
        "**Contact**: wesleybeckner@gmail.com\n",
        "\n",
        "**Teaching Assitants**: Varsha Bang, Harsha Vardhan\n",
        "\n",
        "**Contact**: vbang@uw.edu, harshav@uw.edu\n",
        "\n",
        "---\n",
        "\n",
        "<br>\n",
        "\n",
        "Today, we will jump into the **Numpy** package.  \n",
        "\n",
        "\n",
        "#### [``numpy``](http://numpy.org/): Numerical Python\n",
        "\n",
        "Numpy is short for \"Numerical Python\", and contains tools for efficient manipulation of arrays of data.\n",
        "If you have used other computational tools like IDL or MatLab, Numpy should feel very familiar.\n",
        "\n",
        "<br>\n",
        "\n",
        "---"
      ]
    },
    {
      "cell_type": "markdown",
      "metadata": {
        "id": "GqvpwnmXCD6T"
      },
      "source": [
        "## Import Libraries"
      ]
    },
    {
      "cell_type": "code",
      "metadata": {
        "id": "rzlRjMe_CF21"
      },
      "source": [
        "# for numpy section\n",
        "import numpy as np\n",
        "np.random.seed(42)"
      ],
      "execution_count": null,
      "outputs": []
    },
    {
      "cell_type": "code",
      "metadata": {
        "id": "oBpdlPUDHSJV"
      },
      "source": [
        "# for debugging section\n",
        "import random\n",
        "from contextlib import contextmanager\n",
        "import sys, os\n",
        "\n",
        "@contextmanager\n",
        "def suppress_stdout():\n",
        "    with open(os.devnull, \"w\") as devnull:\n",
        "        old_stdout = sys.stdout\n",
        "        sys.stdout = devnull\n",
        "        try:  \n",
        "            yield\n",
        "        finally:\n",
        "            sys.stdout = old_stdout"
      ],
      "execution_count": null,
      "outputs": []
    },
    {
      "cell_type": "markdown",
      "metadata": {
        "id": "ptKR77jZGUVH"
      },
      "source": [
        "## 2.1 NumPy Arrays"
      ]
    },
    {
      "cell_type": "markdown",
      "metadata": {
        "id": "EkLRed_aGW7H"
      },
      "source": [
        "### 2.1.1 Creating NumPy Arrays\n",
        "\n",
        "When we worked with lists, we saw that we could fill them with all sorts of datatypes. NumPy arrays are necessarily of one datatype:"
      ]
    },
    {
      "cell_type": "code",
      "metadata": {
        "colab": {
          "base_uri": "https://localhost:8080/"
        },
        "id": "CeiFAfXSCHNN",
        "outputId": "8c6eceb1-77c1-4c95-9c29-1e3bd1c11f58"
      },
      "source": [
        "# these will all be ints\n",
        "np.array([1, 2, 3, 6, 5, 4])"
      ],
      "execution_count": null,
      "outputs": [
        {
          "output_type": "execute_result",
          "data": {
            "text/plain": [
              "array([1, 2, 3, 6, 5, 4])"
            ]
          },
          "metadata": {
            "tags": []
          },
          "execution_count": 3
        }
      ]
    },
    {
      "cell_type": "code",
      "metadata": {
        "colab": {
          "base_uri": "https://localhost:8080/"
        },
        "id": "syVvIeoJGpNl",
        "outputId": "750ca5da-9451-4d09-fec4-c1abab2f0b88"
      },
      "source": [
        "# these will all be floats\n",
        "np.array([1, 2, 3.14, 6, 5, 4])"
      ],
      "execution_count": null,
      "outputs": [
        {
          "output_type": "execute_result",
          "data": {
            "text/plain": [
              "array([1.  , 2.  , 3.14, 6.  , 5.  , 4.  ])"
            ]
          },
          "metadata": {
            "tags": []
          },
          "execution_count": 4
        }
      ]
    },
    {
      "cell_type": "markdown",
      "metadata": {
        "id": "5FO_R9goVsEk"
      },
      "source": [
        "We can check the data types in the standard way:"
      ]
    },
    {
      "cell_type": "code",
      "metadata": {
        "colab": {
          "base_uri": "https://localhost:8080/"
        },
        "id": "x61Q1mSEG0JM",
        "outputId": "cca796d8-b8e8-4d49-fb3e-67d9f04e642a"
      },
      "source": [
        "arr = np.array([1, 2, 3, 6, 5, 4])\n",
        "for i in arr:\n",
        "  print(type(i))"
      ],
      "execution_count": null,
      "outputs": [
        {
          "output_type": "stream",
          "text": [
            "<class 'numpy.int64'>\n",
            "<class 'numpy.int64'>\n",
            "<class 'numpy.int64'>\n",
            "<class 'numpy.int64'>\n",
            "<class 'numpy.int64'>\n",
            "<class 'numpy.int64'>\n"
          ],
          "name": "stdout"
        }
      ]
    },
    {
      "cell_type": "markdown",
      "metadata": {
        "id": "opu0vg3yG-Ur"
      },
      "source": [
        "We see that all types are _upcast_ to the most complext object in the array. For instance, because 3.14 is a float, all the other numbers in the array will be a float:"
      ]
    },
    {
      "cell_type": "code",
      "metadata": {
        "colab": {
          "base_uri": "https://localhost:8080/"
        },
        "id": "2MXlbXjLG8XQ",
        "outputId": "e4a24029-7481-4c24-ed72-fa8146e55da8"
      },
      "source": [
        "for i in np.array([1, 2, 3.14, 6, 5, 4]):\n",
        "  print(type(i))"
      ],
      "execution_count": null,
      "outputs": [
        {
          "output_type": "stream",
          "text": [
            "<class 'numpy.float64'>\n",
            "<class 'numpy.float64'>\n",
            "<class 'numpy.float64'>\n",
            "<class 'numpy.float64'>\n",
            "<class 'numpy.float64'>\n",
            "<class 'numpy.float64'>\n"
          ],
          "name": "stdout"
        }
      ]
    },
    {
      "cell_type": "markdown",
      "metadata": {
        "id": "_3MCMKGQHHHO"
      },
      "source": [
        "We can also specify the datatypes in the array:"
      ]
    },
    {
      "cell_type": "code",
      "metadata": {
        "colab": {
          "base_uri": "https://localhost:8080/"
        },
        "id": "E_NuHRSsG9G1",
        "outputId": "06683dc5-e8d3-4f6e-a1e2-6e8250db7298"
      },
      "source": [
        "np.array([1, 2, 3.14, 6, 5, 4], dtype='float32')"
      ],
      "execution_count": null,
      "outputs": [
        {
          "output_type": "execute_result",
          "data": {
            "text/plain": [
              "array([1.  , 2.  , 3.14, 6.  , 5.  , 4.  ], dtype=float32)"
            ]
          },
          "metadata": {
            "tags": []
          },
          "execution_count": 7
        }
      ]
    },
    {
      "cell_type": "markdown",
      "metadata": {
        "id": "fnRwR34EW7A6"
      },
      "source": [
        "#### 2.1.1.1 Exercise: Specify datatype\n",
        "\n",
        "Create an array of 5 numbers whose datatypes are 16 bit integers. Make one of the numbers not a whole number. What happens to the number when it is stored in the 16 bit integer array?"
      ]
    },
    {
      "cell_type": "code",
      "metadata": {
        "id": "zZ7yy1l2XIyZ",
        "colab": {
          "base_uri": "https://localhost:8080/"
        },
        "outputId": "39ca5f2c-d858-4b5d-bd5b-43b5b58db0c7"
      },
      "source": [
        "# Cell for Ex 1\n",
        "np.array([1, 2, 3, 3.14, 7, 8], dtype='int16')"
      ],
      "execution_count": null,
      "outputs": [
        {
          "output_type": "execute_result",
          "data": {
            "text/plain": [
              "array([1, 2, 3, 3, 7, 8], dtype=int16)"
            ]
          },
          "metadata": {
            "tags": []
          },
          "execution_count": 8
        }
      ]
    },
    {
      "cell_type": "markdown",
      "metadata": {
        "id": "nVkuow9RHUDt"
      },
      "source": [
        "### 2.1.2 Creating Arrays from NumPy Methods"
      ]
    },
    {
      "cell_type": "code",
      "metadata": {
        "colab": {
          "base_uri": "https://localhost:8080/"
        },
        "id": "jwbS3Zt_HMhC",
        "outputId": "d82363e0-fc37-4b41-c12a-8e77974992c1"
      },
      "source": [
        "# create an array of 10 zeros\n",
        "# how can we specify the datatype?\n",
        "np.zeros(10)"
      ],
      "execution_count": null,
      "outputs": [
        {
          "output_type": "execute_result",
          "data": {
            "text/plain": [
              "array([0., 0., 0., 0., 0., 0., 0., 0., 0., 0.])"
            ]
          },
          "metadata": {
            "tags": []
          },
          "execution_count": 9
        }
      ]
    },
    {
      "cell_type": "code",
      "metadata": {
        "colab": {
          "base_uri": "https://localhost:8080/"
        },
        "id": "B4o3QwMPHZku",
        "outputId": "7261fa8c-71cc-468c-9c95-4a80c108ee62"
      },
      "source": [
        "# create an array of 10 1's\n",
        "np.ones(10)"
      ],
      "execution_count": null,
      "outputs": [
        {
          "output_type": "execute_result",
          "data": {
            "text/plain": [
              "array([1., 1., 1., 1., 1., 1., 1., 1., 1., 1.])"
            ]
          },
          "metadata": {
            "tags": []
          },
          "execution_count": 10
        }
      ]
    },
    {
      "cell_type": "code",
      "metadata": {
        "colab": {
          "base_uri": "https://localhost:8080/"
        },
        "id": "9w9AKvH0HaHc",
        "outputId": "615afd97-48a7-4638-f863-2efea9a9b6d8"
      },
      "source": [
        "# fill an array of the following dimensions\n",
        "# with value 42\n",
        "np.full((2,3), 42)"
      ],
      "execution_count": null,
      "outputs": [
        {
          "output_type": "execute_result",
          "data": {
            "text/plain": [
              "array([[42, 42, 42],\n",
              "       [42, 42, 42]])"
            ]
          },
          "metadata": {
            "tags": []
          },
          "execution_count": 11
        }
      ]
    },
    {
      "cell_type": "code",
      "metadata": {
        "colab": {
          "base_uri": "https://localhost:8080/"
        },
        "id": "YsT0g1NWHdI_",
        "outputId": "561ce4e5-5a17-463b-b197-a52a65feaa15"
      },
      "source": [
        "# arange from start (inc) to stop (exc)\n",
        "# integers with step size\n",
        "np.arange(1, 10, 2)"
      ],
      "execution_count": null,
      "outputs": [
        {
          "output_type": "execute_result",
          "data": {
            "text/plain": [
              "array([1, 3, 5, 7, 9])"
            ]
          },
          "metadata": {
            "tags": []
          },
          "execution_count": 12
        }
      ]
    },
    {
      "cell_type": "code",
      "metadata": {
        "colab": {
          "base_uri": "https://localhost:8080/"
        },
        "id": "LmnCf7T9Hwm-",
        "outputId": "dda84854-ea92-49e7-d877-5876047e7572"
      },
      "source": [
        "# create an array of numbers that divides\n",
        "# the space between start and stop (inc, inc)\n",
        "# with X equally spaced intervals\n",
        "np.linspace(0, 10, 5)"
      ],
      "execution_count": null,
      "outputs": [
        {
          "output_type": "execute_result",
          "data": {
            "text/plain": [
              "array([ 0. ,  2.5,  5. ,  7.5, 10. ])"
            ]
          },
          "metadata": {
            "tags": []
          },
          "execution_count": 13
        }
      ]
    },
    {
      "cell_type": "code",
      "metadata": {
        "colab": {
          "base_uri": "https://localhost:8080/"
        },
        "id": "1SYdwv2gHyes",
        "outputId": "1456d7fd-257b-4526-eebb-308f48d61076"
      },
      "source": [
        "# create an array of values drawn from a \n",
        "# uniform distribution\n",
        "np.random.random(5)"
      ],
      "execution_count": null,
      "outputs": [
        {
          "output_type": "execute_result",
          "data": {
            "text/plain": [
              "array([0.37454012, 0.95071431, 0.73199394, 0.59865848, 0.15601864])"
            ]
          },
          "metadata": {
            "tags": []
          },
          "execution_count": 14
        }
      ]
    },
    {
      "cell_type": "code",
      "metadata": {
        "colab": {
          "base_uri": "https://localhost:8080/"
        },
        "id": "7E8VqyzgH7_X",
        "outputId": "40e79676-9588-40be-cd89-5c8255f7af03"
      },
      "source": [
        "# create an array of values from a normal distribution\n",
        "np.random.normal(loc=0, scale=1, size=(5,5))"
      ],
      "execution_count": null,
      "outputs": [
        {
          "output_type": "execute_result",
          "data": {
            "text/plain": [
              "array([[ 0.27904129,  1.01051528, -0.58087813, -0.52516981, -0.57138017],\n",
              "       [-0.92408284, -2.61254901,  0.95036968,  0.81644508, -1.523876  ],\n",
              "       [-0.42804606, -0.74240684, -0.7033438 , -2.13962066, -0.62947496],\n",
              "       [ 0.59772047,  2.55948803,  0.39423302,  0.12221917, -0.51543566],\n",
              "       [-0.60025385,  0.94743982,  0.291034  , -0.63555974, -1.02155219]])"
            ]
          },
          "metadata": {
            "tags": []
          },
          "execution_count": 15
        }
      ]
    },
    {
      "cell_type": "code",
      "metadata": {
        "colab": {
          "base_uri": "https://localhost:8080/"
        },
        "id": "fvXJYM8LlfCy",
        "outputId": "01cdfff6-bf5e-41d8-e0a1-2318483ce0d2"
      },
      "source": [
        "# create an array of random integers between 5 and 10 with shape 2x2\n",
        "np.random.randint(5, 11, (2,2))"
      ],
      "execution_count": null,
      "outputs": [
        {
          "output_type": "execute_result",
          "data": {
            "text/plain": [
              "array([[ 9,  7],\n",
              "       [10,  5]])"
            ]
          },
          "metadata": {
            "tags": []
          },
          "execution_count": 16
        }
      ]
    },
    {
      "cell_type": "markdown",
      "metadata": {
        "id": "FXMyE-lIJX3K"
      },
      "source": [
        "### 2.1.3 Exercise: Creating Arrays\n",
        "\n",
        "a. Create a 5x5 array of ones with datatype `int16`"
      ]
    },
    {
      "cell_type": "code",
      "metadata": {
        "id": "VIlOeZKFIIjH",
        "colab": {
          "base_uri": "https://localhost:8080/"
        },
        "outputId": "2d7b1a46-83bf-4a09-a01a-dfa4bc1f6ad1"
      },
      "source": [
        "# Cell for Ex 3.1.3 a\n",
        "np.ones((5,5),dtype='int16')"
      ],
      "execution_count": null,
      "outputs": [
        {
          "output_type": "execute_result",
          "data": {
            "text/plain": [
              "array([[1, 1, 1, 1, 1],\n",
              "       [1, 1, 1, 1, 1],\n",
              "       [1, 1, 1, 1, 1],\n",
              "       [1, 1, 1, 1, 1],\n",
              "       [1, 1, 1, 1, 1]], dtype=int16)"
            ]
          },
          "metadata": {
            "tags": []
          },
          "execution_count": 17
        }
      ]
    },
    {
      "cell_type": "markdown",
      "metadata": {
        "id": "bXdATo-xJqhs"
      },
      "source": [
        "b. Create an array of 10 numbers drawn from a uniform distribution between 0 and 1"
      ]
    },
    {
      "cell_type": "code",
      "metadata": {
        "id": "UxKs08AeJvgp",
        "colab": {
          "base_uri": "https://localhost:8080/"
        },
        "outputId": "4937a3b6-9ba1-45ac-f301-45294d5ef5a8"
      },
      "source": [
        "# Cell for Ex 3.1.3 b\n",
        "np.random.random(10)"
      ],
      "execution_count": null,
      "outputs": [
        {
          "output_type": "execute_result",
          "data": {
            "text/plain": [
              "array([0.25877998, 0.66252228, 0.31171108, 0.52006802, 0.54671028,\n",
              "       0.18485446, 0.96958463, 0.77513282, 0.93949894, 0.89482735])"
            ]
          },
          "metadata": {
            "tags": []
          },
          "execution_count": 18
        }
      ]
    },
    {
      "cell_type": "markdown",
      "metadata": {
        "id": "jTSLJ8BZJxSD"
      },
      "source": [
        "c. Create an array of 10 numbers drawn from a normal distribution centered at 80 with a standard deviation of 5"
      ]
    },
    {
      "cell_type": "code",
      "metadata": {
        "id": "2ruCGtKWJ1Mv",
        "colab": {
          "base_uri": "https://localhost:8080/"
        },
        "outputId": "f3b6f89d-61fa-4379-ba20-f1b8092e86ce"
      },
      "source": [
        "# Cell for Ex 3.1.3 c\n",
        "np.random.normal(loc=80,scale=5,size=(10))"
      ],
      "execution_count": null,
      "outputs": [
        {
          "output_type": "execute_result",
          "data": {
            "text/plain": [
              "array([79.19122307, 83.6923329 , 80.85684141, 79.42175859, 78.49448152,\n",
              "       72.60739005, 76.40077896, 77.69680615, 85.28561113, 81.71809145])"
            ]
          },
          "metadata": {
            "tags": []
          },
          "execution_count": 19
        }
      ]
    },
    {
      "cell_type": "markdown",
      "metadata": {
        "id": "2EopQALYDarH"
      },
      "source": [
        "d. Create an array of 10 intergers drawn from a uniform distribution between 5 and 10 inclusive"
      ]
    },
    {
      "cell_type": "code",
      "metadata": {
        "id": "aX9kKMOoDR4e",
        "colab": {
          "base_uri": "https://localhost:8080/"
        },
        "outputId": "a5ac1cef-cccc-4388-de9d-161c03eabaa7"
      },
      "source": [
        "# Cell for Ex 3.1.3 d\n",
        "np.random.randint(5,11,(10))"
      ],
      "execution_count": null,
      "outputs": [
        {
          "output_type": "execute_result",
          "data": {
            "text/plain": [
              "array([5, 9, 9, 5, 5, 5, 5, 8, 7, 7])"
            ]
          },
          "metadata": {
            "tags": []
          },
          "execution_count": 20
        }
      ]
    },
    {
      "cell_type": "markdown",
      "metadata": {
        "id": "XB3lGSIZLiLp"
      },
      "source": [
        "## 2.2 NumPy Array Attributes\n",
        "\n",
        "Common array attributes are `shape`, `size`, `nbytes`, and `itemsize`"
      ]
    },
    {
      "cell_type": "code",
      "metadata": {
        "colab": {
          "base_uri": "https://localhost:8080/"
        },
        "id": "QVM8aJzeJ25I",
        "outputId": "f2e6e928-51e7-42f7-a8d1-5b3967c4feda"
      },
      "source": [
        "my_arr = np.random.randint(low=5, high=10, size=(5,5))\n",
        "print(my_arr)"
      ],
      "execution_count": null,
      "outputs": [
        {
          "output_type": "stream",
          "text": [
            "[[5 7 7 5 7]\n",
            " [9 6 6 5 8]\n",
            " [5 8 6 5 9]\n",
            " [7 8 7 7 5]\n",
            " [7 9 7 5 9]]\n"
          ],
          "name": "stdout"
        }
      ]
    },
    {
      "cell_type": "code",
      "metadata": {
        "colab": {
          "base_uri": "https://localhost:8080/"
        },
        "id": "k9OMj2MNMZtB",
        "outputId": "5adbe9de-943f-4c79-dd4f-da7c9f03cca6"
      },
      "source": [
        "my_arr.shape"
      ],
      "execution_count": null,
      "outputs": [
        {
          "output_type": "execute_result",
          "data": {
            "text/plain": [
              "(5, 5)"
            ]
          },
          "metadata": {
            "tags": []
          },
          "execution_count": 22
        }
      ]
    },
    {
      "cell_type": "code",
      "metadata": {
        "colab": {
          "base_uri": "https://localhost:8080/"
        },
        "id": "8hs18geeMhAa",
        "outputId": "2a056dce-64ab-42e8-d091-600ba1b20e97"
      },
      "source": [
        "my_arr.dtype"
      ],
      "execution_count": null,
      "outputs": [
        {
          "output_type": "execute_result",
          "data": {
            "text/plain": [
              "dtype('int64')"
            ]
          },
          "metadata": {
            "tags": []
          },
          "execution_count": 23
        }
      ]
    },
    {
      "cell_type": "code",
      "metadata": {
        "colab": {
          "base_uri": "https://localhost:8080/"
        },
        "id": "mAII2rEEMjTc",
        "outputId": "c97a82ce-e493-4c7b-9d1b-cb86ae97640f"
      },
      "source": [
        "my_arr.size"
      ],
      "execution_count": null,
      "outputs": [
        {
          "output_type": "execute_result",
          "data": {
            "text/plain": [
              "25"
            ]
          },
          "metadata": {
            "tags": []
          },
          "execution_count": 24
        }
      ]
    },
    {
      "cell_type": "code",
      "metadata": {
        "colab": {
          "base_uri": "https://localhost:8080/"
        },
        "id": "kqN8SPbLMo0E",
        "outputId": "581364f0-a34a-45a0-8ae2-bf353395aebc"
      },
      "source": [
        "my_arr.nbytes"
      ],
      "execution_count": null,
      "outputs": [
        {
          "output_type": "execute_result",
          "data": {
            "text/plain": [
              "200"
            ]
          },
          "metadata": {
            "tags": []
          },
          "execution_count": 25
        }
      ]
    },
    {
      "cell_type": "code",
      "metadata": {
        "colab": {
          "base_uri": "https://localhost:8080/"
        },
        "id": "1IQJivfkMrgg",
        "outputId": "b19e4c7e-10a4-4524-f5ae-4b08f78f8322"
      },
      "source": [
        "my_arr.itemsize"
      ],
      "execution_count": null,
      "outputs": [
        {
          "output_type": "execute_result",
          "data": {
            "text/plain": [
              "8"
            ]
          },
          "metadata": {
            "tags": []
          },
          "execution_count": 26
        }
      ]
    },
    {
      "cell_type": "markdown",
      "metadata": {
        "id": "BacsGUbrMwk2"
      },
      "source": [
        "### 2.2.1 Exercise: Conditional Check on Array Attributes\n",
        "\n",
        "write a conditional that checks that the total number of bytes of the array object `my_arr` divided by the size of each item (in bytes) is equal to the number of items in the array (_hint: we covered the attributes above_)"
      ]
    },
    {
      "cell_type": "code",
      "metadata": {
        "colab": {
          "base_uri": "https://localhost:8080/"
        },
        "id": "L3zrgf7aMtHw",
        "outputId": "674bbda1-5234-4b39-c6eb-8880d9014420"
      },
      "source": [
        "# Cell for exercise 3.2.1\n",
        "True if my_arr.nbytes/my_arr.itemsize == my_arr.size else False"
      ],
      "execution_count": null,
      "outputs": [
        {
          "output_type": "execute_result",
          "data": {
            "text/plain": [
              "True"
            ]
          },
          "metadata": {
            "tags": []
          },
          "execution_count": 27
        }
      ]
    },
    {
      "cell_type": "markdown",
      "metadata": {
        "id": "YoiI4E3wL3L6"
      },
      "source": [
        "## 2.3 NumPy Array Slicing, Copying, Setting"
      ]
    },
    {
      "cell_type": "markdown",
      "metadata": {
        "id": "RO2rcfJjNtwS"
      },
      "source": [
        "Array slicing operates much the same way as with python lists"
      ]
    },
    {
      "cell_type": "code",
      "metadata": {
        "colab": {
          "base_uri": "https://localhost:8080/"
        },
        "id": "k2a70tfAL7EX",
        "outputId": "7d8ef3c4-d496-4868-fcc1-2e3efc1fcae2"
      },
      "source": [
        "my_arr"
      ],
      "execution_count": null,
      "outputs": [
        {
          "output_type": "execute_result",
          "data": {
            "text/plain": [
              "array([[5, 7, 7, 5, 7],\n",
              "       [9, 6, 6, 5, 8],\n",
              "       [5, 8, 6, 5, 9],\n",
              "       [7, 8, 7, 7, 5],\n",
              "       [7, 9, 7, 5, 9]])"
            ]
          },
          "metadata": {
            "tags": []
          },
          "execution_count": 28
        }
      ]
    },
    {
      "cell_type": "code",
      "metadata": {
        "colab": {
          "base_uri": "https://localhost:8080/"
        },
        "id": "NgewnFapNxj4",
        "outputId": "47bed696-b1de-4ab0-bb96-4e81d5055fb5"
      },
      "source": [
        "# grab the first row\n",
        "my_arr[0]"
      ],
      "execution_count": null,
      "outputs": [
        {
          "output_type": "execute_result",
          "data": {
            "text/plain": [
              "array([5, 7, 7, 5, 7])"
            ]
          },
          "metadata": {
            "tags": []
          },
          "execution_count": 29
        }
      ]
    },
    {
      "cell_type": "code",
      "metadata": {
        "colab": {
          "base_uri": "https://localhost:8080/"
        },
        "id": "BBNhf0bgNzml",
        "outputId": "82117631-0f65-45ee-cc52-cf5632945b24"
      },
      "source": [
        "# grab the first element of the first row\n",
        "\n",
        "# instead of this\n",
        "print(my_arr[0][0])\n",
        "\n",
        "# we do this\n",
        "print(my_arr[0, 0])"
      ],
      "execution_count": null,
      "outputs": [
        {
          "output_type": "stream",
          "text": [
            "5\n",
            "5\n"
          ],
          "name": "stdout"
        }
      ]
    },
    {
      "cell_type": "markdown",
      "metadata": {
        "id": "_8psMXzMQWT6"
      },
      "source": [
        "We can time these..."
      ]
    },
    {
      "cell_type": "code",
      "metadata": {
        "colab": {
          "base_uri": "https://localhost:8080/"
        },
        "id": "wkQteNGeN2kl",
        "outputId": "a700afcb-693a-4937-e293-4bbcce8500a5"
      },
      "source": [
        "%%timeit\n",
        "my_arr[0][0]"
      ],
      "execution_count": null,
      "outputs": [
        {
          "output_type": "stream",
          "text": [
            "The slowest run took 16.33 times longer than the fastest. This could mean that an intermediate result is being cached.\n",
            "1000000 loops, best of 5: 347 ns per loop\n"
          ],
          "name": "stdout"
        }
      ]
    },
    {
      "cell_type": "code",
      "metadata": {
        "colab": {
          "base_uri": "https://localhost:8080/"
        },
        "id": "gNqa4_IrOB-O",
        "outputId": "5306093c-ed3c-4974-e4d7-9159fd1a2708"
      },
      "source": [
        "%%timeit\n",
        "my_arr[0, 0]"
      ],
      "execution_count": null,
      "outputs": [
        {
          "output_type": "stream",
          "text": [
            "The slowest run took 34.04 times longer than the fastest. This could mean that an intermediate result is being cached.\n",
            "10000000 loops, best of 5: 163 ns per loop\n"
          ],
          "name": "stdout"
        }
      ]
    },
    {
      "cell_type": "markdown",
      "metadata": {
        "id": "Ymasq3u_OLJ7"
      },
      "source": [
        "We can use the same slicing notation as with lists\n",
        "\n",
        "`my_arr[start:stop:step]`\n",
        "\n",
        "for n-dimensional arrays\n",
        "\n",
        "`my_arr[1-start:1-stop:1-step, 2-start:2-stop:2-step, ... n-start:n-stop:n-step]`"
      ]
    },
    {
      "cell_type": "code",
      "metadata": {
        "colab": {
          "base_uri": "https://localhost:8080/"
        },
        "id": "C1TNNwCOODaS",
        "outputId": "cbef33af-7a53-4c68-8449-aa0412e3bc7c"
      },
      "source": [
        "# with arrays, we simply separate each dimension with a comma\n",
        "my_arr[:2, :2]"
      ],
      "execution_count": null,
      "outputs": [
        {
          "output_type": "execute_result",
          "data": {
            "text/plain": [
              "array([[5, 7],\n",
              "       [9, 6]])"
            ]
          },
          "metadata": {
            "tags": []
          },
          "execution_count": 33
        }
      ]
    },
    {
      "cell_type": "markdown",
      "metadata": {
        "id": "M4U0cKOaTP9e"
      },
      "source": [
        "Slices are views not copies. This means we can set slices of arrays to new values, and the original object will change:"
      ]
    },
    {
      "cell_type": "code",
      "metadata": {
        "colab": {
          "base_uri": "https://localhost:8080/"
        },
        "id": "PwvsAFRLORxx",
        "outputId": "09cfbaea-d16b-4932-d0b1-a09041334fa1"
      },
      "source": [
        "my_arr[:2, :2] = 0\n",
        "my_arr"
      ],
      "execution_count": null,
      "outputs": [
        {
          "output_type": "execute_result",
          "data": {
            "text/plain": [
              "array([[0, 0, 7, 5, 7],\n",
              "       [0, 0, 6, 5, 8],\n",
              "       [5, 8, 6, 5, 9],\n",
              "       [7, 8, 7, 7, 5],\n",
              "       [7, 9, 7, 5, 9]])"
            ]
          },
          "metadata": {
            "tags": []
          },
          "execution_count": 34
        }
      ]
    },
    {
      "cell_type": "code",
      "metadata": {
        "colab": {
          "base_uri": "https://localhost:8080/"
        },
        "id": "zQcHeBkoOcsL",
        "outputId": "158b94e1-5931-4562-e09d-d55082cae775"
      },
      "source": [
        "my_arr[-2:, -2:] = 1\n",
        "my_arr"
      ],
      "execution_count": null,
      "outputs": [
        {
          "output_type": "execute_result",
          "data": {
            "text/plain": [
              "array([[0, 0, 7, 5, 7],\n",
              "       [0, 0, 6, 5, 8],\n",
              "       [5, 8, 6, 5, 9],\n",
              "       [7, 8, 7, 1, 1],\n",
              "       [7, 9, 7, 1, 1]])"
            ]
          },
          "metadata": {
            "tags": []
          },
          "execution_count": 35
        }
      ]
    },
    {
      "cell_type": "markdown",
      "metadata": {
        "id": "mMVfG0oCTlpH"
      },
      "source": [
        "Step through an array slice"
      ]
    },
    {
      "cell_type": "code",
      "metadata": {
        "colab": {
          "base_uri": "https://localhost:8080/"
        },
        "id": "OFl8_kyuOgb7",
        "outputId": "4a8c35d9-3f48-4b4e-9e63-cecfc4a16a70"
      },
      "source": [
        "# remember that we can use steps in slicing\n",
        "my_arr[:, ::2] # the last number after :: is the step size"
      ],
      "execution_count": null,
      "outputs": [
        {
          "output_type": "execute_result",
          "data": {
            "text/plain": [
              "array([[0, 7, 7],\n",
              "       [0, 6, 8],\n",
              "       [5, 6, 9],\n",
              "       [7, 7, 1],\n",
              "       [7, 7, 1]])"
            ]
          },
          "metadata": {
            "tags": []
          },
          "execution_count": 36
        }
      ]
    },
    {
      "cell_type": "markdown",
      "metadata": {
        "id": "eL1rPxA_SYoF"
      },
      "source": [
        "We can use negative step sizes the way we do with lists. A negative step size reverses the order of start and stop, so it is a convenient way to reverse the order of one or more dimensions of an array"
      ]
    },
    {
      "cell_type": "code",
      "metadata": {
        "colab": {
          "base_uri": "https://localhost:8080/"
        },
        "id": "REkwRjUDQjSK",
        "outputId": "4854fb9d-4d74-4c38-eabe-8025f2b44a21"
      },
      "source": [
        "# reverse the rows\n",
        "my_arr[::-1]"
      ],
      "execution_count": null,
      "outputs": [
        {
          "output_type": "execute_result",
          "data": {
            "text/plain": [
              "array([[7, 9, 7, 1, 1],\n",
              "       [7, 8, 7, 1, 1],\n",
              "       [5, 8, 6, 5, 9],\n",
              "       [0, 0, 6, 5, 8],\n",
              "       [0, 0, 7, 5, 7]])"
            ]
          },
          "metadata": {
            "tags": []
          },
          "execution_count": 37
        }
      ]
    },
    {
      "cell_type": "code",
      "metadata": {
        "colab": {
          "base_uri": "https://localhost:8080/"
        },
        "id": "f2X31gnkTZau",
        "outputId": "a659dec7-baab-4d37-e5d3-f0b1d23577ec"
      },
      "source": [
        "# reverse the columns\n",
        "my_arr[:, ::-1]"
      ],
      "execution_count": null,
      "outputs": [
        {
          "output_type": "execute_result",
          "data": {
            "text/plain": [
              "array([[7, 5, 7, 0, 0],\n",
              "       [8, 5, 6, 0, 0],\n",
              "       [9, 5, 6, 8, 5],\n",
              "       [1, 1, 7, 8, 7],\n",
              "       [1, 1, 7, 9, 7]])"
            ]
          },
          "metadata": {
            "tags": []
          },
          "execution_count": 38
        }
      ]
    },
    {
      "cell_type": "markdown",
      "metadata": {
        "id": "-Wugfmg_TsmM"
      },
      "source": [
        "Sometimes we want to create a copy of an array, despite the default slicing behavior. We can do this with the `.copy()` method"
      ]
    },
    {
      "cell_type": "code",
      "metadata": {
        "colab": {
          "base_uri": "https://localhost:8080/"
        },
        "id": "CquIZoXRTypP",
        "outputId": "974db72c-cecc-43a0-a01d-8c1a8834d038"
      },
      "source": [
        "new_arr = my_arr.copy()\n",
        "new_arr[:,:] = 0\n",
        "print(my_arr)"
      ],
      "execution_count": null,
      "outputs": [
        {
          "output_type": "stream",
          "text": [
            "[[0 0 7 5 7]\n",
            " [0 0 6 5 8]\n",
            " [5 8 6 5 9]\n",
            " [7 8 7 1 1]\n",
            " [7 9 7 1 1]]\n"
          ],
          "name": "stdout"
        }
      ]
    },
    {
      "cell_type": "markdown",
      "metadata": {
        "id": "528E-yZWPcZe"
      },
      "source": [
        "### 2.3.1 Exercise: Array Setting and Slicing\n",
        "\n",
        "set all the even columns of `my_arr` to 0 and all the odd columns to 1 (interpret the first column to be 1 and the last to be 5, i.e. don't index at 0 when thinking of each column as even/odd!)\n",
        "\n",
        "Example Output:\n",
        "```\n",
        "array([[0, 1, 0, 1, 0],\n",
        "       [0, 1, 0, 1, 0],\n",
        "       [0, 1, 0, 1, 0],\n",
        "       [0, 1, 0, 1, 0],\n",
        "       [0, 1, 0, 1, 0]])\n",
        "```"
      ]
    },
    {
      "cell_type": "code",
      "metadata": {
        "colab": {
          "base_uri": "https://localhost:8080/"
        },
        "id": "cBI4LsdqPSEx",
        "outputId": "a46a54f5-f679-4c89-b5c7-4ac265b13aaa"
      },
      "source": [
        "# Cell for ex 3.3.1\n",
        "my_arr[:,::2] = 0\n",
        "my_arr[:,1::2] = 1\n",
        "my_arr"
      ],
      "execution_count": null,
      "outputs": [
        {
          "output_type": "execute_result",
          "data": {
            "text/plain": [
              "array([[0, 1, 0, 1, 0],\n",
              "       [0, 1, 0, 1, 0],\n",
              "       [0, 1, 0, 1, 0],\n",
              "       [0, 1, 0, 1, 0],\n",
              "       [0, 1, 0, 1, 0]])"
            ]
          },
          "metadata": {
            "tags": []
          },
          "execution_count": 40
        }
      ]
    },
    {
      "cell_type": "markdown",
      "metadata": {
        "id": "GNoDz1cPUK7_"
      },
      "source": [
        "## 2.4 NumPy Array Reshaping, Concatenation, and Splitting\n",
        "\n",
        "reshaping is going to be a common task for us:"
      ]
    },
    {
      "cell_type": "code",
      "metadata": {
        "colab": {
          "base_uri": "https://localhost:8080/"
        },
        "id": "W3FLU0lBPrOR",
        "outputId": "599a1bae-0220-44c2-fe3f-0f5e22c31438"
      },
      "source": [
        "arr = np.arange(9)\n",
        "arr"
      ],
      "execution_count": null,
      "outputs": [
        {
          "output_type": "execute_result",
          "data": {
            "text/plain": [
              "array([0, 1, 2, 3, 4, 5, 6, 7, 8])"
            ]
          },
          "metadata": {
            "tags": []
          },
          "execution_count": 41
        }
      ]
    },
    {
      "cell_type": "code",
      "metadata": {
        "colab": {
          "base_uri": "https://localhost:8080/"
        },
        "id": "WNHgXx7dUwIy",
        "outputId": "46c48621-16d1-47fe-b4f5-389c6417bfe0"
      },
      "source": [
        "# reshape into a 3x3 array\n",
        "arr.reshape(3,3) # rows then columns"
      ],
      "execution_count": null,
      "outputs": [
        {
          "output_type": "execute_result",
          "data": {
            "text/plain": [
              "array([[0, 1, 2],\n",
              "       [3, 4, 5],\n",
              "       [6, 7, 8]])"
            ]
          },
          "metadata": {
            "tags": []
          },
          "execution_count": 42
        }
      ]
    },
    {
      "cell_type": "markdown",
      "metadata": {
        "id": "rkE3t6fcok04"
      },
      "source": [
        "The reshaped dimensions have to be evenly divisible into the total number of elements:\n",
        "\n",
        "_`-1` will infer the proper dimension based on the other dimensions provided and the total number of elements_"
      ]
    },
    {
      "cell_type": "code",
      "metadata": {
        "colab": {
          "base_uri": "https://localhost:8080/"
        },
        "id": "rWfAQuFNoohX",
        "outputId": "139507d4-8a7a-492f-cff3-6cfb206ef7d2"
      },
      "source": [
        "# arr.reshape(4,2) # throws and error\n",
        "arr = np.arange(12)\n",
        "arr.reshape(4,3) "
      ],
      "execution_count": null,
      "outputs": [
        {
          "output_type": "execute_result",
          "data": {
            "text/plain": [
              "array([[ 0,  1,  2],\n",
              "       [ 3,  4,  5],\n",
              "       [ 6,  7,  8],\n",
              "       [ 9, 10, 11]])"
            ]
          },
          "metadata": {
            "tags": []
          },
          "execution_count": 43
        }
      ]
    },
    {
      "cell_type": "markdown",
      "metadata": {
        "id": "35l9zgDxVI2B"
      },
      "source": [
        "A common manipulation in numpy is to convert a 1 dimensional array into a 2 dimensional array. You will see this frequently when working with test/train datasets in machine learning."
      ]
    },
    {
      "cell_type": "code",
      "metadata": {
        "colab": {
          "base_uri": "https://localhost:8080/"
        },
        "id": "P8dCXlGSU1Nt",
        "outputId": "4eee2879-71fd-4ce1-bfe0-af4c5bf79215"
      },
      "source": [
        "arr = np.arange(9)\n",
        "# reshape into 2 dimensions\n",
        "arr.reshape(-1,1)"
      ],
      "execution_count": null,
      "outputs": [
        {
          "output_type": "execute_result",
          "data": {
            "text/plain": [
              "array([[0],\n",
              "       [1],\n",
              "       [2],\n",
              "       [3],\n",
              "       [4],\n",
              "       [5],\n",
              "       [6],\n",
              "       [7],\n",
              "       [8]])"
            ]
          },
          "metadata": {
            "tags": []
          },
          "execution_count": 44
        }
      ]
    },
    {
      "cell_type": "code",
      "metadata": {
        "colab": {
          "base_uri": "https://localhost:8080/"
        },
        "id": "xwsQwOJtVTpY",
        "outputId": "4e57d8cb-79a9-4af6-ee15-a10d1634b4ae"
      },
      "source": [
        "# back to one dimension\n",
        "arr.reshape(9)"
      ],
      "execution_count": null,
      "outputs": [
        {
          "output_type": "execute_result",
          "data": {
            "text/plain": [
              "array([0, 1, 2, 3, 4, 5, 6, 7, 8])"
            ]
          },
          "metadata": {
            "tags": []
          },
          "execution_count": 45
        }
      ]
    },
    {
      "cell_type": "markdown",
      "metadata": {
        "id": "E6itz7imVXr8"
      },
      "source": [
        "We can also concatenate arrays"
      ]
    },
    {
      "cell_type": "code",
      "metadata": {
        "colab": {
          "base_uri": "https://localhost:8080/"
        },
        "id": "u7KHsbmEVZ1F",
        "outputId": "1f3e1288-a276-4712-8106-30d433caf16f"
      },
      "source": [
        "arr1 = np.array([1, 2, 3])\n",
        "arr2 = np.array([4, 5, 6])\n",
        "print(arr1, arr2)"
      ],
      "execution_count": null,
      "outputs": [
        {
          "output_type": "stream",
          "text": [
            "[1 2 3] [4 5 6]\n"
          ],
          "name": "stdout"
        }
      ]
    },
    {
      "cell_type": "code",
      "metadata": {
        "colab": {
          "base_uri": "https://localhost:8080/"
        },
        "id": "eFQ1NUeEV0K-",
        "outputId": "0cf22982-795f-4a30-b7ab-f51bded59e04"
      },
      "source": [
        "# now a single array\n",
        "np.concatenate((arr1, arr2))"
      ],
      "execution_count": null,
      "outputs": [
        {
          "output_type": "execute_result",
          "data": {
            "text/plain": [
              "array([1, 2, 3, 4, 5, 6])"
            ]
          },
          "metadata": {
            "tags": []
          },
          "execution_count": 47
        }
      ]
    },
    {
      "cell_type": "markdown",
      "metadata": {
        "id": "b76KB-yXpdRE"
      },
      "source": [
        "`vstack` or vertical stack will place the two arrays on top of eachother:"
      ]
    },
    {
      "cell_type": "code",
      "metadata": {
        "colab": {
          "base_uri": "https://localhost:8080/"
        },
        "id": "u1Qq_m9UV3GK",
        "outputId": "4973efa9-1695-4503-a38b-e3d9e343ee1f"
      },
      "source": [
        "np.vstack((arr1,arr2))"
      ],
      "execution_count": null,
      "outputs": [
        {
          "output_type": "execute_result",
          "data": {
            "text/plain": [
              "array([[1, 2, 3],\n",
              "       [4, 5, 6]])"
            ]
          },
          "metadata": {
            "tags": []
          },
          "execution_count": 48
        }
      ]
    },
    {
      "cell_type": "markdown",
      "metadata": {
        "id": "Xp2QWDKtpiLL"
      },
      "source": [
        "`hstack` will place them side by side"
      ]
    },
    {
      "cell_type": "code",
      "metadata": {
        "colab": {
          "base_uri": "https://localhost:8080/"
        },
        "id": "Kq9V5YqJV5JC",
        "outputId": "6a51806f-df26-4e03-da66-b4465e329f35"
      },
      "source": [
        "np.hstack((arr1,arr2))"
      ],
      "execution_count": null,
      "outputs": [
        {
          "output_type": "execute_result",
          "data": {
            "text/plain": [
              "array([1, 2, 3, 4, 5, 6])"
            ]
          },
          "metadata": {
            "tags": []
          },
          "execution_count": 49
        }
      ]
    },
    {
      "cell_type": "code",
      "metadata": {
        "colab": {
          "base_uri": "https://localhost:8080/"
        },
        "id": "wpJOsRTOV63O",
        "outputId": "8a8db0b5-d969-4a40-8226-67897fdd21bc"
      },
      "source": [
        "arr1 = np.array([[1, 2, 3],[7,8,9]])\n",
        "arr2 = np.array([4, 5, 6])\n",
        "print(arr1)\n",
        "print(arr2)\n",
        "\n",
        "print(arr1.shape)"
      ],
      "execution_count": null,
      "outputs": [
        {
          "output_type": "stream",
          "text": [
            "[[1 2 3]\n",
            " [7 8 9]]\n",
            "[4 5 6]\n",
            "(2, 3)\n"
          ],
          "name": "stdout"
        }
      ]
    },
    {
      "cell_type": "code",
      "metadata": {
        "colab": {
          "base_uri": "https://localhost:8080/"
        },
        "id": "HNoOGJnxV-Z8",
        "outputId": "a49660f3-cb4b-43b7-f47d-02fdc5d53e79"
      },
      "source": [
        "np.vstack((arr1, arr2))"
      ],
      "execution_count": null,
      "outputs": [
        {
          "output_type": "execute_result",
          "data": {
            "text/plain": [
              "array([[1, 2, 3],\n",
              "       [7, 8, 9],\n",
              "       [4, 5, 6]])"
            ]
          },
          "metadata": {
            "tags": []
          },
          "execution_count": 51
        }
      ]
    },
    {
      "cell_type": "markdown",
      "metadata": {
        "id": "K7dl7txfWUig"
      },
      "source": [
        "Lastly, we can also split arrays. We give the indices where the split should be performed"
      ]
    },
    {
      "cell_type": "code",
      "metadata": {
        "colab": {
          "base_uri": "https://localhost:8080/"
        },
        "id": "fSp1PMa_qT9_",
        "outputId": "2e83db8c-f3cb-41ed-99f2-c7ab2e9f8ddc"
      },
      "source": [
        "arr = np.random.randint(5, 11, (10,10))\n",
        "arr"
      ],
      "execution_count": null,
      "outputs": [
        {
          "output_type": "execute_result",
          "data": {
            "text/plain": [
              "array([[ 6, 10,  7,  5,  6,  6,  8,  9,  7,  5],\n",
              "       [ 8,  9,  8, 10,  9,  9,  7,  9,  8,  9],\n",
              "       [ 7,  7, 10,  8,  6,  6,  9, 10,  5,  9],\n",
              "       [10,  8,  8,  8,  8,  8, 10, 10,  7,  6],\n",
              "       [ 8,  5, 10,  5,  5,  5,  7, 10,  5,  8],\n",
              "       [ 9,  5,  7, 10,  7,  5, 10,  9,  5,  7],\n",
              "       [ 6,  8,  7, 10,  5,  8,  5, 10,  5,  6],\n",
              "       [ 8,  8, 10,  6,  7,  5,  9,  5,  5,  7],\n",
              "       [ 5,  6,  6,  8, 10,  9,  5,  5,  7, 10],\n",
              "       [ 6,  9,  8,  6, 10,  8,  7,  7,  5, 10]])"
            ]
          },
          "metadata": {
            "tags": []
          },
          "execution_count": 52
        }
      ]
    },
    {
      "cell_type": "code",
      "metadata": {
        "colab": {
          "base_uri": "https://localhost:8080/"
        },
        "id": "KtXpxz10WHes",
        "outputId": "edb40e9c-2058-4bbf-d21b-0f883b1fa1d1"
      },
      "source": [
        "a, b = np.split(arr, [5])\n",
        "print(a)\n",
        "print(b)"
      ],
      "execution_count": null,
      "outputs": [
        {
          "output_type": "stream",
          "text": [
            "[[ 6 10  7  5  6  6  8  9  7  5]\n",
            " [ 8  9  8 10  9  9  7  9  8  9]\n",
            " [ 7  7 10  8  6  6  9 10  5  9]\n",
            " [10  8  8  8  8  8 10 10  7  6]\n",
            " [ 8  5 10  5  5  5  7 10  5  8]]\n",
            "[[ 9  5  7 10  7  5 10  9  5  7]\n",
            " [ 6  8  7 10  5  8  5 10  5  6]\n",
            " [ 8  8 10  6  7  5  9  5  5  7]\n",
            " [ 5  6  6  8 10  9  5  5  7 10]\n",
            " [ 6  9  8  6 10  8  7  7  5 10]]\n"
          ],
          "name": "stdout"
        }
      ]
    },
    {
      "cell_type": "code",
      "metadata": {
        "colab": {
          "base_uri": "https://localhost:8080/"
        },
        "id": "F1sGgY03WtMd",
        "outputId": "5a4de5ed-be3a-40d6-d8b7-63dc507bd02d"
      },
      "source": [
        "np.vsplit(arr, [2,4,6,8])"
      ],
      "execution_count": null,
      "outputs": [
        {
          "output_type": "execute_result",
          "data": {
            "text/plain": [
              "[array([[ 6, 10,  7,  5,  6,  6,  8,  9,  7,  5],\n",
              "        [ 8,  9,  8, 10,  9,  9,  7,  9,  8,  9]]),\n",
              " array([[ 7,  7, 10,  8,  6,  6,  9, 10,  5,  9],\n",
              "        [10,  8,  8,  8,  8,  8, 10, 10,  7,  6]]),\n",
              " array([[ 8,  5, 10,  5,  5,  5,  7, 10,  5,  8],\n",
              "        [ 9,  5,  7, 10,  7,  5, 10,  9,  5,  7]]),\n",
              " array([[ 6,  8,  7, 10,  5,  8,  5, 10,  5,  6],\n",
              "        [ 8,  8, 10,  6,  7,  5,  9,  5,  5,  7]]),\n",
              " array([[ 5,  6,  6,  8, 10,  9,  5,  5,  7, 10],\n",
              "        [ 6,  9,  8,  6, 10,  8,  7,  7,  5, 10]])]"
            ]
          },
          "metadata": {
            "tags": []
          },
          "execution_count": 54
        }
      ]
    },
    {
      "cell_type": "code",
      "metadata": {
        "colab": {
          "base_uri": "https://localhost:8080/"
        },
        "id": "ri1ErgORWwdU",
        "outputId": "46d90129-6604-4ba8-bfae-fec002fb9d1a"
      },
      "source": [
        "np.hsplit(arr, [5])"
      ],
      "execution_count": null,
      "outputs": [
        {
          "output_type": "execute_result",
          "data": {
            "text/plain": [
              "[array([[ 6, 10,  7,  5,  6],\n",
              "        [ 8,  9,  8, 10,  9],\n",
              "        [ 7,  7, 10,  8,  6],\n",
              "        [10,  8,  8,  8,  8],\n",
              "        [ 8,  5, 10,  5,  5],\n",
              "        [ 9,  5,  7, 10,  7],\n",
              "        [ 6,  8,  7, 10,  5],\n",
              "        [ 8,  8, 10,  6,  7],\n",
              "        [ 5,  6,  6,  8, 10],\n",
              "        [ 6,  9,  8,  6, 10]]), array([[ 6,  8,  9,  7,  5],\n",
              "        [ 9,  7,  9,  8,  9],\n",
              "        [ 6,  9, 10,  5,  9],\n",
              "        [ 8, 10, 10,  7,  6],\n",
              "        [ 5,  7, 10,  5,  8],\n",
              "        [ 5, 10,  9,  5,  7],\n",
              "        [ 8,  5, 10,  5,  6],\n",
              "        [ 5,  9,  5,  5,  7],\n",
              "        [ 9,  5,  5,  7, 10],\n",
              "        [ 8,  7,  7,  5, 10]])]"
            ]
          },
          "metadata": {
            "tags": []
          },
          "execution_count": 55
        }
      ]
    },
    {
      "cell_type": "markdown",
      "metadata": {
        "id": "h8-4JzxZqqnj"
      },
      "source": [
        "### 2.4.1 Exercise: Reshaping and Concatenating\n",
        "\n",
        "We'll practice a few of these methods we've learned.\n",
        "\n",
        "1. make `arr2` match the shape of `arr1` using `reshape`\n",
        "2. stack `arr1` on top of `arr2` using `vstack` and call this new array `arr`\n",
        "3. replace all the even columns of `arr` with zeros\n",
        "4. return the sum of `arr` using `arr.sum()`\n",
        "\n",
        "starting code:\n",
        "\n",
        "```\n",
        "np.random.seed(42)\n",
        "arr1 = np.random.randint(5, 11, (5,10))\n",
        "arr2 = np.random.randint(5, 11, (10,5))\n",
        "```\n",
        "\n",
        "expected output:\n",
        "\n",
        "```\n",
        "374\n",
        "```"
      ]
    },
    {
      "cell_type": "code",
      "metadata": {
        "colab": {
          "base_uri": "https://localhost:8080/"
        },
        "id": "AQ4itZfsqudA",
        "outputId": "5e969c01-5557-44f5-a660-35e036ccb559"
      },
      "source": [
        "np.random.seed(42)\n",
        "arr1 = np.random.randint(5, 11, (5,10))\n",
        "arr2 = np.random.randint(5, 11, (10,5))\n",
        "print(arr1,end='\\n\\n')\n",
        "print(arr2)"
      ],
      "execution_count": null,
      "outputs": [
        {
          "output_type": "stream",
          "text": [
            "[[ 8  9  7  9  9  6  7  7  7  9]\n",
            " [ 8  7 10  9  6  8 10 10  6  8]\n",
            " [ 9  5  8  6 10  9  8  5  5  7]\n",
            " [ 7  6  8  8 10 10 10  7  8  8]\n",
            " [ 5  7  9  7  9  5  6  8  5  8]]\n",
            "\n",
            "[[10  6  6  5  6]\n",
            " [ 9  6  8  8  8]\n",
            " [ 8  9  7 10  5]\n",
            " [ 8  6  8  6 10]\n",
            " [10 10  6  8 10]\n",
            " [ 9  6  6  8  6]\n",
            " [ 6 10  8 10 10]\n",
            " [ 8  5 10  9  9]\n",
            " [ 6  9  6  5  8]\n",
            " [ 8  8  9  5  9]]\n"
          ],
          "name": "stdout"
        }
      ]
    },
    {
      "cell_type": "code",
      "metadata": {
        "colab": {
          "base_uri": "https://localhost:8080/"
        },
        "id": "3Gf_f4bjq8tQ",
        "outputId": "0cc0fd0d-b633-4c4f-c57e-fe50077f3cb2"
      },
      "source": [
        "# cell for Ex 3.4.1\n",
        "arr2 = arr2.reshape(arr1.shape)\n",
        "arr = np.vstack((arr1, arr2))\n",
        "arr[:,1::2] = 0\n",
        "arr.sum()"
      ],
      "execution_count": null,
      "outputs": [
        {
          "output_type": "execute_result",
          "data": {
            "text/plain": [
              "374"
            ]
          },
          "metadata": {
            "tags": []
          },
          "execution_count": 57
        }
      ]
    },
    {
      "cell_type": "markdown",
      "metadata": {
        "id": "4jvaFov5o5F-"
      },
      "source": [
        "## 2.5 Additional Exercises"
      ]
    },
    {
      "cell_type": "markdown",
      "metadata": {
        "id": "0PPaZvlct0fH"
      },
      "source": [
        "### 2.5.1 Exercise: boolean Array\n",
        "\n",
        "Create a 3x3 array of all True's (booleans)"
      ]
    },
    {
      "cell_type": "code",
      "metadata": {
        "id": "9lphFb2ksnEC",
        "colab": {
          "base_uri": "https://localhost:8080/"
        },
        "outputId": "9472b056-5beb-4125-8b98-61680966970d"
      },
      "source": [
        "# cell for 3.5.1\n",
        "np.full((3,3),True)"
      ],
      "execution_count": null,
      "outputs": [
        {
          "output_type": "execute_result",
          "data": {
            "text/plain": [
              "array([[ True,  True,  True],\n",
              "       [ True,  True,  True],\n",
              "       [ True,  True,  True]])"
            ]
          },
          "metadata": {
            "tags": []
          },
          "execution_count": 58
        }
      ]
    },
    {
      "cell_type": "markdown",
      "metadata": {
        "id": "6I9yYNVX4AVk"
      },
      "source": [
        "### 2.5.2 Exercise: Index on Conditional\n",
        "\n",
        "extract all numbers divisible by 3\n",
        "\n",
        "```\n",
        "arr = np.array([0, 1, 2, 3, 4, 5, 6, 7, 8, 9])\n",
        "```"
      ]
    },
    {
      "cell_type": "code",
      "metadata": {
        "id": "aAdTRdS84KoA",
        "colab": {
          "base_uri": "https://localhost:8080/"
        },
        "outputId": "ef0d9963-d0c3-4e72-9465-6975a4bb0413"
      },
      "source": [
        "# cell for 3.5.2\n",
        "arr = np.array([0, 1, 2, 3, 4, 5, 6, 7, 8, 9])\n",
        "arr[arr % 3 == 0]"
      ],
      "execution_count": null,
      "outputs": [
        {
          "output_type": "execute_result",
          "data": {
            "text/plain": [
              "array([0, 3, 6, 9])"
            ]
          },
          "metadata": {
            "tags": []
          },
          "execution_count": 59
        }
      ]
    },
    {
      "cell_type": "markdown",
      "metadata": {
        "id": "CPAEnQOg4jyy"
      },
      "source": [
        "### 2.5.3 `np.where`\n",
        "\n",
        "There is a nifty tool, `np.where()`. The syntax works like `np.where(<where this condition is true> , <return elements from this array>, <otherwise return elements from this aray>)`"
      ]
    },
    {
      "cell_type": "code",
      "metadata": {
        "colab": {
          "base_uri": "https://localhost:8080/"
        },
        "id": "yzF9NPCn4Mss",
        "outputId": "ce36de50-4566-4dfc-baa0-eafdf0c57b5d"
      },
      "source": [
        "# Example\n",
        "a = np.arange(10)\n",
        "np.where(a<5, a, a*10)"
      ],
      "execution_count": null,
      "outputs": [
        {
          "output_type": "execute_result",
          "data": {
            "text/plain": [
              "array([ 0,  1,  2,  3,  4, 50, 60, 70, 80, 90])"
            ]
          },
          "metadata": {
            "tags": []
          },
          "execution_count": 60
        }
      ]
    },
    {
      "cell_type": "markdown",
      "metadata": {
        "id": "q9VDLHKo5Dw7"
      },
      "source": [
        "\n",
        "### 2.5.4 `np.argwhere`\n",
        "\n",
        "A similar but slightly different tool is `np.argwhere` which will return the indices of the array where the conditional is true"
      ]
    },
    {
      "cell_type": "code",
      "metadata": {
        "colab": {
          "base_uri": "https://localhost:8080/"
        },
        "id": "VNIiI71w424D",
        "outputId": "d523733c-508e-483d-fcaf-252e6813c8cd"
      },
      "source": [
        "# Example\n",
        "np.argwhere(a<5)"
      ],
      "execution_count": null,
      "outputs": [
        {
          "output_type": "execute_result",
          "data": {
            "text/plain": [
              "array([[0],\n",
              "       [1],\n",
              "       [2],\n",
              "       [3],\n",
              "       [4]])"
            ]
          },
          "metadata": {
            "tags": []
          },
          "execution_count": 61
        }
      ]
    },
    {
      "cell_type": "markdown",
      "metadata": {
        "id": "kXXtV9eW513-"
      },
      "source": [
        "### 2.5.5 Exercise: Edit a Copy not a View\n",
        "\n",
        "replace all odd numbers in `arr` with -1 without changing `arr` (return a new array using `np.where`)"
      ]
    },
    {
      "cell_type": "code",
      "metadata": {
        "id": "PFsqaXw75Jgk",
        "colab": {
          "base_uri": "https://localhost:8080/"
        },
        "outputId": "d6ef86fd-c6ce-437a-bc23-b57fc6674b2b"
      },
      "source": [
        "# cell for 3.5.5\n",
        "arr = np.array([0, 1, 2, 3, 4, 5, 6, 7, 8, 9])\n",
        "np.where(arr%2 != 0, -1,arr)"
      ],
      "execution_count": null,
      "outputs": [
        {
          "output_type": "execute_result",
          "data": {
            "text/plain": [
              "array([ 0, -1,  2, -1,  4, -1,  6, -1,  8, -1])"
            ]
          },
          "metadata": {
            "tags": []
          },
          "execution_count": 62
        }
      ]
    },
    {
      "cell_type": "markdown",
      "metadata": {
        "id": "5-5vPilS75PB"
      },
      "source": [
        "### 2.5.6 Exercise: Read NumPy Documentation\n",
        "\n",
        "create the following array without hard coading (i.e. don't write any of the values in your coad)\n",
        "\n",
        "```\n",
        "a = np.array([1,2,3])`\n",
        "# desired output:\n",
        "#> array([1, 1, 1, 2, 2, 2, 3, 3, 3, 1, 2, 3, 1, 2, 3, 1, 2, 3])\n",
        "```\n",
        "\n",
        "Hints:\n",
        "\n",
        "* [repeat](https://numpy.org/doc/stable/reference/generated/numpy.repeat.html)\n",
        "* [tile](https://numpy.org/doc/stable/reference/generated/numpy.tile.html)"
      ]
    },
    {
      "cell_type": "code",
      "metadata": {
        "id": "Hty9Jez9797t",
        "colab": {
          "base_uri": "https://localhost:8080/"
        },
        "outputId": "0db68bb9-5483-4de9-d156-061be06bf43a"
      },
      "source": [
        "# cell for 3.5.6\n",
        "a = np.array([1,2,3])\n",
        "# desired output:\n",
        "#> array([1, 1, 1, 2, 2, 2, 3, 3, 3, 1, 2, 3, 1, 2, 3, 1, 2, 3])\n",
        "np.concatenate((np.repeat(a,3), np.tile(a, 3)))"
      ],
      "execution_count": null,
      "outputs": [
        {
          "output_type": "execute_result",
          "data": {
            "text/plain": [
              "array([1, 1, 1, 2, 2, 2, 3, 3, 3, 1, 2, 3, 1, 2, 3, 1, 2, 3])"
            ]
          },
          "metadata": {
            "tags": []
          },
          "execution_count": 63
        }
      ]
    },
    {
      "cell_type": "markdown",
      "metadata": {
        "id": "w__0vO9f_Hoj"
      },
      "source": [
        "### 2.5.7 Exercise: More Slicing\n",
        "\n",
        "swap columns 2 and 3 in `arr`"
      ]
    },
    {
      "cell_type": "code",
      "metadata": {
        "id": "NiQB_GNd-2-K",
        "colab": {
          "base_uri": "https://localhost:8080/"
        },
        "outputId": "f790d38c-a7f3-42c5-d328-0147b50ddcd3"
      },
      "source": [
        "# cell for 3.5.7\n",
        "arr = np.arange(9).reshape(3,3)\n",
        "arr[:,[1,2]] = arr[:,[2,1]]\n",
        "arr"
      ],
      "execution_count": null,
      "outputs": [
        {
          "output_type": "execute_result",
          "data": {
            "text/plain": [
              "array([[0, 2, 1],\n",
              "       [3, 5, 4],\n",
              "       [6, 8, 7]])"
            ]
          },
          "metadata": {
            "tags": []
          },
          "execution_count": 64
        }
      ]
    },
    {
      "cell_type": "markdown",
      "metadata": {
        "id": "EahIZRJs7U0b"
      },
      "source": [
        "## 2.4 Debugging \n",
        "\n",
        "> It’s always important to check that our code is “plugged in”, i.e., that we’re actually exercising the problem that we think we are. Every programmer has spent hours chasing a bug, only to realize that they were actually calling their code on the wrong data set or with the wrong configuration parameters, or are using the wrong version of the software entirely. Mistakes like these are particularly likely to happen when we’re tired, frustrated, and up against a deadline, which is one of the reasons late-night (or overnight) coding sessions are almost never worthwhile. -[swcarpentry](https://swcarpentry.github.io/python-novice-inflammation/11-debugging/index.html)\n",
        "\n",
        "We'll now dedicated some discussion and practice to debugging python. This easy to overlook topic can save us oodles of time down the road. It's worth the investment.\n",
        "\n",
        "Borrowing from software carpentry, we'll highlight the key guidlines to debugging code:\n",
        "\n",
        "1. Know what it's supposed to do\n",
        "2. Make it fail every time\n",
        "3. Make it fail fast\n",
        "4. Change one thing at a time, for a reason\n",
        "5. Keep track of what you've done\n",
        "6. Be humble"
      ]
    },
    {
      "cell_type": "markdown",
      "metadata": {
        "id": "2ll7JuBguC3L"
      },
      "source": [
        "### 2.4.0 Before We Get Started\n",
        "\n",
        "We will refer to writing tests, and specifically writing _unit tests_ in this module. Don't worry too much about the specifics of _unit tests_ for now. We will have a dedicated module for that. What we do need to talk about is a specific built in function in python called the `assert` function"
      ]
    },
    {
      "cell_type": "markdown",
      "metadata": {
        "id": "WeELH5izfpcW"
      },
      "source": [
        "#### 2.4.0.1 the `assert` function\n",
        "\n",
        "Let's take a simple example of the assert function. If I wanted to test that the sume of two numbers is correct"
      ]
    },
    {
      "cell_type": "code",
      "metadata": {
        "id": "dHJEOhTheT5I"
      },
      "source": [
        "assert sum([2, 5]) == 7, \"should be 7\""
      ],
      "execution_count": null,
      "outputs": []
    },
    {
      "cell_type": "markdown",
      "metadata": {
        "id": "vapg_Y96jePB"
      },
      "source": [
        "Nothing is sent to the print out because the condition is satisfied. If we run, however:\n",
        "\n",
        "```\n",
        "assert sum([2, 4]) == 7, \"should be 7\"\n",
        "```\n",
        "\n",
        "we get an error message:\n",
        "\n",
        "```\n",
        "---------------------------------------------------------------------------\n",
        "AssertionError                            Traceback (most recent call last)\n",
        "<ipython-input-3-d5724b127818> in <module>()\n",
        "----> 1 assert sum([2, 4]) == 7, \"should be 7\"\n",
        "\n",
        "AssertionError: should be 7\n",
        "```\n"
      ]
    },
    {
      "cell_type": "markdown",
      "metadata": {
        "id": "_myc2iDDjqmk"
      },
      "source": [
        "Now to make this a test, you will want to wrap it in a function"
      ]
    },
    {
      "cell_type": "code",
      "metadata": {
        "colab": {
          "base_uri": "https://localhost:8080/"
        },
        "id": "mxdkoYntjt1E",
        "outputId": "ec562475-beed-435f-da81-01221fecff6c"
      },
      "source": [
        "def test_sum():\n",
        "    assert sum([1, 2, 3]) == 6, \"Should be 6\"\n",
        "\n",
        "test_sum()\n",
        "print(\"Everything passed\")"
      ],
      "execution_count": null,
      "outputs": [
        {
          "output_type": "stream",
          "text": [
            "Everything passed\n"
          ],
          "name": "stdout"
        }
      ]
    },
    {
      "cell_type": "markdown",
      "metadata": {
        "id": "QP4xzyYGLJRG"
      },
      "source": [
        "And if we include a test that does not pass:\n",
        "\n",
        "```\n",
        "def test_sum():\n",
        "  assert sum([3, 3]) == 6, \"Should be 6\"\n",
        "\n",
        "def test_my_broken_func():\n",
        "  assert sum([1, 2]) == 5, \"Should be 5\"\n",
        "\n",
        "test_sum()\n",
        "test_my_broken_func()\n",
        "print(\"Everything passed\")\n",
        "```\n",
        "\n"
      ]
    },
    {
      "cell_type": "markdown",
      "metadata": {
        "id": "QDrcx65ymKd4"
      },
      "source": [
        "Here our test fails, because the sum of 1 and 2 is 3 and not 5. We get a traceback that tells us the source of the error:\n",
        "\n",
        "```\n",
        "---------------------------------------------------------------------------\n",
        "AssertionError                            Traceback (most recent call last)\n",
        "<ipython-input-13-8a552fbf52bd> in <module>()\n",
        "      6 \n",
        "      7 test_sum()\n",
        "----> 8 test_my_broken_func()\n",
        "      9 print(\"Everything passed\")\n",
        "\n",
        "<ipython-input-13-8a552fbf52bd> in test_my_broken_func()\n",
        "      3 \n",
        "      4 def test_my_broken_func():\n",
        "----> 5   assert sum([1, 2]) == 5, \"Should be 5\"\n",
        "      6 \n",
        "      7 test_sum()\n",
        "\n",
        "AssertionError: Should be 5\n",
        "```\n",
        "\n"
      ]
    },
    {
      "cell_type": "markdown",
      "metadata": {
        "id": "0VVDeKVxuvmW"
      },
      "source": [
        "We will worry about the intricacies of what to test for and when to test at a later time. For now, we just need to understand the assert function so we can practice debugging and writing short tests for the problems that we fix today! Ok LETS GO"
      ]
    },
    {
      "cell_type": "markdown",
      "metadata": {
        "id": "9TaAWO0q7YGx"
      },
      "source": [
        "### 2.4.1 Know what it's supposed to do\n",
        "\n",
        "This may seem obvious, but it's easy to recognize that an error is happening without knowing what the correct answer is. This makes unit tests especially handy, they force us to know the expected outcome at least for intended use cases. Here are some tips in regard to knowing the expected outcome:\n",
        "\n",
        "* _test with simplified data_ \n",
        "* _test a simplified case_\n",
        "* _compare to a base model_\n",
        "* _visualize_"
      ]
    },
    {
      "cell_type": "markdown",
      "metadata": {
        "id": "7Tzvjc2SBjO4"
      },
      "source": [
        "### 2.4.2 Make it fail every time\n",
        "\n",
        "It can be extraordinarily difficult to debug code that is precidated on some stochastic process. _remove stochasticity when possible_. For instance, seed your random value generators (`random.seed()`, `np.random.seed()`)"
      ]
    },
    {
      "cell_type": "markdown",
      "metadata": {
        "id": "V5DSiFh3DUhM"
      },
      "source": [
        "### 2.4.3 Make it fail fast\n",
        "\n",
        "a corrolary to this, is narrow down the source of the error, and again this is why we write unit tests before integration tests. If it takes 20 minutes to train your neural network, and the error occurs during some post processing plotting of your loss history, obviously don't retrain the NN each time you iterate over the failure. Along the same lines, if you're debugging something in a for loop, run the loop once, or run the indented code outside of the loop with a placeholder for the iterated variable, in order to test and debug the code. "
      ]
    },
    {
      "cell_type": "markdown",
      "metadata": {
        "id": "VOBMdatcEWmY"
      },
      "source": [
        "### 2.4.4 Change one thing at a time, for a reason\n",
        "\n",
        "Not much nuance here. Just like it's a good idea for us to change one aspect of our machine learning models and track the performance rather than to change multiple things at once, it's better to change one feature when debugging at a time. Changing multiple things at once creates interaction effects that can complicate the whole problem!"
      ]
    },
    {
      "cell_type": "markdown",
      "metadata": {
        "id": "kGaZz-Q1E7wd"
      },
      "source": [
        "### 2.4.5 Keep track of what you've done\n",
        "\n",
        "This is where git/GitHub come in handy. It's so incredibly easy to forget what you've done, and, a weeks or days later from the time you first encountered the bug, forget whether you fixed it, did a temp fix, and/or what you did to fix it.\n",
        "\n",
        "> my tip: if you're working in a jupyter notebook, something I do is write at the top of my notebook my TO DO items. I then strike through items I complete, and update my notes for the next time I work on the code. Similarly, I name my notebooks to reflect and categorize what they are about. Primarily I have `test_<thing>.ipynb` and `prototype_<thingy>.ipynb`\n",
        "\n"
      ]
    },
    {
      "cell_type": "markdown",
      "metadata": {
        "id": "RoqZxOvZHf-c"
      },
      "source": [
        "### 2.4.6 Be humble\n",
        "\n",
        "Lastly, ask for help. Take breaks. _A week of hard work can sometimes save you an hour of thought._"
      ]
    },
    {
      "cell_type": "markdown",
      "metadata": {
        "id": "DxOdEEh_dsMO"
      },
      "source": [
        "### 2.4.7 Exercise: Debug A Short Code Block\n",
        "\n",
        "Your friend is writing a function to calculate BMI. They are concerned that seemingly all the patient's values have the same BMI, despite having different heights and weights. Determine the bugs in the code then write a unit test for the function `calculate_bmi`."
      ]
    },
    {
      "cell_type": "code",
      "metadata": {
        "id": "XOAtSb0pLSBN",
        "colab": {
          "base_uri": "https://localhost:8080/"
        },
        "outputId": "f2f0caf1-23c6-412e-a940-00de1c7b6bcd"
      },
      "source": [
        "# [weight (kg), height (m)]\n",
        "patients = [[70, 1.8], [80, 1.9], [150, 1.7]] \n",
        "\n",
        "def calculate_bmi(weight, height):\n",
        "    # kg / m ** 2 = bmi\n",
        "    return weight / (height ** 2)\n",
        "\n",
        "for patient in patients:\n",
        "    weight, height = patients[0] \n",
        "    bmi = calculate_bmi(height, weight) \n",
        "    print(\"Patient's BMI is: %f\" % bmi)"
      ],
      "execution_count": null,
      "outputs": [
        {
          "output_type": "stream",
          "text": [
            "Patient's BMI is: 0.000367\n",
            "Patient's BMI is: 0.000367\n",
            "Patient's BMI is: 0.000367\n"
          ],
          "name": "stdout"
        }
      ]
    },
    {
      "cell_type": "code",
      "metadata": {
        "colab": {
          "base_uri": "https://localhost:8080/"
        },
        "id": "6pD3IVwDQq92",
        "outputId": "900b0861-f270-4be5-b708-521331b7d813"
      },
      "source": [
        "# [weight (kg), height (m)]\n",
        "patients = [[70, 1.8], [80, 1.9], [150, 1.7]] \n",
        "\n",
        "def calculate_bmi(weight, height):\n",
        "    # kg / m ** 2 = bmi\n",
        "    return weight / (height ** 2)\n",
        "\n",
        "for patient in patients:\n",
        "    weight, height = patient ### not properly referencing iterated variable\n",
        "    bmi = calculate_bmi(weight, height) ### should be swapped\n",
        "    print(\"Patient's BMI is: %f\" % bmi)"
      ],
      "execution_count": null,
      "outputs": [
        {
          "output_type": "stream",
          "text": [
            "Patient's BMI is: 21.604938\n",
            "Patient's BMI is: 22.160665\n",
            "Patient's BMI is: 51.903114\n"
          ],
          "name": "stdout"
        }
      ]
    },
    {
      "cell_type": "code",
      "metadata": {
        "colab": {
          "base_uri": "https://localhost:8080/"
        },
        "id": "4y4IUzFsQ9pT",
        "outputId": "94fd3087-750a-4a00-c547-262cbf1567c7"
      },
      "source": [
        "def test_calculate_bmi():\n",
        "  patients = [[70, 1.8], [80, 1.9], [150, 1.7]] \n",
        "  bmis = [21.6, 22.16, 51.9]\n",
        "\n",
        "  for patient, bmi_ in zip(patients, bmis):\n",
        "    weight, height = patient ### not properly referencing iterated variable\n",
        "    bmi = calculate_bmi(weight, height) ### should be swapped\n",
        "    assert np.abs(bmi - bmi_) < 0.1, \"fail calc for {}\".format(patient)\n",
        "    \n",
        "test_calculate_bmi()\n",
        "print(\"success!\")"
      ],
      "execution_count": null,
      "outputs": [
        {
          "output_type": "stream",
          "text": [
            "success!\n"
          ],
          "name": "stdout"
        }
      ]
    },
    {
      "cell_type": "markdown",
      "metadata": {
        "id": "ueveZOtAeYG3"
      },
      "source": [
        "### 2.4.8 Exercise: Debug a Class Method\n",
        "\n",
        "Your friend is developing a new pokemon game. They are excited to release but are running into some trouble! "
      ]
    },
    {
      "cell_type": "code",
      "metadata": {
        "id": "SIPJdcmqdKql"
      },
      "source": [
        "class Pokeball:\n",
        "  def __init__(self, contains=None, type_name=\"poke ball\"):\n",
        "    self.contains = contains\n",
        "    self.type_name = type_name\n",
        "    self.catch_rate = 0.50 # note this attribute is not accessible upon init\n",
        "\n",
        "  # the method catch, will update self.contains, if a catch is successful\n",
        "  # it will also use self.catch_rate to set the performance of the catch\n",
        "  def catch(self, pokemon):\n",
        "    if self.contains == None:\n",
        "      if random.random() < self.catch_rate:\n",
        "        self.contains = pokemon\n",
        "        print(f\"{pokemon} captured!\")\n",
        "      else:\n",
        "        print(f\"{pokemon} escaped!\")\n",
        "        pass\n",
        "    else:\n",
        "      print(\"pokeball is not empty!\")\n",
        "      \n",
        "  def release(self):\n",
        "    if self.contains == None:\n",
        "      print(\"Pokeball is already empty\")\n",
        "    else:\n",
        "      print(self.contains, \"has been released\")\n",
        "      self.contains = None\n",
        "\n",
        "\n",
        "class Pokemon():\n",
        "  def __init__(self, name, weight, speed, type_):\n",
        "    self.name = name\n",
        "    self.weight = weight\n",
        "    self.speed = speed\n",
        "    self.type_ = type_\n",
        "\n",
        "class FastBall(Pokeball):\n",
        "  def __init__(self, contains=None, type_name=\"Fastball\"):\n",
        "    Pokeball.__init__(self, contains, type_name)\n",
        "    self.catch_rate = 0.6\n",
        "\n",
        "  def catch_fast(self, pokemon):\n",
        "    if pokemon.speed > 100:\n",
        "      if self.contains == None:\n",
        "        self.contains = pokemon.name #contains should be set to the name of the pokemon and not the pokemon object\n",
        "        print(pokemon.name, \"has been captured\")\n",
        "      else:\n",
        "        print(\"Pokeball is not empty\")\n",
        "    else:\n",
        "      self.catch(pokemon)\n"
      ],
      "execution_count": null,
      "outputs": []
    },
    {
      "cell_type": "markdown",
      "metadata": {
        "id": "_CCnneo8mLba"
      },
      "source": [
        "They're concerned that the object `FastBall` doesn't return the pokemon's name when executing `print(fast.contains)` when they know the pokeball contains a pokemon. Help them find the bug, then write the following unit tests:\n",
        "\n",
        "1. showing that the pokeball updates properly with the name of the pokemon after it makes a capture of a pokemon with a speed > 100\n",
        "2. showing that the `catch_rate` of 0.6 is resulting in a 60% catch rate for pokemon with speeds < 100"
      ]
    },
    {
      "cell_type": "code",
      "metadata": {
        "colab": {
          "base_uri": "https://localhost:8080/"
        },
        "id": "H5Z76ouXT8KF",
        "outputId": "7f05f9af-9278-48dd-8713-46d9bb9328a8"
      },
      "source": [
        "# Your friend shows you this code \n",
        "fast = FastBall()\n",
        "\n",
        "mewtwo = Pokemon(name='Mewtwo', \n",
        "                 weight=18,\n",
        "                 speed=110, \n",
        "                 type_='Psychic')\n",
        "\n",
        "print(fast.contains)\n",
        "\n",
        "fast.catch_fast(mewtwo)\n",
        "\n",
        "# this is the line they are concerned about\n",
        "# why does this not return MewTwo?\n",
        "print(fast.contains)\n",
        "\n",
        "fast.catch_fast(mewtwo)"
      ],
      "execution_count": null,
      "outputs": [
        {
          "output_type": "stream",
          "text": [
            "None\n",
            "Mewtwo has been captured\n",
            "Mewtwo\n",
            "Pokeball is not empty\n"
          ],
          "name": "stdout"
        }
      ]
    },
    {
      "cell_type": "code",
      "metadata": {
        "colab": {
          "base_uri": "https://localhost:8080/"
        },
        "id": "ykLVkETGonTd",
        "outputId": "59b25894-25bd-499e-e582-63142667ef0c"
      },
      "source": [
        "def test_pokeball():\n",
        "    # Test to check contains for speed > 100\n",
        "    fast_charmander = FastBall()\n",
        "    charmander = Pokemon(name='Charmander', \n",
        "                      weight=18,\n",
        "                      speed=110, \n",
        "                      type_='Psychic')\n",
        "    fast_charmander.catch_fast(charmander)\n",
        "    assert fast_charmander.contains == \"Charmander\", \"Charmander not captured\"\n",
        "\n",
        "    # Test to check the catch rate for speed < 100\n",
        "    catch_status = []\n",
        "    for i in range(1000):\n",
        "      fast = FastBall()\n",
        "      mewtwo = Pokemon(name='Mewtwo', \n",
        "                      weight=18,\n",
        "                      speed=90, \n",
        "                      type_='Psychic')\n",
        "      with suppress_stdout():\n",
        "        fast.catch_fast(mewtwo)\n",
        "      catch_status.append(False if fast.contains == None else True) \n",
        "    catch_count = np.count_nonzero(np.array(catch_status)) #counting True (pokemon was indeed caught)\n",
        "    catch_rate = np.round(catch_count/1000, 1) #calculating\n",
        "    assert catch_rate == 0.6, \"Catch rate not up to mark\"\n",
        "\n",
        "test_pokeball()\n",
        "print(\"success!\")"
      ],
      "execution_count": null,
      "outputs": [
        {
          "output_type": "stream",
          "text": [
            "Charmander has been captured\n",
            "success!\n"
          ],
          "name": "stdout"
        }
      ]
    },
    {
      "cell_type": "markdown",
      "metadata": {
        "id": "sp3yreNk5iN7"
      },
      "source": [
        "# Part 2 (Optional): Use a Test Runner"
      ]
    },
    {
      "cell_type": "markdown",
      "metadata": {
        "id": "g58ZI-EIeakm"
      },
      "source": [
        "Create the following files:\n",
        "\n",
        "* `pokemon.py`\n",
        "* `test_pokemon.py`\n",
        "\n",
        "paste the following into `pokemon.py`:\n",
        "\n",
        "```\n",
        "import random\n",
        "import numpy as np\n",
        "\n",
        "class Pokeball:\n",
        "  def __init__(self, contains=None, type_name=\"poke ball\"):\n",
        "    self.contains = contains\n",
        "    self.type_name = type_name\n",
        "    self.catch_rate = 0.50 # note this attribute is not accessible upon init\n",
        "\n",
        "  # the method catch, will update self.contains, if a catch is successful\n",
        "  # it will also use self.catch_rate to set the performance of the catch\n",
        "  def catch(self, pokemon):\n",
        "    if self.contains == None:\n",
        "      if random.random() < self.catch_rate:\n",
        "        self.contains = pokemon\n",
        "        print(f\"{pokemon} captured!\")\n",
        "      else:\n",
        "        print(f\"{pokemon} escaped!\")\n",
        "        pass\n",
        "    else:\n",
        "      print(\"pokeball is not empty!\")\n",
        "      \n",
        "  def release(self):\n",
        "    if self.contains == None:\n",
        "      print(\"Pokeball is already empty\")\n",
        "    else:\n",
        "      print(self.contains, \"has been released\")\n",
        "      self.contains = None\n",
        "\n",
        "\n",
        "class Pokemon():\n",
        "  def __init__(self, name, weight, speed, type_):\n",
        "    self.name = name\n",
        "    self.weight = weight\n",
        "    self.speed = speed\n",
        "    self.type_ = type_\n",
        "\n",
        "class FastBall(Pokeball):\n",
        "  def __init__(self, contains=None, type_name=\"Fastball\"):\n",
        "    Pokeball.__init__(self, contains, type_name)\n",
        "    self.catch_rate = 0.6\n",
        "\n",
        "  def catch_fast(self, pokemon):\n",
        "    if pokemon.speed > 100:\n",
        "      if self.contains == None:\n",
        "        self.contains = pokemon\n",
        "        print(pokemon.name, \"has been captured\")\n",
        "      else:\n",
        "        print(\"Pokeball is not empty\")\n",
        "    else:\n",
        "      self.catch(pokemon)\n",
        "\n",
        "```\n",
        "\n",
        "in `test_pokemon.py` paste any unit tests you've written along with the imports at the top of the file (be sure to import any other libraries you used in your unit tests as well)\n",
        "\n",
        "```\n",
        "from pokemon import *\n",
        "import random\n",
        "import numpy as np\n",
        "\n",
        "### YOUR UNIT TESTS HERE ###\n",
        "def test_<name_of_your_test>():\n",
        "  # ....\n",
        "  assert <your assert statement>\n",
        "```\n",
        "\n",
        "make sure `pokemon.py` and `test_pokemon.py` are in the same directory then run the command\n",
        "\n",
        "```\n",
        "pytest\n",
        "```\n",
        "\n",
        "from the command line. You should get a readout like the following\n",
        "\n",
        "```\n",
        "================================================= test session starts ==================================================\n",
        "platform linux -- Python 3.8.1, pytest-6.2.1, py-1.10.0, pluggy-0.13.1\n",
        "rootdir: /mnt/c/Users/wesley/Documents/apps/temp_c3_l2\n",
        "plugins: dash-1.20.0, anyio-2.2.0\n",
        "collected 1 item\n",
        "\n",
        "test_pokemon.py .                                                                                                [100%]\n",
        "\n",
        "================================================== 1 passed in 0.06s ===================================================\n",
        "```"
      ]
    }
  ]
}