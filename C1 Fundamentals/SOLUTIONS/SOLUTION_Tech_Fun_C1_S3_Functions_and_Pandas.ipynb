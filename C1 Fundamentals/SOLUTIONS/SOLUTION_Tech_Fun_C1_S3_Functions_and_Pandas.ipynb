{
  "nbformat": 4,
  "nbformat_minor": 0,
  "metadata": {
    "colab": {
      "name": "SOLUTION Tech Fun C1 S3 Functions and Pandas.ipynb",
      "provenance": [],
      "toc_visible": true,
      "authorship_tag": "ABX9TyOXplhpNE6g6uxL7PCxrjVg",
      "include_colab_link": true
    },
    "kernelspec": {
      "name": "python3",
      "display_name": "Python 3"
    },
    "language_info": {
      "name": "python"
    }
  },
  "cells": [
    {
      "cell_type": "markdown",
      "metadata": {
        "id": "view-in-github",
        "colab_type": "text"
      },
      "source": [
        "<a href=\"https://colab.research.google.com/github/wesleybeckner/technology_fundamentals/blob/main/C1%20Fundamentals/SOLUTIONS/SOLUTION_Tech_Fun_C1_S3_Functions_and_Pandas.ipynb\" target=\"_parent\"><img src=\"https://colab.research.google.com/assets/colab-badge.svg\" alt=\"Open In Colab\"/></a>"
      ]
    },
    {
      "cell_type": "markdown",
      "metadata": {
        "id": "cPmio-GwmEwG"
      },
      "source": [
        "# Technology Fundamentals Course 1, Session 3: Functions and Pandas Introduction\n",
        "\n",
        "**Instructor**: Wesley Beckner<br>\n",
        "\n",
        "**Contact**: wesleybeckner@gmail.com\n",
        "\n",
        "\n",
        "**Teaching Assitants** Varsha Bang, Harsha Vardhan\n",
        "\n",
        "**Contact** vbang@uw.edu, harshav@uw.edu\n",
        "\n",
        "\n",
        "<br>\n",
        "\n",
        "---\n",
        "\n",
        "<br>\n",
        "\n",
        "Today, we will discuss **_functions_** in more depth.  We've seen them previously and used them, for example the `.append()` **_function_** for lists, or the even more general `print()` function.  Here, we'll dig into how you can make your own functions to encapsulate code that you will reuse over and over.  \n",
        "\n",
        "Then we'll jump into the **Pandas** package.  Packages are collections of related functions.  These are the things we `import`. Pandas is a two dimensional data structure like a spreadsheet in Excel. In fact, we will be importing our first dataset and viewing it, with Pandas!\n",
        "\n",
        "<br>\n",
        "\n",
        "---"
      ]
    },
    {
      "cell_type": "markdown",
      "metadata": {
        "id": "5yGc3D7xmEwK"
      },
      "source": [
        "## 3.0 Review from Session on Data Structures and Flow Control\n",
        "\n",
        "In our last session, we discussed **_lists_**, **_dictionaries_**, and **_flow control_**.\n",
        "\n",
        "**_Lists_** are **_ordered collections_** of data that can be used to hold multiple pieces of information while preserving their order.  We use `[` and `]` to access elements by their indices which start with `0`.  All things that operate on **_lists_** like slices use the concept of an inclusive lower bound and an exclusive upper bound.  So, the following gets elements from the **_list_** `my_list` with index values of `0`, `1`, and `2`, but **not** `3`!\n",
        "\n",
        "```\n",
        "my_list[0:3]\n",
        "```\n",
        "\n",
        "> What other way is there of writing the same statement using **_slicing_**?  Hint, think about leaving out one of the numbers in the slice!\n",
        "\n",
        "**_Dictionaries_** are **_named_** **_collections_** of data that can be used to hold multiple pieces of information as **_values_** that are addressed by **_keys_** resulting in a **_key_** to **_value_** data structure.  They are accessed with `[` and `]` but intialized with `{` and `}`.  E.g.\n",
        "\n",
        "```\n",
        "my_dict = { 'cake' : 'Tasty!', 'toenails' : 'Gross!' }\n",
        "my_dict['cake']\n",
        "```\n",
        "\n",
        "Finally, we talked about **_flow control_** and using the concept of **_conditional execution_** to decide which code statements were executed.  Remember this figure?\n",
        "\n",
        "<img src=\"https://docs.oracle.com/cd/B19306_01/appdev.102/b14261/lnpls008.gif\">Flow control figure</img>\n",
        "\n",
        "> What are the **_if_** statments? <br> \n",
        "Where do **_for_** loops fit in? <br>"
      ]
    },
    {
      "cell_type": "markdown",
      "metadata": {
        "id": "PryGZXQwmEwK"
      },
      "source": [
        "## 3.1 Functions\n",
        "\n",
        "For loops let you repeat some code for every item in a list.  Functions are similar in that they run the same lines of code and, frequently, for new values of some variable (we call these **_parameters_**).  They are different in that functions are not limited to looping over items.\n",
        "\n",
        "Functions are a critical part of writing easy to read, reusable code.\n",
        "\n",
        "Create a function like:\n",
        "```\n",
        "def function_name (parameters):\n",
        "    \"\"\"\n",
        "    optional docstring\n",
        "    \"\"\"\n",
        "    function expressions\n",
        "    return [variable]\n",
        "```\n",
        "\n",
        "Here is a simple example.  It prints a string that was passed in and returns nothing.\n",
        "\n",
        "```\n",
        "def print_string(string):\n",
        "    \"\"\"This prints out a string passed as the parameter.\"\"\"\n",
        "    print(string)\n",
        "    return\n",
        "```"
      ]
    },
    {
      "cell_type": "code",
      "metadata": {
        "id": "fV0lZXV9mEwL"
      },
      "source": [
        "def print_string(string):\n",
        "  \"\"\"This prints out a string passed as the parameter\"\"\"\n",
        "  print(string)\n",
        "  return"
      ],
      "execution_count": null,
      "outputs": []
    },
    {
      "cell_type": "markdown",
      "metadata": {
        "id": "h_uE2gUSmEwL"
      },
      "source": [
        "To call the function, use:\n",
        "```\n",
        "print_string(\"GIX is awesome!\")\n",
        "```\n",
        "\n",
        "_Note:_ The function has to be defined before you can call it!"
      ]
    },
    {
      "cell_type": "code",
      "metadata": {
        "id": "NFP4JFtomEwL",
        "colab": {
          "base_uri": "https://localhost:8080/"
        },
        "outputId": "54a70a2a-2534-443f-bf1e-70166a48daa2"
      },
      "source": [
        "print_string(\"GIX is awesome!\")"
      ],
      "execution_count": null,
      "outputs": [
        {
          "output_type": "stream",
          "text": [
            "GIX is awesome!\n"
          ],
          "name": "stdout"
        }
      ]
    },
    {
      "cell_type": "markdown",
      "metadata": {
        "id": "szkTDCxYsRpp"
      },
      "source": [
        "### 3.1.1 Reserved words: def, return, and yield\n",
        "\n",
        "Notice the highlighted words in our function definition: `def` and `return` these are *reserved words* in python used to define functions. Every function definition requires these reserved words. `yield` is another reserved word that is similar to `return` but operates slightly differently. It is beyond the scope of what we are covering in this session. This tutorial from [realpython](https://realpython.com/introduction-to-python-generators/) has good information on the topic."
      ]
    },
    {
      "cell_type": "code",
      "metadata": {
        "id": "ommLRCgi2riF"
      },
      "source": [
        "# what is return doing in this function?\n",
        "def my_square(a):\n",
        "  return a ** 2"
      ],
      "execution_count": null,
      "outputs": []
    },
    {
      "cell_type": "markdown",
      "metadata": {
        "id": "0evV0PZS3Ga8"
      },
      "source": [
        "`return` is going to output whatever value(s) follow after the keyword `return` when we call upon our function "
      ]
    },
    {
      "cell_type": "code",
      "metadata": {
        "colab": {
          "base_uri": "https://localhost:8080/"
        },
        "id": "NRv7pu0Z29hm",
        "outputId": "e46b9c89-adf0-4afd-d378-49a8c9f98beb"
      },
      "source": [
        "a = 2\n",
        "my_square(a)"
      ],
      "execution_count": null,
      "outputs": [
        {
          "output_type": "execute_result",
          "data": {
            "text/plain": [
              "4"
            ]
          },
          "metadata": {
            "tags": []
          },
          "execution_count": 8
        }
      ]
    },
    {
      "cell_type": "markdown",
      "metadata": {
        "id": "dYYNxJrj3RMm"
      },
      "source": [
        "I'm going to return two values..."
      ]
    },
    {
      "cell_type": "code",
      "metadata": {
        "id": "TEpVZ0Kz3NiQ"
      },
      "source": [
        "def my_square(a):\n",
        "  return a ** 2, a"
      ],
      "execution_count": null,
      "outputs": []
    },
    {
      "cell_type": "markdown",
      "metadata": {
        "id": "A6NeWTGd3S1t"
      },
      "source": [
        "and we see how the output updates accordingly"
      ]
    },
    {
      "cell_type": "code",
      "metadata": {
        "colab": {
          "base_uri": "https://localhost:8080/"
        },
        "id": "yOkLJ_iq3PMW",
        "outputId": "4fac61bf-df00-4e27-e8e4-c7bf8678d7f3"
      },
      "source": [
        "my_square(a)"
      ],
      "execution_count": null,
      "outputs": [
        {
          "output_type": "execute_result",
          "data": {
            "text/plain": [
              "(4, 2)"
            ]
          },
          "metadata": {
            "tags": []
          },
          "execution_count": 10
        }
      ]
    },
    {
      "cell_type": "markdown",
      "metadata": {
        "id": "BPFrK7yA3U9Y"
      },
      "source": [
        "We can capture these values on the output with..."
      ]
    },
    {
      "cell_type": "code",
      "metadata": {
        "id": "zsOt4yPL3XUp"
      },
      "source": [
        "a = 3\n",
        "square, new_a = my_square(a)"
      ],
      "execution_count": null,
      "outputs": []
    },
    {
      "cell_type": "code",
      "metadata": {
        "colab": {
          "base_uri": "https://localhost:8080/"
        },
        "id": "wYO67Ddr3Y0w",
        "outputId": "d4fb76fe-c03b-4666-eeb4-7f4c50bc9afa"
      },
      "source": [
        "print(square, new_a)"
      ],
      "execution_count": null,
      "outputs": [
        {
          "output_type": "stream",
          "text": [
            "9 3\n"
          ],
          "name": "stdout"
        }
      ]
    },
    {
      "cell_type": "markdown",
      "metadata": {
        "id": "oVSuBO_Ls_hO"
      },
      "source": [
        "### 3.1.2 Global vs local variables and function parameters\n",
        "\n",
        "In a function, new variables that you create are not saved when the function returns - these are **_local_** variables.  Variables defined outside of the function can be accessed but not changed - these are **_global_** variables.\n",
        "\n",
        "let's define the following function"
      ]
    },
    {
      "cell_type": "code",
      "metadata": {
        "id": "eXFlHTtRsRW0"
      },
      "source": [
        "def my_little_func(a):\n",
        "  b = 10\n",
        "  return a * b"
      ],
      "execution_count": null,
      "outputs": []
    },
    {
      "cell_type": "code",
      "metadata": {
        "colab": {
          "base_uri": "https://localhost:8080/"
        },
        "id": "74dP2ePo3ias",
        "outputId": "a28151ae-17ca-487e-dd8b-7d53c3ab54fe"
      },
      "source": [
        "my_little_func(2)"
      ],
      "execution_count": null,
      "outputs": [
        {
          "output_type": "execute_result",
          "data": {
            "text/plain": [
              "20"
            ]
          },
          "metadata": {
            "tags": []
          },
          "execution_count": 18
        }
      ]
    },
    {
      "cell_type": "markdown",
      "metadata": {
        "id": "pQ9pI9Lf3pJ1"
      },
      "source": [
        "if I run the following..."
      ]
    },
    {
      "cell_type": "code",
      "metadata": {
        "id": "E9pRnD3E3lT0"
      },
      "source": [
        "# b"
      ],
      "execution_count": null,
      "outputs": []
    },
    {
      "cell_type": "markdown",
      "metadata": {
        "id": "aVav_21ItQR1"
      },
      "source": [
        "Let's play with this a little further...\n",
        "\n",
        "...now let's define b outside the function and call our function with `a=5`"
      ]
    },
    {
      "cell_type": "code",
      "metadata": {
        "colab": {
          "base_uri": "https://localhost:8080/"
        },
        "id": "_7QR_kgDtKKS",
        "outputId": "d81f26bd-dda0-48a0-ed66-6fa23cd86cbc"
      },
      "source": [
        "# what happens here?\n",
        "b = 100\n",
        "my_little_func(2)"
      ],
      "execution_count": null,
      "outputs": [
        {
          "output_type": "execute_result",
          "data": {
            "text/plain": [
              "20"
            ]
          },
          "metadata": {
            "tags": []
          },
          "execution_count": 22
        }
      ]
    },
    {
      "cell_type": "code",
      "metadata": {
        "colab": {
          "base_uri": "https://localhost:8080/"
        },
        "id": "v3aThhbFYpUS",
        "outputId": "c095e4e7-d83d-4eaa-fb12-5c18cf26243e"
      },
      "source": [
        "b"
      ],
      "execution_count": null,
      "outputs": [
        {
          "output_type": "execute_result",
          "data": {
            "text/plain": [
              "100"
            ]
          },
          "metadata": {
            "tags": []
          },
          "execution_count": 23
        }
      ]
    },
    {
      "cell_type": "markdown",
      "metadata": {
        "id": "sN68OdV0tYQg"
      },
      "source": [
        "we see that b is still 100, instead of 10 as its defined within the function. This is because b inside of `my_little_func` is a *local* variable. "
      ]
    },
    {
      "cell_type": "markdown",
      "metadata": {
        "id": "NbEQQHj1tXDD"
      },
      "source": [
        "it doesn't matter how I define b outside the function because within the function it is set locally.\n",
        "\n",
        "... Let's do this A LITTLE MORE"
      ]
    },
    {
      "cell_type": "code",
      "metadata": {
        "id": "q6H3Q4i5tNbb"
      },
      "source": [
        "def my_new_func(a):\n",
        "  print(b)\n",
        "  return a*b"
      ],
      "execution_count": null,
      "outputs": []
    },
    {
      "cell_type": "markdown",
      "metadata": {
        "id": "Z6kuw5Sd4I2Q"
      },
      "source": [
        "now if I call on my new function, because `b` is not defined locally within the function, it takes on the global value. \n",
        "\n",
        "This is typically not happy happy fun fun behavior for us, we want to be explicit about how we define and use our variables (but there are some times when this is appropriate to do)"
      ]
    },
    {
      "cell_type": "code",
      "metadata": {
        "colab": {
          "base_uri": "https://localhost:8080/"
        },
        "id": "sgFBFzSU38bL",
        "outputId": "e8a041fe-1bb7-48e1-b726-d29b5b506c27"
      },
      "source": [
        "b = 100\n",
        "a = 2 # side note, what did I do here????\n",
        "my_new_func(a)"
      ],
      "execution_count": null,
      "outputs": [
        {
          "output_type": "stream",
          "text": [
            "100\n"
          ],
          "name": "stdout"
        },
        {
          "output_type": "execute_result",
          "data": {
            "text/plain": [
              "200"
            ]
          },
          "metadata": {
            "tags": []
          },
          "execution_count": 27
        }
      ]
    },
    {
      "cell_type": "markdown",
      "metadata": {
        "id": "DcPPOxRgmEwN"
      },
      "source": [
        "#### 3.1.1.1 Function Parameters\n",
        "\n",
        "Parameters (or arguments) in Python are all passed by reference.  This means that if you modify the parameters in the function, they are modified outside of the function. (Enrichment: Exceptions, see below)\n",
        "\n",
        "See the following example:\n",
        "\n",
        "```\n",
        "def change_list(my_list):\n",
        "   \"\"\"This changes a passed list into this function\"\"\"\n",
        "   my_list.append('four');\n",
        "   print('list inside the function: ', my_list)\n",
        "   return\n",
        "\n",
        "my_list = [1, 2, 3];\n",
        "print('list before the function: ', my_list)\n",
        "change_list(my_list);\n",
        "print('list after the function: ', my_list)\n",
        "```"
      ]
    },
    {
      "cell_type": "code",
      "metadata": {
        "id": "pid662VymEwN",
        "colab": {
          "base_uri": "https://localhost:8080/"
        },
        "outputId": "bbb810db-daa9-42c9-91b8-964f4a2bddf2"
      },
      "source": [
        "def change_list(my_list):\n",
        "   \"\"\"This changes a passed list into this function\"\"\"\n",
        "   my_list.append('four');\n",
        "   print('list inside the function: ', my_list)\n",
        "   return\n",
        "\n",
        "my_list = [1, 2, 3]\n",
        "print('list before the function: ', my_list)\n",
        "change_list(my_list)\n",
        "print('list after the function: ', my_list)"
      ],
      "execution_count": null,
      "outputs": [
        {
          "output_type": "stream",
          "text": [
            "list before the function:  [1, 2, 3]\n",
            "list inside the function:  [1, 2, 3, 'four']\n",
            "list after the function:  [1, 2, 3, 'four']\n"
          ],
          "name": "stdout"
        }
      ]
    },
    {
      "cell_type": "markdown",
      "metadata": {
        "id": "Y7O_aN5f5Jan"
      },
      "source": [
        "#### 3.1.1.2 Enrichment: Global, local, and immutables\n",
        "\n",
        "Let's go back to our former example...\n",
        "\n",
        "immutables:\n",
        "\n",
        "* integers, float, str, tuples"
      ]
    },
    {
      "cell_type": "code",
      "metadata": {
        "colab": {
          "base_uri": "https://localhost:8080/"
        },
        "id": "uMG-TS_C5HR3",
        "outputId": "2aca9c5a-587e-4561-f61a-58a01f853d19"
      },
      "source": [
        "# b = \"a string\"\n",
        "# b = 10\n",
        "# b = 10.2\n",
        "# b = (10, 2)\n",
        "b = [10, 2]\n",
        "\n",
        "def my_little_func(b):\n",
        "  if type(b) == str:\n",
        "    b += \"20\"\n",
        "  elif (type(b) == int) or (type(b) == float):\n",
        "    b += 10\n",
        "  elif (type(b) == tuple):\n",
        "    print(\"AYYY no tuple changes, Dude\")\n",
        "    pass\n",
        "  elif (type(b) == list):\n",
        "    b.append('whoaaaa')\n",
        "  print(b)\n",
        "  return\n",
        "\n",
        "print(b)\n",
        "my_little_func(b)\n",
        "print(b)"
      ],
      "execution_count": null,
      "outputs": [
        {
          "output_type": "stream",
          "text": [
            "[10, 2]\n",
            "[10, 2, 'whoaaaa']\n",
            "[10, 2, 'whoaaaa']\n"
          ],
          "name": "stdout"
        }
      ]
    },
    {
      "cell_type": "markdown",
      "metadata": {
        "id": "87Ka2A6kmEwN"
      },
      "source": [
        "There is a way to change a global variable within a function with the **_global_** keyword.  Generally, the use of **_global_** variables is not encouraged, instead use parameters. We won't cover the global keyword here but you can [explore further](https://www.programiz.com/python-programming/global-keyword) on your own if you are interested. "
      ]
    },
    {
      "cell_type": "code",
      "metadata": {
        "colab": {
          "base_uri": "https://localhost:8080/"
        },
        "id": "xqxnF7X86Bhu",
        "outputId": "1e0a32d1-e5f3-422d-ea94-d65bb2ebac94"
      },
      "source": [
        "b = 10\n",
        "a = 2\n",
        "\n",
        "def my_little_func(a):\n",
        "  global b\n",
        "  b += 20\n",
        "  print(b)\n",
        "  return \n",
        "\n",
        "print(b)\n",
        "my_little_func(a)\n",
        "print(b)"
      ],
      "execution_count": null,
      "outputs": [
        {
          "output_type": "stream",
          "text": [
            "10\n",
            "30\n",
            "30\n"
          ],
          "name": "stdout"
        }
      ]
    },
    {
      "cell_type": "markdown",
      "metadata": {
        "id": "2uFFumKQkx2h"
      },
      "source": [
        "#### Exercise 1: My first function\n",
        "\n",
        "Write a function that takes one parameter and returns any data structure\n",
        "\n",
        "> If you are going to return multiple objects, what data structure that we talked about can be used?  Give and example below."
      ]
    },
    {
      "cell_type": "code",
      "metadata": {
        "id": "OBluJNAxmEwO"
      },
      "source": [
        "# Cell for excerise 1\n",
        "def test(a):\n",
        "  return a * 10"
      ],
      "execution_count": null,
      "outputs": []
    },
    {
      "cell_type": "code",
      "metadata": {
        "colab": {
          "base_uri": "https://localhost:8080/"
        },
        "id": "1VPgSBKHaRRh",
        "outputId": "208e5edf-ac48-491b-c9ec-6d6bd90135f2"
      },
      "source": [
        "def my_first_function(a):\n",
        "    return type(a)\n",
        "\n",
        "m='haha'\n",
        "my_first_function(m)"
      ],
      "execution_count": null,
      "outputs": [
        {
          "output_type": "execute_result",
          "data": {
            "text/plain": [
              "str"
            ]
          },
          "metadata": {
            "tags": []
          },
          "execution_count": 42
        }
      ]
    },
    {
      "cell_type": "markdown",
      "metadata": {
        "id": "-SiUKsyFmEwP"
      },
      "source": [
        "### 3.1.3 Parameter types\n",
        "\n",
        "**Function calling:**\n",
        "\n",
        "* positional \n",
        "    * `func(10, 20)`\n",
        "* keyword\n",
        "    * `func(a=10, b=20)` or `func(b=20, a=10)`\n",
        "\n",
        "**Function writing:**\n",
        "* no default\n",
        "    * `def func(a, b)`\n",
        "* default\n",
        "    * `def func(a=10, b=20)`\n",
        "\n"
      ]
    },
    {
      "cell_type": "markdown",
      "metadata": {
        "id": "I84rZUFEmEwQ"
      },
      "source": [
        "```\n",
        "def print_name(first, last='Beckner'):\n",
        "    print(f'Your name is {first} {last}')\n",
        "    return\n",
        "```"
      ]
    },
    {
      "cell_type": "code",
      "metadata": {
        "id": "JQgD2bXzmEwQ"
      },
      "source": [
        "def print_name(first, last='Beckner'):\n",
        "    print(\"Your name is {} {}\".format(first, last))\n",
        "    return"
      ],
      "execution_count": null,
      "outputs": []
    },
    {
      "cell_type": "code",
      "metadata": {
        "colab": {
          "base_uri": "https://localhost:8080/"
        },
        "id": "9AGBvcqY8rak",
        "outputId": "92593a05-4213-49c3-8394-95927fc29017"
      },
      "source": [
        "print_name('Wesley')"
      ],
      "execution_count": null,
      "outputs": [
        {
          "output_type": "stream",
          "text": [
            "Your name is Wesley Beckner\n"
          ],
          "name": "stdout"
        }
      ]
    },
    {
      "cell_type": "markdown",
      "metadata": {
        "id": "Q9XRruofmEwQ"
      },
      "source": [
        "Play around with the above function."
      ]
    },
    {
      "cell_type": "code",
      "metadata": {
        "id": "9SHINcbdmEwR",
        "colab": {
          "base_uri": "https://localhost:8080/"
        },
        "outputId": "3a0b5263-7a3e-44e7-ca2a-3e10d6e747c2"
      },
      "source": [
        "print_name('Wesley', last='Solo')"
      ],
      "execution_count": null,
      "outputs": [
        {
          "output_type": "stream",
          "text": [
            "Your name is Wesley Solo\n"
          ],
          "name": "stdout"
        }
      ]
    },
    {
      "cell_type": "markdown",
      "metadata": {
        "id": "rOjgpTm_mEwS"
      },
      "source": [
        "Functions can contain any code that you put anywhere else including:\n",
        "* `if`...`elif`...`else`\n",
        "* `for`...`while`\n",
        "* other function calls"
      ]
    },
    {
      "cell_type": "markdown",
      "metadata": {
        "id": "f46sVhpqmEwS"
      },
      "source": [
        "```\n",
        "def print_name_age(first, last, age):\n",
        "    print_name(first, last)\n",
        "    print('Your age is %d' % (age))\n",
        "    if age > 25 and age < 40:\n",
        "        print('You are a millenial!')\n",
        "    return\n",
        "```\n"
      ]
    },
    {
      "cell_type": "code",
      "metadata": {
        "id": "OzmMcHH6mEwT"
      },
      "source": [
        "def print_name_age(first, last, age):\n",
        "    print_name(first, last)\n",
        "    print('Your age is %d' % (age))\n",
        "    if age > 25 and age < 40:\n",
        "        print('You are a millenial!')\n",
        "    return"
      ],
      "execution_count": null,
      "outputs": []
    },
    {
      "cell_type": "markdown",
      "metadata": {
        "id": "dLmPKzcUmEwT"
      },
      "source": [
        "```\n",
        "print_name_age(age=29, last='Beckner', first='Wesley')\n",
        "```"
      ]
    },
    {
      "cell_type": "code",
      "metadata": {
        "id": "vnE1REormEwT",
        "colab": {
          "base_uri": "https://localhost:8080/"
        },
        "outputId": "1455bb26-4db0-4caf-c8cf-2565e09fe08c"
      },
      "source": [
        "print_name_age(age=29, last='Beckner', first='Wesley')"
      ],
      "execution_count": null,
      "outputs": [
        {
          "output_type": "stream",
          "text": [
            "Your name is Wesley Beckner\n",
            "Your age is 29\n",
            "You are a millenial!\n"
          ],
          "name": "stdout"
        }
      ]
    },
    {
      "cell_type": "markdown",
      "metadata": {
        "id": "9n5TjVczde7m"
      },
      "source": [
        "### 3.1.4 Docstrings\n",
        "\n",
        "Quick example on docstrings from [sklearn knn](https://scikit-learn.org/stable/modules/generated/sklearn.neighbors.KNeighborsClassifier.html)"
      ]
    },
    {
      "cell_type": "markdown",
      "metadata": {
        "id": "G09LKuSUmEwT"
      },
      "source": [
        "## 3.2 The scientific python stack\n",
        "\n",
        "In addition to Python's built-in modules like the ``math`` module we explored above, there are also many often-used third-party modules that are core tools for doing data science with Python.\n",
        "Some of the most important ones are:\n",
        "\n",
        "#### [``numpy``](http://numpy.org/): Numerical Python\n",
        "\n",
        "Numpy is short for \"Numerical Python\", and contains tools for efficient manipulation of arrays of data.\n",
        "If you have used other computational tools like IDL or MatLab, Numpy should feel very familiar.\n",
        "\n",
        "#### [``scipy``](http://scipy.org/): Scientific Python\n",
        "\n",
        "Scipy is short for \"Scientific Python\", and contains a wide range of functionality for accomplishing common scientific tasks, such as optimization/minimization, numerical integration, interpolation, and much more.\n",
        "We will not look closely at Scipy today, but we will use its functionality later in the course.\n",
        "\n",
        "#### [``pandas``](http://pandas.pydata.org/): Labeled Data Manipulation in Python\n",
        "\n",
        "Pandas is short for \"Panel Data\", and contains tools for doing more advanced manipulation of labeled data in Python, in particular with a columnar data structure called a *Data Frame*.\n",
        "If you've used the [R](http://rstats.org) statistical language (and in particular the so-called \"Hadley Stack\"), much of the functionality in Pandas should feel very familiar.\n",
        "\n",
        "#### [``matplotlib``](http://matplotlib.org): Visualization in Python\n",
        "\n",
        "Matplotlib started out as a Matlab plotting clone in Python, and has grown from there in the 15 years since its creation. It is the most popular data visualization tool currently in the Python data world (though other recent packages are starting to encroach on its monopoly).\n",
        "\n",
        "#### [``scikit-learn``](https://scikit-learn.org/stable/): Machine Learning in Python\n",
        "\n",
        "Scikit-learn is a machine learning library.\n",
        "\n",
        "It features various classification, regression, and clustering algorithms, including support vector machines, random forests, gradient boosting, k-means, and DBSCAN.\n",
        "\n",
        "The library is designed to interoperate with the Python numerical and scientific libraries NumPy and SciPy."
      ]
    },
    {
      "cell_type": "markdown",
      "metadata": {
        "id": "RZQvLnaWPzsX"
      },
      "source": [
        "## 3.3 Pandas"
      ]
    },
    {
      "cell_type": "markdown",
      "metadata": {
        "id": "n59VPlvqPzsX"
      },
      "source": [
        "### 3.3.1 Pandas and Scikit-Learn `load_datasets`\n",
        "\n",
        "We begin by loading the Panda's package.  Packages are collections of functions that share a common utility.  We've seen `import` before.  Let's use it to import Pandas and all the richness that pandas has.\n",
        "\n",
        "We'll also use a very useful feature of the scikit-learn toolkit, the `load_datasets` module. We will do some very rudimentary tasks with this dataset, just to demonstrate the utility of `load_datasets`, then we will switch over to a more relevant dataset for our purposes."
      ]
    },
    {
      "cell_type": "markdown",
      "metadata": {
        "id": "nSm8kbSPPzsX"
      },
      "source": [
        "```\n",
        "import pandas\n",
        "from sklearn.datasets import load_wine\n",
        "```"
      ]
    },
    {
      "cell_type": "code",
      "metadata": {
        "id": "is8tRs7RPzsX"
      },
      "source": [
        "import pandas\n",
        "from sklearn.datasets import load_wine"
      ],
      "execution_count": null,
      "outputs": []
    },
    {
      "cell_type": "markdown",
      "metadata": {
        "id": "Pc139aDaPzsY"
      },
      "source": [
        "We import a function `load_wine` that loads a simple data set we can play with called the Wine recognition dataset from the 1980s.\n",
        "\n",
        "You can read more about that dataset [here](https://archive.ics.uci.edu/ml/datasets/Wine)\n",
        "\n",
        "```\n",
        "dataset = load_wine()\n",
        "print(dataset.DESCR)\n",
        "```"
      ]
    },
    {
      "cell_type": "code",
      "metadata": {
        "colab": {
          "base_uri": "https://localhost:8080/"
        },
        "id": "yyuVBF5xPzsY",
        "outputId": "d2e95f06-b349-4220-9708-f8f2b4a02219"
      },
      "source": [
        "dataset = load_wine()\n",
        "print(dataset.DESCR)"
      ],
      "execution_count": null,
      "outputs": [
        {
          "output_type": "stream",
          "text": [
            ".. _wine_dataset:\n",
            "\n",
            "Wine recognition dataset\n",
            "------------------------\n",
            "\n",
            "**Data Set Characteristics:**\n",
            "\n",
            "    :Number of Instances: 178 (50 in each of three classes)\n",
            "    :Number of Attributes: 13 numeric, predictive attributes and the class\n",
            "    :Attribute Information:\n",
            " \t\t- Alcohol\n",
            " \t\t- Malic acid\n",
            " \t\t- Ash\n",
            "\t\t- Alcalinity of ash  \n",
            " \t\t- Magnesium\n",
            "\t\t- Total phenols\n",
            " \t\t- Flavanoids\n",
            " \t\t- Nonflavanoid phenols\n",
            " \t\t- Proanthocyanins\n",
            "\t\t- Color intensity\n",
            " \t\t- Hue\n",
            " \t\t- OD280/OD315 of diluted wines\n",
            " \t\t- Proline\n",
            "\n",
            "    - class:\n",
            "            - class_0\n",
            "            - class_1\n",
            "            - class_2\n",
            "\t\t\n",
            "    :Summary Statistics:\n",
            "    \n",
            "    ============================= ==== ===== ======= =====\n",
            "                                   Min   Max   Mean     SD\n",
            "    ============================= ==== ===== ======= =====\n",
            "    Alcohol:                      11.0  14.8    13.0   0.8\n",
            "    Malic Acid:                   0.74  5.80    2.34  1.12\n",
            "    Ash:                          1.36  3.23    2.36  0.27\n",
            "    Alcalinity of Ash:            10.6  30.0    19.5   3.3\n",
            "    Magnesium:                    70.0 162.0    99.7  14.3\n",
            "    Total Phenols:                0.98  3.88    2.29  0.63\n",
            "    Flavanoids:                   0.34  5.08    2.03  1.00\n",
            "    Nonflavanoid Phenols:         0.13  0.66    0.36  0.12\n",
            "    Proanthocyanins:              0.41  3.58    1.59  0.57\n",
            "    Colour Intensity:              1.3  13.0     5.1   2.3\n",
            "    Hue:                          0.48  1.71    0.96  0.23\n",
            "    OD280/OD315 of diluted wines: 1.27  4.00    2.61  0.71\n",
            "    Proline:                       278  1680     746   315\n",
            "    ============================= ==== ===== ======= =====\n",
            "\n",
            "    :Missing Attribute Values: None\n",
            "    :Class Distribution: class_0 (59), class_1 (71), class_2 (48)\n",
            "    :Creator: R.A. Fisher\n",
            "    :Donor: Michael Marshall (MARSHALL%PLU@io.arc.nasa.gov)\n",
            "    :Date: July, 1988\n",
            "\n",
            "This is a copy of UCI ML Wine recognition datasets.\n",
            "https://archive.ics.uci.edu/ml/machine-learning-databases/wine/wine.data\n",
            "\n",
            "The data is the results of a chemical analysis of wines grown in the same\n",
            "region in Italy by three different cultivators. There are thirteen different\n",
            "measurements taken for different constituents found in the three types of\n",
            "wine.\n",
            "\n",
            "Original Owners: \n",
            "\n",
            "Forina, M. et al, PARVUS - \n",
            "An Extendible Package for Data Exploration, Classification and Correlation. \n",
            "Institute of Pharmaceutical and Food Analysis and Technologies,\n",
            "Via Brigata Salerno, 16147 Genoa, Italy.\n",
            "\n",
            "Citation:\n",
            "\n",
            "Lichman, M. (2013). UCI Machine Learning Repository\n",
            "[https://archive.ics.uci.edu/ml]. Irvine, CA: University of California,\n",
            "School of Information and Computer Science. \n",
            "\n",
            ".. topic:: References\n",
            "\n",
            "  (1) S. Aeberhard, D. Coomans and O. de Vel, \n",
            "  Comparison of Classifiers in High Dimensional Settings, \n",
            "  Tech. Rep. no. 92-02, (1992), Dept. of Computer Science and Dept. of  \n",
            "  Mathematics and Statistics, James Cook University of North Queensland. \n",
            "  (Also submitted to Technometrics). \n",
            "\n",
            "  The data was used with many others for comparing various \n",
            "  classifiers. The classes are separable, though only RDA \n",
            "  has achieved 100% correct classification. \n",
            "  (RDA : 100%, QDA 99.4%, LDA 98.9%, 1NN 96.1% (z-transformed data)) \n",
            "  (All results using the leave-one-out technique) \n",
            "\n",
            "  (2) S. Aeberhard, D. Coomans and O. de Vel, \n",
            "  \"THE CLASSIFICATION PERFORMANCE OF RDA\" \n",
            "  Tech. Rep. no. 92-01, (1992), Dept. of Computer Science and Dept. of \n",
            "  Mathematics and Statistics, James Cook University of North Queensland. \n",
            "  (Also submitted to Journal of Chemometrics).\n",
            "\n"
          ],
          "name": "stdout"
        }
      ]
    },
    {
      "cell_type": "markdown",
      "metadata": {
        "id": "8oSucT56PzsZ"
      },
      "source": [
        "```\n",
        "df = pandas.DataFrame()\n",
        "```"
      ]
    },
    {
      "cell_type": "code",
      "metadata": {
        "id": "PFAVgehgPzsZ"
      },
      "source": [
        "df = pandas.DataFrame()"
      ],
      "execution_count": null,
      "outputs": []
    },
    {
      "cell_type": "markdown",
      "metadata": {
        "id": "PgkwA1ZIPzsZ"
      },
      "source": [
        "#### 3.3.1.1 import ... as ... pattern\n",
        "\n",
        "Because we'll use it so much, we often import under a shortened name using the ``import ... as ...`` pattern:"
      ]
    },
    {
      "cell_type": "markdown",
      "metadata": {
        "id": "0P_rA2eHPzsZ"
      },
      "source": [
        "```\n",
        "import pandas as pd\n",
        "```"
      ]
    },
    {
      "cell_type": "code",
      "metadata": {
        "id": "L511OiG4Pzsa"
      },
      "source": [
        "import pandas as pd"
      ],
      "execution_count": null,
      "outputs": []
    },
    {
      "cell_type": "markdown",
      "metadata": {
        "id": "x-ZLVa_4Pzsa"
      },
      "source": [
        "### 3.3.2 Creating pandas dataframes\n",
        "\n",
        "Let's create an empty _data frame_ and put the result into a variable called `df`.  This is a popular choice for a _data frame_ variable name."
      ]
    },
    {
      "cell_type": "markdown",
      "metadata": {
        "id": "28Hm7WzcPzsa"
      },
      "source": [
        "```\n",
        "df = pd.DataFrame()\n",
        "```"
      ]
    },
    {
      "cell_type": "code",
      "metadata": {
        "id": "lS1kv6z1Pzsa"
      },
      "source": [
        "df = pd.DataFrame()"
      ],
      "execution_count": null,
      "outputs": []
    },
    {
      "cell_type": "markdown",
      "metadata": {
        "id": "upzCPwZvPzsa"
      },
      "source": [
        "Let's open the Wine dataset as a pandas data frame.  Notice we change the value of the `df` variable to point to a new data frame.\n",
        "\n",
        "```\n",
        "df = pd.DataFrame(dataset.data, columns=dataset.feature_names)\n",
        "```"
      ]
    },
    {
      "cell_type": "code",
      "metadata": {
        "id": "kYnWDTP0Pzsb"
      },
      "source": [
        "df = pd.DataFrame(dataset.data, columns=dataset.feature_names)"
      ],
      "execution_count": null,
      "outputs": []
    },
    {
      "cell_type": "markdown",
      "metadata": {
        "id": "wH5jPqmdPzsb"
      },
      "source": [
        "#### 3.3.2.1 From excel and csv\n",
        "\n",
        "Please follow this [link](https://raw.githubusercontent.com/wesleybeckner/ds_for_engineers/main/data/truffle_margin/margin_data.csv)\n",
        "\n",
        "This is what we call a csv or comma separated value file. We have a method reading these directly into pandas:"
      ]
    },
    {
      "cell_type": "code",
      "metadata": {
        "colab": {
          "base_uri": "https://localhost:8080/"
        },
        "id": "R9efbqE6Pzsb",
        "outputId": "36b98a2a-40aa-409e-c437-a9bda9951721"
      },
      "source": [
        "df = pd.read_csv('https://raw.githubusercontent.com/wesleybeckner/technology_explorers/main/assets/imdb_movies.csv')"
      ],
      "execution_count": null,
      "outputs": [
        {
          "output_type": "stream",
          "text": [
            "/usr/local/lib/python3.7/dist-packages/IPython/core/interactiveshell.py:2718: DtypeWarning: Columns (3) have mixed types.Specify dtype option on import or set low_memory=False.\n",
            "  interactivity=interactivity, compiler=compiler, result=result)\n"
          ],
          "name": "stderr"
        }
      ]
    },
    {
      "cell_type": "markdown",
      "metadata": {
        "id": "_xBkr7n9Pzsb"
      },
      "source": [
        "We can do this in a similar way with excel files. "
      ]
    },
    {
      "cell_type": "code",
      "metadata": {
        "colab": {
          "base_uri": "https://localhost:8080/",
          "height": 611
        },
        "id": "C8lL_Md7Pzsb",
        "outputId": "11edd00f-b2ad-461a-b2ee-e2b116261a45"
      },
      "source": [
        "pd.read_excel('https://raw.githubusercontent.com/wesleybeckner/ds_for_engineers/main/data/truffle_margin/margin_data.xlsx')"
      ],
      "execution_count": null,
      "outputs": [
        {
          "output_type": "execute_result",
          "data": {
            "text/html": [
              "<div>\n",
              "<style scoped>\n",
              "    .dataframe tbody tr th:only-of-type {\n",
              "        vertical-align: middle;\n",
              "    }\n",
              "\n",
              "    .dataframe tbody tr th {\n",
              "        vertical-align: top;\n",
              "    }\n",
              "\n",
              "    .dataframe thead th {\n",
              "        text-align: right;\n",
              "    }\n",
              "</style>\n",
              "<table border=\"1\" class=\"dataframe\">\n",
              "  <thead>\n",
              "    <tr style=\"text-align: right;\">\n",
              "      <th></th>\n",
              "      <th>Base Cake</th>\n",
              "      <th>Truffle Type</th>\n",
              "      <th>Primary Flavor</th>\n",
              "      <th>Secondary Flavor</th>\n",
              "      <th>Color Group</th>\n",
              "      <th>Width</th>\n",
              "      <th>Height</th>\n",
              "      <th>Net Sales Quantity in KG</th>\n",
              "      <th>EBITDA</th>\n",
              "      <th>Product</th>\n",
              "    </tr>\n",
              "  </thead>\n",
              "  <tbody>\n",
              "    <tr>\n",
              "      <th>0</th>\n",
              "      <td>Tiramisu</td>\n",
              "      <td>Chocolate Outer</td>\n",
              "      <td>Doughnut</td>\n",
              "      <td>Egg Nog</td>\n",
              "      <td>Amethyst</td>\n",
              "      <td>340</td>\n",
              "      <td>50</td>\n",
              "      <td>8244.500</td>\n",
              "      <td>21833.99</td>\n",
              "      <td>Tiramisu-Chocolate Outer-Doughnut-Egg Nog-Amet...</td>\n",
              "    </tr>\n",
              "    <tr>\n",
              "      <th>1</th>\n",
              "      <td>Tiramisu</td>\n",
              "      <td>Chocolate Outer</td>\n",
              "      <td>Doughnut</td>\n",
              "      <td>Egg Nog</td>\n",
              "      <td>Amethyst</td>\n",
              "      <td>1340</td>\n",
              "      <td>25</td>\n",
              "      <td>1857.000</td>\n",
              "      <td>21589.48</td>\n",
              "      <td>Tiramisu-Chocolate Outer-Doughnut-Egg Nog-Amet...</td>\n",
              "    </tr>\n",
              "    <tr>\n",
              "      <th>2</th>\n",
              "      <td>Tiramisu</td>\n",
              "      <td>Chocolate Outer</td>\n",
              "      <td>Chocolate</td>\n",
              "      <td>Pear</td>\n",
              "      <td>Amethyst</td>\n",
              "      <td>310</td>\n",
              "      <td>140</td>\n",
              "      <td>17365.000</td>\n",
              "      <td>19050.69</td>\n",
              "      <td>Tiramisu-Chocolate Outer-Chocolate-Pear-Amethy...</td>\n",
              "    </tr>\n",
              "    <tr>\n",
              "      <th>3</th>\n",
              "      <td>Tiramisu</td>\n",
              "      <td>Chocolate Outer</td>\n",
              "      <td>Doughnut</td>\n",
              "      <td>Egg Nog</td>\n",
              "      <td>Amethyst</td>\n",
              "      <td>449</td>\n",
              "      <td>50</td>\n",
              "      <td>14309.000</td>\n",
              "      <td>18573.01</td>\n",
              "      <td>Tiramisu-Chocolate Outer-Doughnut-Egg Nog-Amet...</td>\n",
              "    </tr>\n",
              "    <tr>\n",
              "      <th>4</th>\n",
              "      <td>Tiramisu</td>\n",
              "      <td>Chocolate Outer</td>\n",
              "      <td>Doughnut</td>\n",
              "      <td>Rock and Rye</td>\n",
              "      <td>Amethyst</td>\n",
              "      <td>640</td>\n",
              "      <td>80</td>\n",
              "      <td>25584.500</td>\n",
              "      <td>14790.90</td>\n",
              "      <td>Tiramisu-Chocolate Outer-Doughnut-Rock and Rye...</td>\n",
              "    </tr>\n",
              "    <tr>\n",
              "      <th>...</th>\n",
              "      <td>...</td>\n",
              "      <td>...</td>\n",
              "      <td>...</td>\n",
              "      <td>...</td>\n",
              "      <td>...</td>\n",
              "      <td>...</td>\n",
              "      <td>...</td>\n",
              "      <td>...</td>\n",
              "      <td>...</td>\n",
              "      <td>...</td>\n",
              "    </tr>\n",
              "    <tr>\n",
              "      <th>2501</th>\n",
              "      <td>Butter</td>\n",
              "      <td>Chocolate Outer</td>\n",
              "      <td>Lemon Bar</td>\n",
              "      <td>Wild Cherry Cream</td>\n",
              "      <td>Amethyst</td>\n",
              "      <td>930</td>\n",
              "      <td>50</td>\n",
              "      <td>150352.000</td>\n",
              "      <td>-97839.16</td>\n",
              "      <td>Butter-Chocolate Outer-Lemon Bar-Wild Cherry C...</td>\n",
              "    </tr>\n",
              "    <tr>\n",
              "      <th>2502</th>\n",
              "      <td>Butter</td>\n",
              "      <td>Chocolate Outer</td>\n",
              "      <td>Cream Soda</td>\n",
              "      <td>Peppermint</td>\n",
              "      <td>Amethyst</td>\n",
              "      <td>900</td>\n",
              "      <td>50</td>\n",
              "      <td>120451.400</td>\n",
              "      <td>-98661.97</td>\n",
              "      <td>Butter-Chocolate Outer-Cream Soda-Peppermint-A...</td>\n",
              "    </tr>\n",
              "    <tr>\n",
              "      <th>2503</th>\n",
              "      <td>Butter</td>\n",
              "      <td>Jelly Filled</td>\n",
              "      <td>Orange</td>\n",
              "      <td>Cucumber</td>\n",
              "      <td>Burgundy</td>\n",
              "      <td>905</td>\n",
              "      <td>50</td>\n",
              "      <td>143428.580</td>\n",
              "      <td>-122236.96</td>\n",
              "      <td>Butter-Jelly Filled-Orange-Cucumber-Burgundy-9...</td>\n",
              "    </tr>\n",
              "    <tr>\n",
              "      <th>2504</th>\n",
              "      <td>Butter</td>\n",
              "      <td>Chocolate Outer</td>\n",
              "      <td>Horchata</td>\n",
              "      <td>Dill Pickle</td>\n",
              "      <td>Amethyst</td>\n",
              "      <td>597</td>\n",
              "      <td>45</td>\n",
              "      <td>271495.572</td>\n",
              "      <td>-128504.49</td>\n",
              "      <td>Butter-Chocolate Outer-Horchata-Dill Pickle-Am...</td>\n",
              "    </tr>\n",
              "    <tr>\n",
              "      <th>2505</th>\n",
              "      <td>Butter</td>\n",
              "      <td>Candy Outer</td>\n",
              "      <td>Ginger Lime</td>\n",
              "      <td>Vanilla</td>\n",
              "      <td>Amethyst</td>\n",
              "      <td>580</td>\n",
              "      <td>50</td>\n",
              "      <td>170567.065</td>\n",
              "      <td>-137897.08</td>\n",
              "      <td>Butter-Candy Outer-Ginger Lime-Vanilla-Amethys...</td>\n",
              "    </tr>\n",
              "  </tbody>\n",
              "</table>\n",
              "<p>2506 rows × 10 columns</p>\n",
              "</div>"
            ],
            "text/plain": [
              "     Base Cake  ...                                            Product\n",
              "0     Tiramisu  ...  Tiramisu-Chocolate Outer-Doughnut-Egg Nog-Amet...\n",
              "1     Tiramisu  ...  Tiramisu-Chocolate Outer-Doughnut-Egg Nog-Amet...\n",
              "2     Tiramisu  ...  Tiramisu-Chocolate Outer-Chocolate-Pear-Amethy...\n",
              "3     Tiramisu  ...  Tiramisu-Chocolate Outer-Doughnut-Egg Nog-Amet...\n",
              "4     Tiramisu  ...  Tiramisu-Chocolate Outer-Doughnut-Rock and Rye...\n",
              "...        ...  ...                                                ...\n",
              "2501    Butter  ...  Butter-Chocolate Outer-Lemon Bar-Wild Cherry C...\n",
              "2502    Butter  ...  Butter-Chocolate Outer-Cream Soda-Peppermint-A...\n",
              "2503    Butter  ...  Butter-Jelly Filled-Orange-Cucumber-Burgundy-9...\n",
              "2504    Butter  ...  Butter-Chocolate Outer-Horchata-Dill Pickle-Am...\n",
              "2505    Butter  ...  Butter-Candy Outer-Ginger Lime-Vanilla-Amethys...\n",
              "\n",
              "[2506 rows x 10 columns]"
            ]
          },
          "metadata": {
            "tags": []
          },
          "execution_count": 70
        }
      ]
    },
    {
      "cell_type": "markdown",
      "metadata": {
        "id": "4kIY9rm9Pzsc"
      },
      "source": [
        "#### 3.3.2.2 from lists"
      ]
    },
    {
      "cell_type": "code",
      "metadata": {
        "colab": {
          "base_uri": "https://localhost:8080/",
          "height": 174
        },
        "id": "Bl9PSkflPzsc",
        "outputId": "b948762e-ff72-4020-c6fe-9d2572650f44"
      },
      "source": [
        "my_list = [[1, 2, 3], [3, 4, 5], [5, 6, 7], [7, 8, 9]]\n",
        "pd.DataFrame(my_list)"
      ],
      "execution_count": null,
      "outputs": [
        {
          "output_type": "execute_result",
          "data": {
            "text/html": [
              "<div>\n",
              "<style scoped>\n",
              "    .dataframe tbody tr th:only-of-type {\n",
              "        vertical-align: middle;\n",
              "    }\n",
              "\n",
              "    .dataframe tbody tr th {\n",
              "        vertical-align: top;\n",
              "    }\n",
              "\n",
              "    .dataframe thead th {\n",
              "        text-align: right;\n",
              "    }\n",
              "</style>\n",
              "<table border=\"1\" class=\"dataframe\">\n",
              "  <thead>\n",
              "    <tr style=\"text-align: right;\">\n",
              "      <th></th>\n",
              "      <th>0</th>\n",
              "      <th>1</th>\n",
              "      <th>2</th>\n",
              "    </tr>\n",
              "  </thead>\n",
              "  <tbody>\n",
              "    <tr>\n",
              "      <th>0</th>\n",
              "      <td>1</td>\n",
              "      <td>2</td>\n",
              "      <td>3</td>\n",
              "    </tr>\n",
              "    <tr>\n",
              "      <th>1</th>\n",
              "      <td>3</td>\n",
              "      <td>4</td>\n",
              "      <td>5</td>\n",
              "    </tr>\n",
              "    <tr>\n",
              "      <th>2</th>\n",
              "      <td>5</td>\n",
              "      <td>6</td>\n",
              "      <td>7</td>\n",
              "    </tr>\n",
              "    <tr>\n",
              "      <th>3</th>\n",
              "      <td>7</td>\n",
              "      <td>8</td>\n",
              "      <td>9</td>\n",
              "    </tr>\n",
              "  </tbody>\n",
              "</table>\n",
              "</div>"
            ],
            "text/plain": [
              "   0  1  2\n",
              "0  1  2  3\n",
              "1  3  4  5\n",
              "2  5  6  7\n",
              "3  7  8  9"
            ]
          },
          "metadata": {
            "tags": []
          },
          "execution_count": 71
        }
      ]
    },
    {
      "cell_type": "code",
      "metadata": {
        "colab": {
          "base_uri": "https://localhost:8080/",
          "height": 174
        },
        "id": "xcLWNZxxPzsc",
        "outputId": "2c074a01-0d58-428c-980a-e1a0f0f02b22"
      },
      "source": [
        "df_nums = pd.DataFrame(data=[[1, 2, 3], [3, 4, 5], [5, 6, 7], [7, 8, 9]], \n",
        "             columns=['x', 'y', 'z'])\n",
        "df_nums.index = ['a', 'b', 'c', 'd']\n",
        "df_nums"
      ],
      "execution_count": null,
      "outputs": [
        {
          "output_type": "execute_result",
          "data": {
            "text/html": [
              "<div>\n",
              "<style scoped>\n",
              "    .dataframe tbody tr th:only-of-type {\n",
              "        vertical-align: middle;\n",
              "    }\n",
              "\n",
              "    .dataframe tbody tr th {\n",
              "        vertical-align: top;\n",
              "    }\n",
              "\n",
              "    .dataframe thead th {\n",
              "        text-align: right;\n",
              "    }\n",
              "</style>\n",
              "<table border=\"1\" class=\"dataframe\">\n",
              "  <thead>\n",
              "    <tr style=\"text-align: right;\">\n",
              "      <th></th>\n",
              "      <th>x</th>\n",
              "      <th>y</th>\n",
              "      <th>z</th>\n",
              "    </tr>\n",
              "  </thead>\n",
              "  <tbody>\n",
              "    <tr>\n",
              "      <th>a</th>\n",
              "      <td>1</td>\n",
              "      <td>2</td>\n",
              "      <td>3</td>\n",
              "    </tr>\n",
              "    <tr>\n",
              "      <th>b</th>\n",
              "      <td>3</td>\n",
              "      <td>4</td>\n",
              "      <td>5</td>\n",
              "    </tr>\n",
              "    <tr>\n",
              "      <th>c</th>\n",
              "      <td>5</td>\n",
              "      <td>6</td>\n",
              "      <td>7</td>\n",
              "    </tr>\n",
              "    <tr>\n",
              "      <th>d</th>\n",
              "      <td>7</td>\n",
              "      <td>8</td>\n",
              "      <td>9</td>\n",
              "    </tr>\n",
              "  </tbody>\n",
              "</table>\n",
              "</div>"
            ],
            "text/plain": [
              "   x  y  z\n",
              "a  1  2  3\n",
              "b  3  4  5\n",
              "c  5  6  7\n",
              "d  7  8  9"
            ]
          },
          "metadata": {
            "tags": []
          },
          "execution_count": 110
        }
      ]
    },
    {
      "cell_type": "markdown",
      "metadata": {
        "id": "Zxv8czSUPzsc"
      },
      "source": [
        "#### 3.3.2.3 from dictionaries"
      ]
    },
    {
      "cell_type": "code",
      "metadata": {
        "colab": {
          "base_uri": "https://localhost:8080/",
          "height": 111
        },
        "id": "PQuxVzYXPzsd",
        "outputId": "ab4d6659-bd1f-4bdc-b697-0db0303c26b5"
      },
      "source": [
        "my_dictionary = {'A': ['apple', 'airplane'], 'B': ['bannana', 'bubbles']}\n",
        "from_dict = pd.DataFrame(my_dictionary)\n",
        "from_dict"
      ],
      "execution_count": null,
      "outputs": [
        {
          "output_type": "execute_result",
          "data": {
            "text/html": [
              "<div>\n",
              "<style scoped>\n",
              "    .dataframe tbody tr th:only-of-type {\n",
              "        vertical-align: middle;\n",
              "    }\n",
              "\n",
              "    .dataframe tbody tr th {\n",
              "        vertical-align: top;\n",
              "    }\n",
              "\n",
              "    .dataframe thead th {\n",
              "        text-align: right;\n",
              "    }\n",
              "</style>\n",
              "<table border=\"1\" class=\"dataframe\">\n",
              "  <thead>\n",
              "    <tr style=\"text-align: right;\">\n",
              "      <th></th>\n",
              "      <th>A</th>\n",
              "      <th>B</th>\n",
              "    </tr>\n",
              "  </thead>\n",
              "  <tbody>\n",
              "    <tr>\n",
              "      <th>0</th>\n",
              "      <td>apple</td>\n",
              "      <td>bannana</td>\n",
              "    </tr>\n",
              "    <tr>\n",
              "      <th>1</th>\n",
              "      <td>airplane</td>\n",
              "      <td>bubbles</td>\n",
              "    </tr>\n",
              "  </tbody>\n",
              "</table>\n",
              "</div>"
            ],
            "text/plain": [
              "          A        B\n",
              "0     apple  bannana\n",
              "1  airplane  bubbles"
            ]
          },
          "metadata": {
            "tags": []
          },
          "execution_count": 80
        }
      ]
    },
    {
      "cell_type": "code",
      "metadata": {
        "colab": {
          "base_uri": "https://localhost:8080/"
        },
        "id": "kIz08AimPzsd",
        "outputId": "87f73e54-07ac-4ffa-9642-7c9548fa7804"
      },
      "source": [
        "from_dict.to_dict()"
      ],
      "execution_count": null,
      "outputs": [
        {
          "output_type": "execute_result",
          "data": {
            "text/plain": [
              "{'A': {0: 'apple', 1: 'airplane'}, 'B': {0: 'bannana', 1: 'bubbles'}}"
            ]
          },
          "metadata": {
            "tags": []
          },
          "execution_count": 15
        }
      ]
    },
    {
      "cell_type": "markdown",
      "metadata": {
        "id": "IFhgpJ91J-KF"
      },
      "source": [
        "#### Exercise 2: Create a DataFrame\n",
        "\n",
        "Create a dictionary with the following keys: `movies, songs, books`. In each key list your top 5 favorites in the cooresponding category. Then use `pd.DataFrame` to turn this into a dictionary."
      ]
    },
    {
      "cell_type": "code",
      "metadata": {
        "id": "lkQ4YH_CKQB8",
        "colab": {
          "base_uri": "https://localhost:8080/",
          "height": 205
        },
        "outputId": "ed91e4ef-41e2-4aeb-e3ef-f52cbdad87da"
      },
      "source": [
        "# Cell for Ex 2\n",
        "faves = {'movies': ['The Matrix', 'The Return of the King', 'Howls Moving Castle',\n",
        "                    'Harold and Maude', 'The Truman Show'],\n",
        "         'songs': ['Clair de Lune', 'Father Ocean', 'Sun & Moon', \n",
        "                   'Infinite Resource', 'Father and Son'],\n",
        "         'books': ['Buddhas Brain', 'The Tombs of Antuan', 'The Gunslinger',\n",
        "                   'Wizard and Glass', 'Dune']}\n",
        "faves = pd.DataFrame(faves)\n",
        "faves"
      ],
      "execution_count": null,
      "outputs": [
        {
          "output_type": "execute_result",
          "data": {
            "text/html": [
              "<div>\n",
              "<style scoped>\n",
              "    .dataframe tbody tr th:only-of-type {\n",
              "        vertical-align: middle;\n",
              "    }\n",
              "\n",
              "    .dataframe tbody tr th {\n",
              "        vertical-align: top;\n",
              "    }\n",
              "\n",
              "    .dataframe thead th {\n",
              "        text-align: right;\n",
              "    }\n",
              "</style>\n",
              "<table border=\"1\" class=\"dataframe\">\n",
              "  <thead>\n",
              "    <tr style=\"text-align: right;\">\n",
              "      <th></th>\n",
              "      <th>movies</th>\n",
              "      <th>songs</th>\n",
              "      <th>books</th>\n",
              "    </tr>\n",
              "  </thead>\n",
              "  <tbody>\n",
              "    <tr>\n",
              "      <th>0</th>\n",
              "      <td>The Matrix</td>\n",
              "      <td>Clair de Lune</td>\n",
              "      <td>Buddhas Brain</td>\n",
              "    </tr>\n",
              "    <tr>\n",
              "      <th>1</th>\n",
              "      <td>The Return of the King</td>\n",
              "      <td>Father Ocean</td>\n",
              "      <td>The Tombs of Antuan</td>\n",
              "    </tr>\n",
              "    <tr>\n",
              "      <th>2</th>\n",
              "      <td>Howls Moving Castle</td>\n",
              "      <td>Sun &amp; Moon</td>\n",
              "      <td>The Gunslinger</td>\n",
              "    </tr>\n",
              "    <tr>\n",
              "      <th>3</th>\n",
              "      <td>Harold and Maude</td>\n",
              "      <td>Infinite Resource</td>\n",
              "      <td>Wizard and Glass</td>\n",
              "    </tr>\n",
              "    <tr>\n",
              "      <th>4</th>\n",
              "      <td>The Truman Show</td>\n",
              "      <td>Father and Son</td>\n",
              "      <td>Dune</td>\n",
              "    </tr>\n",
              "  </tbody>\n",
              "</table>\n",
              "</div>"
            ],
            "text/plain": [
              "                   movies              songs                books\n",
              "0              The Matrix      Clair de Lune        Buddhas Brain\n",
              "1  The Return of the King       Father Ocean  The Tombs of Antuan\n",
              "2     Howls Moving Castle         Sun & Moon       The Gunslinger\n",
              "3        Harold and Maude  Infinite Resource     Wizard and Glass\n",
              "4         The Truman Show     Father and Son                 Dune"
            ]
          },
          "metadata": {
            "tags": []
          },
          "execution_count": 96
        }
      ]
    },
    {
      "cell_type": "markdown",
      "metadata": {
        "id": "LvQoWUXOPzsd"
      },
      "source": [
        "#### 3.3.2.4 on `pandas.Series`\n",
        "\n",
        "pandas `Series` objects will percolate in our experience here and there, however they are not so important as for us to wish to spend dedicated time on them. For now, know that they are a lower-level data collection in the pandas framework. You can think of them as an individual column or row in the pandas dataframe. For more practice with these you can refer to [this documentation]()"
      ]
    },
    {
      "cell_type": "code",
      "metadata": {
        "colab": {
          "base_uri": "https://localhost:8080/"
        },
        "id": "xexOPHYdkUNA",
        "outputId": "e48011ec-58d6-47e7-93bc-b41485890512"
      },
      "source": [
        "df['movies']"
      ],
      "execution_count": null,
      "outputs": [
        {
          "output_type": "execute_result",
          "data": {
            "text/plain": [
              "0                The Matrix\n",
              "1    The Return of the King\n",
              "2       Howls Moving Castle\n",
              "3          Harold and Maude\n",
              "4           The Truman Show\n",
              "Name: movies, dtype: object"
            ]
          },
          "metadata": {
            "tags": []
          },
          "execution_count": 82
        }
      ]
    },
    {
      "cell_type": "markdown",
      "metadata": {
        "id": "iVGX8cJSPzse"
      },
      "source": [
        "### 3.3.3 Viewing pandas dataframes"
      ]
    },
    {
      "cell_type": "markdown",
      "metadata": {
        "id": "CRVGsXmqPzse"
      },
      "source": [
        "The ``head()`` and ``tail()`` methods show us the first and last rows of the data.\n",
        "\n",
        "```\n",
        "df.head()\n",
        "df.tail()\n",
        "```"
      ]
    },
    {
      "cell_type": "code",
      "metadata": {
        "colab": {
          "base_uri": "https://localhost:8080/",
          "height": 672
        },
        "id": "QYttl1mePzse",
        "outputId": "57c92db7-8533-4171-a00e-2c6d45aaa841"
      },
      "source": [
        "df.head(5)"
      ],
      "execution_count": null,
      "outputs": [
        {
          "output_type": "execute_result",
          "data": {
            "text/html": [
              "<div>\n",
              "<style scoped>\n",
              "    .dataframe tbody tr th:only-of-type {\n",
              "        vertical-align: middle;\n",
              "    }\n",
              "\n",
              "    .dataframe tbody tr th {\n",
              "        vertical-align: top;\n",
              "    }\n",
              "\n",
              "    .dataframe thead th {\n",
              "        text-align: right;\n",
              "    }\n",
              "</style>\n",
              "<table border=\"1\" class=\"dataframe\">\n",
              "  <thead>\n",
              "    <tr style=\"text-align: right;\">\n",
              "      <th></th>\n",
              "      <th>imdb_title_id</th>\n",
              "      <th>title</th>\n",
              "      <th>original_title</th>\n",
              "      <th>year</th>\n",
              "      <th>date_published</th>\n",
              "      <th>genre</th>\n",
              "      <th>duration</th>\n",
              "      <th>country</th>\n",
              "      <th>language</th>\n",
              "      <th>director</th>\n",
              "      <th>writer</th>\n",
              "      <th>production_company</th>\n",
              "      <th>actors</th>\n",
              "      <th>description</th>\n",
              "      <th>avg_vote</th>\n",
              "      <th>votes</th>\n",
              "      <th>budget</th>\n",
              "      <th>usa_gross_income</th>\n",
              "      <th>worlwide_gross_income</th>\n",
              "      <th>metascore</th>\n",
              "      <th>reviews_from_users</th>\n",
              "      <th>reviews_from_critics</th>\n",
              "    </tr>\n",
              "  </thead>\n",
              "  <tbody>\n",
              "    <tr>\n",
              "      <th>0</th>\n",
              "      <td>tt0000009</td>\n",
              "      <td>Miss Jerry</td>\n",
              "      <td>Miss Jerry</td>\n",
              "      <td>1894</td>\n",
              "      <td>1894-10-09</td>\n",
              "      <td>Romance</td>\n",
              "      <td>45</td>\n",
              "      <td>USA</td>\n",
              "      <td>None</td>\n",
              "      <td>Alexander Black</td>\n",
              "      <td>Alexander Black</td>\n",
              "      <td>Alexander Black Photoplays</td>\n",
              "      <td>Blanche Bayliss, William Courtenay, Chauncey D...</td>\n",
              "      <td>The adventures of a female reporter in the 1890s.</td>\n",
              "      <td>5.9</td>\n",
              "      <td>154</td>\n",
              "      <td>NaN</td>\n",
              "      <td>NaN</td>\n",
              "      <td>NaN</td>\n",
              "      <td>NaN</td>\n",
              "      <td>1.0</td>\n",
              "      <td>2.0</td>\n",
              "    </tr>\n",
              "    <tr>\n",
              "      <th>1</th>\n",
              "      <td>tt0000574</td>\n",
              "      <td>The Story of the Kelly Gang</td>\n",
              "      <td>The Story of the Kelly Gang</td>\n",
              "      <td>1906</td>\n",
              "      <td>1906-12-26</td>\n",
              "      <td>Biography, Crime, Drama</td>\n",
              "      <td>70</td>\n",
              "      <td>Australia</td>\n",
              "      <td>None</td>\n",
              "      <td>Charles Tait</td>\n",
              "      <td>Charles Tait</td>\n",
              "      <td>J. and N. Tait</td>\n",
              "      <td>Elizabeth Tait, John Tait, Norman Campbell, Be...</td>\n",
              "      <td>True story of notorious Australian outlaw Ned ...</td>\n",
              "      <td>6.1</td>\n",
              "      <td>589</td>\n",
              "      <td>$ 2250</td>\n",
              "      <td>NaN</td>\n",
              "      <td>NaN</td>\n",
              "      <td>NaN</td>\n",
              "      <td>7.0</td>\n",
              "      <td>7.0</td>\n",
              "    </tr>\n",
              "    <tr>\n",
              "      <th>2</th>\n",
              "      <td>tt0001892</td>\n",
              "      <td>Den sorte drøm</td>\n",
              "      <td>Den sorte drøm</td>\n",
              "      <td>1911</td>\n",
              "      <td>1911-08-19</td>\n",
              "      <td>Drama</td>\n",
              "      <td>53</td>\n",
              "      <td>Germany, Denmark</td>\n",
              "      <td>NaN</td>\n",
              "      <td>Urban Gad</td>\n",
              "      <td>Urban Gad, Gebhard Schätzler-Perasini</td>\n",
              "      <td>Fotorama</td>\n",
              "      <td>Asta Nielsen, Valdemar Psilander, Gunnar Helse...</td>\n",
              "      <td>Two men of high rank are both wooing the beaut...</td>\n",
              "      <td>5.8</td>\n",
              "      <td>188</td>\n",
              "      <td>NaN</td>\n",
              "      <td>NaN</td>\n",
              "      <td>NaN</td>\n",
              "      <td>NaN</td>\n",
              "      <td>5.0</td>\n",
              "      <td>2.0</td>\n",
              "    </tr>\n",
              "    <tr>\n",
              "      <th>3</th>\n",
              "      <td>tt0002101</td>\n",
              "      <td>Cleopatra</td>\n",
              "      <td>Cleopatra</td>\n",
              "      <td>1912</td>\n",
              "      <td>1912-11-13</td>\n",
              "      <td>Drama, History</td>\n",
              "      <td>100</td>\n",
              "      <td>USA</td>\n",
              "      <td>English</td>\n",
              "      <td>Charles L. Gaskill</td>\n",
              "      <td>Victorien Sardou</td>\n",
              "      <td>Helen Gardner Picture Players</td>\n",
              "      <td>Helen Gardner, Pearl Sindelar, Miss Fielding, ...</td>\n",
              "      <td>The fabled queen of Egypt's affair with Roman ...</td>\n",
              "      <td>5.2</td>\n",
              "      <td>446</td>\n",
              "      <td>$ 45000</td>\n",
              "      <td>NaN</td>\n",
              "      <td>NaN</td>\n",
              "      <td>NaN</td>\n",
              "      <td>25.0</td>\n",
              "      <td>3.0</td>\n",
              "    </tr>\n",
              "    <tr>\n",
              "      <th>4</th>\n",
              "      <td>tt0002130</td>\n",
              "      <td>L'Inferno</td>\n",
              "      <td>L'Inferno</td>\n",
              "      <td>1911</td>\n",
              "      <td>1911-03-06</td>\n",
              "      <td>Adventure, Drama, Fantasy</td>\n",
              "      <td>68</td>\n",
              "      <td>Italy</td>\n",
              "      <td>Italian</td>\n",
              "      <td>Francesco Bertolini, Adolfo Padovan</td>\n",
              "      <td>Dante Alighieri</td>\n",
              "      <td>Milano Film</td>\n",
              "      <td>Salvatore Papa, Arturo Pirovano, Giuseppe de L...</td>\n",
              "      <td>Loosely adapted from Dante's Divine Comedy and...</td>\n",
              "      <td>7.0</td>\n",
              "      <td>2237</td>\n",
              "      <td>NaN</td>\n",
              "      <td>NaN</td>\n",
              "      <td>NaN</td>\n",
              "      <td>NaN</td>\n",
              "      <td>31.0</td>\n",
              "      <td>14.0</td>\n",
              "    </tr>\n",
              "  </tbody>\n",
              "</table>\n",
              "</div>"
            ],
            "text/plain": [
              "  imdb_title_id  ... reviews_from_critics\n",
              "0     tt0000009  ...                  2.0\n",
              "1     tt0000574  ...                  7.0\n",
              "2     tt0001892  ...                  2.0\n",
              "3     tt0002101  ...                  3.0\n",
              "4     tt0002130  ...                 14.0\n",
              "\n",
              "[5 rows x 22 columns]"
            ]
          },
          "metadata": {
            "tags": []
          },
          "execution_count": 87
        }
      ]
    },
    {
      "cell_type": "code",
      "metadata": {
        "colab": {
          "base_uri": "https://localhost:8080/",
          "height": 803
        },
        "id": "UnfReRQvPzse",
        "outputId": "8d99fb38-5933-4a75-93ea-181611f64053"
      },
      "source": [
        "df.tail(7)"
      ],
      "execution_count": null,
      "outputs": [
        {
          "output_type": "execute_result",
          "data": {
            "text/html": [
              "<div>\n",
              "<style scoped>\n",
              "    .dataframe tbody tr th:only-of-type {\n",
              "        vertical-align: middle;\n",
              "    }\n",
              "\n",
              "    .dataframe tbody tr th {\n",
              "        vertical-align: top;\n",
              "    }\n",
              "\n",
              "    .dataframe thead th {\n",
              "        text-align: right;\n",
              "    }\n",
              "</style>\n",
              "<table border=\"1\" class=\"dataframe\">\n",
              "  <thead>\n",
              "    <tr style=\"text-align: right;\">\n",
              "      <th></th>\n",
              "      <th>imdb_title_id</th>\n",
              "      <th>title</th>\n",
              "      <th>original_title</th>\n",
              "      <th>year</th>\n",
              "      <th>date_published</th>\n",
              "      <th>genre</th>\n",
              "      <th>duration</th>\n",
              "      <th>country</th>\n",
              "      <th>language</th>\n",
              "      <th>director</th>\n",
              "      <th>writer</th>\n",
              "      <th>production_company</th>\n",
              "      <th>actors</th>\n",
              "      <th>description</th>\n",
              "      <th>avg_vote</th>\n",
              "      <th>votes</th>\n",
              "      <th>budget</th>\n",
              "      <th>usa_gross_income</th>\n",
              "      <th>worlwide_gross_income</th>\n",
              "      <th>metascore</th>\n",
              "      <th>reviews_from_users</th>\n",
              "      <th>reviews_from_critics</th>\n",
              "    </tr>\n",
              "  </thead>\n",
              "  <tbody>\n",
              "    <tr>\n",
              "      <th>85848</th>\n",
              "      <td>tt9905462</td>\n",
              "      <td>Pengalila</td>\n",
              "      <td>Pengalila</td>\n",
              "      <td>2019</td>\n",
              "      <td>2019-03-08</td>\n",
              "      <td>Drama</td>\n",
              "      <td>111</td>\n",
              "      <td>India</td>\n",
              "      <td>Malayalam</td>\n",
              "      <td>T.V. Chandran</td>\n",
              "      <td>T.V. Chandran</td>\n",
              "      <td>Benzy Productions</td>\n",
              "      <td>Lal, Akshara Kishor, Iniya, Narain, Renji Pani...</td>\n",
              "      <td>An unusual bond between a sixty year old Dalit...</td>\n",
              "      <td>8.8</td>\n",
              "      <td>553</td>\n",
              "      <td>INR 10000000</td>\n",
              "      <td>NaN</td>\n",
              "      <td>NaN</td>\n",
              "      <td>NaN</td>\n",
              "      <td>NaN</td>\n",
              "      <td>NaN</td>\n",
              "    </tr>\n",
              "    <tr>\n",
              "      <th>85849</th>\n",
              "      <td>tt9906644</td>\n",
              "      <td>Manoharam</td>\n",
              "      <td>Manoharam</td>\n",
              "      <td>2019</td>\n",
              "      <td>2019-09-27</td>\n",
              "      <td>Comedy, Drama</td>\n",
              "      <td>122</td>\n",
              "      <td>India</td>\n",
              "      <td>Malayalam</td>\n",
              "      <td>Anvar Sadik</td>\n",
              "      <td>NaN</td>\n",
              "      <td>chakkalakal Films</td>\n",
              "      <td>Vineeth Sreenivasan, Aparna Das, Basil Joseph,...</td>\n",
              "      <td>Manoharan is a poster artist struggling to fin...</td>\n",
              "      <td>6.8</td>\n",
              "      <td>491</td>\n",
              "      <td>NaN</td>\n",
              "      <td>NaN</td>\n",
              "      <td>NaN</td>\n",
              "      <td>NaN</td>\n",
              "      <td>9.0</td>\n",
              "      <td>1.0</td>\n",
              "    </tr>\n",
              "    <tr>\n",
              "      <th>85850</th>\n",
              "      <td>tt9908390</td>\n",
              "      <td>Le lion</td>\n",
              "      <td>Le lion</td>\n",
              "      <td>2020</td>\n",
              "      <td>2020-01-29</td>\n",
              "      <td>Comedy</td>\n",
              "      <td>95</td>\n",
              "      <td>France, Belgium</td>\n",
              "      <td>French</td>\n",
              "      <td>Ludovic Colbeau-Justin</td>\n",
              "      <td>Alexandre Coquelle, Matthieu Le Naour</td>\n",
              "      <td>Monkey Pack Films</td>\n",
              "      <td>Dany Boon, Philippe Katerine, Anne Serra, Samu...</td>\n",
              "      <td>A psychiatric hospital patient pretends to be ...</td>\n",
              "      <td>5.3</td>\n",
              "      <td>398</td>\n",
              "      <td>NaN</td>\n",
              "      <td>NaN</td>\n",
              "      <td>$ 3507171</td>\n",
              "      <td>NaN</td>\n",
              "      <td>NaN</td>\n",
              "      <td>4.0</td>\n",
              "    </tr>\n",
              "    <tr>\n",
              "      <th>85851</th>\n",
              "      <td>tt9911196</td>\n",
              "      <td>De Beentjes van Sint-Hildegard</td>\n",
              "      <td>De Beentjes van Sint-Hildegard</td>\n",
              "      <td>2020</td>\n",
              "      <td>2020-02-13</td>\n",
              "      <td>Comedy, Drama</td>\n",
              "      <td>103</td>\n",
              "      <td>Netherlands</td>\n",
              "      <td>German, Dutch</td>\n",
              "      <td>Johan Nijenhuis</td>\n",
              "      <td>Radek Bajgar, Herman Finkers</td>\n",
              "      <td>Johan Nijenhuis &amp; Co</td>\n",
              "      <td>Herman Finkers, Johanna ter Steege, Leonie ter...</td>\n",
              "      <td>A middle-aged veterinary surgeon believes his ...</td>\n",
              "      <td>7.7</td>\n",
              "      <td>724</td>\n",
              "      <td>NaN</td>\n",
              "      <td>NaN</td>\n",
              "      <td>$ 7299062</td>\n",
              "      <td>NaN</td>\n",
              "      <td>6.0</td>\n",
              "      <td>4.0</td>\n",
              "    </tr>\n",
              "    <tr>\n",
              "      <th>85852</th>\n",
              "      <td>tt9911774</td>\n",
              "      <td>Padmavyuhathile Abhimanyu</td>\n",
              "      <td>Padmavyuhathile Abhimanyu</td>\n",
              "      <td>2019</td>\n",
              "      <td>2019-03-08</td>\n",
              "      <td>Drama</td>\n",
              "      <td>130</td>\n",
              "      <td>India</td>\n",
              "      <td>Malayalam</td>\n",
              "      <td>Vineesh Aaradya</td>\n",
              "      <td>Vineesh Aaradya, Vineesh Aaradya</td>\n",
              "      <td>RMCC Productions</td>\n",
              "      <td>Anoop Chandran, Indrans, Sona Nair, Simon Brit...</td>\n",
              "      <td>NaN</td>\n",
              "      <td>7.9</td>\n",
              "      <td>265</td>\n",
              "      <td>NaN</td>\n",
              "      <td>NaN</td>\n",
              "      <td>NaN</td>\n",
              "      <td>NaN</td>\n",
              "      <td>NaN</td>\n",
              "      <td>NaN</td>\n",
              "    </tr>\n",
              "    <tr>\n",
              "      <th>85853</th>\n",
              "      <td>tt9914286</td>\n",
              "      <td>Sokagin Çocuklari</td>\n",
              "      <td>Sokagin Çocuklari</td>\n",
              "      <td>2019</td>\n",
              "      <td>2019-03-15</td>\n",
              "      <td>Drama, Family</td>\n",
              "      <td>98</td>\n",
              "      <td>Turkey</td>\n",
              "      <td>Turkish</td>\n",
              "      <td>Ahmet Faik Akinci</td>\n",
              "      <td>Ahmet Faik Akinci, Kasim Uçkan</td>\n",
              "      <td>Gizem Ajans</td>\n",
              "      <td>Ahmet Faik Akinci, Belma Mamati, Metin Keçeci,...</td>\n",
              "      <td>NaN</td>\n",
              "      <td>6.4</td>\n",
              "      <td>194</td>\n",
              "      <td>NaN</td>\n",
              "      <td>NaN</td>\n",
              "      <td>$ 2833</td>\n",
              "      <td>NaN</td>\n",
              "      <td>NaN</td>\n",
              "      <td>NaN</td>\n",
              "    </tr>\n",
              "    <tr>\n",
              "      <th>85854</th>\n",
              "      <td>tt9914942</td>\n",
              "      <td>La vida sense la Sara Amat</td>\n",
              "      <td>La vida sense la Sara Amat</td>\n",
              "      <td>2019</td>\n",
              "      <td>2020-02-05</td>\n",
              "      <td>Drama</td>\n",
              "      <td>74</td>\n",
              "      <td>Spain</td>\n",
              "      <td>Catalan</td>\n",
              "      <td>Laura Jou</td>\n",
              "      <td>Coral Cruz, Pep Puig</td>\n",
              "      <td>La Xarxa de Comunicació Local</td>\n",
              "      <td>Maria Morera Colomer, Biel Rossell Pelfort, Is...</td>\n",
              "      <td>Pep, a 13-year-old boy, is in love with a girl...</td>\n",
              "      <td>6.7</td>\n",
              "      <td>102</td>\n",
              "      <td>NaN</td>\n",
              "      <td>NaN</td>\n",
              "      <td>$ 59794</td>\n",
              "      <td>NaN</td>\n",
              "      <td>NaN</td>\n",
              "      <td>2.0</td>\n",
              "    </tr>\n",
              "  </tbody>\n",
              "</table>\n",
              "</div>"
            ],
            "text/plain": [
              "      imdb_title_id  ... reviews_from_critics\n",
              "85848     tt9905462  ...                  NaN\n",
              "85849     tt9906644  ...                  1.0\n",
              "85850     tt9908390  ...                  4.0\n",
              "85851     tt9911196  ...                  4.0\n",
              "85852     tt9911774  ...                  NaN\n",
              "85853     tt9914286  ...                  NaN\n",
              "85854     tt9914942  ...                  2.0\n",
              "\n",
              "[7 rows x 22 columns]"
            ]
          },
          "metadata": {
            "tags": []
          },
          "execution_count": 89
        }
      ]
    },
    {
      "cell_type": "markdown",
      "metadata": {
        "id": "c5I6vAGHPzse"
      },
      "source": [
        "The ``shape`` attribute shows us the number of elements:\n",
        "\n",
        "```\n",
        "df.shape\n",
        "```\n",
        "\n",
        "Note it doesn't have the `()` because it isn't a **_function_** - it is an **_attribute_** or variable attached to the `df` object."
      ]
    },
    {
      "cell_type": "code",
      "metadata": {
        "colab": {
          "base_uri": "https://localhost:8080/"
        },
        "id": "kuRxKpFzPzse",
        "outputId": "2ba8be4a-1f23-4c91-bc7c-49be0b3257ba"
      },
      "source": [
        "df.shape"
      ],
      "execution_count": null,
      "outputs": [
        {
          "output_type": "execute_result",
          "data": {
            "text/plain": [
              "(85855, 22)"
            ]
          },
          "metadata": {
            "tags": []
          },
          "execution_count": 91
        }
      ]
    },
    {
      "cell_type": "markdown",
      "metadata": {
        "id": "LFNsz_yhPzsf"
      },
      "source": [
        "The ``columns`` attribute gives us the column names\n",
        "\n",
        "```\n",
        "df.columns\n",
        "```\n"
      ]
    },
    {
      "cell_type": "code",
      "metadata": {
        "colab": {
          "base_uri": "https://localhost:8080/"
        },
        "id": "t8rnbEc6Pzsf",
        "outputId": "bc5254b6-8fb3-4be9-a116-4d917aaced4a"
      },
      "source": [
        "df.columns"
      ],
      "execution_count": null,
      "outputs": [
        {
          "output_type": "execute_result",
          "data": {
            "text/plain": [
              "Index(['imdb_title_id', 'title', 'original_title', 'year', 'date_published',\n",
              "       'genre', 'duration', 'country', 'language', 'director', 'writer',\n",
              "       'production_company', 'actors', 'description', 'avg_vote', 'votes',\n",
              "       'budget', 'usa_gross_income', 'worlwide_gross_income', 'metascore',\n",
              "       'reviews_from_users', 'reviews_from_critics'],\n",
              "      dtype='object')"
            ]
          },
          "metadata": {
            "tags": []
          },
          "execution_count": 92
        }
      ]
    },
    {
      "cell_type": "markdown",
      "metadata": {
        "id": "UwDl-I6vPzsf"
      },
      "source": [
        "The ``index`` attribute gives us the index names\n",
        "\n",
        "```\n",
        "df.index\n",
        "```"
      ]
    },
    {
      "cell_type": "code",
      "metadata": {
        "colab": {
          "base_uri": "https://localhost:8080/"
        },
        "id": "pOGUtDXePzsf",
        "outputId": "d3fdef1d-db70-402b-f75c-c02b77303df2"
      },
      "source": [
        "df.index"
      ],
      "execution_count": null,
      "outputs": [
        {
          "output_type": "execute_result",
          "data": {
            "text/plain": [
              "RangeIndex(start=0, stop=85855, step=1)"
            ]
          },
          "metadata": {
            "tags": []
          },
          "execution_count": 93
        }
      ]
    },
    {
      "cell_type": "markdown",
      "metadata": {
        "id": "_XV7BEh5Pzsf"
      },
      "source": [
        "The ``dtypes`` attribute gives the data types of each column, remember the data type *_floating point_**?:"
      ]
    },
    {
      "cell_type": "markdown",
      "metadata": {
        "id": "5KKCYJbKPzsg"
      },
      "source": [
        "```\n",
        "df.dtypes\n",
        "```"
      ]
    },
    {
      "cell_type": "code",
      "metadata": {
        "colab": {
          "base_uri": "https://localhost:8080/"
        },
        "id": "YUMPFo3xPzsg",
        "outputId": "4c705852-3606-4539-fbb2-bc1054501090"
      },
      "source": [
        "df.dtypes"
      ],
      "execution_count": null,
      "outputs": [
        {
          "output_type": "execute_result",
          "data": {
            "text/plain": [
              "imdb_title_id             object\n",
              "title                     object\n",
              "original_title            object\n",
              "year                      object\n",
              "date_published            object\n",
              "genre                     object\n",
              "duration                   int64\n",
              "country                   object\n",
              "language                  object\n",
              "director                  object\n",
              "writer                    object\n",
              "production_company        object\n",
              "actors                    object\n",
              "description               object\n",
              "avg_vote                 float64\n",
              "votes                      int64\n",
              "budget                    object\n",
              "usa_gross_income          object\n",
              "worlwide_gross_income     object\n",
              "metascore                float64\n",
              "reviews_from_users       float64\n",
              "reviews_from_critics     float64\n",
              "dtype: object"
            ]
          },
          "metadata": {
            "tags": []
          },
          "execution_count": 94
        }
      ]
    },
    {
      "cell_type": "code",
      "metadata": {
        "colab": {
          "base_uri": "https://localhost:8080/",
          "height": 299
        },
        "id": "2_A7Fv_XPzsg",
        "outputId": "f91d8be7-8d48-4a1c-9a9d-98ebaf8f1c7b"
      },
      "source": [
        "df.describe()"
      ],
      "execution_count": null,
      "outputs": [
        {
          "output_type": "execute_result",
          "data": {
            "text/html": [
              "<div>\n",
              "<style scoped>\n",
              "    .dataframe tbody tr th:only-of-type {\n",
              "        vertical-align: middle;\n",
              "    }\n",
              "\n",
              "    .dataframe tbody tr th {\n",
              "        vertical-align: top;\n",
              "    }\n",
              "\n",
              "    .dataframe thead th {\n",
              "        text-align: right;\n",
              "    }\n",
              "</style>\n",
              "<table border=\"1\" class=\"dataframe\">\n",
              "  <thead>\n",
              "    <tr style=\"text-align: right;\">\n",
              "      <th></th>\n",
              "      <th>duration</th>\n",
              "      <th>avg_vote</th>\n",
              "      <th>votes</th>\n",
              "      <th>metascore</th>\n",
              "      <th>reviews_from_users</th>\n",
              "      <th>reviews_from_critics</th>\n",
              "    </tr>\n",
              "  </thead>\n",
              "  <tbody>\n",
              "    <tr>\n",
              "      <th>count</th>\n",
              "      <td>85855.000000</td>\n",
              "      <td>85855.000000</td>\n",
              "      <td>8.585500e+04</td>\n",
              "      <td>13305.000000</td>\n",
              "      <td>78258.000000</td>\n",
              "      <td>74058.000000</td>\n",
              "    </tr>\n",
              "    <tr>\n",
              "      <th>mean</th>\n",
              "      <td>100.351418</td>\n",
              "      <td>5.898656</td>\n",
              "      <td>9.493490e+03</td>\n",
              "      <td>55.896881</td>\n",
              "      <td>46.040826</td>\n",
              "      <td>27.479989</td>\n",
              "    </tr>\n",
              "    <tr>\n",
              "      <th>std</th>\n",
              "      <td>22.553848</td>\n",
              "      <td>1.234987</td>\n",
              "      <td>5.357436e+04</td>\n",
              "      <td>17.784874</td>\n",
              "      <td>178.511411</td>\n",
              "      <td>58.339158</td>\n",
              "    </tr>\n",
              "    <tr>\n",
              "      <th>min</th>\n",
              "      <td>41.000000</td>\n",
              "      <td>1.000000</td>\n",
              "      <td>9.900000e+01</td>\n",
              "      <td>1.000000</td>\n",
              "      <td>1.000000</td>\n",
              "      <td>1.000000</td>\n",
              "    </tr>\n",
              "    <tr>\n",
              "      <th>25%</th>\n",
              "      <td>88.000000</td>\n",
              "      <td>5.200000</td>\n",
              "      <td>2.050000e+02</td>\n",
              "      <td>43.000000</td>\n",
              "      <td>4.000000</td>\n",
              "      <td>3.000000</td>\n",
              "    </tr>\n",
              "    <tr>\n",
              "      <th>50%</th>\n",
              "      <td>96.000000</td>\n",
              "      <td>6.100000</td>\n",
              "      <td>4.840000e+02</td>\n",
              "      <td>57.000000</td>\n",
              "      <td>9.000000</td>\n",
              "      <td>8.000000</td>\n",
              "    </tr>\n",
              "    <tr>\n",
              "      <th>75%</th>\n",
              "      <td>108.000000</td>\n",
              "      <td>6.800000</td>\n",
              "      <td>1.766500e+03</td>\n",
              "      <td>69.000000</td>\n",
              "      <td>27.000000</td>\n",
              "      <td>23.000000</td>\n",
              "    </tr>\n",
              "    <tr>\n",
              "      <th>max</th>\n",
              "      <td>808.000000</td>\n",
              "      <td>9.900000</td>\n",
              "      <td>2.278845e+06</td>\n",
              "      <td>100.000000</td>\n",
              "      <td>10472.000000</td>\n",
              "      <td>999.000000</td>\n",
              "    </tr>\n",
              "  </tbody>\n",
              "</table>\n",
              "</div>"
            ],
            "text/plain": [
              "           duration      avg_vote  ...  reviews_from_users  reviews_from_critics\n",
              "count  85855.000000  85855.000000  ...        78258.000000          74058.000000\n",
              "mean     100.351418      5.898656  ...           46.040826             27.479989\n",
              "std       22.553848      1.234987  ...          178.511411             58.339158\n",
              "min       41.000000      1.000000  ...            1.000000              1.000000\n",
              "25%       88.000000      5.200000  ...            4.000000              3.000000\n",
              "50%       96.000000      6.100000  ...            9.000000              8.000000\n",
              "75%      108.000000      6.800000  ...           27.000000             23.000000\n",
              "max      808.000000      9.900000  ...        10472.000000            999.000000\n",
              "\n",
              "[8 rows x 6 columns]"
            ]
          },
          "metadata": {
            "tags": []
          },
          "execution_count": 95
        }
      ]
    },
    {
      "cell_type": "markdown",
      "metadata": {
        "id": "KltxRlPGKYLw"
      },
      "source": [
        "#### Exercise 3: Viewing DataFrames\n",
        "\n",
        "Using the dataframe you made in exercise 2, return the following attributes: the datatype stored in each column, the column names, the indices, and the shape."
      ]
    },
    {
      "cell_type": "code",
      "metadata": {
        "id": "Wk1xlNQcKkuS",
        "colab": {
          "base_uri": "https://localhost:8080/"
        },
        "outputId": "c5e15b3e-3c1e-42a3-a62e-1d8bb907858f"
      },
      "source": [
        "# Cell for Ex 3\n",
        "print(faves.dtypes)\n",
        "print(faves.columns)\n",
        "print(faves.index)\n",
        "print(faves.shape)"
      ],
      "execution_count": null,
      "outputs": [
        {
          "output_type": "stream",
          "text": [
            "movies    object\n",
            "songs     object\n",
            "books     object\n",
            "dtype: object\n",
            "Index(['movies', 'songs', 'books'], dtype='object')\n",
            "RangeIndex(start=0, stop=5, step=1)\n",
            "(5, 3)\n"
          ],
          "name": "stdout"
        }
      ]
    },
    {
      "cell_type": "code",
      "metadata": {
        "colab": {
          "base_uri": "https://localhost:8080/"
        },
        "id": "7RHQp1njmTpu",
        "outputId": "0b5b8e7c-ecfb-42d5-c097-a9c18c149c51"
      },
      "source": [
        "my_dictionary = {'A': ['apple', 'airplane'], 'B': ['bananana', 'bubbles']}\n",
        "my_dictionary"
      ],
      "execution_count": null,
      "outputs": [
        {
          "output_type": "execute_result",
          "data": {
            "text/plain": [
              "{'A': ['apple', 'airplane'], 'B': ['bananana', 'bubbles']}"
            ]
          },
          "metadata": {
            "tags": []
          },
          "execution_count": 103
        }
      ]
    },
    {
      "cell_type": "code",
      "metadata": {
        "colab": {
          "base_uri": "https://localhost:8080/"
        },
        "id": "L5GDPA04mLjp",
        "outputId": "556a1fc2-2e8d-4d26-9743-358952523c2d"
      },
      "source": [
        "my_dictionary.pop('A')"
      ],
      "execution_count": null,
      "outputs": [
        {
          "output_type": "execute_result",
          "data": {
            "text/plain": [
              "['apple', 'airplane']"
            ]
          },
          "metadata": {
            "tags": []
          },
          "execution_count": 104
        }
      ]
    },
    {
      "cell_type": "code",
      "metadata": {
        "colab": {
          "base_uri": "https://localhost:8080/"
        },
        "id": "-bCqLfGemP7Z",
        "outputId": "a9dd9627-8fc2-493f-b5f3-6af3b3ed3bcb"
      },
      "source": [
        "my_dictionary"
      ],
      "execution_count": null,
      "outputs": [
        {
          "output_type": "execute_result",
          "data": {
            "text/plain": [
              "{'B': ['bananana', 'bubbles']}"
            ]
          },
          "metadata": {
            "tags": []
          },
          "execution_count": 105
        }
      ]
    },
    {
      "cell_type": "markdown",
      "metadata": {
        "id": "WfYbG-pPPzsh"
      },
      "source": [
        "### 3.3.4 Manipulating data with ``pandas``\n",
        "\n",
        "Here we'll cover some key features of manipulating data with pandas"
      ]
    },
    {
      "cell_type": "markdown",
      "metadata": {
        "id": "_pokF7EOPzsh"
      },
      "source": [
        "#### 3.3.4.1 Selection\n",
        "\n",
        "Access columns by name using square-bracket indexing:\n",
        "\n",
        "```\n",
        "df['duration']\n",
        "```"
      ]
    },
    {
      "cell_type": "code",
      "metadata": {
        "colab": {
          "base_uri": "https://localhost:8080/"
        },
        "id": "q9LA936CPzsh",
        "outputId": "38c53829-f983-442e-eb8c-81f800a4f5b4"
      },
      "source": [
        "df['duration']"
      ],
      "execution_count": null,
      "outputs": [
        {
          "output_type": "execute_result",
          "data": {
            "text/plain": [
              "0         45\n",
              "1         70\n",
              "2         53\n",
              "3        100\n",
              "4         68\n",
              "        ... \n",
              "85850     95\n",
              "85851    103\n",
              "85852    130\n",
              "85853     98\n",
              "85854     74\n",
              "Name: duration, Length: 85855, dtype: int64"
            ]
          },
          "metadata": {
            "tags": []
          },
          "execution_count": 113
        }
      ]
    },
    {
      "cell_type": "markdown",
      "metadata": {
        "id": "KSCEM8F_Pzsi"
      },
      "source": [
        "Mathematical operations on columns happen *element-wise*:\n",
        "\n",
        "```\n",
        "df['duration'] / 60\n",
        "```"
      ]
    },
    {
      "cell_type": "code",
      "metadata": {
        "colab": {
          "base_uri": "https://localhost:8080/"
        },
        "id": "WYGO0ukzPzsj",
        "outputId": "1465b52c-f83e-433a-9abb-3e66840ad219"
      },
      "source": [
        "df['duration'] / 60"
      ],
      "execution_count": null,
      "outputs": [
        {
          "output_type": "execute_result",
          "data": {
            "text/plain": [
              "0        0.750000\n",
              "1        1.166667\n",
              "2        0.883333\n",
              "3        1.666667\n",
              "4        1.133333\n",
              "           ...   \n",
              "85850    1.583333\n",
              "85851    1.716667\n",
              "85852    2.166667\n",
              "85853    1.633333\n",
              "85854    1.233333\n",
              "Name: duration, Length: 85855, dtype: float64"
            ]
          },
          "metadata": {
            "tags": []
          },
          "execution_count": 114
        }
      ]
    },
    {
      "cell_type": "markdown",
      "metadata": {
        "id": "VdRIMdqoPzsk"
      },
      "source": [
        "\n",
        "Columns can be created (or overwritten) with the assignment operator.\n",
        "Let's create a column with duration in hours.\n",
        "\n",
        "```\n",
        "df['duration (hours)'] = df['duration'] / 60\n",
        "```"
      ]
    },
    {
      "cell_type": "code",
      "metadata": {
        "id": "Kfd6k6IqPzsk"
      },
      "source": [
        "df['duration (hours)'] = df['duration'] / 60"
      ],
      "execution_count": null,
      "outputs": []
    },
    {
      "cell_type": "markdown",
      "metadata": {
        "id": "heAtfVUAPzsk"
      },
      "source": [
        "Let's use the `.head()` **_function_** to see our new data!\n",
        "\n",
        "```\n",
        "df.head()\n",
        "```"
      ]
    },
    {
      "cell_type": "code",
      "metadata": {
        "colab": {
          "base_uri": "https://localhost:8080/",
          "height": 689
        },
        "id": "bkJrMJXvPzsk",
        "outputId": "6dce9bb0-5f48-4b93-8067-17166cc240a4"
      },
      "source": [
        "df.head()"
      ],
      "execution_count": null,
      "outputs": [
        {
          "output_type": "execute_result",
          "data": {
            "text/html": [
              "<div>\n",
              "<style scoped>\n",
              "    .dataframe tbody tr th:only-of-type {\n",
              "        vertical-align: middle;\n",
              "    }\n",
              "\n",
              "    .dataframe tbody tr th {\n",
              "        vertical-align: top;\n",
              "    }\n",
              "\n",
              "    .dataframe thead th {\n",
              "        text-align: right;\n",
              "    }\n",
              "</style>\n",
              "<table border=\"1\" class=\"dataframe\">\n",
              "  <thead>\n",
              "    <tr style=\"text-align: right;\">\n",
              "      <th></th>\n",
              "      <th>imdb_title_id</th>\n",
              "      <th>title</th>\n",
              "      <th>original_title</th>\n",
              "      <th>year</th>\n",
              "      <th>date_published</th>\n",
              "      <th>genre</th>\n",
              "      <th>duration</th>\n",
              "      <th>country</th>\n",
              "      <th>language</th>\n",
              "      <th>director</th>\n",
              "      <th>writer</th>\n",
              "      <th>production_company</th>\n",
              "      <th>actors</th>\n",
              "      <th>description</th>\n",
              "      <th>avg_vote</th>\n",
              "      <th>votes</th>\n",
              "      <th>budget</th>\n",
              "      <th>usa_gross_income</th>\n",
              "      <th>worlwide_gross_income</th>\n",
              "      <th>metascore</th>\n",
              "      <th>reviews_from_users</th>\n",
              "      <th>reviews_from_critics</th>\n",
              "      <th>duration (hours)</th>\n",
              "    </tr>\n",
              "  </thead>\n",
              "  <tbody>\n",
              "    <tr>\n",
              "      <th>0</th>\n",
              "      <td>tt0000009</td>\n",
              "      <td>Miss Jerry</td>\n",
              "      <td>Miss Jerry</td>\n",
              "      <td>1894</td>\n",
              "      <td>1894-10-09</td>\n",
              "      <td>Romance</td>\n",
              "      <td>45</td>\n",
              "      <td>USA</td>\n",
              "      <td>None</td>\n",
              "      <td>Alexander Black</td>\n",
              "      <td>Alexander Black</td>\n",
              "      <td>Alexander Black Photoplays</td>\n",
              "      <td>Blanche Bayliss, William Courtenay, Chauncey D...</td>\n",
              "      <td>The adventures of a female reporter in the 1890s.</td>\n",
              "      <td>5.9</td>\n",
              "      <td>154</td>\n",
              "      <td>NaN</td>\n",
              "      <td>NaN</td>\n",
              "      <td>NaN</td>\n",
              "      <td>NaN</td>\n",
              "      <td>1.0</td>\n",
              "      <td>2.0</td>\n",
              "      <td>0.750000</td>\n",
              "    </tr>\n",
              "    <tr>\n",
              "      <th>1</th>\n",
              "      <td>tt0000574</td>\n",
              "      <td>The Story of the Kelly Gang</td>\n",
              "      <td>The Story of the Kelly Gang</td>\n",
              "      <td>1906</td>\n",
              "      <td>1906-12-26</td>\n",
              "      <td>Biography, Crime, Drama</td>\n",
              "      <td>70</td>\n",
              "      <td>Australia</td>\n",
              "      <td>None</td>\n",
              "      <td>Charles Tait</td>\n",
              "      <td>Charles Tait</td>\n",
              "      <td>J. and N. Tait</td>\n",
              "      <td>Elizabeth Tait, John Tait, Norman Campbell, Be...</td>\n",
              "      <td>True story of notorious Australian outlaw Ned ...</td>\n",
              "      <td>6.1</td>\n",
              "      <td>589</td>\n",
              "      <td>$ 2250</td>\n",
              "      <td>NaN</td>\n",
              "      <td>NaN</td>\n",
              "      <td>NaN</td>\n",
              "      <td>7.0</td>\n",
              "      <td>7.0</td>\n",
              "      <td>1.166667</td>\n",
              "    </tr>\n",
              "    <tr>\n",
              "      <th>2</th>\n",
              "      <td>tt0001892</td>\n",
              "      <td>Den sorte drøm</td>\n",
              "      <td>Den sorte drøm</td>\n",
              "      <td>1911</td>\n",
              "      <td>1911-08-19</td>\n",
              "      <td>Drama</td>\n",
              "      <td>53</td>\n",
              "      <td>Germany, Denmark</td>\n",
              "      <td>NaN</td>\n",
              "      <td>Urban Gad</td>\n",
              "      <td>Urban Gad, Gebhard Schätzler-Perasini</td>\n",
              "      <td>Fotorama</td>\n",
              "      <td>Asta Nielsen, Valdemar Psilander, Gunnar Helse...</td>\n",
              "      <td>Two men of high rank are both wooing the beaut...</td>\n",
              "      <td>5.8</td>\n",
              "      <td>188</td>\n",
              "      <td>NaN</td>\n",
              "      <td>NaN</td>\n",
              "      <td>NaN</td>\n",
              "      <td>NaN</td>\n",
              "      <td>5.0</td>\n",
              "      <td>2.0</td>\n",
              "      <td>0.883333</td>\n",
              "    </tr>\n",
              "    <tr>\n",
              "      <th>3</th>\n",
              "      <td>tt0002101</td>\n",
              "      <td>Cleopatra</td>\n",
              "      <td>Cleopatra</td>\n",
              "      <td>1912</td>\n",
              "      <td>1912-11-13</td>\n",
              "      <td>Drama, History</td>\n",
              "      <td>100</td>\n",
              "      <td>USA</td>\n",
              "      <td>English</td>\n",
              "      <td>Charles L. Gaskill</td>\n",
              "      <td>Victorien Sardou</td>\n",
              "      <td>Helen Gardner Picture Players</td>\n",
              "      <td>Helen Gardner, Pearl Sindelar, Miss Fielding, ...</td>\n",
              "      <td>The fabled queen of Egypt's affair with Roman ...</td>\n",
              "      <td>5.2</td>\n",
              "      <td>446</td>\n",
              "      <td>$ 45000</td>\n",
              "      <td>NaN</td>\n",
              "      <td>NaN</td>\n",
              "      <td>NaN</td>\n",
              "      <td>25.0</td>\n",
              "      <td>3.0</td>\n",
              "      <td>1.666667</td>\n",
              "    </tr>\n",
              "    <tr>\n",
              "      <th>4</th>\n",
              "      <td>tt0002130</td>\n",
              "      <td>L'Inferno</td>\n",
              "      <td>L'Inferno</td>\n",
              "      <td>1911</td>\n",
              "      <td>1911-03-06</td>\n",
              "      <td>Adventure, Drama, Fantasy</td>\n",
              "      <td>68</td>\n",
              "      <td>Italy</td>\n",
              "      <td>Italian</td>\n",
              "      <td>Francesco Bertolini, Adolfo Padovan</td>\n",
              "      <td>Dante Alighieri</td>\n",
              "      <td>Milano Film</td>\n",
              "      <td>Salvatore Papa, Arturo Pirovano, Giuseppe de L...</td>\n",
              "      <td>Loosely adapted from Dante's Divine Comedy and...</td>\n",
              "      <td>7.0</td>\n",
              "      <td>2237</td>\n",
              "      <td>NaN</td>\n",
              "      <td>NaN</td>\n",
              "      <td>NaN</td>\n",
              "      <td>NaN</td>\n",
              "      <td>31.0</td>\n",
              "      <td>14.0</td>\n",
              "      <td>1.133333</td>\n",
              "    </tr>\n",
              "  </tbody>\n",
              "</table>\n",
              "</div>"
            ],
            "text/plain": [
              "  imdb_title_id  ... duration (hours)\n",
              "0     tt0000009  ...         0.750000\n",
              "1     tt0000574  ...         1.166667\n",
              "2     tt0001892  ...         0.883333\n",
              "3     tt0002101  ...         1.666667\n",
              "4     tt0002130  ...         1.133333\n",
              "\n",
              "[5 rows x 23 columns]"
            ]
          },
          "metadata": {
            "tags": []
          },
          "execution_count": 116
        }
      ]
    },
    {
      "cell_type": "markdown",
      "metadata": {
        "id": "bot-_goNPzsl"
      },
      "source": [
        "##### 3.3.4.1.1 `loc` and `iloc`\n",
        "\n",
        "Pandas provides a powerful way to work with both rows and columns together, optionally using their label indices or numeric indices.\n",
        "\n",
        "- **`.loc :`**<br/>\n",
        "Purely label-location based indexer for selection by label (but may also be used with a boolean array).<br/>\n",
        "  **Important: If you use slicing in loc, it will return the end index as well**\n",
        "  \n",
        "\n",
        "- **`.iloc:`**<br/>\n",
        "Purely integer-location based indexing for selection by position (but may also be used with a boolean array)."
      ]
    },
    {
      "cell_type": "code",
      "metadata": {
        "colab": {
          "base_uri": "https://localhost:8080/"
        },
        "id": "JUNWRUQdPzsl",
        "outputId": "a529b5e2-e6e5-41f9-aedf-193b37ada46a"
      },
      "source": [
        "df.columns"
      ],
      "execution_count": null,
      "outputs": [
        {
          "output_type": "execute_result",
          "data": {
            "text/plain": [
              "Index(['imdb_title_id', 'title', 'original_title', 'year', 'date_published',\n",
              "       'genre', 'duration', 'country', 'language', 'director', 'writer',\n",
              "       'production_company', 'actors', 'description', 'avg_vote', 'votes',\n",
              "       'budget', 'usa_gross_income', 'worlwide_gross_income', 'metascore',\n",
              "       'reviews_from_users', 'reviews_from_critics', 'duration (hours)'],\n",
              "      dtype='object')"
            ]
          },
          "metadata": {
            "tags": []
          },
          "execution_count": 131
        }
      ]
    },
    {
      "cell_type": "code",
      "metadata": {
        "colab": {
          "base_uri": "https://localhost:8080/",
          "height": 1000
        },
        "id": "0i8MWIAKPzsl",
        "outputId": "52fc75b3-0489-4b31-999a-b67d1f270aeb"
      },
      "source": [
        "df.loc[::2, ::2]"
      ],
      "execution_count": null,
      "outputs": [
        {
          "output_type": "execute_result",
          "data": {
            "text/html": [
              "<div>\n",
              "<style scoped>\n",
              "    .dataframe tbody tr th:only-of-type {\n",
              "        vertical-align: middle;\n",
              "    }\n",
              "\n",
              "    .dataframe tbody tr th {\n",
              "        vertical-align: top;\n",
              "    }\n",
              "\n",
              "    .dataframe thead th {\n",
              "        text-align: right;\n",
              "    }\n",
              "</style>\n",
              "<table border=\"1\" class=\"dataframe\">\n",
              "  <thead>\n",
              "    <tr style=\"text-align: right;\">\n",
              "      <th></th>\n",
              "      <th>imdb_title_id</th>\n",
              "      <th>original_title</th>\n",
              "      <th>date_published</th>\n",
              "      <th>duration</th>\n",
              "      <th>language</th>\n",
              "      <th>writer</th>\n",
              "      <th>actors</th>\n",
              "      <th>avg_vote</th>\n",
              "      <th>budget</th>\n",
              "      <th>worlwide_gross_income</th>\n",
              "      <th>reviews_from_users</th>\n",
              "      <th>duration (hours)</th>\n",
              "    </tr>\n",
              "  </thead>\n",
              "  <tbody>\n",
              "    <tr>\n",
              "      <th>0</th>\n",
              "      <td>tt0000009</td>\n",
              "      <td>Miss Jerry</td>\n",
              "      <td>1894-10-09</td>\n",
              "      <td>45</td>\n",
              "      <td>None</td>\n",
              "      <td>Alexander Black</td>\n",
              "      <td>Blanche Bayliss, William Courtenay, Chauncey D...</td>\n",
              "      <td>5.9</td>\n",
              "      <td>NaN</td>\n",
              "      <td>NaN</td>\n",
              "      <td>1.0</td>\n",
              "      <td>0.750000</td>\n",
              "    </tr>\n",
              "    <tr>\n",
              "      <th>2</th>\n",
              "      <td>tt0001892</td>\n",
              "      <td>Den sorte drøm</td>\n",
              "      <td>1911-08-19</td>\n",
              "      <td>53</td>\n",
              "      <td>NaN</td>\n",
              "      <td>Urban Gad, Gebhard Schätzler-Perasini</td>\n",
              "      <td>Asta Nielsen, Valdemar Psilander, Gunnar Helse...</td>\n",
              "      <td>5.8</td>\n",
              "      <td>NaN</td>\n",
              "      <td>NaN</td>\n",
              "      <td>5.0</td>\n",
              "      <td>0.883333</td>\n",
              "    </tr>\n",
              "    <tr>\n",
              "      <th>4</th>\n",
              "      <td>tt0002130</td>\n",
              "      <td>L'Inferno</td>\n",
              "      <td>1911-03-06</td>\n",
              "      <td>68</td>\n",
              "      <td>Italian</td>\n",
              "      <td>Dante Alighieri</td>\n",
              "      <td>Salvatore Papa, Arturo Pirovano, Giuseppe de L...</td>\n",
              "      <td>7.0</td>\n",
              "      <td>NaN</td>\n",
              "      <td>NaN</td>\n",
              "      <td>31.0</td>\n",
              "      <td>1.133333</td>\n",
              "    </tr>\n",
              "    <tr>\n",
              "      <th>6</th>\n",
              "      <td>tt0002423</td>\n",
              "      <td>Madame DuBarry</td>\n",
              "      <td>1919-11-26</td>\n",
              "      <td>85</td>\n",
              "      <td>German</td>\n",
              "      <td>Norbert Falk, Hanns Kräly</td>\n",
              "      <td>Pola Negri, Emil Jannings, Harry Liedtke, Edua...</td>\n",
              "      <td>6.8</td>\n",
              "      <td>NaN</td>\n",
              "      <td>NaN</td>\n",
              "      <td>12.0</td>\n",
              "      <td>1.416667</td>\n",
              "    </tr>\n",
              "    <tr>\n",
              "      <th>8</th>\n",
              "      <td>tt0002452</td>\n",
              "      <td>Independenta Romaniei</td>\n",
              "      <td>1912-09-01</td>\n",
              "      <td>120</td>\n",
              "      <td>NaN</td>\n",
              "      <td>Aristide Demetriade, Petre Liciu</td>\n",
              "      <td>Aristide Demetriade, Constanta Demetriade, Con...</td>\n",
              "      <td>6.7</td>\n",
              "      <td>ROL 400000</td>\n",
              "      <td>NaN</td>\n",
              "      <td>4.0</td>\n",
              "      <td>2.000000</td>\n",
              "    </tr>\n",
              "    <tr>\n",
              "      <th>...</th>\n",
              "      <td>...</td>\n",
              "      <td>...</td>\n",
              "      <td>...</td>\n",
              "      <td>...</td>\n",
              "      <td>...</td>\n",
              "      <td>...</td>\n",
              "      <td>...</td>\n",
              "      <td>...</td>\n",
              "      <td>...</td>\n",
              "      <td>...</td>\n",
              "      <td>...</td>\n",
              "      <td>...</td>\n",
              "    </tr>\n",
              "    <tr>\n",
              "      <th>85846</th>\n",
              "      <td>tt9904802</td>\n",
              "      <td>Enemy Lines</td>\n",
              "      <td>2020-05-04</td>\n",
              "      <td>92</td>\n",
              "      <td>English, Polish, Russian, German</td>\n",
              "      <td>Michael Wright, Tom George</td>\n",
              "      <td>Ed Westwick, John Hannah, Tom Wisdom, Corey Jo...</td>\n",
              "      <td>5.0</td>\n",
              "      <td>NaN</td>\n",
              "      <td>NaN</td>\n",
              "      <td>29.0</td>\n",
              "      <td>1.533333</td>\n",
              "    </tr>\n",
              "    <tr>\n",
              "      <th>85848</th>\n",
              "      <td>tt9905462</td>\n",
              "      <td>Pengalila</td>\n",
              "      <td>2019-03-08</td>\n",
              "      <td>111</td>\n",
              "      <td>Malayalam</td>\n",
              "      <td>T.V. Chandran</td>\n",
              "      <td>Lal, Akshara Kishor, Iniya, Narain, Renji Pani...</td>\n",
              "      <td>8.8</td>\n",
              "      <td>INR 10000000</td>\n",
              "      <td>NaN</td>\n",
              "      <td>NaN</td>\n",
              "      <td>1.850000</td>\n",
              "    </tr>\n",
              "    <tr>\n",
              "      <th>85850</th>\n",
              "      <td>tt9908390</td>\n",
              "      <td>Le lion</td>\n",
              "      <td>2020-01-29</td>\n",
              "      <td>95</td>\n",
              "      <td>French</td>\n",
              "      <td>Alexandre Coquelle, Matthieu Le Naour</td>\n",
              "      <td>Dany Boon, Philippe Katerine, Anne Serra, Samu...</td>\n",
              "      <td>5.3</td>\n",
              "      <td>NaN</td>\n",
              "      <td>$ 3507171</td>\n",
              "      <td>NaN</td>\n",
              "      <td>1.583333</td>\n",
              "    </tr>\n",
              "    <tr>\n",
              "      <th>85852</th>\n",
              "      <td>tt9911774</td>\n",
              "      <td>Padmavyuhathile Abhimanyu</td>\n",
              "      <td>2019-03-08</td>\n",
              "      <td>130</td>\n",
              "      <td>Malayalam</td>\n",
              "      <td>Vineesh Aaradya, Vineesh Aaradya</td>\n",
              "      <td>Anoop Chandran, Indrans, Sona Nair, Simon Brit...</td>\n",
              "      <td>7.9</td>\n",
              "      <td>NaN</td>\n",
              "      <td>NaN</td>\n",
              "      <td>NaN</td>\n",
              "      <td>2.166667</td>\n",
              "    </tr>\n",
              "    <tr>\n",
              "      <th>85854</th>\n",
              "      <td>tt9914942</td>\n",
              "      <td>La vida sense la Sara Amat</td>\n",
              "      <td>2020-02-05</td>\n",
              "      <td>74</td>\n",
              "      <td>Catalan</td>\n",
              "      <td>Coral Cruz, Pep Puig</td>\n",
              "      <td>Maria Morera Colomer, Biel Rossell Pelfort, Is...</td>\n",
              "      <td>6.7</td>\n",
              "      <td>NaN</td>\n",
              "      <td>$ 59794</td>\n",
              "      <td>NaN</td>\n",
              "      <td>1.233333</td>\n",
              "    </tr>\n",
              "  </tbody>\n",
              "</table>\n",
              "<p>42928 rows × 12 columns</p>\n",
              "</div>"
            ],
            "text/plain": [
              "      imdb_title_id  ... duration (hours)\n",
              "0         tt0000009  ...         0.750000\n",
              "2         tt0001892  ...         0.883333\n",
              "4         tt0002130  ...         1.133333\n",
              "6         tt0002423  ...         1.416667\n",
              "8         tt0002452  ...         2.000000\n",
              "...             ...  ...              ...\n",
              "85846     tt9904802  ...         1.533333\n",
              "85848     tt9905462  ...         1.850000\n",
              "85850     tt9908390  ...         1.583333\n",
              "85852     tt9911774  ...         2.166667\n",
              "85854     tt9914942  ...         1.233333\n",
              "\n",
              "[42928 rows x 12 columns]"
            ]
          },
          "metadata": {
            "tags": []
          },
          "execution_count": 166
        }
      ]
    },
    {
      "cell_type": "code",
      "metadata": {
        "colab": {
          "base_uri": "https://localhost:8080/",
          "height": 205
        },
        "id": "U1vqDHtpPzsl",
        "outputId": "27e7ff3b-24fe-4be1-ee51-10bacfa99d5e"
      },
      "source": [
        "df.iloc[-5:, -5:]"
      ],
      "execution_count": null,
      "outputs": [
        {
          "output_type": "execute_result",
          "data": {
            "text/html": [
              "<div>\n",
              "<style scoped>\n",
              "    .dataframe tbody tr th:only-of-type {\n",
              "        vertical-align: middle;\n",
              "    }\n",
              "\n",
              "    .dataframe tbody tr th {\n",
              "        vertical-align: top;\n",
              "    }\n",
              "\n",
              "    .dataframe thead th {\n",
              "        text-align: right;\n",
              "    }\n",
              "</style>\n",
              "<table border=\"1\" class=\"dataframe\">\n",
              "  <thead>\n",
              "    <tr style=\"text-align: right;\">\n",
              "      <th></th>\n",
              "      <th>worlwide_gross_income</th>\n",
              "      <th>metascore</th>\n",
              "      <th>reviews_from_users</th>\n",
              "      <th>reviews_from_critics</th>\n",
              "      <th>duration (hours)</th>\n",
              "    </tr>\n",
              "  </thead>\n",
              "  <tbody>\n",
              "    <tr>\n",
              "      <th>85850</th>\n",
              "      <td>$ 3507171</td>\n",
              "      <td>NaN</td>\n",
              "      <td>NaN</td>\n",
              "      <td>4.0</td>\n",
              "      <td>1.583333</td>\n",
              "    </tr>\n",
              "    <tr>\n",
              "      <th>85851</th>\n",
              "      <td>$ 7299062</td>\n",
              "      <td>NaN</td>\n",
              "      <td>6.0</td>\n",
              "      <td>4.0</td>\n",
              "      <td>1.716667</td>\n",
              "    </tr>\n",
              "    <tr>\n",
              "      <th>85852</th>\n",
              "      <td>NaN</td>\n",
              "      <td>NaN</td>\n",
              "      <td>NaN</td>\n",
              "      <td>NaN</td>\n",
              "      <td>2.166667</td>\n",
              "    </tr>\n",
              "    <tr>\n",
              "      <th>85853</th>\n",
              "      <td>$ 2833</td>\n",
              "      <td>NaN</td>\n",
              "      <td>NaN</td>\n",
              "      <td>NaN</td>\n",
              "      <td>1.633333</td>\n",
              "    </tr>\n",
              "    <tr>\n",
              "      <th>85854</th>\n",
              "      <td>$ 59794</td>\n",
              "      <td>NaN</td>\n",
              "      <td>NaN</td>\n",
              "      <td>2.0</td>\n",
              "      <td>1.233333</td>\n",
              "    </tr>\n",
              "  </tbody>\n",
              "</table>\n",
              "</div>"
            ],
            "text/plain": [
              "      worlwide_gross_income  metascore  ...  reviews_from_critics  duration (hours)\n",
              "85850             $ 3507171        NaN  ...                   4.0          1.583333\n",
              "85851             $ 7299062        NaN  ...                   4.0          1.716667\n",
              "85852                   NaN        NaN  ...                   NaN          2.166667\n",
              "85853                $ 2833        NaN  ...                   NaN          1.633333\n",
              "85854               $ 59794        NaN  ...                   2.0          1.233333\n",
              "\n",
              "[5 rows x 5 columns]"
            ]
          },
          "metadata": {
            "tags": []
          },
          "execution_count": 139
        }
      ]
    },
    {
      "cell_type": "markdown",
      "metadata": {
        "id": "0HHb4MN9Pzsm"
      },
      "source": [
        "##### 3.3.4.1.2 column vs index access"
      ]
    },
    {
      "cell_type": "code",
      "metadata": {
        "colab": {
          "base_uri": "https://localhost:8080/"
        },
        "id": "K0VwiLSCPzsm",
        "outputId": "8e728df3-ae19-48c4-b9ed-740f73b7fe2e"
      },
      "source": [
        "df['title'][:10]"
      ],
      "execution_count": null,
      "outputs": [
        {
          "output_type": "execute_result",
          "data": {
            "text/plain": [
              "0                                           Miss Jerry\n",
              "1                          The Story of the Kelly Gang\n",
              "2                                       Den sorte drøm\n",
              "3                                            Cleopatra\n",
              "4                                            L'Inferno\n",
              "5    From the Manger to the Cross; or, Jesus of Naz...\n",
              "6                                       Madame DuBarry\n",
              "7                                           Quo Vadis?\n",
              "8                                Independenta Romaniei\n",
              "9                                          Richard III\n",
              "Name: title, dtype: object"
            ]
          },
          "metadata": {
            "tags": []
          },
          "execution_count": 145
        }
      ]
    },
    {
      "cell_type": "code",
      "metadata": {
        "colab": {
          "base_uri": "https://localhost:8080/"
        },
        "id": "x2K3fo5opoX8",
        "outputId": "7105edb5-511b-4e33-a9a7-dfd3369475c2"
      },
      "source": [
        "df[:10]['title']"
      ],
      "execution_count": null,
      "outputs": [
        {
          "output_type": "execute_result",
          "data": {
            "text/plain": [
              "0                                           Miss Jerry\n",
              "1                          The Story of the Kelly Gang\n",
              "2                                       Den sorte drøm\n",
              "3                                            Cleopatra\n",
              "4                                            L'Inferno\n",
              "5    From the Manger to the Cross; or, Jesus of Naz...\n",
              "6                                       Madame DuBarry\n",
              "7                                           Quo Vadis?\n",
              "8                                Independenta Romaniei\n",
              "9                                          Richard III\n",
              "Name: title, dtype: object"
            ]
          },
          "metadata": {
            "tags": []
          },
          "execution_count": 150
        }
      ]
    },
    {
      "cell_type": "code",
      "metadata": {
        "id": "VRUq5E01Pzsm"
      },
      "source": [
        "# df[0] # will return an error"
      ],
      "execution_count": null,
      "outputs": []
    },
    {
      "cell_type": "code",
      "metadata": {
        "colab": {
          "base_uri": "https://localhost:8080/"
        },
        "id": "jeQnyVHNqC4w",
        "outputId": "82224d23-6a95-4cc5-e2a3-63d2c9f8f113"
      },
      "source": [
        "my_list = [[10, 20, 30]]*4\n",
        "my_list"
      ],
      "execution_count": null,
      "outputs": [
        {
          "output_type": "execute_result",
          "data": {
            "text/plain": [
              "[[10, 20, 30], [10, 20, 30], [10, 20, 30], [10, 20, 30]]"
            ]
          },
          "metadata": {
            "tags": []
          },
          "execution_count": 153
        }
      ]
    },
    {
      "cell_type": "code",
      "metadata": {
        "colab": {
          "base_uri": "https://localhost:8080/",
          "height": 174
        },
        "id": "viZ8Jc73Pzsm",
        "outputId": "d14cbdc5-9780-42f7-a94e-b798bdd41e31"
      },
      "source": [
        "my_list = [[10, 20, 30]]*4\n",
        "mydf = pd.DataFrame(my_list, \n",
        "                    index=['a','b','c','d'], \n",
        "                    columns=['alpha', 'beta', 'gamma'])\n",
        "mydf"
      ],
      "execution_count": null,
      "outputs": [
        {
          "output_type": "execute_result",
          "data": {
            "text/html": [
              "<div>\n",
              "<style scoped>\n",
              "    .dataframe tbody tr th:only-of-type {\n",
              "        vertical-align: middle;\n",
              "    }\n",
              "\n",
              "    .dataframe tbody tr th {\n",
              "        vertical-align: top;\n",
              "    }\n",
              "\n",
              "    .dataframe thead th {\n",
              "        text-align: right;\n",
              "    }\n",
              "</style>\n",
              "<table border=\"1\" class=\"dataframe\">\n",
              "  <thead>\n",
              "    <tr style=\"text-align: right;\">\n",
              "      <th></th>\n",
              "      <th>alpha</th>\n",
              "      <th>beta</th>\n",
              "      <th>gamma</th>\n",
              "    </tr>\n",
              "  </thead>\n",
              "  <tbody>\n",
              "    <tr>\n",
              "      <th>a</th>\n",
              "      <td>10</td>\n",
              "      <td>20</td>\n",
              "      <td>30</td>\n",
              "    </tr>\n",
              "    <tr>\n",
              "      <th>b</th>\n",
              "      <td>10</td>\n",
              "      <td>20</td>\n",
              "      <td>30</td>\n",
              "    </tr>\n",
              "    <tr>\n",
              "      <th>c</th>\n",
              "      <td>10</td>\n",
              "      <td>20</td>\n",
              "      <td>30</td>\n",
              "    </tr>\n",
              "    <tr>\n",
              "      <th>d</th>\n",
              "      <td>10</td>\n",
              "      <td>20</td>\n",
              "      <td>30</td>\n",
              "    </tr>\n",
              "  </tbody>\n",
              "</table>\n",
              "</div>"
            ],
            "text/plain": [
              "   alpha  beta  gamma\n",
              "a     10    20     30\n",
              "b     10    20     30\n",
              "c     10    20     30\n",
              "d     10    20     30"
            ]
          },
          "metadata": {
            "tags": []
          },
          "execution_count": 154
        }
      ]
    },
    {
      "cell_type": "code",
      "metadata": {
        "id": "6K7nQteYPzsn",
        "colab": {
          "base_uri": "https://localhost:8080/",
          "height": 111
        },
        "outputId": "946e5605-1620-4b29-d69f-a44cc19a2004"
      },
      "source": [
        "mydf.loc['a', 'alpha'] = 'mychange'\n",
        "mydf.loc[['a', 'b'],['alpha']]"
      ],
      "execution_count": null,
      "outputs": [
        {
          "output_type": "execute_result",
          "data": {
            "text/html": [
              "<div>\n",
              "<style scoped>\n",
              "    .dataframe tbody tr th:only-of-type {\n",
              "        vertical-align: middle;\n",
              "    }\n",
              "\n",
              "    .dataframe tbody tr th {\n",
              "        vertical-align: top;\n",
              "    }\n",
              "\n",
              "    .dataframe thead th {\n",
              "        text-align: right;\n",
              "    }\n",
              "</style>\n",
              "<table border=\"1\" class=\"dataframe\">\n",
              "  <thead>\n",
              "    <tr style=\"text-align: right;\">\n",
              "      <th></th>\n",
              "      <th>alpha</th>\n",
              "    </tr>\n",
              "  </thead>\n",
              "  <tbody>\n",
              "    <tr>\n",
              "      <th>a</th>\n",
              "      <td>mychange</td>\n",
              "    </tr>\n",
              "    <tr>\n",
              "      <th>b</th>\n",
              "      <td>10</td>\n",
              "    </tr>\n",
              "  </tbody>\n",
              "</table>\n",
              "</div>"
            ],
            "text/plain": [
              "      alpha\n",
              "a  mychange\n",
              "b        10"
            ]
          },
          "metadata": {
            "tags": []
          },
          "execution_count": 160
        }
      ]
    },
    {
      "cell_type": "code",
      "metadata": {
        "id": "Qop3zwQZPzsn",
        "colab": {
          "base_uri": "https://localhost:8080/"
        },
        "outputId": "40ea21bb-7dea-4052-a659-1e85b9a57ee2"
      },
      "source": [
        "# using this you will get a setting\n",
        "# with copy warning (depending on your pandas warning settings)\n",
        "mydf['alpha']['a'] = 'newchange'"
      ],
      "execution_count": null,
      "outputs": [
        {
          "output_type": "stream",
          "text": [
            "/usr/local/lib/python3.7/dist-packages/ipykernel_launcher.py:3: SettingWithCopyWarning: \n",
            "A value is trying to be set on a copy of a slice from a DataFrame\n",
            "\n",
            "See the caveats in the documentation: https://pandas.pydata.org/pandas-docs/stable/user_guide/indexing.html#returning-a-view-versus-a-copy\n",
            "  This is separate from the ipykernel package so we can avoid doing imports until\n"
          ],
          "name": "stderr"
        }
      ]
    },
    {
      "cell_type": "markdown",
      "metadata": {
        "id": "eBYqFCuMPzsn"
      },
      "source": [
        "You want to use `loc` or `iloc` when setting new values to pandas dataframes."
      ]
    },
    {
      "cell_type": "markdown",
      "metadata": {
        "id": "oDx0rlSsK5P-"
      },
      "source": [
        "##### Exercise 4: Selecting\n",
        "\n",
        "select the first 10 rows of the country, genre, and year columns using `loc`. Repeat the same exercise using `iloc`"
      ]
    },
    {
      "cell_type": "code",
      "metadata": {
        "id": "8NVDEG2gLoL7",
        "colab": {
          "base_uri": "https://localhost:8080/",
          "height": 392
        },
        "outputId": "671241ca-40b9-4f0f-f5cf-fa57f0860770"
      },
      "source": [
        "# Cell for Ex 4\n",
        "df.loc[:10, ['country', 'genre', 'year']]"
      ],
      "execution_count": null,
      "outputs": [
        {
          "output_type": "execute_result",
          "data": {
            "text/html": [
              "<div>\n",
              "<style scoped>\n",
              "    .dataframe tbody tr th:only-of-type {\n",
              "        vertical-align: middle;\n",
              "    }\n",
              "\n",
              "    .dataframe tbody tr th {\n",
              "        vertical-align: top;\n",
              "    }\n",
              "\n",
              "    .dataframe thead th {\n",
              "        text-align: right;\n",
              "    }\n",
              "</style>\n",
              "<table border=\"1\" class=\"dataframe\">\n",
              "  <thead>\n",
              "    <tr style=\"text-align: right;\">\n",
              "      <th></th>\n",
              "      <th>country</th>\n",
              "      <th>genre</th>\n",
              "      <th>year</th>\n",
              "    </tr>\n",
              "  </thead>\n",
              "  <tbody>\n",
              "    <tr>\n",
              "      <th>0</th>\n",
              "      <td>USA</td>\n",
              "      <td>Romance</td>\n",
              "      <td>1894</td>\n",
              "    </tr>\n",
              "    <tr>\n",
              "      <th>1</th>\n",
              "      <td>Australia</td>\n",
              "      <td>Biography, Crime, Drama</td>\n",
              "      <td>1906</td>\n",
              "    </tr>\n",
              "    <tr>\n",
              "      <th>2</th>\n",
              "      <td>Germany, Denmark</td>\n",
              "      <td>Drama</td>\n",
              "      <td>1911</td>\n",
              "    </tr>\n",
              "    <tr>\n",
              "      <th>3</th>\n",
              "      <td>USA</td>\n",
              "      <td>Drama, History</td>\n",
              "      <td>1912</td>\n",
              "    </tr>\n",
              "    <tr>\n",
              "      <th>4</th>\n",
              "      <td>Italy</td>\n",
              "      <td>Adventure, Drama, Fantasy</td>\n",
              "      <td>1911</td>\n",
              "    </tr>\n",
              "    <tr>\n",
              "      <th>5</th>\n",
              "      <td>USA</td>\n",
              "      <td>Biography, Drama</td>\n",
              "      <td>1912</td>\n",
              "    </tr>\n",
              "    <tr>\n",
              "      <th>6</th>\n",
              "      <td>Germany</td>\n",
              "      <td>Biography, Drama, Romance</td>\n",
              "      <td>1919</td>\n",
              "    </tr>\n",
              "    <tr>\n",
              "      <th>7</th>\n",
              "      <td>Italy</td>\n",
              "      <td>Drama, History</td>\n",
              "      <td>1913</td>\n",
              "    </tr>\n",
              "    <tr>\n",
              "      <th>8</th>\n",
              "      <td>Romania</td>\n",
              "      <td>History, War</td>\n",
              "      <td>1912</td>\n",
              "    </tr>\n",
              "    <tr>\n",
              "      <th>9</th>\n",
              "      <td>France, USA</td>\n",
              "      <td>Drama</td>\n",
              "      <td>1912</td>\n",
              "    </tr>\n",
              "    <tr>\n",
              "      <th>10</th>\n",
              "      <td>Denmark</td>\n",
              "      <td>Drama</td>\n",
              "      <td>1913</td>\n",
              "    </tr>\n",
              "  </tbody>\n",
              "</table>\n",
              "</div>"
            ],
            "text/plain": [
              "             country                      genre  year\n",
              "0                USA                    Romance  1894\n",
              "1          Australia    Biography, Crime, Drama  1906\n",
              "2   Germany, Denmark                      Drama  1911\n",
              "3                USA             Drama, History  1912\n",
              "4              Italy  Adventure, Drama, Fantasy  1911\n",
              "5                USA           Biography, Drama  1912\n",
              "6            Germany  Biography, Drama, Romance  1919\n",
              "7              Italy             Drama, History  1913\n",
              "8            Romania               History, War  1912\n",
              "9        France, USA                      Drama  1912\n",
              "10           Denmark                      Drama  1913"
            ]
          },
          "metadata": {
            "tags": []
          },
          "execution_count": 167
        }
      ]
    },
    {
      "cell_type": "code",
      "metadata": {
        "colab": {
          "base_uri": "https://localhost:8080/"
        },
        "id": "KmkILxAorEE1",
        "outputId": "fdef770d-6e6f-4a3d-ad26-2fbb349127fe"
      },
      "source": [
        "df.columns"
      ],
      "execution_count": null,
      "outputs": [
        {
          "output_type": "execute_result",
          "data": {
            "text/plain": [
              "Index(['imdb_title_id', 'title', 'original_title', 'year', 'date_published',\n",
              "       'genre', 'duration', 'country', 'language', 'director', 'writer',\n",
              "       'production_company', 'actors', 'description', 'avg_vote', 'votes',\n",
              "       'budget', 'usa_gross_income', 'worlwide_gross_income', 'metascore',\n",
              "       'reviews_from_users', 'reviews_from_critics', 'duration (hours)'],\n",
              "      dtype='object')"
            ]
          },
          "metadata": {
            "tags": []
          },
          "execution_count": 168
        }
      ]
    },
    {
      "cell_type": "code",
      "metadata": {
        "colab": {
          "base_uri": "https://localhost:8080/",
          "height": 361
        },
        "id": "_5esCTMGrCtI",
        "outputId": "92eeef5f-7f71-464b-8834-9dab19279296"
      },
      "source": [
        "df.iloc[:10, [3,7,5]]"
      ],
      "execution_count": null,
      "outputs": [
        {
          "output_type": "execute_result",
          "data": {
            "text/html": [
              "<div>\n",
              "<style scoped>\n",
              "    .dataframe tbody tr th:only-of-type {\n",
              "        vertical-align: middle;\n",
              "    }\n",
              "\n",
              "    .dataframe tbody tr th {\n",
              "        vertical-align: top;\n",
              "    }\n",
              "\n",
              "    .dataframe thead th {\n",
              "        text-align: right;\n",
              "    }\n",
              "</style>\n",
              "<table border=\"1\" class=\"dataframe\">\n",
              "  <thead>\n",
              "    <tr style=\"text-align: right;\">\n",
              "      <th></th>\n",
              "      <th>year</th>\n",
              "      <th>country</th>\n",
              "      <th>genre</th>\n",
              "    </tr>\n",
              "  </thead>\n",
              "  <tbody>\n",
              "    <tr>\n",
              "      <th>0</th>\n",
              "      <td>1894</td>\n",
              "      <td>USA</td>\n",
              "      <td>Romance</td>\n",
              "    </tr>\n",
              "    <tr>\n",
              "      <th>1</th>\n",
              "      <td>1906</td>\n",
              "      <td>Australia</td>\n",
              "      <td>Biography, Crime, Drama</td>\n",
              "    </tr>\n",
              "    <tr>\n",
              "      <th>2</th>\n",
              "      <td>1911</td>\n",
              "      <td>Germany, Denmark</td>\n",
              "      <td>Drama</td>\n",
              "    </tr>\n",
              "    <tr>\n",
              "      <th>3</th>\n",
              "      <td>1912</td>\n",
              "      <td>USA</td>\n",
              "      <td>Drama, History</td>\n",
              "    </tr>\n",
              "    <tr>\n",
              "      <th>4</th>\n",
              "      <td>1911</td>\n",
              "      <td>Italy</td>\n",
              "      <td>Adventure, Drama, Fantasy</td>\n",
              "    </tr>\n",
              "    <tr>\n",
              "      <th>5</th>\n",
              "      <td>1912</td>\n",
              "      <td>USA</td>\n",
              "      <td>Biography, Drama</td>\n",
              "    </tr>\n",
              "    <tr>\n",
              "      <th>6</th>\n",
              "      <td>1919</td>\n",
              "      <td>Germany</td>\n",
              "      <td>Biography, Drama, Romance</td>\n",
              "    </tr>\n",
              "    <tr>\n",
              "      <th>7</th>\n",
              "      <td>1913</td>\n",
              "      <td>Italy</td>\n",
              "      <td>Drama, History</td>\n",
              "    </tr>\n",
              "    <tr>\n",
              "      <th>8</th>\n",
              "      <td>1912</td>\n",
              "      <td>Romania</td>\n",
              "      <td>History, War</td>\n",
              "    </tr>\n",
              "    <tr>\n",
              "      <th>9</th>\n",
              "      <td>1912</td>\n",
              "      <td>France, USA</td>\n",
              "      <td>Drama</td>\n",
              "    </tr>\n",
              "  </tbody>\n",
              "</table>\n",
              "</div>"
            ],
            "text/plain": [
              "   year           country                      genre\n",
              "0  1894               USA                    Romance\n",
              "1  1906         Australia    Biography, Crime, Drama\n",
              "2  1911  Germany, Denmark                      Drama\n",
              "3  1912               USA             Drama, History\n",
              "4  1911             Italy  Adventure, Drama, Fantasy\n",
              "5  1912               USA           Biography, Drama\n",
              "6  1919           Germany  Biography, Drama, Romance\n",
              "7  1913             Italy             Drama, History\n",
              "8  1912           Romania               History, War\n",
              "9  1912       France, USA                      Drama"
            ]
          },
          "metadata": {
            "tags": []
          },
          "execution_count": 171
        }
      ]
    },
    {
      "cell_type": "markdown",
      "metadata": {
        "id": "xtuXq3eyPzsn"
      },
      "source": [
        "#### 3.3.4.2 Filtering\n",
        "\n",
        "filtering down your selection will be BIGLY useful in your data quests"
      ]
    },
    {
      "cell_type": "markdown",
      "metadata": {
        "id": "xLY3r7T5Pzso"
      },
      "source": [
        "##### 3.3.4.2.1 By String\n",
        "\n",
        "one of the first tools we'll use to filter our dataset is the `.str.contains` method. Let's take an example."
      ]
    },
    {
      "cell_type": "code",
      "metadata": {
        "colab": {
          "base_uri": "https://localhost:8080/"
        },
        "id": "Ta1dH5agTtCG",
        "outputId": "661deb56-4368-4599-e1c9-03eef5e0c281"
      },
      "source": [
        "# remember, if we don't remember our column mames we can quickly pull them up \n",
        "# with:\n",
        "df.columns"
      ],
      "execution_count": null,
      "outputs": [
        {
          "output_type": "execute_result",
          "data": {
            "text/plain": [
              "Index(['imdb_title_id', 'title', 'original_title', 'year', 'date_published',\n",
              "       'genre', 'duration', 'country', 'language', 'director', 'writer',\n",
              "       'production_company', 'actors', 'description', 'avg_vote', 'votes',\n",
              "       'budget', 'usa_gross_income', 'worlwide_gross_income', 'metascore',\n",
              "       'reviews_from_users', 'reviews_from_critics', 'duration (hours)'],\n",
              "      dtype='object')"
            ]
          },
          "metadata": {
            "tags": []
          },
          "execution_count": 42
        }
      ]
    },
    {
      "cell_type": "code",
      "metadata": {
        "colab": {
          "base_uri": "https://localhost:8080/"
        },
        "id": "xItZtsXHriJU",
        "outputId": "fa278c3d-601d-45d3-cd2f-09012b274ee6"
      },
      "source": [
        "df['description']"
      ],
      "execution_count": null,
      "outputs": [
        {
          "output_type": "execute_result",
          "data": {
            "text/plain": [
              "0        The adventures of a female reporter in the 1890s.\n",
              "1        True story of notorious Australian outlaw Ned ...\n",
              "2        Two men of high rank are both wooing the beaut...\n",
              "3        The fabled queen of Egypt's affair with Roman ...\n",
              "4        Loosely adapted from Dante's Divine Comedy and...\n",
              "                               ...                        \n",
              "85850    A psychiatric hospital patient pretends to be ...\n",
              "85851    A middle-aged veterinary surgeon believes his ...\n",
              "85852                                                  NaN\n",
              "85853                                                  NaN\n",
              "85854    Pep, a 13-year-old boy, is in love with a girl...\n",
              "Name: description, Length: 85855, dtype: object"
            ]
          },
          "metadata": {
            "tags": []
          },
          "execution_count": 172
        }
      ]
    },
    {
      "cell_type": "code",
      "metadata": {
        "colab": {
          "base_uri": "https://localhost:8080/"
        },
        "id": "i-kaD3LIUfjv",
        "outputId": "62fb681f-6241-45ed-be38-2242374b6dd4"
      },
      "source": [
        "df.loc[df['description'].str.contains('artificial intelligence', na=False)].shape"
      ],
      "execution_count": null,
      "outputs": [
        {
          "output_type": "execute_result",
          "data": {
            "text/plain": [
              "(12, 23)"
            ]
          },
          "metadata": {
            "tags": []
          },
          "execution_count": 180
        }
      ]
    },
    {
      "cell_type": "markdown",
      "metadata": {
        "id": "yQASmyYhPzsp"
      },
      "source": [
        "or if you know the exact string you are looking for"
      ]
    },
    {
      "cell_type": "code",
      "metadata": {
        "colab": {
          "base_uri": "https://localhost:8080/",
          "height": 238
        },
        "id": "8_zqDb3fPzsp",
        "outputId": "9356fbd1-e2d4-414c-fc39-c8a220ad8032"
      },
      "source": [
        "df.loc[df['title'] == \"Fight Club\"]"
      ],
      "execution_count": null,
      "outputs": [
        {
          "output_type": "execute_result",
          "data": {
            "text/html": [
              "<div>\n",
              "<style scoped>\n",
              "    .dataframe tbody tr th:only-of-type {\n",
              "        vertical-align: middle;\n",
              "    }\n",
              "\n",
              "    .dataframe tbody tr th {\n",
              "        vertical-align: top;\n",
              "    }\n",
              "\n",
              "    .dataframe thead th {\n",
              "        text-align: right;\n",
              "    }\n",
              "</style>\n",
              "<table border=\"1\" class=\"dataframe\">\n",
              "  <thead>\n",
              "    <tr style=\"text-align: right;\">\n",
              "      <th></th>\n",
              "      <th>imdb_title_id</th>\n",
              "      <th>title</th>\n",
              "      <th>original_title</th>\n",
              "      <th>year</th>\n",
              "      <th>date_published</th>\n",
              "      <th>genre</th>\n",
              "      <th>duration</th>\n",
              "      <th>country</th>\n",
              "      <th>language</th>\n",
              "      <th>director</th>\n",
              "      <th>writer</th>\n",
              "      <th>production_company</th>\n",
              "      <th>actors</th>\n",
              "      <th>description</th>\n",
              "      <th>avg_vote</th>\n",
              "      <th>votes</th>\n",
              "      <th>budget</th>\n",
              "      <th>usa_gross_income</th>\n",
              "      <th>worlwide_gross_income</th>\n",
              "      <th>metascore</th>\n",
              "      <th>reviews_from_users</th>\n",
              "      <th>reviews_from_critics</th>\n",
              "      <th>duration (hours)</th>\n",
              "    </tr>\n",
              "  </thead>\n",
              "  <tbody>\n",
              "    <tr>\n",
              "      <th>32487</th>\n",
              "      <td>tt0137523</td>\n",
              "      <td>Fight Club</td>\n",
              "      <td>Fight Club</td>\n",
              "      <td>1999</td>\n",
              "      <td>1999-10-29</td>\n",
              "      <td>Drama</td>\n",
              "      <td>139</td>\n",
              "      <td>USA, Germany</td>\n",
              "      <td>English</td>\n",
              "      <td>David Fincher</td>\n",
              "      <td>Chuck Palahniuk, Jim Uhls</td>\n",
              "      <td>Fox 2000 Pictures</td>\n",
              "      <td>Edward Norton, Brad Pitt, Meat Loaf, Zach Gren...</td>\n",
              "      <td>An insomniac office worker and a devil-may-car...</td>\n",
              "      <td>8.8</td>\n",
              "      <td>1807440</td>\n",
              "      <td>$ 63000000</td>\n",
              "      <td>$ 37030102</td>\n",
              "      <td>$ 101218804</td>\n",
              "      <td>66.0</td>\n",
              "      <td>3758.0</td>\n",
              "      <td>370.0</td>\n",
              "      <td>2.316667</td>\n",
              "    </tr>\n",
              "  </tbody>\n",
              "</table>\n",
              "</div>"
            ],
            "text/plain": [
              "      imdb_title_id       title  ... reviews_from_critics duration (hours)\n",
              "32487     tt0137523  Fight Club  ...                370.0         2.316667\n",
              "\n",
              "[1 rows x 23 columns]"
            ]
          },
          "metadata": {
            "tags": []
          },
          "execution_count": 184
        }
      ]
    },
    {
      "cell_type": "markdown",
      "metadata": {
        "id": "KZSw2A73Pzsp"
      },
      "source": [
        "##### 3.3.4.2.2 By numerical value"
      ]
    },
    {
      "cell_type": "code",
      "metadata": {
        "colab": {
          "base_uri": "https://localhost:8080/",
          "height": 1000
        },
        "id": "3SqfCN8uPzsq",
        "outputId": "eb79d126-b8a7-44d4-da1d-40f976d589af"
      },
      "source": [
        "df[df['votes'] > 1000]"
      ],
      "execution_count": null,
      "outputs": [
        {
          "output_type": "execute_result",
          "data": {
            "text/html": [
              "<div>\n",
              "<style scoped>\n",
              "    .dataframe tbody tr th:only-of-type {\n",
              "        vertical-align: middle;\n",
              "    }\n",
              "\n",
              "    .dataframe tbody tr th {\n",
              "        vertical-align: top;\n",
              "    }\n",
              "\n",
              "    .dataframe thead th {\n",
              "        text-align: right;\n",
              "    }\n",
              "</style>\n",
              "<table border=\"1\" class=\"dataframe\">\n",
              "  <thead>\n",
              "    <tr style=\"text-align: right;\">\n",
              "      <th></th>\n",
              "      <th>imdb_title_id</th>\n",
              "      <th>title</th>\n",
              "      <th>original_title</th>\n",
              "      <th>year</th>\n",
              "      <th>date_published</th>\n",
              "      <th>genre</th>\n",
              "      <th>duration</th>\n",
              "      <th>country</th>\n",
              "      <th>language</th>\n",
              "      <th>director</th>\n",
              "      <th>writer</th>\n",
              "      <th>production_company</th>\n",
              "      <th>actors</th>\n",
              "      <th>description</th>\n",
              "      <th>avg_vote</th>\n",
              "      <th>votes</th>\n",
              "      <th>budget</th>\n",
              "      <th>usa_gross_income</th>\n",
              "      <th>worlwide_gross_income</th>\n",
              "      <th>metascore</th>\n",
              "      <th>reviews_from_users</th>\n",
              "      <th>reviews_from_critics</th>\n",
              "      <th>duration (hours)</th>\n",
              "    </tr>\n",
              "  </thead>\n",
              "  <tbody>\n",
              "    <tr>\n",
              "      <th>4</th>\n",
              "      <td>tt0002130</td>\n",
              "      <td>L'Inferno</td>\n",
              "      <td>L'Inferno</td>\n",
              "      <td>1911</td>\n",
              "      <td>1911-03-06</td>\n",
              "      <td>Adventure, Drama, Fantasy</td>\n",
              "      <td>68</td>\n",
              "      <td>Italy</td>\n",
              "      <td>Italian</td>\n",
              "      <td>Francesco Bertolini, Adolfo Padovan</td>\n",
              "      <td>Dante Alighieri</td>\n",
              "      <td>Milano Film</td>\n",
              "      <td>Salvatore Papa, Arturo Pirovano, Giuseppe de L...</td>\n",
              "      <td>Loosely adapted from Dante's Divine Comedy and...</td>\n",
              "      <td>7.0</td>\n",
              "      <td>2237</td>\n",
              "      <td>NaN</td>\n",
              "      <td>NaN</td>\n",
              "      <td>NaN</td>\n",
              "      <td>NaN</td>\n",
              "      <td>31.0</td>\n",
              "      <td>14.0</td>\n",
              "      <td>1.133333</td>\n",
              "    </tr>\n",
              "    <tr>\n",
              "      <th>11</th>\n",
              "      <td>tt0002844</td>\n",
              "      <td>Fantômas - À l'ombre de la guillotine</td>\n",
              "      <td>Fantômas - À l'ombre de la guillotine</td>\n",
              "      <td>1913</td>\n",
              "      <td>1913-05-12</td>\n",
              "      <td>Crime, Drama</td>\n",
              "      <td>54</td>\n",
              "      <td>France</td>\n",
              "      <td>French</td>\n",
              "      <td>Louis Feuillade</td>\n",
              "      <td>Marcel Allain, Louis Feuillade</td>\n",
              "      <td>Société des Etablissements L. Gaumont</td>\n",
              "      <td>René Navarre, Edmund Breon, Georges Melchior, ...</td>\n",
              "      <td>Inspector Juve is tasked to investigate and ca...</td>\n",
              "      <td>7.0</td>\n",
              "      <td>1944</td>\n",
              "      <td>NaN</td>\n",
              "      <td>NaN</td>\n",
              "      <td>NaN</td>\n",
              "      <td>NaN</td>\n",
              "      <td>9.0</td>\n",
              "      <td>28.0</td>\n",
              "      <td>0.900000</td>\n",
              "    </tr>\n",
              "    <tr>\n",
              "      <th>13</th>\n",
              "      <td>tt0003037</td>\n",
              "      <td>Juve contre Fantômas</td>\n",
              "      <td>Juve contre Fantômas</td>\n",
              "      <td>1913</td>\n",
              "      <td>1913-09-08</td>\n",
              "      <td>Crime, Drama</td>\n",
              "      <td>61</td>\n",
              "      <td>France</td>\n",
              "      <td>French</td>\n",
              "      <td>Louis Feuillade</td>\n",
              "      <td>Marcel Allain, Louis Feuillade</td>\n",
              "      <td>Société des Etablissements L. Gaumont</td>\n",
              "      <td>René Navarre, Edmund Breon, Georges Melchior, ...</td>\n",
              "      <td>In Part Two of Louis Feuillade's 5 1/2-hour ep...</td>\n",
              "      <td>7.0</td>\n",
              "      <td>1349</td>\n",
              "      <td>NaN</td>\n",
              "      <td>NaN</td>\n",
              "      <td>NaN</td>\n",
              "      <td>NaN</td>\n",
              "      <td>8.0</td>\n",
              "      <td>23.0</td>\n",
              "      <td>1.016667</td>\n",
              "    </tr>\n",
              "    <tr>\n",
              "      <th>16</th>\n",
              "      <td>tt0003165</td>\n",
              "      <td>Le mort qui tue</td>\n",
              "      <td>Le mort qui tue</td>\n",
              "      <td>1913</td>\n",
              "      <td>1913-11-06</td>\n",
              "      <td>Crime, Drama, Mystery</td>\n",
              "      <td>90</td>\n",
              "      <td>France</td>\n",
              "      <td>French</td>\n",
              "      <td>Louis Feuillade</td>\n",
              "      <td>Marcel Allain, Louis Feuillade</td>\n",
              "      <td>Société des Etablissements L. Gaumont</td>\n",
              "      <td>René Navarre, Edmund Breon, Georges Melchior, ...</td>\n",
              "      <td>After a body disappears from inside the prison...</td>\n",
              "      <td>7.0</td>\n",
              "      <td>1050</td>\n",
              "      <td>NaN</td>\n",
              "      <td>NaN</td>\n",
              "      <td>NaN</td>\n",
              "      <td>NaN</td>\n",
              "      <td>6.0</td>\n",
              "      <td>18.0</td>\n",
              "      <td>1.500000</td>\n",
              "    </tr>\n",
              "    <tr>\n",
              "      <th>18</th>\n",
              "      <td>tt0003419</td>\n",
              "      <td>Lo studente di Praga</td>\n",
              "      <td>Der Student von Prag</td>\n",
              "      <td>1913</td>\n",
              "      <td>1913-08-22</td>\n",
              "      <td>Drama, Fantasy, Horror</td>\n",
              "      <td>85</td>\n",
              "      <td>Germany</td>\n",
              "      <td>German, English</td>\n",
              "      <td>Paul Wegener, Stellan Rye</td>\n",
              "      <td>Hanns Heinz Ewers, Hanns Heinz Ewers</td>\n",
              "      <td>Deutsche Bioscop GmbH</td>\n",
              "      <td>Paul Wegener, Grete Berger, Lyda Salmonova, Jo...</td>\n",
              "      <td>Balduin, a student of Prague, leaves his royst...</td>\n",
              "      <td>6.5</td>\n",
              "      <td>1768</td>\n",
              "      <td>NaN</td>\n",
              "      <td>NaN</td>\n",
              "      <td>NaN</td>\n",
              "      <td>NaN</td>\n",
              "      <td>20.0</td>\n",
              "      <td>26.0</td>\n",
              "      <td>1.416667</td>\n",
              "    </tr>\n",
              "    <tr>\n",
              "      <th>...</th>\n",
              "      <td>...</td>\n",
              "      <td>...</td>\n",
              "      <td>...</td>\n",
              "      <td>...</td>\n",
              "      <td>...</td>\n",
              "      <td>...</td>\n",
              "      <td>...</td>\n",
              "      <td>...</td>\n",
              "      <td>...</td>\n",
              "      <td>...</td>\n",
              "      <td>...</td>\n",
              "      <td>...</td>\n",
              "      <td>...</td>\n",
              "      <td>...</td>\n",
              "      <td>...</td>\n",
              "      <td>...</td>\n",
              "      <td>...</td>\n",
              "      <td>...</td>\n",
              "      <td>...</td>\n",
              "      <td>...</td>\n",
              "      <td>...</td>\n",
              "      <td>...</td>\n",
              "      <td>...</td>\n",
              "    </tr>\n",
              "    <tr>\n",
              "      <th>85811</th>\n",
              "      <td>tt9860728</td>\n",
              "      <td>Falling Inn Love - Ristrutturazione con amore</td>\n",
              "      <td>Falling Inn Love</td>\n",
              "      <td>2019</td>\n",
              "      <td>2019-08-29</td>\n",
              "      <td>Comedy, Romance</td>\n",
              "      <td>98</td>\n",
              "      <td>USA</td>\n",
              "      <td>English</td>\n",
              "      <td>Roger Kumble</td>\n",
              "      <td>Elizabeth Hackett, Hilary Galanoy</td>\n",
              "      <td>NaN</td>\n",
              "      <td>Christina Milian, Adam Demos, Jeffrey Bowyer-C...</td>\n",
              "      <td>When city girl Gabriela spontaneously enters a...</td>\n",
              "      <td>5.6</td>\n",
              "      <td>14108</td>\n",
              "      <td>NaN</td>\n",
              "      <td>NaN</td>\n",
              "      <td>NaN</td>\n",
              "      <td>NaN</td>\n",
              "      <td>265.0</td>\n",
              "      <td>32.0</td>\n",
              "      <td>1.633333</td>\n",
              "    </tr>\n",
              "    <tr>\n",
              "      <th>85817</th>\n",
              "      <td>tt9866700</td>\n",
              "      <td>Paranormal Investigation</td>\n",
              "      <td>Paranormal Investigation</td>\n",
              "      <td>2018</td>\n",
              "      <td>2018-12-01</td>\n",
              "      <td>Horror, Thriller</td>\n",
              "      <td>92</td>\n",
              "      <td>France</td>\n",
              "      <td>French</td>\n",
              "      <td>Franck Phelizon</td>\n",
              "      <td>NaN</td>\n",
              "      <td>Baril Pictures</td>\n",
              "      <td>Jose Atuncar, Claudine Bertin, Cedric Henquez,...</td>\n",
              "      <td>When a young man becomes possessed after playi...</td>\n",
              "      <td>3.7</td>\n",
              "      <td>1299</td>\n",
              "      <td>NaN</td>\n",
              "      <td>NaN</td>\n",
              "      <td>NaN</td>\n",
              "      <td>NaN</td>\n",
              "      <td>334.0</td>\n",
              "      <td>11.0</td>\n",
              "      <td>1.533333</td>\n",
              "    </tr>\n",
              "    <tr>\n",
              "      <th>85837</th>\n",
              "      <td>tt9894470</td>\n",
              "      <td>VFW</td>\n",
              "      <td>VFW</td>\n",
              "      <td>2019</td>\n",
              "      <td>2020-02-14</td>\n",
              "      <td>Action, Crime, Horror</td>\n",
              "      <td>92</td>\n",
              "      <td>USA</td>\n",
              "      <td>English</td>\n",
              "      <td>Joe Begos</td>\n",
              "      <td>Max Brallier, Matthew McArdle</td>\n",
              "      <td>Fangoria</td>\n",
              "      <td>Stephen Lang, William Sadler, Fred Williamson,...</td>\n",
              "      <td>A group of old war veterans put their lives on...</td>\n",
              "      <td>6.1</td>\n",
              "      <td>4178</td>\n",
              "      <td>NaN</td>\n",
              "      <td>NaN</td>\n",
              "      <td>$ 23101</td>\n",
              "      <td>72.0</td>\n",
              "      <td>83.0</td>\n",
              "      <td>94.0</td>\n",
              "      <td>1.533333</td>\n",
              "    </tr>\n",
              "    <tr>\n",
              "      <th>85839</th>\n",
              "      <td>tt9898858</td>\n",
              "      <td>Coffee &amp; Kareem</td>\n",
              "      <td>Coffee &amp; Kareem</td>\n",
              "      <td>2020</td>\n",
              "      <td>2020-04-03</td>\n",
              "      <td>Action, Comedy</td>\n",
              "      <td>88</td>\n",
              "      <td>USA</td>\n",
              "      <td>English</td>\n",
              "      <td>Michael Dowse</td>\n",
              "      <td>Shane Mack</td>\n",
              "      <td>Pacific Electric Picture Company</td>\n",
              "      <td>Ed Helms, Taraji P. Henson, Terrence Little Ga...</td>\n",
              "      <td>Twelve-year-old Kareem Manning hires a crimina...</td>\n",
              "      <td>5.1</td>\n",
              "      <td>10627</td>\n",
              "      <td>NaN</td>\n",
              "      <td>NaN</td>\n",
              "      <td>NaN</td>\n",
              "      <td>35.0</td>\n",
              "      <td>388.0</td>\n",
              "      <td>64.0</td>\n",
              "      <td>1.466667</td>\n",
              "    </tr>\n",
              "    <tr>\n",
              "      <th>85843</th>\n",
              "      <td>tt9900782</td>\n",
              "      <td>Kaithi</td>\n",
              "      <td>Kaithi</td>\n",
              "      <td>2019</td>\n",
              "      <td>2019-10-25</td>\n",
              "      <td>Action, Thriller</td>\n",
              "      <td>145</td>\n",
              "      <td>India</td>\n",
              "      <td>Tamil</td>\n",
              "      <td>Lokesh Kanagaraj</td>\n",
              "      <td>Lokesh Kanagaraj, Pon Parthiban</td>\n",
              "      <td>Dream Warrior Pictures</td>\n",
              "      <td>Karthi, Narain, Ramana, George Maryan, Harish ...</td>\n",
              "      <td>A recently released prisoner becomes involved ...</td>\n",
              "      <td>8.5</td>\n",
              "      <td>8400</td>\n",
              "      <td>INR 240000000</td>\n",
              "      <td>NaN</td>\n",
              "      <td>$ 524061</td>\n",
              "      <td>NaN</td>\n",
              "      <td>188.0</td>\n",
              "      <td>8.0</td>\n",
              "      <td>2.416667</td>\n",
              "    </tr>\n",
              "  </tbody>\n",
              "</table>\n",
              "<p>29362 rows × 23 columns</p>\n",
              "</div>"
            ],
            "text/plain": [
              "      imdb_title_id  ... duration (hours)\n",
              "4         tt0002130  ...         1.133333\n",
              "11        tt0002844  ...         0.900000\n",
              "13        tt0003037  ...         1.016667\n",
              "16        tt0003165  ...         1.500000\n",
              "18        tt0003419  ...         1.416667\n",
              "...             ...  ...              ...\n",
              "85811     tt9860728  ...         1.633333\n",
              "85817     tt9866700  ...         1.533333\n",
              "85837     tt9894470  ...         1.533333\n",
              "85839     tt9898858  ...         1.466667\n",
              "85843     tt9900782  ...         2.416667\n",
              "\n",
              "[29362 rows x 23 columns]"
            ]
          },
          "metadata": {
            "tags": []
          },
          "execution_count": 186
        }
      ]
    },
    {
      "cell_type": "markdown",
      "metadata": {
        "id": "8rPTx5jjL1aa"
      },
      "source": [
        "##### Exercise 5: Filtering\n",
        "\n",
        "* Filter `df` for all the movies that are longer than 2 hours\n",
        "* Filter `df` for all movies where 'day' is in the title"
      ]
    },
    {
      "cell_type": "code",
      "metadata": {
        "id": "S_vYpQW-MI_o",
        "colab": {
          "base_uri": "https://localhost:8080/"
        },
        "outputId": "0949c7a8-2bb3-43d5-f18a-10eac6d83ed9"
      },
      "source": [
        "# Cell for Ex 5\n",
        "df.loc[df['duration'] > 120].shape"
      ],
      "execution_count": null,
      "outputs": [
        {
          "output_type": "execute_result",
          "data": {
            "text/plain": [
              "(11166, 23)"
            ]
          },
          "metadata": {
            "tags": []
          },
          "execution_count": 189
        }
      ]
    },
    {
      "cell_type": "code",
      "metadata": {
        "colab": {
          "base_uri": "https://localhost:8080/"
        },
        "id": "Ixbw8Bg9tTeA",
        "outputId": "d8ac718d-5f86-4e09-e6d1-bc8927e82074"
      },
      "source": [
        "df.loc[df['title'].str.contains('day')].shape"
      ],
      "execution_count": null,
      "outputs": [
        {
          "output_type": "execute_result",
          "data": {
            "text/plain": [
              "(202, 23)"
            ]
          },
          "metadata": {
            "tags": []
          },
          "execution_count": 194
        }
      ]
    },
    {
      "cell_type": "markdown",
      "metadata": {
        "id": "zEcdvAWMPzsr"
      },
      "source": [
        "#### 3.3.4.3 Select, filter, operation\n",
        "\n",
        "The real power of Pandas comes in its tools for grouping and aggregating data. Here we'll look at *value counts* and the basics of *group-by* operations."
      ]
    },
    {
      "cell_type": "code",
      "metadata": {
        "colab": {
          "base_uri": "https://localhost:8080/"
        },
        "id": "Y_yxXbmRPzsr",
        "outputId": "e5fd66ca-7e29-48f2-bbc5-de0fca5b2b61"
      },
      "source": [
        "# a basic select, filter, operate procedure would look like:\n",
        "df[df['country'] == 'USA']['duration'].describe()"
      ],
      "execution_count": null,
      "outputs": [
        {
          "output_type": "execute_result",
          "data": {
            "text/plain": [
              "count    28511.000000\n",
              "mean        93.050437\n",
              "std         18.576873\n",
              "min         42.000000\n",
              "25%         84.000000\n",
              "50%         91.000000\n",
              "75%        100.000000\n",
              "max        398.000000\n",
              "Name: duration, dtype: float64"
            ]
          },
          "metadata": {
            "tags": []
          },
          "execution_count": 74
        }
      ]
    },
    {
      "cell_type": "markdown",
      "metadata": {
        "id": "KDxS6nR0Pzsr"
      },
      "source": [
        "we can invert the selection with `~`"
      ]
    },
    {
      "cell_type": "code",
      "metadata": {
        "colab": {
          "base_uri": "https://localhost:8080/"
        },
        "id": "_M_dpxz4Pzss",
        "outputId": "5168ffdb-8671-4191-a3a2-8308fa17111b"
      },
      "source": [
        "df[~(df['country'] == 'USA')]['duration'].describe()"
      ],
      "execution_count": null,
      "outputs": [
        {
          "output_type": "execute_result",
          "data": {
            "text/plain": [
              "count    57344.000000\n",
              "mean       103.981410\n",
              "std         23.459158\n",
              "min         41.000000\n",
              "25%         90.000000\n",
              "50%         99.000000\n",
              "75%        112.000000\n",
              "max        808.000000\n",
              "Name: duration, dtype: float64"
            ]
          },
          "metadata": {
            "tags": []
          },
          "execution_count": 76
        }
      ]
    },
    {
      "cell_type": "markdown",
      "metadata": {
        "id": "oDhkTdBCPzst"
      },
      "source": [
        "In preparation for grouping the data, let's bin the instances by their duration (we could have chosen any numerical column). For that, we'll use ``pd.cut``.  The documentation for ``pd.cut`` can be found [here](https://pandas.pydata.org/pandas-docs/stable/reference/api/pandas.cut.html). It is used to bin values into discrete intervals.  This is like a histogram where for each *bin* along the range of data values, you count the number of occurrences of that bin.  in our example, we'll use 10 bins and let Pandas decide how to evenly divide the range into the bins.  Let's see it in action.\n",
        "\n",
        "```\n",
        "df['duration_group'] = pd.cut(df['duration'], 10)\n",
        "df.head()\n",
        "df.dtypes\n",
        "```"
      ]
    },
    {
      "cell_type": "code",
      "metadata": {
        "colab": {
          "base_uri": "https://localhost:8080/"
        },
        "id": "h-MYVn7WuvDQ",
        "outputId": "345cf3ee-e9c2-4649-a9de-3573427183ad"
      },
      "source": [
        "df['duration'].describe()"
      ],
      "execution_count": null,
      "outputs": [
        {
          "output_type": "execute_result",
          "data": {
            "text/plain": [
              "count    85855.000000\n",
              "mean       100.351418\n",
              "std         22.553848\n",
              "min         41.000000\n",
              "25%         88.000000\n",
              "50%         96.000000\n",
              "75%        108.000000\n",
              "max        808.000000\n",
              "Name: duration, dtype: float64"
            ]
          },
          "metadata": {
            "tags": []
          },
          "execution_count": 196
        }
      ]
    },
    {
      "cell_type": "code",
      "metadata": {
        "colab": {
          "base_uri": "https://localhost:8080/"
        },
        "id": "axJdILrjukT7",
        "outputId": "0d7c746c-d925-4f41-d6fb-7ea25b2bd87a"
      },
      "source": [
        "pd.cut(df['duration'], 10)"
      ],
      "execution_count": null,
      "outputs": [
        {
          "output_type": "execute_result",
          "data": {
            "text/plain": [
              "0        (40.233, 117.7]\n",
              "1        (40.233, 117.7]\n",
              "2        (40.233, 117.7]\n",
              "3        (40.233, 117.7]\n",
              "4        (40.233, 117.7]\n",
              "              ...       \n",
              "85850    (40.233, 117.7]\n",
              "85851    (40.233, 117.7]\n",
              "85852     (117.7, 194.4]\n",
              "85853    (40.233, 117.7]\n",
              "85854    (40.233, 117.7]\n",
              "Name: duration, Length: 85855, dtype: category\n",
              "Categories (10, interval[float64]): [(40.233, 117.7] < (117.7, 194.4] < (194.4, 271.1] <\n",
              "                                     (271.1, 347.8] ... (501.2, 577.9] < (577.9, 654.6] <\n",
              "                                     (654.6, 731.3] < (731.3, 808.0]]"
            ]
          },
          "metadata": {
            "tags": []
          },
          "execution_count": 195
        }
      ]
    },
    {
      "cell_type": "code",
      "metadata": {
        "id": "6jU_NpXFPzst"
      },
      "source": [
        "df['duration_group'] = pd.cut(df['duration'], 10)"
      ],
      "execution_count": null,
      "outputs": []
    },
    {
      "cell_type": "code",
      "metadata": {
        "colab": {
          "base_uri": "https://localhost:8080/",
          "height": 689
        },
        "id": "t-7SAFeKPzsv",
        "outputId": "5f12b9af-45aa-47f0-84c1-7e0ef9db8d9a"
      },
      "source": [
        "df.head()"
      ],
      "execution_count": null,
      "outputs": [
        {
          "output_type": "execute_result",
          "data": {
            "text/html": [
              "<div>\n",
              "<style scoped>\n",
              "    .dataframe tbody tr th:only-of-type {\n",
              "        vertical-align: middle;\n",
              "    }\n",
              "\n",
              "    .dataframe tbody tr th {\n",
              "        vertical-align: top;\n",
              "    }\n",
              "\n",
              "    .dataframe thead th {\n",
              "        text-align: right;\n",
              "    }\n",
              "</style>\n",
              "<table border=\"1\" class=\"dataframe\">\n",
              "  <thead>\n",
              "    <tr style=\"text-align: right;\">\n",
              "      <th></th>\n",
              "      <th>imdb_title_id</th>\n",
              "      <th>title</th>\n",
              "      <th>original_title</th>\n",
              "      <th>year</th>\n",
              "      <th>date_published</th>\n",
              "      <th>genre</th>\n",
              "      <th>duration</th>\n",
              "      <th>country</th>\n",
              "      <th>language</th>\n",
              "      <th>director</th>\n",
              "      <th>writer</th>\n",
              "      <th>production_company</th>\n",
              "      <th>actors</th>\n",
              "      <th>description</th>\n",
              "      <th>avg_vote</th>\n",
              "      <th>votes</th>\n",
              "      <th>budget</th>\n",
              "      <th>usa_gross_income</th>\n",
              "      <th>worlwide_gross_income</th>\n",
              "      <th>metascore</th>\n",
              "      <th>reviews_from_users</th>\n",
              "      <th>reviews_from_critics</th>\n",
              "      <th>duration (hours)</th>\n",
              "      <th>duration_group</th>\n",
              "    </tr>\n",
              "  </thead>\n",
              "  <tbody>\n",
              "    <tr>\n",
              "      <th>0</th>\n",
              "      <td>tt0000009</td>\n",
              "      <td>Miss Jerry</td>\n",
              "      <td>Miss Jerry</td>\n",
              "      <td>1894</td>\n",
              "      <td>1894-10-09</td>\n",
              "      <td>Romance</td>\n",
              "      <td>45</td>\n",
              "      <td>USA</td>\n",
              "      <td>None</td>\n",
              "      <td>Alexander Black</td>\n",
              "      <td>Alexander Black</td>\n",
              "      <td>Alexander Black Photoplays</td>\n",
              "      <td>Blanche Bayliss, William Courtenay, Chauncey D...</td>\n",
              "      <td>The adventures of a female reporter in the 1890s.</td>\n",
              "      <td>5.9</td>\n",
              "      <td>154</td>\n",
              "      <td>NaN</td>\n",
              "      <td>NaN</td>\n",
              "      <td>NaN</td>\n",
              "      <td>NaN</td>\n",
              "      <td>1.0</td>\n",
              "      <td>2.0</td>\n",
              "      <td>0.750000</td>\n",
              "      <td>(40.233, 117.7]</td>\n",
              "    </tr>\n",
              "    <tr>\n",
              "      <th>1</th>\n",
              "      <td>tt0000574</td>\n",
              "      <td>The Story of the Kelly Gang</td>\n",
              "      <td>The Story of the Kelly Gang</td>\n",
              "      <td>1906</td>\n",
              "      <td>1906-12-26</td>\n",
              "      <td>Biography, Crime, Drama</td>\n",
              "      <td>70</td>\n",
              "      <td>Australia</td>\n",
              "      <td>None</td>\n",
              "      <td>Charles Tait</td>\n",
              "      <td>Charles Tait</td>\n",
              "      <td>J. and N. Tait</td>\n",
              "      <td>Elizabeth Tait, John Tait, Norman Campbell, Be...</td>\n",
              "      <td>True story of notorious Australian outlaw Ned ...</td>\n",
              "      <td>6.1</td>\n",
              "      <td>589</td>\n",
              "      <td>$ 2250</td>\n",
              "      <td>NaN</td>\n",
              "      <td>NaN</td>\n",
              "      <td>NaN</td>\n",
              "      <td>7.0</td>\n",
              "      <td>7.0</td>\n",
              "      <td>1.166667</td>\n",
              "      <td>(40.233, 117.7]</td>\n",
              "    </tr>\n",
              "    <tr>\n",
              "      <th>2</th>\n",
              "      <td>tt0001892</td>\n",
              "      <td>Den sorte drøm</td>\n",
              "      <td>Den sorte drøm</td>\n",
              "      <td>1911</td>\n",
              "      <td>1911-08-19</td>\n",
              "      <td>Drama</td>\n",
              "      <td>53</td>\n",
              "      <td>Germany, Denmark</td>\n",
              "      <td>NaN</td>\n",
              "      <td>Urban Gad</td>\n",
              "      <td>Urban Gad, Gebhard Schätzler-Perasini</td>\n",
              "      <td>Fotorama</td>\n",
              "      <td>Asta Nielsen, Valdemar Psilander, Gunnar Helse...</td>\n",
              "      <td>Two men of high rank are both wooing the beaut...</td>\n",
              "      <td>5.8</td>\n",
              "      <td>188</td>\n",
              "      <td>NaN</td>\n",
              "      <td>NaN</td>\n",
              "      <td>NaN</td>\n",
              "      <td>NaN</td>\n",
              "      <td>5.0</td>\n",
              "      <td>2.0</td>\n",
              "      <td>0.883333</td>\n",
              "      <td>(40.233, 117.7]</td>\n",
              "    </tr>\n",
              "    <tr>\n",
              "      <th>3</th>\n",
              "      <td>tt0002101</td>\n",
              "      <td>Cleopatra</td>\n",
              "      <td>Cleopatra</td>\n",
              "      <td>1912</td>\n",
              "      <td>1912-11-13</td>\n",
              "      <td>Drama, History</td>\n",
              "      <td>100</td>\n",
              "      <td>USA</td>\n",
              "      <td>English</td>\n",
              "      <td>Charles L. Gaskill</td>\n",
              "      <td>Victorien Sardou</td>\n",
              "      <td>Helen Gardner Picture Players</td>\n",
              "      <td>Helen Gardner, Pearl Sindelar, Miss Fielding, ...</td>\n",
              "      <td>The fabled queen of Egypt's affair with Roman ...</td>\n",
              "      <td>5.2</td>\n",
              "      <td>446</td>\n",
              "      <td>$ 45000</td>\n",
              "      <td>NaN</td>\n",
              "      <td>NaN</td>\n",
              "      <td>NaN</td>\n",
              "      <td>25.0</td>\n",
              "      <td>3.0</td>\n",
              "      <td>1.666667</td>\n",
              "      <td>(40.233, 117.7]</td>\n",
              "    </tr>\n",
              "    <tr>\n",
              "      <th>4</th>\n",
              "      <td>tt0002130</td>\n",
              "      <td>L'Inferno</td>\n",
              "      <td>L'Inferno</td>\n",
              "      <td>1911</td>\n",
              "      <td>1911-03-06</td>\n",
              "      <td>Adventure, Drama, Fantasy</td>\n",
              "      <td>68</td>\n",
              "      <td>Italy</td>\n",
              "      <td>Italian</td>\n",
              "      <td>Francesco Bertolini, Adolfo Padovan</td>\n",
              "      <td>Dante Alighieri</td>\n",
              "      <td>Milano Film</td>\n",
              "      <td>Salvatore Papa, Arturo Pirovano, Giuseppe de L...</td>\n",
              "      <td>Loosely adapted from Dante's Divine Comedy and...</td>\n",
              "      <td>7.0</td>\n",
              "      <td>2237</td>\n",
              "      <td>NaN</td>\n",
              "      <td>NaN</td>\n",
              "      <td>NaN</td>\n",
              "      <td>NaN</td>\n",
              "      <td>31.0</td>\n",
              "      <td>14.0</td>\n",
              "      <td>1.133333</td>\n",
              "      <td>(40.233, 117.7]</td>\n",
              "    </tr>\n",
              "  </tbody>\n",
              "</table>\n",
              "</div>"
            ],
            "text/plain": [
              "  imdb_title_id                        title  ... duration (hours)   duration_group\n",
              "0     tt0000009                   Miss Jerry  ...         0.750000  (40.233, 117.7]\n",
              "1     tt0000574  The Story of the Kelly Gang  ...         1.166667  (40.233, 117.7]\n",
              "2     tt0001892               Den sorte drøm  ...         0.883333  (40.233, 117.7]\n",
              "3     tt0002101                    Cleopatra  ...         1.666667  (40.233, 117.7]\n",
              "4     tt0002130                    L'Inferno  ...         1.133333  (40.233, 117.7]\n",
              "\n",
              "[5 rows x 24 columns]"
            ]
          },
          "metadata": {
            "tags": []
          },
          "execution_count": 198
        }
      ]
    },
    {
      "cell_type": "code",
      "metadata": {
        "colab": {
          "base_uri": "https://localhost:8080/"
        },
        "id": "bjAeDmc9Pzsv",
        "outputId": "6a819f73-b41f-4a09-be6d-cd3427bb7a9b"
      },
      "source": [
        "df.dtypes"
      ],
      "execution_count": null,
      "outputs": [
        {
          "output_type": "execute_result",
          "data": {
            "text/plain": [
              "imdb_title_id              object\n",
              "title                      object\n",
              "original_title             object\n",
              "year                       object\n",
              "date_published             object\n",
              "genre                      object\n",
              "duration                    int64\n",
              "country                    object\n",
              "language                   object\n",
              "director                   object\n",
              "writer                     object\n",
              "production_company         object\n",
              "actors                     object\n",
              "description                object\n",
              "avg_vote                  float64\n",
              "votes                       int64\n",
              "budget                     object\n",
              "usa_gross_income           object\n",
              "worlwide_gross_income      object\n",
              "metascore                 float64\n",
              "reviews_from_users        float64\n",
              "reviews_from_critics      float64\n",
              "duration (hours)          float64\n",
              "duration_group           category\n",
              "dtype: object"
            ]
          },
          "metadata": {
            "tags": []
          },
          "execution_count": 199
        }
      ]
    },
    {
      "cell_type": "markdown",
      "metadata": {
        "id": "0oOcK7bfPzsw"
      },
      "source": [
        "Pandas includes an array of useful functionality for manipulating and analyzing tabular data.\n",
        "We'll take a look at two of these here."
      ]
    },
    {
      "cell_type": "markdown",
      "metadata": {
        "id": "P9pCxIyqPzsw"
      },
      "source": [
        "The ``pandas.value_counts`` returns statistics on the unique values within each column.\n",
        "\n",
        "We can use it, for example, to break down the movies by their duration group that we just created:"
      ]
    },
    {
      "cell_type": "markdown",
      "metadata": {
        "id": "87XLvszlPzsw"
      },
      "source": [
        "```\n",
        "pd.value_counts(df['duration_group'], sort=False)\n",
        "```"
      ]
    },
    {
      "cell_type": "code",
      "metadata": {
        "colab": {
          "base_uri": "https://localhost:8080/"
        },
        "id": "Q1sn5OgVPzsw",
        "outputId": "9a05fdea-0f35-476f-de8f-2990c9fddd02"
      },
      "source": [
        "pd.value_counts(df['duration_group'], sort=False)"
      ],
      "execution_count": null,
      "outputs": [
        {
          "output_type": "execute_result",
          "data": {
            "text/plain": [
              "(40.233, 117.7]    72368\n",
              "(117.7, 194.4]     13197\n",
              "(194.4, 271.1]       228\n",
              "(271.1, 347.8]        40\n",
              "(347.8, 424.5]        11\n",
              "(424.5, 501.2]         4\n",
              "(501.2, 577.9]         4\n",
              "(577.9, 654.6]         1\n",
              "(654.6, 731.3]         1\n",
              "(731.3, 808.0]         1\n",
              "Name: duration_group, dtype: int64"
            ]
          },
          "metadata": {
            "tags": []
          },
          "execution_count": 200
        }
      ]
    },
    {
      "cell_type": "markdown",
      "metadata": {
        "id": "hLEQckAuPzsw"
      },
      "source": [
        "What happens if we try this on a continuous valued variable?"
      ]
    },
    {
      "cell_type": "markdown",
      "metadata": {
        "id": "8vM60vk4Pzsx"
      },
      "source": [
        "```\n",
        "pd.value_counts(df['duration'])\n",
        "```"
      ]
    },
    {
      "cell_type": "code",
      "metadata": {
        "colab": {
          "base_uri": "https://localhost:8080/"
        },
        "id": "2mjx---SPzsx",
        "outputId": "665b142d-d7ee-4281-8038-374e316eff7a"
      },
      "source": [
        "pd.value_counts(df['duration'])"
      ],
      "execution_count": null,
      "outputs": [
        {
          "output_type": "execute_result",
          "data": {
            "text/plain": [
              "90     5162\n",
              "95     3194\n",
              "100    3106\n",
              "92     2418\n",
              "93     2414\n",
              "       ... \n",
              "279       1\n",
              "301       1\n",
              "345       1\n",
              "729       1\n",
              "319       1\n",
              "Name: duration, Length: 266, dtype: int64"
            ]
          },
          "metadata": {
            "tags": []
          },
          "execution_count": 201
        }
      ]
    },
    {
      "cell_type": "markdown",
      "metadata": {
        "id": "jSswjh8XPzsx"
      },
      "source": [
        "##### Exercise 6: `value_counts, unique, nunique`\n",
        "\n",
        "We can do a little data exploration with this by seeing how common different values are. Play around with these pandas methods:\n",
        "\n",
        "* `value_counts()`\n",
        "* `unique()`\n",
        "* `nunique()`\n",
        "\n",
        "Also be sure to use:\n",
        "\n",
        "* selection\n",
        "* filteration\n",
        "* (and you are already using operation with the above mentioned pandas methods, value_counts, unique, nunique (: )\n",
        "\n",
        "Do so with 3 different columns in the dataframe"
      ]
    },
    {
      "cell_type": "code",
      "metadata": {
        "id": "nlr_t0KsPzsx",
        "colab": {
          "base_uri": "https://localhost:8080/"
        },
        "outputId": "3f827136-44bb-44b3-c5c7-38e9148200c8"
      },
      "source": [
        "# Cell for Exercise 6\n",
        "df[(df['country'] == 'USA') & (df['votes'] > 1000)]['director'].value_counts()"
      ],
      "execution_count": null,
      "outputs": [
        {
          "output_type": "execute_result",
          "data": {
            "text/plain": [
              "Michael Curtiz                   40\n",
              "John Ford                        37\n",
              "Woody Allen                      36\n",
              "Clint Eastwood                   34\n",
              "Raoul Walsh                      32\n",
              "                                 ..\n",
              "Richard Howard                    1\n",
              "Curt A. Sindelar                  1\n",
              "Don Chaffey                       1\n",
              "Jerry Zucker                      1\n",
              "Jennifer Flackett, Mark Levin     1\n",
              "Name: director, Length: 5140, dtype: int64"
            ]
          },
          "metadata": {
            "tags": []
          },
          "execution_count": 208
        }
      ]
    },
    {
      "cell_type": "code",
      "metadata": {
        "colab": {
          "base_uri": "https://localhost:8080/"
        },
        "id": "tL0p0SdzwIp8",
        "outputId": "8466d8cb-0815-45ff-94c1-0e7666f629f9"
      },
      "source": [
        "df[(df['country'] == 'USA') & (df['votes'] > 1000)]['director'].nunique()"
      ],
      "execution_count": null,
      "outputs": [
        {
          "output_type": "execute_result",
          "data": {
            "text/plain": [
              "5140"
            ]
          },
          "metadata": {
            "tags": []
          },
          "execution_count": 211
        }
      ]
    },
    {
      "cell_type": "markdown",
      "metadata": {
        "id": "hu8uWQVFPzsx"
      },
      "source": [
        "#### 3.3.4.4 Group-by Operation\n",
        "\n",
        "One of the killer features of the Pandas dataframe is the ability to do group-by operations.\n",
        "You can visualize the group-by like this (image borrowed from the [Python Data Science Handbook](http://shop.oreilly.com/product/0636920034919.do))\n",
        "\n",
        "![image](https://swcarpentry.github.io/r-novice-gapminder/fig/12-plyr-fig1.png)"
      ]
    },
    {
      "cell_type": "markdown",
      "metadata": {
        "id": "fDiFF5G1Pzsx"
      },
      "source": [
        "#### 3.3.4.5 Summary statistics with groupby: `value_counts`,  `count`, `describe`"
      ]
    },
    {
      "cell_type": "markdown",
      "metadata": {
        "id": "wqaJmHM7Pzsy"
      },
      "source": [
        "Let's break take this in smaller steps.\n",
        "Recall our ``duration_group`` column."
      ]
    },
    {
      "cell_type": "markdown",
      "metadata": {
        "id": "9Y2otfuTPzsy"
      },
      "source": [
        "```\n",
        "pd.value_counts(df['duration_group'])\n",
        "```"
      ]
    },
    {
      "cell_type": "code",
      "metadata": {
        "colab": {
          "base_uri": "https://localhost:8080/"
        },
        "id": "quK0KMaQPzsy",
        "outputId": "5e31cc48-97fe-4637-ca14-94b3c6c1b19e"
      },
      "source": [
        "pd.value_counts(df['duration_group'])"
      ],
      "execution_count": null,
      "outputs": [
        {
          "output_type": "execute_result",
          "data": {
            "text/plain": [
              "(40.233, 117.7]    72368\n",
              "(117.7, 194.4]     13197\n",
              "(194.4, 271.1]       228\n",
              "(271.1, 347.8]        40\n",
              "(347.8, 424.5]        11\n",
              "(501.2, 577.9]         4\n",
              "(424.5, 501.2]         4\n",
              "(731.3, 808.0]         1\n",
              "(654.6, 731.3]         1\n",
              "(577.9, 654.6]         1\n",
              "Name: duration_group, dtype: int64"
            ]
          },
          "metadata": {
            "tags": []
          },
          "execution_count": 212
        }
      ]
    },
    {
      "cell_type": "markdown",
      "metadata": {
        "id": "lt7HwdLDPzsz"
      },
      "source": [
        "`groupby` allows us to look at the number of values for each column and each value.  The group by documentation is [here](https://pandas.pydata.org/pandas-docs/stable/reference/api/pandas.DataFrame.groupby.html).  Basically, `groupby` allows us to create *groups* of records based on their values. Let's count how many records, or rows, in our data set fall into each bin of our duration data. "
      ]
    },
    {
      "cell_type": "markdown",
      "metadata": {
        "id": "w5Bd9NwmPzsz"
      },
      "source": [
        "```\n",
        "df.groupby(['duration_group']).count()\n",
        "```"
      ]
    },
    {
      "cell_type": "code",
      "metadata": {
        "colab": {
          "base_uri": "https://localhost:8080/",
          "height": 429
        },
        "id": "ZyfVo7ZEPzsz",
        "outputId": "c198b8b4-545d-4569-c067-6e5f17c5f9b6"
      },
      "source": [
        "df.groupby(['duration_group']).count()"
      ],
      "execution_count": null,
      "outputs": [
        {
          "output_type": "execute_result",
          "data": {
            "text/html": [
              "<div>\n",
              "<style scoped>\n",
              "    .dataframe tbody tr th:only-of-type {\n",
              "        vertical-align: middle;\n",
              "    }\n",
              "\n",
              "    .dataframe tbody tr th {\n",
              "        vertical-align: top;\n",
              "    }\n",
              "\n",
              "    .dataframe thead th {\n",
              "        text-align: right;\n",
              "    }\n",
              "</style>\n",
              "<table border=\"1\" class=\"dataframe\">\n",
              "  <thead>\n",
              "    <tr style=\"text-align: right;\">\n",
              "      <th></th>\n",
              "      <th>imdb_title_id</th>\n",
              "      <th>title</th>\n",
              "      <th>original_title</th>\n",
              "      <th>year</th>\n",
              "      <th>date_published</th>\n",
              "      <th>genre</th>\n",
              "      <th>duration</th>\n",
              "      <th>country</th>\n",
              "      <th>language</th>\n",
              "      <th>director</th>\n",
              "      <th>writer</th>\n",
              "      <th>production_company</th>\n",
              "      <th>actors</th>\n",
              "      <th>description</th>\n",
              "      <th>avg_vote</th>\n",
              "      <th>votes</th>\n",
              "      <th>budget</th>\n",
              "      <th>usa_gross_income</th>\n",
              "      <th>worlwide_gross_income</th>\n",
              "      <th>metascore</th>\n",
              "      <th>reviews_from_users</th>\n",
              "      <th>reviews_from_critics</th>\n",
              "      <th>duration (hours)</th>\n",
              "    </tr>\n",
              "    <tr>\n",
              "      <th>duration_group</th>\n",
              "      <th></th>\n",
              "      <th></th>\n",
              "      <th></th>\n",
              "      <th></th>\n",
              "      <th></th>\n",
              "      <th></th>\n",
              "      <th></th>\n",
              "      <th></th>\n",
              "      <th></th>\n",
              "      <th></th>\n",
              "      <th></th>\n",
              "      <th></th>\n",
              "      <th></th>\n",
              "      <th></th>\n",
              "      <th></th>\n",
              "      <th></th>\n",
              "      <th></th>\n",
              "      <th></th>\n",
              "      <th></th>\n",
              "      <th></th>\n",
              "      <th></th>\n",
              "      <th></th>\n",
              "      <th></th>\n",
              "    </tr>\n",
              "  </thead>\n",
              "  <tbody>\n",
              "    <tr>\n",
              "      <th>(40.233, 117.7]</th>\n",
              "      <td>72368</td>\n",
              "      <td>72368</td>\n",
              "      <td>72368</td>\n",
              "      <td>72368</td>\n",
              "      <td>72368</td>\n",
              "      <td>72368</td>\n",
              "      <td>72368</td>\n",
              "      <td>72315</td>\n",
              "      <td>71618</td>\n",
              "      <td>72309</td>\n",
              "      <td>71474</td>\n",
              "      <td>68922</td>\n",
              "      <td>72304</td>\n",
              "      <td>70464</td>\n",
              "      <td>72368</td>\n",
              "      <td>72368</td>\n",
              "      <td>19493</td>\n",
              "      <td>12123</td>\n",
              "      <td>24645</td>\n",
              "      <td>10759</td>\n",
              "      <td>65972</td>\n",
              "      <td>63321</td>\n",
              "      <td>72368</td>\n",
              "    </tr>\n",
              "    <tr>\n",
              "      <th>(117.7, 194.4]</th>\n",
              "      <td>13197</td>\n",
              "      <td>13197</td>\n",
              "      <td>13197</td>\n",
              "      <td>13197</td>\n",
              "      <td>13197</td>\n",
              "      <td>13197</td>\n",
              "      <td>13197</td>\n",
              "      <td>13186</td>\n",
              "      <td>13122</td>\n",
              "      <td>13171</td>\n",
              "      <td>12528</td>\n",
              "      <td>12211</td>\n",
              "      <td>13192</td>\n",
              "      <td>12990</td>\n",
              "      <td>13197</td>\n",
              "      <td>13197</td>\n",
              "      <td>4133</td>\n",
              "      <td>3153</td>\n",
              "      <td>6298</td>\n",
              "      <td>2506</td>\n",
              "      <td>12017</td>\n",
              "      <td>10493</td>\n",
              "      <td>13197</td>\n",
              "    </tr>\n",
              "    <tr>\n",
              "      <th>(194.4, 271.1]</th>\n",
              "      <td>228</td>\n",
              "      <td>228</td>\n",
              "      <td>228</td>\n",
              "      <td>228</td>\n",
              "      <td>228</td>\n",
              "      <td>228</td>\n",
              "      <td>228</td>\n",
              "      <td>228</td>\n",
              "      <td>221</td>\n",
              "      <td>226</td>\n",
              "      <td>221</td>\n",
              "      <td>207</td>\n",
              "      <td>228</td>\n",
              "      <td>226</td>\n",
              "      <td>228</td>\n",
              "      <td>228</td>\n",
              "      <td>70</td>\n",
              "      <td>40</td>\n",
              "      <td>59</td>\n",
              "      <td>28</td>\n",
              "      <td>215</td>\n",
              "      <td>188</td>\n",
              "      <td>228</td>\n",
              "    </tr>\n",
              "    <tr>\n",
              "      <th>(271.1, 347.8]</th>\n",
              "      <td>40</td>\n",
              "      <td>40</td>\n",
              "      <td>40</td>\n",
              "      <td>40</td>\n",
              "      <td>40</td>\n",
              "      <td>40</td>\n",
              "      <td>40</td>\n",
              "      <td>40</td>\n",
              "      <td>40</td>\n",
              "      <td>40</td>\n",
              "      <td>39</td>\n",
              "      <td>39</td>\n",
              "      <td>40</td>\n",
              "      <td>38</td>\n",
              "      <td>40</td>\n",
              "      <td>40</td>\n",
              "      <td>10</td>\n",
              "      <td>5</td>\n",
              "      <td>9</td>\n",
              "      <td>8</td>\n",
              "      <td>37</td>\n",
              "      <td>37</td>\n",
              "      <td>40</td>\n",
              "    </tr>\n",
              "    <tr>\n",
              "      <th>(347.8, 424.5]</th>\n",
              "      <td>11</td>\n",
              "      <td>11</td>\n",
              "      <td>11</td>\n",
              "      <td>11</td>\n",
              "      <td>11</td>\n",
              "      <td>11</td>\n",
              "      <td>11</td>\n",
              "      <td>11</td>\n",
              "      <td>10</td>\n",
              "      <td>11</td>\n",
              "      <td>11</td>\n",
              "      <td>10</td>\n",
              "      <td>11</td>\n",
              "      <td>11</td>\n",
              "      <td>11</td>\n",
              "      <td>11</td>\n",
              "      <td>1</td>\n",
              "      <td>3</td>\n",
              "      <td>3</td>\n",
              "      <td>1</td>\n",
              "      <td>9</td>\n",
              "      <td>10</td>\n",
              "      <td>11</td>\n",
              "    </tr>\n",
              "    <tr>\n",
              "      <th>(424.5, 501.2]</th>\n",
              "      <td>4</td>\n",
              "      <td>4</td>\n",
              "      <td>4</td>\n",
              "      <td>4</td>\n",
              "      <td>4</td>\n",
              "      <td>4</td>\n",
              "      <td>4</td>\n",
              "      <td>4</td>\n",
              "      <td>4</td>\n",
              "      <td>4</td>\n",
              "      <td>4</td>\n",
              "      <td>4</td>\n",
              "      <td>4</td>\n",
              "      <td>4</td>\n",
              "      <td>4</td>\n",
              "      <td>4</td>\n",
              "      <td>1</td>\n",
              "      <td>0</td>\n",
              "      <td>0</td>\n",
              "      <td>1</td>\n",
              "      <td>4</td>\n",
              "      <td>4</td>\n",
              "      <td>4</td>\n",
              "    </tr>\n",
              "    <tr>\n",
              "      <th>(501.2, 577.9]</th>\n",
              "      <td>4</td>\n",
              "      <td>4</td>\n",
              "      <td>4</td>\n",
              "      <td>4</td>\n",
              "      <td>4</td>\n",
              "      <td>4</td>\n",
              "      <td>4</td>\n",
              "      <td>4</td>\n",
              "      <td>4</td>\n",
              "      <td>4</td>\n",
              "      <td>4</td>\n",
              "      <td>4</td>\n",
              "      <td>4</td>\n",
              "      <td>4</td>\n",
              "      <td>4</td>\n",
              "      <td>4</td>\n",
              "      <td>1</td>\n",
              "      <td>0</td>\n",
              "      <td>0</td>\n",
              "      <td>0</td>\n",
              "      <td>2</td>\n",
              "      <td>3</td>\n",
              "      <td>4</td>\n",
              "    </tr>\n",
              "    <tr>\n",
              "      <th>(577.9, 654.6]</th>\n",
              "      <td>1</td>\n",
              "      <td>1</td>\n",
              "      <td>1</td>\n",
              "      <td>1</td>\n",
              "      <td>1</td>\n",
              "      <td>1</td>\n",
              "      <td>1</td>\n",
              "      <td>1</td>\n",
              "      <td>1</td>\n",
              "      <td>1</td>\n",
              "      <td>1</td>\n",
              "      <td>1</td>\n",
              "      <td>1</td>\n",
              "      <td>1</td>\n",
              "      <td>1</td>\n",
              "      <td>1</td>\n",
              "      <td>1</td>\n",
              "      <td>0</td>\n",
              "      <td>0</td>\n",
              "      <td>0</td>\n",
              "      <td>0</td>\n",
              "      <td>0</td>\n",
              "      <td>1</td>\n",
              "    </tr>\n",
              "    <tr>\n",
              "      <th>(654.6, 731.3]</th>\n",
              "      <td>1</td>\n",
              "      <td>1</td>\n",
              "      <td>1</td>\n",
              "      <td>1</td>\n",
              "      <td>1</td>\n",
              "      <td>1</td>\n",
              "      <td>1</td>\n",
              "      <td>1</td>\n",
              "      <td>1</td>\n",
              "      <td>1</td>\n",
              "      <td>0</td>\n",
              "      <td>1</td>\n",
              "      <td>1</td>\n",
              "      <td>1</td>\n",
              "      <td>1</td>\n",
              "      <td>1</td>\n",
              "      <td>0</td>\n",
              "      <td>1</td>\n",
              "      <td>1</td>\n",
              "      <td>1</td>\n",
              "      <td>1</td>\n",
              "      <td>1</td>\n",
              "      <td>1</td>\n",
              "    </tr>\n",
              "    <tr>\n",
              "      <th>(731.3, 808.0]</th>\n",
              "      <td>1</td>\n",
              "      <td>1</td>\n",
              "      <td>1</td>\n",
              "      <td>1</td>\n",
              "      <td>1</td>\n",
              "      <td>1</td>\n",
              "      <td>1</td>\n",
              "      <td>1</td>\n",
              "      <td>1</td>\n",
              "      <td>1</td>\n",
              "      <td>1</td>\n",
              "      <td>1</td>\n",
              "      <td>1</td>\n",
              "      <td>1</td>\n",
              "      <td>1</td>\n",
              "      <td>1</td>\n",
              "      <td>0</td>\n",
              "      <td>1</td>\n",
              "      <td>1</td>\n",
              "      <td>1</td>\n",
              "      <td>1</td>\n",
              "      <td>1</td>\n",
              "      <td>1</td>\n",
              "    </tr>\n",
              "  </tbody>\n",
              "</table>\n",
              "</div>"
            ],
            "text/plain": [
              "                 imdb_title_id  title  ...  reviews_from_critics  duration (hours)\n",
              "duration_group                         ...                                        \n",
              "(40.233, 117.7]          72368  72368  ...                 63321             72368\n",
              "(117.7, 194.4]           13197  13197  ...                 10493             13197\n",
              "(194.4, 271.1]             228    228  ...                   188               228\n",
              "(271.1, 347.8]              40     40  ...                    37                40\n",
              "(347.8, 424.5]              11     11  ...                    10                11\n",
              "(424.5, 501.2]               4      4  ...                     4                 4\n",
              "(501.2, 577.9]               4      4  ...                     3                 4\n",
              "(577.9, 654.6]               1      1  ...                     0                 1\n",
              "(654.6, 731.3]               1      1  ...                     1                 1\n",
              "(731.3, 808.0]               1      1  ...                     1                 1\n",
              "\n",
              "[10 rows x 23 columns]"
            ]
          },
          "metadata": {
            "tags": []
          },
          "execution_count": 213
        }
      ]
    },
    {
      "cell_type": "markdown",
      "metadata": {
        "id": "dnmc0-vdPzs0"
      },
      "source": [
        "Now, let's find the mean of each of the columns for each ``duration_group``.  *Notice* what happens to the non-numeric columns."
      ]
    },
    {
      "cell_type": "markdown",
      "metadata": {
        "id": "qnTWGDDaPzs0"
      },
      "source": [
        "```\n",
        "df.groupby(['duration_group']).mean()\n",
        "```"
      ]
    },
    {
      "cell_type": "code",
      "metadata": {
        "colab": {
          "base_uri": "https://localhost:8080/",
          "height": 392
        },
        "id": "U6n_fSqfPzs0",
        "outputId": "c776f40b-7326-4b50-9beb-6ece3f146f03"
      },
      "source": [
        "df.groupby(['duration_group']).mean()"
      ],
      "execution_count": null,
      "outputs": [
        {
          "output_type": "execute_result",
          "data": {
            "text/html": [
              "<div>\n",
              "<style scoped>\n",
              "    .dataframe tbody tr th:only-of-type {\n",
              "        vertical-align: middle;\n",
              "    }\n",
              "\n",
              "    .dataframe tbody tr th {\n",
              "        vertical-align: top;\n",
              "    }\n",
              "\n",
              "    .dataframe thead th {\n",
              "        text-align: right;\n",
              "    }\n",
              "</style>\n",
              "<table border=\"1\" class=\"dataframe\">\n",
              "  <thead>\n",
              "    <tr style=\"text-align: right;\">\n",
              "      <th></th>\n",
              "      <th>duration</th>\n",
              "      <th>avg_vote</th>\n",
              "      <th>votes</th>\n",
              "      <th>metascore</th>\n",
              "      <th>reviews_from_users</th>\n",
              "      <th>reviews_from_critics</th>\n",
              "      <th>duration (hours)</th>\n",
              "    </tr>\n",
              "    <tr>\n",
              "      <th>duration_group</th>\n",
              "      <th></th>\n",
              "      <th></th>\n",
              "      <th></th>\n",
              "      <th></th>\n",
              "      <th></th>\n",
              "      <th></th>\n",
              "      <th></th>\n",
              "    </tr>\n",
              "  </thead>\n",
              "  <tbody>\n",
              "    <tr>\n",
              "      <th>(40.233, 117.7]</th>\n",
              "      <td>93.147026</td>\n",
              "      <td>5.786671</td>\n",
              "      <td>6604.507932</td>\n",
              "      <td>54.153267</td>\n",
              "      <td>35.944037</td>\n",
              "      <td>24.517601</td>\n",
              "      <td>1.552450</td>\n",
              "    </tr>\n",
              "    <tr>\n",
              "      <th>(117.7, 194.4]</th>\n",
              "      <td>136.552550</td>\n",
              "      <td>6.488513</td>\n",
              "      <td>25010.089414</td>\n",
              "      <td>63.042298</td>\n",
              "      <td>100.725639</td>\n",
              "      <td>45.365958</td>\n",
              "      <td>2.275876</td>\n",
              "    </tr>\n",
              "    <tr>\n",
              "      <th>(194.4, 271.1]</th>\n",
              "      <td>220.394737</td>\n",
              "      <td>6.997368</td>\n",
              "      <td>30003.302632</td>\n",
              "      <td>76.500000</td>\n",
              "      <td>94.711628</td>\n",
              "      <td>29.015957</td>\n",
              "      <td>3.673246</td>\n",
              "    </tr>\n",
              "    <tr>\n",
              "      <th>(271.1, 347.8]</th>\n",
              "      <td>302.975000</td>\n",
              "      <td>6.810000</td>\n",
              "      <td>4201.275000</td>\n",
              "      <td>79.375000</td>\n",
              "      <td>19.378378</td>\n",
              "      <td>21.513514</td>\n",
              "      <td>5.049583</td>\n",
              "    </tr>\n",
              "    <tr>\n",
              "      <th>(347.8, 424.5]</th>\n",
              "      <td>384.636364</td>\n",
              "      <td>7.181818</td>\n",
              "      <td>2602.545455</td>\n",
              "      <td>89.000000</td>\n",
              "      <td>18.333333</td>\n",
              "      <td>18.100000</td>\n",
              "      <td>6.410606</td>\n",
              "    </tr>\n",
              "    <tr>\n",
              "      <th>(424.5, 501.2]</th>\n",
              "      <td>454.000000</td>\n",
              "      <td>7.700000</td>\n",
              "      <td>2589.000000</td>\n",
              "      <td>59.000000</td>\n",
              "      <td>19.250000</td>\n",
              "      <td>24.500000</td>\n",
              "      <td>7.566667</td>\n",
              "    </tr>\n",
              "    <tr>\n",
              "      <th>(501.2, 577.9]</th>\n",
              "      <td>547.500000</td>\n",
              "      <td>7.875000</td>\n",
              "      <td>206.500000</td>\n",
              "      <td>NaN</td>\n",
              "      <td>1.500000</td>\n",
              "      <td>8.666667</td>\n",
              "      <td>9.125000</td>\n",
              "    </tr>\n",
              "    <tr>\n",
              "      <th>(577.9, 654.6]</th>\n",
              "      <td>580.000000</td>\n",
              "      <td>5.800000</td>\n",
              "      <td>157.000000</td>\n",
              "      <td>NaN</td>\n",
              "      <td>NaN</td>\n",
              "      <td>NaN</td>\n",
              "      <td>9.666667</td>\n",
              "    </tr>\n",
              "    <tr>\n",
              "      <th>(654.6, 731.3]</th>\n",
              "      <td>729.000000</td>\n",
              "      <td>7.800000</td>\n",
              "      <td>1126.000000</td>\n",
              "      <td>87.000000</td>\n",
              "      <td>13.000000</td>\n",
              "      <td>30.000000</td>\n",
              "      <td>12.150000</td>\n",
              "    </tr>\n",
              "    <tr>\n",
              "      <th>(731.3, 808.0]</th>\n",
              "      <td>808.000000</td>\n",
              "      <td>7.700000</td>\n",
              "      <td>473.000000</td>\n",
              "      <td>77.000000</td>\n",
              "      <td>5.000000</td>\n",
              "      <td>23.000000</td>\n",
              "      <td>13.466667</td>\n",
              "    </tr>\n",
              "  </tbody>\n",
              "</table>\n",
              "</div>"
            ],
            "text/plain": [
              "                   duration  avg_vote  ...  reviews_from_critics  duration (hours)\n",
              "duration_group                         ...                                        \n",
              "(40.233, 117.7]   93.147026  5.786671  ...             24.517601          1.552450\n",
              "(117.7, 194.4]   136.552550  6.488513  ...             45.365958          2.275876\n",
              "(194.4, 271.1]   220.394737  6.997368  ...             29.015957          3.673246\n",
              "(271.1, 347.8]   302.975000  6.810000  ...             21.513514          5.049583\n",
              "(347.8, 424.5]   384.636364  7.181818  ...             18.100000          6.410606\n",
              "(424.5, 501.2]   454.000000  7.700000  ...             24.500000          7.566667\n",
              "(501.2, 577.9]   547.500000  7.875000  ...              8.666667          9.125000\n",
              "(577.9, 654.6]   580.000000  5.800000  ...                   NaN          9.666667\n",
              "(654.6, 731.3]   729.000000  7.800000  ...             30.000000         12.150000\n",
              "(731.3, 808.0]   808.000000  7.700000  ...             23.000000         13.466667\n",
              "\n",
              "[10 rows x 7 columns]"
            ]
          },
          "metadata": {
            "tags": []
          },
          "execution_count": 214
        }
      ]
    },
    {
      "cell_type": "markdown",
      "metadata": {
        "id": "yYL_JRDkPzs0"
      },
      "source": [
        "You can specify a groupby using the names of table columns and compute other functions, such as the ``sum``, ``count``, ``std``, and ``describe``."
      ]
    },
    {
      "cell_type": "markdown",
      "metadata": {
        "id": "NzkBJcOrPzs1"
      },
      "source": [
        "```\n",
        "df.groupby(['duration_group'])['metascore'].describe()\n",
        "```"
      ]
    },
    {
      "cell_type": "code",
      "metadata": {
        "colab": {
          "base_uri": "https://localhost:8080/",
          "height": 392
        },
        "id": "G_Ai8iKQPzs1",
        "outputId": "2afa5da0-7dbb-41bf-ee52-fdf47631255a"
      },
      "source": [
        "df.groupby(['duration_group'])['metascore'].describe()"
      ],
      "execution_count": null,
      "outputs": [
        {
          "output_type": "execute_result",
          "data": {
            "text/html": [
              "<div>\n",
              "<style scoped>\n",
              "    .dataframe tbody tr th:only-of-type {\n",
              "        vertical-align: middle;\n",
              "    }\n",
              "\n",
              "    .dataframe tbody tr th {\n",
              "        vertical-align: top;\n",
              "    }\n",
              "\n",
              "    .dataframe thead th {\n",
              "        text-align: right;\n",
              "    }\n",
              "</style>\n",
              "<table border=\"1\" class=\"dataframe\">\n",
              "  <thead>\n",
              "    <tr style=\"text-align: right;\">\n",
              "      <th></th>\n",
              "      <th>count</th>\n",
              "      <th>mean</th>\n",
              "      <th>std</th>\n",
              "      <th>min</th>\n",
              "      <th>25%</th>\n",
              "      <th>50%</th>\n",
              "      <th>75%</th>\n",
              "      <th>max</th>\n",
              "    </tr>\n",
              "    <tr>\n",
              "      <th>duration_group</th>\n",
              "      <th></th>\n",
              "      <th></th>\n",
              "      <th></th>\n",
              "      <th></th>\n",
              "      <th></th>\n",
              "      <th></th>\n",
              "      <th></th>\n",
              "      <th></th>\n",
              "    </tr>\n",
              "  </thead>\n",
              "  <tbody>\n",
              "    <tr>\n",
              "      <th>(40.233, 117.7]</th>\n",
              "      <td>10759.0</td>\n",
              "      <td>54.153267</td>\n",
              "      <td>17.655622</td>\n",
              "      <td>1.0</td>\n",
              "      <td>41.00</td>\n",
              "      <td>55.0</td>\n",
              "      <td>67.00</td>\n",
              "      <td>100.0</td>\n",
              "    </tr>\n",
              "    <tr>\n",
              "      <th>(117.7, 194.4]</th>\n",
              "      <td>2506.0</td>\n",
              "      <td>63.042298</td>\n",
              "      <td>16.265137</td>\n",
              "      <td>9.0</td>\n",
              "      <td>52.00</td>\n",
              "      <td>64.0</td>\n",
              "      <td>75.00</td>\n",
              "      <td>100.0</td>\n",
              "    </tr>\n",
              "    <tr>\n",
              "      <th>(194.4, 271.1]</th>\n",
              "      <td>28.0</td>\n",
              "      <td>76.500000</td>\n",
              "      <td>20.532720</td>\n",
              "      <td>10.0</td>\n",
              "      <td>69.75</td>\n",
              "      <td>82.0</td>\n",
              "      <td>90.00</td>\n",
              "      <td>100.0</td>\n",
              "    </tr>\n",
              "    <tr>\n",
              "      <th>(271.1, 347.8]</th>\n",
              "      <td>8.0</td>\n",
              "      <td>79.375000</td>\n",
              "      <td>12.070478</td>\n",
              "      <td>56.0</td>\n",
              "      <td>72.25</td>\n",
              "      <td>84.5</td>\n",
              "      <td>88.25</td>\n",
              "      <td>90.0</td>\n",
              "    </tr>\n",
              "    <tr>\n",
              "      <th>(347.8, 424.5]</th>\n",
              "      <td>1.0</td>\n",
              "      <td>89.000000</td>\n",
              "      <td>NaN</td>\n",
              "      <td>89.0</td>\n",
              "      <td>89.00</td>\n",
              "      <td>89.0</td>\n",
              "      <td>89.00</td>\n",
              "      <td>89.0</td>\n",
              "    </tr>\n",
              "    <tr>\n",
              "      <th>(424.5, 501.2]</th>\n",
              "      <td>1.0</td>\n",
              "      <td>59.000000</td>\n",
              "      <td>NaN</td>\n",
              "      <td>59.0</td>\n",
              "      <td>59.00</td>\n",
              "      <td>59.0</td>\n",
              "      <td>59.00</td>\n",
              "      <td>59.0</td>\n",
              "    </tr>\n",
              "    <tr>\n",
              "      <th>(501.2, 577.9]</th>\n",
              "      <td>0.0</td>\n",
              "      <td>NaN</td>\n",
              "      <td>NaN</td>\n",
              "      <td>NaN</td>\n",
              "      <td>NaN</td>\n",
              "      <td>NaN</td>\n",
              "      <td>NaN</td>\n",
              "      <td>NaN</td>\n",
              "    </tr>\n",
              "    <tr>\n",
              "      <th>(577.9, 654.6]</th>\n",
              "      <td>0.0</td>\n",
              "      <td>NaN</td>\n",
              "      <td>NaN</td>\n",
              "      <td>NaN</td>\n",
              "      <td>NaN</td>\n",
              "      <td>NaN</td>\n",
              "      <td>NaN</td>\n",
              "      <td>NaN</td>\n",
              "    </tr>\n",
              "    <tr>\n",
              "      <th>(654.6, 731.3]</th>\n",
              "      <td>1.0</td>\n",
              "      <td>87.000000</td>\n",
              "      <td>NaN</td>\n",
              "      <td>87.0</td>\n",
              "      <td>87.00</td>\n",
              "      <td>87.0</td>\n",
              "      <td>87.00</td>\n",
              "      <td>87.0</td>\n",
              "    </tr>\n",
              "    <tr>\n",
              "      <th>(731.3, 808.0]</th>\n",
              "      <td>1.0</td>\n",
              "      <td>77.000000</td>\n",
              "      <td>NaN</td>\n",
              "      <td>77.0</td>\n",
              "      <td>77.00</td>\n",
              "      <td>77.0</td>\n",
              "      <td>77.00</td>\n",
              "      <td>77.0</td>\n",
              "    </tr>\n",
              "  </tbody>\n",
              "</table>\n",
              "</div>"
            ],
            "text/plain": [
              "                   count       mean        std   min    25%   50%    75%    max\n",
              "duration_group                                                                 \n",
              "(40.233, 117.7]  10759.0  54.153267  17.655622   1.0  41.00  55.0  67.00  100.0\n",
              "(117.7, 194.4]    2506.0  63.042298  16.265137   9.0  52.00  64.0  75.00  100.0\n",
              "(194.4, 271.1]      28.0  76.500000  20.532720  10.0  69.75  82.0  90.00  100.0\n",
              "(271.1, 347.8]       8.0  79.375000  12.070478  56.0  72.25  84.5  88.25   90.0\n",
              "(347.8, 424.5]       1.0  89.000000        NaN  89.0  89.00  89.0  89.00   89.0\n",
              "(424.5, 501.2]       1.0  59.000000        NaN  59.0  59.00  59.0  59.00   59.0\n",
              "(501.2, 577.9]       0.0        NaN        NaN   NaN    NaN   NaN    NaN    NaN\n",
              "(577.9, 654.6]       0.0        NaN        NaN   NaN    NaN   NaN    NaN    NaN\n",
              "(654.6, 731.3]       1.0  87.000000        NaN  87.0  87.00  87.0  87.00   87.0\n",
              "(731.3, 808.0]       1.0  77.000000        NaN  77.0  77.00  77.0  77.00   77.0"
            ]
          },
          "metadata": {
            "tags": []
          },
          "execution_count": 215
        }
      ]
    },
    {
      "cell_type": "markdown",
      "metadata": {
        "id": "zW2YY00zPzs1"
      },
      "source": [
        "The simplest version of a groupby looks like this, and you can use almost any aggregation function you wish (mean, median, sum, minimum, maximum, standard deviation, count, etc.)\n",
        "\n",
        "```\n",
        "<data object>.groupby(<grouping values>).<aggregate>()\n",
        "```\n",
        "\n",
        "You can even group by multiple values: for example we can look at the metascore grouped by the ``duration_group`` and ``country``."
      ]
    },
    {
      "cell_type": "code",
      "metadata": {
        "colab": {
          "base_uri": "https://localhost:8080/",
          "height": 453
        },
        "id": "L0oPS_ouPzs1",
        "outputId": "7a3e628e-5f05-47c6-e37c-5baa87aa18c2"
      },
      "source": [
        "df.groupby(['duration_group', 'country'])['metascore'].describe()"
      ],
      "execution_count": null,
      "outputs": [
        {
          "output_type": "execute_result",
          "data": {
            "text/html": [
              "<div>\n",
              "<style scoped>\n",
              "    .dataframe tbody tr th:only-of-type {\n",
              "        vertical-align: middle;\n",
              "    }\n",
              "\n",
              "    .dataframe tbody tr th {\n",
              "        vertical-align: top;\n",
              "    }\n",
              "\n",
              "    .dataframe thead th {\n",
              "        text-align: right;\n",
              "    }\n",
              "</style>\n",
              "<table border=\"1\" class=\"dataframe\">\n",
              "  <thead>\n",
              "    <tr style=\"text-align: right;\">\n",
              "      <th></th>\n",
              "      <th></th>\n",
              "      <th>count</th>\n",
              "      <th>mean</th>\n",
              "      <th>std</th>\n",
              "      <th>min</th>\n",
              "      <th>25%</th>\n",
              "      <th>50%</th>\n",
              "      <th>75%</th>\n",
              "      <th>max</th>\n",
              "    </tr>\n",
              "    <tr>\n",
              "      <th>duration_group</th>\n",
              "      <th>country</th>\n",
              "      <th></th>\n",
              "      <th></th>\n",
              "      <th></th>\n",
              "      <th></th>\n",
              "      <th></th>\n",
              "      <th></th>\n",
              "      <th></th>\n",
              "      <th></th>\n",
              "    </tr>\n",
              "  </thead>\n",
              "  <tbody>\n",
              "    <tr>\n",
              "      <th rowspan=\"5\" valign=\"top\">(40.233, 117.7]</th>\n",
              "      <th>Afghanistan, France</th>\n",
              "      <td>0.0</td>\n",
              "      <td>NaN</td>\n",
              "      <td>NaN</td>\n",
              "      <td>NaN</td>\n",
              "      <td>NaN</td>\n",
              "      <td>NaN</td>\n",
              "      <td>NaN</td>\n",
              "      <td>NaN</td>\n",
              "    </tr>\n",
              "    <tr>\n",
              "      <th>Afghanistan, France, Germany, UK</th>\n",
              "      <td>1.0</td>\n",
              "      <td>64.0</td>\n",
              "      <td>NaN</td>\n",
              "      <td>64.0</td>\n",
              "      <td>64.0</td>\n",
              "      <td>64.0</td>\n",
              "      <td>64.0</td>\n",
              "      <td>64.0</td>\n",
              "    </tr>\n",
              "    <tr>\n",
              "      <th>Afghanistan, Iran</th>\n",
              "      <td>0.0</td>\n",
              "      <td>NaN</td>\n",
              "      <td>NaN</td>\n",
              "      <td>NaN</td>\n",
              "      <td>NaN</td>\n",
              "      <td>NaN</td>\n",
              "      <td>NaN</td>\n",
              "      <td>NaN</td>\n",
              "    </tr>\n",
              "    <tr>\n",
              "      <th>Afghanistan, Ireland, Japan, Iran, Netherlands</th>\n",
              "      <td>1.0</td>\n",
              "      <td>83.0</td>\n",
              "      <td>NaN</td>\n",
              "      <td>83.0</td>\n",
              "      <td>83.0</td>\n",
              "      <td>83.0</td>\n",
              "      <td>83.0</td>\n",
              "      <td>83.0</td>\n",
              "    </tr>\n",
              "    <tr>\n",
              "      <th>Albania</th>\n",
              "      <td>0.0</td>\n",
              "      <td>NaN</td>\n",
              "      <td>NaN</td>\n",
              "      <td>NaN</td>\n",
              "      <td>NaN</td>\n",
              "      <td>NaN</td>\n",
              "      <td>NaN</td>\n",
              "      <td>NaN</td>\n",
              "    </tr>\n",
              "    <tr>\n",
              "      <th>...</th>\n",
              "      <th>...</th>\n",
              "      <td>...</td>\n",
              "      <td>...</td>\n",
              "      <td>...</td>\n",
              "      <td>...</td>\n",
              "      <td>...</td>\n",
              "      <td>...</td>\n",
              "      <td>...</td>\n",
              "      <td>...</td>\n",
              "    </tr>\n",
              "    <tr>\n",
              "      <th rowspan=\"2\" valign=\"top\">(501.2, 577.9]</th>\n",
              "      <th>Philippines, Netherlands, Sweden</th>\n",
              "      <td>0.0</td>\n",
              "      <td>NaN</td>\n",
              "      <td>NaN</td>\n",
              "      <td>NaN</td>\n",
              "      <td>NaN</td>\n",
              "      <td>NaN</td>\n",
              "      <td>NaN</td>\n",
              "      <td>NaN</td>\n",
              "    </tr>\n",
              "    <tr>\n",
              "      <th>Russia</th>\n",
              "      <td>0.0</td>\n",
              "      <td>NaN</td>\n",
              "      <td>NaN</td>\n",
              "      <td>NaN</td>\n",
              "      <td>NaN</td>\n",
              "      <td>NaN</td>\n",
              "      <td>NaN</td>\n",
              "      <td>NaN</td>\n",
              "    </tr>\n",
              "    <tr>\n",
              "      <th>(577.9, 654.6]</th>\n",
              "      <th>Soviet Union</th>\n",
              "      <td>0.0</td>\n",
              "      <td>NaN</td>\n",
              "      <td>NaN</td>\n",
              "      <td>NaN</td>\n",
              "      <td>NaN</td>\n",
              "      <td>NaN</td>\n",
              "      <td>NaN</td>\n",
              "      <td>NaN</td>\n",
              "    </tr>\n",
              "    <tr>\n",
              "      <th>(654.6, 731.3]</th>\n",
              "      <th>France</th>\n",
              "      <td>1.0</td>\n",
              "      <td>87.0</td>\n",
              "      <td>NaN</td>\n",
              "      <td>87.0</td>\n",
              "      <td>87.0</td>\n",
              "      <td>87.0</td>\n",
              "      <td>87.0</td>\n",
              "      <td>87.0</td>\n",
              "    </tr>\n",
              "    <tr>\n",
              "      <th>(731.3, 808.0]</th>\n",
              "      <th>Argentina</th>\n",
              "      <td>1.0</td>\n",
              "      <td>77.0</td>\n",
              "      <td>NaN</td>\n",
              "      <td>77.0</td>\n",
              "      <td>77.0</td>\n",
              "      <td>77.0</td>\n",
              "      <td>77.0</td>\n",
              "      <td>77.0</td>\n",
              "    </tr>\n",
              "  </tbody>\n",
              "</table>\n",
              "<p>5565 rows × 8 columns</p>\n",
              "</div>"
            ],
            "text/plain": [
              "                                                                count  ...   max\n",
              "duration_group  country                                                ...      \n",
              "(40.233, 117.7] Afghanistan, France                               0.0  ...   NaN\n",
              "                Afghanistan, France, Germany, UK                  1.0  ...  64.0\n",
              "                Afghanistan, Iran                                 0.0  ...   NaN\n",
              "                Afghanistan, Ireland, Japan, Iran, Netherlands    1.0  ...  83.0\n",
              "                Albania                                           0.0  ...   NaN\n",
              "...                                                               ...  ...   ...\n",
              "(501.2, 577.9]  Philippines, Netherlands, Sweden                  0.0  ...   NaN\n",
              "                Russia                                            0.0  ...   NaN\n",
              "(577.9, 654.6]  Soviet Union                                      0.0  ...   NaN\n",
              "(654.6, 731.3]  France                                            1.0  ...  87.0\n",
              "(731.3, 808.0]  Argentina                                         1.0  ...  77.0\n",
              "\n",
              "[5565 rows x 8 columns]"
            ]
          },
          "metadata": {
            "tags": []
          },
          "execution_count": 97
        }
      ]
    },
    {
      "cell_type": "markdown",
      "metadata": {
        "id": "as6xZexzPzs1"
      },
      "source": [
        "##### Exercise 7: Group-by\n",
        "\n",
        "<ol>\n",
        "<li>use <code>pd.cut</code> to perform a grouping of one or more of the dataframe columns\n",
        "<li>use <code>groupby</code> to group by that (those) columns and then perform\n",
        "<li>three different statistical summaries in three separate instances\n",
        "\n"
      ]
    },
    {
      "cell_type": "code",
      "metadata": {
        "id": "RZBM8iZbPzs2"
      },
      "source": [
        "# Cell for excercise 7"
      ],
      "execution_count": null,
      "outputs": []
    }
  ]
}