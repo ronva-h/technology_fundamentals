{
  "nbformat": 4,
  "nbformat_minor": 0,
  "metadata": {
    "colab": {
      "name": "SOLUTION Tech Fun C2 P2 Game AI, OOP and Agents PART 2",
      "provenance": [],
      "collapsed_sections": [],
      "toc_visible": true,
      "include_colab_link": true
    },
    "kernelspec": {
      "display_name": "Python (tunnel)",
      "language": "python",
      "name": "python3"
    },
    "language_info": {
      "codemirror_mode": {
        "name": "ipython",
        "version": 3
      },
      "file_extension": ".py",
      "mimetype": "text/x-python",
      "name": "python",
      "nbconvert_exporter": "python",
      "pygments_lexer": "ipython3",
      "version": "3.7.7"
    }
  },
  "cells": [
    {
      "cell_type": "markdown",
      "metadata": {
        "id": "view-in-github",
        "colab_type": "text"
      },
      "source": [
        "<a href=\"https://colab.research.google.com/github/wesleybeckner/technology_fundamentals/blob/main/C2%20Statistics%20and%20Model%20Creation/SOLUTIONS/SOLUTION_Tech_Fun_C2_P2_Game_AI%2C_OOP_and_Agents_PART_2.ipynb\" target=\"_parent\"><img src=\"https://colab.research.google.com/assets/colab-badge.svg\" alt=\"Open In Colab\"/></a>"
      ]
    },
    {
      "cell_type": "markdown",
      "metadata": {
        "id": "vhe1yX4AMckE"
      },
      "source": [
        "# Technology Fundamentals Course 2, Project Part 2: Building Agents and Object Oriented Programming (Random AI Agent)\n",
        "\n",
        "**Instructor**: Wesley Beckner\n",
        "\n",
        "**Contact**: wesleybeckner@gmail.com\n",
        "\n",
        "**Teaching Assitants**: Varsha Bang, Harsha Vardhan\n",
        "\n",
        "**Contact**: vbang@uw.edu, harshav@uw.edu\n",
        "\n",
        "<br>\n",
        "\n",
        "---\n",
        "\n",
        "<br>\n",
        "\n",
        "In part II of our tic-tac-toe and AI journey, we're going to take all the functions we've defined so far and make them object oriented!\n",
        "\n",
        "<br>\n",
        "\n",
        "---\n",
        "\n",
        "<br>\n",
        "\n",
        "<a name='top'></a>\n",
        "  "
      ]
    },
    {
      "cell_type": "markdown",
      "metadata": {
        "id": "mNtJitcRW51Y"
      },
      "source": [
        "<a name='x.0'></a>\n",
        "\n",
        "## 2.0 Preparing Environment and Importing Data\n",
        "\n",
        "[back to top](#top)"
      ]
    },
    {
      "cell_type": "markdown",
      "metadata": {
        "id": "chdcBoBL8SNm"
      },
      "source": [
        "<a name='x.0.1'></a>\n",
        "\n",
        "### 2.0.1 Import Packages\n",
        "\n",
        "[back to top](#top)"
      ]
    },
    {
      "cell_type": "code",
      "metadata": {
        "id": "eJ7-FDq3JhhI"
      },
      "source": [
        "def visualize_board(board_values):\n",
        "  \"\"\"\n",
        "  Visualizes the board during gameplay\n",
        "\n",
        "  Parameters\n",
        "  ----------\n",
        "  board_values : list\n",
        "    The values ('X', 'O', or ' ' at each board location)\n",
        "\n",
        "  Returns\n",
        "  -------\n",
        "  None\n",
        "\n",
        "  \"\"\"\n",
        "  print(\n",
        "    \"|{}|{}|{}|\\n|{}|{}|{}|\\n|{}|{}|{}|\\n\".format(*board_values)\n",
        "    )\n",
        "  \n",
        "def init_board():\n",
        "  \"\"\"\n",
        "  Initializes an empty board for the start of gameplay\n",
        "\n",
        "  Parameters\n",
        "  ----------\n",
        "  None\n",
        "\n",
        "  Returns\n",
        "  -------\n",
        "  board : dict\n",
        "    a dictionary with keys 1-9 and single space (' ') string as values\n",
        "  \"\"\"\n",
        "  return {1: ' ',\n",
        "         2: ' ',\n",
        "         3: ' ',\n",
        "         4: ' ',\n",
        "         5: ' ',\n",
        "         6: ' ',\n",
        "         7: ' ',\n",
        "         8: ' ',\n",
        "         9: ' ',}\n",
        "\n",
        "# the keys on the game board where, if filled completely with X's or O's a \n",
        "# winner has occurred \n",
        "win_patterns = [[1,2,3], [4,5,6], [7,8,9],\n",
        "                [1,4,7], [2,5,8], [3,6,9],\n",
        "                [1,5,9], [7,5,3]]\n",
        "                \n",
        "def check_winning(board):\n",
        "  \"\"\"\n",
        "  Checks if the game has a winner\n",
        "\n",
        "  Parameters\n",
        "  ----------\n",
        "  board : dict\n",
        "    the tictactoe board as a dictionary\n",
        "\n",
        "  Returns\n",
        "  -------\n",
        "  win_statement : str\n",
        "    defaults to an empty string if no winner. Otherwise 'X' Won! or 'O' Won!\n",
        "  \"\"\"\n",
        "  for pattern in win_patterns:\n",
        "    values = [board[i] for i in pattern] \n",
        "    if values == ['X', 'X', 'X']:\n",
        "      return \"'X' Won!\"\n",
        "    elif values == ['O', 'O', 'O']:\n",
        "      return \"'O' Won!\"\n",
        "\n",
        "  return ''\n",
        "\n",
        "def tic_tac_toe():\n",
        "  \"\"\"\n",
        "  The tictactoe game engine. Runs the while loop that handles the game\n",
        "\n",
        "  Parameters\n",
        "  ----------\n",
        "  None\n",
        "\n",
        "  Returns\n",
        "  -------\n",
        "  None\n",
        "  \"\"\"\n",
        "  print(\"'X' will go first!\")\n",
        "  board = init_board()\n",
        "  while True:\n",
        "    for player in (['X', 'O']):  \n",
        "      visualize_board(board.values())\n",
        "      move = int(input(\"{}, what's your move?\".format(player)))\n",
        "      if board[move] != ' ':\n",
        "        move = input(\"{}, that position is already taken! \"\\\n",
        "                    \"What's your move?\".format(player))\n",
        "      else:\n",
        "        board[move] = player\n",
        "      winner = check_winning(board)\n",
        "      if winner == '':\n",
        "        continue\n",
        "      else:\n",
        "        print(winner)\n",
        "        break\n",
        "    if winner != '':\n",
        "      break"
      ],
      "execution_count": 1,
      "outputs": []
    },
    {
      "cell_type": "markdown",
      "metadata": {
        "id": "wlj85iTSIwji"
      },
      "source": [
        "<a name='x.1'></a>\n",
        "\n",
        "## 2.1 OOP\n",
        "\n",
        "[back to top](#top)\n",
        "\n",
        "Notice how we have so many functions with calls to our main object `board`. Let's try to organize this into a more object oriented scheme.\n",
        "\n",
        "We'll also want to write a function that recognizes when a stalemate has been reached!"
      ]
    },
    {
      "cell_type": "markdown",
      "metadata": {
        "id": "L0WIvZn-6FLn"
      },
      "source": [
        "### 2.1.1 Thinking in Objects\n",
        "\n",
        "It's helpful to think of how our code can be divided into useful segments that can then be extended, interfaced, used elsewhere, etc.\n",
        "\n",
        "It's just like we had when we were playing with our pokeball and pokemon objects. In that case, it made sense to make two separate objects one for pokemon and one for pokeballs.\n",
        "\n",
        "Can you think of any way that would make sense to divide our code into objects? I can think of two."
      ]
    },
    {
      "cell_type": "markdown",
      "metadata": {
        "id": "oEX2A9Q17Jcv"
      },
      "source": [
        "### 2.1.2 class TicTacToe\n",
        "\n",
        "the first object will be one that handles our board and all of its methods and attributes. In this class called `TicTacToe` we will have the attributes:\n",
        "  * `winner`, initialized as an empty string, and updates at the conclusion of a game with 'X', 'O', or 'Stalemate'\n",
        "  * `start_player` initialized as an empty string and updates at the start of a game with 'X' or 'O'\n",
        "  * `board` initialized as our empty board dictionary\n",
        "  * `win_patterns` the list of lists containing the winning patterns of the game\n",
        "\n",
        "and then we will have three different methods, each of which takes one parameter, `self`\n",
        "\n",
        "* `visualize_board`\n",
        "* `check_winning`\n",
        "* `check_stalemate` : a new function. Returns \"It's a stalemate!\" and sets `self.winner = \"Stalemate\"` (note there is a bug in the way this is currently written, we will move along for now and work through a debugging tutorial later this week!)"
      ]
    },
    {
      "cell_type": "markdown",
      "metadata": {
        "id": "AU78nqEm9QWS"
      },
      "source": [
        "#### Q1 Attributes of TicTacToe\n",
        "\n",
        "Within class TicTacToe, define the attributes described above"
      ]
    },
    {
      "cell_type": "code",
      "metadata": {
        "id": "zANQ5gabHW4n"
      },
      "source": [
        "class TicTacToe:\n",
        "  # create winner and start_player parameters with default values as empty \n",
        "  # strings within __init__\n",
        "  def __init__(self, winner='', start_player=''):\n",
        "    ##################################\n",
        "    ########### Attributes ###########\n",
        "    ##################################\n",
        "    # set self.winner and self.start_player with the parameters from __init__\n",
        "    self.winner = winner\n",
        "    self.start_player = start_player\n",
        "    # set self.board as a dictionary with ' ' as values and 1-9 as keys\n",
        "    self.board = {1: ' ',\n",
        "                  2: ' ',\n",
        "                  3: ' ',\n",
        "                  4: ' ',\n",
        "                  5: ' ',\n",
        "                  6: ' ',\n",
        "                  7: ' ',\n",
        "                  8: ' ',\n",
        "                  9: ' ',}\n",
        "    # set self.win_patterns with the 8 winning patterns (a list of lists)\n",
        "    self.win_patterns = [[1,2,3], [4,5,6], [7,8,9],\n",
        "                [1,4,7], [2,5,8], [3,6,9],\n",
        "                [1,5,9], [7,5,3]]"
      ],
      "execution_count": 2,
      "outputs": []
    },
    {
      "cell_type": "markdown",
      "metadata": {
        "id": "f54j_ecJ-Wy0"
      },
      "source": [
        "#### Q2 Methods of TicTacToe\n",
        "\n",
        "Here now we will define the methods of `TicTacToe`. Paste your attributes from the above cell, into the bellow cell so that your changes carry over."
      ]
    },
    {
      "cell_type": "code",
      "metadata": {
        "id": "-9jxKu8a-dNc"
      },
      "source": [
        "class TicTacToe:\n",
        "  # create winner and start_player parameters with default values as empty \n",
        "  # strings within __init__\n",
        "  def __init__(self, winner='', start_player=''):\n",
        "    ##################################\n",
        "    ########### Attributes ###########\n",
        "    ##################################\n",
        "    # set self.winner and self.start_player with the parameters from __init__\n",
        "    self.winner = winner\n",
        "    self.start_player = start_player\n",
        "    # set self.board as a dictionary with ' ' as values and 1-9 as keys\n",
        "    self.board = {1: ' ',\n",
        "                  2: ' ',\n",
        "                  3: ' ',\n",
        "                  4: ' ',\n",
        "                  5: ' ',\n",
        "                  6: ' ',\n",
        "                  7: ' ',\n",
        "                  8: ' ',\n",
        "                  9: ' ',}\n",
        "    # set self.win_patterns with the 8 winning patterns (a list of lists)\n",
        "    self.win_patterns = [[1,2,3], [4,5,6], [7,8,9],\n",
        "                [1,4,7], [2,5,8], [3,6,9],\n",
        "                [1,5,9], [7,5,3]]\n",
        "\n",
        "  ###############################\n",
        "  ########### METHODS ###########\n",
        "  ###############################    \n",
        "\n",
        "  # the other functions are now passed self\n",
        "\n",
        "  # define visualize_board and update the board\n",
        "  # object with self.board (and maybe self.board.values() depending on how your\n",
        "  # visualize_board function is written)\n",
        "  def visualize_board(self):\n",
        "    \"\"\"\n",
        "    Visualizes the board during gameplay\n",
        "\n",
        "    Parameters\n",
        "    ----------\n",
        "    board_values : list\n",
        "      The values ('X', 'O', or ' ' at each board location)\n",
        "\n",
        "    Returns\n",
        "    -------\n",
        "    None\n",
        "\n",
        "    \"\"\"\n",
        "    print(\n",
        "      \"|{}|{}|{}|\\n|{}|{}|{}|\\n|{}|{}|{}|\\n\".format(*self.board.values())\n",
        "      )\n",
        "  # define check_winning and similarly update win_patterns,\n",
        "  # board, and winner to be accessed via the self. Be sure to update the \n",
        "  # attribute self.winner with the appropriate winner in the function\n",
        "  def check_winning(self):\n",
        "    \"\"\"\n",
        "    Checks if the game has a winner\n",
        "\n",
        "    Parameters\n",
        "    ----------\n",
        "    board : dict\n",
        "      the tictactoe board as a dictionary\n",
        "\n",
        "    Returns\n",
        "    -------\n",
        "    win_statement : str\n",
        "      defaults to an empty string if no winner. Otherwise 'X' Won! or 'O' Won!\n",
        "    \"\"\"\n",
        "    for pattern in self.win_patterns:\n",
        "      values = [self.board[i] for i in pattern] \n",
        "      if values == ['X', 'X', 'X']:\n",
        "        self.winner = 'X'\n",
        "        return \"'X' Won!\"\n",
        "      elif values == ['O', 'O', 'O']:\n",
        "        self.winner = 'O'\n",
        "        return \"'O' Won!\"\n",
        "    return ''\n",
        "\n",
        "  # here the definition of check_stalemate is given\n",
        "  def check_stalemate(self):\n",
        "    if ' ' not in self.board.values():\n",
        "      self.winner = 'Stalemate'\n",
        "      return \"It's a stalemate!\""
      ],
      "execution_count": 3,
      "outputs": []
    },
    {
      "cell_type": "markdown",
      "metadata": {
        "id": "rFTg_uZdBjqC"
      },
      "source": [
        "### 2.1.3 The Game Engine (just a function for now)\n",
        "\n",
        "Next we'll create a function that runs game play using TicTacToe as an object that it passes around. I've already done the heavy lifting of replacing references to attributes (board, win_patterns) and methods (visualize_board, check_winning) to pass through the `TicTacToe` object. I also added the option for the user to quit the game by typing in `'q'` to the input line if they would like."
      ]
    },
    {
      "cell_type": "markdown",
      "metadata": {
        "id": "YY_uRNWxCjTd"
      },
      "source": [
        "#### Q3 Add Condition for Stalemate"
      ]
    },
    {
      "cell_type": "code",
      "metadata": {
        "id": "hX_AgjhgM190"
      },
      "source": [
        "def play_game():\n",
        "  print(\"'X' will go first!\")\n",
        "  tic_tac_toe = TicTacToe()\n",
        "  while True:\n",
        "    for player in (['X', 'O']):  \n",
        "      tic_tac_toe.visualize_board()\n",
        "      move = input(\"{}, what's your move?\".format(player))\n",
        "\n",
        "      ####################################################################\n",
        "      # we're going to allow the user to quit the game from the input line\n",
        "      ####################################################################\n",
        "      if move in ['q', 'quit']:\n",
        "        tic_tac_toe.winner = 'F'\n",
        "        print('quiting the game')\n",
        "        break\n",
        "\n",
        "      move = int(move)\n",
        "      if tic_tac_toe.board[move] != ' ':\n",
        "        while True:\n",
        "          move = input(\"{}, that position is already taken! \"\\\n",
        "                      \"What's your move?\".format(player))  \n",
        "          move = int(move)            \n",
        "          if tic_tac_toe.board[move] != ' ':\n",
        "            continue\n",
        "          else:\n",
        "            break\n",
        "            \n",
        "      tic_tac_toe.board[move] = player\n",
        "\n",
        "      # the winner varaible will now be checked within the board object\n",
        "      tic_tac_toe.check_winning()\n",
        "      \n",
        "      ##############################\n",
        "      # CALL check_stalemate() BELOW\n",
        "      ##############################\n",
        "      tic_tac_toe.check_stalemate()\n",
        "\n",
        "      if tic_tac_toe.winner == '':\n",
        "        continue\n",
        "\n",
        "      ##########################################################################\n",
        "      # write an elif statement that checks if self.winner is 'Stalemate' and\n",
        "      # subsequently visualizes the board and breaks out of the while loop\n",
        "      # also print out check_stalemate so the returned string is shown to the \n",
        "      # user\n",
        "      ##########################################################################\n",
        "      elif tic_tac_toe.winner == 'Stalemate':\n",
        "        tic_tac_toe.visualize_board()\n",
        "        print(tic_tac_toe.check_stalemate())\n",
        "        break\n",
        "      else:\n",
        "        print(tic_tac_toe.check_winning())\n",
        "        tic_tac_toe.visualize_board()\n",
        "        break\n",
        "    if tic_tac_toe.winner != '':\n",
        "      break"
      ],
      "execution_count": 4,
      "outputs": []
    },
    {
      "cell_type": "markdown",
      "metadata": {
        "id": "T9_zOzGefzJ4"
      },
      "source": [
        "Let's test our new module"
      ]
    },
    {
      "cell_type": "code",
      "metadata": {
        "id": "W35vmcd5NEtR",
        "colab": {
          "base_uri": "https://localhost:8080/"
        },
        "outputId": "36a74f2c-7161-4433-f46b-ea136c3771e0"
      },
      "source": [
        "play_game()"
      ],
      "execution_count": 5,
      "outputs": [
        {
          "output_type": "stream",
          "text": [
            "'X' will go first!\n",
            "| | | |\n",
            "| | | |\n",
            "| | | |\n",
            "\n",
            "X, what's your move?q\n",
            "quiting the game\n"
          ],
          "name": "stdout"
        }
      ]
    },
    {
      "cell_type": "markdown",
      "metadata": {
        "id": "J3dlcfPtfccI"
      },
      "source": [
        "## 2.2 Creating an Agent\n",
        "\n",
        "we'll start by creating an agent that just selects a random playing number"
      ]
    },
    {
      "cell_type": "markdown",
      "metadata": {
        "id": "hOp1PvYlf4oo"
      },
      "source": [
        "### Q4 Use a Random Number Generator\n",
        "\n",
        "import the random library. Use it to randomly generate numbers 1-9 (inclusive? yep, inclusive. We're going to use this to select the keys in our board dictionary! 📚)"
      ]
    },
    {
      "cell_type": "code",
      "metadata": {
        "id": "bdqc_josNU_L",
        "colab": {
          "base_uri": "https://localhost:8080/"
        },
        "outputId": "e1b51627-fb4d-402c-c750-9fc80138282e"
      },
      "source": [
        "# cell for Q4\n",
        "# generates a random number 1-9\n",
        "import random\n",
        "\n",
        "random.randint(1,9)"
      ],
      "execution_count": 6,
      "outputs": [
        {
          "output_type": "execute_result",
          "data": {
            "text/plain": [
              "5"
            ]
          },
          "metadata": {
            "tags": []
          },
          "execution_count": 6
        }
      ]
    },
    {
      "cell_type": "markdown",
      "metadata": {
        "id": "H2Z6O-iygtRl"
      },
      "source": [
        "### Q5 Play a Valid Move\n",
        "\n",
        "Nice, now that we are generating random numbers 1-9. We need to check if a random number that's been drawn, is a valid move. We're going to do this with... yeah that's right you guessed it, a `while loop`"
      ]
    },
    {
      "cell_type": "code",
      "metadata": {
        "id": "je_2Kk6vElIo"
      },
      "source": [
        "tic_tac_toe = TicTacToe()"
      ],
      "execution_count": 7,
      "outputs": []
    },
    {
      "cell_type": "code",
      "metadata": {
        "id": "cyQruaqghODb"
      },
      "source": [
        "while True:\n",
        "  # generate a random number 1-9 and set it equalt to the variable name <move>\n",
        "  move = random.randint(1,9)\n",
        "  if tic_tac_toe.board[move] != ' ':\n",
        "    continue\n",
        "  else: # otherwise the move is valid and we can exit the loop!\n",
        "    break"
      ],
      "execution_count": 8,
      "outputs": []
    },
    {
      "cell_type": "markdown",
      "metadata": {
        "id": "ThoZp0mHgg7g"
      },
      "source": [
        "Wow and that's it, we just need to wrap it in our `play_game` function. Before we do that, we need to handle the ability of our engine to perform 1 and 2 player games. In order to do this, I'm going to introduce a new object to organize how the game is setup. I'm going to call it `player_meta`\n",
        "\n",
        "```\n",
        "player_meta = {'first': {'label': 'X',\n",
        "                            'type': 'human'}, \n",
        "              'second': {'label': 'O',\n",
        "                            'type': 'human'}}\n",
        "```\n",
        "\n",
        "\n"
      ]
    },
    {
      "cell_type": "markdown",
      "metadata": {
        "id": "MixEXLUNlBGy"
      },
      "source": [
        "### Q6 Game Setup and Random AI\n",
        "\n",
        "I will skeleton out where the `input` questions need to be sent to the user, it is your task to determine how the `player_meta` dictionary should subsequently be updated!"
      ]
    },
    {
      "cell_type": "code",
      "metadata": {
        "id": "1Ep9Bi5dgkCa"
      },
      "source": [
        "def play_game():\n",
        "  tic_tac_toe = TicTacToe()\n",
        "\n",
        "  ##############################################################################\n",
        "  ################################# GAME SETUP #################################\n",
        "  ##############################################################################\n",
        "  players = int(input(\"How many Players? (type 0, 1, or 2)\"))\n",
        "  player_meta = {'first': {'label': 'X',\n",
        "                                'type': 'human'}, \n",
        "                 'second': {'label': 'O',\n",
        "                                'type': 'human'}}\n",
        "  if players == 1:\n",
        "    first = input(\"who will go first? (X, (AI), or O (Player))\")\n",
        "    if first == 'O':\n",
        "      ### UPDATE PLAYER_META HERE ###\n",
        "      player_meta = {'first': {'label': 'O',\n",
        "                                'type': 'human'}, \n",
        "                 'second': {'label': 'X',\n",
        "                                'type': 'ai'}}\n",
        "\n",
        "    else:\n",
        "      ### UPDATE PLAYER_META HERE ### \n",
        "      player_meta = {'second': {'label': 'O',\n",
        "                                'type': 'human'}, \n",
        "                 'first': {'label': 'X',\n",
        "                                'type': 'ai'}}\n",
        "\n",
        "  elif players == 0: # insert wargames quote\n",
        "    first = random.choice(['X', 'O'])\n",
        "    if first == 'O':\n",
        "      ### UPDATE PLAYER_META HERE ###\n",
        "      player_meta = {'first': {'label': 'O',\n",
        "                                'type': 'ai'}, \n",
        "                 'second': {'label': 'X',\n",
        "                                'type': 'ai'}}\n",
        "                             \n",
        "    else:\n",
        "      ### UPDATE PLAYER_META HERE ### \n",
        "      player_meta = {'second': {'label': 'O',\n",
        "                                'type': 'ai'}, \n",
        "                 'first': {'label': 'X',\n",
        "                                'type': 'ai'}}\n",
        "  \n",
        "  ##############################################################################\n",
        "  ################################# GAME PLAY ##################################\n",
        "  ##############################################################################\n",
        "  while True:\n",
        "    # in the following line, instead of alternating between 'X' and 'O', we now\n",
        "    # alternate between the first and second player, which has the associated\n",
        "    # metadata of label (X or O) and type (ai or human). \n",
        "    for player in ['first', 'second']:  \n",
        "      tic_tac_toe.visualize_board()\n",
        "\n",
        "      # we set the player_label and player_type according to which player is \n",
        "      # playing in this round\n",
        "      player_label = player_meta[player]['label']\n",
        "      player_type = player_meta[player]['type']\n",
        "\n",
        "      if player_type == 'human':\n",
        "        move = input(\"{}, what's your move?\".format(player_label))\n",
        "        # we're going to allow the user to quit the game from the input line\n",
        "        if move in ['q', 'quit']:\n",
        "          tic_tac_toe.winner = 'F'\n",
        "          print('quiting the game')\n",
        "          break\n",
        "\n",
        "        move = int(move)\n",
        "        if tic_tac_toe.board[move] != ' ':\n",
        "          while True:\n",
        "            move = input(\"{}, that position is already taken! \"\\\n",
        "                        \"What's your move?\".format(player))  \n",
        "            move = int(move)            \n",
        "            if tic_tac_toe.board[move] != ' ':\n",
        "              continue\n",
        "            else:\n",
        "              break\n",
        "\n",
        "      ##########################################################################\n",
        "      ################### YOUR RANDOM AI AGENT CODE GOES HERE ##################\n",
        "      ##########################################################################\n",
        "      else:\n",
        "        while True:\n",
        "          # generate a random number 1-9 and set it equalt to the variable name <move>\n",
        "          move = random.randint(1,9)\n",
        "          if tic_tac_toe.board[move] != ' ':\n",
        "            continue\n",
        "          else: # otherwise the move is valid and we can exit the loop!\n",
        "            break\n",
        "      \n",
        "      tic_tac_toe.board[move] = player_label\n",
        "      \n",
        "      # the winner varaible will now be check within the board object\n",
        "      tic_tac_toe.check_winning()\n",
        "      tic_tac_toe.check_stalemate()\n",
        "      if tic_tac_toe.winner == '':\n",
        "        continue\n",
        "\n",
        "      elif tic_tac_toe.winner == 'Stalemate':\n",
        "        print(tic_tac_toe.check_stalemate())\n",
        "        tic_tac_toe.visualize_board()\n",
        "        break\n",
        "\n",
        "      else:\n",
        "        print(tic_tac_toe.check_winning())\n",
        "        tic_tac_toe.visualize_board()\n",
        "        break\n",
        "    if tic_tac_toe.winner != '':\n",
        "      return tic_tac_toe"
      ],
      "execution_count": 9,
      "outputs": []
    },
    {
      "cell_type": "code",
      "metadata": {
        "id": "gPwRLHXt1SQA",
        "colab": {
          "base_uri": "https://localhost:8080/"
        },
        "outputId": "e68d7e14-24e2-48c4-e75e-feb1aaeba353"
      },
      "source": [
        "play_game()"
      ],
      "execution_count": 10,
      "outputs": [
        {
          "output_type": "stream",
          "text": [
            "How many Players? (type 0, 1, or 2)0\n",
            "| | | |\n",
            "| | | |\n",
            "| | | |\n",
            "\n",
            "| | | |\n",
            "| | | |\n",
            "|X| | |\n",
            "\n",
            "| | | |\n",
            "|O| | |\n",
            "|X| | |\n",
            "\n",
            "| |X| |\n",
            "|O| | |\n",
            "|X| | |\n",
            "\n",
            "| |X| |\n",
            "|O| | |\n",
            "|X| |O|\n",
            "\n",
            "| |X| |\n",
            "|O|X| |\n",
            "|X| |O|\n",
            "\n",
            "| |X| |\n",
            "|O|X| |\n",
            "|X|O|O|\n",
            "\n",
            "|X|X| |\n",
            "|O|X| |\n",
            "|X|O|O|\n",
            "\n",
            "|X|X|O|\n",
            "|O|X| |\n",
            "|X|O|O|\n",
            "\n",
            "It's a stalemate!\n",
            "|X|X|O|\n",
            "|O|X|X|\n",
            "|X|O|O|\n",
            "\n"
          ],
          "name": "stdout"
        },
        {
          "output_type": "execute_result",
          "data": {
            "text/plain": [
              "<__main__.TicTacToe at 0x7f448588bad0>"
            ]
          },
          "metadata": {
            "tags": []
          },
          "execution_count": 10
        }
      ]
    },
    {
      "cell_type": "markdown",
      "metadata": {
        "id": "uWyxdhmXImDj"
      },
      "source": [
        "## 2.3 OOP and Inheritance\n",
        "\n",
        "We'll want to reconfigure our code a bit to allow for AI to play AI. We'll use this feature to record a bunch of games and generate some data for analysis and, eventually, machine learning training.\n",
        "\n",
        "We also want to run our game system without having any input from the user for our data generation. This is a good point to reconfigure our code. Notice how long and bulky `play_game` is getting.\n",
        "\n"
      ]
    },
    {
      "cell_type": "markdown",
      "metadata": {
        "id": "sHqy-bzGq7_o"
      },
      "source": [
        "### Q7 Inheriting from TicTacToe\n",
        "\n",
        "To better organize our code, we're going to create a new class called `GameEngine` and we're going to inherit all the properties of `TicTacToe`. Do we remember how to do this? let's try it. The simplest way is the following:\n",
        "\n",
        "```\n",
        "class GameEngine(TicTacToe):\n",
        "  def __init__(self):\n",
        "    super().__init__()\n",
        "```\n",
        "\n",
        "Nice. Pretty clean, right? The only new thing here I want us to introduce is the parameter `setup` setup will determine whether we have the user enter fields to setup the `player_meta` dictionary, or whether we automatically set it up to allow ai vs ai and not require input from the user (which we will need if we are to run thousands of games automatically for data generation!!!)\n",
        "\n",
        "```\n",
        "class GameEngine(TicTacToe):\n",
        "  def __init__(self, setup='auto'):\n",
        "    super().__init__()\n",
        "    self.setup = setup\n",
        "```\n",
        "\n",
        "notice the new parameter flag! We're going to use it in this next step. Be sure to:\n",
        "\n",
        "1. access all methods/attributes via the `self`\n",
        "2. use code you already wrote above for setting up and for the random AI agent"
      ]
    },
    {
      "cell_type": "code",
      "metadata": {
        "id": "LeYsz5yJ1Tbv"
      },
      "source": [
        "class GameEngine(TicTacToe):\n",
        "  def __init__(self, setup='auto'):\n",
        "    super().__init__()\n",
        "    self.setup = setup\n",
        "    self.player_meta = None\n",
        "\n",
        "  def setup_game(self):\n",
        "\n",
        "    if self.setup == 'user':\n",
        "      ##########################################################################\n",
        "      ## YOUR GAME SETUP CODE FROM ABOVE GOES HERE, NOTE THE NEW IF STATEMENT ##\n",
        "      ##########################################################################\n",
        "      players = int(input(\"How many Players? (type 0, 1, or 2)\"))\n",
        "      self.player_meta = {'first': {'label': 'X',\n",
        "                                    'type': 'human'}, \n",
        "                    'second': {'label': 'O',\n",
        "                                    'type': 'human'}}\n",
        "      if players == 1:\n",
        "        first = input(\"who will go first? (X, (AI), or O (Player))\")\n",
        "        if first == 'O':\n",
        "          ### UPDATE PLAYER_META HERE ###\n",
        "          self.player_meta = {'first': {'label': 'O',\n",
        "                                    'type': 'human'}, \n",
        "                    'second': {'label': 'X',\n",
        "                                    'type': 'ai'}}\n",
        "\n",
        "        else:\n",
        "          ### UPDATE PLAYER_META HERE ### \n",
        "          self.player_meta = {'second': {'label': 'O',\n",
        "                                    'type': 'human'}, \n",
        "                    'first': {'label': 'X',\n",
        "                                    'type': 'ai'}}\n",
        "\n",
        "      elif players == 0: # insert wargames quote\n",
        "        first = random.choice(['X', 'O'])\n",
        "        if first == 'O':\n",
        "          ### UPDATE PLAYER_META HERE ###\n",
        "          self.player_meta = {'first': {'label': 'O',\n",
        "                                    'type': 'ai'}, \n",
        "                    'second': {'label': 'X',\n",
        "                                    'type': 'ai'}}\n",
        "                                \n",
        "        else:\n",
        "          ### UPDATE PLAYER_META HERE ### \n",
        "          self.player_meta = {'second': {'label': 'O',\n",
        "                                    'type': 'ai'}, \n",
        "                    'first': {'label': 'X',\n",
        "                                    'type': 'ai'}}\n",
        "\n",
        "    elif self.setup == 'auto':\n",
        "      ##########################################################################\n",
        "      ## THE NEW AUTOSETUP FEATURE THAT WILL ALLOW THE GAME TO RANDOMLY SETUP ##\n",
        "      ##########################################################################\n",
        "      first = random.choice(['X', 'O'])\n",
        "      if first == 'O':\n",
        "        self.start_player = 'O'\n",
        "        self.player_meta = {'second': {'label': 'X',\n",
        "                                  'type': 'ai'}, \n",
        "                      'first': {'label': 'O',\n",
        "                                  'type': 'ai'}}                                \n",
        "      else:\n",
        "        self.start_player = 'X'\n",
        "        self.player_meta = {'first': {'label': 'X',\n",
        "                                  'type': 'ai'}, \n",
        "                      'second': {'label': 'O',\n",
        "                                  'type': 'ai'}}\n",
        "\n",
        "  def play_game(self):\n",
        "    while True:\n",
        "      for player in ['first', 'second']:  \n",
        "        self.visualize_board()\n",
        "        player_label = self.player_meta[player]['label']\n",
        "        player_type = self.player_meta[player]['type']\n",
        "\n",
        "        if player_type == 'human':\n",
        "          move = input(\"{}, what's your move?\".format(player_label))\n",
        "          # we're going to allow the user to quit the game from the input line\n",
        "          if move in ['q', 'quit']:\n",
        "            self.winner = 'F'\n",
        "            print('quiting the game')\n",
        "            break\n",
        "\n",
        "          move = int(move)\n",
        "          if self.board[move] != ' ':\n",
        "            while True:\n",
        "              move = input(\"{}, that position is already taken! \"\\\n",
        "                          \"What's your move?\".format(player))  \n",
        "              move = int(move)            \n",
        "              if self.board[move] != ' ':\n",
        "                continue\n",
        "              else:\n",
        "                break\n",
        "\n",
        "        ########################################################################\n",
        "        ################### YOUR RANDOM AI AGENT CODE GOES HERE ################\n",
        "        ########################################################################\n",
        "        else:\n",
        "          while True:\n",
        "            # generate a random number 1-9 and set it equalt to the variable name <move>\n",
        "            move = random.randint(1,9)\n",
        "            if tic_tac_toe.board[move] != ' ':\n",
        "              continue\n",
        "            else: # otherwise the move is valid and we can exit the loop!\n",
        "              break\n",
        "\n",
        "        self.board[move] = player_label\n",
        "\n",
        "        # the winner varaible will now be check within the board object\n",
        "        self.check_winning()\n",
        "        self.check_stalemate()\n",
        "\n",
        "        if self.winner == '':\n",
        "          continue\n",
        "\n",
        "        elif self.winner == 'Stalemate':\n",
        "          print(self.check_stalemate())\n",
        "          self.visualize_board()\n",
        "          break\n",
        "\n",
        "        else:\n",
        "          print(self.check_winning())\n",
        "          self.visualize_board()\n",
        "          break\n",
        "      if self.winner != '':\n",
        "        return self"
      ],
      "execution_count": 15,
      "outputs": []
    },
    {
      "cell_type": "markdown",
      "metadata": {
        "id": "dDT80KJ0rHRY"
      },
      "source": [
        "And now we can practice using our Engine:"
      ]
    },
    {
      "cell_type": "code",
      "metadata": {
        "colab": {
          "base_uri": "https://localhost:8080/"
        },
        "id": "wErDqzzOLGVg",
        "outputId": "c6849f26-536b-4e22-e95d-af30474ce844"
      },
      "source": [
        "game = GameEngine()\n",
        "game.setup_game()\n",
        "board = game.play_game()"
      ],
      "execution_count": 16,
      "outputs": [
        {
          "output_type": "stream",
          "text": [
            "| | | |\n",
            "| | | |\n",
            "| | | |\n",
            "\n",
            "| | | |\n",
            "| | | |\n",
            "|X| | |\n",
            "\n",
            "| | | |\n",
            "| | |O|\n",
            "|X| | |\n",
            "\n",
            "| | |X|\n",
            "| | |O|\n",
            "|X| | |\n",
            "\n",
            "|O| |X|\n",
            "| | |O|\n",
            "|X| | |\n",
            "\n",
            "|O| |X|\n",
            "| | |O|\n",
            "|X|X| |\n",
            "\n",
            "|O|O|X|\n",
            "| | |O|\n",
            "|X|X| |\n",
            "\n",
            "|O|O|X|\n",
            "| | |X|\n",
            "|X|X| |\n",
            "\n",
            "|O|O|X|\n",
            "| | |X|\n",
            "|X|X| |\n",
            "\n",
            "|O|O|X|\n",
            "| | |X|\n",
            "|X|X| |\n",
            "\n",
            "|O|O|X|\n",
            "| | |X|\n",
            "|X|X| |\n",
            "\n",
            "'X' Won!\n",
            "|O|O|X|\n",
            "| | |X|\n",
            "|X|X|X|\n",
            "\n"
          ],
          "name": "stdout"
        }
      ]
    },
    {
      "cell_type": "markdown",
      "metadata": {
        "id": "U9JupO5eSnLm"
      },
      "source": [
        "### Q8 Test the Engine\n",
        "\n",
        "Check that we can still use the `GameEngine` to play a human v human or human v AI game of tic tac toe:"
      ]
    },
    {
      "cell_type": "code",
      "metadata": {
        "colab": {
          "base_uri": "https://localhost:8080/"
        },
        "id": "5GGKHscfLv9u",
        "outputId": "0909f2a4-0115-44aa-bdfe-0f721da60fb8"
      },
      "source": [
        "game = GameEngine(setup='user')\n",
        "game.setup_game()"
      ],
      "execution_count": 17,
      "outputs": [
        {
          "output_type": "stream",
          "text": [
            "How many Players? (type 0, 1, or 2)1\n",
            "who will go first? (X, (AI), or O (Player))O\n"
          ],
          "name": "stdout"
        }
      ]
    },
    {
      "cell_type": "code",
      "metadata": {
        "colab": {
          "base_uri": "https://localhost:8080/"
        },
        "id": "QaWWXWUUSidv",
        "outputId": "c968ee57-c50d-4603-a017-f7715ff1beff"
      },
      "source": [
        "game.play_game()"
      ],
      "execution_count": 18,
      "outputs": [
        {
          "output_type": "stream",
          "text": [
            "| | | |\n",
            "| | | |\n",
            "| | | |\n",
            "\n",
            "O, what's your move?5\n",
            "| | | |\n",
            "| |O| |\n",
            "| | | |\n",
            "\n",
            "| | | |\n",
            "| |O|X|\n",
            "| | | |\n",
            "\n",
            "O, what's your move?1\n",
            "|O| | |\n",
            "| |O|X|\n",
            "| | | |\n",
            "\n",
            "|O| | |\n",
            "| |O|X|\n",
            "| |X| |\n",
            "\n",
            "O, what's your move?9\n",
            "'O' Won!\n",
            "|O| | |\n",
            "| |O|X|\n",
            "| |X|O|\n",
            "\n"
          ],
          "name": "stdout"
        },
        {
          "output_type": "execute_result",
          "data": {
            "text/plain": [
              "<__main__.GameEngine at 0x7f44835b46d0>"
            ]
          },
          "metadata": {
            "tags": []
          },
          "execution_count": 18
        }
      ]
    },
    {
      "cell_type": "markdown",
      "metadata": {
        "id": "JAZWckhxTH8V"
      },
      "source": [
        "## 2.4 Simulating Data\n",
        "\n",
        "We will now want to run our game thousands of times to collect data for building our AI agents. The following code should run without any input from the user:\n",
        "\n",
        "```\n",
        "game = GameEngine()\n",
        "game.setup_game()\n",
        "board = game.play_game()\n",
        "```"
      ]
    },
    {
      "cell_type": "code",
      "metadata": {
        "colab": {
          "base_uri": "https://localhost:8080/"
        },
        "id": "CN6RceppSjTS",
        "outputId": "616eb37c-4f58-409c-c807-810eaa501dab"
      },
      "source": [
        "game = GameEngine()\n",
        "game.setup_game()\n",
        "board = game.play_game()"
      ],
      "execution_count": 19,
      "outputs": [
        {
          "output_type": "stream",
          "text": [
            "| | | |\n",
            "| | | |\n",
            "| | | |\n",
            "\n",
            "| | | |\n",
            "| | | |\n",
            "| | |O|\n",
            "\n",
            "| | | |\n",
            "| | | |\n",
            "| | |X|\n",
            "\n",
            "| | |O|\n",
            "| | | |\n",
            "| | |X|\n",
            "\n",
            "| | |O|\n",
            "| | |X|\n",
            "| | |X|\n",
            "\n",
            "| |O|O|\n",
            "| | |X|\n",
            "| | |X|\n",
            "\n",
            "'X' Won!\n",
            "| |O|X|\n",
            "| | |X|\n",
            "| | |X|\n",
            "\n"
          ],
          "name": "stdout"
        }
      ]
    },
    {
      "cell_type": "markdown",
      "metadata": {
        "id": "fxTIvVfZrgkj"
      },
      "source": [
        "### Q9 Record 1000 Games\n",
        "\n",
        "Write a for loop that creates 1000 games and saves the game data in the following dictionary format, replacing `<THE GAME NUMBER>` with whatever index you are using in the for loop:\n",
        "\n",
        "```\n",
        "data = {}\n",
        "data['game {}'.format(<THE GAME NUMBER>)] = {'board': board.board,\n",
        "          'winner': board.winner,\n",
        "          'starting player': board.start_player}\n",
        "```"
      ]
    },
    {
      "cell_type": "code",
      "metadata": {
        "id": "dm0XhHClTqp7"
      },
      "source": [
        "# Cell for Q9\n",
        "data = {}\n",
        "for i in range(1000):\n",
        "  data['game {}'.format(i)] = {'board': board.board,\n",
        "            'winner': board.winner,\n",
        "            'starting player': board.start_player}"
      ],
      "execution_count": 20,
      "outputs": []
    },
    {
      "cell_type": "code",
      "metadata": {
        "id": "HSfS4t3RUPw9"
      },
      "source": [
        "# we can write out data if we want with something like th efollowing, \n",
        "# not important in this case bcause the loop runs quickly and we can recreat \n",
        "# the data when we need it\n",
        "import json\n",
        "with open('data.txt', 'w') as outfile:\n",
        "    json.dump(data, outfile)"
      ],
      "execution_count": 21,
      "outputs": []
    }
  ]
}