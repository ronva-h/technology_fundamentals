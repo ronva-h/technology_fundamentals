{
  "nbformat": 4,
  "nbformat_minor": 0,
  "metadata": {
    "colab": {
      "name": "SOLUTION Tech Fun C1 L3 Practice with Functions and Pandas.ipynb",
      "provenance": [],
      "collapsed_sections": [],
      "toc_visible": true,
      "authorship_tag": "ABX9TyMwoeuVdpNW5F28iRPlD3Wf",
      "include_colab_link": true
    },
    "kernelspec": {
      "name": "python3",
      "display_name": "Python 3"
    },
    "language_info": {
      "name": "python"
    }
  },
  "cells": [
    {
      "cell_type": "markdown",
      "metadata": {
        "id": "view-in-github",
        "colab_type": "text"
      },
      "source": [
        "<a href=\"https://colab.research.google.com/github/wesleybeckner/technology_fundamentals/blob/main/C1%20Fundamentals/SOLUTIONS/SOLUTION_Tech_Fun_C1_L3_Practice_with_Functions_and_Pandas.ipynb\" target=\"_parent\"><img src=\"https://colab.research.google.com/assets/colab-badge.svg\" alt=\"Open In Colab\"/></a>"
      ]
    },
    {
      "cell_type": "markdown",
      "metadata": {
        "id": "3rZ3ZWSkhxyS"
      },
      "source": [
        "# Technology Fundamentals Course 1, Lab 3: Practice with Functions and Pandas\n",
        "\n",
        "**Instructor**: Wesley Beckner\n",
        "\n",
        "**Contact**: wesleybeckner@gmail.com\n",
        "\n",
        "**Teaching Assitants** Varsha Bang, Harsha Vardhan\n",
        "\n",
        "**Contact** vbang@uw.edu, harshav@uw.edu\n",
        "\n",
        "<br>\n",
        "\n",
        "---\n",
        "\n",
        "<br>\n",
        "\n",
        "In this lab we will continue to practice writing functions as well as manipulating pandas DataFrames.\n",
        "\n",
        "<br>\n",
        "\n",
        "---\n",
        "\n",
        "\n"
      ]
    },
    {
      "cell_type": "code",
      "metadata": {
        "id": "z3x8I2RG7y7j"
      },
      "source": [
        "import pandas as pd\n",
        "import numpy as np"
      ],
      "execution_count": 38,
      "outputs": []
    },
    {
      "cell_type": "markdown",
      "metadata": {
        "id": "a0D3sEqTTRDC"
      },
      "source": [
        "# Part I"
      ]
    },
    {
      "cell_type": "markdown",
      "metadata": {
        "id": "e9MwkxIGlc0k"
      },
      "source": [
        "# L3 Q1: Basic Function Writing\n",
        "\n"
      ]
    },
    {
      "cell_type": "markdown",
      "metadata": {
        "id": "Qw7dGDLynBpZ"
      },
      "source": [
        "## Part A\n",
        "\n",
        "Write a Python function to find the Max of three numbers\n",
        "\n"
      ]
    },
    {
      "cell_type": "code",
      "metadata": {
        "id": "Vb1NyIqZmqYg",
        "colab": {
          "base_uri": "https://localhost:8080/"
        },
        "outputId": "264988e5-f891-4486-99e1-0fe91039686f"
      },
      "source": [
        "# Code Cell for L3 Q1 A\n",
        "def find(a, b, c):\n",
        "  if (a > b) & (a > c):\n",
        "    return a\n",
        "  elif (b > c) & (b > a):\n",
        "    return b\n",
        "  else:\n",
        "    return c\n",
        "\n",
        "find(10, 20, 50)"
      ],
      "execution_count": 2,
      "outputs": [
        {
          "output_type": "execute_result",
          "data": {
            "text/plain": [
              "50"
            ]
          },
          "metadata": {
            "tags": []
          },
          "execution_count": 2
        }
      ]
    },
    {
      "cell_type": "markdown",
      "metadata": {
        "id": "1WZkXH9Om75g"
      },
      "source": [
        "## Part B\n",
        "\n",
        "Write a Python function to multiply all the numbers in a list\n",
        "\n",
        "Example:\n",
        "\n",
        "```\n",
        "Sample List : (8, 2, 3, -1, 7)\n",
        "Expected Output : -336\n",
        "```"
      ]
    },
    {
      "cell_type": "code",
      "metadata": {
        "id": "DNr1iPrJnGuf",
        "colab": {
          "base_uri": "https://localhost:8080/"
        },
        "outputId": "9786c158-c482-4e34-bc8a-6697b10d01ff"
      },
      "source": [
        "# Code Cell for L3 Q1 B\n",
        "def mult(ls):\n",
        "  ans = 1\n",
        "  for i in ls:\n",
        "    ans *= i\n",
        "  return ans\n",
        "\n",
        "mult([1,2,9])"
      ],
      "execution_count": 6,
      "outputs": [
        {
          "output_type": "execute_result",
          "data": {
            "text/plain": [
              "18"
            ]
          },
          "metadata": {
            "tags": []
          },
          "execution_count": 6
        }
      ]
    },
    {
      "cell_type": "markdown",
      "metadata": {
        "id": "MdYwm8EyncmA"
      },
      "source": [
        "## Part C\n",
        "\n",
        "Write a Python program to reverse a string\n",
        "\n",
        "Example:\n",
        "\n",
        "```\n",
        "Sample String : \"1234abcd\"\n",
        "Expected Output : \"dcba4321\"\n",
        "```"
      ]
    },
    {
      "cell_type": "code",
      "metadata": {
        "id": "4Dz-euqNnfWA",
        "colab": {
          "base_uri": "https://localhost:8080/",
          "height": 35
        },
        "outputId": "f562a79f-693d-41b8-94a3-7c29b69f24fd"
      },
      "source": [
        "# Code Cell for L3 Q1 C\n",
        "a = \"1234abcd\"\n",
        "def rev(a):\n",
        "  return a[::-1]\n",
        "\n",
        "rev(a)"
      ],
      "execution_count": 7,
      "outputs": [
        {
          "output_type": "execute_result",
          "data": {
            "application/vnd.google.colaboratory.intrinsic+json": {
              "type": "string"
            },
            "text/plain": [
              "'dcba4321'"
            ]
          },
          "metadata": {
            "tags": []
          },
          "execution_count": 7
        }
      ]
    },
    {
      "cell_type": "markdown",
      "metadata": {
        "id": "Sp832EkKi67C"
      },
      "source": [
        "# L2 Q2: Finding Unique Elements\n",
        "\n",
        "Write a Python function that takes a list and returns a new list with unique elements of the first list\n",
        "\n",
        "Example:\n",
        "```\n",
        "Sample List : [1,2,3,3,3,3,4,5]\n",
        "Unique List : [1, 2, 3, 4, 5]\n",
        "```"
      ]
    },
    {
      "cell_type": "code",
      "metadata": {
        "id": "w-mykt4KhnA2",
        "colab": {
          "base_uri": "https://localhost:8080/"
        },
        "outputId": "e3a42480-6a66-48eb-9fb6-657ac4a2eec8"
      },
      "source": [
        "# Cell for L3 Q2\n",
        "ls = [1,2,3,3,3,3,4,5]\n",
        "\n",
        "def uni(ls):\n",
        "  ans = []\n",
        "  for i in ls:\n",
        "    if i not in ans:\n",
        "      ans.append(i)\n",
        "  return ans\n",
        "\n",
        "uni(ls)\n"
      ],
      "execution_count": 8,
      "outputs": [
        {
          "output_type": "execute_result",
          "data": {
            "text/plain": [
              "[1, 2, 3, 4, 5]"
            ]
          },
          "metadata": {
            "tags": []
          },
          "execution_count": 8
        }
      ]
    },
    {
      "cell_type": "markdown",
      "metadata": {
        "id": "l730VAfyQf6Q"
      },
      "source": [
        "# L3 Q3: Computing Factorials\n",
        "\n",
        "Write a Python function to calculate the factorial of a number (a non-negative integer). The function accepts the number as an argument\n",
        "\n",
        "Example: \n",
        "\n",
        "```\n",
        "Input: 4                                                       \n",
        "Output: 24\n",
        "```"
      ]
    },
    {
      "cell_type": "code",
      "metadata": {
        "id": "Yi9MqP81Qj7H",
        "colab": {
          "base_uri": "https://localhost:8080/"
        },
        "outputId": "a9720610-eb66-448b-d556-6f12ab918510"
      },
      "source": [
        "# Cell for L3 Q3\n",
        "\n",
        "num = 4\n",
        "\n",
        "def fact(num):\n",
        "  j = 1\n",
        "  for i in range(1,num+1):\n",
        "    j *= i\n",
        "  return j\n",
        "\n",
        "fact(num)"
      ],
      "execution_count": 10,
      "outputs": [
        {
          "output_type": "execute_result",
          "data": {
            "text/plain": [
              "24"
            ]
          },
          "metadata": {
            "tags": []
          },
          "execution_count": 10
        }
      ]
    },
    {
      "cell_type": "markdown",
      "metadata": {
        "id": "Gulge5B4M8W1"
      },
      "source": [
        "# Practicing our hand at functions by implementing recursion\n",
        "\n",
        "We will practice the last exercise we did yesterday, this time using what we've learned about functions to write a _recursive function_\n",
        "\n",
        "A recursive function is a function that makes a call to itself. This is particularly well suited for tasks that would otherwise require a lot of memory to hold intermediary solutions (when they are combined with a strategy called _memoization_ which we will shy away from here). The Fibonnaci sequence is a good place for such a problem. So is a factorial calculation. See here below"
      ]
    },
    {
      "cell_type": "markdown",
      "metadata": {
        "id": "8GFNlLoL-B-O"
      },
      "source": [
        "3! = 3 * 2 * 1\n",
        "4! = 4 * 3 * 2 * 1"
      ]
    },
    {
      "cell_type": "code",
      "metadata": {
        "id": "BNCkE66QNTUk"
      },
      "source": [
        "def factorial(x):\n",
        "    \"\"\"This is a recursive function\n",
        "    to find the factorial of an integer\"\"\"\n",
        "\n",
        "    if x == 1:\n",
        "        return 1\n",
        "    else:\n",
        "        # one trick to note that is common with recursive functions\n",
        "        # is that the incrementation in the key variable is done\n",
        "        # in the call to the function itself (vs a for loop)\n",
        "        return (x * factorial(x-1))"
      ],
      "execution_count": 11,
      "outputs": []
    },
    {
      "cell_type": "code",
      "metadata": {
        "colab": {
          "base_uri": "https://localhost:8080/"
        },
        "id": "9T_6iuyI-ev_",
        "outputId": "031a8240-579b-405e-ef5e-779d7afd7fbb"
      },
      "source": [
        "n = 3\n",
        "factorial(n)"
      ],
      "execution_count": 12,
      "outputs": [
        {
          "output_type": "execute_result",
          "data": {
            "text/plain": [
              "6"
            ]
          },
          "metadata": {
            "tags": []
          },
          "execution_count": 12
        }
      ]
    },
    {
      "cell_type": "markdown",
      "metadata": {
        "id": "ruEYk9SqNW88"
      },
      "source": [
        "In the above, we have on lines 5 and 6, what we call the _baseline_ solution. It is the answer to the simplest subset of the problem. When we build a recursive tree, it is useful to think of the smallest problem, and work upwards, providing this _leaf_ solution to nodes further up on the recursive tree. Like so:"
      ]
    },
    {
      "cell_type": "code",
      "metadata": {
        "id": "GfR__pA2Nm6i"
      },
      "source": [
        "# 1! = 1\n",
        "# 2! = 2 * 1!\n",
        "# 3! = 3 * 2!\n",
        "# N! = N * (N-1)! ... like ... like so"
      ],
      "execution_count": null,
      "outputs": []
    },
    {
      "cell_type": "markdown",
      "metadata": {
        "id": "i3SsxoWaOU_D"
      },
      "source": [
        "This problem is intended to be a fun way to wrap our heads around functions... don't stress. If you want to see a further breakdown of the factorial problem, check out [this link](https://www.programiz.com/python-programming/recursion)"
      ]
    },
    {
      "cell_type": "markdown",
      "metadata": {
        "id": "A0BRhEBPUnBX"
      },
      "source": [
        "# L3 Q4: Recursive Functions\n",
        "\n",
        "Using recursion, complete the Fibonacci sequence up to the 10th place using recursion and any or all of the following:\n",
        "* `if` `elif` `else`\n",
        "* `range`\n",
        "\n",
        "The Fibonacci sequence with indices:\n",
        "\n",
        "1. 0\n",
        "2. 1\n",
        "3. 1\n",
        "4. 2\n",
        "5. 3\n",
        "6. 5\n",
        "7. 8\n",
        "8. etc..\n",
        "\n",
        "Example input:\n",
        "\n",
        "`index = 10`\n",
        "\n",
        "Example output:\n",
        "```\n",
        "Index: 10\n",
        "Value: 34\n",
        "```"
      ]
    },
    {
      "cell_type": "code",
      "metadata": {
        "id": "Cq_NdBkdhvyk",
        "colab": {
          "base_uri": "https://localhost:8080/"
        },
        "outputId": "ab84eb5d-9de8-4239-b76d-7a1a4cac7242"
      },
      "source": [
        "# Cell for L2 Q3\n",
        "index = 10\n",
        "\n",
        "def fib(index):\n",
        "  if (index == 0) or (index == 1):\n",
        "    return index\n",
        "  elif (index == 2) or (index == 3): # note because of the wierd index start \n",
        "    return 1\n",
        "  else:\n",
        "    return fib(index-1) + fib(index-2)\n",
        "\n",
        "fib(10)"
      ],
      "execution_count": 36,
      "outputs": [
        {
          "output_type": "execute_result",
          "data": {
            "text/plain": [
              "34"
            ]
          },
          "metadata": {
            "tags": []
          },
          "execution_count": 36
        }
      ]
    },
    {
      "cell_type": "markdown",
      "metadata": {
        "id": "P_r5uNorTO3t"
      },
      "source": [
        "# Part II"
      ]
    },
    {
      "cell_type": "markdown",
      "metadata": {
        "id": "0PPaZvlct0fH"
      },
      "source": [
        "# L3 Q1 \n",
        "\n",
        "Convert the two series into the columns of a DataFrame"
      ]
    },
    {
      "cell_type": "code",
      "metadata": {
        "id": "9lphFb2ksnEC",
        "colab": {
          "base_uri": "https://localhost:8080/",
          "height": 860
        },
        "outputId": "2a5637da-368c-4da3-9e04-95b4024137a1"
      },
      "source": [
        "ser1 = pd.Series(list('abcedfghijklmnopqrstuvwxyz'))\n",
        "ser2 = pd.Series(np.arange(26))\n",
        "\n",
        "pd.DataFrame([ser1, ser2]).T"
      ],
      "execution_count": 39,
      "outputs": [
        {
          "output_type": "execute_result",
          "data": {
            "text/html": [
              "<div>\n",
              "<style scoped>\n",
              "    .dataframe tbody tr th:only-of-type {\n",
              "        vertical-align: middle;\n",
              "    }\n",
              "\n",
              "    .dataframe tbody tr th {\n",
              "        vertical-align: top;\n",
              "    }\n",
              "\n",
              "    .dataframe thead th {\n",
              "        text-align: right;\n",
              "    }\n",
              "</style>\n",
              "<table border=\"1\" class=\"dataframe\">\n",
              "  <thead>\n",
              "    <tr style=\"text-align: right;\">\n",
              "      <th></th>\n",
              "      <th>0</th>\n",
              "      <th>1</th>\n",
              "    </tr>\n",
              "  </thead>\n",
              "  <tbody>\n",
              "    <tr>\n",
              "      <th>0</th>\n",
              "      <td>a</td>\n",
              "      <td>0</td>\n",
              "    </tr>\n",
              "    <tr>\n",
              "      <th>1</th>\n",
              "      <td>b</td>\n",
              "      <td>1</td>\n",
              "    </tr>\n",
              "    <tr>\n",
              "      <th>2</th>\n",
              "      <td>c</td>\n",
              "      <td>2</td>\n",
              "    </tr>\n",
              "    <tr>\n",
              "      <th>3</th>\n",
              "      <td>e</td>\n",
              "      <td>3</td>\n",
              "    </tr>\n",
              "    <tr>\n",
              "      <th>4</th>\n",
              "      <td>d</td>\n",
              "      <td>4</td>\n",
              "    </tr>\n",
              "    <tr>\n",
              "      <th>5</th>\n",
              "      <td>f</td>\n",
              "      <td>5</td>\n",
              "    </tr>\n",
              "    <tr>\n",
              "      <th>6</th>\n",
              "      <td>g</td>\n",
              "      <td>6</td>\n",
              "    </tr>\n",
              "    <tr>\n",
              "      <th>7</th>\n",
              "      <td>h</td>\n",
              "      <td>7</td>\n",
              "    </tr>\n",
              "    <tr>\n",
              "      <th>8</th>\n",
              "      <td>i</td>\n",
              "      <td>8</td>\n",
              "    </tr>\n",
              "    <tr>\n",
              "      <th>9</th>\n",
              "      <td>j</td>\n",
              "      <td>9</td>\n",
              "    </tr>\n",
              "    <tr>\n",
              "      <th>10</th>\n",
              "      <td>k</td>\n",
              "      <td>10</td>\n",
              "    </tr>\n",
              "    <tr>\n",
              "      <th>11</th>\n",
              "      <td>l</td>\n",
              "      <td>11</td>\n",
              "    </tr>\n",
              "    <tr>\n",
              "      <th>12</th>\n",
              "      <td>m</td>\n",
              "      <td>12</td>\n",
              "    </tr>\n",
              "    <tr>\n",
              "      <th>13</th>\n",
              "      <td>n</td>\n",
              "      <td>13</td>\n",
              "    </tr>\n",
              "    <tr>\n",
              "      <th>14</th>\n",
              "      <td>o</td>\n",
              "      <td>14</td>\n",
              "    </tr>\n",
              "    <tr>\n",
              "      <th>15</th>\n",
              "      <td>p</td>\n",
              "      <td>15</td>\n",
              "    </tr>\n",
              "    <tr>\n",
              "      <th>16</th>\n",
              "      <td>q</td>\n",
              "      <td>16</td>\n",
              "    </tr>\n",
              "    <tr>\n",
              "      <th>17</th>\n",
              "      <td>r</td>\n",
              "      <td>17</td>\n",
              "    </tr>\n",
              "    <tr>\n",
              "      <th>18</th>\n",
              "      <td>s</td>\n",
              "      <td>18</td>\n",
              "    </tr>\n",
              "    <tr>\n",
              "      <th>19</th>\n",
              "      <td>t</td>\n",
              "      <td>19</td>\n",
              "    </tr>\n",
              "    <tr>\n",
              "      <th>20</th>\n",
              "      <td>u</td>\n",
              "      <td>20</td>\n",
              "    </tr>\n",
              "    <tr>\n",
              "      <th>21</th>\n",
              "      <td>v</td>\n",
              "      <td>21</td>\n",
              "    </tr>\n",
              "    <tr>\n",
              "      <th>22</th>\n",
              "      <td>w</td>\n",
              "      <td>22</td>\n",
              "    </tr>\n",
              "    <tr>\n",
              "      <th>23</th>\n",
              "      <td>x</td>\n",
              "      <td>23</td>\n",
              "    </tr>\n",
              "    <tr>\n",
              "      <th>24</th>\n",
              "      <td>y</td>\n",
              "      <td>24</td>\n",
              "    </tr>\n",
              "    <tr>\n",
              "      <th>25</th>\n",
              "      <td>z</td>\n",
              "      <td>25</td>\n",
              "    </tr>\n",
              "  </tbody>\n",
              "</table>\n",
              "</div>"
            ],
            "text/plain": [
              "    0   1\n",
              "0   a   0\n",
              "1   b   1\n",
              "2   c   2\n",
              "3   e   3\n",
              "4   d   4\n",
              "5   f   5\n",
              "6   g   6\n",
              "7   h   7\n",
              "8   i   8\n",
              "9   j   9\n",
              "10  k  10\n",
              "11  l  11\n",
              "12  m  12\n",
              "13  n  13\n",
              "14  o  14\n",
              "15  p  15\n",
              "16  q  16\n",
              "17  r  17\n",
              "18  s  18\n",
              "19  t  19\n",
              "20  u  20\n",
              "21  v  21\n",
              "22  w  22\n",
              "23  x  23\n",
              "24  y  24\n",
              "25  z  25"
            ]
          },
          "metadata": {
            "tags": []
          },
          "execution_count": 39
        }
      ]
    },
    {
      "cell_type": "markdown",
      "metadata": {
        "id": "0gi9EjLNuLGK"
      },
      "source": [
        "# L3 Q2\n",
        "\n",
        "Conver the series into a DataFrame with 7 rows and 5 columns"
      ]
    },
    {
      "cell_type": "code",
      "metadata": {
        "id": "EXkjgWoOt395",
        "colab": {
          "base_uri": "https://localhost:8080/",
          "height": 267
        },
        "outputId": "d081fdf9-b39e-44e0-f332-6af692c1b9aa"
      },
      "source": [
        "ser = pd.Series(np.random.randint(1, 10, 35))\n",
        "pd.DataFrame(ser.values.reshape(7, 5))"
      ],
      "execution_count": 42,
      "outputs": [
        {
          "output_type": "execute_result",
          "data": {
            "text/html": [
              "<div>\n",
              "<style scoped>\n",
              "    .dataframe tbody tr th:only-of-type {\n",
              "        vertical-align: middle;\n",
              "    }\n",
              "\n",
              "    .dataframe tbody tr th {\n",
              "        vertical-align: top;\n",
              "    }\n",
              "\n",
              "    .dataframe thead th {\n",
              "        text-align: right;\n",
              "    }\n",
              "</style>\n",
              "<table border=\"1\" class=\"dataframe\">\n",
              "  <thead>\n",
              "    <tr style=\"text-align: right;\">\n",
              "      <th></th>\n",
              "      <th>0</th>\n",
              "      <th>1</th>\n",
              "      <th>2</th>\n",
              "      <th>3</th>\n",
              "      <th>4</th>\n",
              "    </tr>\n",
              "  </thead>\n",
              "  <tbody>\n",
              "    <tr>\n",
              "      <th>0</th>\n",
              "      <td>9</td>\n",
              "      <td>5</td>\n",
              "      <td>5</td>\n",
              "      <td>3</td>\n",
              "      <td>9</td>\n",
              "    </tr>\n",
              "    <tr>\n",
              "      <th>1</th>\n",
              "      <td>9</td>\n",
              "      <td>5</td>\n",
              "      <td>5</td>\n",
              "      <td>7</td>\n",
              "      <td>6</td>\n",
              "    </tr>\n",
              "    <tr>\n",
              "      <th>2</th>\n",
              "      <td>5</td>\n",
              "      <td>4</td>\n",
              "      <td>5</td>\n",
              "      <td>6</td>\n",
              "      <td>1</td>\n",
              "    </tr>\n",
              "    <tr>\n",
              "      <th>3</th>\n",
              "      <td>6</td>\n",
              "      <td>4</td>\n",
              "      <td>1</td>\n",
              "      <td>1</td>\n",
              "      <td>9</td>\n",
              "    </tr>\n",
              "    <tr>\n",
              "      <th>4</th>\n",
              "      <td>2</td>\n",
              "      <td>2</td>\n",
              "      <td>8</td>\n",
              "      <td>1</td>\n",
              "      <td>4</td>\n",
              "    </tr>\n",
              "    <tr>\n",
              "      <th>5</th>\n",
              "      <td>1</td>\n",
              "      <td>5</td>\n",
              "      <td>4</td>\n",
              "      <td>5</td>\n",
              "      <td>1</td>\n",
              "    </tr>\n",
              "    <tr>\n",
              "      <th>6</th>\n",
              "      <td>8</td>\n",
              "      <td>3</td>\n",
              "      <td>9</td>\n",
              "      <td>1</td>\n",
              "      <td>8</td>\n",
              "    </tr>\n",
              "  </tbody>\n",
              "</table>\n",
              "</div>"
            ],
            "text/plain": [
              "   0  1  2  3  4\n",
              "0  9  5  5  3  9\n",
              "1  9  5  5  7  6\n",
              "2  5  4  5  6  1\n",
              "3  6  4  1  1  9\n",
              "4  2  2  8  1  4\n",
              "5  1  5  4  5  1\n",
              "6  8  3  9  1  8"
            ]
          },
          "metadata": {
            "tags": []
          },
          "execution_count": 42
        }
      ]
    },
    {
      "cell_type": "markdown",
      "metadata": {
        "id": "HK6nG-UPuvkT"
      },
      "source": [
        "# L3 Q3\n",
        "\n",
        "Compute the difference of differences between consecutive numbers in a series using `ser.diff()`\n"
      ]
    },
    {
      "cell_type": "code",
      "metadata": {
        "id": "kAh1JuzOu1A6",
        "colab": {
          "base_uri": "https://localhost:8080/"
        },
        "outputId": "126b3d7c-1b01-4ed7-96c9-70d2ce6edb9f"
      },
      "source": [
        "ser = pd.Series([1, 3, 6, 10, 15, 21, 27, 35])\n",
        "ser.diff().diff()"
      ],
      "execution_count": 44,
      "outputs": [
        {
          "output_type": "execute_result",
          "data": {
            "text/plain": [
              "0    NaN\n",
              "1    NaN\n",
              "2    1.0\n",
              "3    1.0\n",
              "4    1.0\n",
              "5    1.0\n",
              "6    0.0\n",
              "7    2.0\n",
              "dtype: float64"
            ]
          },
          "metadata": {
            "tags": []
          },
          "execution_count": 44
        }
      ]
    },
    {
      "cell_type": "markdown",
      "metadata": {
        "id": "08Phen9ru9fb"
      },
      "source": [
        "# L3 Q4 \n",
        "\n",
        "Convert a series of dates to `datetime` format using `pd.to_datetime()`"
      ]
    },
    {
      "cell_type": "code",
      "metadata": {
        "id": "kz7TvktXu1ai",
        "colab": {
          "base_uri": "https://localhost:8080/"
        },
        "outputId": "042bbb48-6053-4210-8f39-9625bb736da4"
      },
      "source": [
        "ser = pd.Series(['01 Jan 2010', '02-02-2011', '20120303', '2013/04/04', '2014-05-05', '2015-06-06T12:20'])\n",
        "pd.to_datetime(ser)"
      ],
      "execution_count": 45,
      "outputs": [
        {
          "output_type": "execute_result",
          "data": {
            "text/plain": [
              "0   2010-01-01 00:00:00\n",
              "1   2011-02-02 00:00:00\n",
              "2   2012-03-03 00:00:00\n",
              "3   2013-04-04 00:00:00\n",
              "4   2014-05-05 00:00:00\n",
              "5   2015-06-06 12:20:00\n",
              "dtype: datetime64[ns]"
            ]
          },
          "metadata": {
            "tags": []
          },
          "execution_count": 45
        }
      ]
    },
    {
      "cell_type": "markdown",
      "metadata": {
        "id": "Yt6pOFN818x_"
      },
      "source": [
        "# L3 Q5\n",
        "\n",
        "Compute the mean of weights grouped by fruit\n"
      ]
    },
    {
      "cell_type": "code",
      "metadata": {
        "colab": {
          "base_uri": "https://localhost:8080/"
        },
        "id": "KFdCPjZWvEy_",
        "outputId": "8d6c70e8-54a3-4aa6-cab8-e97e5e83d0c7"
      },
      "source": [
        "fruit = pd.Series(np.random.choice(['apple', 'banana', 'carrot'], 10))\n",
        "weights = pd.Series(np.linspace(1, 10, 10))\n",
        "print(weights.tolist())\n",
        "print(fruit.tolist())\n",
        "\n",
        "df = pd.DataFrame([fruit,weights]).T\n",
        "df.columns = ['fruit', 'weight']\n",
        "df['weight'] = df['weight'].astype(int)\n",
        "df.groupby('fruit')['weight'].mean()"
      ],
      "execution_count": 51,
      "outputs": [
        {
          "output_type": "stream",
          "text": [
            "[1.0, 2.0, 3.0, 4.0, 5.0, 6.0, 7.0, 8.0, 9.0, 10.0]\n",
            "['apple', 'carrot', 'carrot', 'carrot', 'banana', 'banana', 'carrot', 'carrot', 'carrot', 'carrot']\n"
          ],
          "name": "stdout"
        },
        {
          "output_type": "execute_result",
          "data": {
            "text/plain": [
              "fruit\n",
              "apple     1.000000\n",
              "banana    5.500000\n",
              "carrot    6.142857\n",
              "Name: weight, dtype: float64"
            ]
          },
          "metadata": {
            "tags": []
          },
          "execution_count": 51
        }
      ]
    },
    {
      "cell_type": "markdown",
      "metadata": {
        "id": "M8Igu4sK2L1y"
      },
      "source": [
        "# L3 Q6\n",
        "\n",
        "Compute the euclidian distance between vectors p and q (pythagorean theorem)"
      ]
    },
    {
      "cell_type": "code",
      "metadata": {
        "id": "1SWVo8vn2Ay9",
        "colab": {
          "base_uri": "https://localhost:8080/"
        },
        "outputId": "39511d30-2916-49f4-face-84f83a0090cd"
      },
      "source": [
        "p = pd.Series([1, 2, 3, 4, 5, 6, 7, 8, 9, 10])\n",
        "q = pd.Series([10, 9, 8, 7, 6, 5, 4, 3, 2, 1])\n",
        "\n",
        "sum((p-q)**2)**.5"
      ],
      "execution_count": 54,
      "outputs": [
        {
          "output_type": "execute_result",
          "data": {
            "text/plain": [
              "18.16590212458495"
            ]
          },
          "metadata": {
            "tags": []
          },
          "execution_count": 54
        }
      ]
    },
    {
      "cell_type": "markdown",
      "metadata": {
        "id": "HWuS2x092yxA"
      },
      "source": [
        "# L3 Q7\n",
        "\n",
        "Fill in missing values for dates with the previous dates' value using `ser.bfill()` or `ser.ffill()`"
      ]
    },
    {
      "cell_type": "code",
      "metadata": {
        "colab": {
          "base_uri": "https://localhost:8080/"
        },
        "id": "HO0gcmvJ2ObL",
        "outputId": "cb8c3645-b7f1-4b09-8245-522a5b41a2a8"
      },
      "source": [
        "ser = pd.Series([1,10,3,np.nan], index=pd.to_datetime(['2000-01-01', '2000-01-03', '2000-01-06', '2000-01-08']))\n",
        "print(ser)\n",
        "ser.ffill()"
      ],
      "execution_count": 56,
      "outputs": [
        {
          "output_type": "stream",
          "text": [
            "2000-01-01     1.0\n",
            "2000-01-03    10.0\n",
            "2000-01-06     3.0\n",
            "2000-01-08     NaN\n",
            "dtype: float64\n"
          ],
          "name": "stdout"
        },
        {
          "output_type": "execute_result",
          "data": {
            "text/plain": [
              "2000-01-01     1.0\n",
              "2000-01-03    10.0\n",
              "2000-01-06     3.0\n",
              "2000-01-08     3.0\n",
              "dtype: float64"
            ]
          },
          "metadata": {
            "tags": []
          },
          "execution_count": 56
        }
      ]
    },
    {
      "cell_type": "markdown",
      "metadata": {
        "id": "x1H949kQ3dvJ"
      },
      "source": [
        "# L3 Q8\n",
        "\n",
        "Check if there are missing values in a dataframe using `.isnull()`, `.values`, and `.any()`"
      ]
    },
    {
      "cell_type": "code",
      "metadata": {
        "id": "N12aXr6v24cu",
        "colab": {
          "base_uri": "https://localhost:8080/"
        },
        "outputId": "878b560b-024c-4cb6-ee16-7ae91b175710"
      },
      "source": [
        "df = pd.read_csv('https://raw.githubusercontent.com/selva86/datasets/master/Cars93_miss.csv')\n",
        "df.isnull().values.any()"
      ],
      "execution_count": 60,
      "outputs": [
        {
          "output_type": "execute_result",
          "data": {
            "text/plain": [
              "True"
            ]
          },
          "metadata": {
            "tags": []
          },
          "execution_count": 60
        }
      ]
    },
    {
      "cell_type": "markdown",
      "metadata": {
        "id": "EboeGY0p4mb7"
      },
      "source": [
        "# L3 Q9\n",
        "\n",
        "Grab the first column and return it as a DataFrame rather than as a series"
      ]
    },
    {
      "cell_type": "code",
      "metadata": {
        "id": "LMpa73403jce",
        "colab": {
          "base_uri": "https://localhost:8080/",
          "height": 174
        },
        "outputId": "f7d180ba-7aa9-4217-fa95-75e1c40be4fe"
      },
      "source": [
        "df = pd.DataFrame(np.arange(20).reshape(-1, 5), columns=list('abcde'))\n",
        "df[['a']]"
      ],
      "execution_count": 62,
      "outputs": [
        {
          "output_type": "execute_result",
          "data": {
            "text/html": [
              "<div>\n",
              "<style scoped>\n",
              "    .dataframe tbody tr th:only-of-type {\n",
              "        vertical-align: middle;\n",
              "    }\n",
              "\n",
              "    .dataframe tbody tr th {\n",
              "        vertical-align: top;\n",
              "    }\n",
              "\n",
              "    .dataframe thead th {\n",
              "        text-align: right;\n",
              "    }\n",
              "</style>\n",
              "<table border=\"1\" class=\"dataframe\">\n",
              "  <thead>\n",
              "    <tr style=\"text-align: right;\">\n",
              "      <th></th>\n",
              "      <th>a</th>\n",
              "    </tr>\n",
              "  </thead>\n",
              "  <tbody>\n",
              "    <tr>\n",
              "      <th>0</th>\n",
              "      <td>0</td>\n",
              "    </tr>\n",
              "    <tr>\n",
              "      <th>1</th>\n",
              "      <td>5</td>\n",
              "    </tr>\n",
              "    <tr>\n",
              "      <th>2</th>\n",
              "      <td>10</td>\n",
              "    </tr>\n",
              "    <tr>\n",
              "      <th>3</th>\n",
              "      <td>15</td>\n",
              "    </tr>\n",
              "  </tbody>\n",
              "</table>\n",
              "</div>"
            ],
            "text/plain": [
              "    a\n",
              "0   0\n",
              "1   5\n",
              "2  10\n",
              "3  15"
            ]
          },
          "metadata": {
            "tags": []
          },
          "execution_count": 62
        }
      ]
    },
    {
      "cell_type": "markdown",
      "metadata": {
        "id": "EdgvQfqq4vux"
      },
      "source": [
        "# L3 Q10\n",
        "\n",
        "In `df`, interchange columns 'a' and 'c'."
      ]
    },
    {
      "cell_type": "code",
      "metadata": {
        "id": "d5Oz2gzL4pz2",
        "colab": {
          "base_uri": "https://localhost:8080/",
          "height": 174
        },
        "outputId": "db0e0077-8375-4361-a93b-730220aa13c8"
      },
      "source": [
        "df = pd.DataFrame(np.arange(20).reshape(-1, 5), columns=list('abcde'))\n",
        "df[['c','b','a','d','e']]"
      ],
      "execution_count": 64,
      "outputs": [
        {
          "output_type": "execute_result",
          "data": {
            "text/html": [
              "<div>\n",
              "<style scoped>\n",
              "    .dataframe tbody tr th:only-of-type {\n",
              "        vertical-align: middle;\n",
              "    }\n",
              "\n",
              "    .dataframe tbody tr th {\n",
              "        vertical-align: top;\n",
              "    }\n",
              "\n",
              "    .dataframe thead th {\n",
              "        text-align: right;\n",
              "    }\n",
              "</style>\n",
              "<table border=\"1\" class=\"dataframe\">\n",
              "  <thead>\n",
              "    <tr style=\"text-align: right;\">\n",
              "      <th></th>\n",
              "      <th>c</th>\n",
              "      <th>b</th>\n",
              "      <th>a</th>\n",
              "      <th>d</th>\n",
              "      <th>e</th>\n",
              "    </tr>\n",
              "  </thead>\n",
              "  <tbody>\n",
              "    <tr>\n",
              "      <th>0</th>\n",
              "      <td>2</td>\n",
              "      <td>1</td>\n",
              "      <td>0</td>\n",
              "      <td>3</td>\n",
              "      <td>4</td>\n",
              "    </tr>\n",
              "    <tr>\n",
              "      <th>1</th>\n",
              "      <td>7</td>\n",
              "      <td>6</td>\n",
              "      <td>5</td>\n",
              "      <td>8</td>\n",
              "      <td>9</td>\n",
              "    </tr>\n",
              "    <tr>\n",
              "      <th>2</th>\n",
              "      <td>12</td>\n",
              "      <td>11</td>\n",
              "      <td>10</td>\n",
              "      <td>13</td>\n",
              "      <td>14</td>\n",
              "    </tr>\n",
              "    <tr>\n",
              "      <th>3</th>\n",
              "      <td>17</td>\n",
              "      <td>16</td>\n",
              "      <td>15</td>\n",
              "      <td>18</td>\n",
              "      <td>19</td>\n",
              "    </tr>\n",
              "  </tbody>\n",
              "</table>\n",
              "</div>"
            ],
            "text/plain": [
              "    c   b   a   d   e\n",
              "0   2   1   0   3   4\n",
              "1   7   6   5   8   9\n",
              "2  12  11  10  13  14\n",
              "3  17  16  15  18  19"
            ]
          },
          "metadata": {
            "tags": []
          },
          "execution_count": 64
        }
      ]
    }
  ]
}