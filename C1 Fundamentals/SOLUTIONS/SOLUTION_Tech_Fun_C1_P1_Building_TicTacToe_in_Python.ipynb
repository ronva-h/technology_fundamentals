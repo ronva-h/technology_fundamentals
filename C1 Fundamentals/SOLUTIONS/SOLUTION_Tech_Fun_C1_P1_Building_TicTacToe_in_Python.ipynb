{
  "nbformat": 4,
  "nbformat_minor": 0,
  "metadata": {
    "colab": {
      "name": "SOLUTION Tech Fun C1 P1 Building TicTacToe in Python",
      "provenance": [],
      "collapsed_sections": [],
      "toc_visible": true,
      "include_colab_link": true
    },
    "kernelspec": {
      "display_name": "Python (tunnel)",
      "language": "python",
      "name": "python3"
    },
    "language_info": {
      "codemirror_mode": {
        "name": "ipython",
        "version": 3
      },
      "file_extension": ".py",
      "mimetype": "text/x-python",
      "name": "python",
      "nbconvert_exporter": "python",
      "pygments_lexer": "ipython3",
      "version": "3.7.7"
    }
  },
  "cells": [
    {
      "cell_type": "markdown",
      "metadata": {
        "id": "view-in-github",
        "colab_type": "text"
      },
      "source": [
        "<a href=\"https://colab.research.google.com/github/wesleybeckner/technology_fundamentals/blob/main/C1%20Fundamentals/SOLUTIONS/SOLUTION_Tech_Fun_C1_P1_Building_TicTacToe_in_Python.ipynb\" target=\"_parent\"><img src=\"https://colab.research.google.com/assets/colab-badge.svg\" alt=\"Open In Colab\"/></a>"
      ]
    },
    {
      "cell_type": "markdown",
      "metadata": {
        "id": "vhe1yX4AMckE"
      },
      "source": [
        "# Technology Fundamentals Course 1, Project Part 1: Building the Game Tic-Tac-Toe\n",
        "\n",
        "**Instructor**: Wesley Beckner\n",
        "\n",
        "**Contact**: wesleybeckner@gmail.com\n",
        "\n",
        "\n",
        "**Teaching Assitants** Varsha Bang, Harsha Vardhan\n",
        "\n",
        "**Contact** vbang@uw.edu, harshav@uw.edu\n",
        "\n",
        "<br>\n",
        "\n",
        "---\n",
        "\n",
        "<br>\n",
        "\n",
        "In this project notebook we'll be laying the foundations of our Tic Tac Toe game!\n",
        "\n",
        "In order to complete this notebook you will have had to have covered session 1-3 where we discuss python, conditionals and flow, and functions.\n",
        "\n",
        "<br>\n",
        "\n",
        "---"
      ]
    },
    {
      "cell_type": "markdown",
      "metadata": {
        "id": "wlj85iTSIwji"
      },
      "source": [
        "<a name='x.1'></a>\n",
        "\n",
        "## 1.2 The Game\n",
        "\n",
        "[back to top](#top)"
      ]
    },
    {
      "cell_type": "markdown",
      "metadata": {
        "id": "WLzT0luKCzaD"
      },
      "source": [
        "### 1.2.1 Defining and Visualizing the Board"
      ]
    },
    {
      "cell_type": "markdown",
      "metadata": {
        "id": "uEEDi16W8ouB"
      },
      "source": [
        "#### 1.2.1.1 Q1\n",
        "\n",
        "First we need to define our board object (object in the loose sense for now!). This will hold the _memory_ of where our current player pieces are.\n",
        "\n",
        "Say we eventually want to place in every board position a string variable, `'X'` or `'O'`. How would we represent the board? Also, how do we represent it in the least complex space possible, i.e. a list?\n",
        "\n",
        "Example output:\n",
        "```\n",
        "[' ', ' ', ' ', ' ', ' ', ' ', ' ', ' ', ' ']\n",
        "```\n"
      ]
    },
    {
      "cell_type": "code",
      "metadata": {
        "id": "8TbcOhIN8CRu",
        "colab": {
          "base_uri": "https://localhost:8080/"
        },
        "outputId": "32762081-e94d-4e3b-c5dd-ee76f99097af"
      },
      "source": [
        "# cell for Q1\n",
        "board = [' ', ' ', ' ', ' ', ' ', ' ', ' ', ' ', ' ']\n",
        "board"
      ],
      "execution_count": 2,
      "outputs": [
        {
          "output_type": "execute_result",
          "data": {
            "text/plain": [
              "[' ', ' ', ' ', ' ', ' ', ' ', ' ', ' ', ' ']"
            ]
          },
          "metadata": {
            "tags": []
          },
          "execution_count": 2
        }
      ]
    },
    {
      "cell_type": "markdown",
      "metadata": {
        "id": "aagYqpun85w3"
      },
      "source": [
        "#### 1.2.1.2 Q2\n",
        "\n",
        "We would like to be able to visualize where our players have executed onto the board. How can we use what we've learned about print functions to visualize and empty board?\n",
        "\n",
        "* hint: use `|`, `\\n`, `.format()`, and unpack our board elements using an asteric (`*board`) with the print function.\n",
        "\n",
        "Example output:\n",
        "\n",
        "```\n",
        "| | | |\n",
        "| | | |\n",
        "| | | |\n",
        "```"
      ]
    },
    {
      "cell_type": "code",
      "metadata": {
        "colab": {
          "base_uri": "https://localhost:8080/"
        },
        "id": "N4oT9Dsv8MA0",
        "outputId": "26dceea7-c0f1-45c5-f029-bf03695e36e6"
      },
      "source": [
        "# Cell for Q2\n",
        "print(\"|{}|{}|{}|\\n|{}|{}|{}|\\n|{}|{}|{}|\".format(*board))"
      ],
      "execution_count": 3,
      "outputs": [
        {
          "output_type": "stream",
          "text": [
            "| | | |\n",
            "| | | |\n",
            "| | | |\n"
          ],
          "name": "stdout"
        }
      ]
    },
    {
      "cell_type": "markdown",
      "metadata": {
        "id": "UWIj3iU_9AhK"
      },
      "source": [
        "#### 1.2.1.3 Q3\n",
        "\n",
        "After you've created your print function that takes the board as an input, test it out by filling your board with some `X's` and `O's`\n",
        "\n",
        "Example output:\n",
        "\n",
        "```\n",
        "|X| | |\n",
        "| |O| |\n",
        "| | | |\n",
        "```"
      ]
    },
    {
      "cell_type": "code",
      "metadata": {
        "colab": {
          "base_uri": "https://localhost:8080/"
        },
        "id": "uREQiGeQ9IT4",
        "outputId": "7f888682-ca8c-4b6e-fd52-0f968558732f"
      },
      "source": [
        "# Cell for Q3\n",
        "board = ['X', ' ', ' ', ' ', 'O', ' ', ' ', ' ', ' ']\n",
        "\n",
        "print(\"|{}|{}|{}|\\n|{}|{}|{}|\\n|{}|{}|{}|\".format(*board))"
      ],
      "execution_count": 4,
      "outputs": [
        {
          "output_type": "stream",
          "text": [
            "|X| | |\n",
            "| |O| |\n",
            "| | | |\n"
          ],
          "name": "stdout"
        }
      ]
    },
    {
      "cell_type": "markdown",
      "metadata": {
        "id": "nsyx15tI9J_V"
      },
      "source": [
        "#### 1.2.1.4 Q4\n",
        "\n",
        "Now, if that looks good, wrap the print function in a function called `visualize_board` that take the variable `board` as a parameter.\n",
        "\n",
        "Example:\n",
        "```\n",
        "visualize_board(board)\n",
        "|X| | |\n",
        "| |O| |\n",
        "| | | |\n",
        "```"
      ]
    },
    {
      "cell_type": "code",
      "metadata": {
        "id": "UXYTpoyC8kZC"
      },
      "source": [
        "# Cell for Q4\n",
        "def visualize_board(board):\n",
        "  print(\"|{}|{}|{}|\\n|{}|{}|{}|\\n|{}|{}|{}|\".format(*board))"
      ],
      "execution_count": 5,
      "outputs": []
    },
    {
      "cell_type": "code",
      "metadata": {
        "colab": {
          "base_uri": "https://localhost:8080/"
        },
        "id": "H4xaruVk9Q-f",
        "outputId": "91769ca2-5c23-4524-ebf8-918a4568c6da"
      },
      "source": [
        "visualize_board(board)"
      ],
      "execution_count": 6,
      "outputs": [
        {
          "output_type": "stream",
          "text": [
            "|X| | |\n",
            "| |O| |\n",
            "| | | |\n"
          ],
          "name": "stdout"
        }
      ]
    },
    {
      "cell_type": "markdown",
      "metadata": {
        "id": "7SbhroD8-rJN"
      },
      "source": [
        "#### 1.2.1.5 Q5\n",
        "\n",
        "It may be more useful to organize our board into a dictionary. Recreate your board variable now using 1-9 as the keys and empty strings `' '` as the values. What do you now need to feed into your function `visualize_board` for it to output the same result?\n",
        "\n",
        "* hint: think of an attribute of the dictionary you just created."
      ]
    },
    {
      "cell_type": "code",
      "metadata": {
        "id": "vW8pTDMoJaOB"
      },
      "source": [
        "# Cell for Q5\n",
        "board = {1: ' ',\n",
        "         2: ' ',\n",
        "         3: ' ',\n",
        "         4: ' ',\n",
        "         5: ' ',\n",
        "         6: ' ',\n",
        "         7: ' ',\n",
        "         8: ' ',\n",
        "         9: ' '}"
      ],
      "execution_count": 7,
      "outputs": []
    },
    {
      "cell_type": "code",
      "metadata": {
        "id": "Nk6xgPSm9lSW",
        "colab": {
          "base_uri": "https://localhost:8080/"
        },
        "outputId": "5c395144-0b6b-4305-8b30-7734d63b505b"
      },
      "source": [
        "# Cell for Q5\n",
        "board = {1: ' ',\n",
        "         2: ' ',\n",
        "         3: ' ',\n",
        "         4: ' ',\n",
        "         5: ' ',\n",
        "         6: ' ',\n",
        "         7: ' ',\n",
        "         8: ' ',\n",
        "         9: ' '}\n",
        "\n",
        "visualize_board(board.values())"
      ],
      "execution_count": 8,
      "outputs": [
        {
          "output_type": "stream",
          "text": [
            "| | | |\n",
            "| | | |\n",
            "| | | |\n"
          ],
          "name": "stdout"
        }
      ]
    },
    {
      "cell_type": "markdown",
      "metadata": {
        "id": "xiSBPcCTL1oq"
      },
      "source": [
        "#### 1.2.1.6 Q6\n",
        "\n",
        "Lastly, write a function called `init_board` that takes no parameters and returns the empty board dictionary"
      ]
    },
    {
      "cell_type": "code",
      "metadata": {
        "id": "Zc_nQzLkC7Nl"
      },
      "source": [
        "# Cell for Q6\n",
        "def init_board():\n",
        "  return {1: ' ',\n",
        "         2: ' ',\n",
        "         3: ' ',\n",
        "         4: ' ',\n",
        "         5: ' ',\n",
        "         6: ' ',\n",
        "         7: ' ',\n",
        "         8: ' ',\n",
        "         9: ' '}"
      ],
      "execution_count": 9,
      "outputs": []
    },
    {
      "cell_type": "code",
      "metadata": {
        "colab": {
          "base_uri": "https://localhost:8080/"
        },
        "id": "8ti7ZOIlDUST",
        "outputId": "649a06da-8fd6-47ec-87a6-0f227d1357aa"
      },
      "source": [
        "init_board()"
      ],
      "execution_count": 10,
      "outputs": [
        {
          "output_type": "execute_result",
          "data": {
            "text/plain": [
              "{1: ' ', 2: ' ', 3: ' ', 4: ' ', 5: ' ', 6: ' ', 7: ' ', 8: ' ', 9: ' '}"
            ]
          },
          "metadata": {
            "tags": []
          },
          "execution_count": 10
        }
      ]
    },
    {
      "cell_type": "markdown",
      "metadata": {
        "id": "d_E8CAmd-t3_"
      },
      "source": [
        "### 1.2.2 Checking for a Winner"
      ]
    },
    {
      "cell_type": "markdown",
      "metadata": {
        "id": "AlsBS5p7MREs"
      },
      "source": [
        "#### 1.2.2.1 Q1\n",
        "\n",
        "We will need a way to check if either player has won the game. Write down all the winning patterns using our board representation where places are numbered 1-9. Store these patterns in a list of lists called `win_patterns`\n",
        "\n",
        "* hint: You should identify 8 winning patterns"
      ]
    },
    {
      "cell_type": "code",
      "metadata": {
        "id": "LaG0lNDQ9sbT"
      },
      "source": [
        "# Cell for Q1\n",
        "win_patterns = [[1, 2, 3],\n",
        "                [4, 5, 6],\n",
        "                [7, 8, 9],\n",
        "                [1, 4, 7],\n",
        "                [2, 5, 8],\n",
        "                [3, 6, 9],\n",
        "                [1, 5, 9],\n",
        "                [3, 5, 7]]"
      ],
      "execution_count": 11,
      "outputs": []
    },
    {
      "cell_type": "markdown",
      "metadata": {
        "id": "6yfV0WP5_KYO"
      },
      "source": [
        "#### 1.2.2.2 Q2\n",
        "\n",
        "Next, we will need to write a function that checks if there is a winning pattern on our board (i.e. all X's or all O's are in the indicated places on the board. But let's build the conditionals and logic methodically and not just jump into writing a for loop!\n",
        "\n",
        "First, access the first element of `win_patterns` and set it equal to a variable called `pattern`\n",
        "\n",
        "Example output:\n",
        "```\n",
        "[1, 2, 3]\n",
        "```"
      ]
    },
    {
      "cell_type": "code",
      "metadata": {
        "id": "r0wrRUuT-4ae"
      },
      "source": [
        "# Cell for Q2\n",
        "pattern = win_patterns[0]"
      ],
      "execution_count": 12,
      "outputs": []
    },
    {
      "cell_type": "markdown",
      "metadata": {
        "id": "TxiSfu6yAPqn"
      },
      "source": [
        "#### 1.2.2.3 Q3\n",
        "\n",
        "Use the board dictionary to get the board values at the positions stored in `pattern`\n",
        "\n",
        "Example Output:\n",
        "```\n",
        "['X', ' ', ' ']\n",
        "```"
      ]
    },
    {
      "cell_type": "code",
      "metadata": {
        "colab": {
          "base_uri": "https://localhost:8080/"
        },
        "id": "SvoBw4dI_kFA",
        "outputId": "19506596-5ddf-449b-860b-2ce56c90e62a"
      },
      "source": [
        "# Cell for Q3\n",
        "[board[i] for i in pattern]"
      ],
      "execution_count": 13,
      "outputs": [
        {
          "output_type": "execute_result",
          "data": {
            "text/plain": [
              "[' ', ' ', ' ']"
            ]
          },
          "metadata": {
            "tags": []
          },
          "execution_count": 13
        }
      ]
    },
    {
      "cell_type": "markdown",
      "metadata": {
        "id": "oyZMnigyAVtG"
      },
      "source": [
        "#### 1.2.2.4 Q4\n",
        "\n",
        "Now check for whether they contain 3 X's or 3 O's. Fill those spaces with all 'X's or all 'O's to check that your conditional is working properly. Your output should be a `boolean`: `True` or `False`"
      ]
    },
    {
      "cell_type": "code",
      "metadata": {
        "colab": {
          "base_uri": "https://localhost:8080/"
        },
        "id": "FPqk7w0oAVBJ",
        "outputId": "74ed1668-45f4-427d-fd5b-82c433d1908b"
      },
      "source": [
        "# Cell for Q4\n",
        "board = init_board()\n",
        "board[1] = 'O'\n",
        "board[2] = 'O'\n",
        "board[3] = 'O'\n",
        "check = [board[i] for i in pattern]\n",
        "if check == ['X', 'X', 'X']:\n",
        "  print(True)\n",
        "elif check == ['O', 'O', 'O']:\n",
        "  print(True)"
      ],
      "execution_count": 14,
      "outputs": [
        {
          "output_type": "stream",
          "text": [
            "True\n"
          ],
          "name": "stdout"
        }
      ]
    },
    {
      "cell_type": "markdown",
      "metadata": {
        "id": "TkKNbSHcA0jY"
      },
      "source": [
        "#### 1.2.2.5 Q5\n",
        "\n",
        "Now we're ready to wrap this in a for loop. Loop through every `pattern` in `win_patterns` and evaluate with your conditional. If 'X' wins then print out `'X' Won!` if 'O' wins then print out `'O' Won!`\n",
        "\n",
        "Example output:\n",
        "```\n",
        "'O' Won!\n",
        "```"
      ]
    },
    {
      "cell_type": "code",
      "metadata": {
        "colab": {
          "base_uri": "https://localhost:8080/"
        },
        "id": "IFC1xJF4A27w",
        "outputId": "cf67a353-dc8a-4509-9458-52f835cd6e5c"
      },
      "source": [
        "# Cell for Q5\n",
        "for pattern in win_patterns:\n",
        "  check = [board[i] for i in pattern]\n",
        "  if check == ['X', 'X', 'X']:\n",
        "    print('X Won!')\n",
        "  elif check == ['O', 'O', 'O']:\n",
        "    print('O Won!')"
      ],
      "execution_count": 16,
      "outputs": [
        {
          "output_type": "stream",
          "text": [
            "O Won!\n"
          ],
          "name": "stdout"
        }
      ]
    },
    {
      "cell_type": "markdown",
      "metadata": {
        "id": "JMaUUm_NBJHN"
      },
      "source": [
        "#### 1.2.2.6 Q6\n",
        "\n",
        "Once we've detected a winner, there's no need to continue the for-loop. Put breaks in your loop so that it exits after detecting a winner"
      ]
    },
    {
      "cell_type": "code",
      "metadata": {
        "colab": {
          "base_uri": "https://localhost:8080/"
        },
        "id": "y4S9h8tQBAnq",
        "outputId": "88b54985-8877-4ae1-ff47-7417e45d87f2"
      },
      "source": [
        "# Cell for Q6\n",
        "for pattern in win_patterns:\n",
        "  check = [board[i] for i in pattern]\n",
        "  if check == ['X', 'X', 'X']:\n",
        "    print('X Won!')\n",
        "    break\n",
        "  elif check == ['O', 'O', 'O']:\n",
        "    print('O Won!')\n",
        "    break"
      ],
      "execution_count": 17,
      "outputs": [
        {
          "output_type": "stream",
          "text": [
            "O Won!\n"
          ],
          "name": "stdout"
        }
      ]
    },
    {
      "cell_type": "markdown",
      "metadata": {
        "id": "pNxPf8FdCQn1"
      },
      "source": [
        "#### 1.2.2.7 Q7\n",
        "\n",
        "let's wrap this in a function. Call your function `check_winning` and have it take `board` as an input parameter. Make what were previously your print statements into returns of their respective strings. Return an empty string if there is no winner detected."
      ]
    },
    {
      "cell_type": "code",
      "metadata": {
        "id": "3NTwUx_cBPax"
      },
      "source": [
        "# Cell for Q7\n",
        "def check_winning(board):\n",
        "  for pattern in win_patterns:\n",
        "    check = [board[i] for i in pattern]\n",
        "    if check == ['X', 'X', 'X']:\n",
        "      return 'X Won!'\n",
        "    elif check == ['O', 'O', 'O']:\n",
        "      return 'O Won!'\n",
        "  return ''"
      ],
      "execution_count": 26,
      "outputs": []
    },
    {
      "cell_type": "markdown",
      "metadata": {
        "id": "gOidfcBoCvEl"
      },
      "source": [
        "Check that your code works using a board that has either 'X' or 'O' as a winner."
      ]
    },
    {
      "cell_type": "code",
      "metadata": {
        "colab": {
          "base_uri": "https://localhost:8080/",
          "height": 35
        },
        "id": "79RQ0FHuCpDB",
        "outputId": "38d1e80a-2801-44a6-94e0-b0f41f5e1701"
      },
      "source": [
        "# Cell for Q7\n",
        "\n",
        "board = init_board()\n",
        "board[1] = 'O'\n",
        "board[4] = 'O'\n",
        "board[7] = 'O'\n",
        "\n",
        "check_winning(board)"
      ],
      "execution_count": 27,
      "outputs": [
        {
          "output_type": "execute_result",
          "data": {
            "application/vnd.google.colaboratory.intrinsic+json": {
              "type": "string"
            },
            "text/plain": [
              "'O Won!'"
            ]
          },
          "metadata": {
            "tags": []
          },
          "execution_count": 27
        }
      ]
    },
    {
      "cell_type": "markdown",
      "metadata": {
        "id": "bedI0QpKFGpn"
      },
      "source": [
        "### 1.2.3 Input from the User\n",
        "\n",
        "We can get input from the user like so:"
      ]
    },
    {
      "cell_type": "code",
      "metadata": {
        "colab": {
          "base_uri": "https://localhost:8080/"
        },
        "id": "cRwadDX3FIZu",
        "outputId": "05315eae-958f-470a-d661-7778eba9014e"
      },
      "source": [
        "move = input()"
      ],
      "execution_count": 28,
      "outputs": [
        {
          "output_type": "stream",
          "text": [
            "hello\n"
          ],
          "name": "stdout"
        }
      ]
    },
    {
      "cell_type": "markdown",
      "metadata": {
        "id": "G3vf6TI_FOey"
      },
      "source": [
        "#### 1.2.3.1 Q1\n",
        "\n",
        "Let's ask the user for their move and create some logic to embed this into the board. First write your string that will be presented to the user, asking them to play their move. "
      ]
    },
    {
      "cell_type": "code",
      "metadata": {
        "colab": {
          "base_uri": "https://localhost:8080/"
        },
        "id": "F3u8H36RFRoV",
        "outputId": "7bc83502-505b-4967-c38d-31b2ddefdd19"
      },
      "source": [
        "player = 'X'\n",
        "board = init_board()\n",
        "visualize_board(board.values())\n",
        "\n",
        "# WRITE YOUR STRING DOWN HERE\n",
        "move = input(\"{}, What's Your Move?\".format(player))"
      ],
      "execution_count": 29,
      "outputs": [
        {
          "output_type": "stream",
          "text": [
            "| | | |\n",
            "| | | |\n",
            "| | | |\n",
            "X, What's Your Move?1\n"
          ],
          "name": "stdout"
        }
      ]
    },
    {
      "cell_type": "markdown",
      "metadata": {
        "id": "iTBJleCcFkxF"
      },
      "source": [
        "#### 1.2.3.2 Q2\n",
        "\n",
        "Great. Now we need to check that the position is actually available to the user, if not, ask the user for a different move; otherwise update the board and ask for the next move from the next player\n",
        "\n",
        "* hint: you will need to convert your input into an `int` to be able to use it as a key in the `board` dictionary"
      ]
    },
    {
      "cell_type": "code",
      "metadata": {
        "colab": {
          "base_uri": "https://localhost:8080/"
        },
        "id": "guHhwJMSFtND",
        "outputId": "7a862d32-3279-42cd-b7b8-64ff09b21fd5"
      },
      "source": [
        "### COPY YOUR CODE FROM ABOVE ###\n",
        "player = 'X'\n",
        "board = init_board()\n",
        "visualize_board(board.values())\n",
        "\n",
        "# WRITE YOUR STRING DOWN HERE\n",
        "move = int(input(\"{}, What's Your Move?\".format(player)))\n",
        "### END COPY ###\n",
        "\n",
        "### WRITE YOUR CONDITIONAL BELOW\n",
        "# note: you will need to think of both the conditional, as well as a method\n",
        "# to continue asking the player to make a move if the condition is not met\n",
        "# what kind of loop does this make you think of?\n",
        "\n",
        "while True:\n",
        "  if board[move] != ' ':\n",
        "    move = int(input(\"{}, sorry move taken, please play a valid move!\"))\n",
        "  else:\n",
        "    board[move] = player\n",
        "    break\n",
        "\n",
        "### END YOUR CODE\n",
        "winner = check_winning(board)"
      ],
      "execution_count": 33,
      "outputs": [
        {
          "output_type": "stream",
          "text": [
            "| | | |\n",
            "| | | |\n",
            "| | | |\n",
            "X, What's Your Move?5\n"
          ],
          "name": "stdout"
        }
      ]
    },
    {
      "cell_type": "markdown",
      "metadata": {
        "id": "Mh97m-Z4D31Q"
      },
      "source": [
        "### 1.2.4 Creating a Game Handler\n",
        "\n"
      ]
    },
    {
      "cell_type": "markdown",
      "metadata": {
        "id": "e-Z1uHpJQJko"
      },
      "source": [
        "#### 1.2.4.1 Q1\n",
        "\n",
        "We now need some code to orchestrate game play. It will decide who's turn it is, allow players to make moves, and detect when the game is over.\n",
        "\n",
        "Fill in the blanks in the code cell below to complete the game handler:"
      ]
    },
    {
      "cell_type": "code",
      "metadata": {
        "colab": {
          "base_uri": "https://localhost:8080/"
        },
        "id": "N-qMIX83D52_",
        "outputId": "a4529187-76a6-4daf-f4e7-d1b9cfcf00af"
      },
      "source": [
        "print(\"'X' will go first!\")\n",
        "board = init_board()\n",
        "\n",
        "# initiate a while loop\n",
        "while True:\n",
        "\n",
        "  # create a for loop that iterates between X and O and stores this in the \n",
        "  # variable name `player`\n",
        "  for player in (['X', 'O']):  \n",
        "\n",
        "    # visualize the board\n",
        "    visualize_board(board.values())\n",
        "\n",
        "    ### WRITE YOUR STRING DOWN HERE\n",
        "    move = int(input(\"{}, What's Your Move?\".format(player)))\n",
        "\n",
        "    ### WRITE YOUR CONDITIONAL BELOW\n",
        "    while True:\n",
        "      if board[move] != ' ':\n",
        "        move = int(input(\"{}, sorry move taken, please play a valid move!\"))\n",
        "      else:\n",
        "        board[move] = player\n",
        "        break\n",
        "    ### END PASTE ###\n",
        "\n",
        "    ### WRITE THE LOGIC TO BREAK OUT OF THE WHILE LOOP BELOW ###\n",
        "    # check if there is a winner using check_winning\n",
        "    # if the return from check_winning is an empty string,\n",
        "    # then continue the while loop, otherwise break the while loop and print \n",
        "    # the name of the winner (X or O)\n",
        "    winner = check_winning(board)\n",
        "    if winner == '':\n",
        "      continue\n",
        "    else:\n",
        "      print(winner)\n",
        "      break\n",
        "      \n",
        "  # break out of outer loop\n",
        "  if winner != '':\n",
        "    break"
      ],
      "execution_count": 37,
      "outputs": [
        {
          "output_type": "stream",
          "text": [
            "'X' will go first!\n",
            "| | | |\n",
            "| | | |\n",
            "| | | |\n",
            "X, What's Your Move?4\n",
            "| | | |\n",
            "|X| | |\n",
            "| | | |\n",
            "O, What's Your Move?5\n",
            "| | | |\n",
            "|X|O| |\n",
            "| | | |\n",
            "X, What's Your Move?6\n",
            "| | | |\n",
            "|X|O|X|\n",
            "| | | |\n",
            "O, What's Your Move?2\n",
            "| |O| |\n",
            "|X|O|X|\n",
            "| | | |\n",
            "X, What's Your Move?1\n",
            "|X|O| |\n",
            "|X|O|X|\n",
            "| | | |\n",
            "O, What's Your Move?8\n",
            "O Won!\n"
          ],
          "name": "stdout"
        }
      ]
    },
    {
      "cell_type": "markdown",
      "metadata": {
        "id": "l9HSSsUxHaWT"
      },
      "source": [
        "## 1.3 In Summary\n",
        "\n",
        "Paste all your working functions into the cell below for safe keeping:"
      ]
    },
    {
      "cell_type": "code",
      "metadata": {
        "id": "zANQ5gabHW4n",
        "colab": {
          "base_uri": "https://localhost:8080/"
        },
        "outputId": "3e314d3a-547f-478a-d03a-95a994c29ff4"
      },
      "source": [
        "win_patterns = [[1, 2, 3],\n",
        "                [4, 5, 6],\n",
        "                [7, 8, 9],\n",
        "                [1, 4, 7],\n",
        "                [2, 5, 8],\n",
        "                [3, 6, 9],\n",
        "                [1, 5, 9],\n",
        "                [3, 5, 7]]\n",
        "\n",
        "def visualize_board(board):\n",
        "  print(\"|{}|{}|{}|\\n|{}|{}|{}|\\n|{}|{}|{}|\".format(*board))\n",
        "\n",
        "def init_board():\n",
        "  return {1: ' ',\n",
        "         2: ' ',\n",
        "         3: ' ',\n",
        "         4: ' ',\n",
        "         5: ' ',\n",
        "         6: ' ',\n",
        "         7: ' ',\n",
        "         8: ' ',\n",
        "         9: ' '}\n",
        "\n",
        "print(\"'X' will go first!\")\n",
        "board = init_board()\n",
        "\n",
        "# initiate a while loop\n",
        "while True:\n",
        "\n",
        "  # create a for loop that iterates between X and O and stores this in the \n",
        "  # variable name `player`\n",
        "  for player in (['X', 'O']):  \n",
        "\n",
        "    # visualize the board\n",
        "    visualize_board(board.values())\n",
        "    move = int(input(\"{}, What's Your Move?\".format(player)))\n",
        "\n",
        "    while True:\n",
        "      if board[move] != ' ':\n",
        "        move = int(input(\"{}, sorry move taken, please play a valid move!\"))\n",
        "      else:\n",
        "        board[move] = player\n",
        "        break\n",
        "\n",
        "    ### WRITE THE LOGIC TO BREAK OUT OF THE WHILE LOOP BELOW ###\n",
        "    winner = check_winning(board)\n",
        "    if winner == '':\n",
        "      continue\n",
        "    else:\n",
        "      print(winner)\n",
        "      break\n",
        "      \n",
        "  # break out of outer loop\n",
        "  if winner != '':\n",
        "    break"
      ],
      "execution_count": 40,
      "outputs": [
        {
          "output_type": "stream",
          "text": [
            "'X' will go first!\n",
            "| | | |\n",
            "| | | |\n",
            "| | | |\n",
            "X, What's Your Move?1\n",
            "|X| | |\n",
            "| | | |\n",
            "| | | |\n",
            "O, What's Your Move?2\n",
            "|X|O| |\n",
            "| | | |\n",
            "| | | |\n",
            "X, What's Your Move?3\n",
            "|X|O|X|\n",
            "| | | |\n",
            "| | | |\n",
            "O, What's Your Move?1\n",
            "{}, sorry move taken, please play a valid move!1\n",
            "{}, sorry move taken, please play a valid move!4\n",
            "|X|O|X|\n",
            "|O| | |\n",
            "| | | |\n",
            "X, What's Your Move?5\n",
            "|X|O|X|\n",
            "|O|X| |\n",
            "| | | |\n",
            "O, What's Your Move?6\n",
            "|X|O|X|\n",
            "|O|X|O|\n",
            "| | | |\n",
            "X, What's Your Move?8\n",
            "|X|O|X|\n",
            "|O|X|O|\n",
            "| |X| |\n",
            "O, What's Your Move?9\n",
            "|X|O|X|\n",
            "|O|X|O|\n",
            "| |X|O|\n",
            "X, What's Your Move?7\n",
            "X Won!\n"
          ],
          "name": "stdout"
        }
      ]
    }
  ]
}