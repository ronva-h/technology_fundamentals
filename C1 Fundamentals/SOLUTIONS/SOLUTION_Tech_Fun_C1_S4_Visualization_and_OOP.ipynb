{
  "nbformat": 4,
  "nbformat_minor": 0,
  "metadata": {
    "colab": {
      "name": "SOLUTION Tech Fun C1 S4 Visualization and OOP.ipynb",
      "provenance": [],
      "collapsed_sections": [],
      "toc_visible": true,
      "authorship_tag": "ABX9TyNm2COzT8ISGz+H1UqqPi1u",
      "include_colab_link": true
    },
    "kernelspec": {
      "name": "python3",
      "display_name": "Python 3"
    },
    "language_info": {
      "name": "python"
    },
    "widgets": {
      "application/vnd.jupyter.widget-state+json": {
        "e00ae609a54346b39da08b9f1c266f08": {
          "model_module": "@jupyter-widgets/controls",
          "model_name": "VBoxModel",
          "state": {
            "_view_name": "VBoxView",
            "_dom_classes": [
              "widget-interact"
            ],
            "_model_name": "VBoxModel",
            "_view_module": "@jupyter-widgets/controls",
            "_model_module_version": "1.5.0",
            "_view_count": null,
            "_view_module_version": "1.5.0",
            "box_style": "",
            "layout": "IPY_MODEL_1fc004bb78b24d5a9b93f86849c64527",
            "_model_module": "@jupyter-widgets/controls",
            "children": [
              "IPY_MODEL_4ecfbf4268524e61b778b75f82c1fdb6",
              "IPY_MODEL_6e0b120bced1465cbaa0dd8a1ee5b921"
            ]
          }
        },
        "1fc004bb78b24d5a9b93f86849c64527": {
          "model_module": "@jupyter-widgets/base",
          "model_name": "LayoutModel",
          "state": {
            "_view_name": "LayoutView",
            "grid_template_rows": null,
            "right": null,
            "justify_content": null,
            "_view_module": "@jupyter-widgets/base",
            "overflow": null,
            "_model_module_version": "1.2.0",
            "_view_count": null,
            "flex_flow": null,
            "width": null,
            "min_width": null,
            "border": null,
            "align_items": null,
            "bottom": null,
            "_model_module": "@jupyter-widgets/base",
            "top": null,
            "grid_column": null,
            "overflow_y": null,
            "overflow_x": null,
            "grid_auto_flow": null,
            "grid_area": null,
            "grid_template_columns": null,
            "flex": null,
            "_model_name": "LayoutModel",
            "justify_items": null,
            "grid_row": null,
            "max_height": null,
            "align_content": null,
            "visibility": null,
            "align_self": null,
            "height": null,
            "min_height": null,
            "padding": null,
            "grid_auto_rows": null,
            "grid_gap": null,
            "max_width": null,
            "order": null,
            "_view_module_version": "1.2.0",
            "grid_template_areas": null,
            "object_position": null,
            "object_fit": null,
            "grid_auto_columns": null,
            "margin": null,
            "display": null,
            "left": null
          }
        },
        "4ecfbf4268524e61b778b75f82c1fdb6": {
          "model_module": "@jupyter-widgets/controls",
          "model_name": "FloatSliderModel",
          "state": {
            "_view_name": "FloatSliderView",
            "style": "IPY_MODEL_b2fee373dc6d49d3b48681c0dcb74a01",
            "_dom_classes": [],
            "description": "Shape:",
            "step": 0.5,
            "_model_name": "FloatSliderModel",
            "orientation": "horizontal",
            "max": 5,
            "_view_module": "@jupyter-widgets/controls",
            "_model_module_version": "1.5.0",
            "value": 0.5,
            "_view_count": null,
            "disabled": false,
            "_view_module_version": "1.5.0",
            "min": 0.5,
            "continuous_update": false,
            "readout_format": ".1f",
            "description_tooltip": null,
            "readout": true,
            "_model_module": "@jupyter-widgets/controls",
            "layout": "IPY_MODEL_67a91ec8bb0644b2894d2acb8b5ef2d7"
          }
        },
        "6e0b120bced1465cbaa0dd8a1ee5b921": {
          "model_module": "@jupyter-widgets/output",
          "model_name": "OutputModel",
          "state": {
            "_view_name": "OutputView",
            "msg_id": "",
            "_dom_classes": [],
            "_model_name": "OutputModel",
            "outputs": [
              {
                "output_type": "stream",
                "metadata": {
                  "tags": []
                },
                "text": "skew: 4.60\nkurtosis: 34.04\n",
                "stream": "stdout"
              },
              {
                "output_type": "display_data",
                "metadata": {
                  "tags": [],
                  "needs_background": "light"
                },
                "image/png": "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\n",
                "text/plain": "<Figure size 360x360 with 1 Axes>"
              }
            ],
            "_view_module": "@jupyter-widgets/output",
            "_model_module_version": "1.0.0",
            "_view_count": null,
            "_view_module_version": "1.0.0",
            "layout": "IPY_MODEL_8fdb77eea75b4c199bde3dc4b16c307f",
            "_model_module": "@jupyter-widgets/output"
          }
        },
        "b2fee373dc6d49d3b48681c0dcb74a01": {
          "model_module": "@jupyter-widgets/controls",
          "model_name": "SliderStyleModel",
          "state": {
            "_view_name": "StyleView",
            "handle_color": null,
            "_model_name": "SliderStyleModel",
            "description_width": "",
            "_view_module": "@jupyter-widgets/base",
            "_model_module_version": "1.5.0",
            "_view_count": null,
            "_view_module_version": "1.2.0",
            "_model_module": "@jupyter-widgets/controls"
          }
        },
        "67a91ec8bb0644b2894d2acb8b5ef2d7": {
          "model_module": "@jupyter-widgets/base",
          "model_name": "LayoutModel",
          "state": {
            "_view_name": "LayoutView",
            "grid_template_rows": null,
            "right": null,
            "justify_content": null,
            "_view_module": "@jupyter-widgets/base",
            "overflow": null,
            "_model_module_version": "1.2.0",
            "_view_count": null,
            "flex_flow": null,
            "width": null,
            "min_width": null,
            "border": null,
            "align_items": null,
            "bottom": null,
            "_model_module": "@jupyter-widgets/base",
            "top": null,
            "grid_column": null,
            "overflow_y": null,
            "overflow_x": null,
            "grid_auto_flow": null,
            "grid_area": null,
            "grid_template_columns": null,
            "flex": null,
            "_model_name": "LayoutModel",
            "justify_items": null,
            "grid_row": null,
            "max_height": null,
            "align_content": null,
            "visibility": null,
            "align_self": null,
            "height": null,
            "min_height": null,
            "padding": null,
            "grid_auto_rows": null,
            "grid_gap": null,
            "max_width": null,
            "order": null,
            "_view_module_version": "1.2.0",
            "grid_template_areas": null,
            "object_position": null,
            "object_fit": null,
            "grid_auto_columns": null,
            "margin": null,
            "display": null,
            "left": null
          }
        },
        "8fdb77eea75b4c199bde3dc4b16c307f": {
          "model_module": "@jupyter-widgets/base",
          "model_name": "LayoutModel",
          "state": {
            "_view_name": "LayoutView",
            "grid_template_rows": null,
            "right": null,
            "justify_content": null,
            "_view_module": "@jupyter-widgets/base",
            "overflow": null,
            "_model_module_version": "1.2.0",
            "_view_count": null,
            "flex_flow": null,
            "width": null,
            "min_width": null,
            "border": null,
            "align_items": null,
            "bottom": null,
            "_model_module": "@jupyter-widgets/base",
            "top": null,
            "grid_column": null,
            "overflow_y": null,
            "overflow_x": null,
            "grid_auto_flow": null,
            "grid_area": null,
            "grid_template_columns": null,
            "flex": null,
            "_model_name": "LayoutModel",
            "justify_items": null,
            "grid_row": null,
            "max_height": null,
            "align_content": null,
            "visibility": null,
            "align_self": null,
            "height": null,
            "min_height": null,
            "padding": null,
            "grid_auto_rows": null,
            "grid_gap": null,
            "max_width": null,
            "order": null,
            "_view_module_version": "1.2.0",
            "grid_template_areas": null,
            "object_position": null,
            "object_fit": null,
            "grid_auto_columns": null,
            "margin": null,
            "display": null,
            "left": null
          }
        },
        "d8eca6c8429c485b8dcaab710d10e630": {
          "model_module": "@jupyter-widgets/controls",
          "model_name": "VBoxModel",
          "state": {
            "_view_name": "VBoxView",
            "_dom_classes": [
              "widget-interact"
            ],
            "_model_name": "VBoxModel",
            "_view_module": "@jupyter-widgets/controls",
            "_model_module_version": "1.5.0",
            "_view_count": null,
            "_view_module_version": "1.5.0",
            "box_style": "",
            "layout": "IPY_MODEL_eca68f8fa0c040e9996d5c58874f2981",
            "_model_module": "@jupyter-widgets/controls",
            "children": [
              "IPY_MODEL_232c82cfa6ca48778fe76df09bf99b5c",
              "IPY_MODEL_9dfc2d5b5e8346feb8da575dfb25599f"
            ]
          }
        },
        "eca68f8fa0c040e9996d5c58874f2981": {
          "model_module": "@jupyter-widgets/base",
          "model_name": "LayoutModel",
          "state": {
            "_view_name": "LayoutView",
            "grid_template_rows": null,
            "right": null,
            "justify_content": null,
            "_view_module": "@jupyter-widgets/base",
            "overflow": null,
            "_model_module_version": "1.2.0",
            "_view_count": null,
            "flex_flow": null,
            "width": null,
            "min_width": null,
            "border": null,
            "align_items": null,
            "bottom": null,
            "_model_module": "@jupyter-widgets/base",
            "top": null,
            "grid_column": null,
            "overflow_y": null,
            "overflow_x": null,
            "grid_auto_flow": null,
            "grid_area": null,
            "grid_template_columns": null,
            "flex": null,
            "_model_name": "LayoutModel",
            "justify_items": null,
            "grid_row": null,
            "max_height": null,
            "align_content": null,
            "visibility": null,
            "align_self": null,
            "height": null,
            "min_height": null,
            "padding": null,
            "grid_auto_rows": null,
            "grid_gap": null,
            "max_width": null,
            "order": null,
            "_view_module_version": "1.2.0",
            "grid_template_areas": null,
            "object_position": null,
            "object_fit": null,
            "grid_auto_columns": null,
            "margin": null,
            "display": null,
            "left": null
          }
        },
        "232c82cfa6ca48778fe76df09bf99b5c": {
          "model_module": "@jupyter-widgets/controls",
          "model_name": "DropdownModel",
          "state": {
            "_options_labels": [
              "duration",
              "avg_vote",
              "votes",
              "metascore",
              "reviews_from_users",
              "reviews_from_critics"
            ],
            "_view_name": "DropdownView",
            "style": "IPY_MODEL_96cfef5b145c4da6bc162508021a945a",
            "_dom_classes": [],
            "description": "col",
            "_model_name": "DropdownModel",
            "index": 1,
            "_view_module": "@jupyter-widgets/controls",
            "_model_module_version": "1.5.0",
            "_view_count": null,
            "disabled": false,
            "_view_module_version": "1.5.0",
            "description_tooltip": null,
            "_model_module": "@jupyter-widgets/controls",
            "layout": "IPY_MODEL_29ffba53e62c4a128d536a013c558d28"
          }
        },
        "9dfc2d5b5e8346feb8da575dfb25599f": {
          "model_module": "@jupyter-widgets/output",
          "model_name": "OutputModel",
          "state": {
            "_view_name": "OutputView",
            "msg_id": "",
            "_dom_classes": [],
            "_model_name": "OutputModel",
            "outputs": [
              {
                "output_type": "stream",
                "metadata": {
                  "tags": []
                },
                "text": "/usr/local/lib/python3.7/dist-packages/numpy/core/_asarray.py:83: VisibleDeprecationWarning: Creating an ndarray from ragged nested sequences (which is a list-or-tuple of lists-or-tuples-or ndarrays with different lengths or shapes) is deprecated. If you meant to do this, you must specify 'dtype=object' when creating the ndarray\n  return array(a, dtype, copy=False, order=order)\n",
                "stream": "stderr"
              },
              {
                "output_type": "display_data",
                "metadata": {
                  "tags": [],
                  "needs_background": "light"
                },
                "image/png": "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\n",
                "text/plain": "<Figure size 720x360 with 1 Axes>"
              }
            ],
            "_view_module": "@jupyter-widgets/output",
            "_model_module_version": "1.0.0",
            "_view_count": null,
            "_view_module_version": "1.0.0",
            "layout": "IPY_MODEL_223a024f51e4428da1de52c6b1ab46d8",
            "_model_module": "@jupyter-widgets/output"
          }
        },
        "96cfef5b145c4da6bc162508021a945a": {
          "model_module": "@jupyter-widgets/controls",
          "model_name": "DescriptionStyleModel",
          "state": {
            "_view_name": "StyleView",
            "_model_name": "DescriptionStyleModel",
            "description_width": "",
            "_view_module": "@jupyter-widgets/base",
            "_model_module_version": "1.5.0",
            "_view_count": null,
            "_view_module_version": "1.2.0",
            "_model_module": "@jupyter-widgets/controls"
          }
        },
        "29ffba53e62c4a128d536a013c558d28": {
          "model_module": "@jupyter-widgets/base",
          "model_name": "LayoutModel",
          "state": {
            "_view_name": "LayoutView",
            "grid_template_rows": null,
            "right": null,
            "justify_content": null,
            "_view_module": "@jupyter-widgets/base",
            "overflow": null,
            "_model_module_version": "1.2.0",
            "_view_count": null,
            "flex_flow": null,
            "width": null,
            "min_width": null,
            "border": null,
            "align_items": null,
            "bottom": null,
            "_model_module": "@jupyter-widgets/base",
            "top": null,
            "grid_column": null,
            "overflow_y": null,
            "overflow_x": null,
            "grid_auto_flow": null,
            "grid_area": null,
            "grid_template_columns": null,
            "flex": null,
            "_model_name": "LayoutModel",
            "justify_items": null,
            "grid_row": null,
            "max_height": null,
            "align_content": null,
            "visibility": null,
            "align_self": null,
            "height": null,
            "min_height": null,
            "padding": null,
            "grid_auto_rows": null,
            "grid_gap": null,
            "max_width": null,
            "order": null,
            "_view_module_version": "1.2.0",
            "grid_template_areas": null,
            "object_position": null,
            "object_fit": null,
            "grid_auto_columns": null,
            "margin": null,
            "display": null,
            "left": null
          }
        },
        "223a024f51e4428da1de52c6b1ab46d8": {
          "model_module": "@jupyter-widgets/base",
          "model_name": "LayoutModel",
          "state": {
            "_view_name": "LayoutView",
            "grid_template_rows": null,
            "right": null,
            "justify_content": null,
            "_view_module": "@jupyter-widgets/base",
            "overflow": null,
            "_model_module_version": "1.2.0",
            "_view_count": null,
            "flex_flow": null,
            "width": null,
            "min_width": null,
            "border": null,
            "align_items": null,
            "bottom": null,
            "_model_module": "@jupyter-widgets/base",
            "top": null,
            "grid_column": null,
            "overflow_y": null,
            "overflow_x": null,
            "grid_auto_flow": null,
            "grid_area": null,
            "grid_template_columns": null,
            "flex": null,
            "_model_name": "LayoutModel",
            "justify_items": null,
            "grid_row": null,
            "max_height": null,
            "align_content": null,
            "visibility": null,
            "align_self": null,
            "height": null,
            "min_height": null,
            "padding": null,
            "grid_auto_rows": null,
            "grid_gap": null,
            "max_width": null,
            "order": null,
            "_view_module_version": "1.2.0",
            "grid_template_areas": null,
            "object_position": null,
            "object_fit": null,
            "grid_auto_columns": null,
            "margin": null,
            "display": null,
            "left": null
          }
        }
      }
    }
  },
  "cells": [
    {
      "cell_type": "markdown",
      "metadata": {
        "id": "view-in-github",
        "colab_type": "text"
      },
      "source": [
        "<a href=\"https://colab.research.google.com/github/wesleybeckner/technology_fundamentals/blob/main/C1%20Fundamentals/SOLUTIONS/SOLUTION_Tech_Fun_C1_S4_Visualization_and_OOP.ipynb\" target=\"_parent\"><img src=\"https://colab.research.google.com/assets/colab-badge.svg\" alt=\"Open In Colab\"/></a>"
      ]
    },
    {
      "cell_type": "markdown",
      "metadata": {
        "id": "E5cwBluhFWw4"
      },
      "source": [
        "# Technology Fundamentals Course 1, Session 4: Visualization and OOP\n",
        "**Instructor**: Wesley Beckner\n",
        "\n",
        "**Contact**: wesleybeckner@gmail.com\n",
        "\n",
        "**Teaching Assitants** Varsha Bang, Harsha Vardhan\n",
        "\n",
        "**Contact** vbang@uw.edu, harshav@uw.edu\n",
        "<br>\n",
        "\n",
        "---\n",
        "\n",
        "<br>\n",
        "\n",
        "In this session we'll be discussing visualization strategies. And, more specifically, how we can manipulate our `pandas dataframes` to give us the visualizations we desire. Before we get there, however, we're going to start by introducing a python module called Matplotlib.\n",
        "\n",
        "<br>\n",
        "\n",
        "---\n"
      ]
    },
    {
      "cell_type": "markdown",
      "metadata": {
        "id": "77YySUQ5Rrt8"
      },
      "source": [
        "## 4.1 Visualization with Matplotlib\n",
        "\n",
        "Lets start by importing our `matplotlib` module. \n",
        "\n",
        "Pyplot is a module of Matplotlib that provides functions to add plot elements like text, lines, and images. typically we import this module like so\n",
        "\n",
        "```\n",
        "import matplotlib.pyplot as plt\n",
        "```\n",
        "\n",
        "where `plt` is shorthand for the `matplotlib.pyplot` library"
      ]
    },
    {
      "cell_type": "code",
      "metadata": {
        "id": "nDdRI2e_Rrt8"
      },
      "source": [
        "import matplotlib.pyplot as plt"
      ],
      "execution_count": 14,
      "outputs": []
    },
    {
      "cell_type": "markdown",
      "metadata": {
        "id": "bdUtlM95Rrt9"
      },
      "source": [
        "### 4.1.1 The Basics\n",
        "\n",
        "Matplotlib is strongly object oriented and its principal objects are the **_figure_** and the **_axes_**. But before we get into that I want us to explore the _most basic_ use case. In this basic use case, we don't declare the `figure` and `axes` objects explicitly, but rather work directly in the `pyplot` namespace.\n",
        "\n",
        "I'm going to create a list of x and y values and plot them with `pyplot`\n",
        "\n",
        "```\n",
        "x = [1,2,3,4,5,6,7]\n",
        "y = [1,1,2,3,5,8,13]\n",
        "plt.plot(x,y)\n",
        "```"
      ]
    },
    {
      "cell_type": "code",
      "metadata": {
        "colab": {
          "base_uri": "https://localhost:8080/",
          "height": 283
        },
        "id": "1vYCjw3VRrt-",
        "outputId": "d8305a8e-5f52-4cf6-e1c4-e9c03dc9ddac"
      },
      "source": [
        "x = [1,2,3,4,5,6,7,8,9]\n",
        "y = [1,1,2,3,5,8,13,21,34]\n",
        "plt.plot(x, y)"
      ],
      "execution_count": 17,
      "outputs": [
        {
          "output_type": "execute_result",
          "data": {
            "text/plain": [
              "[<matplotlib.lines.Line2D at 0x7fa733a85ad0>]"
            ]
          },
          "metadata": {
            "tags": []
          },
          "execution_count": 17
        },
        {
          "output_type": "display_data",
          "data": {
            "image/png": "[encoded data removed]",
            "text/plain": [
              "<Figure size 432x288 with 1 Axes>"
            ]
          },
          "metadata": {
            "tags": [],
            "needs_background": "light"
          }
        }
      ]
    },
    {
      "cell_type": "markdown",
      "metadata": {
        "id": "pKO1aVDqRrt_"
      },
      "source": [
        "We can label the axes of our figure using the `xlabel` and `ylabel` attributes, and label our title using the `title` attribute.\n",
        "\n",
        "```\n",
        "plt.plot([1,2,3,4,5,6,7],[1,1,2,3,5,8,13])\n",
        "plt.title('The Fibonacci Sequence')\n",
        "plt.xlabel('Order in Sequence')\n",
        "plt.ylabel('Value')\n",
        "```"
      ]
    },
    {
      "cell_type": "code",
      "metadata": {
        "colab": {
          "base_uri": "https://localhost:8080/",
          "height": 313
        },
        "id": "qW2roYJrRrt_",
        "outputId": "33e3d3d2-7dcf-4f78-c246-e362b5df9319"
      },
      "source": [
        "plt.plot([1,2,3,4,5,6,7],[1,1,2,3,5,8,13])\n",
        "plt.title('The Fibonacci Sequence')\n",
        "plt.xlabel('Order in Sequence')\n",
        "plt.ylabel('Value')"
      ],
      "execution_count": 18,
      "outputs": [
        {
          "output_type": "execute_result",
          "data": {
            "text/plain": [
              "Text(0, 0.5, 'Value')"
            ]
          },
          "metadata": {
            "tags": []
          },
          "execution_count": 18
        },
        {
          "output_type": "display_data",
          "data": {
            "image/png": "[encoded data removed]",
            "text/plain": [
              "<Figure size 432x288 with 1 Axes>"
            ]
          },
          "metadata": {
            "tags": [],
            "needs_background": "light"
          }
        }
      ]
    },
    {
      "cell_type": "markdown",
      "metadata": {
        "id": "RYVCST5sRrt_"
      },
      "source": [
        "> What do we think about the out-of-the-box formatting of `pyplot`? What are some things we can do to make it better? Could we make it bigger? Perhaps different dimensions? Does anyone recognize that default line color?\n",
        "\n",
        "Before we make any changes, let's become acquianted with the more appropriate way to work in `matplotlib.pyplot`. In this formality, we explicitly create our `figure` and `axes` objects.\n",
        "\n",
        "```\n",
        "# This is one way to do it...\n",
        "# plt.plot([1,2,3,4,5,6,7],[1,1,2,3,5,8,13])\n",
        "\n",
        "# but we can also do it this way, concretely declaring the figure, axes\n",
        "# objects directly\n",
        "\n",
        "# We declare the figure\n",
        "fig = plt.figure()\n",
        "\n",
        "# and then add axes \n",
        "ax = fig.add_subplot(111)\n",
        "```\n",
        "\n",
        "You can think of the `figure` as a canvas, where you specify dimensions and possibly unifying attributes of its contents, like, background color, border, etc. You use the canvas, the `figure`, to containerize your other objects, primarily your `axes`, and to save its contents with `savefig`.\n",
        "\n",
        "You can think of an `axes` as the actual graphs or plots themselves. And when we declare these objects, we have access to all the methods of `matplotlib.pyplot` (e.g. `.plot`, `.scatter`, `.hist` etc.) You can place many of these `axes` into the `figure` container in a variety of ways.\n",
        "\n",
        "The last component of a `pyplot` figure are the `axis`, the graphical axis we typically think of."
      ]
    },
    {
      "cell_type": "code",
      "metadata": {
        "colab": {
          "base_uri": "https://localhost:8080/",
          "height": 269
        },
        "id": "UGBHVBnRRrt_",
        "outputId": "cadb97e1-917b-41ad-90e5-72d27e4bc442"
      },
      "source": [
        "# This is one way to do it...\n",
        "# plt.plot([1,2,3,4,5,6,7],[1,1,2,3,5,8,13])\n",
        "\n",
        "# but we can also do it this way, concretely declaring the figure, axes\n",
        "# objects directly\n",
        "\n",
        "# We declare the figure\n",
        "fig = plt.figure()\n",
        "\n",
        "# and then add axes \n",
        "ax = fig.add_subplot(221)\n",
        "ax2 = fig.add_subplot(222)\n",
        "ax3 = fig.add_subplot(223)\n",
        "ax4 = fig.add_subplot(224)"
      ],
      "execution_count": 24,
      "outputs": [
        {
          "output_type": "display_data",
          "data": {
            "image/png": "[encoded data removed]",
            "text/plain": [
              "<Figure size 432x288 with 4 Axes>"
            ]
          },
          "metadata": {
            "tags": [],
            "needs_background": "light"
          }
        }
      ]
    },
    {
      "cell_type": "markdown",
      "metadata": {
        "id": "oEy9US2BRruA"
      },
      "source": [
        "`plt.subplots` returns a `figure` and `axes` object(s) together:\n",
        "\n",
        "```\n",
        "### We can also do it in 1 line\n",
        "fig, ax = plt.subplots(1, 1, figsize=(8,8))\n",
        "```\n",
        "\n",
        "and we'll go ahead and adjust the figure size with the parameter `figsize` and set it equal to a tuple containing the `x` and `y` dimensions of the figure in inches."
      ]
    },
    {
      "cell_type": "code",
      "metadata": {
        "colab": {
          "base_uri": "https://localhost:8080/",
          "height": 324
        },
        "id": "JXo-bAHyRruA",
        "outputId": "8f7b1cde-4d31-481c-ff49-685048c58861"
      },
      "source": [
        "### We can also do it in 1 line\n",
        "fig, ax = plt.subplots(1, 1, figsize=(10,5))"
      ],
      "execution_count": 27,
      "outputs": [
        {
          "output_type": "display_data",
          "data": {
            "image/png": "[encoded data removed]",
            "text/plain": [
              "<Figure size 720x360 with 1 Axes>"
            ]
          },
          "metadata": {
            "tags": [],
            "needs_background": "light"
          }
        }
      ]
    },
    {
      "cell_type": "markdown",
      "metadata": {
        "id": "8jh429kbRruA"
      },
      "source": [
        "To recap, by convention we typically separate our plots into three components: a Figure, its Axes, and their Axis:\n",
        "\n",
        "* **_Figure_**: It is a whole `figure` which may contain one or more than one `axes` (plots). You can think of a `figure` as a canvas which contains plots.\n",
        "* **_Axes_**: It is what we generally think of as a plot. A `figure` can contain many `axes`. It contains two or three (in the case of 3D) `axis` objects. Each `axes` has a title, an x-label and a y-label.\n",
        "* **_Axis_**: They are the traditional `axis` we think of in a graph and take care of generating the graph limits.\n",
        "\n",
        "<br> \n",
        "**Example:**\n",
        "> `fig, ax = plt.subplots(1, 1, figsize=(8,8))` is creating the figure (`fig`) and axes (`ax`) explicitly, and depending on whether we create 2D or 3D plots, the axes will contain 2-3 `axis`."
      ]
    },
    {
      "cell_type": "markdown",
      "metadata": {
        "id": "tDJRcj4zRruA"
      },
      "source": [
        "#### Exercise 1: Adjust Figure Size\n",
        "\n",
        "<ol type=\"a\">\n",
        "  <li>create a <code>figure</code> and <code>axes</code> using <code>plt.subplots()</code>. adjust the figure size to be 6 inches (width) by 3 inches (height). Plot the values of the fibonacci sequence we defined earlier</li>\n",
        "  <li>(Bonus) Repeat, this time inverting the y-values using list splicing</li>\n",
        "  <li>(Bonus) Explore other <code>plt.plot()</code> attributes using the built in Colab tooltip</li>\n",
        "</ol>\n",
        "\n",
        "Plotting building blocks for Exercise 1:\n",
        "* `plt.subplots()`\n",
        "* `ax.plot()`\n",
        "* slicing `[::]`\n",
        "\n",
        "```\n",
        "x = [1,2,3,4,5,6,7]\n",
        "y = [1,1,2,3,5,8,13]\n",
        "```"
      ]
    },
    {
      "cell_type": "code",
      "metadata": {
        "id": "LUJgdM9bRruA",
        "colab": {
          "base_uri": "https://localhost:8080/",
          "height": 229
        },
        "outputId": "b5021eb8-545d-4986-f093-4ecdc0bc4ffa"
      },
      "source": [
        "# Cell for Exercise 1\n",
        "x = [1,2,3,4,5,6,7]\n",
        "y = [1,1,2,3,5,8,13]\n",
        "fig, ax = plt.subplots(1,1,figsize=(6,3))\n",
        "ax.plot(x, y[::-1])"
      ],
      "execution_count": 29,
      "outputs": [
        {
          "output_type": "execute_result",
          "data": {
            "text/plain": [
              "[<matplotlib.lines.Line2D at 0x7fa72f696550>]"
            ]
          },
          "metadata": {
            "tags": []
          },
          "execution_count": 29
        },
        {
          "output_type": "display_data",
          "data": {
            "image/png": "[encoded data removed]",
            "text/plain": [
              "<Figure size 432x216 with 1 Axes>"
            ]
          },
          "metadata": {
            "tags": [],
            "needs_background": "light"
          }
        }
      ]
    },
    {
      "cell_type": "markdown",
      "metadata": {
        "id": "8NP1EP18RruA"
      },
      "source": [
        "### 4.1.2 Manipulating Plot Attributes\n",
        "\n",
        "We can manipulate many parameters of a `figure`'s `axes`: `marker`, `linestyle`, and `color`, to name a few. Each of these parameters takes string values.\n",
        "\n",
        "```\n",
        "fig, ax = plt.subplots(1,1, figsize=(5,5))\n",
        "ax.plot([1,2,3,4,5,6,7],[1,1,2,3,5,8,13], marker='^', linestyle='--', \n",
        "         color='tab:blue')\n",
        "ax.plot([1,2,3,4,5,6,7],[0,3,8,6,5,4,1], marker='.', linestyle='-.', \n",
        "         color='#59A41F')\n",
        "ax.set_title('My Random Values')\n",
        "ax.set_xlabel('Order in Sequence')\n",
        "ax.set_ylabel('Value')\n",
        "```\n",
        "\n",
        "List of marker styles\n",
        "\n",
        "```\n",
        "{'': 'nothing',\n",
        " ' ': 'nothing',\n",
        " '*': 'star',\n",
        " '+': 'plus',\n",
        " ',': 'pixel',\n",
        " '.': 'point',\n",
        " 0: 'tickleft',\n",
        " '1': 'tri_down',\n",
        " 1: 'tickright',\n",
        " 10: 'caretupbase',\n",
        " 11: 'caretdownbase',\n",
        " '2': 'tri_up',\n",
        " 2: 'tickup',\n",
        " '3': 'tri_left',\n",
        " 3: 'tickdown',\n",
        " '4': 'tri_right',\n",
        " 4: 'caretleft',\n",
        " 5: 'caretright',\n",
        " 6: 'caretup',\n",
        " 7: 'caretdown',\n",
        " '8': 'octagon',\n",
        " 8: 'caretleftbase',\n",
        " 9: 'caretrightbase',\n",
        " '<': 'triangle_left',\n",
        " '>': 'triangle_right',\n",
        " 'D': 'diamond',\n",
        " 'H': 'hexagon2',\n",
        " 'None': 'nothing',\n",
        " None: 'nothing',\n",
        " 'P': 'plus_filled',\n",
        " 'X': 'x_filled',\n",
        " '^': 'triangle_up',\n",
        " '_': 'hline',\n",
        " 'd': 'thin_diamond',\n",
        " 'h': 'hexagon1',\n",
        " 'o': 'circle',\n",
        " 'p': 'pentagon',\n",
        " 's': 'square',\n",
        " 'v': 'triangle_down',\n",
        " 'x': 'x',\n",
        " '|': 'vline'}\n",
        " ```\n",
        "\n",
        "List of line styles\n",
        "\n",
        "```\n",
        "{'': '_draw_nothing',\n",
        " ' ': '_draw_nothing',\n",
        " '-': '_draw_solid',\n",
        " '--': '_draw_dashed',\n",
        " '-.': '_draw_dash_dot',\n",
        " ':': '_draw_dotted',\n",
        " 'None': '_draw_nothing'}\n",
        " ```\n",
        "\n",
        " List of base colors\n",
        "\n",
        " ```\n",
        " {'b': (0, 0, 1),\n",
        " 'c': (0, 0.75, 0.75),\n",
        " 'g': (0, 0.5, 0),\n",
        " 'k': (0, 0, 0),\n",
        " 'm': (0.75, 0, 0.75),\n",
        " 'r': (1, 0, 0),\n",
        " 'w': (1, 1, 1),\n",
        " 'y': (0.75, 0.75, 0)}\n",
        " ```\n",
        "\n",
        "list access\n",
        "\n",
        "```\n",
        "import matplotlib as mp\n",
        "mp.markers.MarkerStyle.markers\n",
        "mp.lines.lineStyles\n",
        "mp.colors.BASE_COLORS\n",
        "```\n",
        "\n",
        "Taking these long lists of available parameters, I'm going to play around with a few and see how they appear in our plot."
      ]
    },
    {
      "cell_type": "code",
      "metadata": {
        "colab": {
          "base_uri": "https://localhost:8080/"
        },
        "id": "iP42bncgRruB",
        "outputId": "9eb89fd7-26f0-4a84-c679-c159228903cc"
      },
      "source": [
        "import matplotlib as mp\n",
        "# mp.markers.MarkerStyle.markers\n",
        "# mp.lines.lineStyles\n",
        "# mp.colors.BASE_COLORS"
      ],
      "execution_count": 32,
      "outputs": [
        {
          "output_type": "execute_result",
          "data": {
            "text/plain": [
              "{'b': (0, 0, 1),\n",
              " 'c': (0, 0.75, 0.75),\n",
              " 'g': (0, 0.5, 0),\n",
              " 'k': (0, 0, 0),\n",
              " 'm': (0.75, 0, 0.75),\n",
              " 'r': (1, 0, 0),\n",
              " 'w': (1, 1, 1),\n",
              " 'y': (0.75, 0.75, 0)}"
            ]
          },
          "metadata": {
            "tags": []
          },
          "execution_count": 32
        }
      ]
    },
    {
      "cell_type": "code",
      "metadata": {
        "colab": {
          "base_uri": "https://localhost:8080/",
          "height": 367
        },
        "id": "UHmpcfepRruB",
        "outputId": "0208cad3-f515-4a89-d9dc-5e25b90ae288"
      },
      "source": [
        "fig, ax = plt.subplots(1,1, figsize=(5,5))\n",
        "ax.plot([1,2,3,4,5,6,7],[1,1,2,3,5,8,13], \n",
        "        marker='s', \n",
        "        linestyle=':', \n",
        "        color='tab:purple'\n",
        "        )\n",
        "ax.plot([1,2,3,4,5,6,7],[0,3,8,6,5,4,1], marker='.', \n",
        "        linestyle='-.', color='#3E1515')\n",
        "ax.set_title('My Random Values')\n",
        "ax.set_xlabel('Order in Sequence')\n",
        "ax.set_ylabel('Value')"
      ],
      "execution_count": 38,
      "outputs": [
        {
          "output_type": "execute_result",
          "data": {
            "text/plain": [
              "Text(0, 0.5, 'Value')"
            ]
          },
          "metadata": {
            "tags": []
          },
          "execution_count": 38
        },
        {
          "output_type": "display_data",
          "data": {
            "image/png": "[encoded data removed]",
            "text/plain": [
              "<Figure size 360x360 with 1 Axes>"
            ]
          },
          "metadata": {
            "tags": [],
            "needs_background": "light"
          }
        }
      ]
    },
    {
      "cell_type": "markdown",
      "metadata": {
        "id": "iIXeTgZ5RruB"
      },
      "source": [
        "If we want to make a *scatter plot* without any lines at all, we set the `linestyle` to an empty string\n",
        "\n",
        "```\n",
        "fig, ax = plt.subplots(1,1, figsize=(5,5))\n",
        "plt.plot([1,2,3,4,5,6,7],[1,1,2,3,5,8,13], marker='*', linestyle='', color='tab:green')\n",
        "ax.set_title('The Fibonacci Sequence')\n",
        "ax.set_xlabel('Order in Sequence')\n",
        "ax.set_ylabel('Value')\n",
        "```"
      ]
    },
    {
      "cell_type": "code",
      "metadata": {
        "colab": {
          "base_uri": "https://localhost:8080/",
          "height": 367
        },
        "id": "vbqbpqPURruC",
        "outputId": "94035da3-1448-4146-d2b1-e70eb089177e"
      },
      "source": [
        "fig, ax = plt.subplots(1,1, figsize=(5,5))\n",
        "plt.plot([1,2,3,4,5,6,7],[1,1,2,3,5,8,13], marker='h', ls='', ms=50,\n",
        "         color='tab:green')\n",
        "ax.set_title('The Fibonacci Sequence')\n",
        "ax.set_xlabel('Order in Sequence')\n",
        "ax.set_ylabel('Value')"
      ],
      "execution_count": 41,
      "outputs": [
        {
          "output_type": "execute_result",
          "data": {
            "text/plain": [
              "Text(0, 0.5, 'Value')"
            ]
          },
          "metadata": {
            "tags": []
          },
          "execution_count": 41
        },
        {
          "output_type": "display_data",
          "data": {
            "image/png": "[encoded data removed]",
            "text/plain": [
              "<Figure size 360x360 with 1 Axes>"
            ]
          },
          "metadata": {
            "tags": [],
            "needs_background": "light"
          }
        }
      ]
    },
    {
      "cell_type": "markdown",
      "metadata": {
        "id": "vX6VDeK5RruC"
      },
      "source": [
        "#### Exercise 2: Choose Lines, Colors, and Markers\n",
        "\n",
        "<ol type=\"a\">\n",
        "  <li>Recreate the \"My Random Values\" plot with a variety of markers, linestyles, and colors.</li>\n",
        "  <li>(Bonus) Can you set the markers and lines to colors belonging to the Tableau 20? Try it with and without the hex values!</li>\n",
        "</ol>\n",
        "\n",
        "\n",
        "Plotting building blocks for Exercise 2:\n",
        "* `marker=''`\n",
        "* `linestyle=''`\n",
        "* `color=''`\n",
        "\n",
        "\n",
        "<img src=\"https://jrnold.github.io/ggthemes/reference/tableau_color_pal-2.png\" width=800>\n",
        "\n",
        "\n",
        "\n",
        "\n",
        "```\n",
        "# Cell for Exercise 2\n",
        "\n",
        "### DO NOT CHANGE BELOW ###\n",
        "x = [1,2,3,4,5,6,7]\n",
        "y1 = [1,1,2,3,5,8,13]\n",
        "y2 = [0,3,8,6,5,4,1]\n",
        "y3 = [10,15,12,9,3,2,1]\n",
        "y4 = [2,4,2,1,2,4,5]\n",
        "fig, ax = plt.subplots(1,1, figsize=(5,5))\n",
        "ax.set_title('My Random Values')\n",
        "ax.set_xlabel('Order in Sequence')\n",
        "ax.set_ylabel('Value')\n",
        "### END OF DO NOT CHANGE ###\n",
        "\n",
        "### change these lines w/ marker, linestyle, color attributes\n",
        "ax.plot(x,y1)\n",
        "ax.plot(x,y2)\n",
        "ax.plot(x,y3)\n",
        "ax.plot(x,y4)\n",
        "```"
      ]
    },
    {
      "cell_type": "code",
      "metadata": {
        "colab": {
          "base_uri": "https://localhost:8080/",
          "height": 639
        },
        "id": "DMpw_O7DRruC",
        "outputId": "8e3ebd5c-4f94-45ce-f37b-144cf28de196"
      },
      "source": [
        "# Cell for Exercise 2\n",
        " \n",
        "### DO NOT CHANGE BELOW ###\n",
        "x = [1,2,3,4,5,6,7]\n",
        "y1 = [1,1,2,3,5,8,13]\n",
        "y2 = [0,3,8,6,5,4,1]\n",
        "y3 = [10,15,12,9,3,2,1]\n",
        "y4 = [2,4,2,1,2,4,5]\n",
        "fig, ax = plt.subplots(1,1, figsize=(10,10))\n",
        "ax.set_title('My Random Values')\n",
        "ax.set_xlabel('Order in Sequence')\n",
        "ax.set_ylabel('Value')\n",
        "### END OF DO NOT CHANGE ###\n",
        " \n",
        "### change these lines w/ marker, linestyle, color attributes\n",
        "ax.plot(x,y1, marker='.', ls=':')\n",
        "ax.plot(x,y2, ls='', ms=34, marker='o')\n",
        "ax.plot(x,y3, ls='-.', marker='s')\n",
        "ax.plot(x,y4, ls='--', ms=24, marker='d')"
      ],
      "execution_count": 50,
      "outputs": [
        {
          "output_type": "execute_result",
          "data": {
            "text/plain": [
              "[<matplotlib.lines.Line2D at 0x7fa72ee7d3d0>]"
            ]
          },
          "metadata": {
            "tags": []
          },
          "execution_count": 50
        },
        {
          "output_type": "display_data",
          "data": {
            "image/png": "[encoded data removed]",
            "text/plain": [
              "<Figure size 720x720 with 1 Axes>"
            ]
          },
          "metadata": {
            "tags": [],
            "needs_background": "light"
          }
        }
      ]
    },
    {
      "cell_type": "markdown",
      "metadata": {
        "id": "YJnGafWrRruC"
      },
      "source": [
        "### 4.1.3 Subplots\n",
        "\n",
        "Remember that `fig, ax = plt.subplots()` satement we used earlier? We're now going to use that same approach but this time, the second variable that is returned (what we call `ax` in the cell bellow) is no longer an `axes` object! Instead, it is an `array` of `axes` objects.\n",
        "\n",
        "I'm also going to introduce another module, **_random_**, to generate some random values\n",
        "\n",
        "```\n",
        "import random\n",
        "fig, ax = plt.subplots(2, 2, figsize=(10,10))\n",
        "ax[0,1].plot(range(10), [random.random() for i in range(10)], \n",
        "             c='tab:orange')\n",
        "ax[1,0].plot(range(10), [random.random() for i in range(10)], \n",
        "             c='tab:green')\n",
        "ax[1,1].plot(range(10), [random.random() for i in range(10)], \n",
        "             c='tab:red')\n",
        "ax[0,0].plot(range(10), [random.random() for i in range(10)],\n",
        "             c='tab:blue')\n",
        "```"
      ]
    },
    {
      "cell_type": "markdown",
      "metadata": {
        "id": "-eF82oqWRruC"
      },
      "source": [
        "**_quick note:_** In the above cell we use something called **_list comprehension_** to quickly populate a list of objects (in this case those objects are floats). We won't dive too deeply into that now, but you can think of list comprehension as a more concise way of writing a `for()` loop. In future cases where list comprehension appears in this notebook I will include code snipets of the corresponding for loop.\n",
        "\n",
        "```\n",
        "import random\n",
        "\n",
        "# this list comprehension\n",
        "print([random.random() for i in range(10)])\n",
        "\n",
        "# produces the same output as this for loop\n",
        "ls = []\n",
        "for i in range(10):\n",
        "  ls.append(random.random())\n",
        "print(ls)\n",
        "```"
      ]
    },
    {
      "cell_type": "code",
      "metadata": {
        "colab": {
          "base_uri": "https://localhost:8080/"
        },
        "id": "22SDS-JcRruC",
        "outputId": "be1bf63e-bc84-4d98-e964-d156e4e83180"
      },
      "source": [
        "import random\n",
        "random.seed(42)\n",
        "\n",
        "# this list comprehension\n",
        "print([random.random() for i in range(10)])\n",
        "\n",
        "random.seed(42)\n",
        "# produces the same output as this for loop\n",
        "ls = []\n",
        "for i in range(10):\n",
        "  ls.append(random.random())\n",
        "print(ls)"
      ],
      "execution_count": 51,
      "outputs": [
        {
          "output_type": "stream",
          "text": [
            "[0.6394267984578837, 0.025010755222666936, 0.27502931836911926, 0.22321073814882275, 0.7364712141640124, 0.6766994874229113, 0.8921795677048454, 0.08693883262941615, 0.4219218196852704, 0.029797219438070344]\n",
            "[0.6394267984578837, 0.025010755222666936, 0.27502931836911926, 0.22321073814882275, 0.7364712141640124, 0.6766994874229113, 0.8921795677048454, 0.08693883262941615, 0.4219218196852704, 0.029797219438070344]\n"
          ],
          "name": "stdout"
        }
      ]
    },
    {
      "cell_type": "markdown",
      "metadata": {
        "id": "VQPzGMg3RruD"
      },
      "source": [
        "The second thing we'll need to talk about is the grid of the ax object"
      ]
    },
    {
      "cell_type": "code",
      "metadata": {
        "colab": {
          "base_uri": "https://localhost:8080/",
          "height": 269
        },
        "id": "dh5bxB4URruD",
        "outputId": "4df3fcab-a6f6-4219-fc89-c56679105260"
      },
      "source": [
        "fig, ax = plt.subplots(2,2)"
      ],
      "execution_count": 56,
      "outputs": [
        {
          "output_type": "display_data",
          "data": {
            "image/png": "[encoded data removed]",
            "text/plain": [
              "<Figure size 432x288 with 4 Axes>"
            ]
          },
          "metadata": {
            "tags": [],
            "needs_background": "light"
          }
        }
      ]
    },
    {
      "cell_type": "code",
      "metadata": {
        "colab": {
          "base_uri": "https://localhost:8080/"
        },
        "id": "4ktT1oXPRruD",
        "outputId": "0694bf6c-0791-449a-b35e-071d5bb5e698"
      },
      "source": [
        "ax.shape"
      ],
      "execution_count": 57,
      "outputs": [
        {
          "output_type": "execute_result",
          "data": {
            "text/plain": [
              "(2, 2)"
            ]
          },
          "metadata": {
            "tags": []
          },
          "execution_count": 57
        }
      ]
    },
    {
      "cell_type": "code",
      "metadata": {
        "colab": {
          "base_uri": "https://localhost:8080/"
        },
        "id": "TjLQtpeeRruD",
        "outputId": "fc7146c7-c0c3-498b-e397-28ea3a47de4b"
      },
      "source": [
        "ax[0,0]"
      ],
      "execution_count": 59,
      "outputs": [
        {
          "output_type": "execute_result",
          "data": {
            "text/plain": [
              "<matplotlib.axes._subplots.AxesSubplot at 0x7fa72ec28a10>"
            ]
          },
          "metadata": {
            "tags": []
          },
          "execution_count": 59
        }
      ]
    },
    {
      "cell_type": "markdown",
      "metadata": {
        "id": "TrPP5qS6RruD"
      },
      "source": [
        "This is exactly like accessing a matrix:\n",
        "\n",
        "`matrix[row,column] = element`\n",
        "\n",
        "we have the pandas equivalent:\n",
        "\n",
        "`df.iloc[0,1] = element`"
      ]
    },
    {
      "cell_type": "code",
      "metadata": {
        "colab": {
          "base_uri": "https://localhost:8080/",
          "height": 613
        },
        "id": "WCR5xqKERruD",
        "outputId": "8f9e9499-6eee-44b8-f094-58e49a140b48"
      },
      "source": [
        "import random\n",
        "fig, ax = plt.subplots(2, 2, figsize=(10,10))\n",
        "ax[0,0].plot(range(10), [random.random() for i in range(10)],\n",
        "             c='tab:blue')\n",
        "ax[0,1].plot(range(10), [random.random() for i in range(10)], \n",
        "             c='tab:orange')\n",
        "ax[1,0].plot(range(10), [random.random() for i in range(10)], \n",
        "             c='tab:green')\n",
        "ax[1,1].plot(range(10), [random.random() for i in range(10)], \n",
        "             c='tab:red')"
      ],
      "execution_count": 60,
      "outputs": [
        {
          "output_type": "execute_result",
          "data": {
            "text/plain": [
              "[<matplotlib.lines.Line2D at 0x7fa72e824ed0>]"
            ]
          },
          "metadata": {
            "tags": []
          },
          "execution_count": 60
        },
        {
          "output_type": "display_data",
          "data": {
            "image/png": "[encoded data removed]",
            "text/plain": [
              "<Figure size 720x720 with 4 Axes>"
            ]
          },
          "metadata": {
            "tags": [],
            "needs_background": "light"
          }
        }
      ]
    },
    {
      "cell_type": "markdown",
      "metadata": {
        "id": "Zm-J3GC0RruE"
      },
      "source": [
        "#### Exercise 3: Subplots\n",
        "\n",
        "<ol type=\"a\">\n",
        "  <li>Create a 2x1 <code>figure</code> where the first <code>axes</code> is a plot of the fibonacci sequence up to the 10th sequence value and the second <code>axes</code> is a plot of 10 random integers with values between 10 and 20 (exclusive). Use different markers, colors, and lines for each plot.</li>\n",
        "  <li>Since the focus of this tutorial is on visualization, I'll go ahead and provide my own code for generating random integers between 10 and 20 (exclusive). If you have extra time, prove to yourself that this code works!</li>\n",
        "<li>(remember docstrings are your friend!)</li>\n",
        "</ol>\n",
        "\n",
        "\n",
        "```\n",
        "import random\n",
        "[round(random.random() * 8) + 11 for i in range(10)]\n",
        "```\n",
        "\n",
        "---\n",
        "\n",
        "```\n",
        "# Cell for Exercise 3\n",
        "\n",
        "### DO NOT CHANGE ###\n",
        "\n",
        "import random\n",
        "\n",
        "# create the fig, ax objects\n",
        "fig, ax = plt.subplots(1, 2, figsize=(10, 5))\n",
        "\n",
        "# generate x, y1, and y2\n",
        "x = [1, 2, 3, 4, 5, 6, 7, 8, 9, 10]\n",
        "y1 = [1, 1, 2, 3, 5, 8, 13, 21, 34, 55]\n",
        "y2 = [round(random.random() * 8) + 11 for i in range(10)]\n",
        "\n",
        "### END OF DO NOT CHANGE ###\n",
        "\n",
        "# Note: no skeleton code here is given for the figure, I want you to write this \n",
        "# code out yourself. Here is pseudo-code to get you started:\n",
        "\n",
        "# plot the left axes, set the title and axes labels\n",
        "# title: Fibonacci Sequence; xlabel: x values; ylabel: y values\n",
        "\n",
        "### YOUR CODE HERE ###\n",
        "\n",
        "# plot the right axes, set the title and axes labels\n",
        "# title: My Random Values; xlabel: x values; ylabel: y values\n",
        "\n",
        "### YOUR CODE HERE ###\n",
        "```"
      ]
    },
    {
      "cell_type": "code",
      "metadata": {
        "colab": {
          "base_uri": "https://localhost:8080/",
          "height": 367
        },
        "id": "qosvLQHaRruE",
        "outputId": "1adba8ed-7631-48ba-aeea-02a5d0d53b79"
      },
      "source": [
        "# Cell for Exercise 3\n",
        " \n",
        "### DO NOT CHANGE ###\n",
        " \n",
        "import random\n",
        " \n",
        "# create the fig, ax objects\n",
        "fig, ax = plt.subplots(1, 2, figsize=(10, 5))\n",
        " \n",
        "# generate x, y1, and y2\n",
        "x = [1, 2, 3, 4, 5, 6, 7, 8, 9, 10]\n",
        "y1 = [1, 1, 2, 3, 5, 8, 13, 21, 34, 55]\n",
        "y2 = [round(random.random() * 8) + 11 for i in range(10)]\n",
        " \n",
        "### END OF DO NOT CHANGE ###\n",
        " \n",
        "# Note: no skeleton code here is given for the figure, I want you to write this \n",
        "# code out yourself. Here is pseudo-code to get you started:\n",
        " \n",
        "# plot the left axes, set the title and axes labels\n",
        "# title: Fibonacci Sequence; xlabel: x values; ylabel: y values\n",
        "ax[0].plot(x, y1)\n",
        "ax[0].set_title(\"Fibonacci Sequence\")\n",
        "ax[0].set_xlabel(\"x values\")\n",
        "ax[0].set_ylabel(\"y values\")\n",
        " \n",
        "### YOUR CODE HERE ###\n",
        " \n",
        "# plot the right axes, set the title and axes labels\n",
        "# title: My Random Values; xlabel: x values; ylabel: y values\n",
        "ax[1].plot(x, y2, c='tab:orange')\n",
        "ax[1].set_title(\"My Random Values\")\n",
        "ax[1].set_xlabel(\"x values\")\n",
        "ax[1].set_ylabel(\"y values\")\n",
        " \n",
        "### YOUR CODE HERE ###"
      ],
      "execution_count": 70,
      "outputs": [
        {
          "output_type": "execute_result",
          "data": {
            "text/plain": [
              "Text(0, 0.5, 'y values')"
            ]
          },
          "metadata": {
            "tags": []
          },
          "execution_count": 70
        },
        {
          "output_type": "display_data",
          "data": {
            "image/png": "[encoded data removed]",
            "text/plain": [
              "<Figure size 720x360 with 2 Axes>"
            ]
          },
          "metadata": {
            "tags": [],
            "needs_background": "light"
          }
        }
      ]
    },
    {
      "cell_type": "markdown",
      "metadata": {
        "id": "zmGGUTwxRruE"
      },
      "source": [
        "## 4.2 Visualization with Pandas\n",
        "\n",
        "Now lets discover the power of `pandas` plots! While the objectives of the exercizes may be to make certain visualizations, throughout our experience we'll be using `pandas` tricks to create the data splices we need, so in the following is a mix of new plotting stuff, with pandas data selection/splicing stuff. \n",
        "\n",
        "We're also going to import a new module called `seaborn`. It is another plotting library based off `matplotlib`. We're going to use it to pull some stylistic features.\n",
        "\n",
        "```\n",
        "import pandas as pd\n",
        "import matplotlib.pyplot as plt\n",
        "import seaborn as sns\n",
        "from sklearn.datasets import load_boston\n",
        "```"
      ]
    },
    {
      "cell_type": "code",
      "metadata": {
        "id": "r3SbShoZRruE"
      },
      "source": [
        "import pandas as pd\n",
        "import matplotlib.pyplot as plt\n",
        "import seaborn as sns\n",
        "from ipywidgets import interact"
      ],
      "execution_count": 71,
      "outputs": []
    },
    {
      "cell_type": "markdown",
      "metadata": {
        "id": "dXg3bnxVRruE"
      },
      "source": [
        "The following few cells should look familiar from last tutorial session, we're going to use some essential `pandas` methods to get a general sense of what our dataset looks like\n",
        "\n",
        "> There are many ways to construct a dataframe, as an exercise, you might think of other ways to perform that task here.\n",
        "\n",
        "```\n",
        "df = pd.read_csv(\"https://raw.githubusercontent.com/wesleybeckner/ds_for_engineers/main/data/wine_quality/winequalityN.csv\")\n",
        "df.describe()\n",
        "```"
      ]
    },
    {
      "cell_type": "code",
      "metadata": {
        "colab": {
          "base_uri": "https://localhost:8080/"
        },
        "id": "Wo9LON75RruE",
        "outputId": "314b5e7c-927a-49c2-bcbe-6eedd4ce4630"
      },
      "source": [
        "# In your subsequent time with pandas you'll discover that there are a host of\n",
        "# ways to populate a dataframe. In the following, I can create a dataframe\n",
        "# simply by using read_csv because the data is formated in a way that \n",
        "# pandas can easily intuit.\n",
        "\n",
        "df = pd.read_csv(\"https://raw.githubusercontent.com/wesleybeckner/\"\\\n",
        "  \"technology_explorers/main/assets/imdb_movies.csv\")"
      ],
      "execution_count": 72,
      "outputs": [
        {
          "output_type": "stream",
          "text": [
            "/usr/local/lib/python3.7/dist-packages/IPython/core/interactiveshell.py:2718: DtypeWarning: Columns (3) have mixed types.Specify dtype option on import or set low_memory=False.\n",
            "  interactivity=interactivity, compiler=compiler, result=result)\n"
          ],
          "name": "stderr"
        }
      ]
    },
    {
      "cell_type": "code",
      "metadata": {
        "colab": {
          "base_uri": "https://localhost:8080/"
        },
        "id": "IM5LXfq1RruI",
        "outputId": "7edb986f-25b2-456d-cbb3-8459af822683"
      },
      "source": [
        "# we check the shape of our data to see if its as we expect \n",
        "df.shape"
      ],
      "execution_count": 73,
      "outputs": [
        {
          "output_type": "execute_result",
          "data": {
            "text/plain": [
              "(85855, 22)"
            ]
          },
          "metadata": {
            "tags": []
          },
          "execution_count": 73
        }
      ]
    },
    {
      "cell_type": "code",
      "metadata": {
        "colab": {
          "base_uri": "https://localhost:8080/"
        },
        "id": "d4uA8-nLRruJ",
        "outputId": "0d3e9110-3142-4b39-f847-4ff98206c192"
      },
      "source": [
        "# we check the column names\n",
        "df.columns"
      ],
      "execution_count": 74,
      "outputs": [
        {
          "output_type": "execute_result",
          "data": {
            "text/plain": [
              "Index(['imdb_title_id', 'title', 'original_title', 'year', 'date_published',\n",
              "       'genre', 'duration', 'country', 'language', 'director', 'writer',\n",
              "       'production_company', 'actors', 'description', 'avg_vote', 'votes',\n",
              "       'budget', 'usa_gross_income', 'worlwide_gross_income', 'metascore',\n",
              "       'reviews_from_users', 'reviews_from_critics'],\n",
              "      dtype='object')"
            ]
          },
          "metadata": {
            "tags": []
          },
          "execution_count": 74
        }
      ]
    },
    {
      "cell_type": "markdown",
      "metadata": {
        "id": "GbhVzYE6RruJ"
      },
      "source": [
        "Lets start by looking at basic description of our data. This gives us a sense of what visualizations we can employ to begin understanding our dataset."
      ]
    },
    {
      "cell_type": "code",
      "metadata": {
        "colab": {
          "base_uri": "https://localhost:8080/",
          "height": 299
        },
        "id": "3VyMBGjURruJ",
        "outputId": "8c05d27b-1bb2-4091-c6a1-9068e8a22d1a"
      },
      "source": [
        "df.describe()"
      ],
      "execution_count": 76,
      "outputs": [
        {
          "output_type": "execute_result",
          "data": {
            "text/html": [
              "<div>\n",
              "<style scoped>\n",
              "    .dataframe tbody tr th:only-of-type {\n",
              "        vertical-align: middle;\n",
              "    }\n",
              "\n",
              "    .dataframe tbody tr th {\n",
              "        vertical-align: top;\n",
              "    }\n",
              "\n",
              "    .dataframe thead th {\n",
              "        text-align: right;\n",
              "    }\n",
              "</style>\n",
              "<table border=\"1\" class=\"dataframe\">\n",
              "  <thead>\n",
              "    <tr style=\"text-align: right;\">\n",
              "      <th></th>\n",
              "      <th>duration</th>\n",
              "      <th>avg_vote</th>\n",
              "      <th>votes</th>\n",
              "      <th>metascore</th>\n",
              "      <th>reviews_from_users</th>\n",
              "      <th>reviews_from_critics</th>\n",
              "    </tr>\n",
              "  </thead>\n",
              "  <tbody>\n",
              "    <tr>\n",
              "      <th>count</th>\n",
              "      <td>85855.000000</td>\n",
              "      <td>85855.000000</td>\n",
              "      <td>8.585500e+04</td>\n",
              "      <td>13305.000000</td>\n",
              "      <td>78258.000000</td>\n",
              "      <td>74058.000000</td>\n",
              "    </tr>\n",
              "    <tr>\n",
              "      <th>mean</th>\n",
              "      <td>100.351418</td>\n",
              "      <td>5.898656</td>\n",
              "      <td>9.493490e+03</td>\n",
              "      <td>55.896881</td>\n",
              "      <td>46.040826</td>\n",
              "      <td>27.479989</td>\n",
              "    </tr>\n",
              "    <tr>\n",
              "      <th>std</th>\n",
              "      <td>22.553848</td>\n",
              "      <td>1.234987</td>\n",
              "      <td>5.357436e+04</td>\n",
              "      <td>17.784874</td>\n",
              "      <td>178.511411</td>\n",
              "      <td>58.339158</td>\n",
              "    </tr>\n",
              "    <tr>\n",
              "      <th>min</th>\n",
              "      <td>41.000000</td>\n",
              "      <td>1.000000</td>\n",
              "      <td>9.900000e+01</td>\n",
              "      <td>1.000000</td>\n",
              "      <td>1.000000</td>\n",
              "      <td>1.000000</td>\n",
              "    </tr>\n",
              "    <tr>\n",
              "      <th>25%</th>\n",
              "      <td>88.000000</td>\n",
              "      <td>5.200000</td>\n",
              "      <td>2.050000e+02</td>\n",
              "      <td>43.000000</td>\n",
              "      <td>4.000000</td>\n",
              "      <td>3.000000</td>\n",
              "    </tr>\n",
              "    <tr>\n",
              "      <th>50%</th>\n",
              "      <td>96.000000</td>\n",
              "      <td>6.100000</td>\n",
              "      <td>4.840000e+02</td>\n",
              "      <td>57.000000</td>\n",
              "      <td>9.000000</td>\n",
              "      <td>8.000000</td>\n",
              "    </tr>\n",
              "    <tr>\n",
              "      <th>75%</th>\n",
              "      <td>108.000000</td>\n",
              "      <td>6.800000</td>\n",
              "      <td>1.766500e+03</td>\n",
              "      <td>69.000000</td>\n",
              "      <td>27.000000</td>\n",
              "      <td>23.000000</td>\n",
              "    </tr>\n",
              "    <tr>\n",
              "      <th>max</th>\n",
              "      <td>808.000000</td>\n",
              "      <td>9.900000</td>\n",
              "      <td>2.278845e+06</td>\n",
              "      <td>100.000000</td>\n",
              "      <td>10472.000000</td>\n",
              "      <td>999.000000</td>\n",
              "    </tr>\n",
              "  </tbody>\n",
              "</table>\n",
              "</div>"
            ],
            "text/plain": [
              "           duration      avg_vote  ...  reviews_from_users  reviews_from_critics\n",
              "count  85855.000000  85855.000000  ...        78258.000000          74058.000000\n",
              "mean     100.351418      5.898656  ...           46.040826             27.479989\n",
              "std       22.553848      1.234987  ...          178.511411             58.339158\n",
              "min       41.000000      1.000000  ...            1.000000              1.000000\n",
              "25%       88.000000      5.200000  ...            4.000000              3.000000\n",
              "50%       96.000000      6.100000  ...            9.000000              8.000000\n",
              "75%      108.000000      6.800000  ...           27.000000             23.000000\n",
              "max      808.000000      9.900000  ...        10472.000000            999.000000\n",
              "\n",
              "[8 rows x 6 columns]"
            ]
          },
          "metadata": {
            "tags": []
          },
          "execution_count": 76
        }
      ]
    },
    {
      "cell_type": "code",
      "metadata": {
        "colab": {
          "base_uri": "https://localhost:8080/",
          "height": 297
        },
        "id": "T_-KUijUQQsG",
        "outputId": "18e46232-4bfd-483b-f36d-df0bd29b7f5e"
      },
      "source": [
        "df.loc[:, df.dtypes == object].describe()"
      ],
      "execution_count": null,
      "outputs": [
        {
          "output_type": "execute_result",
          "data": {
            "text/html": [
              "<div>\n",
              "<style scoped>\n",
              "    .dataframe tbody tr th:only-of-type {\n",
              "        vertical-align: middle;\n",
              "    }\n",
              "\n",
              "    .dataframe tbody tr th {\n",
              "        vertical-align: top;\n",
              "    }\n",
              "\n",
              "    .dataframe thead th {\n",
              "        text-align: right;\n",
              "    }\n",
              "</style>\n",
              "<table border=\"1\" class=\"dataframe\">\n",
              "  <thead>\n",
              "    <tr style=\"text-align: right;\">\n",
              "      <th></th>\n",
              "      <th>imdb_title_id</th>\n",
              "      <th>title</th>\n",
              "      <th>original_title</th>\n",
              "      <th>year</th>\n",
              "      <th>date_published</th>\n",
              "      <th>genre</th>\n",
              "      <th>country</th>\n",
              "      <th>language</th>\n",
              "      <th>director</th>\n",
              "      <th>writer</th>\n",
              "      <th>production_company</th>\n",
              "      <th>actors</th>\n",
              "      <th>description</th>\n",
              "      <th>budget</th>\n",
              "      <th>usa_gross_income</th>\n",
              "      <th>worlwide_gross_income</th>\n",
              "    </tr>\n",
              "  </thead>\n",
              "  <tbody>\n",
              "    <tr>\n",
              "      <th>count</th>\n",
              "      <td>85855</td>\n",
              "      <td>85855</td>\n",
              "      <td>85855</td>\n",
              "      <td>85855</td>\n",
              "      <td>85855</td>\n",
              "      <td>85855</td>\n",
              "      <td>85791</td>\n",
              "      <td>85022</td>\n",
              "      <td>85768</td>\n",
              "      <td>84283</td>\n",
              "      <td>81400</td>\n",
              "      <td>85786</td>\n",
              "      <td>83740</td>\n",
              "      <td>23710</td>\n",
              "      <td>15326</td>\n",
              "      <td>31016</td>\n",
              "    </tr>\n",
              "    <tr>\n",
              "      <th>unique</th>\n",
              "      <td>85855</td>\n",
              "      <td>82094</td>\n",
              "      <td>80852</td>\n",
              "      <td>168</td>\n",
              "      <td>22012</td>\n",
              "      <td>1257</td>\n",
              "      <td>4907</td>\n",
              "      <td>4377</td>\n",
              "      <td>34733</td>\n",
              "      <td>66859</td>\n",
              "      <td>32050</td>\n",
              "      <td>85729</td>\n",
              "      <td>83611</td>\n",
              "      <td>4642</td>\n",
              "      <td>14857</td>\n",
              "      <td>30414</td>\n",
              "    </tr>\n",
              "    <tr>\n",
              "      <th>top</th>\n",
              "      <td>tt0131549</td>\n",
              "      <td>Anna</td>\n",
              "      <td>Anna</td>\n",
              "      <td>2017</td>\n",
              "      <td>2010</td>\n",
              "      <td>Drama</td>\n",
              "      <td>USA</td>\n",
              "      <td>English</td>\n",
              "      <td>Jesús Franco</td>\n",
              "      <td>Jing Wong</td>\n",
              "      <td>Metro-Goldwyn-Mayer (MGM)</td>\n",
              "      <td>Nobuyo Ôyama, Noriko Ohara, Michiko Nomura, Ka...</td>\n",
              "      <td>The story of</td>\n",
              "      <td>$ 1000000</td>\n",
              "      <td>$ 1000000</td>\n",
              "      <td>$ 8144</td>\n",
              "    </tr>\n",
              "    <tr>\n",
              "      <th>freq</th>\n",
              "      <td>1</td>\n",
              "      <td>10</td>\n",
              "      <td>10</td>\n",
              "      <td>3223</td>\n",
              "      <td>113</td>\n",
              "      <td>12543</td>\n",
              "      <td>28511</td>\n",
              "      <td>35939</td>\n",
              "      <td>87</td>\n",
              "      <td>84</td>\n",
              "      <td>1284</td>\n",
              "      <td>9</td>\n",
              "      <td>15</td>\n",
              "      <td>758</td>\n",
              "      <td>19</td>\n",
              "      <td>15</td>\n",
              "    </tr>\n",
              "  </tbody>\n",
              "</table>\n",
              "</div>"
            ],
            "text/plain": [
              "       imdb_title_id  title  ... usa_gross_income worlwide_gross_income\n",
              "count          85855  85855  ...            15326                 31016\n",
              "unique         85855  82094  ...            14857                 30414\n",
              "top        tt0131549   Anna  ...        $ 1000000                $ 8144\n",
              "freq               1     10  ...               19                    15\n",
              "\n",
              "[4 rows x 16 columns]"
            ]
          },
          "metadata": {
            "tags": []
          },
          "execution_count": 35
        }
      ]
    },
    {
      "cell_type": "markdown",
      "metadata": {
        "id": "hmyO0FonRruJ"
      },
      "source": [
        "The first thing we notice is that all the data is numerical that we can pull standard statistical information from (mean, std, max, etc.)\n",
        "\n",
        "What kind of visualizations do you think of with data like this?\n",
        "\n",
        "I tend to think of **scatter, box, and histogram** plots for numerical data and **bar or sunburst charts** for categorical data."
      ]
    },
    {
      "cell_type": "markdown",
      "metadata": {
        "id": "YSegAbVsRruK"
      },
      "source": [
        "### 4.2.1 Scatter Plots\n",
        "\n",
        "The way to generate a plot in the fewest keystrokes is to simply call the `plot()` method within the `dataframe` object\n",
        "\n",
        "```\n",
        "df.plot()\n",
        "```"
      ]
    },
    {
      "cell_type": "code",
      "metadata": {
        "colab": {
          "base_uri": "https://localhost:8080/",
          "height": 293
        },
        "id": "iKN6sUKmRruK",
        "outputId": "7d112a4e-6f60-4aff-fb7e-2dbb7719e764"
      },
      "source": [
        "# the simplest plot we can make is the following so let's start here. \n",
        "# We can generate a figure simply by using the plot() method of our dataframe\n",
        "# object.\n",
        "\n",
        "df.plot()"
      ],
      "execution_count": 77,
      "outputs": [
        {
          "output_type": "execute_result",
          "data": {
            "text/plain": [
              "<matplotlib.axes._subplots.AxesSubplot at 0x7fa71b266250>"
            ]
          },
          "metadata": {
            "tags": []
          },
          "execution_count": 77
        },
        {
          "output_type": "display_data",
          "data": {
            "image/png": "[encoded data removed]",
            "text/plain": [
              "<Figure size 432x288 with 1 Axes>"
            ]
          },
          "metadata": {
            "tags": [],
            "needs_background": "light"
          }
        }
      ]
    },
    {
      "cell_type": "markdown",
      "metadata": {
        "id": "VmQ9XdSfRruK"
      },
      "source": [
        "This gives us a raw view of the data, but here I'd like to introduce some standard plotting steps: recall the `fig`, `ax` format we used previously.\n",
        "\n",
        "```\n",
        "fig, ax = plt.subplots(1, 1, figsize = (10, 5))\n",
        "df.plot(ax=ax)\n",
        "```"
      ]
    },
    {
      "cell_type": "code",
      "metadata": {
        "colab": {
          "base_uri": "https://localhost:8080/",
          "height": 485
        },
        "id": "lXtogfCVRruK",
        "outputId": "ec29cb98-f918-475d-9562-b1a785ffcecc"
      },
      "source": [
        "fig, taco = plt.subplots(1, 1, figsize = (15, 7.5))\n",
        "df.plot(ax=taco)"
      ],
      "execution_count": 80,
      "outputs": [
        {
          "output_type": "execute_result",
          "data": {
            "text/plain": [
              "<matplotlib.axes._subplots.AxesSubplot at 0x7fa71b05bc50>"
            ]
          },
          "metadata": {
            "tags": []
          },
          "execution_count": 80
        },
        {
          "output_type": "display_data",
          "data": {
            "image/png": "[encoded data removed]",
            "text/plain": [
              "<Figure size 1080x540 with 1 Axes>"
            ]
          },
          "metadata": {
            "tags": [],
            "needs_background": "light"
          }
        }
      ]
    },
    {
      "cell_type": "markdown",
      "metadata": {
        "id": "XsibzE6ZRruK"
      },
      "source": [
        "To make this into a scatter plot, we set the linestyle (or ls) to an empty string, and select a marker type.\n",
        "\n",
        "```\n",
        "fig, ax = plt.subplots(1, 1, figsize = (10, 5))\n",
        "df.plot(ax=ax, linestyle='', marker='.')\n",
        "```"
      ]
    },
    {
      "cell_type": "code",
      "metadata": {
        "colab": {
          "base_uri": "https://localhost:8080/",
          "height": 349
        },
        "id": "kflw8jCMRruK",
        "outputId": "a9fab934-24fd-4dd9-b26e-60c7a82114f1"
      },
      "source": [
        "fig, ax = plt.subplots(1, 1, figsize = (10, 5))\n",
        "df.plot(ax=ax, ls='', marker='.', ms=2)"
      ],
      "execution_count": 81,
      "outputs": [
        {
          "output_type": "execute_result",
          "data": {
            "text/plain": [
              "<matplotlib.axes._subplots.AxesSubplot at 0x7fa71afe6b50>"
            ]
          },
          "metadata": {
            "tags": []
          },
          "execution_count": 81
        },
        {
          "output_type": "display_data",
          "data": {
            "image/png": "[encoded data removed]",
            "text/plain": [
              "<Figure size 720x360 with 1 Axes>"
            ]
          },
          "metadata": {
            "tags": [],
            "needs_background": "light"
          }
        }
      ]
    },
    {
      "cell_type": "markdown",
      "metadata": {
        "id": "JOQcKb41RruL"
      },
      "source": [
        "#### Exercise 4: Scatter Plots with Pandas\n",
        "\n",
        "Make a plot of duration vs metascore"
      ]
    },
    {
      "cell_type": "code",
      "metadata": {
        "colab": {
          "base_uri": "https://localhost:8080/",
          "height": 351
        },
        "id": "4UdhJJ46rwex",
        "outputId": "5bd2bbe8-cffa-4168-b45f-77c51f8e19d1"
      },
      "source": [
        "fig, ax = plt.subplots(figsize=(10,5))\n",
        "df.plot(x='duration', y='metascore', ls='', marker='.', ax=ax, \n",
        "        alpha=0.3, ms=4)"
      ],
      "execution_count": 92,
      "outputs": [
        {
          "output_type": "execute_result",
          "data": {
            "text/plain": [
              "<matplotlib.axes._subplots.AxesSubplot at 0x7fa71aa1d2d0>"
            ]
          },
          "metadata": {
            "tags": []
          },
          "execution_count": 92
        },
        {
          "output_type": "display_data",
          "data": {
            "image/png": "[encoded data removed]",
            "text/plain": [
              "<Figure size 720x360 with 1 Axes>"
            ]
          },
          "metadata": {
            "tags": [],
            "needs_background": "light"
          }
        }
      ]
    },
    {
      "cell_type": "markdown",
      "metadata": {
        "id": "dcB7l1WgRruL"
      },
      "source": [
        "### 4.2.2 Bar Plots\n",
        "\n",
        "One of the more common methods of depicting aggregate data is bar plots. We almost always see these kinds of plots used to display and compare between averages, but sometimes between singular data values as well.\n",
        "\n",
        "```\n",
        "fig, ax = plt.subplots(1, 1, figsize=(10,7.5))\n",
        "\n",
        "df.groupby('country').filter(lambda x: x.shape[0] > 100).\\\n",
        "   groupby('country')['duration'].mean().sort_values()\\\n",
        "   [-20:].plot(kind='barh', ax=ax)\n",
        "```"
      ]
    },
    {
      "cell_type": "code",
      "metadata": {
        "colab": {
          "base_uri": "https://localhost:8080/",
          "height": 473
        },
        "id": "AubAgr31SfE0",
        "outputId": "df212314-2c83-4390-b6c5-fa240e9f44df"
      },
      "source": [
        "fig, ax = plt.subplots(1, 1, figsize=(10,7.5))\n",
        "\n",
        "df.groupby('country').filter(lambda x: x.shape[0] > 100).\\\n",
        "   groupby('country')['duration'].mean().sort_values()\\\n",
        "   [-20:].plot(kind='barh', ax=ax)"
      ],
      "execution_count": null,
      "outputs": [
        {
          "output_type": "execute_result",
          "data": {
            "text/plain": [
              "<matplotlib.axes._subplots.AxesSubplot at 0x7fcd08681210>"
            ]
          },
          "metadata": {
            "tags": []
          },
          "execution_count": 74
        },
        {
          "output_type": "display_data",
          "data": {
            "image/png": "[encoded data removed]",
            "text/plain": [
              "<Figure size 720x540 with 1 Axes>"
            ]
          },
          "metadata": {
            "tags": [],
            "needs_background": "light"
          }
        }
      ]
    },
    {
      "cell_type": "markdown",
      "metadata": {
        "id": "tsOhSa4xRruL"
      },
      "source": [
        "### 4.2.3 Box Plots\n",
        "\n",
        "Maybe we thought it was usefull to see the raw data in the scatter plots ( we can visually scan for correlations between feature sets, check outliers, etc.) but perhaps more instructive, is a boxplot. A box plot or boxplot is a statistical method for graphically depicting aggregate data through their quartiles. It will be useful to inspect the [boxplot API](https://pandas.pydata.org/pandas-docs/stable/reference/api/pandas.DataFrame.boxplot.html) to see the default behavior for representing the quartiles and outliers. \n",
        "\n",
        "```\n",
        "fig, ax = plt.subplots(1, 1, figsize = (10, 5))\n",
        "df.plot(kind='box', ax=ax)\n",
        "```"
      ]
    },
    {
      "cell_type": "code",
      "metadata": {
        "colab": {
          "base_uri": "https://localhost:8080/",
          "height": 654
        },
        "id": "O8_dMomnWOEJ",
        "outputId": "80183394-e2aa-4dee-c236-d6ef26bdda2f"
      },
      "source": [
        "fig, ax = plt.subplots(1, 1, figsize=(10,7.5))\n",
        "df.groupby('country').filter((lambda x: (x.shape[0] > 100) & # filter by number of datapoints\n",
        "                              (x['duration'].mean() < 100)) # filter by average movie time\n",
        "                         ).boxplot(by='country', column='duration', rot=90, ax=ax)"
      ],
      "execution_count": null,
      "outputs": [
        {
          "output_type": "stream",
          "text": [
            "/usr/local/lib/python3.7/dist-packages/numpy/core/_asarray.py:83: VisibleDeprecationWarning: Creating an ndarray from ragged nested sequences (which is a list-or-tuple of lists-or-tuples-or ndarrays with different lengths or shapes) is deprecated. If you meant to do this, you must specify 'dtype=object' when creating the ndarray\n",
            "  return array(a, dtype, copy=False, order=order)\n"
          ],
          "name": "stderr"
        },
        {
          "output_type": "execute_result",
          "data": {
            "text/plain": [
              "<matplotlib.axes._subplots.AxesSubplot at 0x7fcd04c5d9d0>"
            ]
          },
          "metadata": {
            "tags": []
          },
          "execution_count": 99
        },
        {
          "output_type": "display_data",
          "data": {
            "image/png": "[encoded data removed]",
            "text/plain": [
              "<Figure size 720x540 with 1 Axes>"
            ]
          },
          "metadata": {
            "tags": [],
            "needs_background": "light"
          }
        }
      ]
    },
    {
      "cell_type": "markdown",
      "metadata": {
        "id": "W1sSn8E0RruM"
      },
      "source": [
        "### 4.2.4 Histograms\n",
        "\n",
        "What are some other kinds of plots we can make? A good one to be aware of is the histogram. \n",
        "\n",
        "```\n",
        "plt.title('Demo Hist')\n",
        "plt.xlabel('Duration')\n",
        "plt.ylabel('Frequency')\n",
        "plt.hist(df['duration'])\n",
        "```"
      ]
    },
    {
      "cell_type": "code",
      "metadata": {
        "colab": {
          "base_uri": "https://localhost:8080/",
          "height": 559
        },
        "id": "VEEmRfo0RruM",
        "outputId": "e14a6bd6-7d6c-4fbe-9c72-98b1cd4d64de"
      },
      "source": [
        "plt.title('Demo Hist')\n",
        "plt.xlabel('Duration')\n",
        "plt.ylabel('Frequency')\n",
        "plt.hist(df['duration'], bins=40)"
      ],
      "execution_count": 97,
      "outputs": [
        {
          "output_type": "execute_result",
          "data": {
            "text/plain": [
              "(array([9.8700e+02, 6.9340e+03, 4.0501e+04, 2.3946e+04, 7.7550e+03,\n",
              "        3.6460e+03, 1.4110e+03, 3.8500e+02, 1.1100e+02, 5.6000e+01,\n",
              "        3.0000e+01, 3.1000e+01, 1.2000e+01, 1.5000e+01, 8.0000e+00,\n",
              "        5.0000e+00, 5.0000e+00, 1.0000e+00, 1.0000e+00, 4.0000e+00,\n",
              "        2.0000e+00, 1.0000e+00, 0.0000e+00, 1.0000e+00, 0.0000e+00,\n",
              "        0.0000e+00, 3.0000e+00, 1.0000e+00, 1.0000e+00, 0.0000e+00,\n",
              "        0.0000e+00, 0.0000e+00, 0.0000e+00, 0.0000e+00, 0.0000e+00,\n",
              "        1.0000e+00, 0.0000e+00, 0.0000e+00, 0.0000e+00, 1.0000e+00]),\n",
              " array([ 41.   ,  60.175,  79.35 ,  98.525, 117.7  , 136.875, 156.05 ,\n",
              "        175.225, 194.4  , 213.575, 232.75 , 251.925, 271.1  , 290.275,\n",
              "        309.45 , 328.625, 347.8  , 366.975, 386.15 , 405.325, 424.5  ,\n",
              "        443.675, 462.85 , 482.025, 501.2  , 520.375, 539.55 , 558.725,\n",
              "        577.9  , 597.075, 616.25 , 635.425, 654.6  , 673.775, 692.95 ,\n",
              "        712.125, 731.3  , 750.475, 769.65 , 788.825, 808.   ]),\n",
              " <a list of 40 Patch objects>)"
            ]
          },
          "metadata": {
            "tags": []
          },
          "execution_count": 97
        },
        {
          "output_type": "display_data",
          "data": {
            "image/png": "[encoded data removed]",
            "text/plain": [
              "<Figure size 432x288 with 1 Axes>"
            ]
          },
          "metadata": {
            "tags": [],
            "needs_background": "light"
          }
        }
      ]
    },
    {
      "cell_type": "code",
      "metadata": {
        "colab": {
          "base_uri": "https://localhost:8080/",
          "height": 283
        },
        "id": "7eAYhHGCRruM",
        "outputId": "465485ef-ea72-43de-9f78-2b6ad5c91e14"
      },
      "source": [
        "df['duration'].plot(kind='hist', bins=100)"
      ],
      "execution_count": 99,
      "outputs": [
        {
          "output_type": "execute_result",
          "data": {
            "text/plain": [
              "<matplotlib.axes._subplots.AxesSubplot at 0x7fa71a774d90>"
            ]
          },
          "metadata": {
            "tags": []
          },
          "execution_count": 99
        },
        {
          "output_type": "display_data",
          "data": {
            "image/png": "[encoded data removed]",
            "text/plain": [
              "<Figure size 432x288 with 1 Axes>"
            ]
          },
          "metadata": {
            "tags": [],
            "needs_background": "light"
          }
        }
      ]
    },
    {
      "cell_type": "markdown",
      "metadata": {
        "id": "DenSIP11RruM"
      },
      "source": [
        "### 4.2.5 Kernel Density Estimates\n",
        "\n",
        "Another useful plot type for data analysis is the kernel density estimate. You can think of this plot as exactly like a histogram, except instead of creating bins in which to accrue datapoints, you deposit a gaussian distribution around every datapoint in your dataset. By this mechanism, you avoid creating bias in your data summary as you otherwise would be when pre-defining bin sizes and locations in a histogram."
      ]
    },
    {
      "cell_type": "code",
      "metadata": {
        "colab": {
          "base_uri": "https://localhost:8080/",
          "height": 337
        },
        "id": "wfsTxw3iRruM",
        "outputId": "74427a3a-604a-4e3f-9568-6bbcf2b0bf66"
      },
      "source": [
        "fig, ax = plt.subplots(1, 1, figsize = (10, 5))\n",
        "df['duration'].plot(kind='kde', ax=ax)\n",
        "ax.set_xlim(min(df['duration']), max(df['duration']))"
      ],
      "execution_count": 102,
      "outputs": [
        {
          "output_type": "execute_result",
          "data": {
            "text/plain": [
              "(41.0, 808.0)"
            ]
          },
          "metadata": {
            "tags": []
          },
          "execution_count": 102
        },
        {
          "output_type": "display_data",
          "data": {
            "image/png": "[encoded data removed]",
            "text/plain": [
              "<Figure size 720x360 with 1 Axes>"
            ]
          },
          "metadata": {
            "tags": [],
            "needs_background": "light"
          }
        }
      ]
    },
    {
      "cell_type": "markdown",
      "metadata": {
        "id": "-EVKWXj3RruM"
      },
      "source": [
        "#### 4.2.5.1 **Enrichment**: Skew and Tailedness\n",
        "\n",
        "While we're on the topic of KDEs/histograms and other statistical plots, this is a convenient time to talk about skew and tailedness or, otherwise known as kurtosis\n",
        "\n",
        "* `df.skew()` indicates the skewdness of the data\n",
        "* `df.kurtosis()` indicates the tailedness of the data"
      ]
    },
    {
      "cell_type": "code",
      "metadata": {
        "id": "BlQEDRsmRruN"
      },
      "source": [
        "# from scipy.stats import skewnorm\n",
        "from ipywidgets import FloatSlider"
      ],
      "execution_count": 103,
      "outputs": []
    },
    {
      "cell_type": "code",
      "metadata": {
        "id": "cB5gcIlARruN"
      },
      "source": [
        "slider = FloatSlider(\n",
        "    value=0.5,\n",
        "    min=0.5,\n",
        "    max=5,\n",
        "    step=0.5,\n",
        "    description='Shape:',\n",
        "    disabled=False,\n",
        "    continuous_update=False,\n",
        "    orientation='horizontal',\n",
        "    readout=True,\n",
        "    readout_format='.1f'\n",
        ")"
      ],
      "execution_count": 104,
      "outputs": []
    },
    {
      "cell_type": "code",
      "metadata": {
        "id": "RGG91SjFRruN"
      },
      "source": [
        "import numpy as np\n",
        "def inspect_kurt_skew(a=slider):\n",
        "  # theres another hyperparameter, lambda for the center\n",
        "  # of weibull. the shape parameter is sometimes called\n",
        "  # a, or k\n",
        "  fig, ax = plt.subplots(1, 1, figsize=(5,5))\n",
        "  s = np.random.weibull(a, 1000)\n",
        "  statdf = pd.DataFrame(s)\n",
        "  statdf[0].plot(kind='kde', ax=ax)\n",
        "  print(\"skew: {:.2f}\".format(statdf[0].skew()))\n",
        "  print(\"kurtosis: {:.2f}\".format(statdf[0].kurt()))"
      ],
      "execution_count": 105,
      "outputs": []
    },
    {
      "cell_type": "code",
      "metadata": {
        "colab": {
          "base_uri": "https://localhost:8080/",
          "height": 405,
          "referenced_widgets": [
            "e00ae609a54346b39da08b9f1c266f08",
            "1fc004bb78b24d5a9b93f86849c64527",
            "4ecfbf4268524e61b778b75f82c1fdb6",
            "6e0b120bced1465cbaa0dd8a1ee5b921",
            "b2fee373dc6d49d3b48681c0dcb74a01",
            "67a91ec8bb0644b2894d2acb8b5ef2d7",
            "8fdb77eea75b4c199bde3dc4b16c307f"
          ]
        },
        "id": "T8DMcKMCRruN",
        "outputId": "e5d02d90-2b72-4d21-8a32-0775481bdefb"
      },
      "source": [
        "interact(inspect_kurt_skew)"
      ],
      "execution_count": 106,
      "outputs": [
        {
          "output_type": "display_data",
          "data": {
            "application/vnd.jupyter.widget-view+json": {
              "model_id": "e00ae609a54346b39da08b9f1c266f08",
              "version_minor": 0,
              "version_major": 2
            },
            "text/plain": [
              "interactive(children=(FloatSlider(value=0.5, continuous_update=False, description='Shape:', max=5.0, min=0.5, …"
            ]
          },
          "metadata": {
            "tags": []
          }
        },
        {
          "output_type": "execute_result",
          "data": {
            "text/plain": [
              "<function __main__.inspect_kurt_skew>"
            ]
          },
          "metadata": {
            "tags": []
          },
          "execution_count": 106
        }
      ]
    },
    {
      "cell_type": "markdown",
      "metadata": {
        "id": "lyvqPGnJRruN"
      },
      "source": [
        "### 4.2.6 Correlation Plots\n",
        "\n",
        "Often, we'll want to quantify the strength of a relationship between input variables. We can do this by calculating correlations. \n",
        "\n",
        "We won't go into great detail here about how Pearson's correlation is calculated, but the StatQuest videos on this subject are here for reference (and are really good... if you can stomach Starmer's\n",
        " humor)\n",
        "\n",
        "* [StatQuest: Correlation](https://youtu.be/xZ_z8KWkhXE?t=822)\n",
        "* [StatQuest: Covariance](https://www.youtube.com/watch?v=qtaqvPAeEJY&ab_channel=StatQuestwithJoshStarmer)\n",
        "\n",
        "The main takeaway is that pearson's correlation ranges from -1 to 1 and indicates how positively or negatively correlated the variables in question are. For our purposes, this can give insight into what variables will be important in our machine learning model.\n",
        "\n",
        "We can get the [pearson's correlation](https://en.wikipedia.org/wiki/Pearson_correlation_coefficient) between all the input features using the `dataframe.corr()` method.\n",
        "\n",
        "\n",
        "![](https://upload.wikimedia.org/wikipedia/commons/thumb/d/d4/Correlation_examples2.svg/400px-Correlation_examples2.svg.png)\n",
        "\n",
        "Fig: pearson's correlation value and corresponding scatter plot of feature-x and feature-y"
      ]
    },
    {
      "cell_type": "code",
      "metadata": {
        "colab": {
          "base_uri": "https://localhost:8080/",
          "height": 236
        },
        "id": "9UomL9_pRruN",
        "outputId": "6a33c26a-7861-4a9a-a2bc-f82e5933b603"
      },
      "source": [
        "df.corr()"
      ],
      "execution_count": 107,
      "outputs": [
        {
          "output_type": "execute_result",
          "data": {
            "text/html": [
              "<div>\n",
              "<style scoped>\n",
              "    .dataframe tbody tr th:only-of-type {\n",
              "        vertical-align: middle;\n",
              "    }\n",
              "\n",
              "    .dataframe tbody tr th {\n",
              "        vertical-align: top;\n",
              "    }\n",
              "\n",
              "    .dataframe thead th {\n",
              "        text-align: right;\n",
              "    }\n",
              "</style>\n",
              "<table border=\"1\" class=\"dataframe\">\n",
              "  <thead>\n",
              "    <tr style=\"text-align: right;\">\n",
              "      <th></th>\n",
              "      <th>duration</th>\n",
              "      <th>avg_vote</th>\n",
              "      <th>votes</th>\n",
              "      <th>metascore</th>\n",
              "      <th>reviews_from_users</th>\n",
              "      <th>reviews_from_critics</th>\n",
              "    </tr>\n",
              "  </thead>\n",
              "  <tbody>\n",
              "    <tr>\n",
              "      <th>duration</th>\n",
              "      <td>1.000000</td>\n",
              "      <td>0.242432</td>\n",
              "      <td>0.125618</td>\n",
              "      <td>0.210531</td>\n",
              "      <td>0.130836</td>\n",
              "      <td>0.135465</td>\n",
              "    </tr>\n",
              "    <tr>\n",
              "      <th>avg_vote</th>\n",
              "      <td>0.242432</td>\n",
              "      <td>1.000000</td>\n",
              "      <td>0.166972</td>\n",
              "      <td>0.691338</td>\n",
              "      <td>0.138185</td>\n",
              "      <td>0.200526</td>\n",
              "    </tr>\n",
              "    <tr>\n",
              "      <th>votes</th>\n",
              "      <td>0.125618</td>\n",
              "      <td>0.166972</td>\n",
              "      <td>1.000000</td>\n",
              "      <td>0.194730</td>\n",
              "      <td>0.766237</td>\n",
              "      <td>0.671635</td>\n",
              "    </tr>\n",
              "    <tr>\n",
              "      <th>metascore</th>\n",
              "      <td>0.210531</td>\n",
              "      <td>0.691338</td>\n",
              "      <td>0.194730</td>\n",
              "      <td>1.000000</td>\n",
              "      <td>0.126131</td>\n",
              "      <td>0.236107</td>\n",
              "    </tr>\n",
              "    <tr>\n",
              "      <th>reviews_from_users</th>\n",
              "      <td>0.130836</td>\n",
              "      <td>0.138185</td>\n",
              "      <td>0.766237</td>\n",
              "      <td>0.126131</td>\n",
              "      <td>1.000000</td>\n",
              "      <td>0.671634</td>\n",
              "    </tr>\n",
              "    <tr>\n",
              "      <th>reviews_from_critics</th>\n",
              "      <td>0.135465</td>\n",
              "      <td>0.200526</td>\n",
              "      <td>0.671635</td>\n",
              "      <td>0.236107</td>\n",
              "      <td>0.671634</td>\n",
              "      <td>1.000000</td>\n",
              "    </tr>\n",
              "  </tbody>\n",
              "</table>\n",
              "</div>"
            ],
            "text/plain": [
              "                      duration  ...  reviews_from_critics\n",
              "duration              1.000000  ...              0.135465\n",
              "avg_vote              0.242432  ...              0.200526\n",
              "votes                 0.125618  ...              0.671635\n",
              "metascore             0.210531  ...              0.236107\n",
              "reviews_from_users    0.130836  ...              0.671634\n",
              "reviews_from_critics  0.135465  ...              1.000000\n",
              "\n",
              "[6 rows x 6 columns]"
            ]
          },
          "metadata": {
            "tags": []
          },
          "execution_count": 107
        }
      ]
    },
    {
      "cell_type": "markdown",
      "metadata": {
        "id": "teBVTbxFRruO"
      },
      "source": [
        "So we have this raw table of pearsons correlations between each of our input features, how do we and how should we turn this into a plot?\n",
        "\n",
        "Typically we'd use a heat map on an feature vs feature grid to view this kind of data. In the following I'm going to use some `numpy` methods you may not have seen before. Links to the documentation for these methods are at the end of the notebook.\n",
        "\n",
        "```\n",
        "import numpy as np\n",
        "fig, ax = plt.subplots(1, 1, figsize = (10,10))\n",
        "\n",
        "# create a mask to white-out the upper triangle\n",
        "mask = np.triu(np.ones_like(df.corr(), dtype=bool))\n",
        "\n",
        "# we'll want a divergent colormap for this so our eye\n",
        "# is not attracted to the values close to 0\n",
        "cmap = sns.diverging_palette(230, 20, as_cmap=True)\n",
        "\n",
        "sns.heatmap(df.corr(), mask=mask, cmap=cmap, ax=ax)\n",
        "```"
      ]
    },
    {
      "cell_type": "code",
      "metadata": {
        "colab": {
          "base_uri": "https://localhost:8080/",
          "height": 379
        },
        "id": "0iGvQ_Z-RruO",
        "outputId": "4b79aa19-de08-4506-8d89-54e67b00bec2"
      },
      "source": [
        "sns.heatmap(df.corr())"
      ],
      "execution_count": 109,
      "outputs": [
        {
          "output_type": "execute_result",
          "data": {
            "text/plain": [
              "<matplotlib.axes._subplots.AxesSubplot at 0x7fa70f8356d0>"
            ]
          },
          "metadata": {
            "tags": []
          },
          "execution_count": 109
        },
        {
          "output_type": "display_data",
          "data": {
            "image/png": "[encoded data removed]",
            "text/plain": [
              "<Figure size 432x288 with 2 Axes>"
            ]
          },
          "metadata": {
            "tags": [],
            "needs_background": "light"
          }
        }
      ]
    },
    {
      "cell_type": "code",
      "metadata": {
        "colab": {
          "base_uri": "https://localhost:8080/",
          "height": 701
        },
        "id": "m-q5kSQTRruO",
        "outputId": "62371da3-3c5a-4bff-be70-c7986c907c46"
      },
      "source": [
        "import numpy as np\n",
        "fig, ax = plt.subplots(1, 1, figsize = (10,10))\n",
        "\n",
        "# create a mask to white-out the upper triangle\n",
        "mask = np.triu(np.ones_like(df.corr(), dtype=bool))\n",
        "\n",
        "# we'll want a divergent colormap for this so our eye\n",
        "# is not attracted to the values close to 0\n",
        "cmap = sns.diverging_palette(230, 20, as_cmap=True)\n",
        "\n",
        "sns.heatmap(df.corr(), mask=mask, cmap=cmap, ax=ax)"
      ],
      "execution_count": 110,
      "outputs": [
        {
          "output_type": "execute_result",
          "data": {
            "text/plain": [
              "<matplotlib.axes._subplots.AxesSubplot at 0x7fa70f762b50>"
            ]
          },
          "metadata": {
            "tags": []
          },
          "execution_count": 110
        },
        {
          "output_type": "display_data",
          "data": {
            "image/png": "[encoded data removed]",
            "text/plain": [
              "<Figure size 720x720 with 2 Axes>"
            ]
          },
          "metadata": {
            "tags": [],
            "needs_background": "light"
          }
        }
      ]
    },
    {
      "cell_type": "markdown",
      "metadata": {
        "id": "X53Q_hWrRruO"
      },
      "source": [
        "What do we notice?\n",
        "\n",
        "looks like reviews and votes are all pretty correlated. Surprising?"
      ]
    },
    {
      "cell_type": "markdown",
      "metadata": {
        "id": "sAWapBemRruO"
      },
      "source": [
        "## 4.3 Visualization with IpyWidgets"
      ]
    },
    {
      "cell_type": "markdown",
      "metadata": {
        "id": "eT9GESTJRruO"
      },
      "source": [
        "### 4.3.1 Interact\n",
        "\n",
        "Here we're going to introduce a very basic use case of IPython's widgets using `interact`. The `interact` method (`ipywidgets.interact`) automatically creates user interface (UI) controls for exploring code and data interactively. It is the easiest way to get started using IPython’s widgets.\n",
        "\n",
        "```\n",
        "from ipywidgets import interact\n",
        "def my_plot(col=filtdf.select_dtypes('number').columns):\n",
        "  fig, ax = plt.subplots(1,1,figsize=(10,5))\n",
        "  filtdf.boxplot(column=col, by='country', ax=ax)\n",
        "  \n",
        "interact(my_plot)\n",
        "```"
      ]
    },
    {
      "cell_type": "code",
      "metadata": {
        "id": "wRKGQjaNRruP"
      },
      "source": [
        "def my_plot(col=filtdf.select_dtypes('number').columns):\n",
        "  fig, ax = plt.subplots(1,1,figsize=(10,5))\n",
        "  filtdf.boxplot(column=col, by='country', ax=ax)"
      ],
      "execution_count": 114,
      "outputs": []
    },
    {
      "cell_type": "markdown",
      "metadata": {
        "id": "2dD8JQSZRruP"
      },
      "source": [
        "After defining our function that returns our plot, and defining input parameters for the fields we would like to interact with, we call our function with `interact`\n",
        "\n",
        "```\n",
        "interact(my_plot)\n",
        "```\n",
        "\n",
        "Let's say we want to look at information from the IMDb data based on country. Because there are so many countries in the database, let's filter it down to only the top 5 countries. How could we do this using `value_counts`? Let's try this below"
      ]
    },
    {
      "cell_type": "code",
      "metadata": {
        "id": "bWLhsQyNa6tv"
      },
      "source": [
        "top_5_countries = df['country'].value_counts()[:5].keys() # get list of top 5 countries\n",
        "filtdf = df.loc[df['country'].isin(top_5_countries)] # only select rows whose country is in the list"
      ],
      "execution_count": 112,
      "outputs": []
    },
    {
      "cell_type": "code",
      "metadata": {
        "colab": {
          "base_uri": "https://localhost:8080/",
          "height": 374
        },
        "id": "R3PBmo9DbSva",
        "outputId": "e7c94465-bc5a-467d-ba6e-3f983ee02751"
      },
      "source": [
        "filtdf.boxplot(column='duration', by='country')"
      ],
      "execution_count": 113,
      "outputs": [
        {
          "output_type": "stream",
          "text": [
            "/usr/local/lib/python3.7/dist-packages/numpy/core/_asarray.py:83: VisibleDeprecationWarning: Creating an ndarray from ragged nested sequences (which is a list-or-tuple of lists-or-tuples-or ndarrays with different lengths or shapes) is deprecated. If you meant to do this, you must specify 'dtype=object' when creating the ndarray\n",
            "  return array(a, dtype, copy=False, order=order)\n"
          ],
          "name": "stderr"
        },
        {
          "output_type": "execute_result",
          "data": {
            "text/plain": [
              "<matplotlib.axes._subplots.AxesSubplot at 0x7fa70f6bf910>"
            ]
          },
          "metadata": {
            "tags": []
          },
          "execution_count": 113
        },
        {
          "output_type": "display_data",
          "data": {
            "image/png": "[encoded data removed]",
            "text/plain": [
              "<Figure size 432x288 with 1 Axes>"
            ]
          },
          "metadata": {
            "tags": [],
            "needs_background": "light"
          }
        }
      ]
    },
    {
      "cell_type": "code",
      "metadata": {
        "colab": {
          "base_uri": "https://localhost:8080/",
          "height": 463,
          "referenced_widgets": [
            "d8eca6c8429c485b8dcaab710d10e630",
            "eca68f8fa0c040e9996d5c58874f2981",
            "232c82cfa6ca48778fe76df09bf99b5c",
            "9dfc2d5b5e8346feb8da575dfb25599f",
            "96cfef5b145c4da6bc162508021a945a",
            "29ffba53e62c4a128d536a013c558d28",
            "223a024f51e4428da1de52c6b1ab46d8"
          ]
        },
        "id": "fqDuLrckRruP",
        "outputId": "77aa99ee-d1ff-496d-b2af-e4e8311a3b1d"
      },
      "source": [
        "interact(my_plot)"
      ],
      "execution_count": 115,
      "outputs": [
        {
          "output_type": "display_data",
          "data": {
            "application/vnd.jupyter.widget-view+json": {
              "model_id": "d8eca6c8429c485b8dcaab710d10e630",
              "version_minor": 0,
              "version_major": 2
            },
            "text/plain": [
              "interactive(children=(Dropdown(description='col', options=('duration', 'avg_vote', 'votes', 'metascore', 'revi…"
            ]
          },
          "metadata": {
            "tags": []
          }
        },
        {
          "output_type": "execute_result",
          "data": {
            "text/plain": [
              "<function __main__.my_plot>"
            ]
          },
          "metadata": {
            "tags": []
          },
          "execution_count": 115
        }
      ]
    },
    {
      "cell_type": "markdown",
      "metadata": {
        "id": "tjGl0kV9RruP"
      },
      "source": [
        "Let's break this down. Normally, I would just set my y-variable to a value, so that when I call my function, my figure is generated with the corresponding data field:"
      ]
    },
    {
      "cell_type": "code",
      "metadata": {
        "colab": {
          "base_uri": "https://localhost:8080/",
          "height": 416
        },
        "id": "U7Cw_6-jRruP",
        "outputId": "2d552069-d6a2-43b9-8596-7a7de515d6f2"
      },
      "source": [
        "def my_plot(col='duration'):\n",
        "  fig, ax = plt.subplots(1,1,figsize=(10,5))\n",
        "  filtdf.boxplot(column=col, by='country', ax=ax)\n",
        "\n",
        "my_plot()"
      ],
      "execution_count": 116,
      "outputs": [
        {
          "output_type": "stream",
          "text": [
            "/usr/local/lib/python3.7/dist-packages/numpy/core/_asarray.py:83: VisibleDeprecationWarning: Creating an ndarray from ragged nested sequences (which is a list-or-tuple of lists-or-tuples-or ndarrays with different lengths or shapes) is deprecated. If you meant to do this, you must specify 'dtype=object' when creating the ndarray\n",
            "  return array(a, dtype, copy=False, order=order)\n"
          ],
          "name": "stderr"
        },
        {
          "output_type": "display_data",
          "data": {
            "image/png": "[encoded data removed]",
            "text/plain": [
              "<Figure size 720x360 with 1 Axes>"
            ]
          },
          "metadata": {
            "tags": [],
            "needs_background": "light"
          }
        }
      ]
    },
    {
      "cell_type": "markdown",
      "metadata": {
        "id": "WqoTGVeuRruQ"
      },
      "source": [
        "Instead, we want to give `interact()` a list of values for the user to select from, this is the difference between a regular function, and one we might feed into interact.\n",
        "\n",
        "```\n",
        "y = ['duration',\n",
        " 'avg_vote',\n",
        " 'votes',\n",
        " 'metascore',\n",
        " 'reviews_from_users',\n",
        " 'reviews_from_critics']\n",
        "```"
      ]
    },
    {
      "cell_type": "code",
      "metadata": {
        "colab": {
          "base_uri": "https://localhost:8080/"
        },
        "id": "Jj0MOmPQRruQ",
        "outputId": "89cbfa42-f055-4c6a-cfab-6c1643c67299"
      },
      "source": [
        "list(filtdf.select_dtypes('number').columns)"
      ],
      "execution_count": null,
      "outputs": [
        {
          "output_type": "execute_result",
          "data": {
            "text/plain": [
              "['duration',\n",
              " 'avg_vote',\n",
              " 'votes',\n",
              " 'metascore',\n",
              " 'reviews_from_users',\n",
              " 'reviews_from_critics']"
            ]
          },
          "metadata": {
            "tags": []
          },
          "execution_count": 132
        }
      ]
    },
    {
      "cell_type": "markdown",
      "metadata": {
        "id": "JNU9n_7gRruQ"
      },
      "source": [
        "#### Exercise 5: IpyWidgets and Figures in Functions\n",
        "\n",
        "In the previous section we created a single dropdown menu to select our y variable for our plot. Here, we would like to do the same thing, but this time filter your dataframe for only the top 10 directors that most frequently occur in the IMDb datafile.\n",
        "\n",
        "When you build the interactive plot, grouby director this time instead of country."
      ]
    },
    {
      "cell_type": "code",
      "metadata": {
        "id": "_LT3PjjlRruR"
      },
      "source": [
        "# Code block for Exercise 5"
      ],
      "execution_count": null,
      "outputs": []
    },
    {
      "cell_type": "code",
      "metadata": {
        "colab": {
          "base_uri": "https://localhost:8080/",
          "height": 539,
          "referenced_widgets": [
            "6a6cea09b6fc40ffbee24b401c23a3d3",
            "1512fd04b6fa48a58efc641e788a80b9",
            "fb334ecc40ad4521a2a4c0b295e56552",
            "fe984567407a4a8280072413d82c4fd4",
            "5e98290e8e3947e39cc498a3b4e6adc7",
            "4a5045072ffb468ba7a81975f17665aa",
            "92fdf4321b4f4198bbf96084f9a4690e"
          ]
        },
        "id": "_iCmeznyRruR",
        "outputId": "3c34466a-8413-4a6c-b21d-8072126cfe3a"
      },
      "source": [
        "interact(my_plot)"
      ],
      "execution_count": null,
      "outputs": [
        {
          "output_type": "display_data",
          "data": {
            "application/vnd.jupyter.widget-view+json": {
              "model_id": "6a6cea09b6fc40ffbee24b401c23a3d3",
              "version_minor": 0,
              "version_major": 2
            },
            "text/plain": [
              "interactive(children=(Dropdown(description='col', options=('duration', 'avg_vote', 'votes', 'metascore', 'revi…"
            ]
          },
          "metadata": {
            "tags": []
          }
        },
        {
          "output_type": "execute_result",
          "data": {
            "text/plain": [
              "<function __main__.my_plot>"
            ]
          },
          "metadata": {
            "tags": []
          },
          "execution_count": 145
        }
      ]
    },
    {
      "cell_type": "markdown",
      "metadata": {
        "id": "1_SHD8I8-ir2"
      },
      "source": [
        "# Part 2: Object Oriented Programming"
      ]
    },
    {
      "cell_type": "markdown",
      "metadata": {
        "id": "lGbWAzdgx0bj"
      },
      "source": [
        "## 5.1 Classes, Instances, Methods, and Attribtues\n",
        "\n",
        "A class is created with the reserved word `class`\n",
        "\n",
        "A class can have attributes"
      ]
    },
    {
      "cell_type": "code",
      "metadata": {
        "id": "4diol9OSxrXY"
      },
      "source": [
        "# define a class\n",
        "class MyClass:\n",
        "  some_attribute = 5"
      ],
      "execution_count": 117,
      "outputs": []
    },
    {
      "cell_type": "markdown",
      "metadata": {
        "id": "eyAe363HyC5j"
      },
      "source": [
        "We use the **_class blueprint_** _MyClass_ to create an **_instance_**\n",
        "\n",
        "We can now access attributes belonging to that class:"
      ]
    },
    {
      "cell_type": "code",
      "metadata": {
        "colab": {
          "base_uri": "https://localhost:8080/"
        },
        "id": "HYjA4eZ0xvCK",
        "outputId": "2f3f1398-ea9c-4cc4-ff4f-e6caf38b886b"
      },
      "source": [
        "# create instance\n",
        "instance = MyClass()\n",
        "\n",
        "# access attributes of the instance of MyClass\n",
        "instance.some_attribute"
      ],
      "execution_count": 119,
      "outputs": [
        {
          "output_type": "execute_result",
          "data": {
            "text/plain": [
              "5"
            ]
          },
          "metadata": {
            "tags": []
          },
          "execution_count": 119
        }
      ]
    },
    {
      "cell_type": "markdown",
      "metadata": {
        "id": "LzrLCHlLyvI5"
      },
      "source": [
        "attributes can be changed:"
      ]
    },
    {
      "cell_type": "code",
      "metadata": {
        "colab": {
          "base_uri": "https://localhost:8080/"
        },
        "id": "VGO4FvfNyqIO",
        "outputId": "1aeca41d-418e-47a7-ac8d-1f6d6bb0601b"
      },
      "source": [
        "instance.some_attribute = 50\n",
        "instance.some_attribute"
      ],
      "execution_count": 121,
      "outputs": [
        {
          "output_type": "execute_result",
          "data": {
            "text/plain": [
              "5"
            ]
          },
          "metadata": {
            "tags": []
          },
          "execution_count": 121
        }
      ]
    },
    {
      "cell_type": "markdown",
      "metadata": {
        "id": "kRwuV7gay0hX"
      },
      "source": [
        "In practice we always use the `__init__()` function, which is executed when the class is being initiated. \n",
        "\n",
        "<br>\n",
        "\n",
        "<p align=center>\n",
        "<img src=\"https://cdn2.bulbagarden.net/upload/thumb/2/23/Pok%C3%A9_Balls_GL.png/250px-Pok%C3%A9_Balls_GL.png\"></img>"
      ]
    },
    {
      "cell_type": "code",
      "metadata": {
        "id": "tZWgIm_ky_-l"
      },
      "source": [
        "class Pokeball:\n",
        "  def __init__(self, contains=None, type_name=\"poke ball\"):\n",
        "    self.contains = contains\n",
        "    self.type_name = type_name\n",
        "    self.catch_rate = 0.50 # note this attribute is not accessible upon init"
      ],
      "execution_count": 122,
      "outputs": []
    },
    {
      "cell_type": "code",
      "metadata": {
        "id": "wOyNv0DEzVG8"
      },
      "source": [
        "# empty pokeball\n",
        "pokeball1 = Pokeball()\n",
        "\n",
        "# used pokeball of a different type\n",
        "pokeball1 = Pokeball(\"Pikachu\", \"master ball\")"
      ],
      "execution_count": 127,
      "outputs": []
    },
    {
      "cell_type": "code",
      "metadata": {
        "colab": {
          "base_uri": "https://localhost:8080/",
          "height": 35
        },
        "id": "8VupJs6QzXdG",
        "outputId": "ae01084f-0be2-44a0-be95-1327abbfe25c"
      },
      "source": [
        "pokeball1.contains"
      ],
      "execution_count": 129,
      "outputs": [
        {
          "output_type": "execute_result",
          "data": {
            "application/vnd.google.colaboratory.intrinsic+json": {
              "type": "string"
            },
            "text/plain": [
              "'Pikachu'"
            ]
          },
          "metadata": {
            "tags": []
          },
          "execution_count": 129
        }
      ]
    },
    {
      "cell_type": "markdown",
      "metadata": {
        "id": "32snslXhzibI"
      },
      "source": [
        "> what is the special keyword [`self`](http://neopythonic.blogspot.com/2008/10/why-explicit-self-has-to-stay.html) doing?\n",
        "\n",
        "The `self` parameter is a reference to the current instance of the class and is used to access variables belonging to the class."
      ]
    },
    {
      "cell_type": "markdown",
      "metadata": {
        "id": "iSVpDrjQz_gB"
      },
      "source": [
        "classes can also contain methods"
      ]
    },
    {
      "cell_type": "code",
      "metadata": {
        "id": "s58qSx8f0AsF"
      },
      "source": [
        "import random\n",
        "\n",
        "class Pokeball:\n",
        "  def __init__(self, contains=None, type_name=\"poke ball\"):\n",
        "    self.contains = contains\n",
        "    self.type_name = type_name\n",
        "    self.catch_rate = 0.50 # note this attribute is not accessible upon init\n",
        "\n",
        "  # the method catch, will update self.contains, if a catch is successful\n",
        "  # it will also use self.catch_rate to set the performance of the catch\n",
        "  def catch(self, pokemon):\n",
        "    if self.contains == None:\n",
        "      if random.random() < self.catch_rate:\n",
        "        self.contains = pokemon\n",
        "        print(f\"{pokemon} captured!\")\n",
        "      else:\n",
        "        print(f\"{pokemon} escaped!\")\n",
        "        pass\n",
        "    else:\n",
        "      print(\"pokeball is not empty!\")\n"
      ],
      "execution_count": 130,
      "outputs": []
    },
    {
      "cell_type": "code",
      "metadata": {
        "colab": {
          "base_uri": "https://localhost:8080/"
        },
        "id": "zCDW85Vu16_q",
        "outputId": "b7da2168-834f-4c2d-a9c4-8c7493be554a"
      },
      "source": [
        "pokeball = Pokeball()\n",
        "pokeball.catch(\"picachu\")"
      ],
      "execution_count": 137,
      "outputs": [
        {
          "output_type": "stream",
          "text": [
            "picachu captured!\n"
          ],
          "name": "stdout"
        }
      ]
    },
    {
      "cell_type": "code",
      "metadata": {
        "colab": {
          "base_uri": "https://localhost:8080/",
          "height": 35
        },
        "id": "Ri7l-oPmYhtZ",
        "outputId": "6f4fd223-a87c-4601-c926-a1bdd6d146a2"
      },
      "source": [
        "pokeball.contains"
      ],
      "execution_count": 138,
      "outputs": [
        {
          "output_type": "execute_result",
          "data": {
            "application/vnd.google.colaboratory.intrinsic+json": {
              "type": "string"
            },
            "text/plain": [
              "'picachu'"
            ]
          },
          "metadata": {
            "tags": []
          },
          "execution_count": 138
        }
      ]
    },
    {
      "cell_type": "markdown",
      "metadata": {
        "id": "GA0l_pwYn9g1"
      },
      "source": [
        "### Q1\n",
        "\n",
        "Create a release method for the class Pokeball:"
      ]
    },
    {
      "cell_type": "code",
      "metadata": {
        "id": "a7DGaOajxDxA"
      },
      "source": [
        "class Pokeball:\n",
        "  def __init__(self, contains=None, type_name=\"poke ball\"):\n",
        "    self.contains = contains\n",
        "    self.type_name = type_name\n",
        "    self.catch_rate = 0.50 # note this attribute is not accessible upon init\n",
        "\n",
        "  # the method catch, will update self.contains, if a catch is successful\n",
        "  # it will also use self.catch_rate to set the performance of the catch\n",
        "  def catch(self, pokemon):\n",
        "    if self.contains == None:\n",
        "      if random.random() < self.catch_rate:\n",
        "        self.contains = pokemon\n",
        "        print(f\"{pokemon} captured!\")\n",
        "      else:\n",
        "        print(f\"{pokemon} escaped!\")\n",
        "        pass\n",
        "    else:\n",
        "      print(\"pokeball is not empty!\")\n",
        "\n",
        "  def release(self):\n",
        "    if self.contains != None:\n",
        "      print(\"{} released!\".format(self.contains))\n",
        "      self.contains = None\n",
        "    else:\n",
        "      print(\"pokeball empty!\")"
      ],
      "execution_count": 1,
      "outputs": []
    },
    {
      "cell_type": "code",
      "metadata": {
        "colab": {
          "base_uri": "https://localhost:8080/"
        },
        "id": "o6SsawgJuK9M",
        "outputId": "373b9885-fd3b-49c8-a58b-9756fbb6b9b0"
      },
      "source": [
        "import random\n",
        "pokeball = Pokeball()\n",
        "pokeball.catch(\"picachu\")\n",
        "pokeball.release()"
      ],
      "execution_count": 4,
      "outputs": [
        {
          "output_type": "stream",
          "text": [
            "picachu captured!\n",
            "picachu released!\n"
          ],
          "name": "stdout"
        }
      ]
    },
    {
      "cell_type": "markdown",
      "metadata": {
        "id": "lmV9zAmB4l1z"
      },
      "source": [
        "## 5.2 Inheritance\n",
        "\n",
        "Inheritance allows you to adopt into a child class, the methods/attributes of a parent class\n"
      ]
    },
    {
      "cell_type": "code",
      "metadata": {
        "id": "6q05bsBl5Mqx"
      },
      "source": [
        "class MasterBall(Pokeball):\n",
        "  pass"
      ],
      "execution_count": 5,
      "outputs": []
    },
    {
      "cell_type": "code",
      "metadata": {
        "colab": {
          "base_uri": "https://localhost:8080/",
          "height": 35
        },
        "id": "Q_IonrbT5TE-",
        "outputId": "ccefe782-7e5e-4c2b-9473-6ae9bb83f108"
      },
      "source": [
        "masterball = MasterBall()\n",
        "masterball.type_name"
      ],
      "execution_count": 6,
      "outputs": [
        {
          "output_type": "execute_result",
          "data": {
            "application/vnd.google.colaboratory.intrinsic+json": {
              "type": "string"
            },
            "text/plain": [
              "'poke ball'"
            ]
          },
          "metadata": {
            "tags": []
          },
          "execution_count": 6
        }
      ]
    },
    {
      "cell_type": "markdown",
      "metadata": {
        "id": "f52XzgDq5Z1y"
      },
      "source": [
        "HMMM we don't like that type name. let's make sure we change some of the inherited attributes!\n",
        "\n",
        "We'll do this again with the `__init__` function"
      ]
    },
    {
      "cell_type": "code",
      "metadata": {
        "id": "U2MTeZul5WXx"
      },
      "source": [
        "class MasterBall(Pokeball):\n",
        "  def __init__(self, contains=None, type_name=\"Masterball\", catch_rate=0.8):\n",
        "    self.contains = contains\n",
        "    self.type_name = type_name\n",
        "    self.catch_rate = catch_rate"
      ],
      "execution_count": 7,
      "outputs": []
    },
    {
      "cell_type": "code",
      "metadata": {
        "colab": {
          "base_uri": "https://localhost:8080/",
          "height": 35
        },
        "id": "wM7-5DuE5zh-",
        "outputId": "269d89e3-031f-4f10-9bf9-bc1e71ee9093"
      },
      "source": [
        "masterball = MasterBall()\n",
        "masterball.type_name"
      ],
      "execution_count": 8,
      "outputs": [
        {
          "output_type": "execute_result",
          "data": {
            "application/vnd.google.colaboratory.intrinsic+json": {
              "type": "string"
            },
            "text/plain": [
              "'Masterball'"
            ]
          },
          "metadata": {
            "tags": []
          },
          "execution_count": 8
        }
      ]
    },
    {
      "cell_type": "code",
      "metadata": {
        "colab": {
          "base_uri": "https://localhost:8080/"
        },
        "id": "-z74AAD651zw",
        "outputId": "c585ec78-aea3-4565-db3c-7fe7b7135a7f"
      },
      "source": [
        "masterball.catch(\"charmander\")"
      ],
      "execution_count": 9,
      "outputs": [
        {
          "output_type": "stream",
          "text": [
            "charmander captured!\n"
          ],
          "name": "stdout"
        }
      ]
    },
    {
      "cell_type": "markdown",
      "metadata": {
        "id": "dF5ZWnZd6QEL"
      },
      "source": [
        "We can also write this, this way:"
      ]
    },
    {
      "cell_type": "code",
      "metadata": {
        "id": "HZo6i-Xi61rt"
      },
      "source": [
        "class MasterBall(Pokeball):\n",
        "  def __init__(self, contains=None, type_name=\"Masterball\"):\n",
        "    Pokeball.__init__(self, contains, type_name)\n",
        "    self.catch_rate = 0.8"
      ],
      "execution_count": 10,
      "outputs": []
    },
    {
      "cell_type": "code",
      "metadata": {
        "colab": {
          "base_uri": "https://localhost:8080/"
        },
        "id": "jYpkaGHn6FNN",
        "outputId": "1d9a9a3b-8aac-4bbc-ffa3-cd1d0cca0755"
      },
      "source": [
        "masterball = MasterBall()\n",
        "masterball.catch_rate"
      ],
      "execution_count": 11,
      "outputs": [
        {
          "output_type": "execute_result",
          "data": {
            "text/plain": [
              "0.8"
            ]
          },
          "metadata": {
            "tags": []
          },
          "execution_count": 11
        }
      ]
    },
    {
      "cell_type": "code",
      "metadata": {
        "colab": {
          "base_uri": "https://localhost:8080/"
        },
        "id": "3EuqUiKH7B0A",
        "outputId": "d56ca33f-8e33-47b1-f687-b17f1f077cf3"
      },
      "source": [
        "masterball = MasterBall()\n",
        "masterball.catch(\"charmander\")"
      ],
      "execution_count": 12,
      "outputs": [
        {
          "output_type": "stream",
          "text": [
            "charmander captured!\n"
          ],
          "name": "stdout"
        }
      ]
    },
    {
      "cell_type": "markdown",
      "metadata": {
        "id": "VkTjVYsW7xf1"
      },
      "source": [
        "The keyword `super` will let us write even more succintly:"
      ]
    },
    {
      "cell_type": "code",
      "metadata": {
        "id": "sCfDRHXz7wqL"
      },
      "source": [
        "class MasterBall(Pokeball):\n",
        "  def __init__(self, contains=None, type_name=\"Masterball\"):\n",
        "    super().__init__(contains, type_name)\n",
        "    self.catch_rate = 0.8"
      ],
      "execution_count": 13,
      "outputs": []
    },
    {
      "cell_type": "code",
      "metadata": {
        "colab": {
          "base_uri": "https://localhost:8080/"
        },
        "id": "1N6xI77874K-",
        "outputId": "8cace61d-b003-4ece-febe-462c67c53488"
      },
      "source": [
        "masterball = MasterBall()\n",
        "masterball.catch(\"charmander\")"
      ],
      "execution_count": 14,
      "outputs": [
        {
          "output_type": "stream",
          "text": [
            "charmander captured!\n"
          ],
          "name": "stdout"
        }
      ]
    },
    {
      "cell_type": "markdown",
      "metadata": {
        "id": "EaqZLU3z8Dm8"
      },
      "source": [
        "### Q2\n",
        "\n",
        "Write another class object called `GreatBall` that inherits the properties of `Pokeball`, has a `catch_rate` of 0.6, and `type_name` of Greatball"
      ]
    },
    {
      "cell_type": "code",
      "metadata": {
        "id": "MpxF5ep_75Gr"
      },
      "source": [
        "# Code Cell for L2 Q2\n",
        "class GreatBall(Pokeball):\n",
        "  def __init__(self, contains=None, type_name=\"Greatball\"):\n",
        "    super().__init__(contains, type_name)\n",
        "    self.catch_rate = 0.6"
      ],
      "execution_count": 15,
      "outputs": []
    },
    {
      "cell_type": "markdown",
      "metadata": {
        "id": "MLWrhNPN-PGR"
      },
      "source": [
        "## 5.3 Interacting Objects"
      ]
    },
    {
      "cell_type": "markdown",
      "metadata": {
        "id": "3f85jPuZ80ok"
      },
      "source": [
        "### Q3\n",
        "\n",
        "Write another class object called `Pokemon`. It has the [attributes](https://bulbapedia.bulbagarden.net/wiki/Type):\n",
        "\n",
        "* name\n",
        "* weight\n",
        "* speed\n",
        "* type\n",
        "\n",
        "Now create a class object called `FastBall`, it inherits the properties of `Pokeball` but has a new condition on `catch` method: if pokemon.speed > 100 then there is 100% chance of catch success.\n",
        "\n",
        "> what changes do you have to make to the way we've been interacting with pokeball to make this new requirement work?"
      ]
    },
    {
      "cell_type": "code",
      "metadata": {
        "id": "bQp3LeHeutYF"
      },
      "source": [
        "class Pokemon:\n",
        "  def __init__(self, name=\"squirtle\", weight=10, speed=101, type_='water'):\n",
        "    self.name = name\n",
        "    self.weight = weight\n",
        "    self.speed = speed\n",
        "    self.type_ = type_"
      ],
      "execution_count": 16,
      "outputs": []
    },
    {
      "cell_type": "code",
      "metadata": {
        "id": "l0TF73H1BFy5"
      },
      "source": [
        "# Code Cell for L2 Q3\n",
        "class FastBall(Pokeball):\n",
        "  def __init__(self, contains=None, type_name=\"Fastball\"):\n",
        "    super().__init__(contains, type_name)\n",
        "    self.catch_rate = 0.5\n",
        "\n",
        "  def catch(self, pokemon):\n",
        "    if self.contains == None:\n",
        "      if pokemon.speed > 100:\n",
        "        self.contains = pokemon.name\n",
        "      if random.random() < self.catch_rate:\n",
        "        self.contains = pokemon.name\n",
        "        print(f\"{pokemon.name} captured!\")\n",
        "      else:\n",
        "        print(f\"{pokemon.name} escaped!\")\n",
        "        pass\n",
        "    else:\n",
        "      print(\"pokeball is not empty!\")"
      ],
      "execution_count": 18,
      "outputs": []
    },
    {
      "cell_type": "code",
      "metadata": {
        "colab": {
          "base_uri": "https://localhost:8080/"
        },
        "id": "dDG9h0SJvD62",
        "outputId": "ca09616d-3412-4794-a6e6-7b0545a96c6b"
      },
      "source": [
        "pokemon = Pokemon()\n",
        "ball = FastBall()\n",
        "ball.catch(pokemon)"
      ],
      "execution_count": 19,
      "outputs": [
        {
          "output_type": "stream",
          "text": [
            "squirtle escaped!\n"
          ],
          "name": "stdout"
        }
      ]
    },
    {
      "cell_type": "markdown",
      "metadata": {
        "id": "5KvW9o_-AzD4"
      },
      "source": [
        "### Q4\n",
        "\n",
        "In the above task, did you have to write any code to test that your new classes worked?! We will talk about that more at a later time, but for now, wrap any testing that you did into a new function called `test_classes` in the code cell below"
      ]
    },
    {
      "cell_type": "code",
      "metadata": {
        "id": "3uTkx94QBD1e",
        "colab": {
          "base_uri": "https://localhost:8080/"
        },
        "outputId": "73059307-8935-48bb-efd4-bd026cdac1f3"
      },
      "source": [
        "# Code Cell for L2 Q4\n",
        "def test_classes():\n",
        "  pokemon = Pokemon()\n",
        "  ball = FastBall()\n",
        "  ball.catch(pokemon)\n",
        "\n",
        "test_classes()"
      ],
      "execution_count": 20,
      "outputs": [
        {
          "output_type": "stream",
          "text": [
            "squirtle escaped!\n"
          ],
          "name": "stdout"
        }
      ]
    },
    {
      "cell_type": "markdown",
      "metadata": {
        "id": "yCJdwzuQhVIP"
      },
      "source": [
        "\n",
        "# References\n",
        "\n",
        "* [`numpy.triu`](https://numpy.org/doc/stable/reference/generated/numpy.triu.html) \n",
        "* [`numpy.ones_like`](https://numpy.org/doc/stable/reference/generated/numpy.ones_like.html)\n",
        "* [`ipywidgets`](https://ipywidgets.readthedocs.io/en/latest/)\n",
        "* [StatQuest: Correlation](https://youtu.be/xZ_z8KWkhXE?t=822)\n",
        "* [StatQuest: Covariance](https://www.youtube.com/watch?v=qtaqvPAeEJY&ab_channel=StatQuestwithJoshStarmer)\n"
      ]
    },
    {
      "cell_type": "markdown",
      "metadata": {
        "id": "IYTslk74PUl5"
      },
      "source": [
        "# Enrichment Topics"
      ]
    },
    {
      "cell_type": "markdown",
      "metadata": {
        "id": "adqwZ8LcbT-N"
      },
      "source": [
        "## 4.4 Other Plot Types\n",
        "\n"
      ]
    },
    {
      "cell_type": "markdown",
      "metadata": {
        "id": "IsvqAwLPymC4"
      },
      "source": [
        "### 4.4.1 Bar Plots (Advanced)\n",
        "\n",
        "Similar to how we created bar plots with pandas, we can use matplotlib to make barplots \n",
        "```\n",
        "pokemon = ['Charmander', 'Pikachu', 'Squirtle', 'Bulbasaur']\n",
        "hp = [10, 12, 8, 16]\n",
        "\n",
        "plt.bar(pokemon, hp, color='tab:blue')\n",
        "plt.title('Pokemon HP')\n",
        "plt.xlabel('Pokemon')\n",
        "plt.ylabel('HP')\n",
        "```\n"
      ]
    },
    {
      "cell_type": "code",
      "metadata": {
        "id": "fQ6IyXJEaEvO",
        "colab": {
          "base_uri": "https://localhost:8080/",
          "height": 312
        },
        "outputId": "23c40229-cabb-49e8-f519-e6f1f88d412e"
      },
      "source": [
        "pokemon = ['Charmander', 'Pikachu', 'Squirtle', 'Bulbasaur']\n",
        "hp = [10, 12, 8, 16]\n",
        "\n",
        "plt.bar(pokemon, hp, color='tab:blue')\n",
        "plt.title('Pokemon HP')\n",
        "plt.xlabel('Pokemon')\n",
        "plt.ylabel('HP')"
      ],
      "execution_count": null,
      "outputs": [
        {
          "output_type": "execute_result",
          "data": {
            "text/plain": [
              "Text(0, 0.5, 'HP')"
            ]
          },
          "metadata": {
            "tags": []
          },
          "execution_count": 57
        },
        {
          "output_type": "display_data",
          "data": {
            "image/png": "[encoded data removed]",
            "text/plain": [
              "<Figure size 432x288 with 1 Axes>"
            ]
          },
          "metadata": {
            "tags": [],
            "needs_background": "light"
          }
        }
      ]
    },
    {
      "cell_type": "markdown",
      "metadata": {
        "id": "XBRj619Oy8RZ"
      },
      "source": [
        "Doing the same but with horizontally oriented bars\n",
        "\n",
        "```\n",
        "pokemon = ['Charmander', 'Pikachu', 'Squirtle', 'Bulbasaur']\n",
        "hp = [10, 12, 8, 16]\n",
        "\n",
        "plt.barh(pokemon, hp, color='tab:blue')\n",
        "plt.title('Pokemon HP')\n",
        "plt.ylabel('Pokemon')\n",
        "plt.xlabel('HP')\n",
        "```"
      ]
    },
    {
      "cell_type": "code",
      "metadata": {
        "id": "7UlPJ3Z2eDyw",
        "colab": {
          "base_uri": "https://localhost:8080/",
          "height": 312
        },
        "outputId": "82ca9d36-cf9b-483b-a016-099ffebd57cb"
      },
      "source": [
        "pokemon = ['Charmander', 'Pikachu', 'Squirtle', 'Bulbasaur']\n",
        "hp = [10, 12, 8, 16]\n",
        "\n",
        "plt.barh(pokemon, hp, color='tab:blue')\n",
        "plt.title('Pokemon HP')\n",
        "plt.ylabel('Pokemon')\n",
        "plt.xlabel('HP')"
      ],
      "execution_count": null,
      "outputs": [
        {
          "output_type": "execute_result",
          "data": {
            "text/plain": [
              "Text(0.5, 0, 'HP')"
            ]
          },
          "metadata": {
            "tags": []
          },
          "execution_count": 58
        },
        {
          "output_type": "display_data",
          "data": {
            "image/png": "[encoded data removed]",
            "text/plain": [
              "<Figure size 432x288 with 1 Axes>"
            ]
          },
          "metadata": {
            "tags": [],
            "needs_background": "light"
          }
        }
      ]
    },
    {
      "cell_type": "markdown",
      "metadata": {
        "id": "ft0Wel7ekA0Y"
      },
      "source": [
        "We can also add error bars\n",
        "\n",
        "```\n",
        "pokemon = ['Charmander', 'Pikachu', 'Squirtle', 'Bulbasaur']\n",
        "hp = [10, 12, 8, 16]\n",
        "variance = [i * random.random()*.25 for i in hp]\n",
        "\n",
        "plt.barh(pokemon, hp, xerr=variance, color='tab:blue')\n",
        "plt.title('Pokemon HP')\n",
        "plt.ylabel('Pokemon')\n",
        "plt.xlabel('HP')\n",
        "```\n",
        "\n",
        "for loop version of list comprehension\n",
        "\n",
        "```\n",
        "hp = [10, 12, 8, 16]\n",
        "variance = []\n",
        "for i in hp:\n",
        "  variance.append(i * random.random()*.25)\n",
        "print(variance)\n",
        "```"
      ]
    },
    {
      "cell_type": "code",
      "metadata": {
        "id": "Y_f-2vLdjsLj",
        "colab": {
          "base_uri": "https://localhost:8080/",
          "height": 312
        },
        "outputId": "de26b76b-a490-4109-c576-3262583ec1a4"
      },
      "source": [
        "pokemon = ['Charmander', 'Pikachu', 'Squirtle', 'Bulbasaur']\n",
        "hp = [10, 12, 8, 16]\n",
        "variance = [i * random.random()*.25 for i in hp]\n",
        "\n",
        "plt.barh(pokemon, hp, xerr=variance, color='tab:blue')\n",
        "plt.title('Pokemon HP')\n",
        "plt.ylabel('Pokemon')\n",
        "plt.xlabel('HP')"
      ],
      "execution_count": null,
      "outputs": [
        {
          "output_type": "execute_result",
          "data": {
            "text/plain": [
              "Text(0.5, 0, 'HP')"
            ]
          },
          "metadata": {
            "tags": []
          },
          "execution_count": 59
        },
        {
          "output_type": "display_data",
          "data": {
            "image/png": "[encoded data removed]",
            "text/plain": [
              "<Figure size 432x288 with 1 Axes>"
            ]
          },
          "metadata": {
            "tags": [],
            "needs_background": "light"
          }
        }
      ]
    },
    {
      "cell_type": "markdown",
      "metadata": {
        "id": "1HqlGOjMzLgd"
      },
      "source": [
        "### 4.4.2 3D Plots\n",
        "\n",
        "You can also create 3D plots in matplotlib using `ax.scatter3D`\n",
        "\n",
        "```\n",
        "ax = plt.axes(projection='3d')\n",
        "ax.scatter3D(range(10),[i*random.random()*.25 for i in range(10)])\n",
        "```\n",
        "\n",
        "for loop version of list comprehension:\n",
        "```\n",
        "ls = []\n",
        "for i in range(10):\n",
        "  ls.append(i*random.random()*.25)\n",
        "print(ls)\n",
        "```"
      ]
    },
    {
      "cell_type": "code",
      "metadata": {
        "id": "kXjtZBGolU56",
        "colab": {
          "base_uri": "https://localhost:8080/",
          "height": 265
        },
        "outputId": "a09dbf1d-142d-448d-e18d-53ef76822beb"
      },
      "source": [
        "ax = plt.axes(projection='3d')\n",
        "ax.scatter3D(range(10),[i*random.random()*.25 for i in range(10)])"
      ],
      "execution_count": null,
      "outputs": [
        {
          "output_type": "execute_result",
          "data": {
            "text/plain": [
              "<mpl_toolkits.mplot3d.art3d.Path3DCollection at 0x7fdf86d241d0>"
            ]
          },
          "metadata": {
            "tags": []
          },
          "execution_count": 60
        },
        {
          "output_type": "display_data",
          "data": {
            "image/png": "[encoded data removed]",
            "text/plain": [
              "<Figure size 432x288 with 1 Axes>"
            ]
          },
          "metadata": {
            "tags": [],
            "needs_background": "light"
          }
        }
      ]
    },
    {
      "cell_type": "markdown",
      "metadata": {
        "id": "AbwIT3HcoZ-k"
      },
      "source": [
        "## 4.5 Visualization with Plotly\n",
        "\n",
        "Another great plotting library, that is gaining in popularity (especially in enterprise settings) is plotly. As an added exercise, if you have additional time, explore some of the [plotly examples](https://plotly.com/python/) then recreate the breakout room assignment using plotly instead of matplotlib."
      ]
    },
    {
      "cell_type": "markdown",
      "metadata": {
        "id": "G8U0Dn-CCfHA"
      },
      "source": [
        "### 4.5.1 Scatter Plot with Size and Color"
      ]
    },
    {
      "cell_type": "code",
      "metadata": {
        "id": "x958oUGbzdnV"
      },
      "source": [
        "import plotly.express as px"
      ],
      "execution_count": null,
      "outputs": []
    },
    {
      "cell_type": "code",
      "metadata": {
        "id": "Glw_Xnozvg8Y",
        "colab": {
          "base_uri": "https://localhost:8080/"
        },
        "outputId": "d4ebc450-572d-4358-a262-d0aa833700da"
      },
      "source": [
        "x = 'quality'\n",
        "y = 'alcohol'\n",
        "color = 'quality'\n",
        "size = 'alcohol'\n",
        "corr = df.corr()\n",
        "pearson = corr[x][y]\n",
        "fig = px.scatter(df, x=x, y=y, color=color, size=size,\n",
        "                title='{} vs {} ({:.2f} corr)'.format(x, y, pearson),\n",
        "                width=800, height=800)\n",
        "fig.show()"
      ],
      "execution_count": null,
      "outputs": [
        {
          "output_type": "display_data",
          "data": {
            "text/html": [
              "<html>\n",
              "<head><meta charset=\"utf-8\" /></head>\n",
              "<body>\n",
              "    <div>\n",
              "            <script src=\"https://cdnjs.cloudflare.com/ajax/libs/mathjax/2.7.5/MathJax.js?config=TeX-AMS-MML_SVG\"></script><script type=\"text/javascript\">if (window.MathJax) {MathJax.Hub.Config({SVG: {font: \"STIX-Web\"}});}</script>\n",
              "                <script type=\"text/javascript\">window.PlotlyConfig = {MathJaxConfig: 'local'};</script>\n",
              "        <script src=\"https://cdn.plot.ly/plotly-latest.min.js\"></script>    \n",
              "            <div id=\"9fe7e498-9dd8-4f23-b6dc-b2f404ecb8f4\" class=\"plotly-graph-div\" style=\"height:800px; width:800px;\"></div>\n",
              "            <script type=\"text/javascript\">\n",
              "                \n",
              "                    window.PLOTLYENV=window.PLOTLYENV || {};\n",
              "                    \n",
              "                if (document.getElementById(\"9fe7e498-9dd8-4f23-b6dc-b2f404ecb8f4\")) {\n",
              "                    Plotly.newPlot(\n",
              "                        '9fe7e498-9dd8-4f23-b6dc-b2f404ecb8f4',\n",
              "                        [{\"hoverlabel\": {\"namelength\": 0}, \"hovertemplate\": \"quality=%{marker.color}<br>alcohol=%{marker.size}\", \"legendgroup\": \"\", \"marker\": {\"color\": [6, 6, 6, 6, 6, 6, 6, 6, 6, 6, 5, 5, 5, 7, 5, 7, 6, 8, 6, 5, 8, 7, 8, 5, 6, 6, 6, 6, 6, 7, 6, 6, 6, 6, 5, 5, 5, 6, 5, 5, 6, 6, 6, 6, 6, 7, 4, 5, 6, 5, 6, 7, 7, 6, 6, 6, 6, 6, 6, 6, 6, 6, 5, 6, 6, 5, 7, 5, 8, 5, 6, 5, 5, 6, 8, 5, 7, 7, 5, 5, 6, 6, 5, 6, 5, 6, 6, 6, 5, 6, 6, 5, 7, 7, 7, 6, 6, 7, 4, 6, 5, 5, 5, 5, 5, 6, 5, 6, 6, 5, 6, 5, 5, 5, 5, 4, 6, 6, 5, 5, 5, 5, 5, 6, 6, 6, 5, 7, 7, 6, 5, 7, 5, 5, 5, 5, 6, 5, 7, 6, 5, 5, 6, 6, 6, 6, 6, 4, 7, 6, 7, 6, 6, 5, 6, 6, 6, 7, 8, 8, 7, 5, 5, 6, 5, 5, 6, 7, 5, 5, 6, 6, 4, 7, 5, 6, 4, 5, 4, 6, 6, 5, 5, 6, 5, 5, 6, 5, 8, 4, 6, 5, 6, 5, 5, 6, 5, 5, 5, 5, 5, 5, 5, 6, 4, 5, 5, 4, 5, 6, 5, 7, 5, 6, 7, 5, 5, 5, 5, 5, 5, 6, 7, 6, 6, 5, 6, 6, 6, 5, 4, 6, 6, 6, 6, 6, 6, 6, 7, 6, 5, 5, 7, 6, 5, 6, 7, 7, 7, 5, 4, 3, 5, 3, 6, 8, 7, 7, 6, 4, 6, 5, 5, 6, 6, 5, 6, 5, 6, 6, 6, 5, 5, 5, 5, 6, 6, 5, 4, 7, 8, 8, 4, 5, 5, 5, 6, 7, 7, 7, 7, 6, 5, 7, 3, 6, 5, 7, 6, 6, 6, 6, 6, 6, 6, 6, 5, 6, 7, 6, 7, 8, 6, 6, 5, 6, 6, 5, 7, 6, 7, 5, 6, 6, 5, 5, 6, 6, 6, 5, 8, 5, 6, 5, 5, 6, 6, 6, 5, 7, 7, 6, 6, 5, 6, 6, 7, 6, 6, 5, 7, 7, 6, 7, 6, 6, 6, 6, 6, 6, 6, 5, 6, 6, 7, 7, 6, 6, 6, 5, 6, 6, 5, 6, 7, 7, 7, 7, 6, 7, 7, 6, 6, 6, 7, 7, 7, 5, 6, 7, 7, 5, 6, 6, 5, 5, 5, 6, 5, 6, 6, 5, 5, 5, 6, 5, 7, 5, 6, 5, 6, 6, 5, 5, 6, 6, 6, 5, 6, 6, 7, 6, 6, 6, 7, 6, 6, 5, 5, 5, 5, 5, 7, 4, 8, 7, 5, 8, 7, 5, 7, 6, 8, 6, 6, 3, 5, 6, 6, 7, 5, 5, 7, 7, 7, 6, 7, 5, 6, 5, 5, 5, 5, 6, 5, 5, 6, 6, 5, 5, 6, 5, 6, 7, 6, 5, 7, 6, 6, 6, 5, 6, 5, 5, 5, 6, 6, 6, 6, 6, 6, 7, 6, 6, 6, 6, 4, 6, 5, 4, 6, 6, 6, 5, 6, 6, 5, 7, 6, 7, 6, 6, 6, 6, 7, 6, 5, 6, 6, 5, 5, 5, 6, 6, 5, 6, 4, 6, 6, 6, 6, 5, 6, 6, 6, 5, 5, 6, 5, 6, 4, 5, 6, 6, 6, 6, 6, 6, 7, 5, 7, 7, 7, 7, 7, 7, 5, 6, 5, 6, 7, 5, 6, 7, 5, 6, 6, 5, 6, 6, 5, 7, 5, 7, 7, 6, 6, 7, 7, 7, 5, 5, 6, 6, 7, 6, 6, 7, 7, 6, 5, 6, 5, 5, 5, 7, 5, 6, 8, 7, 6, 6, 5, 5, 6, 6, 5, 5, 5, 6, 8, 6, 5, 5, 5, 5, 7, 6, 6, 6, 5, 5, 6, 5, 5, 8, 4, 6, 6, 6, 5, 5, 6, 5, 6, 6, 7, 5, 5, 5, 7, 4, 6, 5, 5, 5, 4, 6, 5, 7, 7, 7, 7, 6, 7, 6, 6, 5, 5, 4, 5, 7, 4, 5, 6, 5, 6, 6, 6, 5, 6, 6, 8, 6, 5, 6, 6, 7, 7, 7, 5, 5, 6, 5, 5, 5, 7, 4, 6, 7, 4, 6, 5, 5, 6, 5, 6, 5, 5, 5, 5, 7, 4, 6, 6, 5, 5, 6, 6, 5, 5, 6, 6, 5, 6, 7, 6, 5, 7, 7, 5, 5, 6, 8, 7, 5, 7, 5, 5, 5, 6, 6, 7, 6, 5, 6, 6, 5, 7, 6, 3, 6, 6, 5, 5, 6, 6, 6, 6, 6, 6, 6, 6, 6, 5, 7, 5, 6, 7, 7, 6, 6, 5, 6, 6, 6, 5, 6, 7, 7, 7, 7, 7, 5, 9, 6, 6, 5, 7, 8, 4, 6, 7, 8, 5, 6, 6, 6, 7, 6, 6, 7, 5, 7, 5, 5, 6, 6, 6, 8, 6, 5, 5, 7, 6, 6, 5, 6, 6, 6, 5, 6, 7, 6, 6, 5, 5, 5, 5, 5, 9, 6, 5, 6, 5, 6, 6, 9, 7, 7, 6, 4, 8, 6, 6, 8, 8, 8, 8, 7, 7, 7, 7, 7, 8, 8, 5, 5, 7, 6, 7, 5, 7, 5, 7, 7, 5, 5, 7, 5, 8, 7, 6, 6, 5, 6, 7, 8, 7, 6, 5, 5, 6, 3, 5, 7, 9, 6, 6, 8, 7, 6, 6, 6, 6, 7, 6, 7, 6, 7, 6, 7, 5, 7, 7, 6, 6, 6, 6, 6, 7, 6, 5, 6, 8, 4, 4, 8, 4, 5, 5, 5, 5, 5, 4, 5, 7, 6, 6, 7, 7, 6, 6, 6, 8, 5, 5, 7, 5, 5, 7, 5, 6, 5, 5, 5, 5, 5, 6, 7, 5, 6, 7, 7, 7, 7, 5, 5, 4, 5, 5, 6, 6, 5, 6, 5, 5, 7, 7, 6, 6, 7, 6, 6, 6, 5, 6, 6, 7, 7, 7, 7, 6, 7, 6, 5, 6, 5, 7, 5, 6, 7, 6, 6, 5, 6, 6, 6, 5, 7, 6, 4, 5, 4, 6, 6, 5, 6, 6, 7, 7, 5, 6, 7, 6, 6, 6, 5, 7, 6, 6, 7, 6, 5, 5, 5, 5, 6, 6, 6, 7, 7, 8, 6, 6, 6, 6, 4, 7, 4, 6, 6, 6, 6, 3, 6, 5, 5, 7, 5, 4, 5, 4, 5, 7, 5, 5, 5, 5, 6, 5, 6, 5, 4, 5, 5, 6, 5, 6, 4, 7, 5, 5, 5, 6, 5, 6, 7, 7, 6, 7, 5, 7, 5, 6, 7, 6, 5, 5, 6, 7, 6, 6, 6, 7, 5, 8, 8, 6, 7, 6, 6, 6, 7, 5, 8, 6, 7, 6, 7, 6, 6, 5, 5, 5, 7, 8, 7, 7, 4, 7, 6, 6, 5, 4, 8, 5, 5, 5, 5, 6, 6, 7, 5, 5, 6, 7, 7, 5, 7, 6, 6, 5, 5, 5, 6, 8, 8, 5, 5, 6, 5, 5, 5, 5, 5, 5, 5, 6, 5, 5, 5, 4, 6, 4, 4, 6, 6, 6, 6, 6, 6, 7, 6, 6, 5, 5, 6, 5, 6, 6, 5, 6, 5, 6, 5, 7, 6, 5, 5, 5, 6, 5, 6, 7, 5, 5, 8, 6, 5, 6, 7, 6, 7, 6, 6, 7, 7, 6, 7, 6, 7, 5, 6, 6, 5, 6, 5, 6, 6, 6, 5, 6, 6, 6, 5, 8, 5, 8, 8, 6, 7, 6, 5, 7, 6, 7, 5, 6, 3, 6, 7, 7, 6, 6, 5, 6, 5, 7, 5, 6, 7, 7, 7, 5, 4, 7, 6, 7, 5, 7, 5, 6, 7, 5, 6, 6, 6, 6, 6, 6, 6, 6, 6, 5, 7, 8, 7, 5, 6, 7, 5, 5, 5, 6, 6, 7, 5, 6, 6, 6, 7, 5, 8, 7, 6, 7, 7, 7, 6, 6, 6, 6, 4, 4, 6, 6, 7, 6, 5, 6, 5, 6, 6, 5, 7, 8, 5, 6, 6, 6, 6, 5, 5, 6, 6, 6, 5, 6, 5, 6, 6, 6, 5, 6, 7, 6, 6, 6, 5, 5, 6, 7, 8, 6, 6, 8, 5, 5, 6, 6, 5, 6, 6, 8, 8, 7, 7, 8, 4, 7, 7, 6, 5, 5, 5, 6, 6, 8, 7, 6, 7, 7, 4, 5, 7, 6, 5, 6, 5, 6, 7, 6, 6, 7, 7, 6, 6, 7, 6, 7, 7, 6, 6, 6, 5, 7, 6, 7, 6, 6, 6, 6, 6, 7, 7, 7, 7, 7, 6, 7, 6, 8, 8, 5, 4, 8, 6, 7, 6, 6, 6, 8, 6, 6, 5, 6, 3, 5, 7, 4, 6, 5, 4, 6, 6, 6, 5, 7, 5, 4, 5, 7, 6, 5, 5, 5, 7, 5, 5, 5, 5, 5, 6, 6, 6, 6, 6, 6, 6, 6, 5, 6, 7, 5, 5, 6, 6, 6, 6, 6, 6, 6, 6, 8, 5, 6, 7, 5, 5, 7, 6, 5, 6, 4, 6, 5, 6, 6, 6, 6, 6, 6, 4, 3, 6, 6, 6, 6, 5, 6, 5, 5, 8, 8, 7, 5, 7, 6, 6, 7, 5, 5, 7, 8, 7, 6, 6, 6, 5, 5, 6, 7, 6, 7, 6, 6, 6, 6, 5, 6, 5, 5, 6, 6, 5, 6, 6, 6, 6, 5, 7, 7, 6, 6, 6, 5, 6, 6, 6, 6, 4, 6, 6, 5, 6, 6, 6, 6, 6, 6, 6, 7, 7, 7, 7, 6, 6, 4, 4, 6, 5, 7, 6, 5, 6, 5, 5, 6, 5, 5, 6, 6, 5, 4, 6, 6, 4, 5, 4, 5, 6, 7, 5, 6, 5, 5, 6, 5, 6, 6, 6, 6, 6, 6, 6, 5, 6, 6, 6, 6, 6, 5, 7, 5, 9, 6, 7, 5, 7, 6, 6, 7, 7, 5, 6, 6, 6, 6, 8, 7, 5, 6, 6, 7, 6, 6, 5, 6, 6, 5, 6, 8, 7, 6, 6, 5, 6, 5, 5, 5, 6, 7, 7, 7, 7, 6, 7, 5, 4, 7, 6, 4, 6, 5, 5, 5, 6, 5, 5, 6, 6, 7, 6, 4, 8, 5, 6, 7, 6, 6, 7, 5, 5, 6, 5, 7, 6, 6, 5, 5, 6, 7, 7, 7, 7, 5, 7, 3, 6, 4, 7, 6, 5, 6, 6, 6, 6, 6, 6, 6, 5, 4, 5, 5, 6, 6, 5, 4, 5, 5, 5, 6, 6, 5, 8, 6, 6, 4, 6, 7, 7, 6, 8, 6, 6, 6, 6, 5, 6, 6, 6, 5, 6, 6, 6, 5, 6, 5, 4, 6, 6, 6, 6, 5, 5, 5, 6, 5, 6, 6, 7, 6, 7, 6, 6, 5, 5, 5, 5, 6, 6, 7, 6, 5, 5, 5, 5, 5, 7, 6, 6, 6, 6, 6, 6, 5, 6, 8, 8, 5, 4, 6, 6, 7, 6, 7, 7, 5, 7, 5, 5, 6, 5, 5, 6, 5, 8, 6, 6, 6, 5, 6, 6, 6, 5, 5, 6, 5, 6, 6, 5, 6, 6, 7, 6, 7, 4, 6, 6, 6, 5, 7, 6, 5, 5, 5, 6, 6, 7, 7, 7, 7, 7, 6, 5, 6, 7, 6, 6, 5, 7, 6, 6, 6, 5, 5, 5, 5, 6, 7, 6, 7, 5, 7, 6, 4, 5, 5, 6, 6, 6, 7, 5, 6, 6, 6, 6, 7, 7, 6, 6, 5, 5, 5, 5, 6, 6, 6, 6, 5, 6, 5, 5, 5, 6, 5, 5, 5, 5, 5, 5, 5, 5, 5, 6, 6, 6, 6, 7, 6, 5, 6, 5, 6, 6, 5, 7, 7, 5, 5, 6, 6, 6, 6, 7, 5, 6, 6, 6, 7, 5, 5, 5, 4, 6, 6, 5, 6, 5, 6, 3, 6, 5, 6, 5, 6, 7, 5, 5, 5, 5, 5, 5, 5, 6, 6, 5, 7, 5, 5, 4, 7, 6, 5, 5, 5, 6, 6, 5, 5, 5, 5, 6, 5, 6, 6, 7, 6, 7, 6, 7, 5, 5, 5, 6, 5, 6, 6, 6, 8, 8, 8, 8, 8, 6, 6, 5, 6, 7, 4, 8, 5, 6, 6, 6, 6, 6, 6, 6, 5, 5, 6, 6, 6, 6, 6, 6, 5, 7, 6, 5, 5, 6, 5, 6, 7, 5, 7, 6, 6, 6, 6, 6, 5, 5, 5, 5, 6, 6, 6, 5, 6, 5, 5, 5, 6, 5, 5, 5, 6, 5, 6, 6, 6, 5, 5, 5, 5, 7, 3, 5, 5, 5, 5, 6, 5, 7, 5, 5, 5, 6, 5, 5, 6, 5, 5, 5, 6, 7, 6, 6, 5, 5, 6, 5, 5, 6, 6, 4, 5, 5, 6, 5, 6, 6, 5, 6, 6, 6, 5, 5, 5, 5, 5, 5, 5, 5, 6, 5, 5, 6, 5, 5, 5, 5, 5, 6, 6, 6, 5, 5, 5, 5, 6, 5, 4, 5, 6, 4, 5, 7, 5, 5, 7, 5, 5, 5, 6, 5, 5, 6, 6, 6, 6, 5, 6, 5, 5, 5, 5, 5, 5, 7, 6, 6, 6, 5, 5, 6, 6, 5, 6, 6, 4, 5, 4, 6, 6, 4, 6, 7, 6, 6, 5, 5, 5, 7, 7, 7, 7, 7, 5, 5, 7, 7, 5, 7, 5, 6, 6, 6, 5, 5, 6, 7, 5, 5, 6, 6, 6, 5, 6, 6, 6, 5, 6, 6, 5, 6, 5, 6, 5, 5, 5, 5, 6, 7, 5, 6, 7, 6, 6, 6, 5, 6, 5, 6, 6, 7, 6, 6, 7, 6, 7, 4, 5, 5, 7, 6, 7, 6, 6, 5, 5, 6, 5, 4, 6, 6, 5, 5, 5, 5, 5, 7, 4, 6, 6, 5, 6, 7, 5, 5, 6, 6, 5, 6, 5, 6, 5, 6, 6, 5, 6, 5, 5, 6, 6, 6, 7, 6, 6, 5, 7, 4, 6, 6, 6, 5, 6, 6, 5, 5, 5, 5, 5, 5, 5, 7, 7, 6, 6, 7, 7, 6, 7, 6, 8, 7, 7, 5, 5, 5, 6, 7, 5, 5, 5, 6, 5, 7, 5, 7, 6, 6, 7, 5, 4, 7, 6, 5, 6, 6, 5, 6, 5, 6, 5, 5, 6, 5, 6, 8, 5, 5, 5, 4, 5, 6, 6, 5, 8, 5, 6, 6, 4, 6, 6, 5, 5, 6, 6, 7, 6, 7, 6, 5, 5, 5, 6, 5, 6, 5, 5, 5, 5, 6, 6, 6, 7, 5, 4, 3, 6, 6, 6, 6, 5, 4, 4, 6, 8, 6, 8, 5, 4, 4, 4, 8, 8, 6, 7, 6, 5, 5, 5, 6, 6, 6, 4, 4, 6, 6, 5, 5, 6, 6, 5, 4, 6, 6, 4, 4, 4, 5, 6, 5, 5, 5, 7, 5, 5, 6, 5, 6, 6, 6, 6, 6, 5, 5, 5, 6, 6, 4, 5, 6, 5, 6, 5, 6, 5, 5, 5, 5, 5, 6, 6, 6, 5, 5, 7, 6, 5, 6, 6, 6, 6, 5, 5, 5, 5, 7, 5, 5, 5, 6, 6, 5, 5, 7, 6, 6, 7, 5, 6, 7, 6, 6, 5, 6, 6, 6, 5, 6, 5, 6, 6, 6, 6, 5, 6, 4, 4, 5, 5, 5, 5, 6, 5, 5, 4, 4, 6, 6, 6, 7, 6, 5, 6, 6, 6, 5, 7, 7, 6, 6, 7, 5, 5, 7, 8, 5, 5, 8, 7, 6, 6, 5, 6, 4, 4, 5, 7, 6, 6, 6, 6, 5, 5, 6, 5, 6, 6, 6, 5, 5, 6, 5, 5, 6, 5, 7, 7, 7, 5, 7, 7, 5, 6, 5, 6, 5, 6, 5, 7, 5, 6, 6, 5, 6, 5, 5, 5, 6, 5, 5, 7, 6, 5, 7, 7, 7, 7, 7, 7, 6, 7, 4, 6, 7, 5, 5, 7, 5, 5, 6, 5, 6, 7, 5, 6, 7, 7, 6, 6, 6, 6, 6, 5, 5, 7, 5, 5, 7, 7, 7, 7, 6, 5, 5, 7, 7, 5, 5, 7, 7, 6, 5, 6, 7, 5, 5, 5, 6, 5, 5, 6, 6, 6, 5, 5, 5, 6, 7, 7, 5, 6, 6, 5, 5, 7, 5, 5, 5, 4, 7, 7, 6, 6, 6, 6, 8, 7, 5, 7, 7, 6, 5, 7, 7, 7, 6, 7, 7, 6, 6, 5, 6, 6, 6, 6, 5, 6, 7, 6, 5, 6, 6, 6, 6, 6, 6, 6, 6, 6, 5, 6, 6, 7, 5, 5, 5, 6, 6, 6, 5, 6, 5, 5, 5, 5, 6, 6, 6, 5, 6, 6, 6, 7, 5, 7, 6, 6, 5, 6, 6, 6, 7, 5, 5, 5, 7, 6, 6, 6, 7, 5, 7, 6, 5, 6, 6, 6, 7, 6, 6, 8, 6, 8, 6, 6, 8, 5, 5, 6, 5, 6, 6, 6, 5, 5, 6, 6, 6, 6, 6, 6, 5, 7, 6, 7, 7, 8, 8, 8, 6, 7, 5, 5, 6, 6, 6, 6, 5, 6, 5, 5, 5, 6, 5, 5, 7, 5, 8, 7, 5, 7, 7, 5, 5, 6, 8, 8, 6, 5, 5, 6, 7, 7, 5, 6, 7, 7, 5, 5, 7, 4, 6, 5, 5, 5, 6, 6, 6, 6, 7, 7, 5, 5, 5, 6, 7, 6, 6, 6, 6, 7, 7, 6, 6, 6, 6, 5, 7, 7, 5, 5, 5, 5, 5, 5, 6, 6, 7, 7, 8, 7, 6, 6, 6, 6, 6, 6, 6, 7, 7, 5, 6, 7, 6, 7, 8, 7, 6, 5, 5, 6, 6, 5, 7, 5, 7, 7, 6, 5, 5, 4, 6, 8, 6, 5, 7, 7, 5, 5, 5, 5, 5, 6, 7, 5, 6, 7, 5, 5, 6, 6, 6, 5, 5, 7, 5, 6, 6, 6, 7, 6, 5, 4, 6, 8, 6, 6, 5, 8, 7, 7, 6, 8, 8, 6, 6, 5, 4, 5, 5, 8, 8, 6, 5, 5, 8, 6, 8, 6, 6, 6, 6, 5, 5, 5, 5, 7, 5, 6, 6, 5, 7, 7, 6, 5, 7, 5, 8, 6, 6, 5, 6, 5, 5, 6, 6, 6, 6, 6, 6, 6, 7, 7, 7, 6, 6, 6, 7, 7, 7, 7, 6, 7, 7, 7, 7, 7, 6, 8, 6, 7, 7, 7, 7, 7, 7, 6, 6, 6, 7, 7, 6, 5, 6, 6, 6, 6, 6, 6, 6, 8, 6, 6, 4, 5, 6, 6, 7, 6, 5, 6, 8, 8, 6, 5, 6, 6, 7, 5, 6, 6, 6, 5, 6, 6, 6, 6, 6, 6, 5, 6, 5, 4, 5, 7, 5, 6, 6, 5, 5, 5, 6, 5, 5, 8, 5, 5, 6, 5, 4, 6, 8, 8, 7, 6, 5, 5, 7, 5, 5, 5, 5, 6, 5, 6, 7, 6, 6, 7, 3, 6, 7, 6, 6, 6, 7, 6, 6, 7, 5, 7, 7, 7, 6, 6, 7, 5, 6, 6, 6, 5, 4, 6, 7, 5, 6, 6, 6, 7, 7, 7, 5, 6, 5, 6, 5, 6, 5, 7, 5, 6, 6, 6, 5, 6, 6, 6, 6, 5, 6, 6, 6, 6, 7, 6, 5, 6, 6, 6, 6, 6, 6, 6, 6, 6, 6, 6, 7, 5, 7, 7, 6, 6, 5, 7, 7, 6, 6, 6, 7, 6, 6, 6, 6, 8, 8, 8, 6, 6, 5, 6, 4, 6, 6, 5, 6, 7, 6, 4, 7, 8, 5, 7, 6, 6, 5, 5, 6, 7, 6, 7, 7, 7, 6, 7, 7, 5, 7, 7, 6, 5, 5, 5, 6, 5, 6, 6, 6, 5, 5, 4, 7, 5, 6, 6, 6, 6, 7, 6, 6, 6, 7, 6, 6, 5, 6, 6, 6, 6, 7, 5, 7, 6, 7, 6, 7, 7, 5, 6, 6, 7, 7, 6, 6, 8, 8, 5, 6, 6, 6, 6, 6, 6, 5, 7, 8, 6, 3, 6, 6, 6, 5, 5, 7, 7, 7, 5, 4, 8, 7, 5, 6, 5, 6, 7, 6, 6, 7, 7, 7, 6, 5, 5, 8, 5, 7, 6, 5, 5, 5, 6, 7, 5, 8, 6, 7, 7, 7, 7, 3, 6, 7, 7, 7, 7, 7, 6, 7, 6, 6, 7, 5, 5, 6, 7, 6, 6, 7, 5, 7, 5, 6, 6, 6, 7, 6, 6, 6, 6, 6, 6, 6, 6, 6, 5, 7, 6, 6, 6, 6, 6, 6, 6, 6, 6, 6, 7, 6, 6, 7, 6, 6, 7, 6, 6, 6, 6, 7, 6, 6, 6, 7, 6, 6, 6, 7, 5, 6, 6, 6, 8, 5, 7, 7, 7, 6, 6, 6, 8, 5, 6, 7, 6, 8, 6, 6, 5, 5, 6, 6, 5, 6, 6, 5, 6, 5, 6, 6, 6, 5, 6, 3, 7, 6, 6, 6, 7, 7, 6, 4, 6, 7, 5, 8, 8, 5, 6, 6, 6, 6, 6, 5, 6, 6, 5, 7, 6, 6, 6, 5, 5, 5, 5, 5, 7, 6, 5, 8, 6, 6, 7, 8, 7, 7, 5, 6, 5, 6, 5, 7, 7, 6, 6, 8, 6, 7, 5, 6, 6, 5, 8, 6, 8, 6, 6, 8, 6, 6, 8, 7, 6, 7, 8, 5, 8, 7, 8, 7, 6, 6, 6, 8, 7, 6, 7, 7, 6, 7, 7, 6, 6, 7, 7, 6, 5, 7, 7, 7, 6, 7, 5, 6, 6, 7, 6, 6, 6, 7, 7, 7, 5, 7, 5, 7, 5, 5, 6, 6, 6, 6, 4, 7, 5, 5, 6, 6, 5, 5, 6, 5, 7, 6, 6, 6, 6, 6, 6, 6, 6, 6, 6, 6, 6, 6, 6, 6, 6, 6, 7, 6, 6, 4, 6, 5, 6, 5, 6, 6, 6, 6, 7, 6, 6, 4, 6, 6, 6, 7, 5, 7, 4, 7, 5, 7, 6, 6, 7, 7, 7, 6, 6, 6, 7, 5, 7, 7, 7, 7, 7, 6, 7, 6, 6, 7, 6, 7, 6, 5, 5, 6, 6, 6, 5, 6, 6, 6, 5, 6, 5, 5, 7, 6, 7, 7, 6, 6, 7, 5, 5, 5, 6, 6, 6, 6, 6, 6, 7, 6, 7, 7, 7, 6, 6, 6, 6, 6, 7, 6, 7, 7, 5, 6, 4, 6, 6, 6, 6, 7, 7, 8, 7, 8, 8, 6, 4, 6, 8, 8, 7, 8, 5, 7, 6, 7, 8, 7, 5, 6, 7, 6, 5, 7, 6, 8, 7, 6, 7, 6, 5, 5, 6, 8, 7, 6, 7, 7, 5, 6, 7, 6, 6, 5, 5, 5, 6, 6, 6, 6, 6, 6, 5, 5, 5, 6, 5, 5, 4, 6, 5, 6, 5, 5, 7, 5, 5, 7, 6, 6, 7, 7, 7, 5, 6, 6, 5, 6, 5, 6, 4, 5, 6, 7, 7, 7, 7, 7, 7, 7, 5, 6, 5, 6, 7, 5, 5, 5, 8, 6, 5, 5, 5, 6, 6, 7, 5, 5, 8, 5, 5, 5, 6, 5, 4, 6, 6, 5, 5, 6, 5, 6, 7, 7, 5, 6, 6, 5, 6, 7, 5, 5, 5, 6, 5, 5, 6, 6, 5, 6, 6, 5, 5, 5, 5, 6, 5, 6, 5, 6, 5, 5, 6, 6, 3, 5, 5, 5, 5, 7, 5, 6, 6, 6, 5, 6, 6, 5, 7, 6, 6, 5, 6, 7, 7, 5, 5, 6, 5, 5, 6, 6, 5, 5, 6, 6, 6, 7, 6, 5, 6, 5, 6, 5, 6, 7, 6, 7, 6, 6, 6, 6, 6, 5, 5, 6, 6, 6, 7, 6, 6, 5, 6, 6, 6, 6, 4, 5, 5, 7, 5, 5, 5, 4, 6, 6, 5, 6, 6, 6, 6, 6, 6, 6, 6, 5, 5, 5, 6, 6, 6, 6, 7, 5, 5, 4, 6, 6, 7, 7, 7, 7, 7, 7, 6, 6, 7, 6, 7, 7, 6, 5, 7, 6, 6, 5, 7, 5, 5, 5, 6, 5, 5, 5, 6, 6, 8, 4, 6, 5, 6, 5, 6, 6, 5, 5, 6, 6, 6, 6, 6, 7, 5, 5, 5, 5, 6, 7, 5, 6, 5, 5, 6, 6, 6, 5, 7, 7, 5, 4, 6, 4, 6, 6, 7, 6, 6, 4, 6, 7, 7, 6, 7, 6, 5, 7, 7, 6, 7, 6, 6, 6, 6, 6, 6, 5, 7, 7, 7, 5, 7, 7, 6, 6, 6, 5, 6, 6, 7, 6, 6, 5, 6, 6, 6, 7, 6, 6, 6, 5, 5, 6, 6, 5, 4, 5, 5, 6, 6, 6, 6, 5, 6, 6, 5, 5, 5, 6, 5, 6, 5, 5, 5, 4, 5, 5, 7, 7, 7, 7, 7, 6, 6, 6, 7, 6, 5, 7, 7, 6, 5, 6, 6, 6, 5, 5, 6, 5, 5, 8, 6, 5, 6, 6, 5, 6, 7, 5, 4, 6, 5, 6, 6, 6, 6, 6, 6, 5, 8, 6, 6, 6, 6, 6, 6, 6, 6, 6, 7, 6, 5, 6, 5, 6, 6, 5, 5, 7, 7, 7, 5, 6, 6, 6, 5, 6, 6, 6, 6, 6, 6, 6, 8, 7, 5, 6, 6, 6, 7, 5, 5, 5, 5, 7, 6, 5, 5, 6, 6, 5, 6, 5, 6, 7, 6, 6, 6, 6, 6, 6, 7, 7, 6, 7, 5, 6, 6, 5, 5, 5, 5, 7, 7, 7, 7, 7, 7, 5, 5, 7, 7, 8, 6, 7, 7, 5, 6, 5, 6, 7, 6, 6, 7, 5, 6, 6, 6, 7, 7, 5, 5, 6, 6, 5, 6, 5, 6, 6, 6, 8, 6, 5, 5, 6, 6, 6, 6, 5, 6, 6, 6, 7, 6, 6, 6, 6, 4, 4, 5, 5, 5, 4, 6, 5, 6, 6, 4, 4, 7, 5, 7, 7, 6, 6, 6, 6, 6, 6, 6, 5, 5, 5, 5, 7, 6, 6, 7, 6, 5, 5, 6, 6, 6, 6, 6, 6, 6, 4, 5, 5, 5, 5, 6, 6, 6, 7, 6, 6, 6, 6, 7, 7, 6, 5, 6, 5, 6, 6, 6, 6, 7, 5, 4, 6, 6, 5, 5, 6, 6, 6, 6, 5, 6, 6, 5, 5, 6, 5, 5, 5, 6, 6, 6, 6, 5, 5, 6, 6, 6, 6, 6, 7, 6, 6, 6, 5, 6, 6, 7, 7, 5, 7, 7, 7, 5, 6, 7, 6, 6, 5, 5, 5, 5, 5, 5, 5, 8, 8, 8, 8, 8, 8, 8, 8, 8, 6, 6, 6, 6, 6, 6, 7, 6, 5, 6, 6, 5, 6, 6, 6, 5, 6, 5, 6, 5, 6, 6, 5, 6, 5, 6, 5, 6, 6, 5, 5, 6, 6, 5, 6, 5, 6, 5, 5, 6, 6, 6, 6, 5, 5, 6, 6, 6, 4, 5, 5, 5, 6, 6, 5, 5, 5, 5, 5, 5, 6, 6, 5, 5, 5, 7, 6, 5, 7, 5, 7, 7, 7, 7, 5, 5, 6, 6, 6, 6, 6, 6, 6, 6, 6, 6, 5, 6, 6, 5, 6, 6, 5, 6, 6, 6, 6, 5, 5, 5, 6, 5, 5, 6, 6, 6, 6, 5, 6, 6, 5, 5, 6, 6, 5, 5, 5, 7, 5, 6, 6, 6, 6, 5, 5, 5, 5, 6, 6, 6, 6, 5, 5, 6, 6, 6, 5, 5, 5, 5, 5, 6, 4, 5, 6, 6, 6, 6, 6, 6, 6, 6, 6, 6, 6, 6, 5, 5, 6, 6, 6, 6, 7, 5, 5, 6, 5, 4, 5, 6, 6, 6, 6, 5, 6, 6, 6, 6, 6, 5, 5, 6, 5, 6, 6, 6, 6, 6, 6, 6, 6, 6, 5, 6, 6, 6, 5, 6, 5, 6, 6, 5, 5, 6, 6, 6, 6, 5, 5, 6, 6, 6, 6, 6, 5, 5, 6, 6, 7, 6, 6, 7, 7, 7, 5, 5, 5, 6, 6, 6, 7, 7, 6, 7, 7, 5, 6, 7, 6, 6, 6, 6, 6, 6, 6, 6, 6, 5, 6, 6, 6, 6, 6, 6, 6, 6, 6, 6, 7, 6, 6, 6, 6, 6, 6, 5, 6, 7, 4, 6, 5, 5, 5, 5, 7, 5, 7, 7, 5, 6, 7, 7, 6, 6, 5, 6, 6, 6, 7, 7, 7, 6, 6, 6, 6, 5, 6, 5, 6, 6, 6, 7, 6, 6, 7, 7, 7, 5, 5, 5, 7, 5, 7, 7, 7, 7, 7, 6, 6, 6, 5, 6, 7, 7, 6, 5, 7, 7, 5, 6, 5, 5, 7, 7, 6, 6, 7, 6, 5, 4, 6, 6, 6, 6, 5, 4, 6, 6, 6, 6, 7, 5, 6, 7, 7, 6, 7, 6, 5, 5, 6, 6, 7, 6, 6, 7, 6, 6, 6, 7, 6, 6, 6, 7, 6, 6, 6, 6, 6, 5, 6, 6, 6, 6, 6, 6, 6, 6, 5, 5, 6, 6, 6, 6, 6, 6, 7, 6, 6, 5, 6, 6, 5, 5, 3, 6, 6, 5, 6, 5, 6, 7, 6, 6, 6, 7, 7, 6, 6, 6, 6, 7, 7, 6, 8, 8, 7, 6, 6, 6, 6, 5, 7, 4, 6, 6, 6, 6, 4, 5, 5, 6, 6, 5, 7, 8, 8, 5, 6, 6, 6, 6, 6, 5, 7, 7, 6, 5, 6, 7, 7, 8, 7, 4, 6, 6, 6, 5, 6, 5, 6, 7, 5, 6, 7, 6, 6, 6, 6, 5, 6, 6, 7, 5, 6, 6, 6, 5, 7, 6, 6, 5, 6, 7, 6, 5, 6, 6, 4, 7, 6, 6, 5, 6, 5, 6, 7, 6, 5, 6, 5, 5, 5, 6, 6, 6, 6, 5, 6, 6, 6, 6, 7, 5, 6, 6, 6, 6, 6, 7, 6, 5, 6, 6, 6, 7, 5, 4, 6, 6, 6, 5, 6, 5, 6, 7, 7, 5, 6, 6, 6, 5, 6, 5, 6, 7, 6, 5, 5, 5, 6, 5, 5, 5, 7, 7, 5, 5, 5, 5, 5, 5, 5, 7, 5, 4, 6, 6, 5, 5, 5, 6, 5, 5, 5, 5, 6, 5, 6, 5, 6, 5, 6, 6, 7, 4, 5, 5, 4, 6, 5, 5, 4, 5, 5, 5, 5, 5, 6, 6, 5, 6, 5, 5, 5, 5, 6, 5, 5, 7, 5, 5, 5, 5, 5, 5, 6, 6, 5, 5, 4, 5, 5, 5, 6, 5, 4, 5, 5, 5, 5, 6, 5, 6, 5, 5, 5, 5, 6, 5, 5, 4, 6, 5, 5, 5, 6, 6, 6, 6, 5, 5, 5, 5, 5, 6, 5, 5, 5, 5, 6, 5, 6, 6, 6, 6, 6, 5, 6, 5, 5, 5, 5, 5, 5, 7, 5, 5, 5, 5, 6, 6, 5, 5, 5, 5, 5, 5, 5, 6, 5, 6, 5, 5, 5, 6, 6, 6, 4, 5, 5, 5, 5, 5, 5, 5, 6, 5, 4, 6, 5, 5, 5, 5, 4, 6, 5, 4, 6, 6, 6, 5, 5, 5, 6, 5, 5, 5, 5, 5, 5, 6, 5, 5, 5, 5, 5, 5, 6, 5, 5, 5, 5, 5, 6, 7, 4, 7, 5, 5, 5, 6, 7, 7, 5, 5, 7, 6, 6, 6, 5, 6, 5, 5, 5, 5, 5, 6, 5, 5, 6, 4, 6, 6, 5, 6, 5, 7, 6, 6, 5, 6, 6, 6, 6, 6, 6, 5, 6, 6, 7, 7, 6, 5, 5, 6, 6, 6, 6, 5, 5, 6, 5, 5, 5, 5, 7, 5, 4, 5, 5, 5, 7, 4, 8, 6, 6, 6, 6, 5, 5, 5, 6, 6, 6, 8, 7, 6, 7, 5, 7, 5, 5, 6, 6, 7, 5, 7, 5, 6, 6, 6, 5, 5, 5, 5, 5, 6, 6, 5, 5, 5, 6, 5, 6, 6, 6, 6, 6, 6, 5, 5, 6, 5, 6, 7, 6, 7, 5, 5, 6, 6, 6, 7, 5, 6, 5, 6, 6, 6, 5, 7, 7, 6, 5, 6, 7, 6, 6, 6, 6, 6, 5, 7, 6, 6, 6, 6, 6, 5, 5, 6, 6, 5, 7, 7, 6, 5, 6, 5, 5, 7, 6, 7, 5, 5, 7, 5, 6, 6, 5, 6, 7, 6, 7, 6, 6, 6, 6, 6, 6, 5, 6, 6, 6, 6, 7, 8, 6, 5, 5, 5, 7, 5, 6, 6, 5, 5, 6, 6, 6, 5, 6, 6, 7, 6, 4, 6, 5, 5, 7, 5, 5, 6, 5, 6, 5, 7, 7, 5, 7, 5, 7, 6, 6, 5, 6, 7, 5, 6, 5, 6, 5, 6, 6, 6, 5, 8, 6, 7, 7, 7, 6, 5, 5, 6, 6, 6, 6, 6, 7, 5, 8, 5, 5, 7, 3, 6, 5, 5, 5, 6, 5, 6, 6, 6, 5, 5, 6, 6, 5, 6, 5, 5, 6, 5, 6, 5, 8, 5, 5, 6, 5, 5, 6, 7, 6, 6, 7, 7, 6, 6, 8, 6, 5, 8, 6, 6, 7, 7, 7, 7, 7, 7, 6, 6, 7, 5, 6, 6, 7, 7, 5, 6, 3, 6, 5, 6, 5, 5, 5, 5, 5, 5, 6, 6, 5, 6, 5, 5, 6, 6, 6, 5, 6, 7, 5, 5, 6, 5, 6, 6, 5, 6, 6, 6, 6, 6, 6, 6, 5, 5, 5, 6, 5, 6, 6, 5, 5, 5, 6, 6, 5, 6, 6, 6, 6, 6, 6, 5, 4, 6, 6, 4, 5, 5, 6, 5, 5, 5, 7, 7, 6, 7, 5, 8, 7, 5, 6, 5, 5, 5, 5, 6, 6, 6, 6, 4, 6, 5, 6, 6, 6, 7, 6, 6, 6, 5, 5, 6, 5, 6, 5, 5, 6, 5, 5, 5, 5, 5, 6, 5, 5, 5, 5, 6, 5, 6, 5, 6, 4, 5, 5, 5, 5, 7, 6, 5, 5, 5, 5, 5, 7, 5, 4, 7, 6, 5, 5, 5, 6, 5, 5, 5, 7, 6, 4, 6, 5, 6, 6, 5, 5, 6, 6, 5, 6, 5, 5, 5, 5, 6, 5, 6, 5, 5, 5, 5, 6, 5, 5, 5, 5, 5, 5, 5, 5, 3, 5, 5, 5, 5, 6, 6, 6, 5, 6, 6, 6, 6, 4, 4, 5, 5, 5, 6, 6, 5, 5, 5, 5, 5, 6, 5, 5, 5, 5, 5, 5, 5, 5, 4, 5, 6, 5, 5, 6, 5, 5, 5, 5, 5, 5, 5, 6, 5, 5, 6, 5, 5, 5, 5, 6, 6, 5, 6, 6, 5, 5, 5, 5, 6, 6, 6, 5, 5, 5, 5, 5, 6, 5, 6, 6, 5, 5, 6, 5, 6, 5, 5, 6, 6, 5, 6, 6, 5, 5, 6, 5, 5, 5, 5, 5, 5, 6, 6, 5, 6, 5, 6, 5, 6, 5, 5, 7, 6, 6, 5, 5, 7, 6, 6, 7, 7, 7, 5, 6, 5, 6, 5, 4, 6, 5, 6, 6, 5, 5, 5, 7, 5, 5, 5, 5, 7, 5, 8, 6, 4, 6, 3, 4, 5, 5, 7, 7, 7, 5, 7, 5, 6, 5, 6, 5, 5, 6, 5, 5, 5, 5, 5, 6, 6, 7, 6, 7, 7, 6, 5, 6, 5, 5, 5, 5, 6, 6, 6, 6, 6, 5, 4, 7, 7, 7, 4, 6, 6, 5, 5, 6, 6, 5, 6, 5, 6, 7, 6, 5, 5, 5, 6, 5, 6, 6, 7, 6, 7, 3, 5, 7, 7, 7, 7, 5, 5, 6, 6, 6, 6, 6, 6, 7, 6, 6, 5, 6, 6, 6, 5, 6, 6, 6, 5, 7, 6, 4, 5, 7, 5, 5, 6, 5, 5, 6, 6, 4, 7, 5, 7, 7, 7, 7, 7, 7, 7, 7, 7, 7, 7, 7, 7, 7, 6, 5, 6, 6, 7, 5, 6, 5, 5, 6, 6, 6, 7, 5, 6, 5, 6, 6, 7, 5, 7, 5, 5, 5, 7, 5, 6, 5, 6, 6, 5, 6, 7, 5, 5, 6, 5, 5, 6, 5, 5, 6, 7, 7, 6, 6, 7, 7, 7, 7, 5, 7, 7, 7, 7, 5, 7, 6, 5, 6, 6, 6, 7, 6, 6, 5, 6, 6, 5, 6, 7, 6, 6, 5, 6, 7, 7, 7, 5, 6, 6, 7, 7, 5, 7, 6, 5, 6, 6, 7, 6, 6, 6, 5, 6, 6, 5, 5, 5, 7, 6, 6, 7, 5, 7, 7, 6, 8, 6, 6, 6, 6, 7, 7, 7, 5, 7, 5, 6, 6, 5, 7, 6, 5, 5, 7, 6, 7, 6, 6, 6, 5, 7, 6, 7, 7, 8, 6, 6, 7, 6, 5, 6, 5, 7, 5, 6, 6, 6, 6, 6, 5, 6, 7, 5, 6, 6, 7, 6, 6, 6, 6, 6, 6, 6, 5, 8, 6, 6, 6, 4, 7, 6, 6, 5, 6, 6, 5, 7, 7, 7, 6, 6, 6, 5, 6, 6, 6, 6, 6, 5, 6, 6, 7, 6, 6, 7, 6, 5, 6, 6, 5, 7, 7, 6, 5, 7, 6, 7, 5, 5, 5, 5, 7, 6, 6, 6, 6, 6, 6, 6, 6, 4, 7, 5, 6, 6, 5, 6, 5, 5, 6, 5, 6, 5, 4, 6, 5, 7, 5, 6, 6, 6, 6, 6, 6, 6, 7, 8, 5, 7, 7, 7, 5, 7, 7, 6, 5, 6, 6, 6, 6, 6, 6, 6, 6, 6, 6, 6, 6, 6, 5, 5, 5, 7, 5, 6, 5, 5, 4, 6, 4, 6, 6, 4, 4, 5, 5, 6, 5, 6, 5, 5, 5, 6, 6, 6, 5, 5, 5, 5, 5, 5, 6, 6, 6, 5, 4, 5, 4, 6, 6, 6, 6, 6, 8, 6, 6, 5, 5, 6, 6, 4, 6, 6, 7, 6, 6, 6, 6, 5, 5, 6, 5, 5, 5, 5, 6, 6, 4, 6, 5, 5, 6, 6, 3, 6, 6, 6, 5, 5, 5, 5, 4, 5, 5, 5, 6, 5, 6, 6, 6, 6, 6, 6, 6, 5, 6, 5, 7, 6, 6, 6, 6, 5, 6, 6, 5, 6, 5, 5, 6, 5, 5, 5, 6, 6, 6, 6, 6, 5, 6, 5, 5, 5, 5, 5, 6, 5, 5, 5, 5, 5, 6, 5, 6, 5, 5, 6, 4, 6, 5, 5, 6, 6, 4, 5, 6, 5, 5, 3, 5, 5, 6, 6, 6, 6, 5, 5, 5, 5, 5, 5, 5, 5, 5, 6, 5, 5, 5, 5, 6, 5, 5, 7, 6, 5, 5, 6, 8, 6, 7, 6, 6, 7, 6, 6, 6, 6, 5, 5, 5, 5, 7, 5, 5, 5, 5, 6, 4, 6, 6, 6, 5, 5, 5, 5, 6, 6, 7, 6, 6, 5, 5, 5, 6, 7, 6, 5, 5, 6, 6, 5, 5, 5, 8, 7, 7, 7, 5, 6, 6, 6, 5, 5, 7, 6, 4, 6, 6, 5, 5, 7, 4, 7, 3, 5, 5, 6, 5, 5, 7, 5, 7, 3, 5, 4, 5, 4, 5, 4, 5, 5, 5, 5, 6, 6, 5, 5, 5, 7, 6, 5, 6, 6, 6, 5, 5, 5, 6, 6, 3, 6, 6, 6, 5, 6, 5, 6, 6, 6, 6, 5, 6, 5, 5, 6, 4, 5, 5, 6, 5, 6, 6, 6, 6, 6, 5, 6, 5, 7, 6, 6, 6, 5, 5, 6, 7, 6, 6, 7, 6, 5, 5, 5, 8, 5, 5, 6, 5, 6, 7, 5, 6, 5, 5, 5, 5, 5, 5, 5, 6, 6, 5, 5, 6, 6, 6, 5, 6, 6, 6, 6, 6, 6, 5, 6, 5, 5, 5, 7, 6, 6, 6, 6, 5, 6, 6, 6, 6, 5, 6, 6, 5, 6], \"coloraxis\": \"coloraxis\", \"size\": [8.8, 9.5, 10.1, 9.9, 9.9, 10.1, 9.6, 8.8, 9.5, 11.0, 12.0, 9.7, 10.8, 12.4, 9.7, 11.4, 9.6, 12.8, 11.3, 9.5, 12.8, 11.0, 10.5, 9.3, 10.0, 10.4, 10.0, 10.5, 11.6, 12.3, 10.0, 10.2, 10.8, 9.0, 10.2, 12.8, 10.0, 11.2, 8.6, 8.6, 9.4, 9.4, 9.8, 9.5, 9.5, 10.0, 9.8, 9.8, 9.8, 9.8, 11.7, 11.0, 10.9, 10.9, 9.1, 11.0, 9.6, 8.9, 10.2, 9.9, 8.6, 8.9, 10.5, 10.2, 10.3, 9.1, 12.6, 9.8, 10.7, 9.5, 9.0, 9.5, 10.0, 9.1, 10.7, 9.5, 12.7, 12.0, 9.3, 9.0, 10.6, 9.2, 10.0, 9.5, 8.7, 8.7, 8.7, 9.7, 8.7, 8.7, 8.7, 9.0, 12.6, 12.6, 11.5, 9.2, 8.8, 11.4, 10.1, 8.8, 9.1, 9.4, 9.4, 9.0, 9.1, 9.2, 9.4, 9.1, 9.1, 10.3, 8.8, 8.9, 9.2, 9.1, 9.1, 9.7, 11.3, 11.8, 9.2, 9.2, 10.2, 8.8, 9.7, 9.1, 9.8, 11.0, 10.5, 9.7, 10.9, 10.9, 10.6, 9.7, 9.0, 9.2, 8.9, 9.6, 10.7, 8.7, 10.8, 11.8, 10.2, 8.7, 10.8, 9.7, 11.2, 10.9, 10.1, 9.0, 12.0, 9.4, 11.5, 9.9, 9.4, 10.4, 9.7, 8.9, 8.9, 12.4, 12.1, 12.1, 12.4, 9.1, 10.6, 8.9, 9.5, 9.8, 9.6, 12.6, 9.3, 10.0, 12.7, 11.0, 11.4, 11.5, 10.2, 11.4, 12.6, 9.4, 8.7, 9.2, 9.3, 9.2, 8.7, 9.6, 9.3, 9.3, 9.9, 11.0, 12.7, 8.9, 8.9, 8.7, 11.4, 9.6, 9.1, 9.1, 9.1, 8.9, 8.8, 8.9, 9.3, 8.8, 9.6, 12.0, 10.2, 8.8, 9.2, 9.9, 10.2, 9.5, 10.5, 11.2, 9.2, 9.7, 11.1, 9.4, 11.0, 9.4, 9.4, 11.0, 11.0, 9.1, 11.1, 9.1, 10.4, 8.7, 9.7, 9.1, 9.7, 8.7, 8.9, 9.6, 9.5, 9.0, 9.0, 9.0, 9.0, 9.6, 11.1, 9.6, 8.7, 10.4, 11.4, 9.7, 8.7, 11.3, 12.6, 10.9, 10.9, 10.0, 10.0, 9.8, 8.7, 11.7, 9.3, 9.6, 11.0, 11.0, 11.8, 11.4, 10.2, 8.9, 10.2, 9.6, 10.6, 8.9, 9.2, 9.7, 9.7, 9.7, 9.2, 9.7, 9.3, 9.0, 9.5, 9.8, 9.8, 10.6, 10.6, 12.4, 12.6, 12.3, 10.5, 9.3, 8.8, 8.8, 9.7, 9.0, 9.0, 9.0, 9.0, 10.5, 9.1, 9.8, 8.5, 9.4, 9.4, 11.2, 10.0, 10.3, 10.8, 10.5, 10.8, 11.1, 9.9, 9.9, 9.9, 9.9, 10.4, 10.4, 11.5, 12.5, 10.0, 10.0, 10.0, 9.1, 10.6, 10.5, 11.5, 10.1, 10.3, 10.5, 10.6, 10.4, 11.4, 10.5, 10.0, 10.0, 9.6, 10.4, 12.5, 10.6, 11.8, 9.8, 10.8, 11.8, 11.2, 9.3, 10.4, 10.2, 9.0, 10.0, 9.1, 10.0, 10.0, 9.6, 11.2, 8.8, 10.0, 10.0, 11.4, 11.9, 9.6, 11.9, 9.6, 9.0, 9.0, 9.5, 10.4, 10.6, 10.2, 8.9, 9.7, 9.0, 11.4, 12.3, 10.8, 9.4, 10.6, 11.6, 9.4, 10.6, 10.0, 9.2, 12.5, 12.5, 10.4, 10.0, 10.0, 10.4, 10.0, 9.0, 9.2, 9.2, 11.3, 12.5, 10.8, 10.1, 9.7, 9.3, 9.3, 10.6, 10.2, 12.2, 8.8, 10.0, 11.4, 11.4, 9.4, 11.7, 11.4, 8.8, 9.2, 8.7, 12.6, 10.0, 12.8, 9.4, 10.3, 11.4, 9.0, 9.6, 10.5, 10.5, 9.0, 9.6, 9.8, 9.0, 9.8, 10.5, 12.7, 10.4, 10.4, 10.4, 10.5, 10.4, 10.4, 9.4, 9.1, 9.3, 9.4, 9.8, 9.9, 9.2, 12.1, 12.2, 9.8, 12.4, 9.9, 9.2, 11.6, 10.4, 12.9, 9.3, 11.0, 11.5, 12.4, 9.8, 9.8, 10.5, 9.1, 10.1, 10.6, 10.5, 10.5, 9.8, 12.9, 9.5, 9.8, 8.5, 9.5, 9.3, 9.5, 9.4, 8.7, 8.9, 9.4, 9.4, 8.7, 9.6, 9.3, 10.0, 12.5, 9.6, 9.4, 9.5, 12.4, 10.5, 9.2, 10.4, 9.2, 10.6, 9.5, 9.2, 9.6, 9.7, 9.7, 10.7, 10.5, 8.9, 12.1, 12.7, 9.9, 11.4, 10.7, 12.5, 8.6, 12.5, 10.0, 8.6, 9.5, 9.6, 9.9, 9.9, 8.9, 8.9, 8.8, 10.0, 12.0, 10.0, 10.0, 12.1, 11.0, 11.2, 10.3, 10.4, 9.1, 10.4, 10.8, 11.7, 9.8, 9.8, 11.4, 11.2, 11.4, 9.2, 12.5, 12.6, 12.2, 11.2, 9.7, 9.3, 9.0, 9.0, 9.0, 9.1, 9.1, 9.0, 10.4, 9.5, 11.4, 8.7, 9.9, 9.9, 9.0, 10.0, 9.7, 11.8, 10.2, 8.7, 9.6, 11.3, 12.1, 9.6, 12.1, 11.3, 9.4, 10.4, 9.5, 12.3, 9.9, 10.1, 9.2, 10.4, 9.1, 10.0, 11.5, 9.8, 9.8, 9.4, 8.7, 11.6, 8.8, 12.7, 11.7, 10.2, 10.2, 12.7, 11.6, 12.3, 8.7, 9.4, 10.1, 9.7, 10.1, 9.7, 8.9, 10.8, 10.8, 9.5, 9.1, 10.9, 9.4, 10.8, 10.8, 10.5, 9.4, 10.8, 10.5, 11.5, 9.4, 10.8, 10.8, 10.8, 9.8, 9.8, 9.6, 9.6, 9.5, 10.7, 12.4, 11.1, 8.8, 8.7, 8.7, 8.8, 11.7, 10.9, 10.8, 9.6, 9.0, 9.0, 10.4, 11.4, 9.3, 11.0, 9.1, 9.4, 9.4, 10.5, 8.8, 8.8, 10.7, 9.5, 10.9, 10.8, 10.8, 9.2, 10.3, 10.3, 11.0, 9.0, 10.4, 9.5, 9.5, 9.0, 9.5, 9.0, 10.0, 9.1, 9.1, 9.1, 9.1, 9.5, 11.4, 12.2, 11.3, 10.2, 11.3, 10.0, 9.4, 12.2, 9.2, 9.4, 9.6, 9.5, 12.5, 9.6, 10.0, 9.3, 9.3, 11.6, 12.5, 10.6, 9.4, 9.1, 9.0, 11.8, 11.8, 11.8, 10.0, 9.7, 9.5, 9.4, 11.2, 9.0, 10.7, 9.0, 9.1, 10.8, 10.1, 9.9, 9.8, 9.8, 9.5, 9.5, 11.1, 9.5, 9.5, 9.4, 9.7, 13.9, 10.1, 10.5, 12.6, 10.9, 10.0, 11.2, 10.0, 9.2, 9.5, 12.3, 12.3, 10.0, 10.8, 10.5, 9.2, 9.1, 10.5, 10.2, 8.9, 10.4, 11.7, 12.4, 10.9, 10.2, 11.7, 9.4, 10.5, 9.4, 10.4, 9.5, 11.1, 9.1, 9.2, 9.6, 9.1, 9.2, 10.8, 9.6, 12.6, 11.0, 10.2, 9.4, 10.0, 12.2, 10.5, 11.5, 9.8, 11.4, 11.5, 10.2, 9.4, 10.5, 9.1, 12.2, 9.5, 9.3, 9.8, 9.8, 9.8, 9.8, 8.7, 10.2, 9.5, 11.0, 9.2, 10.9, 9.3, 9.3, 9.8, 9.3, 9.3, 9.4, 10.4, 12.1, 11.0, 9.0, 9.5, 8.8, 11.2, 9.3, 9.5, 8.8, 9.0, 9.3, 9.2, 9.2, 10.0, 9.3, 9.2, 10.9, 10.0, 10.9, 9.3, 9.0, 9.2, 9.6, 9.4, 11.1, 8.9, 9.3, 9.3, 9.8, 9.8, 8.9, 9.6, 9.6, 9.0, 9.5, 9.3, 9.2, 9.1, 9.5, 10.5, 9.0, 11.7, 9.1, 9.0, 9.1, 12.4, 9.2, 9.4, 9.6, 11.7, 9.8, 10.2, 12.5, 10.9, 11.0, 10.5, 11.5, 12.8, 12.2, 10.5, 12.8, 11.9, 11.9, 11.9, 12.0, 12.0, 8.8, 8.8, 10.8, 11.0, 11.0, 9.3, 10.8, 8.8, 11.5, 10.8, 9.4, 9.5, 8.6, 9.5, 10.3, 9.4, 9.4, 10.0, 9.4, 10.4, 9.1, 9.9, 12.1, 9.9, 12.5, 9.5, 8.5, 9.0, 10.1, 9.4, 8.6, 10.7, 9.6, 10.1, 10.0, 12.7, 10.2, 8.9, 11.9, 10.0, 9.9, 11.5, 11.5, 9.8, 12.2, 11.4, 11.0, 11.4, 11.0, 9.9, 11.0, 9.4, 12.2, 11.0, 10.3, 10.5, 10.5, 10.9, 10.5, 11.0, 9.7, 8.9, 9.6, 8.8, 11.1, 10.3, 12.2, 9.8, 8.8, 9.9, 9.9, 9.9, 9.2, 9.5, 9.2, 10.3, 11.0, 11.9, 10.2, 9.4, 8.9, 8.9, 10.0, 10.7, 9.8, 9.3, 9.5, 10.0, 9.0, 11.9, 8.9, 10.0, 9.6, 8.9, 8.9, 11.4, 9.0, 10.0, 9.6, 9.7, 9.5, 10.0, 12.2, 8.7, 10.2, 9.6, 10.0, 9.5, 11.5, 9.5, 9.8, 10.1, 10.0, 9.8, 9.5, 9.5, 10.2, 10.2, 9.0, 9.0, 12.3, 9.0, 11.6, 9.5, 11.5, 9.6, 9.0, 12.0, 11.4, 12.3, 12.6, 9.0, 12.0, 11.7, 9.2, 10.3, 8.6, 10.7, 9.8, 9.8, 10.7, 12.5, 11.9, 10.8, 10.5, 10.3, 10.3, 10.8, 12.0, 10.2, 10.2, 9.9, 10.1, 9.5, 10.5, 10.4, 9.5, 9.2, 10.1, 9.8, 9.4, 9.4, 10.4, 11.3, 10.8, 11.3, 9.3, 10.3, 10.5, 10.3, 11.2, 10.3, 9.5, 8.9, 10.2, 9.2, 10.3, 10.5, 9.5, 11.4, 11.4, 11.1, 10.5, 12.0, 9.7, 10.2, 9.5, 10.4, 9.3, 10.5, 10.0, 10.2, 10.2, 9.1, 10.2, 10.7, 9.7, 9.3, 11.0, 10.8, 10.7, 10.7, 8.8, 10.9, 10.5, 10.0, 10.4, 9.2, 12.6, 9.0, 9.2, 11.3, 10.3, 10.4, 10.0, 10.7, 9.0, 10.7, 8.7, 11.6, 9.4, 9.5, 9.5, 10.9, 9.7, 9.1, 11.1, 12.6, 11.0, 11.3, 9.7, 10.9, 10.9, 9.3, 12.7, 10.1, 10.0, 9.8, 10.1, 9.0, 9.4, 9.4, 9.2, 10.1, 8.6, 11.2, 11.2, 9.2, 10.6, 9.3, 8.9, 10.6, 10.6, 8.8, 11.0, 10.2, 10.1, 10.1, 14.0, 9.4, 11.8, 11.4, 10.7, 8.6, 11.5, 11.2, 12.6, 12.6, 9.3, 12.6, 12.1, 9.9, 10.7, 10.0, 10.4, 10.5, 9.7, 10.5, 9.0, 9.2, 10.1, 11.4, 10.8, 10.9, 9.2, 12.9, 12.0, 9.5, 11.8, 9.1, 9.7, 9.1, 10.0, 10.4, 9.5, 12.3, 11.7, 9.5, 11.5, 10.6, 10.2, 9.5, 10.5, 10.5, 8.9, 10.6, 9.5, 10.8, 9.5, 8.9, 8.9, 9.4, 10.6, 9.0, 10.5, 9.0, 9.0, 9.4, 9.0, 9.6, 9.0, 10.2, 9.4, 10.4, 10.4, 9.5, 10.6, 11.0, 9.6, 9.9, 9.6, 12.8, 11.4, 10.0, 9.1, 9.4, 10.2, 9.2, 9.4, 9.6, 10.1, 11.4, 10.6, 12.8, 8.9, 9.3, 11.1, 9.9, 9.6, 12.8, 10.7, 9.2, 9.1, 9.6, 9.2, 10.7, 9.1, 9.2, 10.7, 10.8, 10.8, 9.0, 10.7, 10.7, 9.4, 8.8, 9.0, 11.5, 12.5, 10.5, 9.7, 11.3, 10.7, 10.8, 10.6, 11.7, 9.2, 11.1, 11.7, 11.0, 12.5, 10.0, 10.6, 12.3, 12.7, 12.3, 10.5, 12.5, 12.4, 8.7, 12.4, 12.6, 11.0, 10.1, 10.5, 12.7, 10.9, 13.5, 9.7, 9.2, 10.6, 13.3, 13.5, 10.1, 9.4, 10.6, 11.3, 10.8, 10.4, 10.5, 9.3, 9.3, 12.2, 9.2, 10.3, 9.4, 10.2, 9.0, 9.3, 9.2, 9.4, 9.4, 9.5, 9.9, 11.1, 12.3, 8.6, 9.4, 9.4, 8.6, 10.9, 9.4, 10.9, 9.4, 9.2, 8.6, 9.4, 10.8, 10.5, 12.5, 12.1, 8.7, 12.7, 12.1, 12.5, 11.4, 12.9, 12.8, 11.2, 9.7, 9.7, 10.3, 11.6, 11.6, 9.7, 10.9, 12.6, 12.4, 11.5, 10.2, 11.4, 9.6, 10.3, 9.3, 10.7, 12.8, 9.5, 10.4, 10.3, 9.9, 10.7, 10.5, 9.6, 9.3, 10.0, 11.2, 10.8, 10.3, 8.8, 12.8, 13.2, 10.1, 11.0, 10.8, 12.8, 9.2, 10.5, 11.7, 9.5, 9.5, 8.8, 9.3, 12.6, 12.4, 10.1, 11.2, 10.0, 10.0, 10.8, 10.0, 10.4, 10.8, 9.8, 12.2, 12.7, 12.2, 11.9, 11.2, 10.4, 12.8, 12.7, 10.1, 10.0, 9.0, 11.4, 8.9, 9.3, 12.0, 10.8, 10.5, 10.6, 11.3, 9.5, 11.4, 10.1, 10.9, 8.9, 8.9, 9.3, 10.4, 12.0, 9.5, 9.5, 12.4, 11.2, 11.4, 11.4, 11.1, 10.4, 12.0, 12.3, 9.1, 10.5, 11.4, 9.5, 13.7, 13.4, 11.3, 10.0, 10.1, 12.2, 13.4, 9.3, 13.7, 12.3, 11.3, 8.9, 8.9, 11.5, 8.9, 9.3, 11.1, 10.9, 11.6, 10.2, 10.5, 11.4, 8.9, 10.6, 11.6, 11.5, 12.3, 10.8, 11.3, 9.3, 10.0, 11.0, 10.2, 10.8, 10.1, 11.6, 9.1, 10.0, 10.8, 11.4, 12.7, 11.3, 10.4, 9.6, 10.1, 9.6, 12.1, 12.2, 11.3, 9.6, 9.2, 10.4, 9.5, 8.9, 8.8, 10.5, 9.4, 12.2, 11.3, 12.2, 12.2, 11.2, 11.2, 11.5, 11.3, 9.3, 11.3, 11.8, 9.2, 9.2, 12.2, 12.2, 12.2, 10.6, 12.4, 10.8, 11.2, 11.0, 12.7, 10.2, 11.5, 12.3, 9.8, 9.3, 11.8, 11.3, 11.4, 10.8, 9.5, 10.2, 10.7, 10.8, 11.5, 10.7, 10.2, 10.1, 10.4, 9.5, 9.1, 10.6, 9.4, 9.8, 9.5, 9.3, 10.3, 11.1, 10.0, 12.3, 12.4, 12.3, 10.4, 12.1, 12.5, 13.0, 11.0, 10.1, 9.2, 12.6, 12.2, 9.8, 11.0, 10.0, 9.8, 10.5, 10.0, 11.2, 11.0, 11.2, 11.0, 10.5, 10.6, 10.6, 12.0, 10.1, 10.1, 9.2, 11.0, 10.0, 8.7, 8.7, 11.1, 11.0, 11.1, 8.7, 8.7, 11.2, 11.1, 10.8, 9.0, 10.3, 9.9, 10.0, 9.8, 10.8, 9.0, 9.1, 10.6, 10.6, 9.9, 10.6, 9.9, 9.9, 12.8, 10.3, 10.6, 8.7, 12.6, 11.0, 11.2, 10.7, 9.6, 10.6, 9.0, 10.5, 12.8, 10.1, 12.2, 12.8, 10.1, 10.1, 9.2, 9.9, 9.7, 9.9, 9.9, 9.7, 10.3, 10.3, 10.5, 10.5, 9.8, 10.6, 10.1, 9.0, 9.5, 11.5, 11.9, 10.1, 9.2, 8.7, 9.8, 9.2, 8.7, 11.2, 12.3, 10.4, 10.7, 10.5, 9.4, 9.2, 11.9, 9.2, 9.9, 11.4, 9.4, 10.7, 12.7, 13.5, 9.5, 12.9, 12.5, 9.5, 8.6, 10.0, 12.5, 10.1, 11.3, 10.6, 10.8, 10.7, 9.0, 9.2, 8.5, 11.3, 11.3, 9.4, 8.7, 9.4, 10.5, 9.7, 10.2, 9.4, 11.5, 9.6, 11.4, 11.5, 12.2, 11.0, 9.2, 10.2, 10.0, 9.7, 9.2, 10.5, 10.0, 10.1, 9.1, 10.2, 9.1, 10.5, 10.1, 12.1, 10.2, 9.4, 12.8, 9.0, 10.9, 8.8, 9.0, 10.2, 9.2, 11.3, 8.8, 9.3, 9.4, 10.3, 10.8, 8.8, 9.0, 11.5, 10.8, 11.8, 10.5, 9.9, 9.8, 11.4, 9.3, 9.3, 10.3, 8.9, 11.4, 11.1, 10.4, 10.1, 9.0, 11.9, 9.0, 9.0, 9.1, 9.0, 10.0, 9.1, 9.4, 11.4, 9.7, 9.0, 11.8, 10.2, 9.2, 11.0, 10.0, 12.2, 11.8, 11.6, 10.2, 10.3, 8.6, 9.6, 9.6, 11.3, 9.9, 9.6, 10.6, 9.8, 10.5, 10.8, 10.0, 10.1, 9.4, 11.5, 10.8, 9.9, 9.0, 9.4, 10.8, 10.9, 12.0, 11.5, 10.5, 9.3, 11.8, 10.0, 9.4, 11.4, 10.4, 9.5, 11.9, 11.1, 9.6, 12.0, 8.7, 9.6, 10.0, 11.4, 9.6, 12.9, 9.7, 9.3, 9.1, 8.6, 9.9, 9.3, 10.9, 10.2, 9.7, 11.4, 9.5, 10.2, 11.1, 9.7, 9.3, 8.8, 10.6, 9.3, 10.2, 10.2, 11.0, 9.6, 9.3, 8.8, 8.8, 8.9, 10.0, 12.2, 10.9, 9.5, 10.9, 10.9, 10.8, 12.0, 9.8, 9.5, 11.0, 11.0, 9.8, 10.5, 11.4, 10.1, 11.6, 11.4, 11.8, 12.1, 12.0, 12.1, 9.1, 9.3, 10.4, 9.1, 9.4, 9.6, 12.0, 11.3, 8.7, 9.9, 9.3, 9.5, 8.7, 9.9, 9.3, 9.4, 9.4, 8.8, 9.4, 8.8, 9.9, 9.4, 12.6, 11.1, 12.8, 12.0, 12.0, 9.2, 12.3, 13.0, 12.0, 10.9, 12.8, 10.0, 9.0, 10.4, 9.0, 10.0, 10.0, 11.3, 11.3, 12.0, 11.3, 12.0, 10.6, 9.3, 9.4, 11.0, 9.3, 9.4, 10.5, 11.0, 9.5, 11.2, 12.3, 9.0, 9.0, 9.0, 9.0, 11.4, 11.0, 12.3, 10.4, 10.3, 10.5, 9.8, 10.0, 9.7, 9.7, 9.8, 10.5, 10.0, 11.5, 9.5, 10.5, 10.2, 9.8, 11.6, 11.8, 10.1, 10.3, 10.4, 8.9, 8.9, 10.8, 9.2, 9.6, 10.4, 8.7, 9.2, 9.2, 9.2, 9.2, 9.2, 10.2, 9.2, 9.0, 9.7, 9.6, 10.0, 9.2, 9.1, 8.7, 8.7, 9.5, 9.5, 8.9, 8.9, 9.9, 12.6, 9.7, 10.4, 9.1, 10.4, 9.5, 8.9, 10.6, 12.0, 12.5, 9.6, 9.2, 9.9, 11.7, 9.6, 12.0, 12.5, 9.2, 9.9, 8.9, 9.0, 10.2, 9.6, 9.4, 10.4, 10.4, 10.0, 10.0, 10.5, 11.4, 10.2, 10.4, 11.0, 10.1, 9.2, 10.3, 10.2, 10.4, 11.1, 9.9, 9.0, 8.6, 9.0, 8.6, 9.5, 9.0, 10.0, 9.0, 9.0, 10.2, 9.6, 9.7, 10.2, 13.0, 10.8, 9.7, 9.0, 9.9, 9.2, 8.7, 10.1, 10.1, 9.5, 9.9, 8.7, 9.0, 8.6, 10.5, 9.5, 10.1, 11.7, 10.7, 11.7, 9.2, 8.8, 8.8, 9.5, 10.2, 9.1, 10.5, 9.0, 8.9, 8.9, 8.9, 8.9, 8.9, 9.1, 10.1, 10.0, 9.5, 12.3, 9.1, 8.9, 9.6, 11.6, 8.8, 8.9, 8.8, 8.9, 8.9, 9.0, 10.0, 10.0, 11.1, 11.6, 10.6, 8.8, 8.9, 10.1, 10.0, 12.2, 11.0, 10.0, 11.1, 10.4, 11.8, 10.8, 12.5, 11.8, 11.6, 10.4, 11.5, 10.1, 9.2, 10.1, 9.2, 8.9, 10.1, 8.9, 9.7, 9.2, 11.0, 10.7, 10.8, 9.8, 11.0, 10.4, 10.2, 10.7, 9.0, 10.6, 9.5, 9.0, 9.2, 11.0, 9.9, 10.6, 9.3, 9.6, 9.5, 9.7, 9.7, 8.7, 8.7, 12.4, 12.4, 10.6, 8.7, 12.0, 9.0, 8.8, 9.5, 10.8, 11.4, 10.3, 9.5, 9.9, 10.2, 10.2, 11.0, 12.1, 9.1, 9.5, 9.5, 9.8, 9.5, 10.3, 9.6, 10.2, 10.5, 10.4, 9.6, 10.7, 10.5, 10.6, 9.6, 9.6, 9.5, 9.4, 9.8, 9.6, 9.2, 9.5, 9.2, 9.4, 9.4, 9.3, 9.1, 9.5, 9.1, 10.6, 9.5, 12.4, 8.7, 8.8, 10.6, 9.1, 9.0, 10.3, 9.1, 9.5, 8.8, 8.8, 8.8, 9.9, 9.5, 8.8, 11.7, 10.8, 12.0, 10.3, 9.0, 12.2, 9.9, 9.0, 12.2, 10.1, 9.3, 9.5, 9.2, 11.7, 11.0, 9.6, 9.6, 11.9, 10.8, 10.1, 10.9, 10.1, 10.4, 9.2, 9.6, 9.6, 9.0, 11.5, 10.2, 9.9, 9.6, 10.6, 9.2, 11.8, 12.2, 9.6, 10.6, 10.3, 10.2, 10.7, 11.7, 12.0, 10.6, 12.2, 11.0, 12.4, 9.4, 12.0, 11.6, 9.4, 9.4, 9.1, 9.1, 9.1, 9.1, 9.1, 9.2, 9.2, 9.1, 9.1, 9.2, 9.0, 9.2, 10.8, 9.5, 11.0, 10.0, 9.5, 10.1, 9.5, 9.5, 9.5, 9.4, 9.4, 12.7, 9.7, 9.7, 9.4, 9.4, 9.5, 11.7, 11.7, 9.7, 9.5, 9.1, 10.3, 9.7, 9.9, 9.9, 10.2, 12.1, 11.3, 11.4, 12.2, 9.9, 10.3, 12.2, 10.4, 11.4, 9.9, 10.0, 11.5, 10.5, 12.5, 10.5, 9.9, 11.4, 9.8, 11.4, 9.2, 8.9, 8.9, 9.5, 11.5, 9.5, 11.5, 9.5, 9.7, 9.7, 9.5, 9.4, 9.0, 10.6, 9.5, 9.1, 9.4, 8.8, 10.4, 8.9, 10.6, 9.0, 10.6, 10.6, 9.0, 8.8, 10.5, 9.5, 9.0, 10.4, 10.0, 10.4, 9.0, 9.3, 9.0, 9.3, 9.0, 11.5, 9.0, 10.4, 9.0, 10.6, 10.4, 8.5, 9.3, 10.5, 9.9, 10.4, 10.1, 10.5, 9.2, 9.4, 10.6, 9.4, 8.7, 10.2, 10.3, 9.5, 9.5, 9.5, 9.5, 9.4, 9.4, 9.5, 12.6, 10.5, 10.8, 9.9, 12.6, 12.2, 10.0, 10.6, 9.5, 12.8, 12.2, 12.6, 9.4, 9.0, 9.1, 9.4, 12.2, 10.0, 9.2, 9.3, 9.8, 9.2, 12.0, 9.3, 12.6, 12.2, 11.0, 12.0, 8.8, 8.9, 12.7, 11.8, 10.2, 9.9, 11.1, 9.4, 9.7, 9.7, 9.7, 9.7, 9.8, 9.3, 10.5, 9.3, 12.6, 8.9, 10.3, 10.6, 9.0, 9.7, 9.5, 10.3, 9.7, 12.3, 10.5, 9.5, 10.0, 8.8, 10.9, 12.2, 9.5, 10.0, 9.6, 8.7, 10.7, 11.1, 12.5, 10.4, 11.5, 9.4, 9.3, 10.1, 9.7, 10.5, 9.7, 9.2, 9.8, 9.0, 9.1, 10.4, 10.7, 10.5, 9.2, 11.5, 10.4, 12.0, 12.2, 12.0, 9.8, 9.3, 9.6, 9.5, 10.2, 10.4, 11.0, 10.4, 8.7, 9.9, 9.9, 11.3, 12.0, 10.7, 10.1, 9.6, 9.6, 8.7, 10.3, 9.1, 11.8, 11.9, 10.3, 10.0, 10.2, 10.0, 12.7, 9.6, 9.5, 12.7, 11.0, 9.1, 10.2, 10.1, 9.2, 9.4, 10.2, 9.2, 10.0, 10.1, 9.0, 9.5, 9.1, 13.3, 9.5, 9.2, 10.1, 9.2, 10.1, 11.2, 9.8, 11.2, 9.8, 9.4, 9.0, 9.4, 8.9, 9.1, 9.8, 9.4, 10.0, 9.4, 9.9, 10.0, 11.5, 9.2, 10.0, 9.2, 10.0, 10.0, 9.8, 10.5, 10.6, 9.4, 9.4, 11.0, 10.8, 9.0, 9.6, 10.6, 10.6, 9.6, 9.2, 9.2, 9.5, 9.5, 10.3, 8.8, 8.7, 8.7, 10.2, 10.1, 9.5, 9.5, 11.6, 10.7, 10.1, 11.1, 9.8, 9.0, 11.1, 9.5, 9.4, 10.2, 9.8, 9.5, 9.5, 9.0, 10.1, 8.8, 11.9, 11.9, 9.3, 10.0, 9.5, 9.3, 9.7, 9.7, 10.2, 10.8, 8.8, 8.8, 11.4, 8.8, 9.8, 9.4, 9.4, 9.4, 9.4, 9.7, 12.3, 9.8, 9.0, 9.2, 9.4, 9.9, 9.8, 12.3, 11.9, 10.2, 9.5, 11.9, 9.2, 9.7, 11.5, 10.4, 11.6, 9.7, 10.4, 11.5, 10.2, 9.8, 9.0, 10.5, 9.4, 9.4, 10.8, 10.7, 10.6, 9.2, 9.5, 9.5, 10.0, 10.6, 10.6, 10.6, 9.2, 11.0, 11.2, 9.6, 9.4, 9.5, 9.3, 9.4, 9.5, 9.4, 11.2, 11.2, 11.2, 8.8, 11.2, 11.2, 9.4, 11.1, 9.6, 11.1, 9.4, 10.6, 8.9, 12.3, 11.4, 9.6, 10.3, 11.4, 12.1, 9.9, 9.7, 10.5, 8.9, 9.4, 9.6, 12.6, 9.2, 10.4, 9.0, 9.0, 9.0, 9.0, 9.0, 9.0, 9.2, 9.0, 9.7, 10.1, 11.0, 10.8, 10.8, 13.5, 10.6, 9.8, 11.7, 9.8, 9.0, 11.3, 9.4, 11.7, 11.3, 11.3, 12.0, 10.6, 10.8, 10.8, 12.0, 9.4, 9.4, 11.3, 9.4, 12.0, 10.3, 10.3, 10.3, 11.3, 9.4, 8.7, 9.4, 11.3, 10.3, 12.0, 8.0, 10.4, 10.7, 10.2, 10.9, 10.5, 11.7, 8.6, 9.0, 8.7, 12.8, 9.0, 8.7, 11.8, 11.6, 11.8, 10.6, 9.7, 10.3, 10.2, 10.1, 10.9, 9.3, 10.2, 10.2, 9.5, 9.3, 12.9, 8.7, 9.4, 10.1, 10.0, 11.1, 10.3, 12.2, 9.3, 11.3, 10.8, 11.2, 12.5, 9.3, 12.9, 11.2, 12.6, 9.3, 12.9, 12.9, 9.5, 11.9, 10.3, 10.3, 11.2, 12.0, 9.6, 9.2, 12.9, 9.3, 12.1, 9.6, 11.2, 11.2, 12.9, 9.2, 9.3, 9.2, 9.3, 10.7, 9.8, 10.3, 10.7, 11.3, 8.8, 10.8, 9.8, 9.3, 11.5, 8.8, 8.8, 8.8, 9.4, 9.4, 9.6, 8.8, 9.3, 8.9, 8.9, 10.0, 9.1, 9.3, 9.4, 10.1, 8.9, 10.8, 10.0, 10.9, 12.0, 9.3, 12.3, 10.4, 10.9, 10.5, 9.8, 10.5, 9.9, 11.4, 9.2, 9.7, 10.0, 11.4, 10.3, 9.9, 10.5, 9.8, 9.3, 12.4, 9.3, 9.3, 9.5, 10.5, 10.5, 12.8, 10.8, 10.0, 11.8, 10.0, 11.8, 12.0, 12.6, 11.9, 10.6, 9.2, 10.0, 9.2, 9.3, 10.2, 10.2, 8.7, 10.7, 12.1, 9.5, 11.2, 12.0, 9.5, 12.1, 10.7, 8.8, 10.8, 13.1, 12.5, 11.7, 11.7, 11.6, 11.3, 12.5, 11.4, 12.2, 11.7, 10.4, 10.4, 10.4, 9.1, 12.2, 9.1, 9.4, 9.4, 10.4, 9.2, 9.4, 13.5, 9.4, 10.9, 13.5, 9.4, 11.4, 12.4, 9.2, 9.4, 10.5, 11.5, 10.9, 10.8, 8.9, 8.9, 9.4, 12.2, 12.1, 10.9, 10.1, 12.2, 13.0, 11.0, 10.8, 13.0, 9.3, 11.4, 9.2, 9.9, 10.5, 12.4, 9.5, 10.5, 9.1, 11.5, 11.5, 11.2, 10.8, 9.4, 11.0, 11.3, 11.2, 10.5, 9.1, 10.4, 11.2, 11.1, 11.2, 10.5, 10.0, 10.0, 10.9, 10.9, 11.2, 11.7, 10.0, 9.5, 9.0, 10.0, 11.9, 10.6, 11.0, 11.2, 12.0, 12.6, 11.2, 10.5, 10.2, 11.0, 12.2, 12.3, 10.6, 10.4, 12.0, 12.7, 10.6, 12.3, 12.7, 11.4, 12.0, 12.4, 12.1, 11.4, 10.7, 9.3, 12.7, 11.7, 10.7, 11.8, 9.9, 13.4, 12.8, 12.8, 10.5, 11.5, 10.5, 13.0, 12.4, 10.2, 9.0, 12.0, 11.7, 10.0, 10.3, 9.0, 11.1, 9.0, 10.5, 11.9, 9.4, 11.4, 10.8, 9.8, 9.3, 11.4, 11.3, 11.3, 9.5, 9.4, 11.9, 9.3, 11.4, 11.4, 12.7, 13.5, 11.2, 10.7, 10.8, 10.5, 13.0, 10.8, 9.1, 10.1, 11.9, 12.0, 12.0, 9.1, 11.6, 11.9, 10.2, 10.8, 9.8, 11.4, 9.8, 10.1, 9.8, 9.8, 10.7, 10.6, 9.3, 9.8, 10.7, 14.0, 11.0, 11.0, 9.4, 9.0, 9.0, 10.0, 9.0, 9.0, 12.4, 11.3, 12.0, 11.7, 10.0, 13.2, 11.0, 11.0, 9.2, 13.0, 10.6, 13.0, 9.0, 9.0, 11.5, 11.0, 11.5, 9.9, 10.4, 9.0, 9.9, 11.0, 12.1, 9.7, 9.7, 12.2, 12.4, 10.5, 10.4, 12.0, 12.7, 10.9, 10.9, 10.9, 11.4, 11.0, 12.6, 11.6, 10.5, 10.9, 10.9, 12.5, 12.1, 11.3, 13.3, 10.9, 10.9, 10.5, 11.6, 11.4, 11.0, 12.1, 11.0, 12.6, 13.0, 8.8, 9.5, 11.8, 12.2, 10.7, 11.0, 11.4, 10.7, 12.0, 11.9, 11.4, 11.8, 10.6, 9.7, 11.0, 10.7, 11.0, 10.5, 10.4, 10.5, 12.0, 12.0, 9.2, 10.9, 9.5, 9.4, 11.3, 10.4, 9.4, 11.3, 8.8, 10.8, 9.4, 9.4, 9.2, 10.3, 9.9, 12.4, 11.9, 11.7, 9.4, 9.6, 9.4, 10.4, 9.5, 11.9, 12.5, 13.4, 12.7, 9.1, 10.5, 10.4, 10.4, 12.5, 10.4, 9.0, 9.8, 9.0, 10.7, 12.4, 12.5, 12.5, 12.1, 11.3, 12.0, 10.4, 12.2, 8.6, 9.1, 12.1, 12.0, 10.5, 10.4, 11.9, 13.7, 11.3, 10.5, 13.7, 10.1, 12.3, 12.0, 11.3, 9.5, 11.4, 11.9, 10.0, 10.0, 11.3, 11.7, 11.0, 12.2, 10.7, 10.9, 10.2, 11.9, 11.1, 11.2, 11.4, 10.6, 10.3, 10.4, 11.9, 11.9, 10.4, 9.2, 11.3, 11.3, 11.0, 11.9, 12.9, 10.8, 9.1, 10.4, 12.9, 12.2, 9.2, 10.3, 11.0, 11.0, 11.7, 12.0, 12.7, 8.8, 11.3, 12.8, 11.2, 8.9, 11.2, 11.1, 10.8, 9.3, 8.9, 12.7, 12.0, 11.2, 8.8, 8.8, 8.8, 10.4, 8.8, 10.4, 14.0, 8.8, 13.1, 12.3, 12.6, 12.0, 9.5, 12.0, 12.7, 10.5, 12.9, 9.5, 12.0, 12.7, 11.9, 12.0, 12.5, 12.1, 12.5, 9.9, 10.7, 12.0, 12.2, 12.4, 12.4, 10.3, 12.0, 10.5, 9.5, 10.5, 12.3, 11.9, 9.8, 12.3, 11.4, 11.0, 10.8, 12.8, 11.0, 10.2, 12.5, 11.6, 11.9, 9.8, 11.0, 10.9, 11.0, 12.5, 11.0, 12.0, 12.4, 12.5, 12.8, 11.0, 9.1, 12.4, 12.9, 10.9, 10.8, 10.6, 9.0, 12.0, 11.8, 10.6, 12.3, 11.5, 11.1, 9.0, 9.9, 12.8, 12.9, 12.9, 12.0, 12.0, 11.2, 13.3, 9.9, 9.5, 9.4, 11.0, 9.4, 11.5, 12.5, 11.9, 10.4, 11.2, 12.5, 11.0, 9.8, 12.3, 11.0, 12.6, 11.6, 12.3, 13.4, 9.8, 11.5, 11.6, 11.1, 11.0, 11.3, 9.9, 12.6, 11.8, 11.4, 9.2, 9.2, 9.2, 9.2, 9.2, 9.2, 13.0, 9.3, 12.6, 9.6, 8.0, 11.8, 10.2, 12.7, 9.4, 10.2, 12.0, 11.3, 11.8, 10.9, 9.8, 12.2, 11.1, 9.4, 11.4, 10.2, 12.8, 10.1, 9.4, 12.2, 10.9, 10.9, 10.9, 9.4, 9.4, 11.4, 12.9, 9.4, 12.0, 10.1, 9.4, 9.4, 9.2, 11.8, 12.3, 11.4, 12.9, 12.3, 13.5, 12.8, 12.8, 12.8, 11.0, 10.6, 12.4, 12.9, 11.1, 12.9, 11.8, 9.1, 12.7, 12.0, 11.2, 12.4, 10.4, 10.4, 12.7, 12.5, 12.0, 11.6, 12.6, 10.2, 10.4, 11.5, 11.0, 10.1, 10.5, 12.1, 9.9, 11.4, 9.5, 9.5, 9.5, 10.9, 9.5, 12.6, 9.5, 11.1, 9.5, 9.5, 10.6, 10.6, 10.8, 10.9, 9.9, 11.3, 12.6, 12.5, 12.4, 11.8, 12.2, 10.7, 11.3, 12.5, 12.4, 11.3, 9.9, 11.3, 12.6, 11.5, 12.3, 12.2, 13.2, 10.2, 11.5, 13.2, 12.2, 11.0, 13.2, 9.5, 10.2, 10.2, 11.4, 12.5, 9.2, 12.1, 10.7, 12.1, 11.2, 10.6, 11.8, 12.5, 9.2, 12.6, 12.8, 12.3, 12.3, 12.4, 12.3, 9.1, 9.1, 10.6, 10.3, 9.5, 11.1, 10.8, 11.2, 10.8, 11.4, 11.2, 10.2, 11.1, 9.5, 10.2, 11.0, 11.5, 9.8, 10.1, 8.8, 11.5, 12.7, 9.8, 12.9, 9.8, 12.7, 8.5, 12.7, 13.1, 9.1, 12.5, 9.1, 9.1, 11.2, 12.5, 9.1, 9.1, 9.1, 11.5, 12.9, 12.5, 12.3, 11.4, 9.4, 9.1, 9.4, 12.0, 11.1, 11.8, 11.4, 9.1, 12.1, 10.4, 9.2, 13.0, 12.1, 11.5, 11.5, 10.0, 11.1, 12.4, 12.2, 10.6, 11.1, 13.9, 9.2, 10.5, 11.3, 12.9, 12.9, 9.6, 12.9, 12.9, 8.8, 13.2, 9.2, 11.3, 10.5, 10.5, 12.6, 9.5, 9.8, 13.4, 11.8, 9.8, 13.1, 12.6, 10.4, 13.4, 13.0, 13.4, 10.2, 11.7, 9.5, 11.7, 11.4, 11.8, 11.2, 13.0, 13.0, 10.9, 11.6, 11.3, 12.0, 10.5, 13.1, 13.0, 10.9, 9.1, 13.4, 11.5, 11.2, 10.9, 13.5, 9.1, 9.9, 10.5, 11.7, 11.0, 13.0, 13.6, 12.3, 13.3, 13.7, 11.1, 13.4, 9.1, 11.3, 9.4, 9.1, 11.6, 11.6, 12.4, 9.8, 11.1, 13.1, 9.7, 9.2, 11.7, 10.6, 9.7, 9.2, 10.9, 10.1, 12.2, 12.7, 13.0, 11.2, 9.4, 11.0, 11.0, 9.2, 9.4, 9.2, 12.3, 11.0, 10.0, 9.0, 9.0, 9.0, 11.1, 9.9, 12.2, 11.1, 9.0, 11.8, 12.9, 9.0, 12.4, 9.0, 12.9, 11.2, 12.6, 11.5, 11.3, 11.2, 11.5, 10.5, 12.6, 11.9, 10.1, 11.0, 10.6, 11.3, 11.2, 11.5, 11.1, 12.8, 12.3, 10.4, 11.5, 11.7, 10.7, 9.5, 9.5, 9.5, 12.0, 10.8, 10.7, 10.7, 10.7, 12.1, 11.9, 10.8, 12.3, 9.4, 9.9, 10.4, 10.4, 12.6, 12.5, 9.4, 9.2, 11.2, 9.2, 9.2, 9.4, 11.2, 10.8, 9.2, 9.2, 12.5, 9.3, 11.4, 10.0, 10.6, 10.7, 10.0, 12.5, 10.6, 12.8, 9.3, 11.4, 9.5, 9.5, 9.5, 10.8, 10.8, 8.8, 10.8, 11.0, 12.4, 11.3, 11.2, 12.5, 10.0, 11.0, 10.5, 10.5, 11.0, 11.4, 11.3, 12.2, 12.6, 11.1, 12.3, 10.4, 8.8, 9.5, 8.8, 10.4, 13.0, 12.2, 10.5, 10.8, 13.2, 13.0, 10.0, 10.4, 12.4, 12.9, 13.2, 10.5, 13.0, 11.2, 12.7, 9.4, 12.9, 13.0, 13.6, 9.1, 10.4, 13.6, 12.2, 8.7, 10.5, 10.2, 12.5, 11.3, 10.2, 12.6, 10.2, 9.8, 10.8, 12.5, 12.5, 11.5, 11.4, 10.5, 12.6, 8.7, 11.0, 11.3, 10.2, 11.6, 9.8, 10.1, 9.2, 9.1, 9.1, 9.1, 9.1, 11.7, 12.6, 9.0, 10.1, 13.6, 9.1, 9.2, 8.8, 10.0, 9.1, 11.2, 9.2, 9.2, 9.5, 11.9, 9.8, 9.8, 10.8, 11.3, 12.1, 11.3, 10.8, 13.5, 10.3, 9.0, 11.6, 10.3, 12.5, 8.6, 13.4, 12.7, 9.2, 10.2, 9.0, 9.0, 9.0, 9.0, 9.0, 9.0, 9.0, 11.9, 9.0, 9.0, 11.0, 9.0, 10.0, 10.7, 10.7, 13.4, 11.0, 10.0, 10.7, 10.7, 11.0, 11.0, 11.1, 10.9, 11.5, 13.4, 9.4, 9.4, 9.4, 10.6, 9.4, 12.0, 10.2, 10.6, 13.5, 9.7, 12.2, 12.3, 12.2, 11.4, 12.7, 9.7, 10.8, 11.0, 9.5, 10.1, 13.2, 8.8, 9.5, 9.5, 9.5, 9.5, 9.5, 10.4, 9.9, 10.0, 10.1, 9.4, 9.3, 10.9, 11.4, 10.3, 11.0, 10.9, 10.8, 10.3, 11.0, 9.3, 10.2, 10.2, 10.8, 10.5, 11.1, 10.9, 11.4, 10.3, 12.9, 9.9, 11.3, 11.5, 11.5, 10.7, 10.4, 12.5, 9.5, 11.3, 13.0, 11.5, 11.5, 11.3, 13.2, 11.5, 9.6, 9.6, 9.7, 9.2, 8.4, 12.4, 12.4, 9.2, 8.4, 11.7, 11.0, 11.9, 13.2, 11.7, 9.1, 12.6, 9.1, 10.5, 10.6, 12.6, 13.7, 12.0, 12.5, 12.1, 11.3, 12.0, 10.3, 12.7, 9.2, 9.2, 9.5, 10.1, 10.1, 13.0, 13.1, 11.0, 9.2, 9.4, 9.5, 10.2, 10.1, 8.6, 9.0, 9.6, 9.9, 10.5, 11.4, 9.4, 11.1, 8.9, 8.9, 10.8, 12.2, 8.9, 12.5, 12.2, 12.5, 8.9, 10.8, 11.4, 10.8, 10.6, 9.2, 12.2, 12.3, 10.4, 10.4, 11.0, 10.6, 9.2, 13.5, 11.4, 11.5, 14.0, 12.5, 12.5, 12.8, 11.2, 11.2, 13.6, 9.2, 12.5, 11.1, 11.2, 14.0, 13.6, 9.4, 14.2, 13.2, 11.2, 10.2, 12.8, 10.1, 10.1, 10.3, 9.9, 11.5, 9.0, 9.0, 12.1, 13.3, 11.5, 11.0, 10.7, 9.4, 10.3, 9.3, 12.0, 11.0, 9.3, 10.1, 11.1, 9.9, 11.0, 11.0, 12.5, 12.7, 9.3, 9.3, 10.1, 8.8, 11.2, 10.8, 8.8, 11.2, 10.3, 12.0, 9.5, 9.5, 9.8, 9.0, 13.0, 11.8, 8.8, 11.2, 9.5, 9.4, 9.5, 10.4, 9.8, 10.4, 10.3, 9.4, 9.5, 11.9, 12.8, 13.0, 10.4, 10.4, 10.7, 10.7, 11.9, 10.4, 12.8, 9.9, 9.9, 9.4, 11.4, 9.9, 9.4, 9.2, 10.5, 11.0, 11.0, 12.1, 11.0, 12.8, 10.5, 10.5, 10.5, 9.5, 9.2, 11.1, 12.3, 11.1, 12.6, 9.5, 9.2, 10.8, 11.3, 12.8, 10.5, 9.8, 8.5, 9.3, 9.2, 11.4, 8.5, 9.3, 8.4, 9.2, 9.2, 10.4, 11.6, 12.4, 10.4, 9.3, 12.2, 11.0, 11.4, 9.5, 9.2, 11.1, 9.2, 11.0, 9.9, 9.9, 9.5, 12.4, 9.4, 9.3, 8.7, 8.7, 8.7, 8.7, 9.0, 10.7, 10.7, 11.3, 8.7, 11.7, 9.3, 8.7, 9.0, 11.7, 10.7, 11.4, 10.7, 11.3, 10.0, 10.0, 11.2, 9.7, 12.5, 12.9, 11.8, 10.6, 11.8, 10.7, 9.9, 12.0, 10.4, 8.5, 9.9, 9.4, 10.4, 11.0, 11.0, 10.4, 9.8, 9.4, 10.6, 10.1, 11.5, 11.4, 9.2, 9.7, 11.3, 9.6, 8.9, 10.0, 9.2, 9.0, 12.8, 9.0, 9.5, 10.0, 11.0, 9.2, 10.6, 10.0, 10.0, 11.7, 12.5, 11.1, 9.7, 12.3, 12.2, 11.3, 11.6, 11.3, 11.1, 11.2, 11.3, 12.0, 8.8, 8.8, 12.0, 12.0, 9.0, 9.3, 8.7, 12.8, 11.5, 10.0, 10.0, 10.3, 10.4, 13.4, 11.2, 9.1, 9.1, 10.8, 12.5, 11.3, 12.8, 9.1, 12.7, 11.0, 10.4, 10.4, 10.7, 10.9, 10.4, 10.4, 9.7, 11.0, 9.6, 13.9, 9.4, 12.5, 9.6, 9.5, 9.6, 9.5, 9.6, 8.7, 8.7, 8.7, 8.7, 8.7, 8.7, 10.4, 10.7, 12.0, 12.1, 13.1, 12.4, 12.6, 8.7, 12.0, 11.6, 9.3, 9.3, 11.1, 10.2, 10.6, 11.3, 9.4, 9.3, 11.1, 9.9, 11.8, 12.6, 9.4, 10.5, 12.3, 11.3, 9.6, 12.0, 11.2, 10.2, 12.4, 10.2, 13.4, 12.6, 9.8, 9.1, 12.4, 12.5, 11.7, 12.9, 10.1, 10.3, 11.7, 10.3, 10.8, 11.2, 11.8, 9.8, 10.0, 8.8, 10.1, 9.5, 9.5, 9.5, 9.2, 12.2, 9.5, 11.3, 12.1, 9.2, 11.2, 12.5, 10.6, 10.4, 10.1, 9.9, 11.0, 10.0, 12.7, 12.1, 10.4, 10.4, 9.2, 9.2, 10.5, 9.2, 11.9, 10.1, 11.1, 10.8, 11.8, 9.2, 9.2, 12.3, 10.1, 11.4, 10.4, 9.8, 9.9, 9.8, 11.2, 10.9, 9.2, 9.2, 12.0, 12.1, 12.4, 11.2, 12.7, 12.2, 12.2, 12.2, 11.2, 12.7, 12.7, 12.1, 9.4, 10.1, 9.4, 8.9, 8.9, 8.9, 8.9, 13.0, 10.3, 10.1, 10.5, 8.9, 10.1, 10.1, 11.0, 11.0, 11.0, 11.0, 10.0, 10.5, 9.7, 10.1, 9.4, 11.2, 9.4, 10.8, 9.4, 11.2, 11.0, 12.4, 9.4, 9.4, 9.5, 10.0, 12.5, 10.9, 10.5, 10.8, 11.0, 11.8, 12.6, 10.2, 12.0, 12.5, 11.5, 11.94, 12.89333333, 9.4, 12.2, 11.94, 12.89333333, 9.5, 10.6, 10.5, 11.46666667, 11.4, 9.5, 9.2, 9.5, 10.98, 9.4, 9.5, 9.2, 8.8, 8.8, 8.8, 8.8, 8.8, 8.8, 8.8, 10.4, 8.8, 10.03333333, 11.3, 10.4, 9.2, 11.1, 9.2, 11.3, 9.1, 9.4, 13.2, 12.7, 10.7, 11.43333333, 11.1, 12.7, 10.53333333, 11.6, 9.533333333, 9.8, 10.7, 12.0, 12.8, 9.5, 10.93333333, 9.1, 12.6, 9.5, 10.9, 10.93333333, 9.6, 9.3, 11.36666667, 12.5, 9.5, 11.0, 9.4, 11.33333333, 8.8, 9.4, 11.06666667, 12.2, 11.0, 11.33333333, 9.5, 9.5, 11.0, 11.2, 9.3, 10.8, 9.2, 9.4, 9.2, 10.5, 10.8, 9.4, 9.8, 9.8, 9.8, 9.4, 9.8, 12.1, 12.3, 9.733333333, 9.4, 9.4, 12.8, 11.05, 9.4, 12.8, 9.733333333, 13.1, 11.5, 13.1, 11.5, 9.1, 9.75, 10.5, 8.8, 8.8, 8.8, 8.8, 10.5, 10.5, 8.8, 9.9, 9.9, 9.9, 12.2, 10.8, 8.7, 13.2, 12.7, 9.4, 11.2, 11.33333333, 11.9, 11.35, 10.5, 9.8, 9.1, 12.4, 9.1, 9.8, 11.3, 11.3, 13.1, 12.5, 10.3, 10.7, 10.4, 9.5, 9.8, 12.5, 9.4, 9.0, 9.0, 9.0, 13.0, 9.9, 9.4, 10.6, 13.4, 12.5, 9.3, 9.3, 11.0, 10.3, 11.3, 10.9, 11.3, 12.1, 11.1, 9.8, 10.1, 12.4, 12.7, 9.6, 9.6, 9.1, 12.8, 9.6, 12.4, 9.55, 9.1, 12.5, 9.9, 11.2, 13.0, 13.0, 11.7, 13.1, 12.0, 10.55, 11.45, 10.2, 11.45, 9.3, 10.8, 12.2, 11.0, 10.4, 11.4, 14.05, 10.7, 10.2, 11.2, 12.33333333, 11.5, 9.5, 13.4, 12.5, 12.5, 11.2, 8.8, 11.2, 12.7, 9.8, 9.8, 11.7, 9.8, 9.6, 9.8, 9.7, 10.0, 11.7, 12.3, 9.8, 9.0, 9.1, 9.1, 9.1, 11.4, 10.5, 12.4, 9.1, 9.1, 10.1, 10.9, 11.05, 12.75, 12.7, 11.1, 11.1, 12.75, 13.0, 12.0, 11.5, 10.5, 11.1, 11.1, 11.1, 13.1, 12.75, 12.7, 9.6, 11.7, 9.7, 10.9, 10.7, 13.8, 12.15, 10.8, 10.7, 10.8, 10.8, 12.0, 10.8, 12.2, 9.4, 11.4, 12.5, 13.05, 12.4, 12.9, 12.0, 11.3, 10.0, 11.8, 9.4, 8.8, 11.1, 10.5, 9.3, 11.4, 11.8, 12.4, 11.6, 11.1, 12.4, 11.1, 11.0, 12.2, 11.0, 12.9, 10.9, 13.4, 10.7, 11.0, 11.4, 10.2, 11.0, 9.1, 11.0, 11.5, 12.0, 11.2, 11.2, 12.6, 11.0, 10.8, 10.9, 9.8, 9.8, 9.5, 11.26666667, 10.8, 13.4, 11.3, 8.9, 11.2, 11.5, 13.0, 12.6, 13.1, 11.2, 11.7, 10.9, 10.9, 11.6, 10.4, 10.9, 11.7, 10.8, 11.2, 10.0, 10.56666667, 11.73333333, 10.6, 10.5, 11.75, 11.4, 12.4, 10.1, 12.3, 13.1, 10.65, 11.4, 9.3, 10.2, 10.2, 13.1, 9.6, 12.8, 10.96666667, 10.96666667, 10.96666667, 11.0, 13.4, 11.2, 12.4, 11.2, 12.4, 10.13333333, 10.13333333, 12.4, 9.1, 10.15, 10.15, 11.5, 8.9, 10.46666667, 10.46666667, 11.8, 11.63333333, 10.6, 9.6, 11.8, 8.9, 10.5, 10.2, 13.1, 11.8, 12.2, 11.45, 10.5, 10.2, 9.0, 9.0, 9.0, 9.0, 9.1, 8.8, 9.0, 9.1, 12.9, 13.0, 12.9, 9.2, 9.8, 9.8, 10.1, 10.1, 10.9, 9.6, 10.4, 11.8, 10.8, 10.6, 12.7, 12.2, 10.8, 10.4, 11.1, 11.8, 10.0, 10.8, 10.3, 9.9, 10.0, 12.25, 10.2, 9.4, 9.7, 10.2, 10.4, 12.2, 9.4, 10.6, 10.7, 11.85, 11.7, 11.7, 10.15, 11.63333333, 10.8, 10.8, 12.3, 12.5, 11.65, 9.6, 10.9, 10.8, 11.2, 10.0, 10.5, 9.1, 10.5, 9.3, 9.3, 11.2, 10.6, 12.1, 12.0, 9.7, 12.4, 13.6, 13.6, 11.8, 10.0, 10.0, 9.1, 11.9, 11.75, 11.4, 13.0, 12.4, 9.4, 9.6, 9.6, 9.6, 9.6, 9.1, 12.0, 11.2, 10.1, 10.3, 12.3, 10.55, 10.9, 9.7, 9.8, 8.9, 8.9, 10.2, 11.7, 12.8, 12.8, 10.2, 13.55, 11.6, 8.9, 13.8, 9.4, 9.4, 10.7, 10.7, 12.3, 10.3, 10.4, 11.6, 10.7, 12.8, 11.9, 12.1, 9.2, 9.5, 11.0, 10.9, 10.4, 9.1, 11.4, 11.4, 9.7, 12.4, 13.7, 10.6, 11.2, 13.13333333, 12.4, 9.7, 11.0, 11.3, 12.0, 9.2, 10.7, 10.7, 11.4, 9.2, 12.1, 11.1, 9.7, 10.7, 10.9, 12.0, 10.6, 9.6, 13.1, 11.0, 11.6, 11.95, 11.1, 11.5, 11.3, 11.9, 9.5, 12.2, 12.2, 11.1, 9.6, 11.1, 9.6, 11.4, 11.4, 12.06666667, 9.0, 9.0, 11.4, 9.6, 11.0, 11.0, 11.2, 11.55, 13.3, 9.633333333, 13.6, 11.2, 13.0, 10.8, 9.8, 11.45, 12.05, 9.7, 11.9, 10.0, 9.7, 11.6, 8.8, 9.5, 9.533333333, 9.533333333, 9.4, 10.7, 11.5, 9.6, 9.55, 12.15, 13.0, 9.2, 9.4, 11.8, 10.6, 9.7, 11.2, 9.6, 9.4, 12.8, 11.8, 9.4, 9.8, 9.8, 9.8, 9.4, 9.4, 9.4, 10.0, 9.5, 10.5, 9.2, 10.5, 9.9, 9.1, 9.2, 9.2, 10.5, 9.3, 9.0, 9.2, 9.4, 9.7, 9.5, 9.4, 9.7, 9.3, 9.5, 9.5, 9.4, 9.8, 10.1, 10.6, 9.8, 9.4, 9.2, 9.6, 10.8, 9.7, 9.8, 10.5, 10.5, 9.3, 10.5, 10.3, 9.5, 13.1, 9.2, 9.5, 9.2, 9.2, 9.2, 9.4, 9.4, 9.4, 10.2, 9.5, 9.6, 9.4, 10.0, 9.4, 9.2, 9.3, 9.5, 9.8, 10.9, 10.9, 9.6, 10.7, 10.7, 10.5, 9.5, 9.5, 9.5, 9.2, 9.6, 10.5, 10.5, 10.7, 10.1, 9.1, 9.2, 9.4, 9.1, 9.4, 10.3, 10.1, 9.9, 9.6, 9.5, 9.0, 9.5, 9.9, 9.8, 9.6, 10.5, 12.9, 10.7, 9.2, 9.8, 9.0, 10.2, 10.4, 9.0, 9.2, 9.4, 9.2, 9.3, 9.3, 9.6, 9.3, 9.5, 9.8, 9.8, 9.7, 9.5, 10.5, 10.0, 9.4, 10.9, 9.2, 9.0, 10.9, 9.2, 9.5, 9.5, 9.4, 10.9, 10.9, 10.5, 9.4, 9.4, 13.0, 13.0, 9.8, 9.9, 9.6, 9.5, 9.2, 9.5, 9.5, 9.6, 9.5, 14.0, 9.4, 14.0, 9.4, 10.0, 9.3, 10.2, 10.5, 10.3, 9.4, 10.1, 10.1, 10.5, 10.5, 10.5, 10.5, 9.3, 9.3, 9.6, 9.2, 10.0, 9.4, 9.4, 9.5, 10.2, 9.0, 10.4, 9.5, 9.1, 9.2, 9.2, 11.5, 9.5, 9.5, 9.5, 10.5, 9.6, 9.5, 9.5, 9.3, 9.3, 9.3, 9.3, 9.7, 9.2, 9.7, 9.5, 9.5, 9.4, 9.8, 9.5, 9.7, 9.7, 9.4, 10.2, 10.1, 13.0, 11.4, 10.3, 9.3, 9.5, 9.2, 9.2, 10.8, 10.8, 9.3, 9.4, 10.5, 12.4, 10.0, 10.2, 10.1, 9.8, 10.5, 11.0, 9.1, 9.7, 9.5, 9.4, 9.4, 9.5, 10.0, 10.4, 10.5, 9.5, 9.8, 10.5, 11.0, 12.2, 9.9, 9.6, 11.0, 9.0, 9.0, 9.0, 9.2, 9.0, 9.0, 9.3, 10.9, 9.8, 9.2, 9.2, 9.9, 9.5, 9.3, 9.8, 9.9, 10.0, 9.9, 10.5, 9.5, 9.9, 9.3, 9.2, 9.2, 9.4, 10.5, 9.3, 9.4, 10.0, 9.3, 10.9, 10.2, 9.8, 12.8, 9.4, 10.1, 10.7, 10.1, 10.1, 9.4, 9.4, 10.7, 9.4, 10.1, 12.6, 10.5, 9.3, 9.9, 9.1, 10.5, 9.8, 9.8, 10.3, 10.3, 10.6, 9.2, 10.6, 10.5, 10.3, 10.1, 9.5, 9.5, 9.9, 9.6, 9.7, 9.6, 10.7, 10.1, 10.0, 9.5, 9.2, 9.3, 9.4, 9.5, 9.5, 9.5, 9.3, 9.4, 9.5, 9.4, 11.0, 11.0, 10.1, 10.4, 11.5, 10.4, 11.5, 9.7, 9.3, 9.5, 9.2, 9.2, 11.5, 11.5, 9.7, 9.5, 12.5, 12.5, 9.4, 11.0, 11.7, 12.2, 12.5, 10.3, 11.5, 9.8, 9.2, 11.3, 9.8, 9.8, 10.7, 9.9, 12.3, 12.0, 10.0, 9.4, 9.9, 9.4, 9.3, 13.0, 11.9, 12.8, 11.0, 11.7, 10.4, 9.8, 9.4, 9.9, 10.0, 10.2, 10.0, 11.8, 10.0, 9.0, 9.4, 12.0, 9.9, 8.7, 10.6, 9.2, 10.8, 11.8, 11.0, 12.0, 13.3, 10.8, 9.4, 10.0, 9.4, 9.4, 9.2, 9.7, 9.2, 9.6, 9.2, 10.0, 12.9, 10.0, 9.5, 9.1, 9.9, 13.0, 9.9, 11.0, 11.0, 9.4, 9.9, 10.8, 10.5, 10.5, 9.1, 10.1, 10.8, 10.8, 11.3, 9.6, 9.5, 9.5, 9.3, 11.7, 9.5, 9.3, 11.7, 10.5, 10.4, 9.9, 11.8, 12.3, 10.9, 11.0, 10.9, 12.3, 11.4, 10.6, 9.3, 10.4, 11.0, 9.2, 12.8, 9.5, 9.9, 9.5, 10.2, 11.2, 9.9, 9.3, 9.8, 11.3, 11.2, 11.6, 12.5, 10.1, 10.5, 11.2, 10.2, 10.8, 10.8, 9.1, 10.0, 11.2, 11.1, 13.4, 10.3, 9.6, 11.2, 9.0, 11.3, 9.3, 11.8, 9.0, 9.2, 9.7, 11.5, 14.0, 9.2, 9.8, 10.6, 11.4, 10.4, 10.6, 9.4, 10.2, 9.7, 11.0, 10.2, 10.1, 9.2, 11.7, 9.4, 9.4, 13.4, 10.0, 10.0, 10.0, 10.8, 10.2, 10.6, 13.3, 13.4, 11.6, 12.1, 11.0, 9.0, 11.1, 11.0, 11.6, 9.0, 12.0, 12.0, 10.9, 10.8, 12.5, 10.8, 9.5, 10.2, 11.4, 9.5, 10.2, 9.7, 11.8, 11.8, 9.3, 11.9, 8.4, 11.7, 11.0, 10.0, 9.1, 9.8, 9.4, 9.5, 9.9, 11.0, 11.4, 8.7, 9.4, 10.3, 10.3, 10.3, 12.8, 10.0, 10.3, 9.4, 10.7, 12.0, 11.2, 9.6, 11.0, 9.9, 11.0, 8.4, 9.1, 9.5, 10.7, 10.4, 9.4, 9.5, 10.0, 10.0, 11.5, 11.1, 11.1, 11.7, 11.1, 11.7, 12.7, 11.4, 9.2, 9.2, 10.1, 12.7, 11.4, 9.0, 9.0, 10.7, 11.7, 11.0, 11.7, 10.4, 9.6, 10.0, 10.2, 10.0, 9.5, 9.8, 9.8, 9.6, 9.6, 9.2, 9.9, 10.7, 9.6, 10.6, 9.3, 14.0, 10.5, 9.7, 11.5, 9.7, 9.0, 9.5, 9.3, 9.3, 10.0, 9.8, 9.3, 10.0, 9.0, 9.3, 9.0, 9.1, 9.2, 12.2, 10.5, 10.4, 12.7, 9.2, 9.4, 10.0, 9.8, 10.2, 9.7, 9.7, 9.8, 10.2, 9.3, 9.4, 9.4, 9.5, 12.1, 10.2, 10.2, 9.1, 9.1, 9.3, 9.3, 9.3, 9.5, 10.5, 11.3, 9.5, 9.7, 9.4, 9.4, 10.2, 10.3, 9.4, 9.5, 9.4, 9.5, 9.4, 10.1, 10.1, 11.0, 11.2, 11.3, 9.6, 11.2, 14.9, 12.0, 9.5, 9.4, 9.6, 10.5, 9.6, 11.0, 9.6, 9.0, 9.6, 10.2, 10.2, 9.7, 9.5, 9.2, 11.0, 9.2, 10.0, 9.5, 9.5, 9.5, 9.3, 10.2, 9.3, 9.9, 10.0, 9.6, 9.0, 10.2, 9.8, 11.3, 9.4, 11.3, 9.1, 9.7, 9.4, 9.4, 10.7, 9.8, 9.0, 9.4, 9.4, 12.8, 9.5, 9.5, 9.7, 10.8, 10.1, 9.5, 9.4, 9.6, 9.7, 9.9, 10.0, 10.5, 11.6, 10.0, 10.1, 9.5, 9.4, 9.4, 9.8, 9.2, 9.4, 10.0, 9.6, 9.5, 9.6, 9.2, 10.0, 9.5, 11.2, 10.4, 11.1, 9.5, 9.5, 12.7, 9.6, 11.5, 9.6, 9.5, 9.3, 9.5, 9.5, 9.3, 9.2, 9.3, 11.5, 9.5, 9.2, 10.0, 9.5, 9.5, 9.0, 9.4, 9.6, 9.5, 9.5, 9.5, 9.4, 9.5, 9.1, 10.7, 11.2, 9.8, 9.8, 9.2, 9.7, 9.6, 10.0, 9.6, 9.5, 9.5, 9.4, 9.5, 9.7, 9.6, 9.7, 9.4, 9.4, 9.5, 9.5, 10.0, 10.3, 10.3, 10.5, 9.8, 9.4, 9.8, 10.0, 9.8, 9.8, 9.5, 9.5, 10.1, 10.1, 9.3, 9.7, 9.6, 9.7, 10.8, 12.5, 10.2, 9.6, 10.8, 10.7, 10.7, 9.4, 10.0, 12.9, 9.6, 9.9, 12.8, 12.5, 12.8, 9.2, 10.3, 10.5, 10.9, 10.8, 11.4, 11.3, 10.8, 10.5, 11.9, 9.4, 9.6, 9.7, 14.0, 9.8, 9.8, 10.3, 10.7, 11.0, 10.7, 12.7, 11.1, 10.9, 11.1, 9.9, 9.9, 9.4, 9.3, 11.7, 11.7, 11.2, 10.0, 12.1, 10.3, 10.9, 9.4, 10.6, 9.8, 9.8, 9.9, 9.8, 9.8, 9.5, 9.5, 9.7, 10.9, 10.9, 11.7, 10.9, 11.3, 10.6, 11.2, 9.5, 11.5, 10.4, 9.7, 9.5, 9.7, 11.3, 11.2, 11.2, 10.9, 11.8, 10.6, 10.0, 11.1, 11.8, 11.8, 10.9, 11.8, 10.0, 9.5, 9.9, 11.4, 12.0, 9.5, 10.0, 10.5, 10.4, 12.1, 11.2, 9.3, 10.1, 9.7, 9.3, 9.7, 9.8, 10.7, 12.5, 10.7, 12.5, 11.0, 11.8, 10.8, 10.8, 10.8, 10.8, 9.5, 11.0, 11.5, 10.8, 11.5, 13.2, 10.9, 12.2, 12.2, 11.5, 11.9, 11.0, 10.1, 11.0, 11.8, 10.5, 11.0, 11.8, 10.1, 11.2, 11.0, 10.2, 9.2, 11.2, 12.0, 10.5, 9.8, 9.5, 9.8, 10.5, 11.8, 11.8, 10.4, 12.9, 11.4, 12.4, 12.5, 10.0, 9.7, 12.1, 11.1, 12.0, 12.4, 11.9, 11.9, 11.9, 12.4, 11.2, 12.1, 12.2, 10.4, 11.3, 11.1, 11.3, 10.0, 11.1, 9.3, 9.5, 11.2, 11.1, 11.0, 11.9, 9.2, 12.2, 10.2, 10.9, 10.9, 11.6, 10.7, 12.1, 9.4, 9.4, 9.1, 11.3, 10.4, 10.5, 10.0, 12.9, 10.5, 10.4, 11.3, 11.4, 9.4, 9.4, 10.9, 9.4, 9.4, 9.4, 9.4, 9.4, 10.1, 12.8, 12.8, 9.1, 12.9, 11.5, 10.6, 11.7, 12.8, 10.3, 12.8, 11.7, 11.7, 12.0, 10.9, 12.3, 10.4, 10.0, 10.0, 11.2, 11.4, 12.6, 12.7, 12.7, 10.4, 11.9, 11.9, 10.5, 12.3, 10.5, 10.4, 12.6, 11.6, 10.1, 10.5, 11.5, 11.0, 9.6, 10.4, 9.7, 10.6, 12.5, 9.2, 12.6, 11.1, 10.2, 9.8, 11.1, 10.9, 12.2, 11.4, 10.7, 10.4, 10.9, 10.8, 10.4, 9.2, 12.9, 12.7, 9.1, 9.1, 12.1, 9.1, 11.6, 12.1, 9.9, 12.5, 11.4, 11.8, 11.8, 10.2, 12.5, 10.9, 10.9, 10.8, 11.1, 9.2, 9.5, 10.7, 9.2, 10.2, 11.4, 11.0, 11.0, 12.3, 11.8, 12.3, 9.5, 12.0, 9.5, 9.6, 11.6, 11.2, 9.9, 9.9, 11.8, 11.4, 11.5, 12.0, 10.8, 10.5, 10.8, 9.4, 12.5, 9.4, 12.4, 12.0, 11.2, 12.0, 12.4, 12.8, 12.3, 11.7, 9.5, 10.8, 10.0, 12.3, 11.0, 9.5, 13.6, 11.3, 11.3, 11.3, 13.3, 12.9, 13.1, 12.3, 12.3, 11.2, 11.5, 11.3, 13.5, 11.5, 10.0, 10.5, 10.4, 9.5, 13.6, 11.2, 11.8, 11.9, 11.4, 11.4, 9.1, 9.5, 9.5, 11.0, 11.4, 10.0, 10.1, 10.4, 9.8, 11.8, 11.6, 12.0, 12.8, 12.5, 9.8, 11.1, 11.4, 9.8, 11.8, 12.9, 10.6, 10.8, 11.1, 10.2, 11.8, 10.0, 10.0, 9.4, 10.2, 12.4, 12.0, 11.5, 10.5, 10.8, 12.3, 9.5, 9.5, 11.5, 11.2, 12.7, 11.4, 11.0, 11.0, 11.4, 10.5, 9.3, 10.9, 11.9, 12.2, 11.9, 10.9, 9.6, 12.5, 10.8, 12.4, 10.8, 9.5, 9.5, 9.5, 9.8, 10.9, 9.5, 9.8, 11.2, 11.7, 9.4, 11.0, 11.0, 11.0, 10.0, 11.0, 11.2, 10.4, 9.3, 10.4, 10.5, 10.4, 11.3, 9.5, 12.0, 10.6, 10.9, 11.5, 11.5, 9.6, 12.0, 10.3, 9.4, 9.2, 9.6, 13.6, 9.5, 11.8, 10.8, 9.5, 9.3, 12.8, 11.5, 9.4, 12.8, 9.6, 11.8, 9.3, 9.8, 12.2, 9.5, 10.3, 10.5, 10.0, 10.5, 11.1, 10.9, 10.9, 9.8, 9.8, 9.5, 10.9, 11.0, 9.2, 11.0, 11.3, 11.3, 9.3, 11.2, 9.8, 9.6, 11.8, 10.3, 10.3, 11.4, 9.5, 14.0, 14.0, 11.7, 11.2, 9.3, 11.2, 9.5, 12.0, 9.7, 9.5, 11.5, 10.4, 10.4, 10.9, 10.2, 10.9, 10.5, 12.4, 13.0, 10.2, 10.2, 11.0, 10.9, 12.4, 9.7, 10.9, 9.5, 9.5, 12.1, 12.2, 10.9, 12.5, 11.7, 11.2, 11.2, 9.2, 9.8, 10.1, 11.1, 10.1, 9.2, 9.8, 12.8, 10.5, 10.1, 10.1, 9.8, 12.5, 11.9, 9.8, 9.1, 10.1, 12.5, 11.4, 11.0, 10.6, 10.6, 10.6, 10.6, 9.3, 9.8, 9.8, 9.2, 9.7, 9.6, 10.0, 12.6, 9.5, 9.5, 9.5, 10.5, 10.5, 10.5, 10.4, 10.5, 11.0, 10.2, 11.4, 9.5, 9.5, 10.8, 10.0, 11.8, 10.3, 10.3, 10.0, 10.1, 10.1, 11.1, 9.5, 10.03333333, 10.9, 10.1, 10.03333333, 9.8, 11.8, 9.5, 9.8, 10.5, 9.8, 10.4, 9.2, 11.6, 9.2, 9.3, 9.8, 9.9, 10.0, 12.2, 9.9, 10.8, 10.8, 9.6, 9.9, 9.9, 9.5, 9.2, 9.6, 9.6, 10.3, 9.7, 12.5, 11.0, 9.8, 10.2, 9.2, 9.55, 9.55, 9.9, 10.2, 11.1, 9.9, 9.9, 11.9, 10.0, 10.7, 11.3, 10.9, 10.7, 12.4, 10.7, 11.9, 10.6, 10.9, 10.1, 9.6, 9.4, 9.6, 12.1, 9.8, 9.9, 9.8, 9.4, 11.4, 11.0, 9.6, 9.6, 12.1, 11.2, 11.0, 11.3, 10.4, 9.9, 11.7, 10.1, 9.0, 9.0, 8.5, 11.1, 10.3, 11.06666667, 11.3, 9.566666667, 9.8, 11.7, 11.1, 9.6, 9.8, 9.7, 9.7, 11.3, 11.3, 11.0, 11.6, 9.0, 10.9, 10.9, 10.55, 9.0, 10.5, 11.9, 10.4, 10.0, 10.4, 10.8, 9.7, 9.7, 10.0, 11.0, 10.0, 9.7, 9.7, 12.6, 11.1, 11.0, 8.8, 13.56666667, 8.8, 13.6, 10.2, 10.6, 10.1, 10.6, 10.3, 10.7, 10.9, 9.7, 10.3, 10.6, 11.4, 10.8, 12.4, 11.4, 11.95, 9.7, 10.0, 10.6, 9.7, 11.5, 10.8, 11.5, 9.6, 9.4, 9.8, 11.0, 11.4, 9.95, 10.8, 11.4, 10.6, 11.1, 9.7, 9.8, 10.4, 10.5, 9.233333333, 9.25, 10.6, 10.3, 10.5, 10.2, 10.3, 9.05, 10.6, 10.4, 10.0, 9.7, 9.6, 10.8, 10.1, 10.2, 11.3, 10.2, 9.9, 9.0, 11.7, 9.7, 10.3, 10.2, 12.0, 9.9, 11.6, 10.9, 10.75, 10.4, 11.2, 10.1, 10.2, 12.1, 10.4, 11.4, 9.5, 9.4, 11.3, 9.4, 11.0, 10.55, 9.9, 11.0, 9.5, 9.9, 9.9, 9.9, 10.1, 10.1, 10.1, 10.9, 11.2, 10.1, 9.2, 11.5, 12.4, 11.1, 9.5, 12.5, 10.5, 11.8, 10.8, 11.9, 11.3, 11.3, 11.9, 11.3, 11.9, 9.8, 11.6, 11.5, 11.4, 10.9, 12.8, 9.2, 11.6, 11.6, 11.0, 9.5, 10.5, 11.2, 11.0, 10.2, 11.0], \"sizemode\": \"area\", \"sizeref\": 0.03725, \"symbol\": \"circle\"}, \"mode\": \"markers\", \"name\": \"\", \"showlegend\": false, \"type\": \"scattergl\", \"x\": [6, 6, 6, 6, 6, 6, 6, 6, 6, 6, 5, 5, 5, 7, 5, 7, 6, 8, 6, 5, 8, 7, 8, 5, 6, 6, 6, 6, 6, 7, 6, 6, 6, 6, 5, 5, 5, 6, 5, 5, 6, 6, 6, 6, 6, 7, 4, 5, 6, 5, 6, 7, 7, 6, 6, 6, 6, 6, 6, 6, 6, 6, 5, 6, 6, 5, 7, 5, 8, 5, 6, 5, 5, 6, 8, 5, 7, 7, 5, 5, 6, 6, 5, 6, 5, 6, 6, 6, 5, 6, 6, 5, 7, 7, 7, 6, 6, 7, 4, 6, 5, 5, 5, 5, 5, 6, 5, 6, 6, 5, 6, 5, 5, 5, 5, 4, 6, 6, 5, 5, 5, 5, 5, 6, 6, 6, 5, 7, 7, 6, 5, 7, 5, 5, 5, 5, 6, 5, 7, 6, 5, 5, 6, 6, 6, 6, 6, 4, 7, 6, 7, 6, 6, 5, 6, 6, 6, 7, 8, 8, 7, 5, 5, 6, 5, 5, 6, 7, 5, 5, 6, 6, 4, 7, 5, 6, 4, 5, 4, 6, 6, 5, 5, 6, 5, 5, 6, 5, 8, 4, 6, 5, 6, 5, 5, 6, 5, 5, 5, 5, 5, 5, 5, 6, 4, 5, 5, 4, 5, 6, 5, 7, 5, 6, 7, 5, 5, 5, 5, 5, 5, 6, 7, 6, 6, 5, 6, 6, 6, 5, 4, 6, 6, 6, 6, 6, 6, 6, 7, 6, 5, 5, 7, 6, 5, 6, 7, 7, 7, 5, 4, 3, 5, 3, 6, 8, 7, 7, 6, 4, 6, 5, 5, 6, 6, 5, 6, 5, 6, 6, 6, 5, 5, 5, 5, 6, 6, 5, 4, 7, 8, 8, 4, 5, 5, 5, 6, 7, 7, 7, 7, 6, 5, 7, 3, 6, 5, 7, 6, 6, 6, 6, 6, 6, 6, 6, 5, 6, 7, 6, 7, 8, 6, 6, 5, 6, 6, 5, 7, 6, 7, 5, 6, 6, 5, 5, 6, 6, 6, 5, 8, 5, 6, 5, 5, 6, 6, 6, 5, 7, 7, 6, 6, 5, 6, 6, 7, 6, 6, 5, 7, 7, 6, 7, 6, 6, 6, 6, 6, 6, 6, 5, 6, 6, 7, 7, 6, 6, 6, 5, 6, 6, 5, 6, 7, 7, 7, 7, 6, 7, 7, 6, 6, 6, 7, 7, 7, 5, 6, 7, 7, 5, 6, 6, 5, 5, 5, 6, 5, 6, 6, 5, 5, 5, 6, 5, 7, 5, 6, 5, 6, 6, 5, 5, 6, 6, 6, 5, 6, 6, 7, 6, 6, 6, 7, 6, 6, 5, 5, 5, 5, 5, 7, 4, 8, 7, 5, 8, 7, 5, 7, 6, 8, 6, 6, 3, 5, 6, 6, 7, 5, 5, 7, 7, 7, 6, 7, 5, 6, 5, 5, 5, 5, 6, 5, 5, 6, 6, 5, 5, 6, 5, 6, 7, 6, 5, 7, 6, 6, 6, 5, 6, 5, 5, 5, 6, 6, 6, 6, 6, 6, 7, 6, 6, 6, 6, 4, 6, 5, 4, 6, 6, 6, 5, 6, 6, 5, 7, 6, 7, 6, 6, 6, 6, 7, 6, 5, 6, 6, 5, 5, 5, 6, 6, 5, 6, 4, 6, 6, 6, 6, 5, 6, 6, 6, 5, 5, 6, 5, 6, 4, 5, 6, 6, 6, 6, 6, 6, 7, 5, 7, 7, 7, 7, 7, 7, 5, 6, 5, 6, 7, 5, 6, 7, 5, 6, 6, 5, 6, 6, 5, 7, 5, 7, 7, 6, 6, 7, 7, 7, 5, 5, 6, 6, 7, 6, 6, 7, 7, 6, 5, 6, 5, 5, 5, 7, 5, 6, 8, 7, 6, 6, 5, 5, 6, 6, 5, 5, 5, 6, 8, 6, 5, 5, 5, 5, 7, 6, 6, 6, 5, 5, 6, 5, 5, 8, 4, 6, 6, 6, 5, 5, 6, 5, 6, 6, 7, 5, 5, 5, 7, 4, 6, 5, 5, 5, 4, 6, 5, 7, 7, 7, 7, 6, 7, 6, 6, 5, 5, 4, 5, 7, 4, 5, 6, 5, 6, 6, 6, 5, 6, 6, 8, 6, 5, 6, 6, 7, 7, 7, 5, 5, 6, 5, 5, 5, 7, 4, 6, 7, 4, 6, 5, 5, 6, 5, 6, 5, 5, 5, 5, 7, 4, 6, 6, 5, 5, 6, 6, 5, 5, 6, 6, 5, 6, 7, 6, 5, 7, 7, 5, 5, 6, 8, 7, 5, 7, 5, 5, 5, 6, 6, 7, 6, 5, 6, 6, 5, 7, 6, 3, 6, 6, 5, 5, 6, 6, 6, 6, 6, 6, 6, 6, 6, 5, 7, 5, 6, 7, 7, 6, 6, 5, 6, 6, 6, 5, 6, 7, 7, 7, 7, 7, 5, 9, 6, 6, 5, 7, 8, 4, 6, 7, 8, 5, 6, 6, 6, 7, 6, 6, 7, 5, 7, 5, 5, 6, 6, 6, 8, 6, 5, 5, 7, 6, 6, 5, 6, 6, 6, 5, 6, 7, 6, 6, 5, 5, 5, 5, 5, 9, 6, 5, 6, 5, 6, 6, 9, 7, 7, 6, 4, 8, 6, 6, 8, 8, 8, 8, 7, 7, 7, 7, 7, 8, 8, 5, 5, 7, 6, 7, 5, 7, 5, 7, 7, 5, 5, 7, 5, 8, 7, 6, 6, 5, 6, 7, 8, 7, 6, 5, 5, 6, 3, 5, 7, 9, 6, 6, 8, 7, 6, 6, 6, 6, 7, 6, 7, 6, 7, 6, 7, 5, 7, 7, 6, 6, 6, 6, 6, 7, 6, 5, 6, 8, 4, 4, 8, 4, 5, 5, 5, 5, 5, 4, 5, 7, 6, 6, 7, 7, 6, 6, 6, 8, 5, 5, 7, 5, 5, 7, 5, 6, 5, 5, 5, 5, 5, 6, 7, 5, 6, 7, 7, 7, 7, 5, 5, 4, 5, 5, 6, 6, 5, 6, 5, 5, 7, 7, 6, 6, 7, 6, 6, 6, 5, 6, 6, 7, 7, 7, 7, 6, 7, 6, 5, 6, 5, 7, 5, 6, 7, 6, 6, 5, 6, 6, 6, 5, 7, 6, 4, 5, 4, 6, 6, 5, 6, 6, 7, 7, 5, 6, 7, 6, 6, 6, 5, 7, 6, 6, 7, 6, 5, 5, 5, 5, 6, 6, 6, 7, 7, 8, 6, 6, 6, 6, 4, 7, 4, 6, 6, 6, 6, 3, 6, 5, 5, 7, 5, 4, 5, 4, 5, 7, 5, 5, 5, 5, 6, 5, 6, 5, 4, 5, 5, 6, 5, 6, 4, 7, 5, 5, 5, 6, 5, 6, 7, 7, 6, 7, 5, 7, 5, 6, 7, 6, 5, 5, 6, 7, 6, 6, 6, 7, 5, 8, 8, 6, 7, 6, 6, 6, 7, 5, 8, 6, 7, 6, 7, 6, 6, 5, 5, 5, 7, 8, 7, 7, 4, 7, 6, 6, 5, 4, 8, 5, 5, 5, 5, 6, 6, 7, 5, 5, 6, 7, 7, 5, 7, 6, 6, 5, 5, 5, 6, 8, 8, 5, 5, 6, 5, 5, 5, 5, 5, 5, 5, 6, 5, 5, 5, 4, 6, 4, 4, 6, 6, 6, 6, 6, 6, 7, 6, 6, 5, 5, 6, 5, 6, 6, 5, 6, 5, 6, 5, 7, 6, 5, 5, 5, 6, 5, 6, 7, 5, 5, 8, 6, 5, 6, 7, 6, 7, 6, 6, 7, 7, 6, 7, 6, 7, 5, 6, 6, 5, 6, 5, 6, 6, 6, 5, 6, 6, 6, 5, 8, 5, 8, 8, 6, 7, 6, 5, 7, 6, 7, 5, 6, 3, 6, 7, 7, 6, 6, 5, 6, 5, 7, 5, 6, 7, 7, 7, 5, 4, 7, 6, 7, 5, 7, 5, 6, 7, 5, 6, 6, 6, 6, 6, 6, 6, 6, 6, 5, 7, 8, 7, 5, 6, 7, 5, 5, 5, 6, 6, 7, 5, 6, 6, 6, 7, 5, 8, 7, 6, 7, 7, 7, 6, 6, 6, 6, 4, 4, 6, 6, 7, 6, 5, 6, 5, 6, 6, 5, 7, 8, 5, 6, 6, 6, 6, 5, 5, 6, 6, 6, 5, 6, 5, 6, 6, 6, 5, 6, 7, 6, 6, 6, 5, 5, 6, 7, 8, 6, 6, 8, 5, 5, 6, 6, 5, 6, 6, 8, 8, 7, 7, 8, 4, 7, 7, 6, 5, 5, 5, 6, 6, 8, 7, 6, 7, 7, 4, 5, 7, 6, 5, 6, 5, 6, 7, 6, 6, 7, 7, 6, 6, 7, 6, 7, 7, 6, 6, 6, 5, 7, 6, 7, 6, 6, 6, 6, 6, 7, 7, 7, 7, 7, 6, 7, 6, 8, 8, 5, 4, 8, 6, 7, 6, 6, 6, 8, 6, 6, 5, 6, 3, 5, 7, 4, 6, 5, 4, 6, 6, 6, 5, 7, 5, 4, 5, 7, 6, 5, 5, 5, 7, 5, 5, 5, 5, 5, 6, 6, 6, 6, 6, 6, 6, 6, 5, 6, 7, 5, 5, 6, 6, 6, 6, 6, 6, 6, 6, 8, 5, 6, 7, 5, 5, 7, 6, 5, 6, 4, 6, 5, 6, 6, 6, 6, 6, 6, 4, 3, 6, 6, 6, 6, 5, 6, 5, 5, 8, 8, 7, 5, 7, 6, 6, 7, 5, 5, 7, 8, 7, 6, 6, 6, 5, 5, 6, 7, 6, 7, 6, 6, 6, 6, 5, 6, 5, 5, 6, 6, 5, 6, 6, 6, 6, 5, 7, 7, 6, 6, 6, 5, 6, 6, 6, 6, 4, 6, 6, 5, 6, 6, 6, 6, 6, 6, 6, 7, 7, 7, 7, 6, 6, 4, 4, 6, 5, 7, 6, 5, 6, 5, 5, 6, 5, 5, 6, 6, 5, 4, 6, 6, 4, 5, 4, 5, 6, 7, 5, 6, 5, 5, 6, 5, 6, 6, 6, 6, 6, 6, 6, 5, 6, 6, 6, 6, 6, 5, 7, 5, 9, 6, 7, 5, 7, 6, 6, 7, 7, 5, 6, 6, 6, 6, 8, 7, 5, 6, 6, 7, 6, 6, 5, 6, 6, 5, 6, 8, 7, 6, 6, 5, 6, 5, 5, 5, 6, 7, 7, 7, 7, 6, 7, 5, 4, 7, 6, 4, 6, 5, 5, 5, 6, 5, 5, 6, 6, 7, 6, 4, 8, 5, 6, 7, 6, 6, 7, 5, 5, 6, 5, 7, 6, 6, 5, 5, 6, 7, 7, 7, 7, 5, 7, 3, 6, 4, 7, 6, 5, 6, 6, 6, 6, 6, 6, 6, 5, 4, 5, 5, 6, 6, 5, 4, 5, 5, 5, 6, 6, 5, 8, 6, 6, 4, 6, 7, 7, 6, 8, 6, 6, 6, 6, 5, 6, 6, 6, 5, 6, 6, 6, 5, 6, 5, 4, 6, 6, 6, 6, 5, 5, 5, 6, 5, 6, 6, 7, 6, 7, 6, 6, 5, 5, 5, 5, 6, 6, 7, 6, 5, 5, 5, 5, 5, 7, 6, 6, 6, 6, 6, 6, 5, 6, 8, 8, 5, 4, 6, 6, 7, 6, 7, 7, 5, 7, 5, 5, 6, 5, 5, 6, 5, 8, 6, 6, 6, 5, 6, 6, 6, 5, 5, 6, 5, 6, 6, 5, 6, 6, 7, 6, 7, 4, 6, 6, 6, 5, 7, 6, 5, 5, 5, 6, 6, 7, 7, 7, 7, 7, 6, 5, 6, 7, 6, 6, 5, 7, 6, 6, 6, 5, 5, 5, 5, 6, 7, 6, 7, 5, 7, 6, 4, 5, 5, 6, 6, 6, 7, 5, 6, 6, 6, 6, 7, 7, 6, 6, 5, 5, 5, 5, 6, 6, 6, 6, 5, 6, 5, 5, 5, 6, 5, 5, 5, 5, 5, 5, 5, 5, 5, 6, 6, 6, 6, 7, 6, 5, 6, 5, 6, 6, 5, 7, 7, 5, 5, 6, 6, 6, 6, 7, 5, 6, 6, 6, 7, 5, 5, 5, 4, 6, 6, 5, 6, 5, 6, 3, 6, 5, 6, 5, 6, 7, 5, 5, 5, 5, 5, 5, 5, 6, 6, 5, 7, 5, 5, 4, 7, 6, 5, 5, 5, 6, 6, 5, 5, 5, 5, 6, 5, 6, 6, 7, 6, 7, 6, 7, 5, 5, 5, 6, 5, 6, 6, 6, 8, 8, 8, 8, 8, 6, 6, 5, 6, 7, 4, 8, 5, 6, 6, 6, 6, 6, 6, 6, 5, 5, 6, 6, 6, 6, 6, 6, 5, 7, 6, 5, 5, 6, 5, 6, 7, 5, 7, 6, 6, 6, 6, 6, 5, 5, 5, 5, 6, 6, 6, 5, 6, 5, 5, 5, 6, 5, 5, 5, 6, 5, 6, 6, 6, 5, 5, 5, 5, 7, 3, 5, 5, 5, 5, 6, 5, 7, 5, 5, 5, 6, 5, 5, 6, 5, 5, 5, 6, 7, 6, 6, 5, 5, 6, 5, 5, 6, 6, 4, 5, 5, 6, 5, 6, 6, 5, 6, 6, 6, 5, 5, 5, 5, 5, 5, 5, 5, 6, 5, 5, 6, 5, 5, 5, 5, 5, 6, 6, 6, 5, 5, 5, 5, 6, 5, 4, 5, 6, 4, 5, 7, 5, 5, 7, 5, 5, 5, 6, 5, 5, 6, 6, 6, 6, 5, 6, 5, 5, 5, 5, 5, 5, 7, 6, 6, 6, 5, 5, 6, 6, 5, 6, 6, 4, 5, 4, 6, 6, 4, 6, 7, 6, 6, 5, 5, 5, 7, 7, 7, 7, 7, 5, 5, 7, 7, 5, 7, 5, 6, 6, 6, 5, 5, 6, 7, 5, 5, 6, 6, 6, 5, 6, 6, 6, 5, 6, 6, 5, 6, 5, 6, 5, 5, 5, 5, 6, 7, 5, 6, 7, 6, 6, 6, 5, 6, 5, 6, 6, 7, 6, 6, 7, 6, 7, 4, 5, 5, 7, 6, 7, 6, 6, 5, 5, 6, 5, 4, 6, 6, 5, 5, 5, 5, 5, 7, 4, 6, 6, 5, 6, 7, 5, 5, 6, 6, 5, 6, 5, 6, 5, 6, 6, 5, 6, 5, 5, 6, 6, 6, 7, 6, 6, 5, 7, 4, 6, 6, 6, 5, 6, 6, 5, 5, 5, 5, 5, 5, 5, 7, 7, 6, 6, 7, 7, 6, 7, 6, 8, 7, 7, 5, 5, 5, 6, 7, 5, 5, 5, 6, 5, 7, 5, 7, 6, 6, 7, 5, 4, 7, 6, 5, 6, 6, 5, 6, 5, 6, 5, 5, 6, 5, 6, 8, 5, 5, 5, 4, 5, 6, 6, 5, 8, 5, 6, 6, 4, 6, 6, 5, 5, 6, 6, 7, 6, 7, 6, 5, 5, 5, 6, 5, 6, 5, 5, 5, 5, 6, 6, 6, 7, 5, 4, 3, 6, 6, 6, 6, 5, 4, 4, 6, 8, 6, 8, 5, 4, 4, 4, 8, 8, 6, 7, 6, 5, 5, 5, 6, 6, 6, 4, 4, 6, 6, 5, 5, 6, 6, 5, 4, 6, 6, 4, 4, 4, 5, 6, 5, 5, 5, 7, 5, 5, 6, 5, 6, 6, 6, 6, 6, 5, 5, 5, 6, 6, 4, 5, 6, 5, 6, 5, 6, 5, 5, 5, 5, 5, 6, 6, 6, 5, 5, 7, 6, 5, 6, 6, 6, 6, 5, 5, 5, 5, 7, 5, 5, 5, 6, 6, 5, 5, 7, 6, 6, 7, 5, 6, 7, 6, 6, 5, 6, 6, 6, 5, 6, 5, 6, 6, 6, 6, 5, 6, 4, 4, 5, 5, 5, 5, 6, 5, 5, 4, 4, 6, 6, 6, 7, 6, 5, 6, 6, 6, 5, 7, 7, 6, 6, 7, 5, 5, 7, 8, 5, 5, 8, 7, 6, 6, 5, 6, 4, 4, 5, 7, 6, 6, 6, 6, 5, 5, 6, 5, 6, 6, 6, 5, 5, 6, 5, 5, 6, 5, 7, 7, 7, 5, 7, 7, 5, 6, 5, 6, 5, 6, 5, 7, 5, 6, 6, 5, 6, 5, 5, 5, 6, 5, 5, 7, 6, 5, 7, 7, 7, 7, 7, 7, 6, 7, 4, 6, 7, 5, 5, 7, 5, 5, 6, 5, 6, 7, 5, 6, 7, 7, 6, 6, 6, 6, 6, 5, 5, 7, 5, 5, 7, 7, 7, 7, 6, 5, 5, 7, 7, 5, 5, 7, 7, 6, 5, 6, 7, 5, 5, 5, 6, 5, 5, 6, 6, 6, 5, 5, 5, 6, 7, 7, 5, 6, 6, 5, 5, 7, 5, 5, 5, 4, 7, 7, 6, 6, 6, 6, 8, 7, 5, 7, 7, 6, 5, 7, 7, 7, 6, 7, 7, 6, 6, 5, 6, 6, 6, 6, 5, 6, 7, 6, 5, 6, 6, 6, 6, 6, 6, 6, 6, 6, 5, 6, 6, 7, 5, 5, 5, 6, 6, 6, 5, 6, 5, 5, 5, 5, 6, 6, 6, 5, 6, 6, 6, 7, 5, 7, 6, 6, 5, 6, 6, 6, 7, 5, 5, 5, 7, 6, 6, 6, 7, 5, 7, 6, 5, 6, 6, 6, 7, 6, 6, 8, 6, 8, 6, 6, 8, 5, 5, 6, 5, 6, 6, 6, 5, 5, 6, 6, 6, 6, 6, 6, 5, 7, 6, 7, 7, 8, 8, 8, 6, 7, 5, 5, 6, 6, 6, 6, 5, 6, 5, 5, 5, 6, 5, 5, 7, 5, 8, 7, 5, 7, 7, 5, 5, 6, 8, 8, 6, 5, 5, 6, 7, 7, 5, 6, 7, 7, 5, 5, 7, 4, 6, 5, 5, 5, 6, 6, 6, 6, 7, 7, 5, 5, 5, 6, 7, 6, 6, 6, 6, 7, 7, 6, 6, 6, 6, 5, 7, 7, 5, 5, 5, 5, 5, 5, 6, 6, 7, 7, 8, 7, 6, 6, 6, 6, 6, 6, 6, 7, 7, 5, 6, 7, 6, 7, 8, 7, 6, 5, 5, 6, 6, 5, 7, 5, 7, 7, 6, 5, 5, 4, 6, 8, 6, 5, 7, 7, 5, 5, 5, 5, 5, 6, 7, 5, 6, 7, 5, 5, 6, 6, 6, 5, 5, 7, 5, 6, 6, 6, 7, 6, 5, 4, 6, 8, 6, 6, 5, 8, 7, 7, 6, 8, 8, 6, 6, 5, 4, 5, 5, 8, 8, 6, 5, 5, 8, 6, 8, 6, 6, 6, 6, 5, 5, 5, 5, 7, 5, 6, 6, 5, 7, 7, 6, 5, 7, 5, 8, 6, 6, 5, 6, 5, 5, 6, 6, 6, 6, 6, 6, 6, 7, 7, 7, 6, 6, 6, 7, 7, 7, 7, 6, 7, 7, 7, 7, 7, 6, 8, 6, 7, 7, 7, 7, 7, 7, 6, 6, 6, 7, 7, 6, 5, 6, 6, 6, 6, 6, 6, 6, 8, 6, 6, 4, 5, 6, 6, 7, 6, 5, 6, 8, 8, 6, 5, 6, 6, 7, 5, 6, 6, 6, 5, 6, 6, 6, 6, 6, 6, 5, 6, 5, 4, 5, 7, 5, 6, 6, 5, 5, 5, 6, 5, 5, 8, 5, 5, 6, 5, 4, 6, 8, 8, 7, 6, 5, 5, 7, 5, 5, 5, 5, 6, 5, 6, 7, 6, 6, 7, 3, 6, 7, 6, 6, 6, 7, 6, 6, 7, 5, 7, 7, 7, 6, 6, 7, 5, 6, 6, 6, 5, 4, 6, 7, 5, 6, 6, 6, 7, 7, 7, 5, 6, 5, 6, 5, 6, 5, 7, 5, 6, 6, 6, 5, 6, 6, 6, 6, 5, 6, 6, 6, 6, 7, 6, 5, 6, 6, 6, 6, 6, 6, 6, 6, 6, 6, 6, 7, 5, 7, 7, 6, 6, 5, 7, 7, 6, 6, 6, 7, 6, 6, 6, 6, 8, 8, 8, 6, 6, 5, 6, 4, 6, 6, 5, 6, 7, 6, 4, 7, 8, 5, 7, 6, 6, 5, 5, 6, 7, 6, 7, 7, 7, 6, 7, 7, 5, 7, 7, 6, 5, 5, 5, 6, 5, 6, 6, 6, 5, 5, 4, 7, 5, 6, 6, 6, 6, 7, 6, 6, 6, 7, 6, 6, 5, 6, 6, 6, 6, 7, 5, 7, 6, 7, 6, 7, 7, 5, 6, 6, 7, 7, 6, 6, 8, 8, 5, 6, 6, 6, 6, 6, 6, 5, 7, 8, 6, 3, 6, 6, 6, 5, 5, 7, 7, 7, 5, 4, 8, 7, 5, 6, 5, 6, 7, 6, 6, 7, 7, 7, 6, 5, 5, 8, 5, 7, 6, 5, 5, 5, 6, 7, 5, 8, 6, 7, 7, 7, 7, 3, 6, 7, 7, 7, 7, 7, 6, 7, 6, 6, 7, 5, 5, 6, 7, 6, 6, 7, 5, 7, 5, 6, 6, 6, 7, 6, 6, 6, 6, 6, 6, 6, 6, 6, 5, 7, 6, 6, 6, 6, 6, 6, 6, 6, 6, 6, 7, 6, 6, 7, 6, 6, 7, 6, 6, 6, 6, 7, 6, 6, 6, 7, 6, 6, 6, 7, 5, 6, 6, 6, 8, 5, 7, 7, 7, 6, 6, 6, 8, 5, 6, 7, 6, 8, 6, 6, 5, 5, 6, 6, 5, 6, 6, 5, 6, 5, 6, 6, 6, 5, 6, 3, 7, 6, 6, 6, 7, 7, 6, 4, 6, 7, 5, 8, 8, 5, 6, 6, 6, 6, 6, 5, 6, 6, 5, 7, 6, 6, 6, 5, 5, 5, 5, 5, 7, 6, 5, 8, 6, 6, 7, 8, 7, 7, 5, 6, 5, 6, 5, 7, 7, 6, 6, 8, 6, 7, 5, 6, 6, 5, 8, 6, 8, 6, 6, 8, 6, 6, 8, 7, 6, 7, 8, 5, 8, 7, 8, 7, 6, 6, 6, 8, 7, 6, 7, 7, 6, 7, 7, 6, 6, 7, 7, 6, 5, 7, 7, 7, 6, 7, 5, 6, 6, 7, 6, 6, 6, 7, 7, 7, 5, 7, 5, 7, 5, 5, 6, 6, 6, 6, 4, 7, 5, 5, 6, 6, 5, 5, 6, 5, 7, 6, 6, 6, 6, 6, 6, 6, 6, 6, 6, 6, 6, 6, 6, 6, 6, 6, 7, 6, 6, 4, 6, 5, 6, 5, 6, 6, 6, 6, 7, 6, 6, 4, 6, 6, 6, 7, 5, 7, 4, 7, 5, 7, 6, 6, 7, 7, 7, 6, 6, 6, 7, 5, 7, 7, 7, 7, 7, 6, 7, 6, 6, 7, 6, 7, 6, 5, 5, 6, 6, 6, 5, 6, 6, 6, 5, 6, 5, 5, 7, 6, 7, 7, 6, 6, 7, 5, 5, 5, 6, 6, 6, 6, 6, 6, 7, 6, 7, 7, 7, 6, 6, 6, 6, 6, 7, 6, 7, 7, 5, 6, 4, 6, 6, 6, 6, 7, 7, 8, 7, 8, 8, 6, 4, 6, 8, 8, 7, 8, 5, 7, 6, 7, 8, 7, 5, 6, 7, 6, 5, 7, 6, 8, 7, 6, 7, 6, 5, 5, 6, 8, 7, 6, 7, 7, 5, 6, 7, 6, 6, 5, 5, 5, 6, 6, 6, 6, 6, 6, 5, 5, 5, 6, 5, 5, 4, 6, 5, 6, 5, 5, 7, 5, 5, 7, 6, 6, 7, 7, 7, 5, 6, 6, 5, 6, 5, 6, 4, 5, 6, 7, 7, 7, 7, 7, 7, 7, 5, 6, 5, 6, 7, 5, 5, 5, 8, 6, 5, 5, 5, 6, 6, 7, 5, 5, 8, 5, 5, 5, 6, 5, 4, 6, 6, 5, 5, 6, 5, 6, 7, 7, 5, 6, 6, 5, 6, 7, 5, 5, 5, 6, 5, 5, 6, 6, 5, 6, 6, 5, 5, 5, 5, 6, 5, 6, 5, 6, 5, 5, 6, 6, 3, 5, 5, 5, 5, 7, 5, 6, 6, 6, 5, 6, 6, 5, 7, 6, 6, 5, 6, 7, 7, 5, 5, 6, 5, 5, 6, 6, 5, 5, 6, 6, 6, 7, 6, 5, 6, 5, 6, 5, 6, 7, 6, 7, 6, 6, 6, 6, 6, 5, 5, 6, 6, 6, 7, 6, 6, 5, 6, 6, 6, 6, 4, 5, 5, 7, 5, 5, 5, 4, 6, 6, 5, 6, 6, 6, 6, 6, 6, 6, 6, 5, 5, 5, 6, 6, 6, 6, 7, 5, 5, 4, 6, 6, 7, 7, 7, 7, 7, 7, 6, 6, 7, 6, 7, 7, 6, 5, 7, 6, 6, 5, 7, 5, 5, 5, 6, 5, 5, 5, 6, 6, 8, 4, 6, 5, 6, 5, 6, 6, 5, 5, 6, 6, 6, 6, 6, 7, 5, 5, 5, 5, 6, 7, 5, 6, 5, 5, 6, 6, 6, 5, 7, 7, 5, 4, 6, 4, 6, 6, 7, 6, 6, 4, 6, 7, 7, 6, 7, 6, 5, 7, 7, 6, 7, 6, 6, 6, 6, 6, 6, 5, 7, 7, 7, 5, 7, 7, 6, 6, 6, 5, 6, 6, 7, 6, 6, 5, 6, 6, 6, 7, 6, 6, 6, 5, 5, 6, 6, 5, 4, 5, 5, 6, 6, 6, 6, 5, 6, 6, 5, 5, 5, 6, 5, 6, 5, 5, 5, 4, 5, 5, 7, 7, 7, 7, 7, 6, 6, 6, 7, 6, 5, 7, 7, 6, 5, 6, 6, 6, 5, 5, 6, 5, 5, 8, 6, 5, 6, 6, 5, 6, 7, 5, 4, 6, 5, 6, 6, 6, 6, 6, 6, 5, 8, 6, 6, 6, 6, 6, 6, 6, 6, 6, 7, 6, 5, 6, 5, 6, 6, 5, 5, 7, 7, 7, 5, 6, 6, 6, 5, 6, 6, 6, 6, 6, 6, 6, 8, 7, 5, 6, 6, 6, 7, 5, 5, 5, 5, 7, 6, 5, 5, 6, 6, 5, 6, 5, 6, 7, 6, 6, 6, 6, 6, 6, 7, 7, 6, 7, 5, 6, 6, 5, 5, 5, 5, 7, 7, 7, 7, 7, 7, 5, 5, 7, 7, 8, 6, 7, 7, 5, 6, 5, 6, 7, 6, 6, 7, 5, 6, 6, 6, 7, 7, 5, 5, 6, 6, 5, 6, 5, 6, 6, 6, 8, 6, 5, 5, 6, 6, 6, 6, 5, 6, 6, 6, 7, 6, 6, 6, 6, 4, 4, 5, 5, 5, 4, 6, 5, 6, 6, 4, 4, 7, 5, 7, 7, 6, 6, 6, 6, 6, 6, 6, 5, 5, 5, 5, 7, 6, 6, 7, 6, 5, 5, 6, 6, 6, 6, 6, 6, 6, 4, 5, 5, 5, 5, 6, 6, 6, 7, 6, 6, 6, 6, 7, 7, 6, 5, 6, 5, 6, 6, 6, 6, 7, 5, 4, 6, 6, 5, 5, 6, 6, 6, 6, 5, 6, 6, 5, 5, 6, 5, 5, 5, 6, 6, 6, 6, 5, 5, 6, 6, 6, 6, 6, 7, 6, 6, 6, 5, 6, 6, 7, 7, 5, 7, 7, 7, 5, 6, 7, 6, 6, 5, 5, 5, 5, 5, 5, 5, 8, 8, 8, 8, 8, 8, 8, 8, 8, 6, 6, 6, 6, 6, 6, 7, 6, 5, 6, 6, 5, 6, 6, 6, 5, 6, 5, 6, 5, 6, 6, 5, 6, 5, 6, 5, 6, 6, 5, 5, 6, 6, 5, 6, 5, 6, 5, 5, 6, 6, 6, 6, 5, 5, 6, 6, 6, 4, 5, 5, 5, 6, 6, 5, 5, 5, 5, 5, 5, 6, 6, 5, 5, 5, 7, 6, 5, 7, 5, 7, 7, 7, 7, 5, 5, 6, 6, 6, 6, 6, 6, 6, 6, 6, 6, 5, 6, 6, 5, 6, 6, 5, 6, 6, 6, 6, 5, 5, 5, 6, 5, 5, 6, 6, 6, 6, 5, 6, 6, 5, 5, 6, 6, 5, 5, 5, 7, 5, 6, 6, 6, 6, 5, 5, 5, 5, 6, 6, 6, 6, 5, 5, 6, 6, 6, 5, 5, 5, 5, 5, 6, 4, 5, 6, 6, 6, 6, 6, 6, 6, 6, 6, 6, 6, 6, 5, 5, 6, 6, 6, 6, 7, 5, 5, 6, 5, 4, 5, 6, 6, 6, 6, 5, 6, 6, 6, 6, 6, 5, 5, 6, 5, 6, 6, 6, 6, 6, 6, 6, 6, 6, 5, 6, 6, 6, 5, 6, 5, 6, 6, 5, 5, 6, 6, 6, 6, 5, 5, 6, 6, 6, 6, 6, 5, 5, 6, 6, 7, 6, 6, 7, 7, 7, 5, 5, 5, 6, 6, 6, 7, 7, 6, 7, 7, 5, 6, 7, 6, 6, 6, 6, 6, 6, 6, 6, 6, 5, 6, 6, 6, 6, 6, 6, 6, 6, 6, 6, 7, 6, 6, 6, 6, 6, 6, 5, 6, 7, 4, 6, 5, 5, 5, 5, 7, 5, 7, 7, 5, 6, 7, 7, 6, 6, 5, 6, 6, 6, 7, 7, 7, 6, 6, 6, 6, 5, 6, 5, 6, 6, 6, 7, 6, 6, 7, 7, 7, 5, 5, 5, 7, 5, 7, 7, 7, 7, 7, 6, 6, 6, 5, 6, 7, 7, 6, 5, 7, 7, 5, 6, 5, 5, 7, 7, 6, 6, 7, 6, 5, 4, 6, 6, 6, 6, 5, 4, 6, 6, 6, 6, 7, 5, 6, 7, 7, 6, 7, 6, 5, 5, 6, 6, 7, 6, 6, 7, 6, 6, 6, 7, 6, 6, 6, 7, 6, 6, 6, 6, 6, 5, 6, 6, 6, 6, 6, 6, 6, 6, 5, 5, 6, 6, 6, 6, 6, 6, 7, 6, 6, 5, 6, 6, 5, 5, 3, 6, 6, 5, 6, 5, 6, 7, 6, 6, 6, 7, 7, 6, 6, 6, 6, 7, 7, 6, 8, 8, 7, 6, 6, 6, 6, 5, 7, 4, 6, 6, 6, 6, 4, 5, 5, 6, 6, 5, 7, 8, 8, 5, 6, 6, 6, 6, 6, 5, 7, 7, 6, 5, 6, 7, 7, 8, 7, 4, 6, 6, 6, 5, 6, 5, 6, 7, 5, 6, 7, 6, 6, 6, 6, 5, 6, 6, 7, 5, 6, 6, 6, 5, 7, 6, 6, 5, 6, 7, 6, 5, 6, 6, 4, 7, 6, 6, 5, 6, 5, 6, 7, 6, 5, 6, 5, 5, 5, 6, 6, 6, 6, 5, 6, 6, 6, 6, 7, 5, 6, 6, 6, 6, 6, 7, 6, 5, 6, 6, 6, 7, 5, 4, 6, 6, 6, 5, 6, 5, 6, 7, 7, 5, 6, 6, 6, 5, 6, 5, 6, 7, 6, 5, 5, 5, 6, 5, 5, 5, 7, 7, 5, 5, 5, 5, 5, 5, 5, 7, 5, 4, 6, 6, 5, 5, 5, 6, 5, 5, 5, 5, 6, 5, 6, 5, 6, 5, 6, 6, 7, 4, 5, 5, 4, 6, 5, 5, 4, 5, 5, 5, 5, 5, 6, 6, 5, 6, 5, 5, 5, 5, 6, 5, 5, 7, 5, 5, 5, 5, 5, 5, 6, 6, 5, 5, 4, 5, 5, 5, 6, 5, 4, 5, 5, 5, 5, 6, 5, 6, 5, 5, 5, 5, 6, 5, 5, 4, 6, 5, 5, 5, 6, 6, 6, 6, 5, 5, 5, 5, 5, 6, 5, 5, 5, 5, 6, 5, 6, 6, 6, 6, 6, 5, 6, 5, 5, 5, 5, 5, 5, 7, 5, 5, 5, 5, 6, 6, 5, 5, 5, 5, 5, 5, 5, 6, 5, 6, 5, 5, 5, 6, 6, 6, 4, 5, 5, 5, 5, 5, 5, 5, 6, 5, 4, 6, 5, 5, 5, 5, 4, 6, 5, 4, 6, 6, 6, 5, 5, 5, 6, 5, 5, 5, 5, 5, 5, 6, 5, 5, 5, 5, 5, 5, 6, 5, 5, 5, 5, 5, 6, 7, 4, 7, 5, 5, 5, 6, 7, 7, 5, 5, 7, 6, 6, 6, 5, 6, 5, 5, 5, 5, 5, 6, 5, 5, 6, 4, 6, 6, 5, 6, 5, 7, 6, 6, 5, 6, 6, 6, 6, 6, 6, 5, 6, 6, 7, 7, 6, 5, 5, 6, 6, 6, 6, 5, 5, 6, 5, 5, 5, 5, 7, 5, 4, 5, 5, 5, 7, 4, 8, 6, 6, 6, 6, 5, 5, 5, 6, 6, 6, 8, 7, 6, 7, 5, 7, 5, 5, 6, 6, 7, 5, 7, 5, 6, 6, 6, 5, 5, 5, 5, 5, 6, 6, 5, 5, 5, 6, 5, 6, 6, 6, 6, 6, 6, 5, 5, 6, 5, 6, 7, 6, 7, 5, 5, 6, 6, 6, 7, 5, 6, 5, 6, 6, 6, 5, 7, 7, 6, 5, 6, 7, 6, 6, 6, 6, 6, 5, 7, 6, 6, 6, 6, 6, 5, 5, 6, 6, 5, 7, 7, 6, 5, 6, 5, 5, 7, 6, 7, 5, 5, 7, 5, 6, 6, 5, 6, 7, 6, 7, 6, 6, 6, 6, 6, 6, 5, 6, 6, 6, 6, 7, 8, 6, 5, 5, 5, 7, 5, 6, 6, 5, 5, 6, 6, 6, 5, 6, 6, 7, 6, 4, 6, 5, 5, 7, 5, 5, 6, 5, 6, 5, 7, 7, 5, 7, 5, 7, 6, 6, 5, 6, 7, 5, 6, 5, 6, 5, 6, 6, 6, 5, 8, 6, 7, 7, 7, 6, 5, 5, 6, 6, 6, 6, 6, 7, 5, 8, 5, 5, 7, 3, 6, 5, 5, 5, 6, 5, 6, 6, 6, 5, 5, 6, 6, 5, 6, 5, 5, 6, 5, 6, 5, 8, 5, 5, 6, 5, 5, 6, 7, 6, 6, 7, 7, 6, 6, 8, 6, 5, 8, 6, 6, 7, 7, 7, 7, 7, 7, 6, 6, 7, 5, 6, 6, 7, 7, 5, 6, 3, 6, 5, 6, 5, 5, 5, 5, 5, 5, 6, 6, 5, 6, 5, 5, 6, 6, 6, 5, 6, 7, 5, 5, 6, 5, 6, 6, 5, 6, 6, 6, 6, 6, 6, 6, 5, 5, 5, 6, 5, 6, 6, 5, 5, 5, 6, 6, 5, 6, 6, 6, 6, 6, 6, 5, 4, 6, 6, 4, 5, 5, 6, 5, 5, 5, 7, 7, 6, 7, 5, 8, 7, 5, 6, 5, 5, 5, 5, 6, 6, 6, 6, 4, 6, 5, 6, 6, 6, 7, 6, 6, 6, 5, 5, 6, 5, 6, 5, 5, 6, 5, 5, 5, 5, 5, 6, 5, 5, 5, 5, 6, 5, 6, 5, 6, 4, 5, 5, 5, 5, 7, 6, 5, 5, 5, 5, 5, 7, 5, 4, 7, 6, 5, 5, 5, 6, 5, 5, 5, 7, 6, 4, 6, 5, 6, 6, 5, 5, 6, 6, 5, 6, 5, 5, 5, 5, 6, 5, 6, 5, 5, 5, 5, 6, 5, 5, 5, 5, 5, 5, 5, 5, 3, 5, 5, 5, 5, 6, 6, 6, 5, 6, 6, 6, 6, 4, 4, 5, 5, 5, 6, 6, 5, 5, 5, 5, 5, 6, 5, 5, 5, 5, 5, 5, 5, 5, 4, 5, 6, 5, 5, 6, 5, 5, 5, 5, 5, 5, 5, 6, 5, 5, 6, 5, 5, 5, 5, 6, 6, 5, 6, 6, 5, 5, 5, 5, 6, 6, 6, 5, 5, 5, 5, 5, 6, 5, 6, 6, 5, 5, 6, 5, 6, 5, 5, 6, 6, 5, 6, 6, 5, 5, 6, 5, 5, 5, 5, 5, 5, 6, 6, 5, 6, 5, 6, 5, 6, 5, 5, 7, 6, 6, 5, 5, 7, 6, 6, 7, 7, 7, 5, 6, 5, 6, 5, 4, 6, 5, 6, 6, 5, 5, 5, 7, 5, 5, 5, 5, 7, 5, 8, 6, 4, 6, 3, 4, 5, 5, 7, 7, 7, 5, 7, 5, 6, 5, 6, 5, 5, 6, 5, 5, 5, 5, 5, 6, 6, 7, 6, 7, 7, 6, 5, 6, 5, 5, 5, 5, 6, 6, 6, 6, 6, 5, 4, 7, 7, 7, 4, 6, 6, 5, 5, 6, 6, 5, 6, 5, 6, 7, 6, 5, 5, 5, 6, 5, 6, 6, 7, 6, 7, 3, 5, 7, 7, 7, 7, 5, 5, 6, 6, 6, 6, 6, 6, 7, 6, 6, 5, 6, 6, 6, 5, 6, 6, 6, 5, 7, 6, 4, 5, 7, 5, 5, 6, 5, 5, 6, 6, 4, 7, 5, 7, 7, 7, 7, 7, 7, 7, 7, 7, 7, 7, 7, 7, 7, 6, 5, 6, 6, 7, 5, 6, 5, 5, 6, 6, 6, 7, 5, 6, 5, 6, 6, 7, 5, 7, 5, 5, 5, 7, 5, 6, 5, 6, 6, 5, 6, 7, 5, 5, 6, 5, 5, 6, 5, 5, 6, 7, 7, 6, 6, 7, 7, 7, 7, 5, 7, 7, 7, 7, 5, 7, 6, 5, 6, 6, 6, 7, 6, 6, 5, 6, 6, 5, 6, 7, 6, 6, 5, 6, 7, 7, 7, 5, 6, 6, 7, 7, 5, 7, 6, 5, 6, 6, 7, 6, 6, 6, 5, 6, 6, 5, 5, 5, 7, 6, 6, 7, 5, 7, 7, 6, 8, 6, 6, 6, 6, 7, 7, 7, 5, 7, 5, 6, 6, 5, 7, 6, 5, 5, 7, 6, 7, 6, 6, 6, 5, 7, 6, 7, 7, 8, 6, 6, 7, 6, 5, 6, 5, 7, 5, 6, 6, 6, 6, 6, 5, 6, 7, 5, 6, 6, 7, 6, 6, 6, 6, 6, 6, 6, 5, 8, 6, 6, 6, 4, 7, 6, 6, 5, 6, 6, 5, 7, 7, 7, 6, 6, 6, 5, 6, 6, 6, 6, 6, 5, 6, 6, 7, 6, 6, 7, 6, 5, 6, 6, 5, 7, 7, 6, 5, 7, 6, 7, 5, 5, 5, 5, 7, 6, 6, 6, 6, 6, 6, 6, 6, 4, 7, 5, 6, 6, 5, 6, 5, 5, 6, 5, 6, 5, 4, 6, 5, 7, 5, 6, 6, 6, 6, 6, 6, 6, 7, 8, 5, 7, 7, 7, 5, 7, 7, 6, 5, 6, 6, 6, 6, 6, 6, 6, 6, 6, 6, 6, 6, 6, 5, 5, 5, 7, 5, 6, 5, 5, 4, 6, 4, 6, 6, 4, 4, 5, 5, 6, 5, 6, 5, 5, 5, 6, 6, 6, 5, 5, 5, 5, 5, 5, 6, 6, 6, 5, 4, 5, 4, 6, 6, 6, 6, 6, 8, 6, 6, 5, 5, 6, 6, 4, 6, 6, 7, 6, 6, 6, 6, 5, 5, 6, 5, 5, 5, 5, 6, 6, 4, 6, 5, 5, 6, 6, 3, 6, 6, 6, 5, 5, 5, 5, 4, 5, 5, 5, 6, 5, 6, 6, 6, 6, 6, 6, 6, 5, 6, 5, 7, 6, 6, 6, 6, 5, 6, 6, 5, 6, 5, 5, 6, 5, 5, 5, 6, 6, 6, 6, 6, 5, 6, 5, 5, 5, 5, 5, 6, 5, 5, 5, 5, 5, 6, 5, 6, 5, 5, 6, 4, 6, 5, 5, 6, 6, 4, 5, 6, 5, 5, 3, 5, 5, 6, 6, 6, 6, 5, 5, 5, 5, 5, 5, 5, 5, 5, 6, 5, 5, 5, 5, 6, 5, 5, 7, 6, 5, 5, 6, 8, 6, 7, 6, 6, 7, 6, 6, 6, 6, 5, 5, 5, 5, 7, 5, 5, 5, 5, 6, 4, 6, 6, 6, 5, 5, 5, 5, 6, 6, 7, 6, 6, 5, 5, 5, 6, 7, 6, 5, 5, 6, 6, 5, 5, 5, 8, 7, 7, 7, 5, 6, 6, 6, 5, 5, 7, 6, 4, 6, 6, 5, 5, 7, 4, 7, 3, 5, 5, 6, 5, 5, 7, 5, 7, 3, 5, 4, 5, 4, 5, 4, 5, 5, 5, 5, 6, 6, 5, 5, 5, 7, 6, 5, 6, 6, 6, 5, 5, 5, 6, 6, 3, 6, 6, 6, 5, 6, 5, 6, 6, 6, 6, 5, 6, 5, 5, 6, 4, 5, 5, 6, 5, 6, 6, 6, 6, 6, 5, 6, 5, 7, 6, 6, 6, 5, 5, 6, 7, 6, 6, 7, 6, 5, 5, 5, 8, 5, 5, 6, 5, 6, 7, 5, 6, 5, 5, 5, 5, 5, 5, 5, 6, 6, 5, 5, 6, 6, 6, 5, 6, 6, 6, 6, 6, 6, 5, 6, 5, 5, 5, 7, 6, 6, 6, 6, 5, 6, 6, 6, 6, 5, 6, 6, 5, 6], \"xaxis\": \"x\", \"y\": [8.8, 9.5, 10.1, 9.9, 9.9, 10.1, 9.6, 8.8, 9.5, 11.0, 12.0, 9.7, 10.8, 12.4, 9.7, 11.4, 9.6, 12.8, 11.3, 9.5, 12.8, 11.0, 10.5, 9.3, 10.0, 10.4, 10.0, 10.5, 11.6, 12.3, 10.0, 10.2, 10.8, 9.0, 10.2, 12.8, 10.0, 11.2, 8.6, 8.6, 9.4, 9.4, 9.8, 9.5, 9.5, 10.0, 9.8, 9.8, 9.8, 9.8, 11.7, 11.0, 10.9, 10.9, 9.1, 11.0, 9.6, 8.9, 10.2, 9.9, 8.6, 8.9, 10.5, 10.2, 10.3, 9.1, 12.6, 9.8, 10.7, 9.5, 9.0, 9.5, 10.0, 9.1, 10.7, 9.5, 12.7, 12.0, 9.3, 9.0, 10.6, 9.2, 10.0, 9.5, 8.7, 8.7, 8.7, 9.7, 8.7, 8.7, 8.7, 9.0, 12.6, 12.6, 11.5, 9.2, 8.8, 11.4, 10.1, 8.8, 9.1, 9.4, 9.4, 9.0, 9.1, 9.2, 9.4, 9.1, 9.1, 10.3, 8.8, 8.9, 9.2, 9.1, 9.1, 9.7, 11.3, 11.8, 9.2, 9.2, 10.2, 8.8, 9.7, 9.1, 9.8, 11.0, 10.5, 9.7, 10.9, 10.9, 10.6, 9.7, 9.0, 9.2, 8.9, 9.6, 10.7, 8.7, 10.8, 11.8, 10.2, 8.7, 10.8, 9.7, 11.2, 10.9, 10.1, 9.0, 12.0, 9.4, 11.5, 9.9, 9.4, 10.4, 9.7, 8.9, 8.9, 12.4, 12.1, 12.1, 12.4, 9.1, 10.6, 8.9, 9.5, 9.8, 9.6, 12.6, 9.3, 10.0, 12.7, 11.0, 11.4, 11.5, 10.2, 11.4, 12.6, 9.4, 8.7, 9.2, 9.3, 9.2, 8.7, 9.6, 9.3, 9.3, 9.9, 11.0, 12.7, 8.9, 8.9, 8.7, 11.4, 9.6, 9.1, 9.1, 9.1, 8.9, 8.8, 8.9, 9.3, 8.8, 9.6, 12.0, 10.2, 8.8, 9.2, 9.9, 10.2, 9.5, 10.5, 11.2, 9.2, 9.7, 11.1, 9.4, 11.0, 9.4, 9.4, 11.0, 11.0, 9.1, 11.1, 9.1, 10.4, 8.7, 9.7, 9.1, 9.7, 8.7, 8.9, 9.6, 9.5, 9.0, 9.0, 9.0, 9.0, 9.6, 11.1, 9.6, 8.7, 10.4, 11.4, 9.7, 8.7, 11.3, 12.6, 10.9, 10.9, 10.0, 10.0, 9.8, 8.7, 11.7, 9.3, 9.6, 11.0, 11.0, 11.8, 11.4, 10.2, 8.9, 10.2, 9.6, 10.6, 8.9, 9.2, 9.7, 9.7, 9.7, 9.2, 9.7, 9.3, 9.0, 9.5, 9.8, 9.8, 10.6, 10.6, 12.4, 12.6, 12.3, 10.5, 9.3, 8.8, 8.8, 9.7, 9.0, 9.0, 9.0, 9.0, 10.5, 9.1, 9.8, 8.5, 9.4, 9.4, 11.2, 10.0, 10.3, 10.8, 10.5, 10.8, 11.1, 9.9, 9.9, 9.9, 9.9, 10.4, 10.4, 11.5, 12.5, 10.0, 10.0, 10.0, 9.1, 10.6, 10.5, 11.5, 10.1, 10.3, 10.5, 10.6, 10.4, 11.4, 10.5, 10.0, 10.0, 9.6, 10.4, 12.5, 10.6, 11.8, 9.8, 10.8, 11.8, 11.2, 9.3, 10.4, 10.2, 9.0, 10.0, 9.1, 10.0, 10.0, 9.6, 11.2, 8.8, 10.0, 10.0, 11.4, 11.9, 9.6, 11.9, 9.6, 9.0, 9.0, 9.5, 10.4, 10.6, 10.2, 8.9, 9.7, 9.0, 11.4, 12.3, 10.8, 9.4, 10.6, 11.6, 9.4, 10.6, 10.0, 9.2, 12.5, 12.5, 10.4, 10.0, 10.0, 10.4, 10.0, 9.0, 9.2, 9.2, 11.3, 12.5, 10.8, 10.1, 9.7, 9.3, 9.3, 10.6, 10.2, 12.2, 8.8, 10.0, 11.4, 11.4, 9.4, 11.7, 11.4, 8.8, 9.2, 8.7, 12.6, 10.0, 12.8, 9.4, 10.3, 11.4, 9.0, 9.6, 10.5, 10.5, 9.0, 9.6, 9.8, 9.0, 9.8, 10.5, 12.7, 10.4, 10.4, 10.4, 10.5, 10.4, 10.4, 9.4, 9.1, 9.3, 9.4, 9.8, 9.9, 9.2, 12.1, 12.2, 9.8, 12.4, 9.9, 9.2, 11.6, 10.4, 12.9, 9.3, 11.0, 11.5, 12.4, 9.8, 9.8, 10.5, 9.1, 10.1, 10.6, 10.5, 10.5, 9.8, 12.9, 9.5, 9.8, 8.5, 9.5, 9.3, 9.5, 9.4, 8.7, 8.9, 9.4, 9.4, 8.7, 9.6, 9.3, 10.0, 12.5, 9.6, 9.4, 9.5, 12.4, 10.5, 9.2, 10.4, 9.2, 10.6, 9.5, 9.2, 9.6, 9.7, 9.7, 10.7, 10.5, 8.9, 12.1, 12.7, 9.9, 11.4, 10.7, 12.5, 8.6, 12.5, 10.0, 8.6, 9.5, 9.6, 9.9, 9.9, 8.9, 8.9, 8.8, 10.0, 12.0, 10.0, 10.0, 12.1, 11.0, 11.2, 10.3, 10.4, 9.1, 10.4, 10.8, 11.7, 9.8, 9.8, 11.4, 11.2, 11.4, 9.2, 12.5, 12.6, 12.2, 11.2, 9.7, 9.3, 9.0, 9.0, 9.0, 9.1, 9.1, 9.0, 10.4, 9.5, 11.4, 8.7, 9.9, 9.9, 9.0, 10.0, 9.7, 11.8, 10.2, 8.7, 9.6, 11.3, 12.1, 9.6, 12.1, 11.3, 9.4, 10.4, 9.5, 12.3, 9.9, 10.1, 9.2, 10.4, 9.1, 10.0, 11.5, 9.8, 9.8, 9.4, 8.7, 11.6, 8.8, 12.7, 11.7, 10.2, 10.2, 12.7, 11.6, 12.3, 8.7, 9.4, 10.1, 9.7, 10.1, 9.7, 8.9, 10.8, 10.8, 9.5, 9.1, 10.9, 9.4, 10.8, 10.8, 10.5, 9.4, 10.8, 10.5, 11.5, 9.4, 10.8, 10.8, 10.8, 9.8, 9.8, 9.6, 9.6, 9.5, 10.7, 12.4, 11.1, 8.8, 8.7, 8.7, 8.8, 11.7, 10.9, 10.8, 9.6, 9.0, 9.0, 10.4, 11.4, 9.3, 11.0, 9.1, 9.4, 9.4, 10.5, 8.8, 8.8, 10.7, 9.5, 10.9, 10.8, 10.8, 9.2, 10.3, 10.3, 11.0, 9.0, 10.4, 9.5, 9.5, 9.0, 9.5, 9.0, 10.0, 9.1, 9.1, 9.1, 9.1, 9.5, 11.4, 12.2, 11.3, 10.2, 11.3, 10.0, 9.4, 12.2, 9.2, 9.4, 9.6, 9.5, 12.5, 9.6, 10.0, 9.3, 9.3, 11.6, 12.5, 10.6, 9.4, 9.1, 9.0, 11.8, 11.8, 11.8, 10.0, 9.7, 9.5, 9.4, 11.2, 9.0, 10.7, 9.0, 9.1, 10.8, 10.1, 9.9, 9.8, 9.8, 9.5, 9.5, 11.1, 9.5, 9.5, 9.4, 9.7, 13.9, 10.1, 10.5, 12.6, 10.9, 10.0, 11.2, 10.0, 9.2, 9.5, 12.3, 12.3, 10.0, 10.8, 10.5, 9.2, 9.1, 10.5, 10.2, 8.9, 10.4, 11.7, 12.4, 10.9, 10.2, 11.7, 9.4, 10.5, 9.4, 10.4, 9.5, 11.1, 9.1, 9.2, 9.6, 9.1, 9.2, 10.8, 9.6, 12.6, 11.0, 10.2, 9.4, 10.0, 12.2, 10.5, 11.5, 9.8, 11.4, 11.5, 10.2, 9.4, 10.5, 9.1, 12.2, 9.5, 9.3, 9.8, 9.8, 9.8, 9.8, 8.7, 10.2, 9.5, 11.0, 9.2, 10.9, 9.3, 9.3, 9.8, 9.3, 9.3, 9.4, 10.4, 12.1, 11.0, 9.0, 9.5, 8.8, 11.2, 9.3, 9.5, 8.8, 9.0, 9.3, 9.2, 9.2, 10.0, 9.3, 9.2, 10.9, 10.0, 10.9, 9.3, 9.0, 9.2, 9.6, 9.4, 11.1, 8.9, 9.3, 9.3, 9.8, 9.8, 8.9, 9.6, 9.6, 9.0, 9.5, 9.3, 9.2, 9.1, 9.5, 10.5, 9.0, 11.7, 9.1, 9.0, 9.1, 12.4, 9.2, 9.4, 9.6, 11.7, 9.8, 10.2, 12.5, 10.9, 11.0, 10.5, 11.5, 12.8, 12.2, 10.5, 12.8, 11.9, 11.9, 11.9, 12.0, 12.0, 8.8, 8.8, 10.8, 11.0, 11.0, 9.3, 10.8, 8.8, 11.5, 10.8, 9.4, 9.5, 8.6, 9.5, 10.3, 9.4, 9.4, 10.0, 9.4, 10.4, 9.1, 9.9, 12.1, 9.9, 12.5, 9.5, 8.5, 9.0, 10.1, 9.4, 8.6, 10.7, 9.6, 10.1, 10.0, 12.7, 10.2, 8.9, 11.9, 10.0, 9.9, 11.5, 11.5, 9.8, 12.2, 11.4, 11.0, 11.4, 11.0, 9.9, 11.0, 9.4, 12.2, 11.0, 10.3, 10.5, 10.5, 10.9, 10.5, 11.0, 9.7, 8.9, 9.6, 8.8, 11.1, 10.3, 12.2, 9.8, 8.8, 9.9, 9.9, 9.9, 9.2, 9.5, 9.2, 10.3, 11.0, 11.9, 10.2, 9.4, 8.9, 8.9, 10.0, 10.7, 9.8, 9.3, 9.5, 10.0, 9.0, 11.9, 8.9, 10.0, 9.6, 8.9, 8.9, 11.4, 9.0, 10.0, 9.6, 9.7, 9.5, 10.0, 12.2, 8.7, 10.2, 9.6, 10.0, 9.5, 11.5, 9.5, 9.8, 10.1, 10.0, 9.8, 9.5, 9.5, 10.2, 10.2, 9.0, 9.0, 12.3, 9.0, 11.6, 9.5, 11.5, 9.6, 9.0, 12.0, 11.4, 12.3, 12.6, 9.0, 12.0, 11.7, 9.2, 10.3, 8.6, 10.7, 9.8, 9.8, 10.7, 12.5, 11.9, 10.8, 10.5, 10.3, 10.3, 10.8, 12.0, 10.2, 10.2, 9.9, 10.1, 9.5, 10.5, 10.4, 9.5, 9.2, 10.1, 9.8, 9.4, 9.4, 10.4, 11.3, 10.8, 11.3, 9.3, 10.3, 10.5, 10.3, 11.2, 10.3, 9.5, 8.9, 10.2, 9.2, 10.3, 10.5, 9.5, 11.4, 11.4, 11.1, 10.5, 12.0, 9.7, 10.2, 9.5, 10.4, 9.3, 10.5, 10.0, 10.2, 10.2, 9.1, 10.2, 10.7, 9.7, 9.3, 11.0, 10.8, 10.7, 10.7, 8.8, 10.9, 10.5, 10.0, 10.4, 9.2, 12.6, 9.0, 9.2, 11.3, 10.3, 10.4, 10.0, 10.7, 9.0, 10.7, 8.7, 11.6, 9.4, 9.5, 9.5, 10.9, 9.7, 9.1, 11.1, 12.6, 11.0, 11.3, 9.7, 10.9, 10.9, 9.3, 12.7, 10.1, 10.0, 9.8, 10.1, 9.0, 9.4, 9.4, 9.2, 10.1, 8.6, 11.2, 11.2, 9.2, 10.6, 9.3, 8.9, 10.6, 10.6, 8.8, 11.0, 10.2, 10.1, 10.1, 14.0, 9.4, 11.8, 11.4, 10.7, 8.6, 11.5, 11.2, 12.6, 12.6, 9.3, 12.6, 12.1, 9.9, 10.7, 10.0, 10.4, 10.5, 9.7, 10.5, 9.0, 9.2, 10.1, 11.4, 10.8, 10.9, 9.2, 12.9, 12.0, 9.5, 11.8, 9.1, 9.7, 9.1, 10.0, 10.4, 9.5, 12.3, 11.7, 9.5, 11.5, 10.6, 10.2, 9.5, 10.5, 10.5, 8.9, 10.6, 9.5, 10.8, 9.5, 8.9, 8.9, 9.4, 10.6, 9.0, 10.5, 9.0, 9.0, 9.4, 9.0, 9.6, 9.0, 10.2, 9.4, 10.4, 10.4, 9.5, 10.6, 11.0, 9.6, 9.9, 9.6, 12.8, 11.4, 10.0, 9.1, 9.4, 10.2, 9.2, 9.4, 9.6, 10.1, 11.4, 10.6, 12.8, 8.9, 9.3, 11.1, 9.9, 9.6, 12.8, 10.7, 9.2, 9.1, 9.6, 9.2, 10.7, 9.1, 9.2, 10.7, 10.8, 10.8, 9.0, 10.7, 10.7, 9.4, 8.8, 9.0, 11.5, 12.5, 10.5, 9.7, 11.3, 10.7, 10.8, 10.6, 11.7, 9.2, 11.1, 11.7, 11.0, 12.5, 10.0, 10.6, 12.3, 12.7, 12.3, 10.5, 12.5, 12.4, 8.7, 12.4, 12.6, 11.0, 10.1, 10.5, 12.7, 10.9, 13.5, 9.7, 9.2, 10.6, 13.3, 13.5, 10.1, 9.4, 10.6, 11.3, 10.8, 10.4, 10.5, 9.3, 9.3, 12.2, 9.2, 10.3, 9.4, 10.2, 9.0, 9.3, 9.2, 9.4, 9.4, 9.5, 9.9, 11.1, 12.3, 8.6, 9.4, 9.4, 8.6, 10.9, 9.4, 10.9, 9.4, 9.2, 8.6, 9.4, 10.8, 10.5, 12.5, 12.1, 8.7, 12.7, 12.1, 12.5, 11.4, 12.9, 12.8, 11.2, 9.7, 9.7, 10.3, 11.6, 11.6, 9.7, 10.9, 12.6, 12.4, 11.5, 10.2, 11.4, 9.6, 10.3, 9.3, 10.7, 12.8, 9.5, 10.4, 10.3, 9.9, 10.7, 10.5, 9.6, 9.3, 10.0, 11.2, 10.8, 10.3, 8.8, 12.8, 13.2, 10.1, 11.0, 10.8, 12.8, 9.2, 10.5, 11.7, 9.5, 9.5, 8.8, 9.3, 12.6, 12.4, 10.1, 11.2, 10.0, 10.0, 10.8, 10.0, 10.4, 10.8, 9.8, 12.2, 12.7, 12.2, 11.9, 11.2, 10.4, 12.8, 12.7, 10.1, 10.0, 9.0, 11.4, 8.9, 9.3, 12.0, 10.8, 10.5, 10.6, 11.3, 9.5, 11.4, 10.1, 10.9, 8.9, 8.9, 9.3, 10.4, 12.0, 9.5, 9.5, 12.4, 11.2, 11.4, 11.4, 11.1, 10.4, 12.0, 12.3, 9.1, 10.5, 11.4, 9.5, 13.7, 13.4, 11.3, 10.0, 10.1, 12.2, 13.4, 9.3, 13.7, 12.3, 11.3, 8.9, 8.9, 11.5, 8.9, 9.3, 11.1, 10.9, 11.6, 10.2, 10.5, 11.4, 8.9, 10.6, 11.6, 11.5, 12.3, 10.8, 11.3, 9.3, 10.0, 11.0, 10.2, 10.8, 10.1, 11.6, 9.1, 10.0, 10.8, 11.4, 12.7, 11.3, 10.4, 9.6, 10.1, 9.6, 12.1, 12.2, 11.3, 9.6, 9.2, 10.4, 9.5, 8.9, 8.8, 10.5, 9.4, 12.2, 11.3, 12.2, 12.2, 11.2, 11.2, 11.5, 11.3, 9.3, 11.3, 11.8, 9.2, 9.2, 12.2, 12.2, 12.2, 10.6, 12.4, 10.8, 11.2, 11.0, 12.7, 10.2, 11.5, 12.3, 9.8, 9.3, 11.8, 11.3, 11.4, 10.8, 9.5, 10.2, 10.7, 10.8, 11.5, 10.7, 10.2, 10.1, 10.4, 9.5, 9.1, 10.6, 9.4, 9.8, 9.5, 9.3, 10.3, 11.1, 10.0, 12.3, 12.4, 12.3, 10.4, 12.1, 12.5, 13.0, 11.0, 10.1, 9.2, 12.6, 12.2, 9.8, 11.0, 10.0, 9.8, 10.5, 10.0, 11.2, 11.0, 11.2, 11.0, 10.5, 10.6, 10.6, 12.0, 10.1, 10.1, 9.2, 11.0, 10.0, 8.7, 8.7, 11.1, 11.0, 11.1, 8.7, 8.7, 11.2, 11.1, 10.8, 9.0, 10.3, 9.9, 10.0, 9.8, 10.8, 9.0, 9.1, 10.6, 10.6, 9.9, 10.6, 9.9, 9.9, 12.8, 10.3, 10.6, 8.7, 12.6, 11.0, 11.2, 10.7, 9.6, 10.6, 9.0, 10.5, 12.8, 10.1, 12.2, 12.8, 10.1, 10.1, 9.2, 9.9, 9.7, 9.9, 9.9, 9.7, 10.3, 10.3, 10.5, 10.5, 9.8, 10.6, 10.1, 9.0, 9.5, 11.5, 11.9, 10.1, 9.2, 8.7, 9.8, 9.2, 8.7, 11.2, 12.3, 10.4, 10.7, 10.5, 9.4, 9.2, 11.9, 9.2, 9.9, 11.4, 9.4, 10.7, 12.7, 13.5, 9.5, 12.9, 12.5, 9.5, 8.6, 10.0, 12.5, 10.1, 11.3, 10.6, 10.8, 10.7, 9.0, 9.2, 8.5, 11.3, 11.3, 9.4, 8.7, 9.4, 10.5, 9.7, 10.2, 9.4, 11.5, 9.6, 11.4, 11.5, 12.2, 11.0, 9.2, 10.2, 10.0, 9.7, 9.2, 10.5, 10.0, 10.1, 9.1, 10.2, 9.1, 10.5, 10.1, 12.1, 10.2, 9.4, 12.8, 9.0, 10.9, 8.8, 9.0, 10.2, 9.2, 11.3, 8.8, 9.3, 9.4, 10.3, 10.8, 8.8, 9.0, 11.5, 10.8, 11.8, 10.5, 9.9, 9.8, 11.4, 9.3, 9.3, 10.3, 8.9, 11.4, 11.1, 10.4, 10.1, 9.0, 11.9, 9.0, 9.0, 9.1, 9.0, 10.0, 9.1, 9.4, 11.4, 9.7, 9.0, 11.8, 10.2, 9.2, 11.0, 10.0, 12.2, 11.8, 11.6, 10.2, 10.3, 8.6, 9.6, 9.6, 11.3, 9.9, 9.6, 10.6, 9.8, 10.5, 10.8, 10.0, 10.1, 9.4, 11.5, 10.8, 9.9, 9.0, 9.4, 10.8, 10.9, 12.0, 11.5, 10.5, 9.3, 11.8, 10.0, 9.4, 11.4, 10.4, 9.5, 11.9, 11.1, 9.6, 12.0, 8.7, 9.6, 10.0, 11.4, 9.6, 12.9, 9.7, 9.3, 9.1, 8.6, 9.9, 9.3, 10.9, 10.2, 9.7, 11.4, 9.5, 10.2, 11.1, 9.7, 9.3, 8.8, 10.6, 9.3, 10.2, 10.2, 11.0, 9.6, 9.3, 8.8, 8.8, 8.9, 10.0, 12.2, 10.9, 9.5, 10.9, 10.9, 10.8, 12.0, 9.8, 9.5, 11.0, 11.0, 9.8, 10.5, 11.4, 10.1, 11.6, 11.4, 11.8, 12.1, 12.0, 12.1, 9.1, 9.3, 10.4, 9.1, 9.4, 9.6, 12.0, 11.3, 8.7, 9.9, 9.3, 9.5, 8.7, 9.9, 9.3, 9.4, 9.4, 8.8, 9.4, 8.8, 9.9, 9.4, 12.6, 11.1, 12.8, 12.0, 12.0, 9.2, 12.3, 13.0, 12.0, 10.9, 12.8, 10.0, 9.0, 10.4, 9.0, 10.0, 10.0, 11.3, 11.3, 12.0, 11.3, 12.0, 10.6, 9.3, 9.4, 11.0, 9.3, 9.4, 10.5, 11.0, 9.5, 11.2, 12.3, 9.0, 9.0, 9.0, 9.0, 11.4, 11.0, 12.3, 10.4, 10.3, 10.5, 9.8, 10.0, 9.7, 9.7, 9.8, 10.5, 10.0, 11.5, 9.5, 10.5, 10.2, 9.8, 11.6, 11.8, 10.1, 10.3, 10.4, 8.9, 8.9, 10.8, 9.2, 9.6, 10.4, 8.7, 9.2, 9.2, 9.2, 9.2, 9.2, 10.2, 9.2, 9.0, 9.7, 9.6, 10.0, 9.2, 9.1, 8.7, 8.7, 9.5, 9.5, 8.9, 8.9, 9.9, 12.6, 9.7, 10.4, 9.1, 10.4, 9.5, 8.9, 10.6, 12.0, 12.5, 9.6, 9.2, 9.9, 11.7, 9.6, 12.0, 12.5, 9.2, 9.9, 8.9, 9.0, 10.2, 9.6, 9.4, 10.4, 10.4, 10.0, 10.0, 10.5, 11.4, 10.2, 10.4, 11.0, 10.1, 9.2, 10.3, 10.2, 10.4, 11.1, 9.9, 9.0, 8.6, 9.0, 8.6, 9.5, 9.0, 10.0, 9.0, 9.0, 10.2, 9.6, 9.7, 10.2, 13.0, 10.8, 9.7, 9.0, 9.9, 9.2, 8.7, 10.1, 10.1, 9.5, 9.9, 8.7, 9.0, 8.6, 10.5, 9.5, 10.1, 11.7, 10.7, 11.7, 9.2, 8.8, 8.8, 9.5, 10.2, 9.1, 10.5, 9.0, 8.9, 8.9, 8.9, 8.9, 8.9, 9.1, 10.1, 10.0, 9.5, 12.3, 9.1, 8.9, 9.6, 11.6, 8.8, 8.9, 8.8, 8.9, 8.9, 9.0, 10.0, 10.0, 11.1, 11.6, 10.6, 8.8, 8.9, 10.1, 10.0, 12.2, 11.0, 10.0, 11.1, 10.4, 11.8, 10.8, 12.5, 11.8, 11.6, 10.4, 11.5, 10.1, 9.2, 10.1, 9.2, 8.9, 10.1, 8.9, 9.7, 9.2, 11.0, 10.7, 10.8, 9.8, 11.0, 10.4, 10.2, 10.7, 9.0, 10.6, 9.5, 9.0, 9.2, 11.0, 9.9, 10.6, 9.3, 9.6, 9.5, 9.7, 9.7, 8.7, 8.7, 12.4, 12.4, 10.6, 8.7, 12.0, 9.0, 8.8, 9.5, 10.8, 11.4, 10.3, 9.5, 9.9, 10.2, 10.2, 11.0, 12.1, 9.1, 9.5, 9.5, 9.8, 9.5, 10.3, 9.6, 10.2, 10.5, 10.4, 9.6, 10.7, 10.5, 10.6, 9.6, 9.6, 9.5, 9.4, 9.8, 9.6, 9.2, 9.5, 9.2, 9.4, 9.4, 9.3, 9.1, 9.5, 9.1, 10.6, 9.5, 12.4, 8.7, 8.8, 10.6, 9.1, 9.0, 10.3, 9.1, 9.5, 8.8, 8.8, 8.8, 9.9, 9.5, 8.8, 11.7, 10.8, 12.0, 10.3, 9.0, 12.2, 9.9, 9.0, 12.2, 10.1, 9.3, 9.5, 9.2, 11.7, 11.0, 9.6, 9.6, 11.9, 10.8, 10.1, 10.9, 10.1, 10.4, 9.2, 9.6, 9.6, 9.0, 11.5, 10.2, 9.9, 9.6, 10.6, 9.2, 11.8, 12.2, 9.6, 10.6, 10.3, 10.2, 10.7, 11.7, 12.0, 10.6, 12.2, 11.0, 12.4, 9.4, 12.0, 11.6, 9.4, 9.4, 9.1, 9.1, 9.1, 9.1, 9.1, 9.2, 9.2, 9.1, 9.1, 9.2, 9.0, 9.2, 10.8, 9.5, 11.0, 10.0, 9.5, 10.1, 9.5, 9.5, 9.5, 9.4, 9.4, 12.7, 9.7, 9.7, 9.4, 9.4, 9.5, 11.7, 11.7, 9.7, 9.5, 9.1, 10.3, 9.7, 9.9, 9.9, 10.2, 12.1, 11.3, 11.4, 12.2, 9.9, 10.3, 12.2, 10.4, 11.4, 9.9, 10.0, 11.5, 10.5, 12.5, 10.5, 9.9, 11.4, 9.8, 11.4, 9.2, 8.9, 8.9, 9.5, 11.5, 9.5, 11.5, 9.5, 9.7, 9.7, 9.5, 9.4, 9.0, 10.6, 9.5, 9.1, 9.4, 8.8, 10.4, 8.9, 10.6, 9.0, 10.6, 10.6, 9.0, 8.8, 10.5, 9.5, 9.0, 10.4, 10.0, 10.4, 9.0, 9.3, 9.0, 9.3, 9.0, 11.5, 9.0, 10.4, 9.0, 10.6, 10.4, 8.5, 9.3, 10.5, 9.9, 10.4, 10.1, 10.5, 9.2, 9.4, 10.6, 9.4, 8.7, 10.2, 10.3, 9.5, 9.5, 9.5, 9.5, 9.4, 9.4, 9.5, 12.6, 10.5, 10.8, 9.9, 12.6, 12.2, 10.0, 10.6, 9.5, 12.8, 12.2, 12.6, 9.4, 9.0, 9.1, 9.4, 12.2, 10.0, 9.2, 9.3, 9.8, 9.2, 12.0, 9.3, 12.6, 12.2, 11.0, 12.0, 8.8, 8.9, 12.7, 11.8, 10.2, 9.9, 11.1, 9.4, 9.7, 9.7, 9.7, 9.7, 9.8, 9.3, 10.5, 9.3, 12.6, 8.9, 10.3, 10.6, 9.0, 9.7, 9.5, 10.3, 9.7, 12.3, 10.5, 9.5, 10.0, 8.8, 10.9, 12.2, 9.5, 10.0, 9.6, 8.7, 10.7, 11.1, 12.5, 10.4, 11.5, 9.4, 9.3, 10.1, 9.7, 10.5, 9.7, 9.2, 9.8, 9.0, 9.1, 10.4, 10.7, 10.5, 9.2, 11.5, 10.4, 12.0, 12.2, 12.0, 9.8, 9.3, 9.6, 9.5, 10.2, 10.4, 11.0, 10.4, 8.7, 9.9, 9.9, 11.3, 12.0, 10.7, 10.1, 9.6, 9.6, 8.7, 10.3, 9.1, 11.8, 11.9, 10.3, 10.0, 10.2, 10.0, 12.7, 9.6, 9.5, 12.7, 11.0, 9.1, 10.2, 10.1, 9.2, 9.4, 10.2, 9.2, 10.0, 10.1, 9.0, 9.5, 9.1, 13.3, 9.5, 9.2, 10.1, 9.2, 10.1, 11.2, 9.8, 11.2, 9.8, 9.4, 9.0, 9.4, 8.9, 9.1, 9.8, 9.4, 10.0, 9.4, 9.9, 10.0, 11.5, 9.2, 10.0, 9.2, 10.0, 10.0, 9.8, 10.5, 10.6, 9.4, 9.4, 11.0, 10.8, 9.0, 9.6, 10.6, 10.6, 9.6, 9.2, 9.2, 9.5, 9.5, 10.3, 8.8, 8.7, 8.7, 10.2, 10.1, 9.5, 9.5, 11.6, 10.7, 10.1, 11.1, 9.8, 9.0, 11.1, 9.5, 9.4, 10.2, 9.8, 9.5, 9.5, 9.0, 10.1, 8.8, 11.9, 11.9, 9.3, 10.0, 9.5, 9.3, 9.7, 9.7, 10.2, 10.8, 8.8, 8.8, 11.4, 8.8, 9.8, 9.4, 9.4, 9.4, 9.4, 9.7, 12.3, 9.8, 9.0, 9.2, 9.4, 9.9, 9.8, 12.3, 11.9, 10.2, 9.5, 11.9, 9.2, 9.7, 11.5, 10.4, 11.6, 9.7, 10.4, 11.5, 10.2, 9.8, 9.0, 10.5, 9.4, 9.4, 10.8, 10.7, 10.6, 9.2, 9.5, 9.5, 10.0, 10.6, 10.6, 10.6, 9.2, 11.0, 11.2, 9.6, 9.4, 9.5, 9.3, 9.4, 9.5, 9.4, 11.2, 11.2, 11.2, 8.8, 11.2, 11.2, 9.4, 11.1, 9.6, 11.1, 9.4, 10.6, 8.9, 12.3, 11.4, 9.6, 10.3, 11.4, 12.1, 9.9, 9.7, 10.5, 8.9, 9.4, 9.6, 12.6, 9.2, 10.4, 9.0, 9.0, 9.0, 9.0, 9.0, 9.0, 9.2, 9.0, 9.7, 10.1, 11.0, 10.8, 10.8, 13.5, 10.6, 9.8, 11.7, 9.8, 9.0, 11.3, 9.4, 11.7, 11.3, 11.3, 12.0, 10.6, 10.8, 10.8, 12.0, 9.4, 9.4, 11.3, 9.4, 12.0, 10.3, 10.3, 10.3, 11.3, 9.4, 8.7, 9.4, 11.3, 10.3, 12.0, 8.0, 10.4, 10.7, 10.2, 10.9, 10.5, 11.7, 8.6, 9.0, 8.7, 12.8, 9.0, 8.7, 11.8, 11.6, 11.8, 10.6, 9.7, 10.3, 10.2, 10.1, 10.9, 9.3, 10.2, 10.2, 9.5, 9.3, 12.9, 8.7, 9.4, 10.1, 10.0, 11.1, 10.3, 12.2, 9.3, 11.3, 10.8, 11.2, 12.5, 9.3, 12.9, 11.2, 12.6, 9.3, 12.9, 12.9, 9.5, 11.9, 10.3, 10.3, 11.2, 12.0, 9.6, 9.2, 12.9, 9.3, 12.1, 9.6, 11.2, 11.2, 12.9, 9.2, 9.3, 9.2, 9.3, 10.7, 9.8, 10.3, 10.7, 11.3, 8.8, 10.8, 9.8, 9.3, 11.5, 8.8, 8.8, 8.8, 9.4, 9.4, 9.6, 8.8, 9.3, 8.9, 8.9, 10.0, 9.1, 9.3, 9.4, 10.1, 8.9, 10.8, 10.0, 10.9, 12.0, 9.3, 12.3, 10.4, 10.9, 10.5, 9.8, 10.5, 9.9, 11.4, 9.2, 9.7, 10.0, 11.4, 10.3, 9.9, 10.5, 9.8, 9.3, 12.4, 9.3, 9.3, 9.5, 10.5, 10.5, 12.8, 10.8, 10.0, 11.8, 10.0, 11.8, 12.0, 12.6, 11.9, 10.6, 9.2, 10.0, 9.2, 9.3, 10.2, 10.2, 8.7, 10.7, 12.1, 9.5, 11.2, 12.0, 9.5, 12.1, 10.7, 8.8, 10.8, 13.1, 12.5, 11.7, 11.7, 11.6, 11.3, 12.5, 11.4, 12.2, 11.7, 10.4, 10.4, 10.4, 9.1, 12.2, 9.1, 9.4, 9.4, 10.4, 9.2, 9.4, 13.5, 9.4, 10.9, 13.5, 9.4, 11.4, 12.4, 9.2, 9.4, 10.5, 11.5, 10.9, 10.8, 8.9, 8.9, 9.4, 12.2, 12.1, 10.9, 10.1, 12.2, 13.0, 11.0, 10.8, 13.0, 9.3, 11.4, 9.2, 9.9, 10.5, 12.4, 9.5, 10.5, 9.1, 11.5, 11.5, 11.2, 10.8, 9.4, 11.0, 11.3, 11.2, 10.5, 9.1, 10.4, 11.2, 11.1, 11.2, 10.5, 10.0, 10.0, 10.9, 10.9, 11.2, 11.7, 10.0, 9.5, 9.0, 10.0, 11.9, 10.6, 11.0, 11.2, 12.0, 12.6, 11.2, 10.5, 10.2, 11.0, 12.2, 12.3, 10.6, 10.4, 12.0, 12.7, 10.6, 12.3, 12.7, 11.4, 12.0, 12.4, 12.1, 11.4, 10.7, 9.3, 12.7, 11.7, 10.7, 11.8, 9.9, 13.4, 12.8, 12.8, 10.5, 11.5, 10.5, 13.0, 12.4, 10.2, 9.0, 12.0, 11.7, 10.0, 10.3, 9.0, 11.1, 9.0, 10.5, 11.9, 9.4, 11.4, 10.8, 9.8, 9.3, 11.4, 11.3, 11.3, 9.5, 9.4, 11.9, 9.3, 11.4, 11.4, 12.7, 13.5, 11.2, 10.7, 10.8, 10.5, 13.0, 10.8, 9.1, 10.1, 11.9, 12.0, 12.0, 9.1, 11.6, 11.9, 10.2, 10.8, 9.8, 11.4, 9.8, 10.1, 9.8, 9.8, 10.7, 10.6, 9.3, 9.8, 10.7, 14.0, 11.0, 11.0, 9.4, 9.0, 9.0, 10.0, 9.0, 9.0, 12.4, 11.3, 12.0, 11.7, 10.0, 13.2, 11.0, 11.0, 9.2, 13.0, 10.6, 13.0, 9.0, 9.0, 11.5, 11.0, 11.5, 9.9, 10.4, 9.0, 9.9, 11.0, 12.1, 9.7, 9.7, 12.2, 12.4, 10.5, 10.4, 12.0, 12.7, 10.9, 10.9, 10.9, 11.4, 11.0, 12.6, 11.6, 10.5, 10.9, 10.9, 12.5, 12.1, 11.3, 13.3, 10.9, 10.9, 10.5, 11.6, 11.4, 11.0, 12.1, 11.0, 12.6, 13.0, 8.8, 9.5, 11.8, 12.2, 10.7, 11.0, 11.4, 10.7, 12.0, 11.9, 11.4, 11.8, 10.6, 9.7, 11.0, 10.7, 11.0, 10.5, 10.4, 10.5, 12.0, 12.0, 9.2, 10.9, 9.5, 9.4, 11.3, 10.4, 9.4, 11.3, 8.8, 10.8, 9.4, 9.4, 9.2, 10.3, 9.9, 12.4, 11.9, 11.7, 9.4, 9.6, 9.4, 10.4, 9.5, 11.9, 12.5, 13.4, 12.7, 9.1, 10.5, 10.4, 10.4, 12.5, 10.4, 9.0, 9.8, 9.0, 10.7, 12.4, 12.5, 12.5, 12.1, 11.3, 12.0, 10.4, 12.2, 8.6, 9.1, 12.1, 12.0, 10.5, 10.4, 11.9, 13.7, 11.3, 10.5, 13.7, 10.1, 12.3, 12.0, 11.3, 9.5, 11.4, 11.9, 10.0, 10.0, 11.3, 11.7, 11.0, 12.2, 10.7, 10.9, 10.2, 11.9, 11.1, 11.2, 11.4, 10.6, 10.3, 10.4, 11.9, 11.9, 10.4, 9.2, 11.3, 11.3, 11.0, 11.9, 12.9, 10.8, 9.1, 10.4, 12.9, 12.2, 9.2, 10.3, 11.0, 11.0, 11.7, 12.0, 12.7, 8.8, 11.3, 12.8, 11.2, 8.9, 11.2, 11.1, 10.8, 9.3, 8.9, 12.7, 12.0, 11.2, 8.8, 8.8, 8.8, 10.4, 8.8, 10.4, 14.0, 8.8, 13.1, 12.3, 12.6, 12.0, 9.5, 12.0, 12.7, 10.5, 12.9, 9.5, 12.0, 12.7, 11.9, 12.0, 12.5, 12.1, 12.5, 9.9, 10.7, 12.0, 12.2, 12.4, 12.4, 10.3, 12.0, 10.5, 9.5, 10.5, 12.3, 11.9, 9.8, 12.3, 11.4, 11.0, 10.8, 12.8, 11.0, 10.2, 12.5, 11.6, 11.9, 9.8, 11.0, 10.9, 11.0, 12.5, 11.0, 12.0, 12.4, 12.5, 12.8, 11.0, 9.1, 12.4, 12.9, 10.9, 10.8, 10.6, 9.0, 12.0, 11.8, 10.6, 12.3, 11.5, 11.1, 9.0, 9.9, 12.8, 12.9, 12.9, 12.0, 12.0, 11.2, 13.3, 9.9, 9.5, 9.4, 11.0, 9.4, 11.5, 12.5, 11.9, 10.4, 11.2, 12.5, 11.0, 9.8, 12.3, 11.0, 12.6, 11.6, 12.3, 13.4, 9.8, 11.5, 11.6, 11.1, 11.0, 11.3, 9.9, 12.6, 11.8, 11.4, 9.2, 9.2, 9.2, 9.2, 9.2, 9.2, 13.0, 9.3, 12.6, 9.6, 8.0, 11.8, 10.2, 12.7, 9.4, 10.2, 12.0, 11.3, 11.8, 10.9, 9.8, 12.2, 11.1, 9.4, 11.4, 10.2, 12.8, 10.1, 9.4, 12.2, 10.9, 10.9, 10.9, 9.4, 9.4, 11.4, 12.9, 9.4, 12.0, 10.1, 9.4, 9.4, 9.2, 11.8, 12.3, 11.4, 12.9, 12.3, 13.5, 12.8, 12.8, 12.8, 11.0, 10.6, 12.4, 12.9, 11.1, 12.9, 11.8, 9.1, 12.7, 12.0, 11.2, 12.4, 10.4, 10.4, 12.7, 12.5, 12.0, 11.6, 12.6, 10.2, 10.4, 11.5, 11.0, 10.1, 10.5, 12.1, 9.9, 11.4, 9.5, 9.5, 9.5, 10.9, 9.5, 12.6, 9.5, 11.1, 9.5, 9.5, 10.6, 10.6, 10.8, 10.9, 9.9, 11.3, 12.6, 12.5, 12.4, 11.8, 12.2, 10.7, 11.3, 12.5, 12.4, 11.3, 9.9, 11.3, 12.6, 11.5, 12.3, 12.2, 13.2, 10.2, 11.5, 13.2, 12.2, 11.0, 13.2, 9.5, 10.2, 10.2, 11.4, 12.5, 9.2, 12.1, 10.7, 12.1, 11.2, 10.6, 11.8, 12.5, 9.2, 12.6, 12.8, 12.3, 12.3, 12.4, 12.3, 9.1, 9.1, 10.6, 10.3, 9.5, 11.1, 10.8, 11.2, 10.8, 11.4, 11.2, 10.2, 11.1, 9.5, 10.2, 11.0, 11.5, 9.8, 10.1, 8.8, 11.5, 12.7, 9.8, 12.9, 9.8, 12.7, 8.5, 12.7, 13.1, 9.1, 12.5, 9.1, 9.1, 11.2, 12.5, 9.1, 9.1, 9.1, 11.5, 12.9, 12.5, 12.3, 11.4, 9.4, 9.1, 9.4, 12.0, 11.1, 11.8, 11.4, 9.1, 12.1, 10.4, 9.2, 13.0, 12.1, 11.5, 11.5, 10.0, 11.1, 12.4, 12.2, 10.6, 11.1, 13.9, 9.2, 10.5, 11.3, 12.9, 12.9, 9.6, 12.9, 12.9, 8.8, 13.2, 9.2, 11.3, 10.5, 10.5, 12.6, 9.5, 9.8, 13.4, 11.8, 9.8, 13.1, 12.6, 10.4, 13.4, 13.0, 13.4, 10.2, 11.7, 9.5, 11.7, 11.4, 11.8, 11.2, 13.0, 13.0, 10.9, 11.6, 11.3, 12.0, 10.5, 13.1, 13.0, 10.9, 9.1, 13.4, 11.5, 11.2, 10.9, 13.5, 9.1, 9.9, 10.5, 11.7, 11.0, 13.0, 13.6, 12.3, 13.3, 13.7, 11.1, 13.4, 9.1, 11.3, 9.4, 9.1, 11.6, 11.6, 12.4, 9.8, 11.1, 13.1, 9.7, 9.2, 11.7, 10.6, 9.7, 9.2, 10.9, 10.1, 12.2, 12.7, 13.0, 11.2, 9.4, 11.0, 11.0, 9.2, 9.4, 9.2, 12.3, 11.0, 10.0, 9.0, 9.0, 9.0, 11.1, 9.9, 12.2, 11.1, 9.0, 11.8, 12.9, 9.0, 12.4, 9.0, 12.9, 11.2, 12.6, 11.5, 11.3, 11.2, 11.5, 10.5, 12.6, 11.9, 10.1, 11.0, 10.6, 11.3, 11.2, 11.5, 11.1, 12.8, 12.3, 10.4, 11.5, 11.7, 10.7, 9.5, 9.5, 9.5, 12.0, 10.8, 10.7, 10.7, 10.7, 12.1, 11.9, 10.8, 12.3, 9.4, 9.9, 10.4, 10.4, 12.6, 12.5, 9.4, 9.2, 11.2, 9.2, 9.2, 9.4, 11.2, 10.8, 9.2, 9.2, 12.5, 9.3, 11.4, 10.0, 10.6, 10.7, 10.0, 12.5, 10.6, 12.8, 9.3, 11.4, 9.5, 9.5, 9.5, 10.8, 10.8, 8.8, 10.8, 11.0, 12.4, 11.3, 11.2, 12.5, 10.0, 11.0, 10.5, 10.5, 11.0, 11.4, 11.3, 12.2, 12.6, 11.1, 12.3, 10.4, 8.8, 9.5, 8.8, 10.4, 13.0, 12.2, 10.5, 10.8, 13.2, 13.0, 10.0, 10.4, 12.4, 12.9, 13.2, 10.5, 13.0, 11.2, 12.7, 9.4, 12.9, 13.0, 13.6, 9.1, 10.4, 13.6, 12.2, 8.7, 10.5, 10.2, 12.5, 11.3, 10.2, 12.6, 10.2, 9.8, 10.8, 12.5, 12.5, 11.5, 11.4, 10.5, 12.6, 8.7, 11.0, 11.3, 10.2, 11.6, 9.8, 10.1, 9.2, 9.1, 9.1, 9.1, 9.1, 11.7, 12.6, 9.0, 10.1, 13.6, 9.1, 9.2, 8.8, 10.0, 9.1, 11.2, 9.2, 9.2, 9.5, 11.9, 9.8, 9.8, 10.8, 11.3, 12.1, 11.3, 10.8, 13.5, 10.3, 9.0, 11.6, 10.3, 12.5, 8.6, 13.4, 12.7, 9.2, 10.2, 9.0, 9.0, 9.0, 9.0, 9.0, 9.0, 9.0, 11.9, 9.0, 9.0, 11.0, 9.0, 10.0, 10.7, 10.7, 13.4, 11.0, 10.0, 10.7, 10.7, 11.0, 11.0, 11.1, 10.9, 11.5, 13.4, 9.4, 9.4, 9.4, 10.6, 9.4, 12.0, 10.2, 10.6, 13.5, 9.7, 12.2, 12.3, 12.2, 11.4, 12.7, 9.7, 10.8, 11.0, 9.5, 10.1, 13.2, 8.8, 9.5, 9.5, 9.5, 9.5, 9.5, 10.4, 9.9, 10.0, 10.1, 9.4, 9.3, 10.9, 11.4, 10.3, 11.0, 10.9, 10.8, 10.3, 11.0, 9.3, 10.2, 10.2, 10.8, 10.5, 11.1, 10.9, 11.4, 10.3, 12.9, 9.9, 11.3, 11.5, 11.5, 10.7, 10.4, 12.5, 9.5, 11.3, 13.0, 11.5, 11.5, 11.3, 13.2, 11.5, 9.6, 9.6, 9.7, 9.2, 8.4, 12.4, 12.4, 9.2, 8.4, 11.7, 11.0, 11.9, 13.2, 11.7, 9.1, 12.6, 9.1, 10.5, 10.6, 12.6, 13.7, 12.0, 12.5, 12.1, 11.3, 12.0, 10.3, 12.7, 9.2, 9.2, 9.5, 10.1, 10.1, 13.0, 13.1, 11.0, 9.2, 9.4, 9.5, 10.2, 10.1, 8.6, 9.0, 9.6, 9.9, 10.5, 11.4, 9.4, 11.1, 8.9, 8.9, 10.8, 12.2, 8.9, 12.5, 12.2, 12.5, 8.9, 10.8, 11.4, 10.8, 10.6, 9.2, 12.2, 12.3, 10.4, 10.4, 11.0, 10.6, 9.2, 13.5, 11.4, 11.5, 14.0, 12.5, 12.5, 12.8, 11.2, 11.2, 13.6, 9.2, 12.5, 11.1, 11.2, 14.0, 13.6, 9.4, 14.2, 13.2, 11.2, 10.2, 12.8, 10.1, 10.1, 10.3, 9.9, 11.5, 9.0, 9.0, 12.1, 13.3, 11.5, 11.0, 10.7, 9.4, 10.3, 9.3, 12.0, 11.0, 9.3, 10.1, 11.1, 9.9, 11.0, 11.0, 12.5, 12.7, 9.3, 9.3, 10.1, 8.8, 11.2, 10.8, 8.8, 11.2, 10.3, 12.0, 9.5, 9.5, 9.8, 9.0, 13.0, 11.8, 8.8, 11.2, 9.5, 9.4, 9.5, 10.4, 9.8, 10.4, 10.3, 9.4, 9.5, 11.9, 12.8, 13.0, 10.4, 10.4, 10.7, 10.7, 11.9, 10.4, 12.8, 9.9, 9.9, 9.4, 11.4, 9.9, 9.4, 9.2, 10.5, 11.0, 11.0, 12.1, 11.0, 12.8, 10.5, 10.5, 10.5, 9.5, 9.2, 11.1, 12.3, 11.1, 12.6, 9.5, 9.2, 10.8, 11.3, 12.8, 10.5, 9.8, 8.5, 9.3, 9.2, 11.4, 8.5, 9.3, 8.4, 9.2, 9.2, 10.4, 11.6, 12.4, 10.4, 9.3, 12.2, 11.0, 11.4, 9.5, 9.2, 11.1, 9.2, 11.0, 9.9, 9.9, 9.5, 12.4, 9.4, 9.3, 8.7, 8.7, 8.7, 8.7, 9.0, 10.7, 10.7, 11.3, 8.7, 11.7, 9.3, 8.7, 9.0, 11.7, 10.7, 11.4, 10.7, 11.3, 10.0, 10.0, 11.2, 9.7, 12.5, 12.9, 11.8, 10.6, 11.8, 10.7, 9.9, 12.0, 10.4, 8.5, 9.9, 9.4, 10.4, 11.0, 11.0, 10.4, 9.8, 9.4, 10.6, 10.1, 11.5, 11.4, 9.2, 9.7, 11.3, 9.6, 8.9, 10.0, 9.2, 9.0, 12.8, 9.0, 9.5, 10.0, 11.0, 9.2, 10.6, 10.0, 10.0, 11.7, 12.5, 11.1, 9.7, 12.3, 12.2, 11.3, 11.6, 11.3, 11.1, 11.2, 11.3, 12.0, 8.8, 8.8, 12.0, 12.0, 9.0, 9.3, 8.7, 12.8, 11.5, 10.0, 10.0, 10.3, 10.4, 13.4, 11.2, 9.1, 9.1, 10.8, 12.5, 11.3, 12.8, 9.1, 12.7, 11.0, 10.4, 10.4, 10.7, 10.9, 10.4, 10.4, 9.7, 11.0, 9.6, 13.9, 9.4, 12.5, 9.6, 9.5, 9.6, 9.5, 9.6, 8.7, 8.7, 8.7, 8.7, 8.7, 8.7, 10.4, 10.7, 12.0, 12.1, 13.1, 12.4, 12.6, 8.7, 12.0, 11.6, 9.3, 9.3, 11.1, 10.2, 10.6, 11.3, 9.4, 9.3, 11.1, 9.9, 11.8, 12.6, 9.4, 10.5, 12.3, 11.3, 9.6, 12.0, 11.2, 10.2, 12.4, 10.2, 13.4, 12.6, 9.8, 9.1, 12.4, 12.5, 11.7, 12.9, 10.1, 10.3, 11.7, 10.3, 10.8, 11.2, 11.8, 9.8, 10.0, 8.8, 10.1, 9.5, 9.5, 9.5, 9.2, 12.2, 9.5, 11.3, 12.1, 9.2, 11.2, 12.5, 10.6, 10.4, 10.1, 9.9, 11.0, 10.0, 12.7, 12.1, 10.4, 10.4, 9.2, 9.2, 10.5, 9.2, 11.9, 10.1, 11.1, 10.8, 11.8, 9.2, 9.2, 12.3, 10.1, 11.4, 10.4, 9.8, 9.9, 9.8, 11.2, 10.9, 9.2, 9.2, 12.0, 12.1, 12.4, 11.2, 12.7, 12.2, 12.2, 12.2, 11.2, 12.7, 12.7, 12.1, 9.4, 10.1, 9.4, 8.9, 8.9, 8.9, 8.9, 13.0, 10.3, 10.1, 10.5, 8.9, 10.1, 10.1, 11.0, 11.0, 11.0, 11.0, 10.0, 10.5, 9.7, 10.1, 9.4, 11.2, 9.4, 10.8, 9.4, 11.2, 11.0, 12.4, 9.4, 9.4, 9.5, 10.0, 12.5, 10.9, 10.5, 10.8, 11.0, 11.8, 12.6, 10.2, 12.0, 12.5, 11.5, 11.94, 12.89333333, 9.4, 12.2, 11.94, 12.89333333, 9.5, 10.6, 10.5, 11.46666667, 11.4, 9.5, 9.2, 9.5, 10.98, 9.4, 9.5, 9.2, 8.8, 8.8, 8.8, 8.8, 8.8, 8.8, 8.8, 10.4, 8.8, 10.03333333, 11.3, 10.4, 9.2, 11.1, 9.2, 11.3, 9.1, 9.4, 13.2, 12.7, 10.7, 11.43333333, 11.1, 12.7, 10.53333333, 11.6, 9.533333333, 9.8, 10.7, 12.0, 12.8, 9.5, 10.93333333, 9.1, 12.6, 9.5, 10.9, 10.93333333, 9.6, 9.3, 11.36666667, 12.5, 9.5, 11.0, 9.4, 11.33333333, 8.8, 9.4, 11.06666667, 12.2, 11.0, 11.33333333, 9.5, 9.5, 11.0, 11.2, 9.3, 10.8, 9.2, 9.4, 9.2, 10.5, 10.8, 9.4, 9.8, 9.8, 9.8, 9.4, 9.8, 12.1, 12.3, 9.733333333, 9.4, 9.4, 12.8, 11.05, 9.4, 12.8, 9.733333333, 13.1, 11.5, 13.1, 11.5, 9.1, 9.75, 10.5, 8.8, 8.8, 8.8, 8.8, 10.5, 10.5, 8.8, 9.9, 9.9, 9.9, 12.2, 10.8, 8.7, 13.2, 12.7, 9.4, 11.2, 11.33333333, 11.9, 11.35, 10.5, 9.8, 9.1, 12.4, 9.1, 9.8, 11.3, 11.3, 13.1, 12.5, 10.3, 10.7, 10.4, 9.5, 9.8, 12.5, 9.4, 9.0, 9.0, 9.0, 13.0, 9.9, 9.4, 10.6, 13.4, 12.5, 9.3, 9.3, 11.0, 10.3, 11.3, 10.9, 11.3, 12.1, 11.1, 9.8, 10.1, 12.4, 12.7, 9.6, 9.6, 9.1, 12.8, 9.6, 12.4, 9.55, 9.1, 12.5, 9.9, 11.2, 13.0, 13.0, 11.7, 13.1, 12.0, 10.55, 11.45, 10.2, 11.45, 9.3, 10.8, 12.2, 11.0, 10.4, 11.4, 14.05, 10.7, 10.2, 11.2, 12.33333333, 11.5, 9.5, 13.4, 12.5, 12.5, 11.2, 8.8, 11.2, 12.7, 9.8, 9.8, 11.7, 9.8, 9.6, 9.8, 9.7, 10.0, 11.7, 12.3, 9.8, 9.0, 9.1, 9.1, 9.1, 11.4, 10.5, 12.4, 9.1, 9.1, 10.1, 10.9, 11.05, 12.75, 12.7, 11.1, 11.1, 12.75, 13.0, 12.0, 11.5, 10.5, 11.1, 11.1, 11.1, 13.1, 12.75, 12.7, 9.6, 11.7, 9.7, 10.9, 10.7, 13.8, 12.15, 10.8, 10.7, 10.8, 10.8, 12.0, 10.8, 12.2, 9.4, 11.4, 12.5, 13.05, 12.4, 12.9, 12.0, 11.3, 10.0, 11.8, 9.4, 8.8, 11.1, 10.5, 9.3, 11.4, 11.8, 12.4, 11.6, 11.1, 12.4, 11.1, 11.0, 12.2, 11.0, 12.9, 10.9, 13.4, 10.7, 11.0, 11.4, 10.2, 11.0, 9.1, 11.0, 11.5, 12.0, 11.2, 11.2, 12.6, 11.0, 10.8, 10.9, 9.8, 9.8, 9.5, 11.26666667, 10.8, 13.4, 11.3, 8.9, 11.2, 11.5, 13.0, 12.6, 13.1, 11.2, 11.7, 10.9, 10.9, 11.6, 10.4, 10.9, 11.7, 10.8, 11.2, 10.0, 10.56666667, 11.73333333, 10.6, 10.5, 11.75, 11.4, 12.4, 10.1, 12.3, 13.1, 10.65, 11.4, 9.3, 10.2, 10.2, 13.1, 9.6, 12.8, 10.96666667, 10.96666667, 10.96666667, 11.0, 13.4, 11.2, 12.4, 11.2, 12.4, 10.13333333, 10.13333333, 12.4, 9.1, 10.15, 10.15, 11.5, 8.9, 10.46666667, 10.46666667, 11.8, 11.63333333, 10.6, 9.6, 11.8, 8.9, 10.5, 10.2, 13.1, 11.8, 12.2, 11.45, 10.5, 10.2, 9.0, 9.0, 9.0, 9.0, 9.1, 8.8, 9.0, 9.1, 12.9, 13.0, 12.9, 9.2, 9.8, 9.8, 10.1, 10.1, 10.9, 9.6, 10.4, 11.8, 10.8, 10.6, 12.7, 12.2, 10.8, 10.4, 11.1, 11.8, 10.0, 10.8, 10.3, 9.9, 10.0, 12.25, 10.2, 9.4, 9.7, 10.2, 10.4, 12.2, 9.4, 10.6, 10.7, 11.85, 11.7, 11.7, 10.15, 11.63333333, 10.8, 10.8, 12.3, 12.5, 11.65, 9.6, 10.9, 10.8, 11.2, 10.0, 10.5, 9.1, 10.5, 9.3, 9.3, 11.2, 10.6, 12.1, 12.0, 9.7, 12.4, 13.6, 13.6, 11.8, 10.0, 10.0, 9.1, 11.9, 11.75, 11.4, 13.0, 12.4, 9.4, 9.6, 9.6, 9.6, 9.6, 9.1, 12.0, 11.2, 10.1, 10.3, 12.3, 10.55, 10.9, 9.7, 9.8, 8.9, 8.9, 10.2, 11.7, 12.8, 12.8, 10.2, 13.55, 11.6, 8.9, 13.8, 9.4, 9.4, 10.7, 10.7, 12.3, 10.3, 10.4, 11.6, 10.7, 12.8, 11.9, 12.1, 9.2, 9.5, 11.0, 10.9, 10.4, 9.1, 11.4, 11.4, 9.7, 12.4, 13.7, 10.6, 11.2, 13.13333333, 12.4, 9.7, 11.0, 11.3, 12.0, 9.2, 10.7, 10.7, 11.4, 9.2, 12.1, 11.1, 9.7, 10.7, 10.9, 12.0, 10.6, 9.6, 13.1, 11.0, 11.6, 11.95, 11.1, 11.5, 11.3, 11.9, 9.5, 12.2, 12.2, 11.1, 9.6, 11.1, 9.6, 11.4, 11.4, 12.06666667, 9.0, 9.0, 11.4, 9.6, 11.0, 11.0, 11.2, 11.55, 13.3, 9.633333333, 13.6, 11.2, 13.0, 10.8, 9.8, 11.45, 12.05, 9.7, 11.9, 10.0, 9.7, 11.6, 8.8, 9.5, 9.533333333, 9.533333333, 9.4, 10.7, 11.5, 9.6, 9.55, 12.15, 13.0, 9.2, 9.4, 11.8, 10.6, 9.7, 11.2, 9.6, 9.4, 12.8, 11.8, 9.4, 9.8, 9.8, 9.8, 9.4, 9.4, 9.4, 10.0, 9.5, 10.5, 9.2, 10.5, 9.9, 9.1, 9.2, 9.2, 10.5, 9.3, 9.0, 9.2, 9.4, 9.7, 9.5, 9.4, 9.7, 9.3, 9.5, 9.5, 9.4, 9.8, 10.1, 10.6, 9.8, 9.4, 9.2, 9.6, 10.8, 9.7, 9.8, 10.5, 10.5, 9.3, 10.5, 10.3, 9.5, 13.1, 9.2, 9.5, 9.2, 9.2, 9.2, 9.4, 9.4, 9.4, 10.2, 9.5, 9.6, 9.4, 10.0, 9.4, 9.2, 9.3, 9.5, 9.8, 10.9, 10.9, 9.6, 10.7, 10.7, 10.5, 9.5, 9.5, 9.5, 9.2, 9.6, 10.5, 10.5, 10.7, 10.1, 9.1, 9.2, 9.4, 9.1, 9.4, 10.3, 10.1, 9.9, 9.6, 9.5, 9.0, 9.5, 9.9, 9.8, 9.6, 10.5, 12.9, 10.7, 9.2, 9.8, 9.0, 10.2, 10.4, 9.0, 9.2, 9.4, 9.2, 9.3, 9.3, 9.6, 9.3, 9.5, 9.8, 9.8, 9.7, 9.5, 10.5, 10.0, 9.4, 10.9, 9.2, 9.0, 10.9, 9.2, 9.5, 9.5, 9.4, 10.9, 10.9, 10.5, 9.4, 9.4, 13.0, 13.0, 9.8, 9.9, 9.6, 9.5, 9.2, 9.5, 9.5, 9.6, 9.5, 14.0, 9.4, 14.0, 9.4, 10.0, 9.3, 10.2, 10.5, 10.3, 9.4, 10.1, 10.1, 10.5, 10.5, 10.5, 10.5, 9.3, 9.3, 9.6, 9.2, 10.0, 9.4, 9.4, 9.5, 10.2, 9.0, 10.4, 9.5, 9.1, 9.2, 9.2, 11.5, 9.5, 9.5, 9.5, 10.5, 9.6, 9.5, 9.5, 9.3, 9.3, 9.3, 9.3, 9.7, 9.2, 9.7, 9.5, 9.5, 9.4, 9.8, 9.5, 9.7, 9.7, 9.4, 10.2, 10.1, 13.0, 11.4, 10.3, 9.3, 9.5, 9.2, 9.2, 10.8, 10.8, 9.3, 9.4, 10.5, 12.4, 10.0, 10.2, 10.1, 9.8, 10.5, 11.0, 9.1, 9.7, 9.5, 9.4, 9.4, 9.5, 10.0, 10.4, 10.5, 9.5, 9.8, 10.5, 11.0, 12.2, 9.9, 9.6, 11.0, 9.0, 9.0, 9.0, 9.2, 9.0, 9.0, 9.3, 10.9, 9.8, 9.2, 9.2, 9.9, 9.5, 9.3, 9.8, 9.9, 10.0, 9.9, 10.5, 9.5, 9.9, 9.3, 9.2, 9.2, 9.4, 10.5, 9.3, 9.4, 10.0, 9.3, 10.9, 10.2, 9.8, 12.8, 9.4, 10.1, 10.7, 10.1, 10.1, 9.4, 9.4, 10.7, 9.4, 10.1, 12.6, 10.5, 9.3, 9.9, 9.1, 10.5, 9.8, 9.8, 10.3, 10.3, 10.6, 9.2, 10.6, 10.5, 10.3, 10.1, 9.5, 9.5, 9.9, 9.6, 9.7, 9.6, 10.7, 10.1, 10.0, 9.5, 9.2, 9.3, 9.4, 9.5, 9.5, 9.5, 9.3, 9.4, 9.5, 9.4, 11.0, 11.0, 10.1, 10.4, 11.5, 10.4, 11.5, 9.7, 9.3, 9.5, 9.2, 9.2, 11.5, 11.5, 9.7, 9.5, 12.5, 12.5, 9.4, 11.0, 11.7, 12.2, 12.5, 10.3, 11.5, 9.8, 9.2, 11.3, 9.8, 9.8, 10.7, 9.9, 12.3, 12.0, 10.0, 9.4, 9.9, 9.4, 9.3, 13.0, 11.9, 12.8, 11.0, 11.7, 10.4, 9.8, 9.4, 9.9, 10.0, 10.2, 10.0, 11.8, 10.0, 9.0, 9.4, 12.0, 9.9, 8.7, 10.6, 9.2, 10.8, 11.8, 11.0, 12.0, 13.3, 10.8, 9.4, 10.0, 9.4, 9.4, 9.2, 9.7, 9.2, 9.6, 9.2, 10.0, 12.9, 10.0, 9.5, 9.1, 9.9, 13.0, 9.9, 11.0, 11.0, 9.4, 9.9, 10.8, 10.5, 10.5, 9.1, 10.1, 10.8, 10.8, 11.3, 9.6, 9.5, 9.5, 9.3, 11.7, 9.5, 9.3, 11.7, 10.5, 10.4, 9.9, 11.8, 12.3, 10.9, 11.0, 10.9, 12.3, 11.4, 10.6, 9.3, 10.4, 11.0, 9.2, 12.8, 9.5, 9.9, 9.5, 10.2, 11.2, 9.9, 9.3, 9.8, 11.3, 11.2, 11.6, 12.5, 10.1, 10.5, 11.2, 10.2, 10.8, 10.8, 9.1, 10.0, 11.2, 11.1, 13.4, 10.3, 9.6, 11.2, 9.0, 11.3, 9.3, 11.8, 9.0, 9.2, 9.7, 11.5, 14.0, 9.2, 9.8, 10.6, 11.4, 10.4, 10.6, 9.4, 10.2, 9.7, 11.0, 10.2, 10.1, 9.2, 11.7, 9.4, 9.4, 13.4, 10.0, 10.0, 10.0, 10.8, 10.2, 10.6, 13.3, 13.4, 11.6, 12.1, 11.0, 9.0, 11.1, 11.0, 11.6, 9.0, 12.0, 12.0, 10.9, 10.8, 12.5, 10.8, 9.5, 10.2, 11.4, 9.5, 10.2, 9.7, 11.8, 11.8, 9.3, 11.9, 8.4, 11.7, 11.0, 10.0, 9.1, 9.8, 9.4, 9.5, 9.9, 11.0, 11.4, 8.7, 9.4, 10.3, 10.3, 10.3, 12.8, 10.0, 10.3, 9.4, 10.7, 12.0, 11.2, 9.6, 11.0, 9.9, 11.0, 8.4, 9.1, 9.5, 10.7, 10.4, 9.4, 9.5, 10.0, 10.0, 11.5, 11.1, 11.1, 11.7, 11.1, 11.7, 12.7, 11.4, 9.2, 9.2, 10.1, 12.7, 11.4, 9.0, 9.0, 10.7, 11.7, 11.0, 11.7, 10.4, 9.6, 10.0, 10.2, 10.0, 9.5, 9.8, 9.8, 9.6, 9.6, 9.2, 9.9, 10.7, 9.6, 10.6, 9.3, 14.0, 10.5, 9.7, 11.5, 9.7, 9.0, 9.5, 9.3, 9.3, 10.0, 9.8, 9.3, 10.0, 9.0, 9.3, 9.0, 9.1, 9.2, 12.2, 10.5, 10.4, 12.7, 9.2, 9.4, 10.0, 9.8, 10.2, 9.7, 9.7, 9.8, 10.2, 9.3, 9.4, 9.4, 9.5, 12.1, 10.2, 10.2, 9.1, 9.1, 9.3, 9.3, 9.3, 9.5, 10.5, 11.3, 9.5, 9.7, 9.4, 9.4, 10.2, 10.3, 9.4, 9.5, 9.4, 9.5, 9.4, 10.1, 10.1, 11.0, 11.2, 11.3, 9.6, 11.2, 14.9, 12.0, 9.5, 9.4, 9.6, 10.5, 9.6, 11.0, 9.6, 9.0, 9.6, 10.2, 10.2, 9.7, 9.5, 9.2, 11.0, 9.2, 10.0, 9.5, 9.5, 9.5, 9.3, 10.2, 9.3, 9.9, 10.0, 9.6, 9.0, 10.2, 9.8, 11.3, 9.4, 11.3, 9.1, 9.7, 9.4, 9.4, 10.7, 9.8, 9.0, 9.4, 9.4, 12.8, 9.5, 9.5, 9.7, 10.8, 10.1, 9.5, 9.4, 9.6, 9.7, 9.9, 10.0, 10.5, 11.6, 10.0, 10.1, 9.5, 9.4, 9.4, 9.8, 9.2, 9.4, 10.0, 9.6, 9.5, 9.6, 9.2, 10.0, 9.5, 11.2, 10.4, 11.1, 9.5, 9.5, 12.7, 9.6, 11.5, 9.6, 9.5, 9.3, 9.5, 9.5, 9.3, 9.2, 9.3, 11.5, 9.5, 9.2, 10.0, 9.5, 9.5, 9.0, 9.4, 9.6, 9.5, 9.5, 9.5, 9.4, 9.5, 9.1, 10.7, 11.2, 9.8, 9.8, 9.2, 9.7, 9.6, 10.0, 9.6, 9.5, 9.5, 9.4, 9.5, 9.7, 9.6, 9.7, 9.4, 9.4, 9.5, 9.5, 10.0, 10.3, 10.3, 10.5, 9.8, 9.4, 9.8, 10.0, 9.8, 9.8, 9.5, 9.5, 10.1, 10.1, 9.3, 9.7, 9.6, 9.7, 10.8, 12.5, 10.2, 9.6, 10.8, 10.7, 10.7, 9.4, 10.0, 12.9, 9.6, 9.9, 12.8, 12.5, 12.8, 9.2, 10.3, 10.5, 10.9, 10.8, 11.4, 11.3, 10.8, 10.5, 11.9, 9.4, 9.6, 9.7, 14.0, 9.8, 9.8, 10.3, 10.7, 11.0, 10.7, 12.7, 11.1, 10.9, 11.1, 9.9, 9.9, 9.4, 9.3, 11.7, 11.7, 11.2, 10.0, 12.1, 10.3, 10.9, 9.4, 10.6, 9.8, 9.8, 9.9, 9.8, 9.8, 9.5, 9.5, 9.7, 10.9, 10.9, 11.7, 10.9, 11.3, 10.6, 11.2, 9.5, 11.5, 10.4, 9.7, 9.5, 9.7, 11.3, 11.2, 11.2, 10.9, 11.8, 10.6, 10.0, 11.1, 11.8, 11.8, 10.9, 11.8, 10.0, 9.5, 9.9, 11.4, 12.0, 9.5, 10.0, 10.5, 10.4, 12.1, 11.2, 9.3, 10.1, 9.7, 9.3, 9.7, 9.8, 10.7, 12.5, 10.7, 12.5, 11.0, 11.8, 10.8, 10.8, 10.8, 10.8, 9.5, 11.0, 11.5, 10.8, 11.5, 13.2, 10.9, 12.2, 12.2, 11.5, 11.9, 11.0, 10.1, 11.0, 11.8, 10.5, 11.0, 11.8, 10.1, 11.2, 11.0, 10.2, 9.2, 11.2, 12.0, 10.5, 9.8, 9.5, 9.8, 10.5, 11.8, 11.8, 10.4, 12.9, 11.4, 12.4, 12.5, 10.0, 9.7, 12.1, 11.1, 12.0, 12.4, 11.9, 11.9, 11.9, 12.4, 11.2, 12.1, 12.2, 10.4, 11.3, 11.1, 11.3, 10.0, 11.1, 9.3, 9.5, 11.2, 11.1, 11.0, 11.9, 9.2, 12.2, 10.2, 10.9, 10.9, 11.6, 10.7, 12.1, 9.4, 9.4, 9.1, 11.3, 10.4, 10.5, 10.0, 12.9, 10.5, 10.4, 11.3, 11.4, 9.4, 9.4, 10.9, 9.4, 9.4, 9.4, 9.4, 9.4, 10.1, 12.8, 12.8, 9.1, 12.9, 11.5, 10.6, 11.7, 12.8, 10.3, 12.8, 11.7, 11.7, 12.0, 10.9, 12.3, 10.4, 10.0, 10.0, 11.2, 11.4, 12.6, 12.7, 12.7, 10.4, 11.9, 11.9, 10.5, 12.3, 10.5, 10.4, 12.6, 11.6, 10.1, 10.5, 11.5, 11.0, 9.6, 10.4, 9.7, 10.6, 12.5, 9.2, 12.6, 11.1, 10.2, 9.8, 11.1, 10.9, 12.2, 11.4, 10.7, 10.4, 10.9, 10.8, 10.4, 9.2, 12.9, 12.7, 9.1, 9.1, 12.1, 9.1, 11.6, 12.1, 9.9, 12.5, 11.4, 11.8, 11.8, 10.2, 12.5, 10.9, 10.9, 10.8, 11.1, 9.2, 9.5, 10.7, 9.2, 10.2, 11.4, 11.0, 11.0, 12.3, 11.8, 12.3, 9.5, 12.0, 9.5, 9.6, 11.6, 11.2, 9.9, 9.9, 11.8, 11.4, 11.5, 12.0, 10.8, 10.5, 10.8, 9.4, 12.5, 9.4, 12.4, 12.0, 11.2, 12.0, 12.4, 12.8, 12.3, 11.7, 9.5, 10.8, 10.0, 12.3, 11.0, 9.5, 13.6, 11.3, 11.3, 11.3, 13.3, 12.9, 13.1, 12.3, 12.3, 11.2, 11.5, 11.3, 13.5, 11.5, 10.0, 10.5, 10.4, 9.5, 13.6, 11.2, 11.8, 11.9, 11.4, 11.4, 9.1, 9.5, 9.5, 11.0, 11.4, 10.0, 10.1, 10.4, 9.8, 11.8, 11.6, 12.0, 12.8, 12.5, 9.8, 11.1, 11.4, 9.8, 11.8, 12.9, 10.6, 10.8, 11.1, 10.2, 11.8, 10.0, 10.0, 9.4, 10.2, 12.4, 12.0, 11.5, 10.5, 10.8, 12.3, 9.5, 9.5, 11.5, 11.2, 12.7, 11.4, 11.0, 11.0, 11.4, 10.5, 9.3, 10.9, 11.9, 12.2, 11.9, 10.9, 9.6, 12.5, 10.8, 12.4, 10.8, 9.5, 9.5, 9.5, 9.8, 10.9, 9.5, 9.8, 11.2, 11.7, 9.4, 11.0, 11.0, 11.0, 10.0, 11.0, 11.2, 10.4, 9.3, 10.4, 10.5, 10.4, 11.3, 9.5, 12.0, 10.6, 10.9, 11.5, 11.5, 9.6, 12.0, 10.3, 9.4, 9.2, 9.6, 13.6, 9.5, 11.8, 10.8, 9.5, 9.3, 12.8, 11.5, 9.4, 12.8, 9.6, 11.8, 9.3, 9.8, 12.2, 9.5, 10.3, 10.5, 10.0, 10.5, 11.1, 10.9, 10.9, 9.8, 9.8, 9.5, 10.9, 11.0, 9.2, 11.0, 11.3, 11.3, 9.3, 11.2, 9.8, 9.6, 11.8, 10.3, 10.3, 11.4, 9.5, 14.0, 14.0, 11.7, 11.2, 9.3, 11.2, 9.5, 12.0, 9.7, 9.5, 11.5, 10.4, 10.4, 10.9, 10.2, 10.9, 10.5, 12.4, 13.0, 10.2, 10.2, 11.0, 10.9, 12.4, 9.7, 10.9, 9.5, 9.5, 12.1, 12.2, 10.9, 12.5, 11.7, 11.2, 11.2, 9.2, 9.8, 10.1, 11.1, 10.1, 9.2, 9.8, 12.8, 10.5, 10.1, 10.1, 9.8, 12.5, 11.9, 9.8, 9.1, 10.1, 12.5, 11.4, 11.0, 10.6, 10.6, 10.6, 10.6, 9.3, 9.8, 9.8, 9.2, 9.7, 9.6, 10.0, 12.6, 9.5, 9.5, 9.5, 10.5, 10.5, 10.5, 10.4, 10.5, 11.0, 10.2, 11.4, 9.5, 9.5, 10.8, 10.0, 11.8, 10.3, 10.3, 10.0, 10.1, 10.1, 11.1, 9.5, 10.03333333, 10.9, 10.1, 10.03333333, 9.8, 11.8, 9.5, 9.8, 10.5, 9.8, 10.4, 9.2, 11.6, 9.2, 9.3, 9.8, 9.9, 10.0, 12.2, 9.9, 10.8, 10.8, 9.6, 9.9, 9.9, 9.5, 9.2, 9.6, 9.6, 10.3, 9.7, 12.5, 11.0, 9.8, 10.2, 9.2, 9.55, 9.55, 9.9, 10.2, 11.1, 9.9, 9.9, 11.9, 10.0, 10.7, 11.3, 10.9, 10.7, 12.4, 10.7, 11.9, 10.6, 10.9, 10.1, 9.6, 9.4, 9.6, 12.1, 9.8, 9.9, 9.8, 9.4, 11.4, 11.0, 9.6, 9.6, 12.1, 11.2, 11.0, 11.3, 10.4, 9.9, 11.7, 10.1, 9.0, 9.0, 8.5, 11.1, 10.3, 11.06666667, 11.3, 9.566666667, 9.8, 11.7, 11.1, 9.6, 9.8, 9.7, 9.7, 11.3, 11.3, 11.0, 11.6, 9.0, 10.9, 10.9, 10.55, 9.0, 10.5, 11.9, 10.4, 10.0, 10.4, 10.8, 9.7, 9.7, 10.0, 11.0, 10.0, 9.7, 9.7, 12.6, 11.1, 11.0, 8.8, 13.56666667, 8.8, 13.6, 10.2, 10.6, 10.1, 10.6, 10.3, 10.7, 10.9, 9.7, 10.3, 10.6, 11.4, 10.8, 12.4, 11.4, 11.95, 9.7, 10.0, 10.6, 9.7, 11.5, 10.8, 11.5, 9.6, 9.4, 9.8, 11.0, 11.4, 9.95, 10.8, 11.4, 10.6, 11.1, 9.7, 9.8, 10.4, 10.5, 9.233333333, 9.25, 10.6, 10.3, 10.5, 10.2, 10.3, 9.05, 10.6, 10.4, 10.0, 9.7, 9.6, 10.8, 10.1, 10.2, 11.3, 10.2, 9.9, 9.0, 11.7, 9.7, 10.3, 10.2, 12.0, 9.9, 11.6, 10.9, 10.75, 10.4, 11.2, 10.1, 10.2, 12.1, 10.4, 11.4, 9.5, 9.4, 11.3, 9.4, 11.0, 10.55, 9.9, 11.0, 9.5, 9.9, 9.9, 9.9, 10.1, 10.1, 10.1, 10.9, 11.2, 10.1, 9.2, 11.5, 12.4, 11.1, 9.5, 12.5, 10.5, 11.8, 10.8, 11.9, 11.3, 11.3, 11.9, 11.3, 11.9, 9.8, 11.6, 11.5, 11.4, 10.9, 12.8, 9.2, 11.6, 11.6, 11.0, 9.5, 10.5, 11.2, 11.0, 10.2, 11.0], \"yaxis\": \"y\"}],\n",
              "                        {\"coloraxis\": {\"colorbar\": {\"title\": {\"text\": \"quality\"}}, \"colorscale\": [[0.0, \"#0d0887\"], [0.1111111111111111, \"#46039f\"], [0.2222222222222222, \"#7201a8\"], [0.3333333333333333, \"#9c179e\"], [0.4444444444444444, \"#bd3786\"], [0.5555555555555556, \"#d8576b\"], [0.6666666666666666, \"#ed7953\"], [0.7777777777777778, \"#fb9f3a\"], [0.8888888888888888, \"#fdca26\"], [1.0, \"#f0f921\"]]}, \"height\": 800, \"legend\": {\"itemsizing\": \"constant\", \"tracegroupgap\": 0}, \"template\": {\"data\": {\"bar\": [{\"error_x\": {\"color\": \"#2a3f5f\"}, \"error_y\": {\"color\": \"#2a3f5f\"}, \"marker\": {\"line\": {\"color\": \"#E5ECF6\", \"width\": 0.5}}, \"type\": \"bar\"}], \"barpolar\": [{\"marker\": {\"line\": {\"color\": \"#E5ECF6\", \"width\": 0.5}}, \"type\": \"barpolar\"}], \"carpet\": [{\"aaxis\": {\"endlinecolor\": \"#2a3f5f\", \"gridcolor\": \"white\", \"linecolor\": \"white\", \"minorgridcolor\": \"white\", \"startlinecolor\": \"#2a3f5f\"}, \"baxis\": {\"endlinecolor\": \"#2a3f5f\", \"gridcolor\": \"white\", \"linecolor\": \"white\", \"minorgridcolor\": \"white\", \"startlinecolor\": \"#2a3f5f\"}, \"type\": \"carpet\"}], \"choropleth\": [{\"colorbar\": {\"outlinewidth\": 0, \"ticks\": \"\"}, \"type\": \"choropleth\"}], \"contour\": [{\"colorbar\": {\"outlinewidth\": 0, \"ticks\": \"\"}, \"colorscale\": [[0.0, \"#0d0887\"], [0.1111111111111111, \"#46039f\"], [0.2222222222222222, \"#7201a8\"], [0.3333333333333333, \"#9c179e\"], [0.4444444444444444, \"#bd3786\"], [0.5555555555555556, \"#d8576b\"], [0.6666666666666666, \"#ed7953\"], [0.7777777777777778, \"#fb9f3a\"], [0.8888888888888888, \"#fdca26\"], [1.0, \"#f0f921\"]], \"type\": \"contour\"}], \"contourcarpet\": [{\"colorbar\": {\"outlinewidth\": 0, \"ticks\": \"\"}, \"type\": \"contourcarpet\"}], \"heatmap\": [{\"colorbar\": {\"outlinewidth\": 0, \"ticks\": \"\"}, \"colorscale\": [[0.0, \"#0d0887\"], [0.1111111111111111, \"#46039f\"], [0.2222222222222222, \"#7201a8\"], [0.3333333333333333, \"#9c179e\"], [0.4444444444444444, \"#bd3786\"], [0.5555555555555556, \"#d8576b\"], [0.6666666666666666, \"#ed7953\"], [0.7777777777777778, \"#fb9f3a\"], [0.8888888888888888, \"#fdca26\"], [1.0, \"#f0f921\"]], \"type\": \"heatmap\"}], \"heatmapgl\": [{\"colorbar\": {\"outlinewidth\": 0, \"ticks\": \"\"}, \"colorscale\": [[0.0, \"#0d0887\"], [0.1111111111111111, \"#46039f\"], [0.2222222222222222, \"#7201a8\"], [0.3333333333333333, \"#9c179e\"], [0.4444444444444444, \"#bd3786\"], [0.5555555555555556, \"#d8576b\"], [0.6666666666666666, \"#ed7953\"], [0.7777777777777778, \"#fb9f3a\"], [0.8888888888888888, \"#fdca26\"], [1.0, \"#f0f921\"]], \"type\": \"heatmapgl\"}], \"histogram\": [{\"marker\": {\"colorbar\": {\"outlinewidth\": 0, \"ticks\": \"\"}}, \"type\": \"histogram\"}], \"histogram2d\": [{\"colorbar\": {\"outlinewidth\": 0, \"ticks\": \"\"}, \"colorscale\": [[0.0, \"#0d0887\"], [0.1111111111111111, \"#46039f\"], [0.2222222222222222, \"#7201a8\"], [0.3333333333333333, \"#9c179e\"], [0.4444444444444444, \"#bd3786\"], [0.5555555555555556, \"#d8576b\"], [0.6666666666666666, \"#ed7953\"], [0.7777777777777778, \"#fb9f3a\"], [0.8888888888888888, \"#fdca26\"], [1.0, \"#f0f921\"]], \"type\": \"histogram2d\"}], \"histogram2dcontour\": [{\"colorbar\": {\"outlinewidth\": 0, \"ticks\": \"\"}, \"colorscale\": [[0.0, \"#0d0887\"], [0.1111111111111111, \"#46039f\"], [0.2222222222222222, \"#7201a8\"], [0.3333333333333333, \"#9c179e\"], [0.4444444444444444, \"#bd3786\"], [0.5555555555555556, \"#d8576b\"], [0.6666666666666666, \"#ed7953\"], [0.7777777777777778, \"#fb9f3a\"], [0.8888888888888888, \"#fdca26\"], [1.0, \"#f0f921\"]], \"type\": \"histogram2dcontour\"}], \"mesh3d\": [{\"colorbar\": {\"outlinewidth\": 0, \"ticks\": \"\"}, \"type\": \"mesh3d\"}], \"parcoords\": [{\"line\": {\"colorbar\": {\"outlinewidth\": 0, \"ticks\": \"\"}}, \"type\": \"parcoords\"}], \"pie\": [{\"automargin\": true, \"type\": \"pie\"}], \"scatter\": [{\"marker\": {\"colorbar\": {\"outlinewidth\": 0, \"ticks\": \"\"}}, \"type\": \"scatter\"}], \"scatter3d\": [{\"line\": {\"colorbar\": {\"outlinewidth\": 0, \"ticks\": \"\"}}, \"marker\": {\"colorbar\": {\"outlinewidth\": 0, \"ticks\": \"\"}}, \"type\": \"scatter3d\"}], \"scattercarpet\": [{\"marker\": {\"colorbar\": {\"outlinewidth\": 0, \"ticks\": \"\"}}, \"type\": \"scattercarpet\"}], \"scattergeo\": [{\"marker\": {\"colorbar\": {\"outlinewidth\": 0, \"ticks\": \"\"}}, \"type\": \"scattergeo\"}], \"scattergl\": [{\"marker\": {\"colorbar\": {\"outlinewidth\": 0, \"ticks\": \"\"}}, \"type\": \"scattergl\"}], \"scattermapbox\": [{\"marker\": {\"colorbar\": {\"outlinewidth\": 0, \"ticks\": \"\"}}, \"type\": \"scattermapbox\"}], \"scatterpolar\": [{\"marker\": {\"colorbar\": {\"outlinewidth\": 0, \"ticks\": \"\"}}, \"type\": \"scatterpolar\"}], \"scatterpolargl\": [{\"marker\": {\"colorbar\": {\"outlinewidth\": 0, \"ticks\": \"\"}}, \"type\": \"scatterpolargl\"}], \"scatterternary\": [{\"marker\": {\"colorbar\": {\"outlinewidth\": 0, \"ticks\": \"\"}}, \"type\": \"scatterternary\"}], \"surface\": [{\"colorbar\": {\"outlinewidth\": 0, \"ticks\": \"\"}, \"colorscale\": [[0.0, \"#0d0887\"], [0.1111111111111111, \"#46039f\"], [0.2222222222222222, \"#7201a8\"], [0.3333333333333333, \"#9c179e\"], [0.4444444444444444, \"#bd3786\"], [0.5555555555555556, \"#d8576b\"], [0.6666666666666666, \"#ed7953\"], [0.7777777777777778, \"#fb9f3a\"], [0.8888888888888888, \"#fdca26\"], [1.0, \"#f0f921\"]], \"type\": \"surface\"}], \"table\": [{\"cells\": {\"fill\": {\"color\": \"#EBF0F8\"}, \"line\": {\"color\": \"white\"}}, \"header\": {\"fill\": {\"color\": \"#C8D4E3\"}, \"line\": {\"color\": \"white\"}}, \"type\": \"table\"}]}, \"layout\": {\"annotationdefaults\": {\"arrowcolor\": \"#2a3f5f\", \"arrowhead\": 0, \"arrowwidth\": 1}, \"coloraxis\": {\"colorbar\": {\"outlinewidth\": 0, \"ticks\": \"\"}}, \"colorscale\": {\"diverging\": [[0, \"#8e0152\"], [0.1, \"#c51b7d\"], [0.2, \"#de77ae\"], [0.3, \"#f1b6da\"], [0.4, \"#fde0ef\"], [0.5, \"#f7f7f7\"], [0.6, \"#e6f5d0\"], [0.7, \"#b8e186\"], [0.8, \"#7fbc41\"], [0.9, \"#4d9221\"], [1, \"#276419\"]], \"sequential\": [[0.0, \"#0d0887\"], [0.1111111111111111, \"#46039f\"], [0.2222222222222222, \"#7201a8\"], [0.3333333333333333, \"#9c179e\"], [0.4444444444444444, \"#bd3786\"], [0.5555555555555556, \"#d8576b\"], [0.6666666666666666, \"#ed7953\"], [0.7777777777777778, \"#fb9f3a\"], [0.8888888888888888, \"#fdca26\"], [1.0, \"#f0f921\"]], \"sequentialminus\": [[0.0, \"#0d0887\"], [0.1111111111111111, \"#46039f\"], [0.2222222222222222, \"#7201a8\"], [0.3333333333333333, \"#9c179e\"], [0.4444444444444444, \"#bd3786\"], [0.5555555555555556, \"#d8576b\"], [0.6666666666666666, \"#ed7953\"], [0.7777777777777778, \"#fb9f3a\"], [0.8888888888888888, \"#fdca26\"], [1.0, \"#f0f921\"]]}, \"colorway\": [\"#636efa\", \"#EF553B\", \"#00cc96\", \"#ab63fa\", \"#FFA15A\", \"#19d3f3\", \"#FF6692\", \"#B6E880\", \"#FF97FF\", \"#FECB52\"], \"font\": {\"color\": \"#2a3f5f\"}, \"geo\": {\"bgcolor\": \"white\", \"lakecolor\": \"white\", \"landcolor\": \"#E5ECF6\", \"showlakes\": true, \"showland\": true, \"subunitcolor\": \"white\"}, \"hoverlabel\": {\"align\": \"left\"}, \"hovermode\": \"closest\", \"mapbox\": {\"style\": \"light\"}, \"paper_bgcolor\": \"white\", \"plot_bgcolor\": \"#E5ECF6\", \"polar\": {\"angularaxis\": {\"gridcolor\": \"white\", \"linecolor\": \"white\", \"ticks\": \"\"}, \"bgcolor\": \"#E5ECF6\", \"radialaxis\": {\"gridcolor\": \"white\", \"linecolor\": \"white\", \"ticks\": \"\"}}, \"scene\": {\"xaxis\": {\"backgroundcolor\": \"#E5ECF6\", \"gridcolor\": \"white\", \"gridwidth\": 2, \"linecolor\": \"white\", \"showbackground\": true, \"ticks\": \"\", \"zerolinecolor\": \"white\"}, \"yaxis\": {\"backgroundcolor\": \"#E5ECF6\", \"gridcolor\": \"white\", \"gridwidth\": 2, \"linecolor\": \"white\", \"showbackground\": true, \"ticks\": \"\", \"zerolinecolor\": \"white\"}, \"zaxis\": {\"backgroundcolor\": \"#E5ECF6\", \"gridcolor\": \"white\", \"gridwidth\": 2, \"linecolor\": \"white\", \"showbackground\": true, \"ticks\": \"\", \"zerolinecolor\": \"white\"}}, \"shapedefaults\": {\"line\": {\"color\": \"#2a3f5f\"}}, \"ternary\": {\"aaxis\": {\"gridcolor\": \"white\", \"linecolor\": \"white\", \"ticks\": \"\"}, \"baxis\": {\"gridcolor\": \"white\", \"linecolor\": \"white\", \"ticks\": \"\"}, \"bgcolor\": \"#E5ECF6\", \"caxis\": {\"gridcolor\": \"white\", \"linecolor\": \"white\", \"ticks\": \"\"}}, \"title\": {\"x\": 0.05}, \"xaxis\": {\"automargin\": true, \"gridcolor\": \"white\", \"linecolor\": \"white\", \"ticks\": \"\", \"title\": {\"standoff\": 15}, \"zerolinecolor\": \"white\", \"zerolinewidth\": 2}, \"yaxis\": {\"automargin\": true, \"gridcolor\": \"white\", \"linecolor\": \"white\", \"ticks\": \"\", \"title\": {\"standoff\": 15}, \"zerolinecolor\": \"white\", \"zerolinewidth\": 2}}}, \"title\": {\"text\": \"quality vs alcohol (0.44 corr)\"}, \"width\": 800, \"xaxis\": {\"anchor\": \"y\", \"domain\": [0.0, 1.0], \"title\": {\"text\": \"quality\"}}, \"yaxis\": {\"anchor\": \"x\", \"domain\": [0.0, 1.0], \"title\": {\"text\": \"alcohol\"}}},\n",
              "                        {\"responsive\": true}\n",
              "                    ).then(function(){\n",
              "                            \n",
              "var gd = document.getElementById('9fe7e498-9dd8-4f23-b6dc-b2f404ecb8f4');\n",
              "var x = new MutationObserver(function (mutations, observer) {{\n",
              "        var display = window.getComputedStyle(gd).display;\n",
              "        if (!display || display === 'none') {{\n",
              "            console.log([gd, 'removed!']);\n",
              "            Plotly.purge(gd);\n",
              "            observer.disconnect();\n",
              "        }}\n",
              "}});\n",
              "\n",
              "// Listen for the removal of the full notebook cells\n",
              "var notebookContainer = gd.closest('#notebook-container');\n",
              "if (notebookContainer) {{\n",
              "    x.observe(notebookContainer, {childList: true});\n",
              "}}\n",
              "\n",
              "// Listen for the clearing of the current output cell\n",
              "var outputEl = gd.closest('.output');\n",
              "if (outputEl) {{\n",
              "    x.observe(outputEl, {childList: true});\n",
              "}}\n",
              "\n",
              "                        })\n",
              "                };\n",
              "                \n",
              "            </script>\n",
              "        </div>\n",
              "</body>\n",
              "</html>"
            ]
          },
          "metadata": {
            "tags": []
          }
        }
      ]
    },
    {
      "cell_type": "markdown",
      "metadata": {
        "id": "yxkLHxhLClRx"
      },
      "source": [
        "### 4.5.2 Plotly with IpyWidgets"
      ]
    },
    {
      "cell_type": "code",
      "metadata": {
        "id": "qfxirgeq3PjF",
        "colab": {
          "base_uri": "https://localhost:8080/",
          "referenced_widgets": [
            "d9172e1dc3ac443d99fe174dc515fa81",
            "1a606ea9a00f4b7db5f46722f1446b3f",
            "8ac81dcb387a483e9319ecfd6702d68c",
            "eed61ccccbc445fdb2eed8ff517fef80",
            "5f4b176f4967442cb799f856f56240b7",
            "66aeffdcdf2e4b5bb368d11efd11b616",
            "1bac7ab9b9b34fa6a6340aad5094bb89",
            "883eb21ce80346159b6ecfb74ab87f33",
            "1dbec845da5749e9925c75e5d57ab20e",
            "6b185b61cade428b9c611e25fb5d1f27",
            "71a0f36d518946fdb3a530e909ede489",
            "d875a5522b4544c69047150e1cfa20ec",
            "d25274ecabcb493abe75f24235c8e41b",
            "905a961311b6413e81a986a59c0b99f1",
            "946b682e1c3d486c82332d3de7b91e34",
            "7613ae10c55c416b97f7a693055faeec"
          ]
        },
        "outputId": "18a05590-a28d-4734-ad74-2050dc093a5f"
      },
      "source": [
        "def my_plot(x=df.columns, y=df.columns, color=df.columns, size=df.columns):\n",
        "  corr = df.corr()\n",
        "  pearson = corr[x][y]\n",
        "  fig = px.scatter(df, x=x, y=y, color=color, size=size,\n",
        "                  title='{} vs {} ({:.2f} corr)'.format(x, y, pearson),\n",
        "                  width=800, height=800)\n",
        "  fig.show()\n",
        "interact(my_plot)"
      ],
      "execution_count": null,
      "outputs": [
        {
          "output_type": "display_data",
          "data": {
            "application/vnd.jupyter.widget-view+json": {
              "model_id": "d9172e1dc3ac443d99fe174dc515fa81",
              "version_minor": 0,
              "version_major": 2
            },
            "text/plain": [
              "interactive(children=(Dropdown(description='x', options=('type', 'fixed acidity', 'volatile acidity', 'citric …"
            ]
          },
          "metadata": {
            "tags": []
          }
        },
        {
          "output_type": "execute_result",
          "data": {
            "text/plain": [
              "<function __main__.my_plot>"
            ]
          },
          "metadata": {
            "tags": []
          },
          "execution_count": 63
        }
      ]
    },
    {
      "cell_type": "code",
      "metadata": {
        "id": "q3SHiY-e8rU2"
      },
      "source": [
        ""
      ],
      "execution_count": null,
      "outputs": []
    }
  ]
}